{
 "cells": [
  {
   "cell_type": "code",
   "execution_count": 1,
   "metadata": {},
   "outputs": [
    {
     "name": "stderr",
     "output_type": "stream",
     "text": [
      "C:\\Users\\Sid\\AppData\\Local\\Temp\\ipykernel_14840\\564061376.py:4: DeprecationWarning: \n",
      "Pyarrow will become a required dependency of pandas in the next major release of pandas (pandas 3.0),\n",
      "(to allow more performant data types, such as the Arrow string type, and better interoperability with other libraries)\n",
      "but was not found to be installed on your system.\n",
      "If this would cause problems for you,\n",
      "please provide us feedback at https://github.com/pandas-dev/pandas/issues/54466\n",
      "        \n",
      "  import pandas as pd\n"
     ]
    }
   ],
   "source": [
    "import tqdm\n",
    "import torch\n",
    "import wandb\n",
    "import pandas as pd\n",
    "from sklearn.preprocessing import LabelEncoder\n",
    "from sklearn.model_selection import train_test_split\n",
    "from peft import LoraConfig, get_peft_model, TaskType\n",
    "from torch.utils.data import TensorDataset, DataLoader\n",
    "from sklearn.metrics import accuracy_score, precision_score, recall_score\n",
    "from transformers import AutoModelForSequenceClassification, AutoTokenizer, AdamW"
   ]
  },
  {
   "cell_type": "code",
   "execution_count": 2,
   "metadata": {},
   "outputs": [
    {
     "name": "stderr",
     "output_type": "stream",
     "text": [
      "Failed to detect the name of this notebook, you can set it manually with the WANDB_NOTEBOOK_NAME environment variable to enable code saving.\n",
      "\u001b[34m\u001b[1mwandb\u001b[0m: Currently logged in as: \u001b[33msiddiqmoideen07\u001b[0m. Use \u001b[1m`wandb login --relogin`\u001b[0m to force relogin\n"
     ]
    },
    {
     "data": {
      "text/html": [
       "wandb version 0.17.1 is available!  To upgrade, please run:\n",
       " $ pip install wandb --upgrade"
      ],
      "text/plain": [
       "<IPython.core.display.HTML object>"
      ]
     },
     "metadata": {},
     "output_type": "display_data"
    },
    {
     "data": {
      "text/html": [
       "Tracking run with wandb version 0.16.2"
      ],
      "text/plain": [
       "<IPython.core.display.HTML object>"
      ]
     },
     "metadata": {},
     "output_type": "display_data"
    },
    {
     "data": {
      "text/html": [
       "Run data is saved locally in <code>t:\\OpenSourceContribution\\LMstuff\\modelTraining\\modelMobileBERT\\withLoRA\\wandb\\run-20240615_025415-v4zc1rqf</code>"
      ],
      "text/plain": [
       "<IPython.core.display.HTML object>"
      ]
     },
     "metadata": {},
     "output_type": "display_data"
    },
    {
     "data": {
      "text/html": [
       "Syncing run <strong><a href='https://wandb.ai/siddiqmoideen07/LoRA%20MobileBERT%20Model%20FineTuning%20Yo%21/runs/v4zc1rqf' target=\"_blank\">bumbling-sunset-12</a></strong> to <a href='https://wandb.ai/siddiqmoideen07/LoRA%20MobileBERT%20Model%20FineTuning%20Yo%21' target=\"_blank\">Weights & Biases</a> (<a href='https://wandb.me/run' target=\"_blank\">docs</a>)<br/>"
      ],
      "text/plain": [
       "<IPython.core.display.HTML object>"
      ]
     },
     "metadata": {},
     "output_type": "display_data"
    },
    {
     "data": {
      "text/html": [
       " View project at <a href='https://wandb.ai/siddiqmoideen07/LoRA%20MobileBERT%20Model%20FineTuning%20Yo%21' target=\"_blank\">https://wandb.ai/siddiqmoideen07/LoRA%20MobileBERT%20Model%20FineTuning%20Yo%21</a>"
      ],
      "text/plain": [
       "<IPython.core.display.HTML object>"
      ]
     },
     "metadata": {},
     "output_type": "display_data"
    },
    {
     "data": {
      "text/html": [
       " View run at <a href='https://wandb.ai/siddiqmoideen07/LoRA%20MobileBERT%20Model%20FineTuning%20Yo%21/runs/v4zc1rqf' target=\"_blank\">https://wandb.ai/siddiqmoideen07/LoRA%20MobileBERT%20Model%20FineTuning%20Yo%21/runs/v4zc1rqf</a>"
      ],
      "text/plain": [
       "<IPython.core.display.HTML object>"
      ]
     },
     "metadata": {},
     "output_type": "display_data"
    },
    {
     "data": {
      "text/html": [
       "<button onClick=\"this.nextSibling.style.display='block';this.style.display='none';\">Display W&B run</button><iframe src='https://wandb.ai/siddiqmoideen07/LoRA%20MobileBERT%20Model%20FineTuning%20Yo%21/runs/v4zc1rqf?jupyter=true' style='border:none;width:100%;height:420px;display:none;'></iframe>"
      ],
      "text/plain": [
       "<wandb.sdk.wandb_run.Run at 0x2b5d163cb50>"
      ]
     },
     "execution_count": 2,
     "metadata": {},
     "output_type": "execute_result"
    }
   ],
   "source": [
    "wandb.init(project=\"LoRA MobileBERT Model FineTuning Yo!\")"
   ]
  },
  {
   "cell_type": "code",
   "execution_count": 3,
   "metadata": {},
   "outputs": [
    {
     "data": {
      "text/html": [
       "<div>\n",
       "<style scoped>\n",
       "    .dataframe tbody tr th:only-of-type {\n",
       "        vertical-align: middle;\n",
       "    }\n",
       "\n",
       "    .dataframe tbody tr th {\n",
       "        vertical-align: top;\n",
       "    }\n",
       "\n",
       "    .dataframe thead th {\n",
       "        text-align: right;\n",
       "    }\n",
       "</style>\n",
       "<table border=\"1\" class=\"dataframe\">\n",
       "  <thead>\n",
       "    <tr style=\"text-align: right;\">\n",
       "      <th></th>\n",
       "      <th>OCR Contents</th>\n",
       "      <th>Category</th>\n",
       "    </tr>\n",
       "  </thead>\n",
       "  <tbody>\n",
       "    <tr>\n",
       "      <th>0</th>\n",
       "      <td>Invoice Number: INV0786Hotel Name: Spice Garde...</td>\n",
       "      <td>Food Category - Restaurant Bill/Receipt</td>\n",
       "    </tr>\n",
       "    <tr>\n",
       "      <th>1</th>\n",
       "      <td>Invoice No- DW/1112/851166\\n\\nInvoice Date : 2...</td>\n",
       "      <td>Travel Category - Flight Ticket</td>\n",
       "    </tr>\n",
       "    <tr>\n",
       "      <th>2</th>\n",
       "      <td>Hotel: Accor\\r\\nCity: Delhi\\r\\nNumber of Days:...</td>\n",
       "      <td>Miscellaneous Category - Miscellaneous Bills</td>\n",
       "    </tr>\n",
       "    <tr>\n",
       "      <th>3</th>\n",
       "      <td>FOOD INN FINE DINE\\nProprietor\\nPER =NNIA REST...</td>\n",
       "      <td>Food Category - Restaurant Bill/Receipt</td>\n",
       "    </tr>\n",
       "    <tr>\n",
       "      <th>4</th>\n",
       "      <td>= Confirmed Booking Id: NF20115276689422\\n\\nSU...</td>\n",
       "      <td>Travel Category - Flight Ticket</td>\n",
       "    </tr>\n",
       "    <tr>\n",
       "      <th>...</th>\n",
       "      <td>...</td>\n",
       "      <td>...</td>\n",
       "    </tr>\n",
       "    <tr>\n",
       "      <th>5161</th>\n",
       "      <td>Indiandit\\n\\nSERIAL SNA AUTONOBI\\n\\nr .A.B.Roa...</td>\n",
       "      <td>Fuel Category - Fuel Bill/Receipt</td>\n",
       "    </tr>\n",
       "    <tr>\n",
       "      <th>5162</th>\n",
       "      <td>Base Fare\\nDistance\\nTime\\n\\nSubtotal\\n\\nCHARG...</td>\n",
       "      <td>Travel Category - Cab Bill/Receipt</td>\n",
       "    </tr>\n",
       "    <tr>\n",
       "      <th>5163</th>\n",
       "      <td>Dear sanjay kumar,\\n\\nCongratdatons! Thark you...</td>\n",
       "      <td>Travel Category - Train Ticket</td>\n",
       "    </tr>\n",
       "    <tr>\n",
       "      <th>5164</th>\n",
       "      <td>Invoice Number: INV0780Hotel Name: Taste of It...</td>\n",
       "      <td>Food Category - Restaurant Bill/Receipt</td>\n",
       "    </tr>\n",
       "    <tr>\n",
       "      <th>5165</th>\n",
       "      <td>CURRENT Electronic Reservation Slip (ERS)-Norm...</td>\n",
       "      <td>Travel Category - Train Ticket</td>\n",
       "    </tr>\n",
       "  </tbody>\n",
       "</table>\n",
       "<p>5166 rows × 2 columns</p>\n",
       "</div>"
      ],
      "text/plain": [
       "                                           OCR Contents  \\\n",
       "0     Invoice Number: INV0786Hotel Name: Spice Garde...   \n",
       "1     Invoice No- DW/1112/851166\\n\\nInvoice Date : 2...   \n",
       "2     Hotel: Accor\\r\\nCity: Delhi\\r\\nNumber of Days:...   \n",
       "3     FOOD INN FINE DINE\\nProprietor\\nPER =NNIA REST...   \n",
       "4     = Confirmed Booking Id: NF20115276689422\\n\\nSU...   \n",
       "...                                                 ...   \n",
       "5161  Indiandit\\n\\nSERIAL SNA AUTONOBI\\n\\nr .A.B.Roa...   \n",
       "5162  Base Fare\\nDistance\\nTime\\n\\nSubtotal\\n\\nCHARG...   \n",
       "5163  Dear sanjay kumar,\\n\\nCongratdatons! Thark you...   \n",
       "5164  Invoice Number: INV0780Hotel Name: Taste of It...   \n",
       "5165  CURRENT Electronic Reservation Slip (ERS)-Norm...   \n",
       "\n",
       "                                          Category  \n",
       "0          Food Category - Restaurant Bill/Receipt  \n",
       "1                  Travel Category - Flight Ticket  \n",
       "2     Miscellaneous Category - Miscellaneous Bills  \n",
       "3          Food Category - Restaurant Bill/Receipt  \n",
       "4                  Travel Category - Flight Ticket  \n",
       "...                                            ...  \n",
       "5161             Fuel Category - Fuel Bill/Receipt  \n",
       "5162            Travel Category - Cab Bill/Receipt  \n",
       "5163                Travel Category - Train Ticket  \n",
       "5164       Food Category - Restaurant Bill/Receipt  \n",
       "5165                Travel Category - Train Ticket  \n",
       "\n",
       "[5166 rows x 2 columns]"
      ]
     },
     "execution_count": 3,
     "metadata": {},
     "output_type": "execute_result"
    }
   ],
   "source": [
    "dataStuff = pd.read_csv(\"../augmentedDataStuff.csv\")\n",
    "dataStuff"
   ]
  },
  {
   "cell_type": "code",
   "execution_count": 4,
   "metadata": {},
   "outputs": [
    {
     "data": {
      "text/plain": [
       "['Electronics Category - Electronic Gadgets Bill/Receipt',\n",
       " 'Travel Category - Cab Bill/Receipt',\n",
       " 'Travel Category - Flight Ticket',\n",
       " 'Food Category - Restaurant Bill/Receipt',\n",
       " 'Fuel Category - Fuel Bill/Receipt',\n",
       " 'Miscellaneous Category - Miscellaneous Bills',\n",
       " 'Room Stay Category - Stay Bill/Receipt',\n",
       " 'Travel Category - Train Ticket',\n",
       " 'Travel Category - Bus Ticket']"
      ]
     },
     "execution_count": 4,
     "metadata": {},
     "output_type": "execute_result"
    }
   ],
   "source": [
    "clsStuff = list(set(dataStuff[\"Category\"]))\n",
    "clsStuff"
   ]
  },
  {
   "cell_type": "code",
   "execution_count": 5,
   "metadata": {},
   "outputs": [
    {
     "data": {
      "text/plain": [
       "{'Electronics Category - Electronic Gadgets Bill/Receipt': 0,\n",
       " 'Travel Category - Cab Bill/Receipt': 6,\n",
       " 'Travel Category - Flight Ticket': 7,\n",
       " 'Food Category - Restaurant Bill/Receipt': 1,\n",
       " 'Fuel Category - Fuel Bill/Receipt': 2,\n",
       " 'Miscellaneous Category - Miscellaneous Bills': 3,\n",
       " 'Room Stay Category - Stay Bill/Receipt': 4,\n",
       " 'Travel Category - Train Ticket': 8,\n",
       " 'Travel Category - Bus Ticket': 5}"
      ]
     },
     "execution_count": 5,
     "metadata": {},
     "output_type": "execute_result"
    }
   ],
   "source": [
    "labelEncoder = LabelEncoder()\n",
    "labelEncoder.fit(clsStuff)\n",
    "clsDict = dict(zip(clsStuff, labelEncoder.transform(clsStuff)))\n",
    "clsDict"
   ]
  },
  {
   "cell_type": "code",
   "execution_count": 6,
   "metadata": {},
   "outputs": [],
   "source": [
    "numLabels = len(clsStuff)\n",
    "batchSize = 16\n",
    "learningRate = 2e-5\n",
    "epochs = 450"
   ]
  },
  {
   "cell_type": "code",
   "execution_count": 7,
   "metadata": {},
   "outputs": [
    {
     "data": {
      "text/plain": [
       "device(type='cuda')"
      ]
     },
     "execution_count": 7,
     "metadata": {},
     "output_type": "execute_result"
    }
   ],
   "source": [
    "device = torch.device(\"cuda\") if torch.cuda.is_available() else torch.device(\"cpu\")\n",
    "device"
   ]
  },
  {
   "cell_type": "code",
   "execution_count": 8,
   "metadata": {},
   "outputs": [
    {
     "name": "stderr",
     "output_type": "stream",
     "text": [
      "c:\\Users\\Sid\\AppData\\Local\\Programs\\Python\\Python39\\lib\\site-packages\\torch\\_utils.py:776: UserWarning: TypedStorage is deprecated. It will be removed in the future and UntypedStorage will be the only storage class. This should only matter to you if you are using storages directly.  To access UntypedStorage directly, use tensor.untyped_storage() instead of tensor.storage()\n",
      "  return self.fget.__get__(instance, owner)()\n",
      "Some weights of MobileBertForSequenceClassification were not initialized from the model checkpoint at google/mobilebert-uncased and are newly initialized: ['classifier.bias', 'classifier.weight']\n",
      "You should probably TRAIN this model on a down-stream task to be able to use it for predictions and inference.\n",
      "c:\\Users\\Sid\\AppData\\Local\\Programs\\Python\\Python39\\lib\\site-packages\\huggingface_hub\\file_download.py:1132: FutureWarning: `resume_download` is deprecated and will be removed in version 1.0.0. Downloads always resume when possible. If you want to force a new download, use `force_download=True`.\n",
      "  warnings.warn(\n"
     ]
    }
   ],
   "source": [
    "model = AutoModelForSequenceClassification.from_pretrained(\"google/mobilebert-uncased\", num_labels=numLabels).to(device)\n",
    "tokenizer = AutoTokenizer.from_pretrained(\"google/mobilebert-uncased\")"
   ]
  },
  {
   "cell_type": "code",
   "execution_count": 9,
   "metadata": {},
   "outputs": [
    {
     "data": {
      "text/plain": [
       "MobileBertConfig {\n",
       "  \"_name_or_path\": \"google/mobilebert-uncased\",\n",
       "  \"architectures\": [\n",
       "    \"MobileBertForPreTraining\"\n",
       "  ],\n",
       "  \"attention_probs_dropout_prob\": 0.1,\n",
       "  \"classifier_activation\": false,\n",
       "  \"classifier_dropout\": null,\n",
       "  \"embedding_size\": 128,\n",
       "  \"hidden_act\": \"relu\",\n",
       "  \"hidden_dropout_prob\": 0.0,\n",
       "  \"hidden_size\": 512,\n",
       "  \"id2label\": {\n",
       "    \"0\": \"LABEL_0\",\n",
       "    \"1\": \"LABEL_1\",\n",
       "    \"2\": \"LABEL_2\",\n",
       "    \"3\": \"LABEL_3\",\n",
       "    \"4\": \"LABEL_4\",\n",
       "    \"5\": \"LABEL_5\",\n",
       "    \"6\": \"LABEL_6\",\n",
       "    \"7\": \"LABEL_7\",\n",
       "    \"8\": \"LABEL_8\"\n",
       "  },\n",
       "  \"initializer_range\": 0.02,\n",
       "  \"intermediate_size\": 512,\n",
       "  \"intra_bottleneck_size\": 128,\n",
       "  \"key_query_shared_bottleneck\": true,\n",
       "  \"label2id\": {\n",
       "    \"LABEL_0\": 0,\n",
       "    \"LABEL_1\": 1,\n",
       "    \"LABEL_2\": 2,\n",
       "    \"LABEL_3\": 3,\n",
       "    \"LABEL_4\": 4,\n",
       "    \"LABEL_5\": 5,\n",
       "    \"LABEL_6\": 6,\n",
       "    \"LABEL_7\": 7,\n",
       "    \"LABEL_8\": 8\n",
       "  },\n",
       "  \"layer_norm_eps\": 1e-12,\n",
       "  \"max_position_embeddings\": 512,\n",
       "  \"model_type\": \"mobilebert\",\n",
       "  \"normalization_type\": \"no_norm\",\n",
       "  \"num_attention_heads\": 4,\n",
       "  \"num_feedforward_networks\": 4,\n",
       "  \"num_hidden_layers\": 24,\n",
       "  \"pad_token_id\": 0,\n",
       "  \"transformers_version\": \"4.41.2\",\n",
       "  \"trigram_input\": true,\n",
       "  \"true_hidden_size\": 128,\n",
       "  \"type_vocab_size\": 2,\n",
       "  \"use_bottleneck\": true,\n",
       "  \"use_bottleneck_attention\": false,\n",
       "  \"vocab_size\": 30522\n",
       "}"
      ]
     },
     "execution_count": 9,
     "metadata": {},
     "output_type": "execute_result"
    }
   ],
   "source": [
    "model.config"
   ]
  },
  {
   "cell_type": "code",
   "execution_count": 10,
   "metadata": {},
   "outputs": [],
   "source": [
    "loraConfig = LoraConfig(\n",
    "    r=64,\n",
    "    lora_alpha=32,\n",
    "    target_modules=[\"query\", \"value\"],\n",
    "    lora_dropout=0.05,\n",
    "    bias=\"none\",\n",
    "    task_type=TaskType.SEQ_CLS\n",
    ")"
   ]
  },
  {
   "cell_type": "code",
   "execution_count": 11,
   "metadata": {},
   "outputs": [
    {
     "name": "stdout",
     "output_type": "stream",
     "text": [
      "trainable params: 1,380,873 || all params: 25,967,378 || trainable%: 5.3177\n"
     ]
    }
   ],
   "source": [
    "model = get_peft_model(model, loraConfig)\n",
    "model.print_trainable_parameters()"
   ]
  },
  {
   "cell_type": "code",
   "execution_count": 12,
   "metadata": {},
   "outputs": [],
   "source": [
    "wandb.watch(model)\n",
    "wandb.config[\"learning_rate\"] = learningRate\n",
    "wandb.config[\"batch_size\"] = batchSize"
   ]
  },
  {
   "cell_type": "code",
   "execution_count": 13,
   "metadata": {},
   "outputs": [
    {
     "data": {
      "text/plain": [
       "4711    Hotel: Hilton Worldwide\\r\\nCity: Amritsar\\r\\nN...\n",
       "4184    goibibo sao\\n\\nFlight Ticket - Kolkata to Agar...\n",
       "1670    Category: Utilities\\r\\nItem: Internet Bill\\r\\n...\n",
       "99      Invoice Number: INV0810Hotel Name: The Hungry ...\n",
       "3592    Invoice Number: INV0953Hotel Name: Gourmet Pal...\n",
       "                              ...                        \n",
       "4426    Invoice Number: INV0558Hotel Name: The Hungry ...\n",
       "466     ticket ric 0: r07s220168 Gcleartrip\\n\\nBangalo...\n",
       "3092    Category: Shopping\\r\\nItem: Accessories\\r\\nAmo...\n",
       "3772    \" ‘\\n\\nSREP iy\\n\\nCHOKHI DHANI PALACE HOTEL\\n\\...\n",
       "860     Category: Healthcare\\r\\nItem: Medicines\\r\\nAmo...\n",
       "Name: OCR Contents, Length: 4132, dtype: object"
      ]
     },
     "execution_count": 13,
     "metadata": {},
     "output_type": "execute_result"
    }
   ],
   "source": [
    "trainData, valData = train_test_split(dataStuff, test_size=0.2, random_state=42)\n",
    "trainData['OCR Contents']"
   ]
  },
  {
   "cell_type": "code",
   "execution_count": 14,
   "metadata": {},
   "outputs": [],
   "source": [
    "def prepData(data):\n",
    "  train_inputs, train_masks, train_labels = [], [], []\n",
    "  for item, label in zip(data[\"OCR Contents\"], data[\"Category\"]):\n",
    "    text_content = item\n",
    "    encoded_data = tokenizer(text_content, padding=\"max_length\", truncation=True, max_length=512)\n",
    "    train_inputs.append(encoded_data[\"input_ids\"])\n",
    "    train_masks.append(encoded_data[\"attention_mask\"])\n",
    "    train_labels.append(label)\n",
    "  return train_inputs, train_masks, train_labels"
   ]
  },
  {
   "cell_type": "code",
   "execution_count": 15,
   "metadata": {},
   "outputs": [],
   "source": [
    "def labels2Encoding(labelStuff):\n",
    "    encodedLabels = labelEncoder.transform(labelStuff)\n",
    "    return encodedLabels"
   ]
  },
  {
   "cell_type": "code",
   "execution_count": 16,
   "metadata": {},
   "outputs": [],
   "source": [
    "trainInputs, trainMasks, trainLabels = prepData(trainData)\n",
    "valInputs, valMasks, valLabels = prepData(valData)"
   ]
  },
  {
   "cell_type": "code",
   "execution_count": 17,
   "metadata": {},
   "outputs": [
    {
     "data": {
      "text/plain": [
       "['Miscellaneous Category - Miscellaneous Bills',\n",
       " 'Travel Category - Bus Ticket',\n",
       " 'Miscellaneous Category - Miscellaneous Bills',\n",
       " 'Food Category - Restaurant Bill/Receipt',\n",
       " 'Food Category - Restaurant Bill/Receipt',\n",
       " 'Travel Category - Train Ticket',\n",
       " 'Miscellaneous Category - Miscellaneous Bills',\n",
       " 'Food Category - Restaurant Bill/Receipt',\n",
       " 'Room Stay Category - Stay Bill/Receipt',\n",
       " 'Miscellaneous Category - Miscellaneous Bills',\n",
       " 'Food Category - Restaurant Bill/Receipt',\n",
       " 'Miscellaneous Category - Miscellaneous Bills',\n",
       " 'Miscellaneous Category - Miscellaneous Bills',\n",
       " 'Miscellaneous Category - Miscellaneous Bills',\n",
       " 'Food Category - Restaurant Bill/Receipt',\n",
       " 'Miscellaneous Category - Miscellaneous Bills',\n",
       " 'Travel Category - Bus Ticket',\n",
       " 'Miscellaneous Category - Miscellaneous Bills',\n",
       " 'Travel Category - Flight Ticket',\n",
       " 'Food Category - Restaurant Bill/Receipt',\n",
       " 'Food Category - Restaurant Bill/Receipt',\n",
       " 'Travel Category - Train Ticket',\n",
       " 'Travel Category - Bus Ticket',\n",
       " 'Travel Category - Bus Ticket',\n",
       " 'Miscellaneous Category - Miscellaneous Bills',\n",
       " 'Food Category - Restaurant Bill/Receipt',\n",
       " 'Travel Category - Train Ticket',\n",
       " 'Food Category - Restaurant Bill/Receipt',\n",
       " 'Food Category - Restaurant Bill/Receipt',\n",
       " 'Miscellaneous Category - Miscellaneous Bills',\n",
       " 'Travel Category - Flight Ticket',\n",
       " 'Electronics Category - Electronic Gadgets Bill/Receipt',\n",
       " 'Miscellaneous Category - Miscellaneous Bills',\n",
       " 'Travel Category - Flight Ticket',\n",
       " 'Miscellaneous Category - Miscellaneous Bills',\n",
       " 'Travel Category - Bus Ticket',\n",
       " 'Electronics Category - Electronic Gadgets Bill/Receipt',\n",
       " 'Food Category - Restaurant Bill/Receipt',\n",
       " 'Miscellaneous Category - Miscellaneous Bills',\n",
       " 'Miscellaneous Category - Miscellaneous Bills',\n",
       " 'Food Category - Restaurant Bill/Receipt',\n",
       " 'Food Category - Restaurant Bill/Receipt',\n",
       " 'Miscellaneous Category - Miscellaneous Bills',\n",
       " 'Miscellaneous Category - Miscellaneous Bills',\n",
       " 'Miscellaneous Category - Miscellaneous Bills',\n",
       " 'Room Stay Category - Stay Bill/Receipt',\n",
       " 'Miscellaneous Category - Miscellaneous Bills',\n",
       " 'Fuel Category - Fuel Bill/Receipt',\n",
       " 'Food Category - Restaurant Bill/Receipt',\n",
       " 'Miscellaneous Category - Miscellaneous Bills',\n",
       " 'Miscellaneous Category - Miscellaneous Bills',\n",
       " 'Food Category - Restaurant Bill/Receipt',\n",
       " 'Electronics Category - Electronic Gadgets Bill/Receipt',\n",
       " 'Food Category - Restaurant Bill/Receipt',\n",
       " 'Food Category - Restaurant Bill/Receipt',\n",
       " 'Miscellaneous Category - Miscellaneous Bills',\n",
       " 'Miscellaneous Category - Miscellaneous Bills',\n",
       " 'Food Category - Restaurant Bill/Receipt',\n",
       " 'Room Stay Category - Stay Bill/Receipt',\n",
       " 'Food Category - Restaurant Bill/Receipt',\n",
       " 'Food Category - Restaurant Bill/Receipt',\n",
       " 'Miscellaneous Category - Miscellaneous Bills',\n",
       " 'Fuel Category - Fuel Bill/Receipt',\n",
       " 'Miscellaneous Category - Miscellaneous Bills',\n",
       " 'Food Category - Restaurant Bill/Receipt',\n",
       " 'Miscellaneous Category - Miscellaneous Bills',\n",
       " 'Food Category - Restaurant Bill/Receipt',\n",
       " 'Miscellaneous Category - Miscellaneous Bills',\n",
       " 'Travel Category - Flight Ticket',\n",
       " 'Food Category - Restaurant Bill/Receipt',\n",
       " 'Miscellaneous Category - Miscellaneous Bills',\n",
       " 'Miscellaneous Category - Miscellaneous Bills',\n",
       " 'Food Category - Restaurant Bill/Receipt',\n",
       " 'Miscellaneous Category - Miscellaneous Bills',\n",
       " 'Miscellaneous Category - Miscellaneous Bills',\n",
       " 'Miscellaneous Category - Miscellaneous Bills',\n",
       " 'Travel Category - Cab Bill/Receipt',\n",
       " 'Miscellaneous Category - Miscellaneous Bills',\n",
       " 'Food Category - Restaurant Bill/Receipt',\n",
       " 'Miscellaneous Category - Miscellaneous Bills',\n",
       " 'Miscellaneous Category - Miscellaneous Bills',\n",
       " 'Travel Category - Flight Ticket',\n",
       " 'Miscellaneous Category - Miscellaneous Bills',\n",
       " 'Miscellaneous Category - Miscellaneous Bills',\n",
       " 'Electronics Category - Electronic Gadgets Bill/Receipt',\n",
       " 'Food Category - Restaurant Bill/Receipt',\n",
       " 'Travel Category - Cab Bill/Receipt',\n",
       " 'Food Category - Restaurant Bill/Receipt',\n",
       " 'Electronics Category - Electronic Gadgets Bill/Receipt',\n",
       " 'Travel Category - Bus Ticket',\n",
       " 'Travel Category - Flight Ticket',\n",
       " 'Food Category - Restaurant Bill/Receipt',\n",
       " 'Miscellaneous Category - Miscellaneous Bills',\n",
       " 'Miscellaneous Category - Miscellaneous Bills',\n",
       " 'Miscellaneous Category - Miscellaneous Bills',\n",
       " 'Food Category - Restaurant Bill/Receipt',\n",
       " 'Fuel Category - Fuel Bill/Receipt',\n",
       " 'Food Category - Restaurant Bill/Receipt',\n",
       " 'Miscellaneous Category - Miscellaneous Bills',\n",
       " 'Food Category - Restaurant Bill/Receipt',\n",
       " 'Food Category - Restaurant Bill/Receipt',\n",
       " 'Travel Category - Bus Ticket',\n",
       " 'Travel Category - Flight Ticket',\n",
       " 'Food Category - Restaurant Bill/Receipt',\n",
       " 'Food Category - Restaurant Bill/Receipt',\n",
       " 'Food Category - Restaurant Bill/Receipt',\n",
       " 'Miscellaneous Category - Miscellaneous Bills',\n",
       " 'Food Category - Restaurant Bill/Receipt',\n",
       " 'Miscellaneous Category - Miscellaneous Bills',\n",
       " 'Travel Category - Cab Bill/Receipt',\n",
       " 'Miscellaneous Category - Miscellaneous Bills',\n",
       " 'Food Category - Restaurant Bill/Receipt',\n",
       " 'Food Category - Restaurant Bill/Receipt',\n",
       " 'Room Stay Category - Stay Bill/Receipt',\n",
       " 'Miscellaneous Category - Miscellaneous Bills',\n",
       " 'Miscellaneous Category - Miscellaneous Bills',\n",
       " 'Food Category - Restaurant Bill/Receipt',\n",
       " 'Travel Category - Flight Ticket',\n",
       " 'Travel Category - Train Ticket',\n",
       " 'Miscellaneous Category - Miscellaneous Bills',\n",
       " 'Miscellaneous Category - Miscellaneous Bills',\n",
       " 'Miscellaneous Category - Miscellaneous Bills',\n",
       " 'Travel Category - Flight Ticket',\n",
       " 'Miscellaneous Category - Miscellaneous Bills',\n",
       " 'Food Category - Restaurant Bill/Receipt',\n",
       " 'Travel Category - Train Ticket',\n",
       " 'Miscellaneous Category - Miscellaneous Bills',\n",
       " 'Food Category - Restaurant Bill/Receipt',\n",
       " 'Miscellaneous Category - Miscellaneous Bills',\n",
       " 'Miscellaneous Category - Miscellaneous Bills',\n",
       " 'Food Category - Restaurant Bill/Receipt',\n",
       " 'Miscellaneous Category - Miscellaneous Bills',\n",
       " 'Food Category - Restaurant Bill/Receipt',\n",
       " 'Electronics Category - Electronic Gadgets Bill/Receipt',\n",
       " 'Electronics Category - Electronic Gadgets Bill/Receipt',\n",
       " 'Travel Category - Flight Ticket',\n",
       " 'Travel Category - Bus Ticket',\n",
       " 'Miscellaneous Category - Miscellaneous Bills',\n",
       " 'Miscellaneous Category - Miscellaneous Bills',\n",
       " 'Miscellaneous Category - Miscellaneous Bills',\n",
       " 'Food Category - Restaurant Bill/Receipt',\n",
       " 'Miscellaneous Category - Miscellaneous Bills',\n",
       " 'Travel Category - Flight Ticket',\n",
       " 'Electronics Category - Electronic Gadgets Bill/Receipt',\n",
       " 'Miscellaneous Category - Miscellaneous Bills',\n",
       " 'Miscellaneous Category - Miscellaneous Bills',\n",
       " 'Travel Category - Train Ticket',\n",
       " 'Travel Category - Bus Ticket',\n",
       " 'Fuel Category - Fuel Bill/Receipt',\n",
       " 'Travel Category - Train Ticket',\n",
       " 'Miscellaneous Category - Miscellaneous Bills',\n",
       " 'Travel Category - Train Ticket',\n",
       " 'Travel Category - Train Ticket',\n",
       " 'Miscellaneous Category - Miscellaneous Bills',\n",
       " 'Room Stay Category - Stay Bill/Receipt',\n",
       " 'Miscellaneous Category - Miscellaneous Bills',\n",
       " 'Miscellaneous Category - Miscellaneous Bills',\n",
       " 'Miscellaneous Category - Miscellaneous Bills',\n",
       " 'Miscellaneous Category - Miscellaneous Bills',\n",
       " 'Travel Category - Flight Ticket',\n",
       " 'Miscellaneous Category - Miscellaneous Bills',\n",
       " 'Food Category - Restaurant Bill/Receipt',\n",
       " 'Miscellaneous Category - Miscellaneous Bills',\n",
       " 'Miscellaneous Category - Miscellaneous Bills',\n",
       " 'Travel Category - Flight Ticket',\n",
       " 'Miscellaneous Category - Miscellaneous Bills',\n",
       " 'Food Category - Restaurant Bill/Receipt',\n",
       " 'Travel Category - Flight Ticket',\n",
       " 'Fuel Category - Fuel Bill/Receipt',\n",
       " 'Miscellaneous Category - Miscellaneous Bills',\n",
       " 'Miscellaneous Category - Miscellaneous Bills',\n",
       " 'Food Category - Restaurant Bill/Receipt',\n",
       " 'Miscellaneous Category - Miscellaneous Bills',\n",
       " 'Food Category - Restaurant Bill/Receipt',\n",
       " 'Miscellaneous Category - Miscellaneous Bills',\n",
       " 'Fuel Category - Fuel Bill/Receipt',\n",
       " 'Food Category - Restaurant Bill/Receipt',\n",
       " 'Electronics Category - Electronic Gadgets Bill/Receipt',\n",
       " 'Food Category - Restaurant Bill/Receipt',\n",
       " 'Food Category - Restaurant Bill/Receipt',\n",
       " 'Food Category - Restaurant Bill/Receipt',\n",
       " 'Miscellaneous Category - Miscellaneous Bills',\n",
       " 'Miscellaneous Category - Miscellaneous Bills',\n",
       " 'Food Category - Restaurant Bill/Receipt',\n",
       " 'Miscellaneous Category - Miscellaneous Bills',\n",
       " 'Miscellaneous Category - Miscellaneous Bills',\n",
       " 'Electronics Category - Electronic Gadgets Bill/Receipt',\n",
       " 'Miscellaneous Category - Miscellaneous Bills',\n",
       " 'Food Category - Restaurant Bill/Receipt',\n",
       " 'Food Category - Restaurant Bill/Receipt',\n",
       " 'Miscellaneous Category - Miscellaneous Bills',\n",
       " 'Travel Category - Flight Ticket',\n",
       " 'Food Category - Restaurant Bill/Receipt',\n",
       " 'Travel Category - Train Ticket',\n",
       " 'Food Category - Restaurant Bill/Receipt',\n",
       " 'Food Category - Restaurant Bill/Receipt',\n",
       " 'Electronics Category - Electronic Gadgets Bill/Receipt',\n",
       " 'Food Category - Restaurant Bill/Receipt',\n",
       " 'Travel Category - Train Ticket',\n",
       " 'Miscellaneous Category - Miscellaneous Bills',\n",
       " 'Miscellaneous Category - Miscellaneous Bills',\n",
       " 'Food Category - Restaurant Bill/Receipt',\n",
       " 'Room Stay Category - Stay Bill/Receipt',\n",
       " 'Food Category - Restaurant Bill/Receipt',\n",
       " 'Miscellaneous Category - Miscellaneous Bills',\n",
       " 'Miscellaneous Category - Miscellaneous Bills',\n",
       " 'Miscellaneous Category - Miscellaneous Bills',\n",
       " 'Travel Category - Flight Ticket',\n",
       " 'Travel Category - Flight Ticket',\n",
       " 'Travel Category - Flight Ticket',\n",
       " 'Miscellaneous Category - Miscellaneous Bills',\n",
       " 'Travel Category - Flight Ticket',\n",
       " 'Food Category - Restaurant Bill/Receipt',\n",
       " 'Miscellaneous Category - Miscellaneous Bills',\n",
       " 'Electronics Category - Electronic Gadgets Bill/Receipt',\n",
       " 'Room Stay Category - Stay Bill/Receipt',\n",
       " 'Miscellaneous Category - Miscellaneous Bills',\n",
       " 'Miscellaneous Category - Miscellaneous Bills',\n",
       " 'Food Category - Restaurant Bill/Receipt',\n",
       " 'Miscellaneous Category - Miscellaneous Bills',\n",
       " 'Miscellaneous Category - Miscellaneous Bills',\n",
       " 'Miscellaneous Category - Miscellaneous Bills',\n",
       " 'Food Category - Restaurant Bill/Receipt',\n",
       " 'Miscellaneous Category - Miscellaneous Bills',\n",
       " 'Miscellaneous Category - Miscellaneous Bills',\n",
       " 'Miscellaneous Category - Miscellaneous Bills',\n",
       " 'Food Category - Restaurant Bill/Receipt',\n",
       " 'Food Category - Restaurant Bill/Receipt',\n",
       " 'Travel Category - Bus Ticket',\n",
       " 'Miscellaneous Category - Miscellaneous Bills',\n",
       " 'Travel Category - Flight Ticket',\n",
       " 'Food Category - Restaurant Bill/Receipt',\n",
       " 'Food Category - Restaurant Bill/Receipt',\n",
       " 'Food Category - Restaurant Bill/Receipt',\n",
       " 'Miscellaneous Category - Miscellaneous Bills',\n",
       " 'Room Stay Category - Stay Bill/Receipt',\n",
       " 'Miscellaneous Category - Miscellaneous Bills',\n",
       " 'Food Category - Restaurant Bill/Receipt',\n",
       " 'Food Category - Restaurant Bill/Receipt',\n",
       " 'Miscellaneous Category - Miscellaneous Bills',\n",
       " 'Travel Category - Train Ticket',\n",
       " 'Fuel Category - Fuel Bill/Receipt',\n",
       " 'Food Category - Restaurant Bill/Receipt',\n",
       " 'Room Stay Category - Stay Bill/Receipt',\n",
       " 'Miscellaneous Category - Miscellaneous Bills',\n",
       " 'Food Category - Restaurant Bill/Receipt',\n",
       " 'Food Category - Restaurant Bill/Receipt',\n",
       " 'Food Category - Restaurant Bill/Receipt',\n",
       " 'Fuel Category - Fuel Bill/Receipt',\n",
       " 'Travel Category - Cab Bill/Receipt',\n",
       " 'Food Category - Restaurant Bill/Receipt',\n",
       " 'Travel Category - Train Ticket',\n",
       " 'Miscellaneous Category - Miscellaneous Bills',\n",
       " 'Room Stay Category - Stay Bill/Receipt',\n",
       " 'Food Category - Restaurant Bill/Receipt',\n",
       " 'Food Category - Restaurant Bill/Receipt',\n",
       " 'Food Category - Restaurant Bill/Receipt',\n",
       " 'Food Category - Restaurant Bill/Receipt',\n",
       " 'Miscellaneous Category - Miscellaneous Bills',\n",
       " 'Miscellaneous Category - Miscellaneous Bills',\n",
       " 'Room Stay Category - Stay Bill/Receipt',\n",
       " 'Room Stay Category - Stay Bill/Receipt',\n",
       " 'Miscellaneous Category - Miscellaneous Bills',\n",
       " 'Food Category - Restaurant Bill/Receipt',\n",
       " 'Travel Category - Train Ticket',\n",
       " 'Miscellaneous Category - Miscellaneous Bills',\n",
       " 'Miscellaneous Category - Miscellaneous Bills',\n",
       " 'Food Category - Restaurant Bill/Receipt',\n",
       " 'Miscellaneous Category - Miscellaneous Bills',\n",
       " 'Miscellaneous Category - Miscellaneous Bills',\n",
       " 'Food Category - Restaurant Bill/Receipt',\n",
       " 'Food Category - Restaurant Bill/Receipt',\n",
       " 'Miscellaneous Category - Miscellaneous Bills',\n",
       " 'Fuel Category - Fuel Bill/Receipt',\n",
       " 'Electronics Category - Electronic Gadgets Bill/Receipt',\n",
       " 'Miscellaneous Category - Miscellaneous Bills',\n",
       " 'Electronics Category - Electronic Gadgets Bill/Receipt',\n",
       " 'Food Category - Restaurant Bill/Receipt',\n",
       " 'Miscellaneous Category - Miscellaneous Bills',\n",
       " 'Food Category - Restaurant Bill/Receipt',\n",
       " 'Miscellaneous Category - Miscellaneous Bills',\n",
       " 'Miscellaneous Category - Miscellaneous Bills',\n",
       " 'Miscellaneous Category - Miscellaneous Bills',\n",
       " 'Food Category - Restaurant Bill/Receipt',\n",
       " 'Travel Category - Cab Bill/Receipt',\n",
       " 'Travel Category - Flight Ticket',\n",
       " 'Room Stay Category - Stay Bill/Receipt',\n",
       " 'Miscellaneous Category - Miscellaneous Bills',\n",
       " 'Food Category - Restaurant Bill/Receipt',\n",
       " 'Food Category - Restaurant Bill/Receipt',\n",
       " 'Miscellaneous Category - Miscellaneous Bills',\n",
       " 'Miscellaneous Category - Miscellaneous Bills',\n",
       " 'Miscellaneous Category - Miscellaneous Bills',\n",
       " 'Travel Category - Train Ticket',\n",
       " 'Miscellaneous Category - Miscellaneous Bills',\n",
       " 'Food Category - Restaurant Bill/Receipt',\n",
       " 'Miscellaneous Category - Miscellaneous Bills',\n",
       " 'Travel Category - Train Ticket',\n",
       " 'Miscellaneous Category - Miscellaneous Bills',\n",
       " 'Miscellaneous Category - Miscellaneous Bills',\n",
       " 'Electronics Category - Electronic Gadgets Bill/Receipt',\n",
       " 'Travel Category - Train Ticket',\n",
       " 'Miscellaneous Category - Miscellaneous Bills',\n",
       " 'Food Category - Restaurant Bill/Receipt',\n",
       " 'Travel Category - Train Ticket',\n",
       " 'Food Category - Restaurant Bill/Receipt',\n",
       " 'Food Category - Restaurant Bill/Receipt',\n",
       " 'Room Stay Category - Stay Bill/Receipt',\n",
       " 'Travel Category - Train Ticket',\n",
       " 'Miscellaneous Category - Miscellaneous Bills',\n",
       " 'Miscellaneous Category - Miscellaneous Bills',\n",
       " 'Miscellaneous Category - Miscellaneous Bills',\n",
       " 'Miscellaneous Category - Miscellaneous Bills',\n",
       " 'Food Category - Restaurant Bill/Receipt',\n",
       " 'Food Category - Restaurant Bill/Receipt',\n",
       " 'Food Category - Restaurant Bill/Receipt',\n",
       " 'Miscellaneous Category - Miscellaneous Bills',\n",
       " 'Miscellaneous Category - Miscellaneous Bills',\n",
       " 'Food Category - Restaurant Bill/Receipt',\n",
       " 'Miscellaneous Category - Miscellaneous Bills',\n",
       " 'Room Stay Category - Stay Bill/Receipt',\n",
       " 'Miscellaneous Category - Miscellaneous Bills',\n",
       " 'Food Category - Restaurant Bill/Receipt',\n",
       " 'Miscellaneous Category - Miscellaneous Bills',\n",
       " 'Travel Category - Bus Ticket',\n",
       " 'Electronics Category - Electronic Gadgets Bill/Receipt',\n",
       " 'Food Category - Restaurant Bill/Receipt',\n",
       " 'Food Category - Restaurant Bill/Receipt',\n",
       " 'Travel Category - Flight Ticket',\n",
       " 'Food Category - Restaurant Bill/Receipt',\n",
       " 'Miscellaneous Category - Miscellaneous Bills',\n",
       " 'Miscellaneous Category - Miscellaneous Bills',\n",
       " 'Miscellaneous Category - Miscellaneous Bills',\n",
       " 'Food Category - Restaurant Bill/Receipt',\n",
       " 'Miscellaneous Category - Miscellaneous Bills',\n",
       " 'Travel Category - Bus Ticket',\n",
       " 'Electronics Category - Electronic Gadgets Bill/Receipt',\n",
       " 'Fuel Category - Fuel Bill/Receipt',\n",
       " 'Miscellaneous Category - Miscellaneous Bills',\n",
       " 'Miscellaneous Category - Miscellaneous Bills',\n",
       " 'Food Category - Restaurant Bill/Receipt',\n",
       " 'Miscellaneous Category - Miscellaneous Bills',\n",
       " 'Miscellaneous Category - Miscellaneous Bills',\n",
       " 'Miscellaneous Category - Miscellaneous Bills',\n",
       " 'Miscellaneous Category - Miscellaneous Bills',\n",
       " 'Food Category - Restaurant Bill/Receipt',\n",
       " 'Food Category - Restaurant Bill/Receipt',\n",
       " 'Miscellaneous Category - Miscellaneous Bills',\n",
       " 'Miscellaneous Category - Miscellaneous Bills',\n",
       " 'Travel Category - Train Ticket',\n",
       " 'Travel Category - Cab Bill/Receipt',\n",
       " 'Food Category - Restaurant Bill/Receipt',\n",
       " 'Miscellaneous Category - Miscellaneous Bills',\n",
       " 'Fuel Category - Fuel Bill/Receipt',\n",
       " 'Miscellaneous Category - Miscellaneous Bills',\n",
       " 'Room Stay Category - Stay Bill/Receipt',\n",
       " 'Miscellaneous Category - Miscellaneous Bills',\n",
       " 'Electronics Category - Electronic Gadgets Bill/Receipt',\n",
       " 'Miscellaneous Category - Miscellaneous Bills',\n",
       " 'Food Category - Restaurant Bill/Receipt',\n",
       " 'Miscellaneous Category - Miscellaneous Bills',\n",
       " 'Miscellaneous Category - Miscellaneous Bills',\n",
       " 'Travel Category - Flight Ticket',\n",
       " 'Miscellaneous Category - Miscellaneous Bills',\n",
       " 'Food Category - Restaurant Bill/Receipt',\n",
       " 'Food Category - Restaurant Bill/Receipt',\n",
       " 'Food Category - Restaurant Bill/Receipt',\n",
       " 'Food Category - Restaurant Bill/Receipt',\n",
       " 'Miscellaneous Category - Miscellaneous Bills',\n",
       " 'Travel Category - Train Ticket',\n",
       " 'Food Category - Restaurant Bill/Receipt',\n",
       " 'Food Category - Restaurant Bill/Receipt',\n",
       " 'Miscellaneous Category - Miscellaneous Bills',\n",
       " 'Food Category - Restaurant Bill/Receipt',\n",
       " 'Food Category - Restaurant Bill/Receipt',\n",
       " 'Food Category - Restaurant Bill/Receipt',\n",
       " 'Miscellaneous Category - Miscellaneous Bills',\n",
       " 'Food Category - Restaurant Bill/Receipt',\n",
       " 'Miscellaneous Category - Miscellaneous Bills',\n",
       " 'Travel Category - Train Ticket',\n",
       " 'Miscellaneous Category - Miscellaneous Bills',\n",
       " 'Food Category - Restaurant Bill/Receipt',\n",
       " 'Food Category - Restaurant Bill/Receipt',\n",
       " 'Food Category - Restaurant Bill/Receipt',\n",
       " 'Miscellaneous Category - Miscellaneous Bills',\n",
       " 'Miscellaneous Category - Miscellaneous Bills',\n",
       " 'Electronics Category - Electronic Gadgets Bill/Receipt',\n",
       " 'Travel Category - Train Ticket',\n",
       " 'Room Stay Category - Stay Bill/Receipt',\n",
       " 'Food Category - Restaurant Bill/Receipt',\n",
       " 'Miscellaneous Category - Miscellaneous Bills',\n",
       " 'Travel Category - Train Ticket',\n",
       " 'Food Category - Restaurant Bill/Receipt',\n",
       " 'Food Category - Restaurant Bill/Receipt',\n",
       " 'Food Category - Restaurant Bill/Receipt',\n",
       " 'Miscellaneous Category - Miscellaneous Bills',\n",
       " 'Travel Category - Bus Ticket',\n",
       " 'Miscellaneous Category - Miscellaneous Bills',\n",
       " 'Miscellaneous Category - Miscellaneous Bills',\n",
       " 'Miscellaneous Category - Miscellaneous Bills',\n",
       " 'Travel Category - Bus Ticket',\n",
       " 'Food Category - Restaurant Bill/Receipt',\n",
       " 'Food Category - Restaurant Bill/Receipt',\n",
       " 'Electronics Category - Electronic Gadgets Bill/Receipt',\n",
       " 'Miscellaneous Category - Miscellaneous Bills',\n",
       " 'Miscellaneous Category - Miscellaneous Bills',\n",
       " 'Miscellaneous Category - Miscellaneous Bills',\n",
       " 'Electronics Category - Electronic Gadgets Bill/Receipt',\n",
       " 'Miscellaneous Category - Miscellaneous Bills',\n",
       " 'Food Category - Restaurant Bill/Receipt',\n",
       " 'Food Category - Restaurant Bill/Receipt',\n",
       " 'Miscellaneous Category - Miscellaneous Bills',\n",
       " 'Travel Category - Train Ticket',\n",
       " 'Miscellaneous Category - Miscellaneous Bills',\n",
       " 'Miscellaneous Category - Miscellaneous Bills',\n",
       " 'Miscellaneous Category - Miscellaneous Bills',\n",
       " 'Miscellaneous Category - Miscellaneous Bills',\n",
       " 'Miscellaneous Category - Miscellaneous Bills',\n",
       " 'Miscellaneous Category - Miscellaneous Bills',\n",
       " 'Travel Category - Flight Ticket',\n",
       " 'Miscellaneous Category - Miscellaneous Bills',\n",
       " 'Food Category - Restaurant Bill/Receipt',\n",
       " 'Food Category - Restaurant Bill/Receipt',\n",
       " 'Electronics Category - Electronic Gadgets Bill/Receipt',\n",
       " 'Travel Category - Flight Ticket',\n",
       " 'Food Category - Restaurant Bill/Receipt',\n",
       " 'Travel Category - Bus Ticket',\n",
       " 'Food Category - Restaurant Bill/Receipt',\n",
       " 'Food Category - Restaurant Bill/Receipt',\n",
       " 'Fuel Category - Fuel Bill/Receipt',\n",
       " 'Miscellaneous Category - Miscellaneous Bills',\n",
       " 'Miscellaneous Category - Miscellaneous Bills',\n",
       " 'Travel Category - Bus Ticket',\n",
       " 'Travel Category - Cab Bill/Receipt',\n",
       " 'Miscellaneous Category - Miscellaneous Bills',\n",
       " 'Travel Category - Train Ticket',\n",
       " 'Food Category - Restaurant Bill/Receipt',\n",
       " 'Miscellaneous Category - Miscellaneous Bills',\n",
       " 'Electronics Category - Electronic Gadgets Bill/Receipt',\n",
       " 'Miscellaneous Category - Miscellaneous Bills',\n",
       " 'Miscellaneous Category - Miscellaneous Bills',\n",
       " 'Miscellaneous Category - Miscellaneous Bills',\n",
       " 'Miscellaneous Category - Miscellaneous Bills',\n",
       " 'Miscellaneous Category - Miscellaneous Bills',\n",
       " 'Travel Category - Train Ticket',\n",
       " 'Miscellaneous Category - Miscellaneous Bills',\n",
       " 'Food Category - Restaurant Bill/Receipt',\n",
       " 'Travel Category - Flight Ticket',\n",
       " 'Food Category - Restaurant Bill/Receipt',\n",
       " 'Food Category - Restaurant Bill/Receipt',\n",
       " 'Miscellaneous Category - Miscellaneous Bills',\n",
       " 'Room Stay Category - Stay Bill/Receipt',\n",
       " 'Miscellaneous Category - Miscellaneous Bills',\n",
       " 'Room Stay Category - Stay Bill/Receipt',\n",
       " 'Miscellaneous Category - Miscellaneous Bills',\n",
       " 'Miscellaneous Category - Miscellaneous Bills',\n",
       " 'Food Category - Restaurant Bill/Receipt',\n",
       " 'Miscellaneous Category - Miscellaneous Bills',\n",
       " 'Fuel Category - Fuel Bill/Receipt',\n",
       " 'Miscellaneous Category - Miscellaneous Bills',\n",
       " 'Miscellaneous Category - Miscellaneous Bills',\n",
       " 'Fuel Category - Fuel Bill/Receipt',\n",
       " 'Electronics Category - Electronic Gadgets Bill/Receipt',\n",
       " 'Travel Category - Train Ticket',\n",
       " 'Miscellaneous Category - Miscellaneous Bills',\n",
       " 'Food Category - Restaurant Bill/Receipt',\n",
       " 'Travel Category - Flight Ticket',\n",
       " 'Miscellaneous Category - Miscellaneous Bills',\n",
       " 'Miscellaneous Category - Miscellaneous Bills',\n",
       " 'Miscellaneous Category - Miscellaneous Bills',\n",
       " 'Miscellaneous Category - Miscellaneous Bills',\n",
       " 'Miscellaneous Category - Miscellaneous Bills',\n",
       " 'Miscellaneous Category - Miscellaneous Bills',\n",
       " 'Electronics Category - Electronic Gadgets Bill/Receipt',\n",
       " 'Travel Category - Flight Ticket',\n",
       " 'Fuel Category - Fuel Bill/Receipt',\n",
       " 'Food Category - Restaurant Bill/Receipt',\n",
       " 'Food Category - Restaurant Bill/Receipt',\n",
       " 'Food Category - Restaurant Bill/Receipt',\n",
       " 'Miscellaneous Category - Miscellaneous Bills',\n",
       " 'Electronics Category - Electronic Gadgets Bill/Receipt',\n",
       " 'Miscellaneous Category - Miscellaneous Bills',\n",
       " 'Miscellaneous Category - Miscellaneous Bills',\n",
       " 'Food Category - Restaurant Bill/Receipt',\n",
       " 'Travel Category - Cab Bill/Receipt',\n",
       " 'Miscellaneous Category - Miscellaneous Bills',\n",
       " 'Food Category - Restaurant Bill/Receipt',\n",
       " 'Electronics Category - Electronic Gadgets Bill/Receipt',\n",
       " 'Food Category - Restaurant Bill/Receipt',\n",
       " 'Food Category - Restaurant Bill/Receipt',\n",
       " 'Miscellaneous Category - Miscellaneous Bills',\n",
       " 'Food Category - Restaurant Bill/Receipt',\n",
       " 'Food Category - Restaurant Bill/Receipt',\n",
       " 'Electronics Category - Electronic Gadgets Bill/Receipt',\n",
       " 'Electronics Category - Electronic Gadgets Bill/Receipt',\n",
       " 'Food Category - Restaurant Bill/Receipt',\n",
       " 'Food Category - Restaurant Bill/Receipt',\n",
       " 'Food Category - Restaurant Bill/Receipt',\n",
       " 'Miscellaneous Category - Miscellaneous Bills',\n",
       " 'Miscellaneous Category - Miscellaneous Bills',\n",
       " 'Food Category - Restaurant Bill/Receipt',\n",
       " 'Travel Category - Train Ticket',\n",
       " 'Food Category - Restaurant Bill/Receipt',\n",
       " 'Food Category - Restaurant Bill/Receipt',\n",
       " 'Food Category - Restaurant Bill/Receipt',\n",
       " 'Miscellaneous Category - Miscellaneous Bills',\n",
       " 'Food Category - Restaurant Bill/Receipt',\n",
       " 'Food Category - Restaurant Bill/Receipt',\n",
       " 'Food Category - Restaurant Bill/Receipt',\n",
       " 'Food Category - Restaurant Bill/Receipt',\n",
       " 'Miscellaneous Category - Miscellaneous Bills',\n",
       " 'Food Category - Restaurant Bill/Receipt',\n",
       " 'Miscellaneous Category - Miscellaneous Bills',\n",
       " 'Miscellaneous Category - Miscellaneous Bills',\n",
       " 'Miscellaneous Category - Miscellaneous Bills',\n",
       " 'Miscellaneous Category - Miscellaneous Bills',\n",
       " 'Travel Category - Flight Ticket',\n",
       " 'Miscellaneous Category - Miscellaneous Bills',\n",
       " 'Travel Category - Flight Ticket',\n",
       " 'Room Stay Category - Stay Bill/Receipt',\n",
       " 'Electronics Category - Electronic Gadgets Bill/Receipt',\n",
       " 'Miscellaneous Category - Miscellaneous Bills',\n",
       " 'Travel Category - Flight Ticket',\n",
       " 'Miscellaneous Category - Miscellaneous Bills',\n",
       " 'Travel Category - Flight Ticket',\n",
       " 'Room Stay Category - Stay Bill/Receipt',\n",
       " 'Electronics Category - Electronic Gadgets Bill/Receipt',\n",
       " 'Travel Category - Train Ticket',\n",
       " 'Travel Category - Bus Ticket',\n",
       " 'Miscellaneous Category - Miscellaneous Bills',\n",
       " 'Miscellaneous Category - Miscellaneous Bills',\n",
       " 'Miscellaneous Category - Miscellaneous Bills',\n",
       " 'Miscellaneous Category - Miscellaneous Bills',\n",
       " 'Miscellaneous Category - Miscellaneous Bills',\n",
       " 'Miscellaneous Category - Miscellaneous Bills',\n",
       " 'Travel Category - Train Ticket',\n",
       " 'Miscellaneous Category - Miscellaneous Bills',\n",
       " 'Miscellaneous Category - Miscellaneous Bills',\n",
       " 'Travel Category - Bus Ticket',\n",
       " 'Food Category - Restaurant Bill/Receipt',\n",
       " 'Food Category - Restaurant Bill/Receipt',\n",
       " 'Food Category - Restaurant Bill/Receipt',\n",
       " 'Travel Category - Cab Bill/Receipt',\n",
       " 'Miscellaneous Category - Miscellaneous Bills',\n",
       " 'Electronics Category - Electronic Gadgets Bill/Receipt',\n",
       " 'Miscellaneous Category - Miscellaneous Bills',\n",
       " 'Electronics Category - Electronic Gadgets Bill/Receipt',\n",
       " 'Food Category - Restaurant Bill/Receipt',\n",
       " 'Electronics Category - Electronic Gadgets Bill/Receipt',\n",
       " 'Miscellaneous Category - Miscellaneous Bills',\n",
       " 'Food Category - Restaurant Bill/Receipt',\n",
       " 'Miscellaneous Category - Miscellaneous Bills',\n",
       " 'Travel Category - Train Ticket',\n",
       " 'Miscellaneous Category - Miscellaneous Bills',\n",
       " 'Food Category - Restaurant Bill/Receipt',\n",
       " 'Miscellaneous Category - Miscellaneous Bills',\n",
       " 'Food Category - Restaurant Bill/Receipt',\n",
       " 'Electronics Category - Electronic Gadgets Bill/Receipt',\n",
       " 'Electronics Category - Electronic Gadgets Bill/Receipt',\n",
       " 'Travel Category - Train Ticket',\n",
       " 'Food Category - Restaurant Bill/Receipt',\n",
       " 'Travel Category - Bus Ticket',\n",
       " 'Food Category - Restaurant Bill/Receipt',\n",
       " 'Food Category - Restaurant Bill/Receipt',\n",
       " 'Miscellaneous Category - Miscellaneous Bills',\n",
       " 'Food Category - Restaurant Bill/Receipt',\n",
       " 'Miscellaneous Category - Miscellaneous Bills',\n",
       " 'Food Category - Restaurant Bill/Receipt',\n",
       " 'Miscellaneous Category - Miscellaneous Bills',\n",
       " 'Miscellaneous Category - Miscellaneous Bills',\n",
       " 'Miscellaneous Category - Miscellaneous Bills',\n",
       " 'Miscellaneous Category - Miscellaneous Bills',\n",
       " 'Travel Category - Bus Ticket',\n",
       " 'Food Category - Restaurant Bill/Receipt',\n",
       " 'Food Category - Restaurant Bill/Receipt',\n",
       " 'Food Category - Restaurant Bill/Receipt',\n",
       " 'Miscellaneous Category - Miscellaneous Bills',\n",
       " 'Electronics Category - Electronic Gadgets Bill/Receipt',\n",
       " 'Food Category - Restaurant Bill/Receipt',\n",
       " 'Miscellaneous Category - Miscellaneous Bills',\n",
       " 'Food Category - Restaurant Bill/Receipt',\n",
       " 'Travel Category - Bus Ticket',\n",
       " 'Electronics Category - Electronic Gadgets Bill/Receipt',\n",
       " 'Miscellaneous Category - Miscellaneous Bills',\n",
       " 'Miscellaneous Category - Miscellaneous Bills',\n",
       " 'Food Category - Restaurant Bill/Receipt',\n",
       " 'Travel Category - Flight Ticket',\n",
       " 'Miscellaneous Category - Miscellaneous Bills',\n",
       " 'Miscellaneous Category - Miscellaneous Bills',\n",
       " 'Electronics Category - Electronic Gadgets Bill/Receipt',\n",
       " 'Miscellaneous Category - Miscellaneous Bills',\n",
       " 'Food Category - Restaurant Bill/Receipt',\n",
       " 'Food Category - Restaurant Bill/Receipt',\n",
       " 'Miscellaneous Category - Miscellaneous Bills',\n",
       " 'Travel Category - Bus Ticket',\n",
       " 'Miscellaneous Category - Miscellaneous Bills',\n",
       " 'Food Category - Restaurant Bill/Receipt',\n",
       " 'Travel Category - Flight Ticket',\n",
       " 'Food Category - Restaurant Bill/Receipt',\n",
       " 'Travel Category - Bus Ticket',\n",
       " 'Travel Category - Bus Ticket',\n",
       " 'Fuel Category - Fuel Bill/Receipt',\n",
       " 'Fuel Category - Fuel Bill/Receipt',\n",
       " 'Miscellaneous Category - Miscellaneous Bills',\n",
       " 'Miscellaneous Category - Miscellaneous Bills',\n",
       " 'Food Category - Restaurant Bill/Receipt',\n",
       " 'Travel Category - Bus Ticket',\n",
       " 'Travel Category - Train Ticket',\n",
       " 'Miscellaneous Category - Miscellaneous Bills',\n",
       " 'Food Category - Restaurant Bill/Receipt',\n",
       " 'Miscellaneous Category - Miscellaneous Bills',\n",
       " 'Travel Category - Flight Ticket',\n",
       " 'Electronics Category - Electronic Gadgets Bill/Receipt',\n",
       " 'Miscellaneous Category - Miscellaneous Bills',\n",
       " 'Fuel Category - Fuel Bill/Receipt',\n",
       " 'Food Category - Restaurant Bill/Receipt',\n",
       " 'Miscellaneous Category - Miscellaneous Bills',\n",
       " 'Travel Category - Flight Ticket',\n",
       " 'Miscellaneous Category - Miscellaneous Bills',\n",
       " 'Food Category - Restaurant Bill/Receipt',\n",
       " 'Miscellaneous Category - Miscellaneous Bills',\n",
       " 'Travel Category - Train Ticket',\n",
       " 'Miscellaneous Category - Miscellaneous Bills',\n",
       " 'Room Stay Category - Stay Bill/Receipt',\n",
       " 'Miscellaneous Category - Miscellaneous Bills',\n",
       " 'Travel Category - Bus Ticket',\n",
       " 'Food Category - Restaurant Bill/Receipt',\n",
       " 'Travel Category - Train Ticket',\n",
       " 'Food Category - Restaurant Bill/Receipt',\n",
       " 'Miscellaneous Category - Miscellaneous Bills',\n",
       " 'Travel Category - Flight Ticket',\n",
       " 'Miscellaneous Category - Miscellaneous Bills',\n",
       " 'Electronics Category - Electronic Gadgets Bill/Receipt',\n",
       " 'Food Category - Restaurant Bill/Receipt',\n",
       " 'Travel Category - Bus Ticket',\n",
       " 'Miscellaneous Category - Miscellaneous Bills',\n",
       " 'Food Category - Restaurant Bill/Receipt',\n",
       " 'Food Category - Restaurant Bill/Receipt',\n",
       " 'Food Category - Restaurant Bill/Receipt',\n",
       " 'Travel Category - Cab Bill/Receipt',\n",
       " 'Food Category - Restaurant Bill/Receipt',\n",
       " 'Miscellaneous Category - Miscellaneous Bills',\n",
       " 'Miscellaneous Category - Miscellaneous Bills',\n",
       " 'Food Category - Restaurant Bill/Receipt',\n",
       " 'Food Category - Restaurant Bill/Receipt',\n",
       " 'Food Category - Restaurant Bill/Receipt',\n",
       " 'Room Stay Category - Stay Bill/Receipt',\n",
       " 'Electronics Category - Electronic Gadgets Bill/Receipt',\n",
       " 'Miscellaneous Category - Miscellaneous Bills',\n",
       " 'Food Category - Restaurant Bill/Receipt',\n",
       " 'Miscellaneous Category - Miscellaneous Bills',\n",
       " 'Fuel Category - Fuel Bill/Receipt',\n",
       " 'Travel Category - Flight Ticket',\n",
       " 'Food Category - Restaurant Bill/Receipt',\n",
       " 'Miscellaneous Category - Miscellaneous Bills',\n",
       " 'Miscellaneous Category - Miscellaneous Bills',\n",
       " 'Food Category - Restaurant Bill/Receipt',\n",
       " 'Food Category - Restaurant Bill/Receipt',\n",
       " 'Miscellaneous Category - Miscellaneous Bills',\n",
       " 'Fuel Category - Fuel Bill/Receipt',\n",
       " 'Miscellaneous Category - Miscellaneous Bills',\n",
       " 'Food Category - Restaurant Bill/Receipt',\n",
       " 'Food Category - Restaurant Bill/Receipt',\n",
       " 'Travel Category - Bus Ticket',\n",
       " 'Room Stay Category - Stay Bill/Receipt',\n",
       " 'Travel Category - Bus Ticket',\n",
       " 'Food Category - Restaurant Bill/Receipt',\n",
       " 'Miscellaneous Category - Miscellaneous Bills',\n",
       " 'Travel Category - Train Ticket',\n",
       " 'Travel Category - Bus Ticket',\n",
       " 'Travel Category - Train Ticket',\n",
       " 'Travel Category - Train Ticket',\n",
       " 'Food Category - Restaurant Bill/Receipt',\n",
       " 'Miscellaneous Category - Miscellaneous Bills',\n",
       " 'Travel Category - Flight Ticket',\n",
       " 'Miscellaneous Category - Miscellaneous Bills',\n",
       " 'Electronics Category - Electronic Gadgets Bill/Receipt',\n",
       " 'Miscellaneous Category - Miscellaneous Bills',\n",
       " 'Miscellaneous Category - Miscellaneous Bills',\n",
       " 'Miscellaneous Category - Miscellaneous Bills',\n",
       " 'Food Category - Restaurant Bill/Receipt',\n",
       " 'Miscellaneous Category - Miscellaneous Bills',\n",
       " 'Room Stay Category - Stay Bill/Receipt',\n",
       " 'Miscellaneous Category - Miscellaneous Bills',\n",
       " 'Travel Category - Bus Ticket',\n",
       " 'Miscellaneous Category - Miscellaneous Bills',\n",
       " 'Fuel Category - Fuel Bill/Receipt',\n",
       " 'Miscellaneous Category - Miscellaneous Bills',\n",
       " 'Miscellaneous Category - Miscellaneous Bills',\n",
       " 'Food Category - Restaurant Bill/Receipt',\n",
       " 'Food Category - Restaurant Bill/Receipt',\n",
       " 'Miscellaneous Category - Miscellaneous Bills',\n",
       " 'Miscellaneous Category - Miscellaneous Bills',\n",
       " 'Food Category - Restaurant Bill/Receipt',\n",
       " 'Travel Category - Flight Ticket',\n",
       " 'Food Category - Restaurant Bill/Receipt',\n",
       " 'Miscellaneous Category - Miscellaneous Bills',\n",
       " 'Miscellaneous Category - Miscellaneous Bills',\n",
       " 'Miscellaneous Category - Miscellaneous Bills',\n",
       " 'Travel Category - Train Ticket',\n",
       " 'Miscellaneous Category - Miscellaneous Bills',\n",
       " 'Miscellaneous Category - Miscellaneous Bills',\n",
       " 'Travel Category - Flight Ticket',\n",
       " 'Food Category - Restaurant Bill/Receipt',\n",
       " 'Food Category - Restaurant Bill/Receipt',\n",
       " 'Miscellaneous Category - Miscellaneous Bills',\n",
       " 'Miscellaneous Category - Miscellaneous Bills',\n",
       " 'Electronics Category - Electronic Gadgets Bill/Receipt',\n",
       " 'Food Category - Restaurant Bill/Receipt',\n",
       " 'Food Category - Restaurant Bill/Receipt',\n",
       " 'Miscellaneous Category - Miscellaneous Bills',\n",
       " 'Miscellaneous Category - Miscellaneous Bills',\n",
       " 'Room Stay Category - Stay Bill/Receipt',\n",
       " 'Miscellaneous Category - Miscellaneous Bills',\n",
       " 'Food Category - Restaurant Bill/Receipt',\n",
       " 'Miscellaneous Category - Miscellaneous Bills',\n",
       " 'Miscellaneous Category - Miscellaneous Bills',\n",
       " 'Food Category - Restaurant Bill/Receipt',\n",
       " 'Food Category - Restaurant Bill/Receipt',\n",
       " 'Food Category - Restaurant Bill/Receipt',\n",
       " 'Travel Category - Flight Ticket',\n",
       " 'Miscellaneous Category - Miscellaneous Bills',\n",
       " 'Electronics Category - Electronic Gadgets Bill/Receipt',\n",
       " 'Electronics Category - Electronic Gadgets Bill/Receipt',\n",
       " 'Travel Category - Train Ticket',\n",
       " 'Miscellaneous Category - Miscellaneous Bills',\n",
       " 'Travel Category - Flight Ticket',\n",
       " 'Miscellaneous Category - Miscellaneous Bills',\n",
       " 'Electronics Category - Electronic Gadgets Bill/Receipt',\n",
       " 'Miscellaneous Category - Miscellaneous Bills',\n",
       " 'Food Category - Restaurant Bill/Receipt',\n",
       " 'Travel Category - Flight Ticket',\n",
       " 'Miscellaneous Category - Miscellaneous Bills',\n",
       " 'Miscellaneous Category - Miscellaneous Bills',\n",
       " 'Food Category - Restaurant Bill/Receipt',\n",
       " 'Food Category - Restaurant Bill/Receipt',\n",
       " 'Food Category - Restaurant Bill/Receipt',\n",
       " 'Food Category - Restaurant Bill/Receipt',\n",
       " 'Miscellaneous Category - Miscellaneous Bills',\n",
       " 'Travel Category - Train Ticket',\n",
       " 'Travel Category - Train Ticket',\n",
       " 'Miscellaneous Category - Miscellaneous Bills',\n",
       " 'Food Category - Restaurant Bill/Receipt',\n",
       " 'Travel Category - Flight Ticket',\n",
       " 'Travel Category - Train Ticket',\n",
       " 'Miscellaneous Category - Miscellaneous Bills',\n",
       " 'Miscellaneous Category - Miscellaneous Bills',\n",
       " 'Miscellaneous Category - Miscellaneous Bills',\n",
       " 'Miscellaneous Category - Miscellaneous Bills',\n",
       " 'Fuel Category - Fuel Bill/Receipt',\n",
       " 'Miscellaneous Category - Miscellaneous Bills',\n",
       " 'Travel Category - Bus Ticket',\n",
       " 'Food Category - Restaurant Bill/Receipt',\n",
       " 'Travel Category - Cab Bill/Receipt',\n",
       " 'Miscellaneous Category - Miscellaneous Bills',\n",
       " 'Miscellaneous Category - Miscellaneous Bills',\n",
       " 'Miscellaneous Category - Miscellaneous Bills',\n",
       " 'Food Category - Restaurant Bill/Receipt',\n",
       " 'Miscellaneous Category - Miscellaneous Bills',\n",
       " 'Travel Category - Flight Ticket',\n",
       " 'Travel Category - Cab Bill/Receipt',\n",
       " 'Miscellaneous Category - Miscellaneous Bills',\n",
       " 'Miscellaneous Category - Miscellaneous Bills',\n",
       " 'Miscellaneous Category - Miscellaneous Bills',\n",
       " 'Food Category - Restaurant Bill/Receipt',\n",
       " 'Miscellaneous Category - Miscellaneous Bills',\n",
       " 'Food Category - Restaurant Bill/Receipt',\n",
       " 'Food Category - Restaurant Bill/Receipt',\n",
       " 'Travel Category - Train Ticket',\n",
       " 'Miscellaneous Category - Miscellaneous Bills',\n",
       " 'Miscellaneous Category - Miscellaneous Bills',\n",
       " 'Food Category - Restaurant Bill/Receipt',\n",
       " 'Travel Category - Flight Ticket',\n",
       " 'Food Category - Restaurant Bill/Receipt',\n",
       " 'Miscellaneous Category - Miscellaneous Bills',\n",
       " 'Miscellaneous Category - Miscellaneous Bills',\n",
       " 'Travel Category - Train Ticket',\n",
       " 'Food Category - Restaurant Bill/Receipt',\n",
       " 'Food Category - Restaurant Bill/Receipt',\n",
       " 'Food Category - Restaurant Bill/Receipt',\n",
       " 'Travel Category - Train Ticket',\n",
       " 'Food Category - Restaurant Bill/Receipt',\n",
       " 'Miscellaneous Category - Miscellaneous Bills',\n",
       " 'Food Category - Restaurant Bill/Receipt',\n",
       " 'Miscellaneous Category - Miscellaneous Bills',\n",
       " 'Travel Category - Train Ticket',\n",
       " 'Travel Category - Flight Ticket',\n",
       " 'Travel Category - Train Ticket',\n",
       " 'Travel Category - Flight Ticket',\n",
       " 'Electronics Category - Electronic Gadgets Bill/Receipt',\n",
       " 'Travel Category - Cab Bill/Receipt',\n",
       " 'Room Stay Category - Stay Bill/Receipt',\n",
       " 'Travel Category - Bus Ticket',\n",
       " 'Travel Category - Bus Ticket',\n",
       " 'Food Category - Restaurant Bill/Receipt',\n",
       " 'Miscellaneous Category - Miscellaneous Bills',\n",
       " 'Food Category - Restaurant Bill/Receipt',\n",
       " 'Fuel Category - Fuel Bill/Receipt',\n",
       " 'Food Category - Restaurant Bill/Receipt',\n",
       " 'Miscellaneous Category - Miscellaneous Bills',\n",
       " 'Fuel Category - Fuel Bill/Receipt',\n",
       " 'Food Category - Restaurant Bill/Receipt',\n",
       " 'Miscellaneous Category - Miscellaneous Bills',\n",
       " 'Miscellaneous Category - Miscellaneous Bills',\n",
       " 'Room Stay Category - Stay Bill/Receipt',\n",
       " 'Travel Category - Bus Ticket',\n",
       " 'Fuel Category - Fuel Bill/Receipt',\n",
       " 'Room Stay Category - Stay Bill/Receipt',\n",
       " 'Miscellaneous Category - Miscellaneous Bills',\n",
       " 'Food Category - Restaurant Bill/Receipt',\n",
       " 'Miscellaneous Category - Miscellaneous Bills',\n",
       " 'Electronics Category - Electronic Gadgets Bill/Receipt',\n",
       " 'Food Category - Restaurant Bill/Receipt',\n",
       " 'Food Category - Restaurant Bill/Receipt',\n",
       " 'Travel Category - Bus Ticket',\n",
       " 'Food Category - Restaurant Bill/Receipt',\n",
       " 'Travel Category - Train Ticket',\n",
       " 'Travel Category - Train Ticket',\n",
       " 'Electronics Category - Electronic Gadgets Bill/Receipt',\n",
       " 'Travel Category - Flight Ticket',\n",
       " 'Travel Category - Flight Ticket',\n",
       " 'Food Category - Restaurant Bill/Receipt',\n",
       " 'Food Category - Restaurant Bill/Receipt',\n",
       " 'Electronics Category - Electronic Gadgets Bill/Receipt',\n",
       " 'Miscellaneous Category - Miscellaneous Bills',\n",
       " 'Fuel Category - Fuel Bill/Receipt',\n",
       " 'Room Stay Category - Stay Bill/Receipt',\n",
       " 'Food Category - Restaurant Bill/Receipt',\n",
       " 'Food Category - Restaurant Bill/Receipt',\n",
       " 'Food Category - Restaurant Bill/Receipt',\n",
       " 'Food Category - Restaurant Bill/Receipt',\n",
       " 'Food Category - Restaurant Bill/Receipt',\n",
       " 'Miscellaneous Category - Miscellaneous Bills',\n",
       " 'Miscellaneous Category - Miscellaneous Bills',\n",
       " 'Room Stay Category - Stay Bill/Receipt',\n",
       " 'Miscellaneous Category - Miscellaneous Bills',\n",
       " 'Miscellaneous Category - Miscellaneous Bills',\n",
       " 'Miscellaneous Category - Miscellaneous Bills',\n",
       " 'Travel Category - Cab Bill/Receipt',\n",
       " 'Miscellaneous Category - Miscellaneous Bills',\n",
       " 'Food Category - Restaurant Bill/Receipt',\n",
       " 'Travel Category - Train Ticket',\n",
       " 'Food Category - Restaurant Bill/Receipt',\n",
       " 'Food Category - Restaurant Bill/Receipt',\n",
       " 'Travel Category - Train Ticket',\n",
       " 'Miscellaneous Category - Miscellaneous Bills',\n",
       " 'Food Category - Restaurant Bill/Receipt',\n",
       " 'Travel Category - Bus Ticket',\n",
       " 'Miscellaneous Category - Miscellaneous Bills',\n",
       " 'Food Category - Restaurant Bill/Receipt',\n",
       " 'Travel Category - Cab Bill/Receipt',\n",
       " 'Miscellaneous Category - Miscellaneous Bills',\n",
       " 'Fuel Category - Fuel Bill/Receipt',\n",
       " 'Food Category - Restaurant Bill/Receipt',\n",
       " 'Miscellaneous Category - Miscellaneous Bills',\n",
       " 'Food Category - Restaurant Bill/Receipt',\n",
       " 'Travel Category - Flight Ticket',\n",
       " 'Food Category - Restaurant Bill/Receipt',\n",
       " 'Miscellaneous Category - Miscellaneous Bills',\n",
       " 'Food Category - Restaurant Bill/Receipt',\n",
       " 'Travel Category - Train Ticket',\n",
       " 'Food Category - Restaurant Bill/Receipt',\n",
       " 'Food Category - Restaurant Bill/Receipt',\n",
       " 'Miscellaneous Category - Miscellaneous Bills',\n",
       " 'Food Category - Restaurant Bill/Receipt',\n",
       " 'Miscellaneous Category - Miscellaneous Bills',\n",
       " 'Miscellaneous Category - Miscellaneous Bills',\n",
       " 'Miscellaneous Category - Miscellaneous Bills',\n",
       " 'Food Category - Restaurant Bill/Receipt',\n",
       " 'Miscellaneous Category - Miscellaneous Bills',\n",
       " 'Food Category - Restaurant Bill/Receipt',\n",
       " 'Food Category - Restaurant Bill/Receipt',\n",
       " 'Travel Category - Cab Bill/Receipt',\n",
       " 'Travel Category - Bus Ticket',\n",
       " 'Travel Category - Train Ticket',\n",
       " 'Travel Category - Train Ticket',\n",
       " 'Travel Category - Flight Ticket',\n",
       " 'Travel Category - Train Ticket',\n",
       " 'Food Category - Restaurant Bill/Receipt',\n",
       " 'Electronics Category - Electronic Gadgets Bill/Receipt',\n",
       " 'Miscellaneous Category - Miscellaneous Bills',\n",
       " 'Food Category - Restaurant Bill/Receipt',\n",
       " 'Food Category - Restaurant Bill/Receipt',\n",
       " 'Food Category - Restaurant Bill/Receipt',\n",
       " 'Food Category - Restaurant Bill/Receipt',\n",
       " 'Food Category - Restaurant Bill/Receipt',\n",
       " 'Food Category - Restaurant Bill/Receipt',\n",
       " 'Food Category - Restaurant Bill/Receipt',\n",
       " 'Food Category - Restaurant Bill/Receipt',\n",
       " 'Food Category - Restaurant Bill/Receipt',\n",
       " 'Miscellaneous Category - Miscellaneous Bills',\n",
       " 'Miscellaneous Category - Miscellaneous Bills',\n",
       " 'Miscellaneous Category - Miscellaneous Bills',\n",
       " 'Miscellaneous Category - Miscellaneous Bills',\n",
       " 'Miscellaneous Category - Miscellaneous Bills',\n",
       " 'Electronics Category - Electronic Gadgets Bill/Receipt',\n",
       " 'Electronics Category - Electronic Gadgets Bill/Receipt',\n",
       " 'Food Category - Restaurant Bill/Receipt',\n",
       " 'Miscellaneous Category - Miscellaneous Bills',\n",
       " 'Travel Category - Flight Ticket',\n",
       " 'Miscellaneous Category - Miscellaneous Bills',\n",
       " 'Food Category - Restaurant Bill/Receipt',\n",
       " 'Food Category - Restaurant Bill/Receipt',\n",
       " 'Food Category - Restaurant Bill/Receipt',\n",
       " 'Food Category - Restaurant Bill/Receipt',\n",
       " 'Miscellaneous Category - Miscellaneous Bills',\n",
       " 'Travel Category - Train Ticket',\n",
       " 'Travel Category - Flight Ticket',\n",
       " 'Travel Category - Flight Ticket',\n",
       " 'Miscellaneous Category - Miscellaneous Bills',\n",
       " 'Food Category - Restaurant Bill/Receipt',\n",
       " 'Food Category - Restaurant Bill/Receipt',\n",
       " 'Miscellaneous Category - Miscellaneous Bills',\n",
       " 'Miscellaneous Category - Miscellaneous Bills',\n",
       " 'Miscellaneous Category - Miscellaneous Bills',\n",
       " 'Miscellaneous Category - Miscellaneous Bills',\n",
       " 'Miscellaneous Category - Miscellaneous Bills',\n",
       " 'Miscellaneous Category - Miscellaneous Bills',\n",
       " 'Food Category - Restaurant Bill/Receipt',\n",
       " 'Miscellaneous Category - Miscellaneous Bills',\n",
       " 'Food Category - Restaurant Bill/Receipt',\n",
       " 'Food Category - Restaurant Bill/Receipt',\n",
       " 'Travel Category - Bus Ticket',\n",
       " 'Food Category - Restaurant Bill/Receipt',\n",
       " 'Travel Category - Bus Ticket',\n",
       " 'Miscellaneous Category - Miscellaneous Bills',\n",
       " 'Room Stay Category - Stay Bill/Receipt',\n",
       " 'Miscellaneous Category - Miscellaneous Bills',\n",
       " 'Miscellaneous Category - Miscellaneous Bills',\n",
       " 'Travel Category - Bus Ticket',\n",
       " 'Food Category - Restaurant Bill/Receipt',\n",
       " 'Food Category - Restaurant Bill/Receipt',\n",
       " 'Room Stay Category - Stay Bill/Receipt',\n",
       " 'Miscellaneous Category - Miscellaneous Bills',\n",
       " 'Travel Category - Bus Ticket',\n",
       " 'Miscellaneous Category - Miscellaneous Bills',\n",
       " 'Miscellaneous Category - Miscellaneous Bills',\n",
       " 'Food Category - Restaurant Bill/Receipt',\n",
       " 'Miscellaneous Category - Miscellaneous Bills',\n",
       " 'Room Stay Category - Stay Bill/Receipt',\n",
       " 'Food Category - Restaurant Bill/Receipt',\n",
       " 'Miscellaneous Category - Miscellaneous Bills',\n",
       " 'Miscellaneous Category - Miscellaneous Bills',\n",
       " 'Miscellaneous Category - Miscellaneous Bills',\n",
       " 'Food Category - Restaurant Bill/Receipt',\n",
       " 'Electronics Category - Electronic Gadgets Bill/Receipt',\n",
       " 'Food Category - Restaurant Bill/Receipt',\n",
       " 'Miscellaneous Category - Miscellaneous Bills',\n",
       " 'Miscellaneous Category - Miscellaneous Bills',\n",
       " 'Travel Category - Bus Ticket',\n",
       " 'Travel Category - Flight Ticket',\n",
       " 'Food Category - Restaurant Bill/Receipt',\n",
       " 'Food Category - Restaurant Bill/Receipt',\n",
       " 'Miscellaneous Category - Miscellaneous Bills',\n",
       " 'Miscellaneous Category - Miscellaneous Bills',\n",
       " 'Miscellaneous Category - Miscellaneous Bills',\n",
       " 'Miscellaneous Category - Miscellaneous Bills',\n",
       " 'Food Category - Restaurant Bill/Receipt',\n",
       " 'Food Category - Restaurant Bill/Receipt',\n",
       " 'Miscellaneous Category - Miscellaneous Bills',\n",
       " 'Food Category - Restaurant Bill/Receipt',\n",
       " 'Room Stay Category - Stay Bill/Receipt',\n",
       " 'Miscellaneous Category - Miscellaneous Bills',\n",
       " 'Travel Category - Flight Ticket',\n",
       " 'Food Category - Restaurant Bill/Receipt',\n",
       " 'Food Category - Restaurant Bill/Receipt',\n",
       " 'Food Category - Restaurant Bill/Receipt',\n",
       " 'Miscellaneous Category - Miscellaneous Bills',\n",
       " 'Miscellaneous Category - Miscellaneous Bills',\n",
       " 'Miscellaneous Category - Miscellaneous Bills',\n",
       " 'Food Category - Restaurant Bill/Receipt',\n",
       " 'Travel Category - Bus Ticket',\n",
       " 'Food Category - Restaurant Bill/Receipt',\n",
       " 'Food Category - Restaurant Bill/Receipt',\n",
       " 'Room Stay Category - Stay Bill/Receipt',\n",
       " 'Miscellaneous Category - Miscellaneous Bills',\n",
       " 'Travel Category - Flight Ticket',\n",
       " 'Miscellaneous Category - Miscellaneous Bills',\n",
       " 'Miscellaneous Category - Miscellaneous Bills',\n",
       " 'Food Category - Restaurant Bill/Receipt',\n",
       " 'Electronics Category - Electronic Gadgets Bill/Receipt',\n",
       " 'Miscellaneous Category - Miscellaneous Bills',\n",
       " 'Food Category - Restaurant Bill/Receipt',\n",
       " 'Fuel Category - Fuel Bill/Receipt',\n",
       " 'Travel Category - Train Ticket',\n",
       " 'Food Category - Restaurant Bill/Receipt',\n",
       " 'Electronics Category - Electronic Gadgets Bill/Receipt',\n",
       " 'Food Category - Restaurant Bill/Receipt',\n",
       " 'Miscellaneous Category - Miscellaneous Bills',\n",
       " 'Electronics Category - Electronic Gadgets Bill/Receipt',\n",
       " 'Room Stay Category - Stay Bill/Receipt',\n",
       " 'Travel Category - Cab Bill/Receipt',\n",
       " 'Food Category - Restaurant Bill/Receipt',\n",
       " 'Travel Category - Cab Bill/Receipt',\n",
       " 'Miscellaneous Category - Miscellaneous Bills',\n",
       " 'Miscellaneous Category - Miscellaneous Bills',\n",
       " 'Miscellaneous Category - Miscellaneous Bills',\n",
       " 'Miscellaneous Category - Miscellaneous Bills',\n",
       " 'Food Category - Restaurant Bill/Receipt',\n",
       " 'Miscellaneous Category - Miscellaneous Bills',\n",
       " ...]"
      ]
     },
     "execution_count": 17,
     "metadata": {},
     "output_type": "execute_result"
    }
   ],
   "source": [
    "trainLabels"
   ]
  },
  {
   "cell_type": "code",
   "execution_count": 18,
   "metadata": {},
   "outputs": [
    {
     "data": {
      "text/plain": [
       "array([3, 5, 3, ..., 3, 1, 3])"
      ]
     },
     "execution_count": 18,
     "metadata": {},
     "output_type": "execute_result"
    }
   ],
   "source": [
    "trainLabels = labels2Encoding(trainLabels)\n",
    "valLabels = labels2Encoding(valLabels)\n",
    "trainLabels"
   ]
  },
  {
   "cell_type": "code",
   "execution_count": 19,
   "metadata": {},
   "outputs": [],
   "source": [
    "trainInputs = torch.tensor(trainInputs, dtype=torch.uint8).to(device)\n",
    "trainMasks = torch.tensor(trainMasks, dtype=torch.uint8).to(device)\n",
    "trainLabels = torch.tensor(trainLabels, dtype=torch.uint8).to(device)\n",
    "valInputs = torch.tensor(valInputs, dtype=torch.uint8).to(device)\n",
    "valMasks = torch.tensor(valMasks, dtype=torch.uint8).to(device)\n",
    "valLabels = torch.tensor(valLabels, dtype=torch.uint8).to(device)"
   ]
  },
  {
   "cell_type": "code",
   "execution_count": 20,
   "metadata": {},
   "outputs": [
    {
     "name": "stdout",
     "output_type": "stream",
     "text": [
      "tensor(1, device='cuda:0', dtype=torch.uint8) tensor(0, device='cuda:0', dtype=torch.uint8)\n"
     ]
    }
   ],
   "source": [
    "print(trainMasks.max(), trainInputs.min())"
   ]
  },
  {
   "cell_type": "code",
   "execution_count": 21,
   "metadata": {},
   "outputs": [],
   "source": [
    "trainDataset = TensorDataset(trainInputs, trainMasks, trainLabels)\n",
    "trainDataloader = DataLoader(trainDataset, batch_size=batchSize, shuffle=True)"
   ]
  },
  {
   "cell_type": "code",
   "execution_count": 22,
   "metadata": {},
   "outputs": [],
   "source": [
    "valDataset = TensorDataset(valInputs, valMasks, valLabels)\n",
    "valDataloader = DataLoader(valDataset, batch_size=batchSize)"
   ]
  },
  {
   "cell_type": "code",
   "execution_count": 23,
   "metadata": {},
   "outputs": [
    {
     "name": "stderr",
     "output_type": "stream",
     "text": [
      "c:\\Users\\Sid\\AppData\\Local\\Programs\\Python\\Python39\\lib\\site-packages\\transformers\\optimization.py:588: FutureWarning: This implementation of AdamW is deprecated and will be removed in a future version. Use the PyTorch implementation torch.optim.AdamW instead, or set `no_deprecation_warning=True` to disable this warning\n",
      "  warnings.warn(\n"
     ]
    }
   ],
   "source": [
    "optimizer = AdamW(model.parameters(), lr=learningRate)\n",
    "criterion = torch.nn.CrossEntropyLoss()"
   ]
  },
  {
   "cell_type": "code",
   "execution_count": 24,
   "metadata": {},
   "outputs": [],
   "source": [
    "def train(model, optimizer, criterion, trainDataloader):\n",
    "  model.train()\n",
    "  total_loss = 0\n",
    "  correct = 0\n",
    "  for batch_idx, (input_ids, attention_mask, labels) in enumerate(trainDataloader):\n",
    "    optimizer.zero_grad()\n",
    "    input_ids = input_ids.long().to(device)\n",
    "    outputs = model(input_ids=input_ids, attention_mask=attention_mask)\n",
    "    loss = criterion(outputs.logits, labels)\n",
    "    loss.backward()\n",
    "    optimizer.step()\n",
    "    total_loss += loss.item()\n",
    "    predictions = torch.argmax(outputs.logits, dim=1)\n",
    "    correct += (predictions == labels).sum().item()\n",
    "  return total_loss / len(trainDataloader), correct / len(trainDataset)"
   ]
  },
  {
   "cell_type": "code",
   "execution_count": 25,
   "metadata": {},
   "outputs": [],
   "source": [
    "def validate(model, criterion, valDataloader):\n",
    "  model.eval()\n",
    "  total_loss = 0\n",
    "  correct = 0\n",
    "  all_preds, all_labels = [], []\n",
    "  with torch.no_grad():\n",
    "    for batch_idx, (input_ids, attention_mask, labels) in enumerate(valDataloader):\n",
    "      input_ids = input_ids.long().to(device)\n",
    "      outputs = model(input_ids=input_ids, attention_mask=attention_mask)\n",
    "      loss = criterion(outputs.logits, labels)\n",
    "      total_loss += loss.item()\n",
    "      predictions = torch.argmax(outputs.logits, dim=1)\n",
    "      correct += (predictions == labels).sum().item()\n",
    "      all_preds.extend(predictions.cpu().numpy())\n",
    "      all_labels.extend(labels.cpu().numpy())\n",
    "  accuracy = accuracy_score(all_labels, all_preds)\n",
    "  precision = precision_score(all_labels, all_preds, average=\"weighted\")\n",
    "  recall = recall_score(all_labels, all_preds, average=\"weighted\")\n",
    "  return total_loss / len(valDataloader), accuracy, precision, recall"
   ]
  },
  {
   "cell_type": "code",
   "execution_count": 26,
   "metadata": {},
   "outputs": [
    {
     "name": "stderr",
     "output_type": "stream",
     "text": [
      "Epoch(s):   0%|\u001b[31m          \u001b[0m| 0/450 [00:00<?, ?it/s]c:\\Users\\Sid\\AppData\\Local\\Programs\\Python\\Python39\\lib\\site-packages\\sklearn\\metrics\\_classification.py:1517: UndefinedMetricWarning: Precision is ill-defined and being set to 0.0 in labels with no predicted samples. Use `zero_division` parameter to control this behavior.\n",
      "  _warn_prf(average, modifier, f\"{metric.capitalize()} is\", len(result))\n"
     ]
    },
    {
     "name": "stdout",
     "output_type": "stream",
     "text": [
      "{'Epoch': 1, 'Train Loss': 1134453.9004358712, 'Train Accuracy': 0.218054211035818, 'Val Loss': 22410.677103365386, 'Val Accuracy': 0.38878143133462284, 'Val Precision': 0.15115100135059806, 'Val Recall': 0.38878143133462284}\n"
     ]
    },
    {
     "name": "stderr",
     "output_type": "stream",
     "text": [
      "c:\\Users\\Sid\\AppData\\Local\\Programs\\Python\\Python39\\lib\\site-packages\\huggingface_hub\\file_download.py:1132: FutureWarning: `resume_download` is deprecated and will be removed in version 1.0.0. Downloads always resume when possible. If you want to force a new download, use `force_download=True`.\n",
      "  warnings.warn(\n",
      "Epoch(s):   0%|\u001b[31m          \u001b[0m| 1/450 [01:52<14:04:34, 112.86s/it]c:\\Users\\Sid\\AppData\\Local\\Programs\\Python\\Python39\\lib\\site-packages\\sklearn\\metrics\\_classification.py:1517: UndefinedMetricWarning: Precision is ill-defined and being set to 0.0 in labels with no predicted samples. Use `zero_division` parameter to control this behavior.\n",
      "  _warn_prf(average, modifier, f\"{metric.capitalize()} is\", len(result))\n"
     ]
    },
    {
     "name": "stdout",
     "output_type": "stream",
     "text": [
      "{'Epoch': 2, 'Train Loss': 15743.308936866553, 'Train Accuracy': 0.3228460793804453, 'Val Loss': 3593.375120192308, 'Val Accuracy': 0.38878143133462284, 'Val Precision': 0.15115100135059806, 'Val Recall': 0.38878143133462284}\n"
     ]
    },
    {
     "name": "stderr",
     "output_type": "stream",
     "text": [
      "c:\\Users\\Sid\\AppData\\Local\\Programs\\Python\\Python39\\lib\\site-packages\\huggingface_hub\\file_download.py:1132: FutureWarning: `resume_download` is deprecated and will be removed in version 1.0.0. Downloads always resume when possible. If you want to force a new download, use `force_download=True`.\n",
      "  warnings.warn(\n",
      "Epoch(s):   0%|\u001b[31m          \u001b[0m| 2/450 [03:43<13:52:13, 111.46s/it]c:\\Users\\Sid\\AppData\\Local\\Programs\\Python\\Python39\\lib\\site-packages\\sklearn\\metrics\\_classification.py:1517: UndefinedMetricWarning: Precision is ill-defined and being set to 0.0 in labels with no predicted samples. Use `zero_division` parameter to control this behavior.\n",
      "  _warn_prf(average, modifier, f\"{metric.capitalize()} is\", len(result))\n"
     ]
    },
    {
     "name": "stdout",
     "output_type": "stream",
     "text": [
      "{'Epoch': 3, 'Train Loss': 4142.087683600348, 'Train Accuracy': 0.3760890609874153, 'Val Loss': 279.84749843890853, 'Val Accuracy': 0.4410058027079304, 'Val Precision': 0.2500061456650313, 'Val Recall': 0.4410058027079304}\n"
     ]
    },
    {
     "name": "stderr",
     "output_type": "stream",
     "text": [
      "c:\\Users\\Sid\\AppData\\Local\\Programs\\Python\\Python39\\lib\\site-packages\\huggingface_hub\\file_download.py:1132: FutureWarning: `resume_download` is deprecated and will be removed in version 1.0.0. Downloads always resume when possible. If you want to force a new download, use `force_download=True`.\n",
      "  warnings.warn(\n",
      "Epoch(s):   1%|\u001b[31m          \u001b[0m| 3/450 [05:34<13:49:20, 111.32s/it]c:\\Users\\Sid\\AppData\\Local\\Programs\\Python\\Python39\\lib\\site-packages\\sklearn\\metrics\\_classification.py:1517: UndefinedMetricWarning: Precision is ill-defined and being set to 0.0 in labels with no predicted samples. Use `zero_division` parameter to control this behavior.\n",
      "  _warn_prf(average, modifier, f\"{metric.capitalize()} is\", len(result))\n"
     ]
    },
    {
     "name": "stdout",
     "output_type": "stream",
     "text": [
      "{'Epoch': 4, 'Train Loss': 1250.0650691654691, 'Train Accuracy': 0.35818005808325265, 'Val Loss': 27.347159220622135, 'Val Accuracy': 0.16054158607350097, 'Val Precision': 0.38006213367293856, 'Val Recall': 0.16054158607350097}\n"
     ]
    },
    {
     "name": "stderr",
     "output_type": "stream",
     "text": [
      "c:\\Users\\Sid\\AppData\\Local\\Programs\\Python\\Python39\\lib\\site-packages\\huggingface_hub\\file_download.py:1132: FutureWarning: `resume_download` is deprecated and will be removed in version 1.0.0. Downloads always resume when possible. If you want to force a new download, use `force_download=True`.\n",
      "  warnings.warn(\n",
      "Epoch(s):   1%|\u001b[31m          \u001b[0m| 4/450 [07:25<13:47:16, 111.29s/it]c:\\Users\\Sid\\AppData\\Local\\Programs\\Python\\Python39\\lib\\site-packages\\sklearn\\metrics\\_classification.py:1517: UndefinedMetricWarning: Precision is ill-defined and being set to 0.0 in labels with no predicted samples. Use `zero_division` parameter to control this behavior.\n",
      "  _warn_prf(average, modifier, f\"{metric.capitalize()} is\", len(result))\n"
     ]
    },
    {
     "name": "stdout",
     "output_type": "stream",
     "text": [
      "{'Epoch': 5, 'Train Loss': 741.2912811427503, 'Train Accuracy': 0.28025169409486933, 'Val Loss': 9.858547559151283, 'Val Accuracy': 0.05319148936170213, 'Val Precision': 0.1278676112059113, 'Val Recall': 0.05319148936170213}\n"
     ]
    },
    {
     "name": "stderr",
     "output_type": "stream",
     "text": [
      "c:\\Users\\Sid\\AppData\\Local\\Programs\\Python\\Python39\\lib\\site-packages\\huggingface_hub\\file_download.py:1132: FutureWarning: `resume_download` is deprecated and will be removed in version 1.0.0. Downloads always resume when possible. If you want to force a new download, use `force_download=True`.\n",
      "  warnings.warn(\n",
      "Epoch(s):   1%|\u001b[31m          \u001b[0m| 5/450 [09:16<13:43:56, 111.09s/it]c:\\Users\\Sid\\AppData\\Local\\Programs\\Python\\Python39\\lib\\site-packages\\sklearn\\metrics\\_classification.py:1517: UndefinedMetricWarning: Precision is ill-defined and being set to 0.0 in labels with no predicted samples. Use `zero_division` parameter to control this behavior.\n",
      "  _warn_prf(average, modifier, f\"{metric.capitalize()} is\", len(result))\n"
     ]
    },
    {
     "name": "stdout",
     "output_type": "stream",
     "text": [
      "{'Epoch': 6, 'Train Loss': 343.07458369336075, 'Train Accuracy': 0.22797676669893513, 'Val Loss': 4.766101749126728, 'Val Accuracy': 0.05029013539651837, 'Val Precision': 0.019543020610129223, 'Val Recall': 0.05029013539651837}\n"
     ]
    },
    {
     "name": "stderr",
     "output_type": "stream",
     "text": [
      "c:\\Users\\Sid\\AppData\\Local\\Programs\\Python\\Python39\\lib\\site-packages\\huggingface_hub\\file_download.py:1132: FutureWarning: `resume_download` is deprecated and will be removed in version 1.0.0. Downloads always resume when possible. If you want to force a new download, use `force_download=True`.\n",
      "  warnings.warn(\n",
      "Epoch(s):   1%|\u001b[31m▏         \u001b[0m| 6/450 [11:07<13:41:14, 110.98s/it]c:\\Users\\Sid\\AppData\\Local\\Programs\\Python\\Python39\\lib\\site-packages\\sklearn\\metrics\\_classification.py:1517: UndefinedMetricWarning: Precision is ill-defined and being set to 0.0 in labels with no predicted samples. Use `zero_division` parameter to control this behavior.\n",
      "  _warn_prf(average, modifier, f\"{metric.capitalize()} is\", len(result))\n"
     ]
    },
    {
     "name": "stdout",
     "output_type": "stream",
     "text": [
      "{'Epoch': 7, 'Train Loss': 223.9346452164374, 'Train Accuracy': 0.1829622458857696, 'Val Loss': 4.349155371005718, 'Val Accuracy': 0.04932301740812379, 'Val Precision': 0.01954011753735097, 'Val Recall': 0.04932301740812379}\n"
     ]
    },
    {
     "name": "stderr",
     "output_type": "stream",
     "text": [
      "c:\\Users\\Sid\\AppData\\Local\\Programs\\Python\\Python39\\lib\\site-packages\\huggingface_hub\\file_download.py:1132: FutureWarning: `resume_download` is deprecated and will be removed in version 1.0.0. Downloads always resume when possible. If you want to force a new download, use `force_download=True`.\n",
      "  warnings.warn(\n",
      "Epoch(s):   2%|\u001b[31m▏         \u001b[0m| 7/450 [12:58<13:40:48, 111.17s/it]c:\\Users\\Sid\\AppData\\Local\\Programs\\Python\\Python39\\lib\\site-packages\\sklearn\\metrics\\_classification.py:1517: UndefinedMetricWarning: Precision is ill-defined and being set to 0.0 in labels with no predicted samples. Use `zero_division` parameter to control this behavior.\n",
      "  _warn_prf(average, modifier, f\"{metric.capitalize()} is\", len(result))\n"
     ]
    },
    {
     "name": "stdout",
     "output_type": "stream",
     "text": [
      "{'Epoch': 8, 'Train Loss': 237.60658959256176, 'Train Accuracy': 0.15755082284607938, 'Val Loss': 4.338863886319674, 'Val Accuracy': 0.045454545454545456, 'Val Precision': 0.02391934306827924, 'Val Recall': 0.045454545454545456}\n"
     ]
    },
    {
     "name": "stderr",
     "output_type": "stream",
     "text": [
      "c:\\Users\\Sid\\AppData\\Local\\Programs\\Python\\Python39\\lib\\site-packages\\huggingface_hub\\file_download.py:1132: FutureWarning: `resume_download` is deprecated and will be removed in version 1.0.0. Downloads always resume when possible. If you want to force a new download, use `force_download=True`.\n",
      "  warnings.warn(\n",
      "Epoch(s):   2%|\u001b[31m▏         \u001b[0m| 8/450 [14:49<13:38:09, 111.06s/it]c:\\Users\\Sid\\AppData\\Local\\Programs\\Python\\Python39\\lib\\site-packages\\sklearn\\metrics\\_classification.py:1517: UndefinedMetricWarning: Precision is ill-defined and being set to 0.0 in labels with no predicted samples. Use `zero_division` parameter to control this behavior.\n",
      "  _warn_prf(average, modifier, f\"{metric.capitalize()} is\", len(result))\n"
     ]
    },
    {
     "name": "stdout",
     "output_type": "stream",
     "text": [
      "{'Epoch': 9, 'Train Loss': 187.94235165330895, 'Train Accuracy': 0.13891577928363988, 'Val Loss': 4.334240099099966, 'Val Accuracy': 0.04642166344294004, 'Val Precision': 0.02613210858915936, 'Val Recall': 0.04642166344294004}\n"
     ]
    },
    {
     "name": "stderr",
     "output_type": "stream",
     "text": [
      "c:\\Users\\Sid\\AppData\\Local\\Programs\\Python\\Python39\\lib\\site-packages\\huggingface_hub\\file_download.py:1132: FutureWarning: `resume_download` is deprecated and will be removed in version 1.0.0. Downloads always resume when possible. If you want to force a new download, use `force_download=True`.\n",
      "  warnings.warn(\n",
      "Epoch(s):   2%|\u001b[31m▏         \u001b[0m| 9/450 [16:40<13:35:41, 110.98s/it]c:\\Users\\Sid\\AppData\\Local\\Programs\\Python\\Python39\\lib\\site-packages\\sklearn\\metrics\\_classification.py:1517: UndefinedMetricWarning: Precision is ill-defined and being set to 0.0 in labels with no predicted samples. Use `zero_division` parameter to control this behavior.\n",
      "  _warn_prf(average, modifier, f\"{metric.capitalize()} is\", len(result))\n"
     ]
    },
    {
     "name": "stdout",
     "output_type": "stream",
     "text": [
      "{'Epoch': 10, 'Train Loss': 82.9298226216585, 'Train Accuracy': 0.11665053242981607, 'Val Loss': 4.3097456932067875, 'Val Accuracy': 0.047388781431334626, 'Val Precision': 0.027967957569269754, 'Val Recall': 0.047388781431334626}\n"
     ]
    },
    {
     "name": "stderr",
     "output_type": "stream",
     "text": [
      "c:\\Users\\Sid\\AppData\\Local\\Programs\\Python\\Python39\\lib\\site-packages\\huggingface_hub\\file_download.py:1132: FutureWarning: `resume_download` is deprecated and will be removed in version 1.0.0. Downloads always resume when possible. If you want to force a new download, use `force_download=True`.\n",
      "  warnings.warn(\n",
      "Epoch(s):   2%|\u001b[31m▏         \u001b[0m| 10/450 [18:31<13:34:11, 111.03s/it]c:\\Users\\Sid\\AppData\\Local\\Programs\\Python\\Python39\\lib\\site-packages\\sklearn\\metrics\\_classification.py:1517: UndefinedMetricWarning: Precision is ill-defined and being set to 0.0 in labels with no predicted samples. Use `zero_division` parameter to control this behavior.\n",
      "  _warn_prf(average, modifier, f\"{metric.capitalize()} is\", len(result))\n"
     ]
    },
    {
     "name": "stdout",
     "output_type": "stream",
     "text": [
      "{'Epoch': 11, 'Train Loss': 106.06397519424615, 'Train Accuracy': 0.09970958373668926, 'Val Loss': 4.285137282885038, 'Val Accuracy': 0.047388781431334626, 'Val Precision': 0.026395235008358945, 'Val Recall': 0.047388781431334626}\n"
     ]
    },
    {
     "name": "stderr",
     "output_type": "stream",
     "text": [
      "c:\\Users\\Sid\\AppData\\Local\\Programs\\Python\\Python39\\lib\\site-packages\\huggingface_hub\\file_download.py:1132: FutureWarning: `resume_download` is deprecated and will be removed in version 1.0.0. Downloads always resume when possible. If you want to force a new download, use `force_download=True`.\n",
      "  warnings.warn(\n",
      "Epoch(s):   2%|\u001b[31m▏         \u001b[0m| 11/450 [20:22<13:32:56, 111.11s/it]c:\\Users\\Sid\\AppData\\Local\\Programs\\Python\\Python39\\lib\\site-packages\\sklearn\\metrics\\_classification.py:1517: UndefinedMetricWarning: Precision is ill-defined and being set to 0.0 in labels with no predicted samples. Use `zero_division` parameter to control this behavior.\n",
      "  _warn_prf(average, modifier, f\"{metric.capitalize()} is\", len(result))\n"
     ]
    },
    {
     "name": "stdout",
     "output_type": "stream",
     "text": [
      "{'Epoch': 12, 'Train Loss': 118.70189727135147, 'Train Accuracy': 0.09390125847047434, 'Val Loss': 4.248305878272423, 'Val Accuracy': 0.04642166344294004, 'Val Precision': 0.023938565036974134, 'Val Recall': 0.04642166344294004}\n"
     ]
    },
    {
     "name": "stderr",
     "output_type": "stream",
     "text": [
      "c:\\Users\\Sid\\AppData\\Local\\Programs\\Python\\Python39\\lib\\site-packages\\huggingface_hub\\file_download.py:1132: FutureWarning: `resume_download` is deprecated and will be removed in version 1.0.0. Downloads always resume when possible. If you want to force a new download, use `force_download=True`.\n",
      "  warnings.warn(\n",
      "Epoch(s):   3%|\u001b[31m▎         \u001b[0m| 12/450 [22:13<13:29:56, 110.95s/it]c:\\Users\\Sid\\AppData\\Local\\Programs\\Python\\Python39\\lib\\site-packages\\sklearn\\metrics\\_classification.py:1517: UndefinedMetricWarning: Precision is ill-defined and being set to 0.0 in labels with no predicted samples. Use `zero_division` parameter to control this behavior.\n",
      "  _warn_prf(average, modifier, f\"{metric.capitalize()} is\", len(result))\n"
     ]
    },
    {
     "name": "stdout",
     "output_type": "stream",
     "text": [
      "{'Epoch': 13, 'Train Loss': 58.00560919842665, 'Train Accuracy': 0.08180058083252661, 'Val Loss': 4.197340748860285, 'Val Accuracy': 0.04642166344294004, 'Val Precision': 0.024526969722368622, 'Val Recall': 0.04642166344294004}\n"
     ]
    },
    {
     "name": "stderr",
     "output_type": "stream",
     "text": [
      "c:\\Users\\Sid\\AppData\\Local\\Programs\\Python\\Python39\\lib\\site-packages\\huggingface_hub\\file_download.py:1132: FutureWarning: `resume_download` is deprecated and will be removed in version 1.0.0. Downloads always resume when possible. If you want to force a new download, use `force_download=True`.\n",
      "  warnings.warn(\n",
      "Epoch(s):   3%|\u001b[31m▎         \u001b[0m| 13/450 [24:03<13:26:55, 110.79s/it]c:\\Users\\Sid\\AppData\\Local\\Programs\\Python\\Python39\\lib\\site-packages\\sklearn\\metrics\\_classification.py:1517: UndefinedMetricWarning: Precision is ill-defined and being set to 0.0 in labels with no predicted samples. Use `zero_division` parameter to control this behavior.\n",
      "  _warn_prf(average, modifier, f\"{metric.capitalize()} is\", len(result))\n"
     ]
    },
    {
     "name": "stdout",
     "output_type": "stream",
     "text": [
      "{'Epoch': 14, 'Train Loss': 64.09377173843531, 'Train Accuracy': 0.06413359148112294, 'Val Loss': 4.10630385692303, 'Val Accuracy': 0.04642166344294004, 'Val Precision': 0.023335863906197202, 'Val Recall': 0.04642166344294004}\n"
     ]
    },
    {
     "name": "stderr",
     "output_type": "stream",
     "text": [
      "c:\\Users\\Sid\\AppData\\Local\\Programs\\Python\\Python39\\lib\\site-packages\\huggingface_hub\\file_download.py:1132: FutureWarning: `resume_download` is deprecated and will be removed in version 1.0.0. Downloads always resume when possible. If you want to force a new download, use `force_download=True`.\n",
      "  warnings.warn(\n",
      "Epoch(s):   3%|\u001b[31m▎         \u001b[0m| 14/450 [25:54<13:24:50, 110.76s/it]c:\\Users\\Sid\\AppData\\Local\\Programs\\Python\\Python39\\lib\\site-packages\\sklearn\\metrics\\_classification.py:1517: UndefinedMetricWarning: Precision is ill-defined and being set to 0.0 in labels with no predicted samples. Use `zero_division` parameter to control this behavior.\n",
      "  _warn_prf(average, modifier, f\"{metric.capitalize()} is\", len(result))\n"
     ]
    },
    {
     "name": "stdout",
     "output_type": "stream",
     "text": [
      "{'Epoch': 15, 'Train Loss': 42.63287186530566, 'Train Accuracy': 0.07042594385285576, 'Val Loss': 4.041364277326144, 'Val Accuracy': 0.04642166344294004, 'Val Precision': 0.019492715397180956, 'Val Recall': 0.04642166344294004}\n"
     ]
    },
    {
     "name": "stderr",
     "output_type": "stream",
     "text": [
      "c:\\Users\\Sid\\AppData\\Local\\Programs\\Python\\Python39\\lib\\site-packages\\huggingface_hub\\file_download.py:1132: FutureWarning: `resume_download` is deprecated and will be removed in version 1.0.0. Downloads always resume when possible. If you want to force a new download, use `force_download=True`.\n",
      "  warnings.warn(\n",
      "Epoch(s):   3%|\u001b[31m▎         \u001b[0m| 15/450 [27:45<13:23:32, 110.83s/it]c:\\Users\\Sid\\AppData\\Local\\Programs\\Python\\Python39\\lib\\site-packages\\sklearn\\metrics\\_classification.py:1517: UndefinedMetricWarning: Precision is ill-defined and being set to 0.0 in labels with no predicted samples. Use `zero_division` parameter to control this behavior.\n",
      "  _warn_prf(average, modifier, f\"{metric.capitalize()} is\", len(result))\n"
     ]
    },
    {
     "name": "stdout",
     "output_type": "stream",
     "text": [
      "{'Epoch': 16, 'Train Loss': 42.711503420097024, 'Train Accuracy': 0.06655372700871248, 'Val Loss': 3.9571298085726223, 'Val Accuracy': 0.04642166344294004, 'Val Precision': 0.018080640738981506, 'Val Recall': 0.04642166344294004}\n"
     ]
    },
    {
     "name": "stderr",
     "output_type": "stream",
     "text": [
      "c:\\Users\\Sid\\AppData\\Local\\Programs\\Python\\Python39\\lib\\site-packages\\huggingface_hub\\file_download.py:1132: FutureWarning: `resume_download` is deprecated and will be removed in version 1.0.0. Downloads always resume when possible. If you want to force a new download, use `force_download=True`.\n",
      "  warnings.warn(\n",
      "Epoch(s):   4%|\u001b[31m▎         \u001b[0m| 16/450 [29:36<13:21:07, 110.76s/it]c:\\Users\\Sid\\AppData\\Local\\Programs\\Python\\Python39\\lib\\site-packages\\sklearn\\metrics\\_classification.py:1517: UndefinedMetricWarning: Precision is ill-defined and being set to 0.0 in labels with no predicted samples. Use `zero_division` parameter to control this behavior.\n",
      "  _warn_prf(average, modifier, f\"{metric.capitalize()} is\", len(result))\n"
     ]
    },
    {
     "name": "stdout",
     "output_type": "stream",
     "text": [
      "{'Epoch': 17, 'Train Loss': 69.02055754992952, 'Train Accuracy': 0.06364956437560504, 'Val Loss': 3.874350826556866, 'Val Accuracy': 0.048355899419729204, 'Val Precision': 0.022368521368849616, 'Val Recall': 0.048355899419729204}\n"
     ]
    },
    {
     "name": "stderr",
     "output_type": "stream",
     "text": [
      "c:\\Users\\Sid\\AppData\\Local\\Programs\\Python\\Python39\\lib\\site-packages\\huggingface_hub\\file_download.py:1132: FutureWarning: `resume_download` is deprecated and will be removed in version 1.0.0. Downloads always resume when possible. If you want to force a new download, use `force_download=True`.\n",
      "  warnings.warn(\n",
      "Epoch(s):   4%|\u001b[31m▍         \u001b[0m| 17/450 [31:27<13:19:40, 110.81s/it]c:\\Users\\Sid\\AppData\\Local\\Programs\\Python\\Python39\\lib\\site-packages\\sklearn\\metrics\\_classification.py:1517: UndefinedMetricWarning: Precision is ill-defined and being set to 0.0 in labels with no predicted samples. Use `zero_division` parameter to control this behavior.\n",
      "  _warn_prf(average, modifier, f\"{metric.capitalize()} is\", len(result))\n"
     ]
    },
    {
     "name": "stdout",
     "output_type": "stream",
     "text": [
      "{'Epoch': 18, 'Train Loss': 5.981824974295716, 'Train Accuracy': 0.06364956437560504, 'Val Loss': 3.7484084899608905, 'Val Accuracy': 0.04932301740812379, 'Val Precision': 0.021732541159680173, 'Val Recall': 0.04932301740812379}\n"
     ]
    },
    {
     "name": "stderr",
     "output_type": "stream",
     "text": [
      "c:\\Users\\Sid\\AppData\\Local\\Programs\\Python\\Python39\\lib\\site-packages\\huggingface_hub\\file_download.py:1132: FutureWarning: `resume_download` is deprecated and will be removed in version 1.0.0. Downloads always resume when possible. If you want to force a new download, use `force_download=True`.\n",
      "  warnings.warn(\n",
      "Epoch(s):   4%|\u001b[31m▍         \u001b[0m| 18/450 [33:18<13:18:26, 110.89s/it]c:\\Users\\Sid\\AppData\\Local\\Programs\\Python\\Python39\\lib\\site-packages\\sklearn\\metrics\\_classification.py:1517: UndefinedMetricWarning: Precision is ill-defined and being set to 0.0 in labels with no predicted samples. Use `zero_division` parameter to control this behavior.\n",
      "  _warn_prf(average, modifier, f\"{metric.capitalize()} is\", len(result))\n"
     ]
    },
    {
     "name": "stdout",
     "output_type": "stream",
     "text": [
      "{'Epoch': 19, 'Train Loss': 9.28623086421186, 'Train Accuracy': 0.06727976766698936, 'Val Loss': 3.6221199512481688, 'Val Accuracy': 0.05125725338491296, 'Val Precision': 0.0197330105904148, 'Val Recall': 0.05125725338491296}\n"
     ]
    },
    {
     "name": "stderr",
     "output_type": "stream",
     "text": [
      "c:\\Users\\Sid\\AppData\\Local\\Programs\\Python\\Python39\\lib\\site-packages\\huggingface_hub\\file_download.py:1132: FutureWarning: `resume_download` is deprecated and will be removed in version 1.0.0. Downloads always resume when possible. If you want to force a new download, use `force_download=True`.\n",
      "  warnings.warn(\n",
      "Epoch(s):   4%|\u001b[31m▍         \u001b[0m| 19/450 [35:08<13:15:47, 110.78s/it]c:\\Users\\Sid\\AppData\\Local\\Programs\\Python\\Python39\\lib\\site-packages\\sklearn\\metrics\\_classification.py:1517: UndefinedMetricWarning: Precision is ill-defined and being set to 0.0 in labels with no predicted samples. Use `zero_division` parameter to control this behavior.\n",
      "  _warn_prf(average, modifier, f\"{metric.capitalize()} is\", len(result))\n"
     ]
    },
    {
     "name": "stdout",
     "output_type": "stream",
     "text": [
      "{'Epoch': 20, 'Train Loss': 12.961884974512815, 'Train Accuracy': 0.06558567279767667, 'Val Loss': 3.479029967234685, 'Val Accuracy': 0.04932301740812379, 'Val Precision': 0.01810203679078933, 'Val Recall': 0.04932301740812379}\n"
     ]
    },
    {
     "name": "stderr",
     "output_type": "stream",
     "text": [
      "c:\\Users\\Sid\\AppData\\Local\\Programs\\Python\\Python39\\lib\\site-packages\\huggingface_hub\\file_download.py:1132: FutureWarning: `resume_download` is deprecated and will be removed in version 1.0.0. Downloads always resume when possible. If you want to force a new download, use `force_download=True`.\n",
      "  warnings.warn(\n",
      "Epoch(s):   4%|\u001b[31m▍         \u001b[0m| 20/450 [36:59<13:13:37, 110.74s/it]c:\\Users\\Sid\\AppData\\Local\\Programs\\Python\\Python39\\lib\\site-packages\\sklearn\\metrics\\_classification.py:1517: UndefinedMetricWarning: Precision is ill-defined and being set to 0.0 in labels with no predicted samples. Use `zero_division` parameter to control this behavior.\n",
      "  _warn_prf(average, modifier, f\"{metric.capitalize()} is\", len(result))\n"
     ]
    },
    {
     "name": "stdout",
     "output_type": "stream",
     "text": [
      "{'Epoch': 21, 'Train Loss': 19.919796311256967, 'Train Accuracy': 0.06606969990319458, 'Val Loss': 3.335894247201773, 'Val Accuracy': 0.047388781431334626, 'Val Precision': 0.01563756244455236, 'Val Recall': 0.047388781431334626}\n"
     ]
    },
    {
     "name": "stderr",
     "output_type": "stream",
     "text": [
      "c:\\Users\\Sid\\AppData\\Local\\Programs\\Python\\Python39\\lib\\site-packages\\huggingface_hub\\file_download.py:1132: FutureWarning: `resume_download` is deprecated and will be removed in version 1.0.0. Downloads always resume when possible. If you want to force a new download, use `force_download=True`.\n",
      "  warnings.warn(\n",
      "Epoch(s):   5%|\u001b[31m▍         \u001b[0m| 21/450 [38:50<13:12:27, 110.83s/it]c:\\Users\\Sid\\AppData\\Local\\Programs\\Python\\Python39\\lib\\site-packages\\sklearn\\metrics\\_classification.py:1517: UndefinedMetricWarning: Precision is ill-defined and being set to 0.0 in labels with no predicted samples. Use `zero_division` parameter to control this behavior.\n",
      "  _warn_prf(average, modifier, f\"{metric.capitalize()} is\", len(result))\n"
     ]
    },
    {
     "name": "stdout",
     "output_type": "stream",
     "text": [
      "{'Epoch': 22, 'Train Loss': 8.359950317839397, 'Train Accuracy': 0.06510164569215876, 'Val Loss': 3.1789156693678637, 'Val Accuracy': 0.05125725338491296, 'Val Precision': 0.039847712109888044, 'Val Recall': 0.05125725338491296}\n"
     ]
    },
    {
     "name": "stderr",
     "output_type": "stream",
     "text": [
      "c:\\Users\\Sid\\AppData\\Local\\Programs\\Python\\Python39\\lib\\site-packages\\huggingface_hub\\file_download.py:1132: FutureWarning: `resume_download` is deprecated and will be removed in version 1.0.0. Downloads always resume when possible. If you want to force a new download, use `force_download=True`.\n",
      "  warnings.warn(\n",
      "Epoch(s):   5%|\u001b[31m▍         \u001b[0m| 22/450 [40:40<13:09:59, 110.75s/it]c:\\Users\\Sid\\AppData\\Local\\Programs\\Python\\Python39\\lib\\site-packages\\sklearn\\metrics\\_classification.py:1517: UndefinedMetricWarning: Precision is ill-defined and being set to 0.0 in labels with no predicted samples. Use `zero_division` parameter to control this behavior.\n",
      "  _warn_prf(average, modifier, f\"{metric.capitalize()} is\", len(result))\n"
     ]
    },
    {
     "name": "stdout",
     "output_type": "stream",
     "text": [
      "{'Epoch': 23, 'Train Loss': 91.65208148726165, 'Train Accuracy': 0.0643756050338819, 'Val Loss': 3.056029180380014, 'Val Accuracy': 0.05319148936170213, 'Val Precision': 0.024577667818022085, 'Val Recall': 0.05319148936170213}\n"
     ]
    },
    {
     "name": "stderr",
     "output_type": "stream",
     "text": [
      "c:\\Users\\Sid\\AppData\\Local\\Programs\\Python\\Python39\\lib\\site-packages\\huggingface_hub\\file_download.py:1132: FutureWarning: `resume_download` is deprecated and will be removed in version 1.0.0. Downloads always resume when possible. If you want to force a new download, use `force_download=True`.\n",
      "  warnings.warn(\n",
      "Epoch(s):   5%|\u001b[31m▌         \u001b[0m| 23/450 [42:31<13:07:49, 110.70s/it]c:\\Users\\Sid\\AppData\\Local\\Programs\\Python\\Python39\\lib\\site-packages\\sklearn\\metrics\\_classification.py:1517: UndefinedMetricWarning: Precision is ill-defined and being set to 0.0 in labels with no predicted samples. Use `zero_division` parameter to control this behavior.\n",
      "  _warn_prf(average, modifier, f\"{metric.capitalize()} is\", len(result))\n"
     ]
    },
    {
     "name": "stdout",
     "output_type": "stream",
     "text": [
      "{'Epoch': 24, 'Train Loss': 16.324203833649978, 'Train Accuracy': 0.07042594385285576, 'Val Loss': 2.897359532576341, 'Val Accuracy': 0.0551257253384913, 'Val Precision': 0.2699371851139677, 'Val Recall': 0.0551257253384913}\n"
     ]
    },
    {
     "name": "stderr",
     "output_type": "stream",
     "text": [
      "c:\\Users\\Sid\\AppData\\Local\\Programs\\Python\\Python39\\lib\\site-packages\\huggingface_hub\\file_download.py:1132: FutureWarning: `resume_download` is deprecated and will be removed in version 1.0.0. Downloads always resume when possible. If you want to force a new download, use `force_download=True`.\n",
      "  warnings.warn(\n",
      "Epoch(s):   5%|\u001b[31m▌         \u001b[0m| 24/450 [44:22<13:06:50, 110.82s/it]c:\\Users\\Sid\\AppData\\Local\\Programs\\Python\\Python39\\lib\\site-packages\\sklearn\\metrics\\_classification.py:1517: UndefinedMetricWarning: Precision is ill-defined and being set to 0.0 in labels with no predicted samples. Use `zero_division` parameter to control this behavior.\n",
      "  _warn_prf(average, modifier, f\"{metric.capitalize()} is\", len(result))\n"
     ]
    },
    {
     "name": "stdout",
     "output_type": "stream",
     "text": [
      "{'Epoch': 25, 'Train Loss': 4.116596220543026, 'Train Accuracy': 0.07841239109390126, 'Val Loss': 2.7397563677567702, 'Val Accuracy': 0.08027079303675048, 'Val Precision': 0.1955752572822702, 'Val Recall': 0.08027079303675048}\n"
     ]
    },
    {
     "name": "stderr",
     "output_type": "stream",
     "text": [
      "c:\\Users\\Sid\\AppData\\Local\\Programs\\Python\\Python39\\lib\\site-packages\\huggingface_hub\\file_download.py:1132: FutureWarning: `resume_download` is deprecated and will be removed in version 1.0.0. Downloads always resume when possible. If you want to force a new download, use `force_download=True`.\n",
      "  warnings.warn(\n",
      "Epoch(s):   6%|\u001b[31m▌         \u001b[0m| 25/450 [46:13<13:04:49, 110.80s/it]c:\\Users\\Sid\\AppData\\Local\\Programs\\Python\\Python39\\lib\\site-packages\\sklearn\\metrics\\_classification.py:1517: UndefinedMetricWarning: Precision is ill-defined and being set to 0.0 in labels with no predicted samples. Use `zero_division` parameter to control this behavior.\n",
      "  _warn_prf(average, modifier, f\"{metric.capitalize()} is\", len(result))\n"
     ]
    },
    {
     "name": "stdout",
     "output_type": "stream",
     "text": [
      "{'Epoch': 26, 'Train Loss': 4.899475342058307, 'Train Accuracy': 0.09922555663117134, 'Val Loss': 2.588074196301974, 'Val Accuracy': 0.12572533849129594, 'Val Precision': 0.10856147063051155, 'Val Recall': 0.12572533849129594}\n"
     ]
    },
    {
     "name": "stderr",
     "output_type": "stream",
     "text": [
      "c:\\Users\\Sid\\AppData\\Local\\Programs\\Python\\Python39\\lib\\site-packages\\huggingface_hub\\file_download.py:1132: FutureWarning: `resume_download` is deprecated and will be removed in version 1.0.0. Downloads always resume when possible. If you want to force a new download, use `force_download=True`.\n",
      "  warnings.warn(\n",
      "Epoch(s):   6%|\u001b[31m▌         \u001b[0m| 26/450 [48:04<13:03:17, 110.84s/it]c:\\Users\\Sid\\AppData\\Local\\Programs\\Python\\Python39\\lib\\site-packages\\sklearn\\metrics\\_classification.py:1517: UndefinedMetricWarning: Precision is ill-defined and being set to 0.0 in labels with no predicted samples. Use `zero_division` parameter to control this behavior.\n",
      "  _warn_prf(average, modifier, f\"{metric.capitalize()} is\", len(result))\n"
     ]
    },
    {
     "name": "stdout",
     "output_type": "stream",
     "text": [
      "{'Epoch': 27, 'Train Loss': 3.46723595181027, 'Train Accuracy': 0.13213939980638917, 'Val Loss': 2.443332699628977, 'Val Accuracy': 0.21179883945841393, 'Val Precision': 0.11700779802900844, 'Val Recall': 0.21179883945841393}\n"
     ]
    },
    {
     "name": "stderr",
     "output_type": "stream",
     "text": [
      "c:\\Users\\Sid\\AppData\\Local\\Programs\\Python\\Python39\\lib\\site-packages\\huggingface_hub\\file_download.py:1132: FutureWarning: `resume_download` is deprecated and will be removed in version 1.0.0. Downloads always resume when possible. If you want to force a new download, use `force_download=True`.\n",
      "  warnings.warn(\n",
      "Epoch(s):   6%|\u001b[31m▌         \u001b[0m| 27/450 [49:54<13:01:04, 110.79s/it]c:\\Users\\Sid\\AppData\\Local\\Programs\\Python\\Python39\\lib\\site-packages\\sklearn\\metrics\\_classification.py:1517: UndefinedMetricWarning: Precision is ill-defined and being set to 0.0 in labels with no predicted samples. Use `zero_division` parameter to control this behavior.\n",
      "  _warn_prf(average, modifier, f\"{metric.capitalize()} is\", len(result))\n"
     ]
    },
    {
     "name": "stdout",
     "output_type": "stream",
     "text": [
      "{'Epoch': 28, 'Train Loss': 3.0442222218716006, 'Train Accuracy': 0.18126815101645694, 'Val Loss': 2.3106576626117414, 'Val Accuracy': 0.2678916827852998, 'Val Precision': 0.5159195168612628, 'Val Recall': 0.2678916827852998}\n"
     ]
    },
    {
     "name": "stderr",
     "output_type": "stream",
     "text": [
      "c:\\Users\\Sid\\AppData\\Local\\Programs\\Python\\Python39\\lib\\site-packages\\huggingface_hub\\file_download.py:1132: FutureWarning: `resume_download` is deprecated and will be removed in version 1.0.0. Downloads always resume when possible. If you want to force a new download, use `force_download=True`.\n",
      "  warnings.warn(\n",
      "Epoch(s):   6%|\u001b[31m▌         \u001b[0m| 28/450 [51:45<12:58:58, 110.76s/it]c:\\Users\\Sid\\AppData\\Local\\Programs\\Python\\Python39\\lib\\site-packages\\sklearn\\metrics\\_classification.py:1517: UndefinedMetricWarning: Precision is ill-defined and being set to 0.0 in labels with no predicted samples. Use `zero_division` parameter to control this behavior.\n",
      "  _warn_prf(average, modifier, f\"{metric.capitalize()} is\", len(result))\n"
     ]
    },
    {
     "name": "stdout",
     "output_type": "stream",
     "text": [
      "{'Epoch': 29, 'Train Loss': 2.520016611312807, 'Train Accuracy': 0.23693126815101645, 'Val Loss': 2.188622843302213, 'Val Accuracy': 0.2852998065764023, 'Val Precision': 0.5129716150928229, 'Val Recall': 0.2852998065764023}\n"
     ]
    },
    {
     "name": "stderr",
     "output_type": "stream",
     "text": [
      "c:\\Users\\Sid\\AppData\\Local\\Programs\\Python\\Python39\\lib\\site-packages\\huggingface_hub\\file_download.py:1132: FutureWarning: `resume_download` is deprecated and will be removed in version 1.0.0. Downloads always resume when possible. If you want to force a new download, use `force_download=True`.\n",
      "  warnings.warn(\n",
      "Epoch(s):   6%|\u001b[31m▋         \u001b[0m| 29/450 [53:36<12:56:41, 110.69s/it]c:\\Users\\Sid\\AppData\\Local\\Programs\\Python\\Python39\\lib\\site-packages\\sklearn\\metrics\\_classification.py:1517: UndefinedMetricWarning: Precision is ill-defined and being set to 0.0 in labels with no predicted samples. Use `zero_division` parameter to control this behavior.\n",
      "  _warn_prf(average, modifier, f\"{metric.capitalize()} is\", len(result))\n"
     ]
    },
    {
     "name": "stdout",
     "output_type": "stream",
     "text": [
      "{'Epoch': 30, 'Train Loss': 2.229209551940093, 'Train Accuracy': 0.28291384317521784, 'Val Loss': 2.0790574202170737, 'Val Accuracy': 0.30754352030947774, 'Val Precision': 0.478622878586842, 'Val Recall': 0.30754352030947774}\n"
     ]
    },
    {
     "name": "stderr",
     "output_type": "stream",
     "text": [
      "c:\\Users\\Sid\\AppData\\Local\\Programs\\Python\\Python39\\lib\\site-packages\\huggingface_hub\\file_download.py:1132: FutureWarning: `resume_download` is deprecated and will be removed in version 1.0.0. Downloads always resume when possible. If you want to force a new download, use `force_download=True`.\n",
      "  warnings.warn(\n",
      "Epoch(s):   7%|\u001b[31m▋         \u001b[0m| 30/450 [55:26<12:54:25, 110.63s/it]c:\\Users\\Sid\\AppData\\Local\\Programs\\Python\\Python39\\lib\\site-packages\\sklearn\\metrics\\_classification.py:1517: UndefinedMetricWarning: Precision is ill-defined and being set to 0.0 in labels with no predicted samples. Use `zero_division` parameter to control this behavior.\n",
      "  _warn_prf(average, modifier, f\"{metric.capitalize()} is\", len(result))\n"
     ]
    },
    {
     "name": "stdout",
     "output_type": "stream",
     "text": [
      "{'Epoch': 31, 'Train Loss': 2.1289970023291453, 'Train Accuracy': 0.3206679574056147, 'Val Loss': 1.9853876425669743, 'Val Accuracy': 0.3288201160541586, 'Val Precision': 0.40653195383438545, 'Val Recall': 0.3288201160541586}\n"
     ]
    },
    {
     "name": "stderr",
     "output_type": "stream",
     "text": [
      "c:\\Users\\Sid\\AppData\\Local\\Programs\\Python\\Python39\\lib\\site-packages\\huggingface_hub\\file_download.py:1132: FutureWarning: `resume_download` is deprecated and will be removed in version 1.0.0. Downloads always resume when possible. If you want to force a new download, use `force_download=True`.\n",
      "  warnings.warn(\n",
      "Epoch(s):   7%|\u001b[31m▋         \u001b[0m| 31/450 [57:18<12:54:33, 110.92s/it]c:\\Users\\Sid\\AppData\\Local\\Programs\\Python\\Python39\\lib\\site-packages\\sklearn\\metrics\\_classification.py:1517: UndefinedMetricWarning: Precision is ill-defined and being set to 0.0 in labels with no predicted samples. Use `zero_division` parameter to control this behavior.\n",
      "  _warn_prf(average, modifier, f\"{metric.capitalize()} is\", len(result))\n"
     ]
    },
    {
     "name": "stdout",
     "output_type": "stream",
     "text": [
      "{'Epoch': 32, 'Train Loss': 2.1448950615628806, 'Train Accuracy': 0.3441432720232333, 'Val Loss': 1.9069594915096577, 'Val Accuracy': 0.3529980657640232, 'Val Precision': 0.3458283038350228, 'Val Recall': 0.3529980657640232}\n"
     ]
    },
    {
     "name": "stderr",
     "output_type": "stream",
     "text": [
      "c:\\Users\\Sid\\AppData\\Local\\Programs\\Python\\Python39\\lib\\site-packages\\huggingface_hub\\file_download.py:1132: FutureWarning: `resume_download` is deprecated and will be removed in version 1.0.0. Downloads always resume when possible. If you want to force a new download, use `force_download=True`.\n",
      "  warnings.warn(\n",
      "Epoch(s):   7%|\u001b[31m▋         \u001b[0m| 32/450 [59:08<12:51:58, 110.81s/it]c:\\Users\\Sid\\AppData\\Local\\Programs\\Python\\Python39\\lib\\site-packages\\sklearn\\metrics\\_classification.py:1517: UndefinedMetricWarning: Precision is ill-defined and being set to 0.0 in labels with no predicted samples. Use `zero_division` parameter to control this behavior.\n",
      "  _warn_prf(average, modifier, f\"{metric.capitalize()} is\", len(result))\n"
     ]
    },
    {
     "name": "stdout",
     "output_type": "stream",
     "text": [
      "{'Epoch': 33, 'Train Loss': 13.033225513793326, 'Train Accuracy': 0.3538238141335915, 'Val Loss': 1.8663617024054895, 'Val Accuracy': 0.3945841392649903, 'Val Precision': 0.41221281004174704, 'Val Recall': 0.3945841392649903}\n"
     ]
    },
    {
     "name": "stderr",
     "output_type": "stream",
     "text": [
      "c:\\Users\\Sid\\AppData\\Local\\Programs\\Python\\Python39\\lib\\site-packages\\huggingface_hub\\file_download.py:1132: FutureWarning: `resume_download` is deprecated and will be removed in version 1.0.0. Downloads always resume when possible. If you want to force a new download, use `force_download=True`.\n",
      "  warnings.warn(\n",
      "Epoch(s):   7%|\u001b[31m▋         \u001b[0m| 33/450 [1:00:59<12:49:29, 110.72s/it]c:\\Users\\Sid\\AppData\\Local\\Programs\\Python\\Python39\\lib\\site-packages\\sklearn\\metrics\\_classification.py:1517: UndefinedMetricWarning: Precision is ill-defined and being set to 0.0 in labels with no predicted samples. Use `zero_division` parameter to control this behavior.\n",
      "  _warn_prf(average, modifier, f\"{metric.capitalize()} is\", len(result))\n"
     ]
    },
    {
     "name": "stdout",
     "output_type": "stream",
     "text": [
      "{'Epoch': 34, 'Train Loss': 9.23561725008902, 'Train Accuracy': 0.35091965150048404, 'Val Loss': 1.802978145159208, 'Val Accuracy': 0.40618955512572535, 'Val Precision': 0.3520927266075802, 'Val Recall': 0.40618955512572535}\n"
     ]
    },
    {
     "name": "stderr",
     "output_type": "stream",
     "text": [
      "c:\\Users\\Sid\\AppData\\Local\\Programs\\Python\\Python39\\lib\\site-packages\\huggingface_hub\\file_download.py:1132: FutureWarning: `resume_download` is deprecated and will be removed in version 1.0.0. Downloads always resume when possible. If you want to force a new download, use `force_download=True`.\n",
      "  warnings.warn(\n",
      "Epoch(s):   8%|\u001b[31m▊         \u001b[0m| 34/450 [1:02:50<12:47:35, 110.71s/it]c:\\Users\\Sid\\AppData\\Local\\Programs\\Python\\Python39\\lib\\site-packages\\sklearn\\metrics\\_classification.py:1517: UndefinedMetricWarning: Precision is ill-defined and being set to 0.0 in labels with no predicted samples. Use `zero_division` parameter to control this behavior.\n",
      "  _warn_prf(average, modifier, f\"{metric.capitalize()} is\", len(result))\n"
     ]
    },
    {
     "name": "stdout",
     "output_type": "stream",
     "text": [
      "{'Epoch': 35, 'Train Loss': 4.784488047412004, 'Train Accuracy': 0.3760890609874153, 'Val Loss': 1.7647889412366426, 'Val Accuracy': 0.40522243713733075, 'Val Precision': 0.32167521565917684, 'Val Recall': 0.40522243713733075}\n"
     ]
    },
    {
     "name": "stderr",
     "output_type": "stream",
     "text": [
      "c:\\Users\\Sid\\AppData\\Local\\Programs\\Python\\Python39\\lib\\site-packages\\huggingface_hub\\file_download.py:1132: FutureWarning: `resume_download` is deprecated and will be removed in version 1.0.0. Downloads always resume when possible. If you want to force a new download, use `force_download=True`.\n",
      "  warnings.warn(\n",
      "Epoch(s):   8%|\u001b[31m▊         \u001b[0m| 35/450 [1:04:41<12:46:29, 110.82s/it]c:\\Users\\Sid\\AppData\\Local\\Programs\\Python\\Python39\\lib\\site-packages\\sklearn\\metrics\\_classification.py:1517: UndefinedMetricWarning: Precision is ill-defined and being set to 0.0 in labels with no predicted samples. Use `zero_division` parameter to control this behavior.\n",
      "  _warn_prf(average, modifier, f\"{metric.capitalize()} is\", len(result))\n"
     ]
    },
    {
     "name": "stdout",
     "output_type": "stream",
     "text": [
      "{'Epoch': 36, 'Train Loss': 4.051882118792148, 'Train Accuracy': 0.38286544046466603, 'Val Loss': 1.7360319027533897, 'Val Accuracy': 0.402321083172147, 'Val Precision': 0.3059457626469344, 'Val Recall': 0.402321083172147}\n"
     ]
    },
    {
     "name": "stderr",
     "output_type": "stream",
     "text": [
      "c:\\Users\\Sid\\AppData\\Local\\Programs\\Python\\Python39\\lib\\site-packages\\huggingface_hub\\file_download.py:1132: FutureWarning: `resume_download` is deprecated and will be removed in version 1.0.0. Downloads always resume when possible. If you want to force a new download, use `force_download=True`.\n",
      "  warnings.warn(\n",
      "Epoch(s):   8%|\u001b[31m▊         \u001b[0m| 36/450 [1:06:32<12:45:46, 110.98s/it]c:\\Users\\Sid\\AppData\\Local\\Programs\\Python\\Python39\\lib\\site-packages\\sklearn\\metrics\\_classification.py:1517: UndefinedMetricWarning: Precision is ill-defined and being set to 0.0 in labels with no predicted samples. Use `zero_division` parameter to control this behavior.\n",
      "  _warn_prf(average, modifier, f\"{metric.capitalize()} is\", len(result))\n"
     ]
    },
    {
     "name": "stdout",
     "output_type": "stream",
     "text": [
      "{'Epoch': 37, 'Train Loss': 2.9895923225115624, 'Train Accuracy': 0.3760890609874153, 'Val Loss': 1.733615570801955, 'Val Accuracy': 0.38104448742746616, 'Val Precision': 0.29952504997711343, 'Val Recall': 0.38104448742746616}\n"
     ]
    },
    {
     "name": "stderr",
     "output_type": "stream",
     "text": [
      "c:\\Users\\Sid\\AppData\\Local\\Programs\\Python\\Python39\\lib\\site-packages\\huggingface_hub\\file_download.py:1132: FutureWarning: `resume_download` is deprecated and will be removed in version 1.0.0. Downloads always resume when possible. If you want to force a new download, use `force_download=True`.\n",
      "  warnings.warn(\n",
      "Epoch(s):   8%|\u001b[31m▊         \u001b[0m| 37/450 [1:08:23<12:43:16, 110.89s/it]c:\\Users\\Sid\\AppData\\Local\\Programs\\Python\\Python39\\lib\\site-packages\\sklearn\\metrics\\_classification.py:1517: UndefinedMetricWarning: Precision is ill-defined and being set to 0.0 in labels with no predicted samples. Use `zero_division` parameter to control this behavior.\n",
      "  _warn_prf(average, modifier, f\"{metric.capitalize()} is\", len(result))\n"
     ]
    },
    {
     "name": "stdout",
     "output_type": "stream",
     "text": [
      "{'Epoch': 38, 'Train Loss': 1.8331010926184046, 'Train Accuracy': 0.372216844143272, 'Val Loss': 1.7038210740456214, 'Val Accuracy': 0.3858800773694391, 'Val Precision': 0.303358763193124, 'Val Recall': 0.3858800773694391}\n"
     ]
    },
    {
     "name": "stderr",
     "output_type": "stream",
     "text": [
      "c:\\Users\\Sid\\AppData\\Local\\Programs\\Python\\Python39\\lib\\site-packages\\huggingface_hub\\file_download.py:1132: FutureWarning: `resume_download` is deprecated and will be removed in version 1.0.0. Downloads always resume when possible. If you want to force a new download, use `force_download=True`.\n",
      "  warnings.warn(\n",
      "Epoch(s):   8%|\u001b[31m▊         \u001b[0m| 38/450 [1:10:13<12:40:43, 110.78s/it]c:\\Users\\Sid\\AppData\\Local\\Programs\\Python\\Python39\\lib\\site-packages\\sklearn\\metrics\\_classification.py:1517: UndefinedMetricWarning: Precision is ill-defined and being set to 0.0 in labels with no predicted samples. Use `zero_division` parameter to control this behavior.\n",
      "  _warn_prf(average, modifier, f\"{metric.capitalize()} is\", len(result))\n"
     ]
    },
    {
     "name": "stdout",
     "output_type": "stream",
     "text": [
      "{'Epoch': 39, 'Train Loss': 1.812121727751949, 'Train Accuracy': 0.3792352371732817, 'Val Loss': 1.6757991809111374, 'Val Accuracy': 0.3897485493230174, 'Val Precision': 0.3598529911724739, 'Val Recall': 0.3897485493230174}\n"
     ]
    },
    {
     "name": "stderr",
     "output_type": "stream",
     "text": [
      "c:\\Users\\Sid\\AppData\\Local\\Programs\\Python\\Python39\\lib\\site-packages\\huggingface_hub\\file_download.py:1132: FutureWarning: `resume_download` is deprecated and will be removed in version 1.0.0. Downloads always resume when possible. If you want to force a new download, use `force_download=True`.\n",
      "  warnings.warn(\n",
      "Epoch(s):   9%|\u001b[31m▊         \u001b[0m| 39/450 [1:12:04<12:38:24, 110.72s/it]c:\\Users\\Sid\\AppData\\Local\\Programs\\Python\\Python39\\lib\\site-packages\\sklearn\\metrics\\_classification.py:1517: UndefinedMetricWarning: Precision is ill-defined and being set to 0.0 in labels with no predicted samples. Use `zero_division` parameter to control this behavior.\n",
      "  _warn_prf(average, modifier, f\"{metric.capitalize()} is\", len(result))\n"
     ]
    },
    {
     "name": "stdout",
     "output_type": "stream",
     "text": [
      "{'Epoch': 40, 'Train Loss': 1.7638759746514692, 'Train Accuracy': 0.3862536302032914, 'Val Loss': 1.647772323168241, 'Val Accuracy': 0.39264990328820115, 'Val Precision': 0.2934777672296105, 'Val Recall': 0.39264990328820115}\n"
     ]
    },
    {
     "name": "stderr",
     "output_type": "stream",
     "text": [
      "c:\\Users\\Sid\\AppData\\Local\\Programs\\Python\\Python39\\lib\\site-packages\\huggingface_hub\\file_download.py:1132: FutureWarning: `resume_download` is deprecated and will be removed in version 1.0.0. Downloads always resume when possible. If you want to force a new download, use `force_download=True`.\n",
      "  warnings.warn(\n",
      "Epoch(s):   9%|\u001b[31m▉         \u001b[0m| 40/450 [1:13:54<12:36:09, 110.66s/it]c:\\Users\\Sid\\AppData\\Local\\Programs\\Python\\Python39\\lib\\site-packages\\sklearn\\metrics\\_classification.py:1517: UndefinedMetricWarning: Precision is ill-defined and being set to 0.0 in labels with no predicted samples. Use `zero_division` parameter to control this behavior.\n",
      "  _warn_prf(average, modifier, f\"{metric.capitalize()} is\", len(result))\n"
     ]
    },
    {
     "name": "stdout",
     "output_type": "stream",
     "text": [
      "{'Epoch': 41, 'Train Loss': 1.7949895251211512, 'Train Accuracy': 0.39036786060019363, 'Val Loss': 1.6201720072672918, 'Val Accuracy': 0.4032882011605416, 'Val Precision': 0.3008379648899444, 'Val Recall': 0.4032882011605416}\n"
     ]
    },
    {
     "name": "stderr",
     "output_type": "stream",
     "text": [
      "c:\\Users\\Sid\\AppData\\Local\\Programs\\Python\\Python39\\lib\\site-packages\\huggingface_hub\\file_download.py:1132: FutureWarning: `resume_download` is deprecated and will be removed in version 1.0.0. Downloads always resume when possible. If you want to force a new download, use `force_download=True`.\n",
      "  warnings.warn(\n",
      "Epoch(s):   9%|\u001b[31m▉         \u001b[0m| 41/450 [1:15:45<12:35:06, 110.77s/it]c:\\Users\\Sid\\AppData\\Local\\Programs\\Python\\Python39\\lib\\site-packages\\sklearn\\metrics\\_classification.py:1517: UndefinedMetricWarning: Precision is ill-defined and being set to 0.0 in labels with no predicted samples. Use `zero_division` parameter to control this behavior.\n",
      "  _warn_prf(average, modifier, f\"{metric.capitalize()} is\", len(result))\n"
     ]
    },
    {
     "name": "stdout",
     "output_type": "stream",
     "text": [
      "{'Epoch': 42, 'Train Loss': 1.7073216691440598, 'Train Accuracy': 0.4116650532429816, 'Val Loss': 1.590630080149724, 'Val Accuracy': 0.40618955512572535, 'Val Precision': 0.3060097032880238, 'Val Recall': 0.40618955512572535}\n"
     ]
    },
    {
     "name": "stderr",
     "output_type": "stream",
     "text": [
      "c:\\Users\\Sid\\AppData\\Local\\Programs\\Python\\Python39\\lib\\site-packages\\huggingface_hub\\file_download.py:1132: FutureWarning: `resume_download` is deprecated and will be removed in version 1.0.0. Downloads always resume when possible. If you want to force a new download, use `force_download=True`.\n",
      "  warnings.warn(\n",
      "Epoch(s):   9%|\u001b[31m▉         \u001b[0m| 42/450 [1:17:36<12:33:38, 110.83s/it]c:\\Users\\Sid\\AppData\\Local\\Programs\\Python\\Python39\\lib\\site-packages\\sklearn\\metrics\\_classification.py:1517: UndefinedMetricWarning: Precision is ill-defined and being set to 0.0 in labels with no predicted samples. Use `zero_division` parameter to control this behavior.\n",
      "  _warn_prf(average, modifier, f\"{metric.capitalize()} is\", len(result))\n"
     ]
    },
    {
     "name": "stdout",
     "output_type": "stream",
     "text": [
      "{'Epoch': 43, 'Train Loss': 1.6677701201678243, 'Train Accuracy': 0.4085188770571152, 'Val Loss': 1.5600669182263889, 'Val Accuracy': 0.4148936170212766, 'Val Precision': 0.31469039153893213, 'Val Recall': 0.4148936170212766}\n"
     ]
    },
    {
     "name": "stderr",
     "output_type": "stream",
     "text": [
      "c:\\Users\\Sid\\AppData\\Local\\Programs\\Python\\Python39\\lib\\site-packages\\huggingface_hub\\file_download.py:1132: FutureWarning: `resume_download` is deprecated and will be removed in version 1.0.0. Downloads always resume when possible. If you want to force a new download, use `force_download=True`.\n",
      "  warnings.warn(\n",
      "Epoch(s):  10%|\u001b[31m▉         \u001b[0m| 43/450 [1:19:27<12:31:18, 110.76s/it]c:\\Users\\Sid\\AppData\\Local\\Programs\\Python\\Python39\\lib\\site-packages\\sklearn\\metrics\\_classification.py:1517: UndefinedMetricWarning: Precision is ill-defined and being set to 0.0 in labels with no predicted samples. Use `zero_division` parameter to control this behavior.\n",
      "  _warn_prf(average, modifier, f\"{metric.capitalize()} is\", len(result))\n"
     ]
    },
    {
     "name": "stdout",
     "output_type": "stream",
     "text": [
      "{'Epoch': 44, 'Train Loss': 1.6375604078576371, 'Train Accuracy': 0.4119070667957406, 'Val Loss': 1.5287718497789824, 'Val Accuracy': 0.4197292069632495, 'Val Precision': 0.31610342757830184, 'Val Recall': 0.4197292069632495}\n"
     ]
    },
    {
     "name": "stderr",
     "output_type": "stream",
     "text": [
      "c:\\Users\\Sid\\AppData\\Local\\Programs\\Python\\Python39\\lib\\site-packages\\huggingface_hub\\file_download.py:1132: FutureWarning: `resume_download` is deprecated and will be removed in version 1.0.0. Downloads always resume when possible. If you want to force a new download, use `force_download=True`.\n",
      "  warnings.warn(\n",
      "Epoch(s):  10%|\u001b[31m▉         \u001b[0m| 44/450 [1:21:18<12:30:02, 110.84s/it]c:\\Users\\Sid\\AppData\\Local\\Programs\\Python\\Python39\\lib\\site-packages\\sklearn\\metrics\\_classification.py:1517: UndefinedMetricWarning: Precision is ill-defined and being set to 0.0 in labels with no predicted samples. Use `zero_division` parameter to control this behavior.\n",
      "  _warn_prf(average, modifier, f\"{metric.capitalize()} is\", len(result))\n"
     ]
    },
    {
     "name": "stdout",
     "output_type": "stream",
     "text": [
      "{'Epoch': 45, 'Train Loss': 1.6111921210086484, 'Train Accuracy': 0.4048886737657309, 'Val Loss': 1.5023827130977925, 'Val Accuracy': 0.4245647969052224, 'Val Precision': 0.32411878736435773, 'Val Recall': 0.4245647969052224}\n"
     ]
    },
    {
     "name": "stderr",
     "output_type": "stream",
     "text": [
      "c:\\Users\\Sid\\AppData\\Local\\Programs\\Python\\Python39\\lib\\site-packages\\huggingface_hub\\file_download.py:1132: FutureWarning: `resume_download` is deprecated and will be removed in version 1.0.0. Downloads always resume when possible. If you want to force a new download, use `force_download=True`.\n",
      "  warnings.warn(\n",
      "Epoch(s):  10%|\u001b[31m█         \u001b[0m| 45/450 [1:23:08<12:27:29, 110.74s/it]c:\\Users\\Sid\\AppData\\Local\\Programs\\Python\\Python39\\lib\\site-packages\\sklearn\\metrics\\_classification.py:1517: UndefinedMetricWarning: Precision is ill-defined and being set to 0.0 in labels with no predicted samples. Use `zero_division` parameter to control this behavior.\n",
      "  _warn_prf(average, modifier, f\"{metric.capitalize()} is\", len(result))\n"
     ]
    },
    {
     "name": "stdout",
     "output_type": "stream",
     "text": [
      "{'Epoch': 46, 'Train Loss': 1.5755510661592815, 'Train Accuracy': 0.41529525653436594, 'Val Loss': 1.4792337307563195, 'Val Accuracy': 0.43133462282398455, 'Val Precision': 0.3302768236923989, 'Val Recall': 0.43133462282398455}\n"
     ]
    },
    {
     "name": "stderr",
     "output_type": "stream",
     "text": [
      "c:\\Users\\Sid\\AppData\\Local\\Programs\\Python\\Python39\\lib\\site-packages\\huggingface_hub\\file_download.py:1132: FutureWarning: `resume_download` is deprecated and will be removed in version 1.0.0. Downloads always resume when possible. If you want to force a new download, use `force_download=True`.\n",
      "  warnings.warn(\n",
      "Epoch(s):  10%|\u001b[31m█         \u001b[0m| 46/450 [1:24:59<12:25:03, 110.65s/it]c:\\Users\\Sid\\AppData\\Local\\Programs\\Python\\Python39\\lib\\site-packages\\sklearn\\metrics\\_classification.py:1517: UndefinedMetricWarning: Precision is ill-defined and being set to 0.0 in labels with no predicted samples. Use `zero_division` parameter to control this behavior.\n",
      "  _warn_prf(average, modifier, f\"{metric.capitalize()} is\", len(result))\n"
     ]
    },
    {
     "name": "stdout",
     "output_type": "stream",
     "text": [
      "{'Epoch': 47, 'Train Loss': 1.543680817924411, 'Train Accuracy': 0.4332042594385286, 'Val Loss': 1.4591369197918818, 'Val Accuracy': 0.4410058027079304, 'Val Precision': 0.3873875216804386, 'Val Recall': 0.4410058027079304}\n"
     ]
    },
    {
     "name": "stderr",
     "output_type": "stream",
     "text": [
      "c:\\Users\\Sid\\AppData\\Local\\Programs\\Python\\Python39\\lib\\site-packages\\huggingface_hub\\file_download.py:1132: FutureWarning: `resume_download` is deprecated and will be removed in version 1.0.0. Downloads always resume when possible. If you want to force a new download, use `force_download=True`.\n",
      "  warnings.warn(\n",
      "Epoch(s):  10%|\u001b[31m█         \u001b[0m| 47/450 [1:26:50<12:24:09, 110.79s/it]c:\\Users\\Sid\\AppData\\Local\\Programs\\Python\\Python39\\lib\\site-packages\\sklearn\\metrics\\_classification.py:1517: UndefinedMetricWarning: Precision is ill-defined and being set to 0.0 in labels with no predicted samples. Use `zero_division` parameter to control this behavior.\n",
      "  _warn_prf(average, modifier, f\"{metric.capitalize()} is\", len(result))\n"
     ]
    },
    {
     "name": "stdout",
     "output_type": "stream",
     "text": [
      "{'Epoch': 48, 'Train Loss': 1.5278926839239348, 'Train Accuracy': 0.43489835430784124, 'Val Loss': 1.443399439408229, 'Val Accuracy': 0.45357833655706, 'Val Precision': 0.40418812171002405, 'Val Recall': 0.45357833655706}\n"
     ]
    },
    {
     "name": "stderr",
     "output_type": "stream",
     "text": [
      "c:\\Users\\Sid\\AppData\\Local\\Programs\\Python\\Python39\\lib\\site-packages\\huggingface_hub\\file_download.py:1132: FutureWarning: `resume_download` is deprecated and will be removed in version 1.0.0. Downloads always resume when possible. If you want to force a new download, use `force_download=True`.\n",
      "  warnings.warn(\n",
      "Epoch(s):  11%|\u001b[31m█         \u001b[0m| 48/450 [1:28:41<12:22:33, 110.83s/it]c:\\Users\\Sid\\AppData\\Local\\Programs\\Python\\Python39\\lib\\site-packages\\sklearn\\metrics\\_classification.py:1517: UndefinedMetricWarning: Precision is ill-defined and being set to 0.0 in labels with no predicted samples. Use `zero_division` parameter to control this behavior.\n",
      "  _warn_prf(average, modifier, f\"{metric.capitalize()} is\", len(result))\n"
     ]
    },
    {
     "name": "stdout",
     "output_type": "stream",
     "text": [
      "{'Epoch': 49, 'Train Loss': 1.5119094031657951, 'Train Accuracy': 0.4392545982575024, 'Val Loss': 1.4277984527441172, 'Val Accuracy': 0.46131528046421666, 'Val Precision': 0.41587705935612, 'Val Recall': 0.46131528046421666}\n"
     ]
    },
    {
     "name": "stderr",
     "output_type": "stream",
     "text": [
      "c:\\Users\\Sid\\AppData\\Local\\Programs\\Python\\Python39\\lib\\site-packages\\huggingface_hub\\file_download.py:1132: FutureWarning: `resume_download` is deprecated and will be removed in version 1.0.0. Downloads always resume when possible. If you want to force a new download, use `force_download=True`.\n",
      "  warnings.warn(\n",
      "Epoch(s):  11%|\u001b[31m█         \u001b[0m| 49/450 [1:30:32<12:20:42, 110.83s/it]c:\\Users\\Sid\\AppData\\Local\\Programs\\Python\\Python39\\lib\\site-packages\\sklearn\\metrics\\_classification.py:1517: UndefinedMetricWarning: Precision is ill-defined and being set to 0.0 in labels with no predicted samples. Use `zero_division` parameter to control this behavior.\n",
      "  _warn_prf(average, modifier, f\"{metric.capitalize()} is\", len(result))\n"
     ]
    },
    {
     "name": "stdout",
     "output_type": "stream",
     "text": [
      "{'Epoch': 50, 'Train Loss': 1.545605000611898, 'Train Accuracy': 0.44724104549854793, 'Val Loss': 1.432082438468933, 'Val Accuracy': 0.4584139264990329, 'Val Precision': 0.42393783112764366, 'Val Recall': 0.4584139264990329}\n"
     ]
    },
    {
     "name": "stderr",
     "output_type": "stream",
     "text": [
      "c:\\Users\\Sid\\AppData\\Local\\Programs\\Python\\Python39\\lib\\site-packages\\huggingface_hub\\file_download.py:1132: FutureWarning: `resume_download` is deprecated and will be removed in version 1.0.0. Downloads always resume when possible. If you want to force a new download, use `force_download=True`.\n",
      "  warnings.warn(\n",
      "Epoch(s):  11%|\u001b[31m█         \u001b[0m| 50/450 [1:32:23<12:19:12, 110.88s/it]c:\\Users\\Sid\\AppData\\Local\\Programs\\Python\\Python39\\lib\\site-packages\\sklearn\\metrics\\_classification.py:1517: UndefinedMetricWarning: Precision is ill-defined and being set to 0.0 in labels with no predicted samples. Use `zero_division` parameter to control this behavior.\n",
      "  _warn_prf(average, modifier, f\"{metric.capitalize()} is\", len(result))\n"
     ]
    },
    {
     "name": "stdout",
     "output_type": "stream",
     "text": [
      "{'Epoch': 51, 'Train Loss': 1.4798161256267297, 'Train Accuracy': 0.4678121974830591, 'Val Loss': 1.4115303617257338, 'Val Accuracy': 0.47195357833655704, 'Val Precision': 0.4251587068600969, 'Val Recall': 0.47195357833655704}\n"
     ]
    },
    {
     "name": "stderr",
     "output_type": "stream",
     "text": [
      "c:\\Users\\Sid\\AppData\\Local\\Programs\\Python\\Python39\\lib\\site-packages\\huggingface_hub\\file_download.py:1132: FutureWarning: `resume_download` is deprecated and will be removed in version 1.0.0. Downloads always resume when possible. If you want to force a new download, use `force_download=True`.\n",
      "  warnings.warn(\n",
      "Epoch(s):  11%|\u001b[31m█▏        \u001b[0m| 51/450 [1:34:14<12:17:44, 110.94s/it]c:\\Users\\Sid\\AppData\\Local\\Programs\\Python\\Python39\\lib\\site-packages\\sklearn\\metrics\\_classification.py:1517: UndefinedMetricWarning: Precision is ill-defined and being set to 0.0 in labels with no predicted samples. Use `zero_division` parameter to control this behavior.\n",
      "  _warn_prf(average, modifier, f\"{metric.capitalize()} is\", len(result))\n"
     ]
    },
    {
     "name": "stdout",
     "output_type": "stream",
     "text": [
      "{'Epoch': 52, 'Train Loss': 1.4680810437239276, 'Train Accuracy': 0.4666021297192643, 'Val Loss': 1.3847554041789127, 'Val Accuracy': 0.5067698259187621, 'Val Precision': 0.45933935341951415, 'Val Recall': 0.5067698259187621}\n"
     ]
    },
    {
     "name": "stderr",
     "output_type": "stream",
     "text": [
      "c:\\Users\\Sid\\AppData\\Local\\Programs\\Python\\Python39\\lib\\site-packages\\huggingface_hub\\file_download.py:1132: FutureWarning: `resume_download` is deprecated and will be removed in version 1.0.0. Downloads always resume when possible. If you want to force a new download, use `force_download=True`.\n",
      "  warnings.warn(\n",
      "Epoch(s):  12%|\u001b[31m█▏        \u001b[0m| 52/450 [1:36:05<12:15:36, 110.90s/it]c:\\Users\\Sid\\AppData\\Local\\Programs\\Python\\Python39\\lib\\site-packages\\sklearn\\metrics\\_classification.py:1517: UndefinedMetricWarning: Precision is ill-defined and being set to 0.0 in labels with no predicted samples. Use `zero_division` parameter to control this behavior.\n",
      "  _warn_prf(average, modifier, f\"{metric.capitalize()} is\", len(result))\n"
     ]
    },
    {
     "name": "stdout",
     "output_type": "stream",
     "text": [
      "{'Epoch': 53, 'Train Loss': 1.4409592842043137, 'Train Accuracy': 0.4900774443368829, 'Val Loss': 1.3627371155298673, 'Val Accuracy': 0.5261121856866537, 'Val Precision': 0.47222733899790414, 'Val Recall': 0.5261121856866537}\n"
     ]
    },
    {
     "name": "stderr",
     "output_type": "stream",
     "text": [
      "c:\\Users\\Sid\\AppData\\Local\\Programs\\Python\\Python39\\lib\\site-packages\\huggingface_hub\\file_download.py:1132: FutureWarning: `resume_download` is deprecated and will be removed in version 1.0.0. Downloads always resume when possible. If you want to force a new download, use `force_download=True`.\n",
      "  warnings.warn(\n",
      "Epoch(s):  12%|\u001b[31m█▏        \u001b[0m| 53/450 [1:37:55<12:13:03, 110.79s/it]c:\\Users\\Sid\\AppData\\Local\\Programs\\Python\\Python39\\lib\\site-packages\\sklearn\\metrics\\_classification.py:1517: UndefinedMetricWarning: Precision is ill-defined and being set to 0.0 in labels with no predicted samples. Use `zero_division` parameter to control this behavior.\n",
      "  _warn_prf(average, modifier, f\"{metric.capitalize()} is\", len(result))\n"
     ]
    },
    {
     "name": "stdout",
     "output_type": "stream",
     "text": [
      "{'Epoch': 54, 'Train Loss': 1.4176384118533043, 'Train Accuracy': 0.5029041626331074, 'Val Loss': 1.3439452281365027, 'Val Accuracy': 0.5338491295938105, 'Val Precision': 0.5121306511884184, 'Val Recall': 0.5338491295938105}\n"
     ]
    },
    {
     "name": "stderr",
     "output_type": "stream",
     "text": [
      "c:\\Users\\Sid\\AppData\\Local\\Programs\\Python\\Python39\\lib\\site-packages\\huggingface_hub\\file_download.py:1132: FutureWarning: `resume_download` is deprecated and will be removed in version 1.0.0. Downloads always resume when possible. If you want to force a new download, use `force_download=True`.\n",
      "  warnings.warn(\n",
      "Epoch(s):  12%|\u001b[31m█▏        \u001b[0m| 54/450 [1:39:46<12:10:42, 110.71s/it]c:\\Users\\Sid\\AppData\\Local\\Programs\\Python\\Python39\\lib\\site-packages\\sklearn\\metrics\\_classification.py:1517: UndefinedMetricWarning: Precision is ill-defined and being set to 0.0 in labels with no predicted samples. Use `zero_division` parameter to control this behavior.\n",
      "  _warn_prf(average, modifier, f\"{metric.capitalize()} is\", len(result))\n"
     ]
    },
    {
     "name": "stdout",
     "output_type": "stream",
     "text": [
      "{'Epoch': 55, 'Train Loss': 1.4028219223942997, 'Train Accuracy': 0.4978218780251694, 'Val Loss': 1.3233517692639278, 'Val Accuracy': 0.5435203094777563, 'Val Precision': 0.5142629994702321, 'Val Recall': 0.5435203094777563}\n"
     ]
    },
    {
     "name": "stderr",
     "output_type": "stream",
     "text": [
      "c:\\Users\\Sid\\AppData\\Local\\Programs\\Python\\Python39\\lib\\site-packages\\huggingface_hub\\file_download.py:1132: FutureWarning: `resume_download` is deprecated and will be removed in version 1.0.0. Downloads always resume when possible. If you want to force a new download, use `force_download=True`.\n",
      "  warnings.warn(\n",
      "Epoch(s):  12%|\u001b[31m█▏        \u001b[0m| 55/450 [1:41:37<12:09:21, 110.79s/it]c:\\Users\\Sid\\AppData\\Local\\Programs\\Python\\Python39\\lib\\site-packages\\sklearn\\metrics\\_classification.py:1517: UndefinedMetricWarning: Precision is ill-defined and being set to 0.0 in labels with no predicted samples. Use `zero_division` parameter to control this behavior.\n",
      "  _warn_prf(average, modifier, f\"{metric.capitalize()} is\", len(result))\n"
     ]
    },
    {
     "name": "stdout",
     "output_type": "stream",
     "text": [
      "{'Epoch': 56, 'Train Loss': 1.3817375283904056, 'Train Accuracy': 0.5118586640851888, 'Val Loss': 1.3039284247618455, 'Val Accuracy': 0.5512572533849129, 'Val Precision': 0.5429870664304827, 'Val Recall': 0.5512572533849129}\n"
     ]
    },
    {
     "name": "stderr",
     "output_type": "stream",
     "text": [
      "c:\\Users\\Sid\\AppData\\Local\\Programs\\Python\\Python39\\lib\\site-packages\\huggingface_hub\\file_download.py:1132: FutureWarning: `resume_download` is deprecated and will be removed in version 1.0.0. Downloads always resume when possible. If you want to force a new download, use `force_download=True`.\n",
      "  warnings.warn(\n",
      "Epoch(s):  12%|\u001b[31m█▏        \u001b[0m| 56/450 [1:43:28<12:08:40, 110.96s/it]c:\\Users\\Sid\\AppData\\Local\\Programs\\Python\\Python39\\lib\\site-packages\\sklearn\\metrics\\_classification.py:1517: UndefinedMetricWarning: Precision is ill-defined and being set to 0.0 in labels with no predicted samples. Use `zero_division` parameter to control this behavior.\n",
      "  _warn_prf(average, modifier, f\"{metric.capitalize()} is\", len(result))\n"
     ]
    },
    {
     "name": "stdout",
     "output_type": "stream",
     "text": [
      "{'Epoch': 57, 'Train Loss': 1.3520969373378975, 'Train Accuracy': 0.5302516940948693, 'Val Loss': 1.2763368285619296, 'Val Accuracy': 0.6160541586073501, 'Val Precision': 0.558981381881618, 'Val Recall': 0.6160541586073501}\n"
     ]
    },
    {
     "name": "stderr",
     "output_type": "stream",
     "text": [
      "c:\\Users\\Sid\\AppData\\Local\\Programs\\Python\\Python39\\lib\\site-packages\\huggingface_hub\\file_download.py:1132: FutureWarning: `resume_download` is deprecated and will be removed in version 1.0.0. Downloads always resume when possible. If you want to force a new download, use `force_download=True`.\n",
      "  warnings.warn(\n",
      "Epoch(s):  13%|\u001b[31m█▎        \u001b[0m| 57/450 [1:45:18<12:05:42, 110.79s/it]c:\\Users\\Sid\\AppData\\Local\\Programs\\Python\\Python39\\lib\\site-packages\\sklearn\\metrics\\_classification.py:1517: UndefinedMetricWarning: Precision is ill-defined and being set to 0.0 in labels with no predicted samples. Use `zero_division` parameter to control this behavior.\n",
      "  _warn_prf(average, modifier, f\"{metric.capitalize()} is\", len(result))\n"
     ]
    },
    {
     "name": "stdout",
     "output_type": "stream",
     "text": [
      "{'Epoch': 58, 'Train Loss': 1.335738054573766, 'Train Accuracy': 0.5505808325266215, 'Val Loss': 1.2534314687435444, 'Val Accuracy': 0.6411992263056093, 'Val Precision': 0.5832125094059529, 'Val Recall': 0.6411992263056093}\n"
     ]
    },
    {
     "name": "stderr",
     "output_type": "stream",
     "text": [
      "c:\\Users\\Sid\\AppData\\Local\\Programs\\Python\\Python39\\lib\\site-packages\\huggingface_hub\\file_download.py:1132: FutureWarning: `resume_download` is deprecated and will be removed in version 1.0.0. Downloads always resume when possible. If you want to force a new download, use `force_download=True`.\n",
      "  warnings.warn(\n",
      "Epoch(s):  13%|\u001b[31m█▎        \u001b[0m| 58/450 [1:47:09<12:04:17, 110.86s/it]c:\\Users\\Sid\\AppData\\Local\\Programs\\Python\\Python39\\lib\\site-packages\\sklearn\\metrics\\_classification.py:1517: UndefinedMetricWarning: Precision is ill-defined and being set to 0.0 in labels with no predicted samples. Use `zero_division` parameter to control this behavior.\n",
      "  _warn_prf(average, modifier, f\"{metric.capitalize()} is\", len(result))\n"
     ]
    },
    {
     "name": "stdout",
     "output_type": "stream",
     "text": [
      "{'Epoch': 59, 'Train Loss': 1.3181533808873886, 'Train Accuracy': 0.5544530493707648, 'Val Loss': 1.2375851942942693, 'Val Accuracy': 0.6344294003868471, 'Val Precision': 0.5917744574322613, 'Val Recall': 0.6344294003868471}\n"
     ]
    },
    {
     "name": "stderr",
     "output_type": "stream",
     "text": [
      "c:\\Users\\Sid\\AppData\\Local\\Programs\\Python\\Python39\\lib\\site-packages\\huggingface_hub\\file_download.py:1132: FutureWarning: `resume_download` is deprecated and will be removed in version 1.0.0. Downloads always resume when possible. If you want to force a new download, use `force_download=True`.\n",
      "  warnings.warn(\n",
      "Epoch(s):  13%|\u001b[31m█▎        \u001b[0m| 59/450 [1:49:00<12:01:34, 110.73s/it]c:\\Users\\Sid\\AppData\\Local\\Programs\\Python\\Python39\\lib\\site-packages\\sklearn\\metrics\\_classification.py:1517: UndefinedMetricWarning: Precision is ill-defined and being set to 0.0 in labels with no predicted samples. Use `zero_division` parameter to control this behavior.\n",
      "  _warn_prf(average, modifier, f\"{metric.capitalize()} is\", len(result))\n"
     ]
    },
    {
     "name": "stdout",
     "output_type": "stream",
     "text": [
      "{'Epoch': 60, 'Train Loss': 1.2884483450167887, 'Train Accuracy': 0.5721200387221684, 'Val Loss': 1.2174234912945674, 'Val Accuracy': 0.6470019342359767, 'Val Precision': 0.5912125912028425, 'Val Recall': 0.6470019342359767}\n"
     ]
    },
    {
     "name": "stderr",
     "output_type": "stream",
     "text": [
      "c:\\Users\\Sid\\AppData\\Local\\Programs\\Python\\Python39\\lib\\site-packages\\huggingface_hub\\file_download.py:1132: FutureWarning: `resume_download` is deprecated and will be removed in version 1.0.0. Downloads always resume when possible. If you want to force a new download, use `force_download=True`.\n",
      "  warnings.warn(\n",
      "Epoch(s):  13%|\u001b[31m█▎        \u001b[0m| 60/450 [1:50:50<11:59:30, 110.69s/it]c:\\Users\\Sid\\AppData\\Local\\Programs\\Python\\Python39\\lib\\site-packages\\sklearn\\metrics\\_classification.py:1517: UndefinedMetricWarning: Precision is ill-defined and being set to 0.0 in labels with no predicted samples. Use `zero_division` parameter to control this behavior.\n",
      "  _warn_prf(average, modifier, f\"{metric.capitalize()} is\", len(result))\n"
     ]
    },
    {
     "name": "stdout",
     "output_type": "stream",
     "text": [
      "{'Epoch': 61, 'Train Loss': 1.2649323506474954, 'Train Accuracy': 0.5883349467570184, 'Val Loss': 1.196999570956597, 'Val Accuracy': 0.6692456479690522, 'Val Precision': 0.6185573627868003, 'Val Recall': 0.6692456479690522}\n"
     ]
    },
    {
     "name": "stderr",
     "output_type": "stream",
     "text": [
      "c:\\Users\\Sid\\AppData\\Local\\Programs\\Python\\Python39\\lib\\site-packages\\huggingface_hub\\file_download.py:1132: FutureWarning: `resume_download` is deprecated and will be removed in version 1.0.0. Downloads always resume when possible. If you want to force a new download, use `force_download=True`.\n",
      "  warnings.warn(\n",
      "Epoch(s):  14%|\u001b[31m█▎        \u001b[0m| 61/450 [1:52:41<11:58:08, 110.77s/it]c:\\Users\\Sid\\AppData\\Local\\Programs\\Python\\Python39\\lib\\site-packages\\sklearn\\metrics\\_classification.py:1517: UndefinedMetricWarning: Precision is ill-defined and being set to 0.0 in labels with no predicted samples. Use `zero_division` parameter to control this behavior.\n",
      "  _warn_prf(average, modifier, f\"{metric.capitalize()} is\", len(result))\n"
     ]
    },
    {
     "name": "stdout",
     "output_type": "stream",
     "text": [
      "{'Epoch': 62, 'Train Loss': 1.2448702942450534, 'Train Accuracy': 0.5994675701839303, 'Val Loss': 1.1692133885163527, 'Val Accuracy': 0.7166344294003868, 'Val Precision': 0.6380351862227195, 'Val Recall': 0.7166344294003868}\n"
     ]
    },
    {
     "name": "stderr",
     "output_type": "stream",
     "text": [
      "c:\\Users\\Sid\\AppData\\Local\\Programs\\Python\\Python39\\lib\\site-packages\\huggingface_hub\\file_download.py:1132: FutureWarning: `resume_download` is deprecated and will be removed in version 1.0.0. Downloads always resume when possible. If you want to force a new download, use `force_download=True`.\n",
      "  warnings.warn(\n",
      "Epoch(s):  14%|\u001b[31m█▍        \u001b[0m| 62/450 [1:54:32<11:55:56, 110.71s/it]c:\\Users\\Sid\\AppData\\Local\\Programs\\Python\\Python39\\lib\\site-packages\\sklearn\\metrics\\_classification.py:1517: UndefinedMetricWarning: Precision is ill-defined and being set to 0.0 in labels with no predicted samples. Use `zero_division` parameter to control this behavior.\n",
      "  _warn_prf(average, modifier, f\"{metric.capitalize()} is\", len(result))\n"
     ]
    },
    {
     "name": "stdout",
     "output_type": "stream",
     "text": [
      "{'Epoch': 63, 'Train Loss': 1.2284992100189092, 'Train Accuracy': 0.6079380445304937, 'Val Loss': 1.1571647625703079, 'Val Accuracy': 0.7050290135396519, 'Val Precision': 0.6455192738486579, 'Val Recall': 0.7050290135396519}\n"
     ]
    },
    {
     "name": "stderr",
     "output_type": "stream",
     "text": [
      "c:\\Users\\Sid\\AppData\\Local\\Programs\\Python\\Python39\\lib\\site-packages\\huggingface_hub\\file_download.py:1132: FutureWarning: `resume_download` is deprecated and will be removed in version 1.0.0. Downloads always resume when possible. If you want to force a new download, use `force_download=True`.\n",
      "  warnings.warn(\n",
      "Epoch(s):  14%|\u001b[31m█▍        \u001b[0m| 63/450 [1:56:23<11:54:35, 110.79s/it]c:\\Users\\Sid\\AppData\\Local\\Programs\\Python\\Python39\\lib\\site-packages\\sklearn\\metrics\\_classification.py:1517: UndefinedMetricWarning: Precision is ill-defined and being set to 0.0 in labels with no predicted samples. Use `zero_division` parameter to control this behavior.\n",
      "  _warn_prf(average, modifier, f\"{metric.capitalize()} is\", len(result))\n"
     ]
    },
    {
     "name": "stdout",
     "output_type": "stream",
     "text": [
      "{'Epoch': 64, 'Train Loss': 1.197324353985805, 'Train Accuracy': 0.6275411423039691, 'Val Loss': 1.1349349819696866, 'Val Accuracy': 0.7243713733075435, 'Val Precision': 0.6560821455177627, 'Val Recall': 0.7243713733075435}\n"
     ]
    },
    {
     "name": "stderr",
     "output_type": "stream",
     "text": [
      "c:\\Users\\Sid\\AppData\\Local\\Programs\\Python\\Python39\\lib\\site-packages\\huggingface_hub\\file_download.py:1132: FutureWarning: `resume_download` is deprecated and will be removed in version 1.0.0. Downloads always resume when possible. If you want to force a new download, use `force_download=True`.\n",
      "  warnings.warn(\n",
      "Epoch(s):  14%|\u001b[31m█▍        \u001b[0m| 64/450 [1:58:14<11:53:06, 110.85s/it]c:\\Users\\Sid\\AppData\\Local\\Programs\\Python\\Python39\\lib\\site-packages\\sklearn\\metrics\\_classification.py:1517: UndefinedMetricWarning: Precision is ill-defined and being set to 0.0 in labels with no predicted samples. Use `zero_division` parameter to control this behavior.\n",
      "  _warn_prf(average, modifier, f\"{metric.capitalize()} is\", len(result))\n"
     ]
    },
    {
     "name": "stdout",
     "output_type": "stream",
     "text": [
      "{'Epoch': 65, 'Train Loss': 1.1766805578612913, 'Train Accuracy': 0.6364956437560504, 'Val Loss': 1.116514502121852, 'Val Accuracy': 0.7350096711798839, 'Val Precision': 0.6670230965209467, 'Val Recall': 0.7350096711798839}\n"
     ]
    },
    {
     "name": "stderr",
     "output_type": "stream",
     "text": [
      "c:\\Users\\Sid\\AppData\\Local\\Programs\\Python\\Python39\\lib\\site-packages\\huggingface_hub\\file_download.py:1132: FutureWarning: `resume_download` is deprecated and will be removed in version 1.0.0. Downloads always resume when possible. If you want to force a new download, use `force_download=True`.\n",
      "  warnings.warn(\n",
      "Epoch(s):  14%|\u001b[31m█▍        \u001b[0m| 65/450 [2:00:05<11:51:27, 110.88s/it]c:\\Users\\Sid\\AppData\\Local\\Programs\\Python\\Python39\\lib\\site-packages\\sklearn\\metrics\\_classification.py:1517: UndefinedMetricWarning: Precision is ill-defined and being set to 0.0 in labels with no predicted samples. Use `zero_division` parameter to control this behavior.\n",
      "  _warn_prf(average, modifier, f\"{metric.capitalize()} is\", len(result))\n"
     ]
    },
    {
     "name": "stdout",
     "output_type": "stream",
     "text": [
      "{'Epoch': 66, 'Train Loss': 1.1627960651537625, 'Train Accuracy': 0.6500484027105518, 'Val Loss': 1.0868020543685326, 'Val Accuracy': 0.7485493230174082, 'Val Precision': 0.6708921411084483, 'Val Recall': 0.7485493230174082}\n"
     ]
    },
    {
     "name": "stderr",
     "output_type": "stream",
     "text": [
      "c:\\Users\\Sid\\AppData\\Local\\Programs\\Python\\Python39\\lib\\site-packages\\huggingface_hub\\file_download.py:1132: FutureWarning: `resume_download` is deprecated and will be removed in version 1.0.0. Downloads always resume when possible. If you want to force a new download, use `force_download=True`.\n",
      "  warnings.warn(\n",
      "Epoch(s):  15%|\u001b[31m█▍        \u001b[0m| 66/450 [2:01:56<11:50:21, 110.99s/it]c:\\Users\\Sid\\AppData\\Local\\Programs\\Python\\Python39\\lib\\site-packages\\sklearn\\metrics\\_classification.py:1517: UndefinedMetricWarning: Precision is ill-defined and being set to 0.0 in labels with no predicted samples. Use `zero_division` parameter to control this behavior.\n",
      "  _warn_prf(average, modifier, f\"{metric.capitalize()} is\", len(result))\n"
     ]
    },
    {
     "name": "stdout",
     "output_type": "stream",
     "text": [
      "{'Epoch': 67, 'Train Loss': 1.1236614184490041, 'Train Accuracy': 0.6592449177153921, 'Val Loss': 1.068183469772339, 'Val Accuracy': 0.7524177949709865, 'Val Precision': 0.675659632892741, 'Val Recall': 0.7524177949709865}\n"
     ]
    },
    {
     "name": "stderr",
     "output_type": "stream",
     "text": [
      "c:\\Users\\Sid\\AppData\\Local\\Programs\\Python\\Python39\\lib\\site-packages\\huggingface_hub\\file_download.py:1132: FutureWarning: `resume_download` is deprecated and will be removed in version 1.0.0. Downloads always resume when possible. If you want to force a new download, use `force_download=True`.\n",
      "  warnings.warn(\n",
      "Epoch(s):  15%|\u001b[31m█▍        \u001b[0m| 67/450 [2:03:47<11:47:43, 110.87s/it]c:\\Users\\Sid\\AppData\\Local\\Programs\\Python\\Python39\\lib\\site-packages\\sklearn\\metrics\\_classification.py:1517: UndefinedMetricWarning: Precision is ill-defined and being set to 0.0 in labels with no predicted samples. Use `zero_division` parameter to control this behavior.\n",
      "  _warn_prf(average, modifier, f\"{metric.capitalize()} is\", len(result))\n"
     ]
    },
    {
     "name": "stdout",
     "output_type": "stream",
     "text": [
      "{'Epoch': 68, 'Train Loss': 1.1165904462567628, 'Train Accuracy': 0.6674733785091965, 'Val Loss': 1.0527036290902358, 'Val Accuracy': 0.7495164410058027, 'Val Precision': 0.6759003935235005, 'Val Recall': 0.7495164410058027}\n"
     ]
    },
    {
     "name": "stderr",
     "output_type": "stream",
     "text": [
      "c:\\Users\\Sid\\AppData\\Local\\Programs\\Python\\Python39\\lib\\site-packages\\huggingface_hub\\file_download.py:1132: FutureWarning: `resume_download` is deprecated and will be removed in version 1.0.0. Downloads always resume when possible. If you want to force a new download, use `force_download=True`.\n",
      "  warnings.warn(\n",
      "Epoch(s):  15%|\u001b[31m█▌        \u001b[0m| 68/450 [2:05:38<11:46:03, 110.90s/it]c:\\Users\\Sid\\AppData\\Local\\Programs\\Python\\Python39\\lib\\site-packages\\sklearn\\metrics\\_classification.py:1517: UndefinedMetricWarning: Precision is ill-defined and being set to 0.0 in labels with no predicted samples. Use `zero_division` parameter to control this behavior.\n",
      "  _warn_prf(average, modifier, f\"{metric.capitalize()} is\", len(result))\n"
     ]
    },
    {
     "name": "stdout",
     "output_type": "stream",
     "text": [
      "{'Epoch': 69, 'Train Loss': 1.078391761623294, 'Train Accuracy': 0.6834462729912875, 'Val Loss': 1.0437649314220134, 'Val Accuracy': 0.7456479690522244, 'Val Precision': 0.6757798426765055, 'Val Recall': 0.7456479690522244}\n"
     ]
    },
    {
     "name": "stderr",
     "output_type": "stream",
     "text": [
      "c:\\Users\\Sid\\AppData\\Local\\Programs\\Python\\Python39\\lib\\site-packages\\huggingface_hub\\file_download.py:1132: FutureWarning: `resume_download` is deprecated and will be removed in version 1.0.0. Downloads always resume when possible. If you want to force a new download, use `force_download=True`.\n",
      "  warnings.warn(\n",
      "Epoch(s):  15%|\u001b[31m█▌        \u001b[0m| 69/450 [2:07:29<11:44:27, 110.94s/it]c:\\Users\\Sid\\AppData\\Local\\Programs\\Python\\Python39\\lib\\site-packages\\sklearn\\metrics\\_classification.py:1517: UndefinedMetricWarning: Precision is ill-defined and being set to 0.0 in labels with no predicted samples. Use `zero_division` parameter to control this behavior.\n",
      "  _warn_prf(average, modifier, f\"{metric.capitalize()} is\", len(result))\n"
     ]
    },
    {
     "name": "stdout",
     "output_type": "stream",
     "text": [
      "{'Epoch': 70, 'Train Loss': 1.061842879618457, 'Train Accuracy': 0.6875605033881897, 'Val Loss': 1.0271499551259555, 'Val Accuracy': 0.7495164410058027, 'Val Precision': 0.6835650289265484, 'Val Recall': 0.7495164410058027}\n"
     ]
    },
    {
     "name": "stderr",
     "output_type": "stream",
     "text": [
      "c:\\Users\\Sid\\AppData\\Local\\Programs\\Python\\Python39\\lib\\site-packages\\huggingface_hub\\file_download.py:1132: FutureWarning: `resume_download` is deprecated and will be removed in version 1.0.0. Downloads always resume when possible. If you want to force a new download, use `force_download=True`.\n",
      "  warnings.warn(\n",
      "Epoch(s):  16%|\u001b[31m█▌        \u001b[0m| 70/450 [2:09:20<11:43:37, 111.10s/it]c:\\Users\\Sid\\AppData\\Local\\Programs\\Python\\Python39\\lib\\site-packages\\sklearn\\metrics\\_classification.py:1517: UndefinedMetricWarning: Precision is ill-defined and being set to 0.0 in labels with no predicted samples. Use `zero_division` parameter to control this behavior.\n",
      "  _warn_prf(average, modifier, f\"{metric.capitalize()} is\", len(result))\n"
     ]
    },
    {
     "name": "stdout",
     "output_type": "stream",
     "text": [
      "{'Epoch': 71, 'Train Loss': 1.0448848612059958, 'Train Accuracy': 0.6943368828654405, 'Val Loss': 0.9884842249063345, 'Val Accuracy': 0.7601547388781431, 'Val Precision': 0.6988213606695898, 'Val Recall': 0.7601547388781431}\n"
     ]
    },
    {
     "name": "stderr",
     "output_type": "stream",
     "text": [
      "c:\\Users\\Sid\\AppData\\Local\\Programs\\Python\\Python39\\lib\\site-packages\\huggingface_hub\\file_download.py:1132: FutureWarning: `resume_download` is deprecated and will be removed in version 1.0.0. Downloads always resume when possible. If you want to force a new download, use `force_download=True`.\n",
      "  warnings.warn(\n",
      "Epoch(s):  16%|\u001b[31m█▌        \u001b[0m| 71/450 [2:11:11<11:40:39, 110.92s/it]c:\\Users\\Sid\\AppData\\Local\\Programs\\Python\\Python39\\lib\\site-packages\\sklearn\\metrics\\_classification.py:1517: UndefinedMetricWarning: Precision is ill-defined and being set to 0.0 in labels with no predicted samples. Use `zero_division` parameter to control this behavior.\n",
      "  _warn_prf(average, modifier, f\"{metric.capitalize()} is\", len(result))\n"
     ]
    },
    {
     "name": "stdout",
     "output_type": "stream",
     "text": [
      "{'Epoch': 72, 'Train Loss': 1.0177009037792912, 'Train Accuracy': 0.7042594385285575, 'Val Loss': 1.0034219200794514, 'Val Accuracy': 0.7350096711798839, 'Val Precision': 0.7015208289095082, 'Val Recall': 0.7350096711798839}\n"
     ]
    },
    {
     "name": "stderr",
     "output_type": "stream",
     "text": [
      "c:\\Users\\Sid\\AppData\\Local\\Programs\\Python\\Python39\\lib\\site-packages\\huggingface_hub\\file_download.py:1132: FutureWarning: `resume_download` is deprecated and will be removed in version 1.0.0. Downloads always resume when possible. If you want to force a new download, use `force_download=True`.\n",
      "  warnings.warn(\n",
      "Epoch(s):  16%|\u001b[31m█▌        \u001b[0m| 72/450 [2:13:01<11:38:03, 110.80s/it]c:\\Users\\Sid\\AppData\\Local\\Programs\\Python\\Python39\\lib\\site-packages\\sklearn\\metrics\\_classification.py:1517: UndefinedMetricWarning: Precision is ill-defined and being set to 0.0 in labels with no predicted samples. Use `zero_division` parameter to control this behavior.\n",
      "  _warn_prf(average, modifier, f\"{metric.capitalize()} is\", len(result))\n"
     ]
    },
    {
     "name": "stdout",
     "output_type": "stream",
     "text": [
      "{'Epoch': 73, 'Train Loss': 0.9960771777224817, 'Train Accuracy': 0.707647628267183, 'Val Loss': 0.9595104267963996, 'Val Accuracy': 0.7485493230174082, 'Val Precision': 0.6684399768527335, 'Val Recall': 0.7485493230174082}\n"
     ]
    },
    {
     "name": "stderr",
     "output_type": "stream",
     "text": [
      "c:\\Users\\Sid\\AppData\\Local\\Programs\\Python\\Python39\\lib\\site-packages\\huggingface_hub\\file_download.py:1132: FutureWarning: `resume_download` is deprecated and will be removed in version 1.0.0. Downloads always resume when possible. If you want to force a new download, use `force_download=True`.\n",
      "  warnings.warn(\n",
      "Epoch(s):  16%|\u001b[31m█▌        \u001b[0m| 73/450 [2:14:52<11:35:48, 110.74s/it]c:\\Users\\Sid\\AppData\\Local\\Programs\\Python\\Python39\\lib\\site-packages\\sklearn\\metrics\\_classification.py:1517: UndefinedMetricWarning: Precision is ill-defined and being set to 0.0 in labels with no predicted samples. Use `zero_division` parameter to control this behavior.\n",
      "  _warn_prf(average, modifier, f\"{metric.capitalize()} is\", len(result))\n"
     ]
    },
    {
     "name": "stdout",
     "output_type": "stream",
     "text": [
      "{'Epoch': 74, 'Train Loss': 0.9716825787855391, 'Train Accuracy': 0.7105517909002904, 'Val Loss': 0.9487997320982126, 'Val Accuracy': 0.741779497098646, 'Val Precision': 0.6724540542235433, 'Val Recall': 0.741779497098646}\n"
     ]
    },
    {
     "name": "stderr",
     "output_type": "stream",
     "text": [
      "c:\\Users\\Sid\\AppData\\Local\\Programs\\Python\\Python39\\lib\\site-packages\\huggingface_hub\\file_download.py:1132: FutureWarning: `resume_download` is deprecated and will be removed in version 1.0.0. Downloads always resume when possible. If you want to force a new download, use `force_download=True`.\n",
      "  warnings.warn(\n",
      "Epoch(s):  16%|\u001b[31m█▋        \u001b[0m| 74/450 [2:16:42<11:33:31, 110.67s/it]c:\\Users\\Sid\\AppData\\Local\\Programs\\Python\\Python39\\lib\\site-packages\\sklearn\\metrics\\_classification.py:1517: UndefinedMetricWarning: Precision is ill-defined and being set to 0.0 in labels with no predicted samples. Use `zero_division` parameter to control this behavior.\n",
      "  _warn_prf(average, modifier, f\"{metric.capitalize()} is\", len(result))\n"
     ]
    },
    {
     "name": "stdout",
     "output_type": "stream",
     "text": [
      "{'Epoch': 75, 'Train Loss': 0.9408774321834092, 'Train Accuracy': 0.71297192642788, 'Val Loss': 0.9183913565599001, 'Val Accuracy': 0.7446808510638298, 'Val Precision': 0.6847854269542372, 'Val Recall': 0.7446808510638298}\n"
     ]
    },
    {
     "name": "stderr",
     "output_type": "stream",
     "text": [
      "c:\\Users\\Sid\\AppData\\Local\\Programs\\Python\\Python39\\lib\\site-packages\\huggingface_hub\\file_download.py:1132: FutureWarning: `resume_download` is deprecated and will be removed in version 1.0.0. Downloads always resume when possible. If you want to force a new download, use `force_download=True`.\n",
      "  warnings.warn(\n",
      "Epoch(s):  17%|\u001b[31m█▋        \u001b[0m| 75/450 [2:18:33<11:31:18, 110.61s/it]c:\\Users\\Sid\\AppData\\Local\\Programs\\Python\\Python39\\lib\\site-packages\\sklearn\\metrics\\_classification.py:1517: UndefinedMetricWarning: Precision is ill-defined and being set to 0.0 in labels with no predicted samples. Use `zero_division` parameter to control this behavior.\n",
      "  _warn_prf(average, modifier, f\"{metric.capitalize()} is\", len(result))\n"
     ]
    },
    {
     "name": "stdout",
     "output_type": "stream",
     "text": [
      "{'Epoch': 76, 'Train Loss': 0.9197122087579896, 'Train Accuracy': 0.7236205227492739, 'Val Loss': 0.909746488241049, 'Val Accuracy': 0.7369439071566731, 'Val Precision': 0.6714842469279919, 'Val Recall': 0.7369439071566731}\n"
     ]
    },
    {
     "name": "stderr",
     "output_type": "stream",
     "text": [
      "c:\\Users\\Sid\\AppData\\Local\\Programs\\Python\\Python39\\lib\\site-packages\\huggingface_hub\\file_download.py:1132: FutureWarning: `resume_download` is deprecated and will be removed in version 1.0.0. Downloads always resume when possible. If you want to force a new download, use `force_download=True`.\n",
      "  warnings.warn(\n",
      "Epoch(s):  17%|\u001b[31m█▋        \u001b[0m| 76/450 [2:20:23<11:29:24, 110.60s/it]c:\\Users\\Sid\\AppData\\Local\\Programs\\Python\\Python39\\lib\\site-packages\\sklearn\\metrics\\_classification.py:1517: UndefinedMetricWarning: Precision is ill-defined and being set to 0.0 in labels with no predicted samples. Use `zero_division` parameter to control this behavior.\n",
      "  _warn_prf(average, modifier, f\"{metric.capitalize()} is\", len(result))\n"
     ]
    },
    {
     "name": "stdout",
     "output_type": "stream",
     "text": [
      "{'Epoch': 77, 'Train Loss': 0.8978078732389281, 'Train Accuracy': 0.7265246853823815, 'Val Loss': 0.8917398484853598, 'Val Accuracy': 0.741779497098646, 'Val Precision': 0.6817389642266706, 'Val Recall': 0.741779497098646}\n"
     ]
    },
    {
     "name": "stderr",
     "output_type": "stream",
     "text": [
      "c:\\Users\\Sid\\AppData\\Local\\Programs\\Python\\Python39\\lib\\site-packages\\huggingface_hub\\file_download.py:1132: FutureWarning: `resume_download` is deprecated and will be removed in version 1.0.0. Downloads always resume when possible. If you want to force a new download, use `force_download=True`.\n",
      "  warnings.warn(\n",
      "Epoch(s):  17%|\u001b[31m█▋        \u001b[0m| 77/450 [2:22:14<11:28:12, 110.70s/it]c:\\Users\\Sid\\AppData\\Local\\Programs\\Python\\Python39\\lib\\site-packages\\sklearn\\metrics\\_classification.py:1517: UndefinedMetricWarning: Precision is ill-defined and being set to 0.0 in labels with no predicted samples. Use `zero_division` parameter to control this behavior.\n",
      "  _warn_prf(average, modifier, f\"{metric.capitalize()} is\", len(result))\n"
     ]
    },
    {
     "name": "stdout",
     "output_type": "stream",
     "text": [
      "{'Epoch': 78, 'Train Loss': 0.8823877158772531, 'Train Accuracy': 0.7313649564375605, 'Val Loss': 0.8632566603330466, 'Val Accuracy': 0.7485493230174082, 'Val Precision': 0.6825078053667946, 'Val Recall': 0.7485493230174082}\n"
     ]
    },
    {
     "name": "stderr",
     "output_type": "stream",
     "text": [
      "c:\\Users\\Sid\\AppData\\Local\\Programs\\Python\\Python39\\lib\\site-packages\\huggingface_hub\\file_download.py:1132: FutureWarning: `resume_download` is deprecated and will be removed in version 1.0.0. Downloads always resume when possible. If you want to force a new download, use `force_download=True`.\n",
      "  warnings.warn(\n",
      "Epoch(s):  17%|\u001b[31m█▋        \u001b[0m| 78/450 [2:24:05<11:26:53, 110.79s/it]c:\\Users\\Sid\\AppData\\Local\\Programs\\Python\\Python39\\lib\\site-packages\\sklearn\\metrics\\_classification.py:1517: UndefinedMetricWarning: Precision is ill-defined and being set to 0.0 in labels with no predicted samples. Use `zero_division` parameter to control this behavior.\n",
      "  _warn_prf(average, modifier, f\"{metric.capitalize()} is\", len(result))\n"
     ]
    },
    {
     "name": "stdout",
     "output_type": "stream",
     "text": [
      "{'Epoch': 79, 'Train Loss': 0.8544506390927842, 'Train Accuracy': 0.7318489835430784, 'Val Loss': 0.8714972518957578, 'Val Accuracy': 0.746615087040619, 'Val Precision': 0.6846006551548648, 'Val Recall': 0.746615087040619}\n"
     ]
    },
    {
     "name": "stderr",
     "output_type": "stream",
     "text": [
      "c:\\Users\\Sid\\AppData\\Local\\Programs\\Python\\Python39\\lib\\site-packages\\huggingface_hub\\file_download.py:1132: FutureWarning: `resume_download` is deprecated and will be removed in version 1.0.0. Downloads always resume when possible. If you want to force a new download, use `force_download=True`.\n",
      "  warnings.warn(\n",
      "Epoch(s):  18%|\u001b[31m█▊        \u001b[0m| 79/450 [2:25:56<11:24:32, 110.71s/it]c:\\Users\\Sid\\AppData\\Local\\Programs\\Python\\Python39\\lib\\site-packages\\sklearn\\metrics\\_classification.py:1517: UndefinedMetricWarning: Precision is ill-defined and being set to 0.0 in labels with no predicted samples. Use `zero_division` parameter to control this behavior.\n",
      "  _warn_prf(average, modifier, f\"{metric.capitalize()} is\", len(result))\n"
     ]
    },
    {
     "name": "stdout",
     "output_type": "stream",
     "text": [
      "{'Epoch': 80, 'Train Loss': 0.8379725305557711, 'Train Accuracy': 0.7345111326234269, 'Val Loss': 0.8326817475832425, 'Val Accuracy': 0.7446808510638298, 'Val Precision': 0.685424372695872, 'Val Recall': 0.7446808510638298}\n"
     ]
    },
    {
     "name": "stderr",
     "output_type": "stream",
     "text": [
      "c:\\Users\\Sid\\AppData\\Local\\Programs\\Python\\Python39\\lib\\site-packages\\huggingface_hub\\file_download.py:1132: FutureWarning: `resume_download` is deprecated and will be removed in version 1.0.0. Downloads always resume when possible. If you want to force a new download, use `force_download=True`.\n",
      "  warnings.warn(\n",
      "Epoch(s):  18%|\u001b[31m█▊        \u001b[0m| 80/450 [2:27:46<11:22:23, 110.66s/it]c:\\Users\\Sid\\AppData\\Local\\Programs\\Python\\Python39\\lib\\site-packages\\sklearn\\metrics\\_classification.py:1517: UndefinedMetricWarning: Precision is ill-defined and being set to 0.0 in labels with no predicted samples. Use `zero_division` parameter to control this behavior.\n",
      "  _warn_prf(average, modifier, f\"{metric.capitalize()} is\", len(result))\n"
     ]
    },
    {
     "name": "stdout",
     "output_type": "stream",
     "text": [
      "{'Epoch': 81, 'Train Loss': 0.8202483210439387, 'Train Accuracy': 0.7378993223620522, 'Val Loss': 0.8387842325063852, 'Val Accuracy': 0.7495164410058027, 'Val Precision': 0.6972151267440252, 'Val Recall': 0.7495164410058027}\n"
     ]
    },
    {
     "name": "stderr",
     "output_type": "stream",
     "text": [
      "c:\\Users\\Sid\\AppData\\Local\\Programs\\Python\\Python39\\lib\\site-packages\\huggingface_hub\\file_download.py:1132: FutureWarning: `resume_download` is deprecated and will be removed in version 1.0.0. Downloads always resume when possible. If you want to force a new download, use `force_download=True`.\n",
      "  warnings.warn(\n",
      "Epoch(s):  18%|\u001b[31m█▊        \u001b[0m| 81/450 [2:29:37<11:20:16, 110.62s/it]c:\\Users\\Sid\\AppData\\Local\\Programs\\Python\\Python39\\lib\\site-packages\\sklearn\\metrics\\_classification.py:1517: UndefinedMetricWarning: Precision is ill-defined and being set to 0.0 in labels with no predicted samples. Use `zero_division` parameter to control this behavior.\n",
      "  _warn_prf(average, modifier, f\"{metric.capitalize()} is\", len(result))\n"
     ]
    },
    {
     "name": "stdout",
     "output_type": "stream",
     "text": [
      "{'Epoch': 82, 'Train Loss': 0.801660487665633, 'Train Accuracy': 0.7415295256534365, 'Val Loss': 0.8051166685727926, 'Val Accuracy': 0.7553191489361702, 'Val Precision': 0.6999754702547254, 'Val Recall': 0.7553191489361702}\n"
     ]
    },
    {
     "name": "stderr",
     "output_type": "stream",
     "text": [
      "c:\\Users\\Sid\\AppData\\Local\\Programs\\Python\\Python39\\lib\\site-packages\\huggingface_hub\\file_download.py:1132: FutureWarning: `resume_download` is deprecated and will be removed in version 1.0.0. Downloads always resume when possible. If you want to force a new download, use `force_download=True`.\n",
      "  warnings.warn(\n",
      "Epoch(s):  18%|\u001b[31m█▊        \u001b[0m| 82/450 [2:31:28<11:19:11, 110.74s/it]c:\\Users\\Sid\\AppData\\Local\\Programs\\Python\\Python39\\lib\\site-packages\\sklearn\\metrics\\_classification.py:1517: UndefinedMetricWarning: Precision is ill-defined and being set to 0.0 in labels with no predicted samples. Use `zero_division` parameter to control this behavior.\n",
      "  _warn_prf(average, modifier, f\"{metric.capitalize()} is\", len(result))\n"
     ]
    },
    {
     "name": "stdout",
     "output_type": "stream",
     "text": [
      "{'Epoch': 83, 'Train Loss': 0.7851202195100342, 'Train Accuracy': 0.7410454985479187, 'Val Loss': 0.7963404705891243, 'Val Accuracy': 0.7456479690522244, 'Val Precision': 0.6907615818142313, 'Val Recall': 0.7456479690522244}\n"
     ]
    },
    {
     "name": "stderr",
     "output_type": "stream",
     "text": [
      "c:\\Users\\Sid\\AppData\\Local\\Programs\\Python\\Python39\\lib\\site-packages\\huggingface_hub\\file_download.py:1132: FutureWarning: `resume_download` is deprecated and will be removed in version 1.0.0. Downloads always resume when possible. If you want to force a new download, use `force_download=True`.\n",
      "  warnings.warn(\n",
      "Epoch(s):  18%|\u001b[31m█▊        \u001b[0m| 83/450 [2:33:18<11:17:00, 110.68s/it]c:\\Users\\Sid\\AppData\\Local\\Programs\\Python\\Python39\\lib\\site-packages\\sklearn\\metrics\\_classification.py:1517: UndefinedMetricWarning: Precision is ill-defined and being set to 0.0 in labels with no predicted samples. Use `zero_division` parameter to control this behavior.\n",
      "  _warn_prf(average, modifier, f\"{metric.capitalize()} is\", len(result))\n"
     ]
    },
    {
     "name": "stdout",
     "output_type": "stream",
     "text": [
      "{'Epoch': 84, 'Train Loss': 0.7748696610734269, 'Train Accuracy': 0.7463697967086157, 'Val Loss': 0.7626156135247304, 'Val Accuracy': 0.7543520309477756, 'Val Precision': 0.6931071699004895, 'Val Recall': 0.7543520309477756}\n"
     ]
    },
    {
     "name": "stderr",
     "output_type": "stream",
     "text": [
      "c:\\Users\\Sid\\AppData\\Local\\Programs\\Python\\Python39\\lib\\site-packages\\huggingface_hub\\file_download.py:1132: FutureWarning: `resume_download` is deprecated and will be removed in version 1.0.0. Downloads always resume when possible. If you want to force a new download, use `force_download=True`.\n",
      "  warnings.warn(\n",
      "Epoch(s):  19%|\u001b[31m█▊        \u001b[0m| 84/450 [2:35:09<11:14:50, 110.63s/it]c:\\Users\\Sid\\AppData\\Local\\Programs\\Python\\Python39\\lib\\site-packages\\sklearn\\metrics\\_classification.py:1517: UndefinedMetricWarning: Precision is ill-defined and being set to 0.0 in labels with no predicted samples. Use `zero_division` parameter to control this behavior.\n",
      "  _warn_prf(average, modifier, f\"{metric.capitalize()} is\", len(result))\n"
     ]
    },
    {
     "name": "stdout",
     "output_type": "stream",
     "text": [
      "{'Epoch': 85, 'Train Loss': 0.7705550326688869, 'Train Accuracy': 0.7475798644724104, 'Val Loss': 0.7831803908714882, 'Val Accuracy': 0.7504835589941973, 'Val Precision': 0.7158424968282062, 'Val Recall': 0.7504835589941973}\n"
     ]
    },
    {
     "name": "stderr",
     "output_type": "stream",
     "text": [
      "c:\\Users\\Sid\\AppData\\Local\\Programs\\Python\\Python39\\lib\\site-packages\\huggingface_hub\\file_download.py:1132: FutureWarning: `resume_download` is deprecated and will be removed in version 1.0.0. Downloads always resume when possible. If you want to force a new download, use `force_download=True`.\n",
      "  warnings.warn(\n",
      "Epoch(s):  19%|\u001b[31m█▉        \u001b[0m| 85/450 [2:37:00<11:13:44, 110.75s/it]c:\\Users\\Sid\\AppData\\Local\\Programs\\Python\\Python39\\lib\\site-packages\\sklearn\\metrics\\_classification.py:1517: UndefinedMetricWarning: Precision is ill-defined and being set to 0.0 in labels with no predicted samples. Use `zero_division` parameter to control this behavior.\n",
      "  _warn_prf(average, modifier, f\"{metric.capitalize()} is\", len(result))\n"
     ]
    },
    {
     "name": "stdout",
     "output_type": "stream",
     "text": [
      "{'Epoch': 86, 'Train Loss': 0.750371165774964, 'Train Accuracy': 0.7514520813165537, 'Val Loss': 0.7412469790532039, 'Val Accuracy': 0.753384912959381, 'Val Precision': 0.7034322210784232, 'Val Recall': 0.753384912959381}\n"
     ]
    },
    {
     "name": "stderr",
     "output_type": "stream",
     "text": [
      "c:\\Users\\Sid\\AppData\\Local\\Programs\\Python\\Python39\\lib\\site-packages\\huggingface_hub\\file_download.py:1132: FutureWarning: `resume_download` is deprecated and will be removed in version 1.0.0. Downloads always resume when possible. If you want to force a new download, use `force_download=True`.\n",
      "  warnings.warn(\n",
      "Epoch(s):  19%|\u001b[31m█▉        \u001b[0m| 86/450 [2:38:51<11:11:29, 110.68s/it]c:\\Users\\Sid\\AppData\\Local\\Programs\\Python\\Python39\\lib\\site-packages\\sklearn\\metrics\\_classification.py:1517: UndefinedMetricWarning: Precision is ill-defined and being set to 0.0 in labels with no predicted samples. Use `zero_division` parameter to control this behavior.\n",
      "  _warn_prf(average, modifier, f\"{metric.capitalize()} is\", len(result))\n"
     ]
    },
    {
     "name": "stdout",
     "output_type": "stream",
     "text": [
      "{'Epoch': 87, 'Train Loss': 0.7369734639136487, 'Train Accuracy': 0.7512100677637947, 'Val Loss': 0.7387572859342282, 'Val Accuracy': 0.7475822050290135, 'Val Precision': 0.7048958303907422, 'Val Recall': 0.7475822050290135}\n"
     ]
    },
    {
     "name": "stderr",
     "output_type": "stream",
     "text": [
      "c:\\Users\\Sid\\AppData\\Local\\Programs\\Python\\Python39\\lib\\site-packages\\huggingface_hub\\file_download.py:1132: FutureWarning: `resume_download` is deprecated and will be removed in version 1.0.0. Downloads always resume when possible. If you want to force a new download, use `force_download=True`.\n",
      "  warnings.warn(\n",
      "Epoch(s):  19%|\u001b[31m█▉        \u001b[0m| 87/450 [2:40:41<11:09:16, 110.63s/it]c:\\Users\\Sid\\AppData\\Local\\Programs\\Python\\Python39\\lib\\site-packages\\sklearn\\metrics\\_classification.py:1517: UndefinedMetricWarning: Precision is ill-defined and being set to 0.0 in labels with no predicted samples. Use `zero_division` parameter to control this behavior.\n",
      "  _warn_prf(average, modifier, f\"{metric.capitalize()} is\", len(result))\n"
     ]
    },
    {
     "name": "stdout",
     "output_type": "stream",
     "text": [
      "{'Epoch': 88, 'Train Loss': 0.7331584213898449, 'Train Accuracy': 0.7543562439496612, 'Val Loss': 0.7225743332734474, 'Val Accuracy': 0.7514506769825918, 'Val Precision': 0.6902207572351707, 'Val Recall': 0.7514506769825918}\n"
     ]
    },
    {
     "name": "stderr",
     "output_type": "stream",
     "text": [
      "c:\\Users\\Sid\\AppData\\Local\\Programs\\Python\\Python39\\lib\\site-packages\\huggingface_hub\\file_download.py:1132: FutureWarning: `resume_download` is deprecated and will be removed in version 1.0.0. Downloads always resume when possible. If you want to force a new download, use `force_download=True`.\n",
      "  warnings.warn(\n",
      "Epoch(s):  20%|\u001b[31m█▉        \u001b[0m| 88/450 [2:42:32<11:07:17, 110.60s/it]c:\\Users\\Sid\\AppData\\Local\\Programs\\Python\\Python39\\lib\\site-packages\\sklearn\\metrics\\_classification.py:1517: UndefinedMetricWarning: Precision is ill-defined and being set to 0.0 in labels with no predicted samples. Use `zero_division` parameter to control this behavior.\n",
      "  _warn_prf(average, modifier, f\"{metric.capitalize()} is\", len(result))\n"
     ]
    },
    {
     "name": "stdout",
     "output_type": "stream",
     "text": [
      "{'Epoch': 89, 'Train Loss': 0.7171071209157296, 'Train Accuracy': 0.755082284607938, 'Val Loss': 0.6972335595350999, 'Val Accuracy': 0.7649903288201161, 'Val Precision': 0.703678479631549, 'Val Recall': 0.7649903288201161}\n"
     ]
    },
    {
     "name": "stderr",
     "output_type": "stream",
     "text": [
      "c:\\Users\\Sid\\AppData\\Local\\Programs\\Python\\Python39\\lib\\site-packages\\huggingface_hub\\file_download.py:1132: FutureWarning: `resume_download` is deprecated and will be removed in version 1.0.0. Downloads always resume when possible. If you want to force a new download, use `force_download=True`.\n",
      "  warnings.warn(\n",
      "Epoch(s):  20%|\u001b[31m█▉        \u001b[0m| 89/450 [2:44:22<11:05:41, 110.64s/it]c:\\Users\\Sid\\AppData\\Local\\Programs\\Python\\Python39\\lib\\site-packages\\sklearn\\metrics\\_classification.py:1517: UndefinedMetricWarning: Precision is ill-defined and being set to 0.0 in labels with no predicted samples. Use `zero_division` parameter to control this behavior.\n",
      "  _warn_prf(average, modifier, f\"{metric.capitalize()} is\", len(result))\n"
     ]
    },
    {
     "name": "stdout",
     "output_type": "stream",
     "text": [
      "{'Epoch': 90, 'Train Loss': 0.7139329619446777, 'Train Accuracy': 0.7572604065827686, 'Val Loss': 0.701913817341511, 'Val Accuracy': 0.7620889748549323, 'Val Precision': 0.7246875891969454, 'Val Recall': 0.7620889748549323}\n"
     ]
    },
    {
     "name": "stderr",
     "output_type": "stream",
     "text": [
      "c:\\Users\\Sid\\AppData\\Local\\Programs\\Python\\Python39\\lib\\site-packages\\huggingface_hub\\file_download.py:1132: FutureWarning: `resume_download` is deprecated and will be removed in version 1.0.0. Downloads always resume when possible. If you want to force a new download, use `force_download=True`.\n",
      "  warnings.warn(\n",
      "Epoch(s):  20%|\u001b[31m██        \u001b[0m| 90/450 [2:46:13<11:03:35, 110.60s/it]c:\\Users\\Sid\\AppData\\Local\\Programs\\Python\\Python39\\lib\\site-packages\\sklearn\\metrics\\_classification.py:1517: UndefinedMetricWarning: Precision is ill-defined and being set to 0.0 in labels with no predicted samples. Use `zero_division` parameter to control this behavior.\n",
      "  _warn_prf(average, modifier, f\"{metric.capitalize()} is\", len(result))\n"
     ]
    },
    {
     "name": "stdout",
     "output_type": "stream",
     "text": [
      "{'Epoch': 91, 'Train Loss': 0.6924189586897154, 'Train Accuracy': 0.7625847047434656, 'Val Loss': 0.6718017708796721, 'Val Accuracy': 0.776595744680851, 'Val Precision': 0.7447816506207608, 'Val Recall': 0.776595744680851}\n"
     ]
    },
    {
     "name": "stderr",
     "output_type": "stream",
     "text": [
      "c:\\Users\\Sid\\AppData\\Local\\Programs\\Python\\Python39\\lib\\site-packages\\huggingface_hub\\file_download.py:1132: FutureWarning: `resume_download` is deprecated and will be removed in version 1.0.0. Downloads always resume when possible. If you want to force a new download, use `force_download=True`.\n",
      "  warnings.warn(\n",
      "Epoch(s):  20%|\u001b[31m██        \u001b[0m| 91/450 [2:48:03<11:01:28, 110.55s/it]c:\\Users\\Sid\\AppData\\Local\\Programs\\Python\\Python39\\lib\\site-packages\\sklearn\\metrics\\_classification.py:1517: UndefinedMetricWarning: Precision is ill-defined and being set to 0.0 in labels with no predicted samples. Use `zero_division` parameter to control this behavior.\n",
      "  _warn_prf(average, modifier, f\"{metric.capitalize()} is\", len(result))\n"
     ]
    },
    {
     "name": "stdout",
     "output_type": "stream",
     "text": [
      "{'Epoch': 92, 'Train Loss': 0.689100049579926, 'Train Accuracy': 0.7635527589545015, 'Val Loss': 0.6717855737759517, 'Val Accuracy': 0.7727272727272727, 'Val Precision': 0.7243609805323903, 'Val Recall': 0.7727272727272727}\n"
     ]
    },
    {
     "name": "stderr",
     "output_type": "stream",
     "text": [
      "c:\\Users\\Sid\\AppData\\Local\\Programs\\Python\\Python39\\lib\\site-packages\\huggingface_hub\\file_download.py:1132: FutureWarning: `resume_download` is deprecated and will be removed in version 1.0.0. Downloads always resume when possible. If you want to force a new download, use `force_download=True`.\n",
      "  warnings.warn(\n",
      "Epoch(s):  20%|\u001b[31m██        \u001b[0m| 92/450 [2:49:54<10:59:34, 110.54s/it]c:\\Users\\Sid\\AppData\\Local\\Programs\\Python\\Python39\\lib\\site-packages\\sklearn\\metrics\\_classification.py:1517: UndefinedMetricWarning: Precision is ill-defined and being set to 0.0 in labels with no predicted samples. Use `zero_division` parameter to control this behavior.\n",
      "  _warn_prf(average, modifier, f\"{metric.capitalize()} is\", len(result))\n"
     ]
    },
    {
     "name": "stdout",
     "output_type": "stream",
     "text": [
      "{'Epoch': 93, 'Train Loss': 0.6749549238334867, 'Train Accuracy': 0.765972894482091, 'Val Loss': 0.6567757510221921, 'Val Accuracy': 0.7756286266924565, 'Val Precision': 0.7361490260217409, 'Val Recall': 0.7756286266924565}\n"
     ]
    },
    {
     "name": "stderr",
     "output_type": "stream",
     "text": [
      "c:\\Users\\Sid\\AppData\\Local\\Programs\\Python\\Python39\\lib\\site-packages\\huggingface_hub\\file_download.py:1132: FutureWarning: `resume_download` is deprecated and will be removed in version 1.0.0. Downloads always resume when possible. If you want to force a new download, use `force_download=True`.\n",
      "  warnings.warn(\n",
      "Epoch(s):  21%|\u001b[31m██        \u001b[0m| 93/450 [2:51:45<10:58:35, 110.69s/it]c:\\Users\\Sid\\AppData\\Local\\Programs\\Python\\Python39\\lib\\site-packages\\sklearn\\metrics\\_classification.py:1517: UndefinedMetricWarning: Precision is ill-defined and being set to 0.0 in labels with no predicted samples. Use `zero_division` parameter to control this behavior.\n",
      "  _warn_prf(average, modifier, f\"{metric.capitalize()} is\", len(result))\n"
     ]
    },
    {
     "name": "stdout",
     "output_type": "stream",
     "text": [
      "{'Epoch': 94, 'Train Loss': 0.6668864567422499, 'Train Accuracy': 0.7691190706679574, 'Val Loss': 0.6442865112653146, 'Val Accuracy': 0.7901353965183753, 'Val Precision': 0.7513977618877138, 'Val Recall': 0.7901353965183753}\n"
     ]
    },
    {
     "name": "stderr",
     "output_type": "stream",
     "text": [
      "c:\\Users\\Sid\\AppData\\Local\\Programs\\Python\\Python39\\lib\\site-packages\\huggingface_hub\\file_download.py:1132: FutureWarning: `resume_download` is deprecated and will be removed in version 1.0.0. Downloads always resume when possible. If you want to force a new download, use `force_download=True`.\n",
      "  warnings.warn(\n",
      "Epoch(s):  21%|\u001b[31m██        \u001b[0m| 94/450 [2:53:35<10:56:29, 110.65s/it]c:\\Users\\Sid\\AppData\\Local\\Programs\\Python\\Python39\\lib\\site-packages\\sklearn\\metrics\\_classification.py:1517: UndefinedMetricWarning: Precision is ill-defined and being set to 0.0 in labels with no predicted samples. Use `zero_division` parameter to control this behavior.\n",
      "  _warn_prf(average, modifier, f\"{metric.capitalize()} is\", len(result))\n"
     ]
    },
    {
     "name": "stdout",
     "output_type": "stream",
     "text": [
      "{'Epoch': 95, 'Train Loss': 0.646128753005998, 'Train Accuracy': 0.7698451113262342, 'Val Loss': 0.6629963265015528, 'Val Accuracy': 0.769825918762089, 'Val Precision': 0.7624925048017336, 'Val Recall': 0.769825918762089}\n"
     ]
    },
    {
     "name": "stderr",
     "output_type": "stream",
     "text": [
      "c:\\Users\\Sid\\AppData\\Local\\Programs\\Python\\Python39\\lib\\site-packages\\huggingface_hub\\file_download.py:1132: FutureWarning: `resume_download` is deprecated and will be removed in version 1.0.0. Downloads always resume when possible. If you want to force a new download, use `force_download=True`.\n",
      "  warnings.warn(\n",
      "Epoch(s):  21%|\u001b[31m██        \u001b[0m| 95/450 [2:55:26<10:54:18, 110.59s/it]c:\\Users\\Sid\\AppData\\Local\\Programs\\Python\\Python39\\lib\\site-packages\\sklearn\\metrics\\_classification.py:1517: UndefinedMetricWarning: Precision is ill-defined and being set to 0.0 in labels with no predicted samples. Use `zero_division` parameter to control this behavior.\n",
      "  _warn_prf(average, modifier, f\"{metric.capitalize()} is\", len(result))\n"
     ]
    },
    {
     "name": "stdout",
     "output_type": "stream",
     "text": [
      "{'Epoch': 96, 'Train Loss': 0.6491139564864539, 'Train Accuracy': 0.7742013552758954, 'Val Loss': 0.6241965119655316, 'Val Accuracy': 0.7862669245647969, 'Val Precision': 0.7492670711063886, 'Val Recall': 0.7862669245647969}\n"
     ]
    },
    {
     "name": "stderr",
     "output_type": "stream",
     "text": [
      "c:\\Users\\Sid\\AppData\\Local\\Programs\\Python\\Python39\\lib\\site-packages\\huggingface_hub\\file_download.py:1132: FutureWarning: `resume_download` is deprecated and will be removed in version 1.0.0. Downloads always resume when possible. If you want to force a new download, use `force_download=True`.\n",
      "  warnings.warn(\n",
      "Epoch(s):  21%|\u001b[31m██▏       \u001b[0m| 96/450 [2:57:17<10:53:13, 110.72s/it]c:\\Users\\Sid\\AppData\\Local\\Programs\\Python\\Python39\\lib\\site-packages\\sklearn\\metrics\\_classification.py:1517: UndefinedMetricWarning: Precision is ill-defined and being set to 0.0 in labels with no predicted samples. Use `zero_division` parameter to control this behavior.\n",
      "  _warn_prf(average, modifier, f\"{metric.capitalize()} is\", len(result))\n"
     ]
    },
    {
     "name": "stdout",
     "output_type": "stream",
     "text": [
      "{'Epoch': 97, 'Train Loss': 0.6356735704718409, 'Train Accuracy': 0.7797676669893514, 'Val Loss': 0.634260983650501, 'Val Accuracy': 0.781431334622824, 'Val Precision': 0.7728591798441508, 'Val Recall': 0.781431334622824}\n"
     ]
    },
    {
     "name": "stderr",
     "output_type": "stream",
     "text": [
      "c:\\Users\\Sid\\AppData\\Local\\Programs\\Python\\Python39\\lib\\site-packages\\huggingface_hub\\file_download.py:1132: FutureWarning: `resume_download` is deprecated and will be removed in version 1.0.0. Downloads always resume when possible. If you want to force a new download, use `force_download=True`.\n",
      "  warnings.warn(\n",
      "Epoch(s):  22%|\u001b[31m██▏       \u001b[0m| 97/450 [2:59:07<10:51:07, 110.67s/it]c:\\Users\\Sid\\AppData\\Local\\Programs\\Python\\Python39\\lib\\site-packages\\sklearn\\metrics\\_classification.py:1517: UndefinedMetricWarning: Precision is ill-defined and being set to 0.0 in labels with no predicted samples. Use `zero_division` parameter to control this behavior.\n",
      "  _warn_prf(average, modifier, f\"{metric.capitalize()} is\", len(result))\n"
     ]
    },
    {
     "name": "stdout",
     "output_type": "stream",
     "text": [
      "{'Epoch': 98, 'Train Loss': 0.6297233059254392, 'Train Accuracy': 0.7787996127783156, 'Val Loss': 0.6492067050475341, 'Val Accuracy': 0.7785299806576402, 'Val Precision': 0.7996419092656158, 'Val Recall': 0.7785299806576402}\n"
     ]
    },
    {
     "name": "stderr",
     "output_type": "stream",
     "text": [
      "c:\\Users\\Sid\\AppData\\Local\\Programs\\Python\\Python39\\lib\\site-packages\\huggingface_hub\\file_download.py:1132: FutureWarning: `resume_download` is deprecated and will be removed in version 1.0.0. Downloads always resume when possible. If you want to force a new download, use `force_download=True`.\n",
      "  warnings.warn(\n",
      "Epoch(s):  22%|\u001b[31m██▏       \u001b[0m| 98/450 [3:00:58<10:49:51, 110.77s/it]"
     ]
    },
    {
     "name": "stdout",
     "output_type": "stream",
     "text": [
      "{'Epoch': 99, 'Train Loss': 0.6162719095061069, 'Train Accuracy': 0.7889641819941917, 'Val Loss': 0.5979660554574087, 'Val Accuracy': 0.7978723404255319, 'Val Precision': 0.7778420611878315, 'Val Recall': 0.7978723404255319}\n"
     ]
    },
    {
     "name": "stderr",
     "output_type": "stream",
     "text": [
      "c:\\Users\\Sid\\AppData\\Local\\Programs\\Python\\Python39\\lib\\site-packages\\huggingface_hub\\file_download.py:1132: FutureWarning: `resume_download` is deprecated and will be removed in version 1.0.0. Downloads always resume when possible. If you want to force a new download, use `force_download=True`.\n",
      "  warnings.warn(\n",
      "Epoch(s):  22%|\u001b[31m██▏       \u001b[0m| 99/450 [3:02:49<10:48:26, 110.84s/it]"
     ]
    },
    {
     "name": "stdout",
     "output_type": "stream",
     "text": [
      "{'Epoch': 100, 'Train Loss': 0.6050691058909571, 'Train Accuracy': 0.7884801548886737, 'Val Loss': 0.5999453067779541, 'Val Accuracy': 0.7852998065764023, 'Val Precision': 0.7475983273560158, 'Val Recall': 0.7852998065764023}\n"
     ]
    },
    {
     "name": "stderr",
     "output_type": "stream",
     "text": [
      "c:\\Users\\Sid\\AppData\\Local\\Programs\\Python\\Python39\\lib\\site-packages\\huggingface_hub\\file_download.py:1132: FutureWarning: `resume_download` is deprecated and will be removed in version 1.0.0. Downloads always resume when possible. If you want to force a new download, use `force_download=True`.\n",
      "  warnings.warn(\n",
      "Epoch(s):  22%|\u001b[31m██▏       \u001b[0m| 100/450 [3:04:41<10:47:26, 110.99s/it]c:\\Users\\Sid\\AppData\\Local\\Programs\\Python\\Python39\\lib\\site-packages\\sklearn\\metrics\\_classification.py:1517: UndefinedMetricWarning: Precision is ill-defined and being set to 0.0 in labels with no predicted samples. Use `zero_division` parameter to control this behavior.\n",
      "  _warn_prf(average, modifier, f\"{metric.capitalize()} is\", len(result))\n"
     ]
    },
    {
     "name": "stdout",
     "output_type": "stream",
     "text": [
      "{'Epoch': 101, 'Train Loss': 0.5967409386943205, 'Train Accuracy': 0.7911423039690223, 'Val Loss': 0.6147795883508829, 'Val Accuracy': 0.7949709864603481, 'Val Precision': 0.7969862490491787, 'Val Recall': 0.7949709864603481}\n"
     ]
    },
    {
     "name": "stderr",
     "output_type": "stream",
     "text": [
      "c:\\Users\\Sid\\AppData\\Local\\Programs\\Python\\Python39\\lib\\site-packages\\huggingface_hub\\file_download.py:1132: FutureWarning: `resume_download` is deprecated and will be removed in version 1.0.0. Downloads always resume when possible. If you want to force a new download, use `force_download=True`.\n",
      "  warnings.warn(\n",
      "Epoch(s):  22%|\u001b[31m██▏       \u001b[0m| 101/450 [3:06:31<10:45:05, 110.90s/it]c:\\Users\\Sid\\AppData\\Local\\Programs\\Python\\Python39\\lib\\site-packages\\sklearn\\metrics\\_classification.py:1517: UndefinedMetricWarning: Precision is ill-defined and being set to 0.0 in labels with no predicted samples. Use `zero_division` parameter to control this behavior.\n",
      "  _warn_prf(average, modifier, f\"{metric.capitalize()} is\", len(result))\n"
     ]
    },
    {
     "name": "stdout",
     "output_type": "stream",
     "text": [
      "{'Epoch': 102, 'Train Loss': 0.5922679693714993, 'Train Accuracy': 0.7877541142303969, 'Val Loss': 0.6155571522621008, 'Val Accuracy': 0.7736943907156673, 'Val Precision': 0.7820497639860358, 'Val Recall': 0.7736943907156673}\n"
     ]
    },
    {
     "name": "stderr",
     "output_type": "stream",
     "text": [
      "c:\\Users\\Sid\\AppData\\Local\\Programs\\Python\\Python39\\lib\\site-packages\\huggingface_hub\\file_download.py:1132: FutureWarning: `resume_download` is deprecated and will be removed in version 1.0.0. Downloads always resume when possible. If you want to force a new download, use `force_download=True`.\n",
      "  warnings.warn(\n",
      "Epoch(s):  23%|\u001b[31m██▎       \u001b[0m| 102/450 [3:08:22<10:43:25, 110.94s/it]"
     ]
    },
    {
     "name": "stdout",
     "output_type": "stream",
     "text": [
      "{'Epoch': 103, 'Train Loss': 0.5799043515416646, 'Train Accuracy': 0.7964666021297193, 'Val Loss': 0.5698849882070834, 'Val Accuracy': 0.7988394584139265, 'Val Precision': 0.779031654841675, 'Val Recall': 0.7988394584139265}\n"
     ]
    },
    {
     "name": "stderr",
     "output_type": "stream",
     "text": [
      "c:\\Users\\Sid\\AppData\\Local\\Programs\\Python\\Python39\\lib\\site-packages\\huggingface_hub\\file_download.py:1132: FutureWarning: `resume_download` is deprecated and will be removed in version 1.0.0. Downloads always resume when possible. If you want to force a new download, use `force_download=True`.\n",
      "  warnings.warn(\n",
      "Epoch(s):  23%|\u001b[31m██▎       \u001b[0m| 103/450 [3:10:13<10:40:44, 110.79s/it]c:\\Users\\Sid\\AppData\\Local\\Programs\\Python\\Python39\\lib\\site-packages\\sklearn\\metrics\\_classification.py:1517: UndefinedMetricWarning: Precision is ill-defined and being set to 0.0 in labels with no predicted samples. Use `zero_division` parameter to control this behavior.\n",
      "  _warn_prf(average, modifier, f\"{metric.capitalize()} is\", len(result))\n"
     ]
    },
    {
     "name": "stdout",
     "output_type": "stream",
     "text": [
      "{'Epoch': 104, 'Train Loss': 0.5721640956217718, 'Train Accuracy': 0.8032429816069699, 'Val Loss': 0.5767825669967211, 'Val Accuracy': 0.7843326885880078, 'Val Precision': 0.7680390389400517, 'Val Recall': 0.7843326885880078}\n"
     ]
    },
    {
     "name": "stderr",
     "output_type": "stream",
     "text": [
      "c:\\Users\\Sid\\AppData\\Local\\Programs\\Python\\Python39\\lib\\site-packages\\huggingface_hub\\file_download.py:1132: FutureWarning: `resume_download` is deprecated and will be removed in version 1.0.0. Downloads always resume when possible. If you want to force a new download, use `force_download=True`.\n",
      "  warnings.warn(\n",
      "Epoch(s):  23%|\u001b[31m██▎       \u001b[0m| 104/450 [3:12:03<10:38:18, 110.69s/it]"
     ]
    },
    {
     "name": "stdout",
     "output_type": "stream",
     "text": [
      "{'Epoch': 105, 'Train Loss': 0.5708883503401602, 'Train Accuracy': 0.7971926427879962, 'Val Loss': 0.5493014289782597, 'Val Accuracy': 0.804642166344294, 'Val Precision': 0.797643925420715, 'Val Recall': 0.804642166344294}\n"
     ]
    },
    {
     "name": "stderr",
     "output_type": "stream",
     "text": [
      "c:\\Users\\Sid\\AppData\\Local\\Programs\\Python\\Python39\\lib\\site-packages\\huggingface_hub\\file_download.py:1132: FutureWarning: `resume_download` is deprecated and will be removed in version 1.0.0. Downloads always resume when possible. If you want to force a new download, use `force_download=True`.\n",
      "  warnings.warn(\n",
      "Epoch(s):  23%|\u001b[31m██▎       \u001b[0m| 105/450 [3:13:54<10:36:24, 110.68s/it]"
     ]
    },
    {
     "name": "stdout",
     "output_type": "stream",
     "text": [
      "{'Epoch': 106, 'Train Loss': 0.5545067639309467, 'Train Accuracy': 0.8071151984511132, 'Val Loss': 0.5662927508354187, 'Val Accuracy': 0.7988394584139265, 'Val Precision': 0.7918125058321873, 'Val Recall': 0.7988394584139265}\n"
     ]
    },
    {
     "name": "stderr",
     "output_type": "stream",
     "text": [
      "c:\\Users\\Sid\\AppData\\Local\\Programs\\Python\\Python39\\lib\\site-packages\\huggingface_hub\\file_download.py:1132: FutureWarning: `resume_download` is deprecated and will be removed in version 1.0.0. Downloads always resume when possible. If you want to force a new download, use `force_download=True`.\n",
      "  warnings.warn(\n",
      "Epoch(s):  24%|\u001b[31m██▎       \u001b[0m| 106/450 [3:15:45<10:35:07, 110.78s/it]c:\\Users\\Sid\\AppData\\Local\\Programs\\Python\\Python39\\lib\\site-packages\\sklearn\\metrics\\_classification.py:1517: UndefinedMetricWarning: Precision is ill-defined and being set to 0.0 in labels with no predicted samples. Use `zero_division` parameter to control this behavior.\n",
      "  _warn_prf(average, modifier, f\"{metric.capitalize()} is\", len(result))\n"
     ]
    },
    {
     "name": "stdout",
     "output_type": "stream",
     "text": [
      "{'Epoch': 107, 'Train Loss': 0.5486658903335052, 'Train Accuracy': 0.8056631171345595, 'Val Loss': 0.5489431370909398, 'Val Accuracy': 0.8075435203094777, 'Val Precision': 0.7871635443693501, 'Val Recall': 0.8075435203094777}\n"
     ]
    },
    {
     "name": "stderr",
     "output_type": "stream",
     "text": [
      "c:\\Users\\Sid\\AppData\\Local\\Programs\\Python\\Python39\\lib\\site-packages\\huggingface_hub\\file_download.py:1132: FutureWarning: `resume_download` is deprecated and will be removed in version 1.0.0. Downloads always resume when possible. If you want to force a new download, use `force_download=True`.\n",
      "  warnings.warn(\n",
      "Epoch(s):  24%|\u001b[31m██▍       \u001b[0m| 107/450 [3:17:36<10:33:51, 110.88s/it]c:\\Users\\Sid\\AppData\\Local\\Programs\\Python\\Python39\\lib\\site-packages\\sklearn\\metrics\\_classification.py:1517: UndefinedMetricWarning: Precision is ill-defined and being set to 0.0 in labels with no predicted samples. Use `zero_division` parameter to control this behavior.\n",
      "  _warn_prf(average, modifier, f\"{metric.capitalize()} is\", len(result))\n"
     ]
    },
    {
     "name": "stdout",
     "output_type": "stream",
     "text": [
      "{'Epoch': 108, 'Train Loss': 0.5495208582650281, 'Train Accuracy': 0.8078412391093901, 'Val Loss': 0.5655190501075524, 'Val Accuracy': 0.7959381044487428, 'Val Precision': 0.8053937833108504, 'Val Recall': 0.7959381044487428}\n"
     ]
    },
    {
     "name": "stderr",
     "output_type": "stream",
     "text": [
      "c:\\Users\\Sid\\AppData\\Local\\Programs\\Python\\Python39\\lib\\site-packages\\huggingface_hub\\file_download.py:1132: FutureWarning: `resume_download` is deprecated and will be removed in version 1.0.0. Downloads always resume when possible. If you want to force a new download, use `force_download=True`.\n",
      "  warnings.warn(\n",
      "Epoch(s):  24%|\u001b[31m██▍       \u001b[0m| 108/450 [3:19:27<10:31:58, 110.87s/it]c:\\Users\\Sid\\AppData\\Local\\Programs\\Python\\Python39\\lib\\site-packages\\sklearn\\metrics\\_classification.py:1517: UndefinedMetricWarning: Precision is ill-defined and being set to 0.0 in labels with no predicted samples. Use `zero_division` parameter to control this behavior.\n",
      "  _warn_prf(average, modifier, f\"{metric.capitalize()} is\", len(result))\n"
     ]
    },
    {
     "name": "stdout",
     "output_type": "stream",
     "text": [
      "{'Epoch': 109, 'Train Loss': 0.5428799129734858, 'Train Accuracy': 0.814133591481123, 'Val Loss': 0.5420272334263875, 'Val Accuracy': 0.8085106382978723, 'Val Precision': 0.8088569753288578, 'Val Recall': 0.8085106382978723}\n"
     ]
    },
    {
     "name": "stderr",
     "output_type": "stream",
     "text": [
      "c:\\Users\\Sid\\AppData\\Local\\Programs\\Python\\Python39\\lib\\site-packages\\huggingface_hub\\file_download.py:1132: FutureWarning: `resume_download` is deprecated and will be removed in version 1.0.0. Downloads always resume when possible. If you want to force a new download, use `force_download=True`.\n",
      "  warnings.warn(\n",
      "Epoch(s):  24%|\u001b[31m██▍       \u001b[0m| 109/450 [3:21:18<10:29:46, 110.81s/it]c:\\Users\\Sid\\AppData\\Local\\Programs\\Python\\Python39\\lib\\site-packages\\sklearn\\metrics\\_classification.py:1517: UndefinedMetricWarning: Precision is ill-defined and being set to 0.0 in labels with no predicted samples. Use `zero_division` parameter to control this behavior.\n",
      "  _warn_prf(average, modifier, f\"{metric.capitalize()} is\", len(result))\n"
     ]
    },
    {
     "name": "stdout",
     "output_type": "stream",
     "text": [
      "{'Epoch': 110, 'Train Loss': 0.528366747711386, 'Train Accuracy': 0.8199419167473379, 'Val Loss': 0.5484452792085134, 'Val Accuracy': 0.8027079303675049, 'Val Precision': 0.7731944261466794, 'Val Recall': 0.8027079303675049}\n"
     ]
    },
    {
     "name": "stderr",
     "output_type": "stream",
     "text": [
      "c:\\Users\\Sid\\AppData\\Local\\Programs\\Python\\Python39\\lib\\site-packages\\huggingface_hub\\file_download.py:1132: FutureWarning: `resume_download` is deprecated and will be removed in version 1.0.0. Downloads always resume when possible. If you want to force a new download, use `force_download=True`.\n",
      "  warnings.warn(\n",
      "Epoch(s):  24%|\u001b[31m██▍       \u001b[0m| 110/450 [3:23:09<10:28:04, 110.84s/it]c:\\Users\\Sid\\AppData\\Local\\Programs\\Python\\Python39\\lib\\site-packages\\sklearn\\metrics\\_classification.py:1517: UndefinedMetricWarning: Precision is ill-defined and being set to 0.0 in labels with no predicted samples. Use `zero_division` parameter to control this behavior.\n",
      "  _warn_prf(average, modifier, f\"{metric.capitalize()} is\", len(result))\n"
     ]
    },
    {
     "name": "stdout",
     "output_type": "stream",
     "text": [
      "{'Epoch': 111, 'Train Loss': 0.5276922074121397, 'Train Accuracy': 0.8107454017424975, 'Val Loss': 0.5322770798435578, 'Val Accuracy': 0.7998065764023211, 'Val Precision': 0.7855186443835702, 'Val Recall': 0.7998065764023211}\n"
     ]
    },
    {
     "name": "stderr",
     "output_type": "stream",
     "text": [
      "c:\\Users\\Sid\\AppData\\Local\\Programs\\Python\\Python39\\lib\\site-packages\\huggingface_hub\\file_download.py:1132: FutureWarning: `resume_download` is deprecated and will be removed in version 1.0.0. Downloads always resume when possible. If you want to force a new download, use `force_download=True`.\n",
      "  warnings.warn(\n",
      "Epoch(s):  25%|\u001b[31m██▍       \u001b[0m| 111/450 [3:24:59<10:25:38, 110.73s/it]c:\\Users\\Sid\\AppData\\Local\\Programs\\Python\\Python39\\lib\\site-packages\\sklearn\\metrics\\_classification.py:1517: UndefinedMetricWarning: Precision is ill-defined and being set to 0.0 in labels with no predicted samples. Use `zero_division` parameter to control this behavior.\n",
      "  _warn_prf(average, modifier, f\"{metric.capitalize()} is\", len(result))\n"
     ]
    },
    {
     "name": "stdout",
     "output_type": "stream",
     "text": [
      "{'Epoch': 112, 'Train Loss': 0.523071272694236, 'Train Accuracy': 0.8160696999031946, 'Val Loss': 0.5276548027992248, 'Val Accuracy': 0.816247582205029, 'Val Precision': 0.7847681277396615, 'Val Recall': 0.816247582205029}\n"
     ]
    },
    {
     "name": "stderr",
     "output_type": "stream",
     "text": [
      "c:\\Users\\Sid\\AppData\\Local\\Programs\\Python\\Python39\\lib\\site-packages\\huggingface_hub\\file_download.py:1132: FutureWarning: `resume_download` is deprecated and will be removed in version 1.0.0. Downloads always resume when possible. If you want to force a new download, use `force_download=True`.\n",
      "  warnings.warn(\n",
      "Epoch(s):  25%|\u001b[31m██▍       \u001b[0m| 112/450 [3:26:50<10:23:39, 110.71s/it]c:\\Users\\Sid\\AppData\\Local\\Programs\\Python\\Python39\\lib\\site-packages\\sklearn\\metrics\\_classification.py:1517: UndefinedMetricWarning: Precision is ill-defined and being set to 0.0 in labels with no predicted samples. Use `zero_division` parameter to control this behavior.\n",
      "  _warn_prf(average, modifier, f\"{metric.capitalize()} is\", len(result))\n"
     ]
    },
    {
     "name": "stdout",
     "output_type": "stream",
     "text": [
      "{'Epoch': 113, 'Train Loss': 0.516021217589903, 'Train Accuracy': 0.8226040658276863, 'Val Loss': 0.5256090794618313, 'Val Accuracy': 0.8027079303675049, 'Val Precision': 0.7940901287199467, 'Val Recall': 0.8027079303675049}\n"
     ]
    },
    {
     "name": "stderr",
     "output_type": "stream",
     "text": [
      "c:\\Users\\Sid\\AppData\\Local\\Programs\\Python\\Python39\\lib\\site-packages\\huggingface_hub\\file_download.py:1132: FutureWarning: `resume_download` is deprecated and will be removed in version 1.0.0. Downloads always resume when possible. If you want to force a new download, use `force_download=True`.\n",
      "  warnings.warn(\n",
      "Epoch(s):  25%|\u001b[31m██▌       \u001b[0m| 113/450 [3:28:41<10:22:08, 110.77s/it]c:\\Users\\Sid\\AppData\\Local\\Programs\\Python\\Python39\\lib\\site-packages\\sklearn\\metrics\\_classification.py:1517: UndefinedMetricWarning: Precision is ill-defined and being set to 0.0 in labels with no predicted samples. Use `zero_division` parameter to control this behavior.\n",
      "  _warn_prf(average, modifier, f\"{metric.capitalize()} is\", len(result))\n"
     ]
    },
    {
     "name": "stdout",
     "output_type": "stream",
     "text": [
      "{'Epoch': 114, 'Train Loss': 0.5089515556067113, 'Train Accuracy': 0.8201839303000968, 'Val Loss': 0.5246199518442154, 'Val Accuracy': 0.809477756286267, 'Val Precision': 0.7827594907713745, 'Val Recall': 0.809477756286267}\n"
     ]
    },
    {
     "name": "stderr",
     "output_type": "stream",
     "text": [
      "c:\\Users\\Sid\\AppData\\Local\\Programs\\Python\\Python39\\lib\\site-packages\\huggingface_hub\\file_download.py:1132: FutureWarning: `resume_download` is deprecated and will be removed in version 1.0.0. Downloads always resume when possible. If you want to force a new download, use `force_download=True`.\n",
      "  warnings.warn(\n",
      "Epoch(s):  25%|\u001b[31m██▌       \u001b[0m| 114/450 [3:30:31<10:19:50, 110.69s/it]"
     ]
    },
    {
     "name": "stdout",
     "output_type": "stream",
     "text": [
      "{'Epoch': 115, 'Train Loss': 0.5022991467339192, 'Train Accuracy': 0.82405614714424, 'Val Loss': 0.5290396074836071, 'Val Accuracy': 0.8133462282398453, 'Val Precision': 0.786562031003034, 'Val Recall': 0.8133462282398453}\n"
     ]
    },
    {
     "name": "stderr",
     "output_type": "stream",
     "text": [
      "c:\\Users\\Sid\\AppData\\Local\\Programs\\Python\\Python39\\lib\\site-packages\\huggingface_hub\\file_download.py:1132: FutureWarning: `resume_download` is deprecated and will be removed in version 1.0.0. Downloads always resume when possible. If you want to force a new download, use `force_download=True`.\n",
      "  warnings.warn(\n",
      "Epoch(s):  26%|\u001b[31m██▌       \u001b[0m| 115/450 [3:32:23<10:19:17, 110.92s/it]c:\\Users\\Sid\\AppData\\Local\\Programs\\Python\\Python39\\lib\\site-packages\\sklearn\\metrics\\_classification.py:1517: UndefinedMetricWarning: Precision is ill-defined and being set to 0.0 in labels with no predicted samples. Use `zero_division` parameter to control this behavior.\n",
      "  _warn_prf(average, modifier, f\"{metric.capitalize()} is\", len(result))\n"
     ]
    },
    {
     "name": "stdout",
     "output_type": "stream",
     "text": [
      "{'Epoch': 116, 'Train Loss': 0.5014996098095559, 'Train Accuracy': 0.8267182962245886, 'Val Loss': 0.5317169756843494, 'Val Accuracy': 0.8065764023210832, 'Val Precision': 0.7830126412791419, 'Val Recall': 0.8065764023210832}\n"
     ]
    },
    {
     "name": "stderr",
     "output_type": "stream",
     "text": [
      "c:\\Users\\Sid\\AppData\\Local\\Programs\\Python\\Python39\\lib\\site-packages\\huggingface_hub\\file_download.py:1132: FutureWarning: `resume_download` is deprecated and will be removed in version 1.0.0. Downloads always resume when possible. If you want to force a new download, use `force_download=True`.\n",
      "  warnings.warn(\n",
      "Epoch(s):  26%|\u001b[31m██▌       \u001b[0m| 116/450 [3:34:13<10:16:57, 110.83s/it]c:\\Users\\Sid\\AppData\\Local\\Programs\\Python\\Python39\\lib\\site-packages\\sklearn\\metrics\\_classification.py:1517: UndefinedMetricWarning: Precision is ill-defined and being set to 0.0 in labels with no predicted samples. Use `zero_division` parameter to control this behavior.\n",
      "  _warn_prf(average, modifier, f\"{metric.capitalize()} is\", len(result))\n"
     ]
    },
    {
     "name": "stdout",
     "output_type": "stream",
     "text": [
      "{'Epoch': 117, 'Train Loss': 0.4976092159143976, 'Train Accuracy': 0.8257502420135527, 'Val Loss': 0.5485944917568794, 'Val Accuracy': 0.8007736943907157, 'Val Precision': 0.8058240067937035, 'Val Recall': 0.8007736943907157}\n"
     ]
    },
    {
     "name": "stderr",
     "output_type": "stream",
     "text": [
      "c:\\Users\\Sid\\AppData\\Local\\Programs\\Python\\Python39\\lib\\site-packages\\huggingface_hub\\file_download.py:1132: FutureWarning: `resume_download` is deprecated and will be removed in version 1.0.0. Downloads always resume when possible. If you want to force a new download, use `force_download=True`.\n",
      "  warnings.warn(\n",
      "Epoch(s):  26%|\u001b[31m██▌       \u001b[0m| 117/450 [3:36:04<10:15:17, 110.86s/it]"
     ]
    },
    {
     "name": "stdout",
     "output_type": "stream",
     "text": [
      "{'Epoch': 118, 'Train Loss': 0.49228228587283246, 'Train Accuracy': 0.829380445304937, 'Val Loss': 0.5290521320242149, 'Val Accuracy': 0.8085106382978723, 'Val Precision': 0.8200750701267309, 'Val Recall': 0.8085106382978723}\n"
     ]
    },
    {
     "name": "stderr",
     "output_type": "stream",
     "text": [
      "c:\\Users\\Sid\\AppData\\Local\\Programs\\Python\\Python39\\lib\\site-packages\\huggingface_hub\\file_download.py:1132: FutureWarning: `resume_download` is deprecated and will be removed in version 1.0.0. Downloads always resume when possible. If you want to force a new download, use `force_download=True`.\n",
      "  warnings.warn(\n",
      "Epoch(s):  26%|\u001b[31m██▌       \u001b[0m| 118/450 [3:37:55<10:13:19, 110.84s/it]"
     ]
    },
    {
     "name": "stdout",
     "output_type": "stream",
     "text": [
      "{'Epoch': 119, 'Train Loss': 0.4831708007452571, 'Train Accuracy': 0.8354307841239109, 'Val Loss': 0.5183852900679294, 'Val Accuracy': 0.8017408123791102, 'Val Precision': 0.8126701321378624, 'Val Recall': 0.8017408123791102}\n"
     ]
    },
    {
     "name": "stderr",
     "output_type": "stream",
     "text": [
      "c:\\Users\\Sid\\AppData\\Local\\Programs\\Python\\Python39\\lib\\site-packages\\huggingface_hub\\file_download.py:1132: FutureWarning: `resume_download` is deprecated and will be removed in version 1.0.0. Downloads always resume when possible. If you want to force a new download, use `force_download=True`.\n",
      "  warnings.warn(\n",
      "Epoch(s):  26%|\u001b[31m██▋       \u001b[0m| 119/450 [3:39:46<10:11:28, 110.84s/it]"
     ]
    },
    {
     "name": "stdout",
     "output_type": "stream",
     "text": [
      "{'Epoch': 120, 'Train Loss': 0.48464235159277225, 'Train Accuracy': 0.8259922555663117, 'Val Loss': 0.5017471784009383, 'Val Accuracy': 0.8201160541586073, 'Val Precision': 0.8048914443899485, 'Val Recall': 0.8201160541586073}\n"
     ]
    },
    {
     "name": "stderr",
     "output_type": "stream",
     "text": [
      "c:\\Users\\Sid\\AppData\\Local\\Programs\\Python\\Python39\\lib\\site-packages\\huggingface_hub\\file_download.py:1132: FutureWarning: `resume_download` is deprecated and will be removed in version 1.0.0. Downloads always resume when possible. If you want to force a new download, use `force_download=True`.\n",
      "  warnings.warn(\n",
      "Epoch(s):  27%|\u001b[31m██▋       \u001b[0m| 120/450 [3:41:36<10:09:08, 110.75s/it]c:\\Users\\Sid\\AppData\\Local\\Programs\\Python\\Python39\\lib\\site-packages\\sklearn\\metrics\\_classification.py:1517: UndefinedMetricWarning: Precision is ill-defined and being set to 0.0 in labels with no predicted samples. Use `zero_division` parameter to control this behavior.\n",
      "  _warn_prf(average, modifier, f\"{metric.capitalize()} is\", len(result))\n"
     ]
    },
    {
     "name": "stdout",
     "output_type": "stream",
     "text": [
      "{'Epoch': 121, 'Train Loss': 0.4799558625639233, 'Train Accuracy': 0.829864472410455, 'Val Loss': 0.5282552571250843, 'Val Accuracy': 0.8007736943907157, 'Val Precision': 0.8044525912998381, 'Val Recall': 0.8007736943907157}\n"
     ]
    },
    {
     "name": "stderr",
     "output_type": "stream",
     "text": [
      "c:\\Users\\Sid\\AppData\\Local\\Programs\\Python\\Python39\\lib\\site-packages\\huggingface_hub\\file_download.py:1132: FutureWarning: `resume_download` is deprecated and will be removed in version 1.0.0. Downloads always resume when possible. If you want to force a new download, use `force_download=True`.\n",
      "  warnings.warn(\n",
      "Epoch(s):  27%|\u001b[31m██▋       \u001b[0m| 121/450 [3:43:27<10:07:33, 110.80s/it]"
     ]
    },
    {
     "name": "stdout",
     "output_type": "stream",
     "text": [
      "{'Epoch': 122, 'Train Loss': 0.4817474550031787, 'Train Accuracy': 0.8337366892545982, 'Val Loss': 0.5109769510535094, 'Val Accuracy': 0.811411992263056, 'Val Precision': 0.8020093979557139, 'Val Recall': 0.811411992263056}\n"
     ]
    },
    {
     "name": "stderr",
     "output_type": "stream",
     "text": [
      "c:\\Users\\Sid\\AppData\\Local\\Programs\\Python\\Python39\\lib\\site-packages\\huggingface_hub\\file_download.py:1132: FutureWarning: `resume_download` is deprecated and will be removed in version 1.0.0. Downloads always resume when possible. If you want to force a new download, use `force_download=True`.\n",
      "  warnings.warn(\n",
      "Epoch(s):  27%|\u001b[31m██▋       \u001b[0m| 122/450 [3:45:18<10:05:19, 110.73s/it]c:\\Users\\Sid\\AppData\\Local\\Programs\\Python\\Python39\\lib\\site-packages\\sklearn\\metrics\\_classification.py:1517: UndefinedMetricWarning: Precision is ill-defined and being set to 0.0 in labels with no predicted samples. Use `zero_division` parameter to control this behavior.\n",
      "  _warn_prf(average, modifier, f\"{metric.capitalize()} is\", len(result))\n"
     ]
    },
    {
     "name": "stdout",
     "output_type": "stream",
     "text": [
      "{'Epoch': 123, 'Train Loss': 0.473735255998304, 'Train Accuracy': 0.8395450145208132, 'Val Loss': 0.5311390632620224, 'Val Accuracy': 0.8085106382978723, 'Val Precision': 0.8142770906690429, 'Val Recall': 0.8085106382978723}\n"
     ]
    },
    {
     "name": "stderr",
     "output_type": "stream",
     "text": [
      "c:\\Users\\Sid\\AppData\\Local\\Programs\\Python\\Python39\\lib\\site-packages\\huggingface_hub\\file_download.py:1132: FutureWarning: `resume_download` is deprecated and will be removed in version 1.0.0. Downloads always resume when possible. If you want to force a new download, use `force_download=True`.\n",
      "  warnings.warn(\n",
      "Epoch(s):  27%|\u001b[31m██▋       \u001b[0m| 123/450 [3:47:08<10:03:10, 110.67s/it]c:\\Users\\Sid\\AppData\\Local\\Programs\\Python\\Python39\\lib\\site-packages\\sklearn\\metrics\\_classification.py:1517: UndefinedMetricWarning: Precision is ill-defined and being set to 0.0 in labels with no predicted samples. Use `zero_division` parameter to control this behavior.\n",
      "  _warn_prf(average, modifier, f\"{metric.capitalize()} is\", len(result))\n"
     ]
    },
    {
     "name": "stdout",
     "output_type": "stream",
     "text": [
      "{'Epoch': 124, 'Train Loss': 0.47243184650956893, 'Train Accuracy': 0.8359148112294289, 'Val Loss': 0.5018602481828286, 'Val Accuracy': 0.811411992263056, 'Val Precision': 0.7876999218987747, 'Val Recall': 0.811411992263056}\n"
     ]
    },
    {
     "name": "stderr",
     "output_type": "stream",
     "text": [
      "c:\\Users\\Sid\\AppData\\Local\\Programs\\Python\\Python39\\lib\\site-packages\\huggingface_hub\\file_download.py:1132: FutureWarning: `resume_download` is deprecated and will be removed in version 1.0.0. Downloads always resume when possible. If you want to force a new download, use `force_download=True`.\n",
      "  warnings.warn(\n",
      "Epoch(s):  28%|\u001b[31m██▊       \u001b[0m| 124/450 [3:48:59<10:01:11, 110.65s/it]c:\\Users\\Sid\\AppData\\Local\\Programs\\Python\\Python39\\lib\\site-packages\\sklearn\\metrics\\_classification.py:1517: UndefinedMetricWarning: Precision is ill-defined and being set to 0.0 in labels with no predicted samples. Use `zero_division` parameter to control this behavior.\n",
      "  _warn_prf(average, modifier, f\"{metric.capitalize()} is\", len(result))\n"
     ]
    },
    {
     "name": "stdout",
     "output_type": "stream",
     "text": [
      "{'Epoch': 125, 'Train Loss': 0.46118255591012797, 'Train Accuracy': 0.8426911907066795, 'Val Loss': 0.4991694026841567, 'Val Accuracy': 0.8152804642166345, 'Val Precision': 0.7991302480669358, 'Val Recall': 0.8152804642166345}\n"
     ]
    },
    {
     "name": "stderr",
     "output_type": "stream",
     "text": [
      "c:\\Users\\Sid\\AppData\\Local\\Programs\\Python\\Python39\\lib\\site-packages\\huggingface_hub\\file_download.py:1132: FutureWarning: `resume_download` is deprecated and will be removed in version 1.0.0. Downloads always resume when possible. If you want to force a new download, use `force_download=True`.\n",
      "  warnings.warn(\n",
      "Epoch(s):  28%|\u001b[31m██▊       \u001b[0m| 125/450 [3:50:49<9:59:15, 110.63s/it] "
     ]
    },
    {
     "name": "stdout",
     "output_type": "stream",
     "text": [
      "{'Epoch': 126, 'Train Loss': 0.45805595163615515, 'Train Accuracy': 0.8446272991287512, 'Val Loss': 0.49785894161233535, 'Val Accuracy': 0.8133462282398453, 'Val Precision': 0.8014662234887585, 'Val Recall': 0.8133462282398453}\n"
     ]
    },
    {
     "name": "stderr",
     "output_type": "stream",
     "text": [
      "c:\\Users\\Sid\\AppData\\Local\\Programs\\Python\\Python39\\lib\\site-packages\\huggingface_hub\\file_download.py:1132: FutureWarning: `resume_download` is deprecated and will be removed in version 1.0.0. Downloads always resume when possible. If you want to force a new download, use `force_download=True`.\n",
      "  warnings.warn(\n",
      "Epoch(s):  28%|\u001b[31m██▊       \u001b[0m| 126/450 [3:52:40<9:57:18, 110.61s/it]"
     ]
    },
    {
     "name": "stdout",
     "output_type": "stream",
     "text": [
      "{'Epoch': 127, 'Train Loss': 0.4585941089928495, 'Train Accuracy': 0.8412391093901258, 'Val Loss': 0.5038828629713792, 'Val Accuracy': 0.8152804642166345, 'Val Precision': 0.8225956616530882, 'Val Recall': 0.8152804642166345}\n"
     ]
    },
    {
     "name": "stderr",
     "output_type": "stream",
     "text": [
      "c:\\Users\\Sid\\AppData\\Local\\Programs\\Python\\Python39\\lib\\site-packages\\huggingface_hub\\file_download.py:1132: FutureWarning: `resume_download` is deprecated and will be removed in version 1.0.0. Downloads always resume when possible. If you want to force a new download, use `force_download=True`.\n",
      "  warnings.warn(\n",
      "Epoch(s):  28%|\u001b[31m██▊       \u001b[0m| 127/450 [3:54:31<9:55:13, 110.57s/it]c:\\Users\\Sid\\AppData\\Local\\Programs\\Python\\Python39\\lib\\site-packages\\sklearn\\metrics\\_classification.py:1517: UndefinedMetricWarning: Precision is ill-defined and being set to 0.0 in labels with no predicted samples. Use `zero_division` parameter to control this behavior.\n",
      "  _warn_prf(average, modifier, f\"{metric.capitalize()} is\", len(result))\n"
     ]
    },
    {
     "name": "stdout",
     "output_type": "stream",
     "text": [
      "{'Epoch': 128, 'Train Loss': 0.4593056327012515, 'Train Accuracy': 0.8393030009680542, 'Val Loss': 0.5156270595697257, 'Val Accuracy': 0.8143133462282398, 'Val Precision': 0.7921443558627701, 'Val Recall': 0.8143133462282398}\n"
     ]
    },
    {
     "name": "stderr",
     "output_type": "stream",
     "text": [
      "c:\\Users\\Sid\\AppData\\Local\\Programs\\Python\\Python39\\lib\\site-packages\\huggingface_hub\\file_download.py:1132: FutureWarning: `resume_download` is deprecated and will be removed in version 1.0.0. Downloads always resume when possible. If you want to force a new download, use `force_download=True`.\n",
      "  warnings.warn(\n",
      "Epoch(s):  28%|\u001b[31m██▊       \u001b[0m| 128/450 [3:56:21<9:53:29, 110.59s/it]"
     ]
    },
    {
     "name": "stdout",
     "output_type": "stream",
     "text": [
      "{'Epoch': 129, 'Train Loss': 0.4557681395654283, 'Train Accuracy': 0.8426911907066795, 'Val Loss': 0.485214670919455, 'Val Accuracy': 0.8259187620889749, 'Val Precision': 0.8148711605712208, 'Val Recall': 0.8259187620889749}\n"
     ]
    },
    {
     "name": "stderr",
     "output_type": "stream",
     "text": [
      "c:\\Users\\Sid\\AppData\\Local\\Programs\\Python\\Python39\\lib\\site-packages\\huggingface_hub\\file_download.py:1132: FutureWarning: `resume_download` is deprecated and will be removed in version 1.0.0. Downloads always resume when possible. If you want to force a new download, use `force_download=True`.\n",
      "  warnings.warn(\n",
      "Epoch(s):  29%|\u001b[31m██▊       \u001b[0m| 129/450 [3:58:12<9:51:30, 110.56s/it]"
     ]
    },
    {
     "name": "stdout",
     "output_type": "stream",
     "text": [
      "{'Epoch': 130, 'Train Loss': 0.44353796324502087, 'Train Accuracy': 0.845837366892546, 'Val Loss': 0.49500335540909035, 'Val Accuracy': 0.8133462282398453, 'Val Precision': 0.8055040681760081, 'Val Recall': 0.8133462282398453}\n"
     ]
    },
    {
     "name": "stderr",
     "output_type": "stream",
     "text": [
      "c:\\Users\\Sid\\AppData\\Local\\Programs\\Python\\Python39\\lib\\site-packages\\huggingface_hub\\file_download.py:1132: FutureWarning: `resume_download` is deprecated and will be removed in version 1.0.0. Downloads always resume when possible. If you want to force a new download, use `force_download=True`.\n",
      "  warnings.warn(\n",
      "Epoch(s):  29%|\u001b[31m██▉       \u001b[0m| 130/450 [4:00:02<9:49:32, 110.54s/it]"
     ]
    },
    {
     "name": "stdout",
     "output_type": "stream",
     "text": [
      "{'Epoch': 131, 'Train Loss': 0.4453861344494213, 'Train Accuracy': 0.8434172313649564, 'Val Loss': 0.49068778071265956, 'Val Accuracy': 0.8152804642166345, 'Val Precision': 0.8039412118888309, 'Val Recall': 0.8152804642166345}\n"
     ]
    },
    {
     "name": "stderr",
     "output_type": "stream",
     "text": [
      "c:\\Users\\Sid\\AppData\\Local\\Programs\\Python\\Python39\\lib\\site-packages\\huggingface_hub\\file_download.py:1132: FutureWarning: `resume_download` is deprecated and will be removed in version 1.0.0. Downloads always resume when possible. If you want to force a new download, use `force_download=True`.\n",
      "  warnings.warn(\n",
      "Epoch(s):  29%|\u001b[31m██▉       \u001b[0m| 131/450 [4:01:53<9:48:31, 110.69s/it]"
     ]
    },
    {
     "name": "stdout",
     "output_type": "stream",
     "text": [
      "{'Epoch': 132, 'Train Loss': 0.43989115638449844, 'Train Accuracy': 0.8484995159728945, 'Val Loss': 0.5367404958376518, 'Val Accuracy': 0.804642166344294, 'Val Precision': 0.8365107828812827, 'Val Recall': 0.804642166344294}\n"
     ]
    },
    {
     "name": "stderr",
     "output_type": "stream",
     "text": [
      "c:\\Users\\Sid\\AppData\\Local\\Programs\\Python\\Python39\\lib\\site-packages\\huggingface_hub\\file_download.py:1132: FutureWarning: `resume_download` is deprecated and will be removed in version 1.0.0. Downloads always resume when possible. If you want to force a new download, use `force_download=True`.\n",
      "  warnings.warn(\n",
      "Epoch(s):  29%|\u001b[31m██▉       \u001b[0m| 132/450 [4:03:44<9:47:08, 110.78s/it]"
     ]
    },
    {
     "name": "stdout",
     "output_type": "stream",
     "text": [
      "{'Epoch': 133, 'Train Loss': 0.4346114117292594, 'Train Accuracy': 0.8472894482090997, 'Val Loss': 0.47025758360440917, 'Val Accuracy': 0.8230174081237911, 'Val Precision': 0.816667713622188, 'Val Recall': 0.8230174081237911}\n"
     ]
    },
    {
     "name": "stderr",
     "output_type": "stream",
     "text": [
      "c:\\Users\\Sid\\AppData\\Local\\Programs\\Python\\Python39\\lib\\site-packages\\huggingface_hub\\file_download.py:1132: FutureWarning: `resume_download` is deprecated and will be removed in version 1.0.0. Downloads always resume when possible. If you want to force a new download, use `force_download=True`.\n",
      "  warnings.warn(\n",
      "Epoch(s):  30%|\u001b[31m██▉       \u001b[0m| 133/450 [4:05:35<9:44:49, 110.69s/it]"
     ]
    },
    {
     "name": "stdout",
     "output_type": "stream",
     "text": [
      "{'Epoch': 134, 'Train Loss': 0.43041152623571943, 'Train Accuracy': 0.8552758954501453, 'Val Loss': 0.5317315111939723, 'Val Accuracy': 0.8065764023210832, 'Val Precision': 0.8237138231900558, 'Val Recall': 0.8065764023210832}\n"
     ]
    },
    {
     "name": "stderr",
     "output_type": "stream",
     "text": [
      "c:\\Users\\Sid\\AppData\\Local\\Programs\\Python\\Python39\\lib\\site-packages\\huggingface_hub\\file_download.py:1132: FutureWarning: `resume_download` is deprecated and will be removed in version 1.0.0. Downloads always resume when possible. If you want to force a new download, use `force_download=True`.\n",
      "  warnings.warn(\n",
      "Epoch(s):  30%|\u001b[31m██▉       \u001b[0m| 134/450 [4:07:26<9:43:21, 110.77s/it]"
     ]
    },
    {
     "name": "stdout",
     "output_type": "stream",
     "text": [
      "{'Epoch': 135, 'Train Loss': 0.4356953678481842, 'Train Accuracy': 0.8475314617618587, 'Val Loss': 0.5141710233229857, 'Val Accuracy': 0.8143133462282398, 'Val Precision': 0.821078849446217, 'Val Recall': 0.8143133462282398}\n"
     ]
    },
    {
     "name": "stderr",
     "output_type": "stream",
     "text": [
      "c:\\Users\\Sid\\AppData\\Local\\Programs\\Python\\Python39\\lib\\site-packages\\huggingface_hub\\file_download.py:1132: FutureWarning: `resume_download` is deprecated and will be removed in version 1.0.0. Downloads always resume when possible. If you want to force a new download, use `force_download=True`.\n",
      "  warnings.warn(\n",
      "Epoch(s):  30%|\u001b[31m███       \u001b[0m| 135/450 [4:09:16<9:41:09, 110.70s/it]"
     ]
    },
    {
     "name": "stdout",
     "output_type": "stream",
     "text": [
      "{'Epoch': 136, 'Train Loss': 0.4234372467089365, 'Train Accuracy': 0.8552758954501453, 'Val Loss': 0.508304899587081, 'Val Accuracy': 0.8239845261121856, 'Val Precision': 0.8225684594268438, 'Val Recall': 0.8239845261121856}\n"
     ]
    },
    {
     "name": "stderr",
     "output_type": "stream",
     "text": [
      "c:\\Users\\Sid\\AppData\\Local\\Programs\\Python\\Python39\\lib\\site-packages\\huggingface_hub\\file_download.py:1132: FutureWarning: `resume_download` is deprecated and will be removed in version 1.0.0. Downloads always resume when possible. If you want to force a new download, use `force_download=True`.\n",
      "  warnings.warn(\n",
      "Epoch(s):  30%|\u001b[31m███       \u001b[0m| 136/450 [4:11:07<9:39:08, 110.66s/it]"
     ]
    },
    {
     "name": "stdout",
     "output_type": "stream",
     "text": [
      "{'Epoch': 137, 'Train Loss': 0.4273302505965053, 'Train Accuracy': 0.8528557599225557, 'Val Loss': 0.49390106653937926, 'Val Accuracy': 0.8297872340425532, 'Val Precision': 0.8084740830213657, 'Val Recall': 0.8297872340425532}\n"
     ]
    },
    {
     "name": "stderr",
     "output_type": "stream",
     "text": [
      "c:\\Users\\Sid\\AppData\\Local\\Programs\\Python\\Python39\\lib\\site-packages\\huggingface_hub\\file_download.py:1132: FutureWarning: `resume_download` is deprecated and will be removed in version 1.0.0. Downloads always resume when possible. If you want to force a new download, use `force_download=True`.\n",
      "  warnings.warn(\n",
      "Epoch(s):  30%|\u001b[31m███       \u001b[0m| 137/450 [4:12:57<9:36:57, 110.60s/it]"
     ]
    },
    {
     "name": "stdout",
     "output_type": "stream",
     "text": [
      "{'Epoch': 138, 'Train Loss': 0.4220101284222771, 'Train Accuracy': 0.8557599225556631, 'Val Loss': 0.4930477405969913, 'Val Accuracy': 0.8191489361702128, 'Val Precision': 0.8165849317965667, 'Val Recall': 0.8191489361702128}\n"
     ]
    },
    {
     "name": "stderr",
     "output_type": "stream",
     "text": [
      "c:\\Users\\Sid\\AppData\\Local\\Programs\\Python\\Python39\\lib\\site-packages\\huggingface_hub\\file_download.py:1132: FutureWarning: `resume_download` is deprecated and will be removed in version 1.0.0. Downloads always resume when possible. If you want to force a new download, use `force_download=True`.\n",
      "  warnings.warn(\n",
      "Epoch(s):  31%|\u001b[31m███       \u001b[0m| 138/450 [4:14:48<9:35:03, 110.59s/it]"
     ]
    },
    {
     "name": "stdout",
     "output_type": "stream",
     "text": [
      "{'Epoch': 139, 'Train Loss': 0.4167344758581931, 'Train Accuracy': 0.8576960309777347, 'Val Loss': 0.4879481493280484, 'Val Accuracy': 0.8239845261121856, 'Val Precision': 0.8240640155787055, 'Val Recall': 0.8239845261121856}\n"
     ]
    },
    {
     "name": "stderr",
     "output_type": "stream",
     "text": [
      "c:\\Users\\Sid\\AppData\\Local\\Programs\\Python\\Python39\\lib\\site-packages\\huggingface_hub\\file_download.py:1132: FutureWarning: `resume_download` is deprecated and will be removed in version 1.0.0. Downloads always resume when possible. If you want to force a new download, use `force_download=True`.\n",
      "  warnings.warn(\n",
      "Epoch(s):  31%|\u001b[31m███       \u001b[0m| 139/450 [4:16:39<9:33:42, 110.68s/it]"
     ]
    },
    {
     "name": "stdout",
     "output_type": "stream",
     "text": [
      "{'Epoch': 140, 'Train Loss': 0.41904494280362337, 'Train Accuracy': 0.85648596321394, 'Val Loss': 0.4926935718609737, 'Val Accuracy': 0.8249516441005803, 'Val Precision': 0.8305281875689302, 'Val Recall': 0.8249516441005803}\n"
     ]
    },
    {
     "name": "stderr",
     "output_type": "stream",
     "text": [
      "c:\\Users\\Sid\\AppData\\Local\\Programs\\Python\\Python39\\lib\\site-packages\\huggingface_hub\\file_download.py:1132: FutureWarning: `resume_download` is deprecated and will be removed in version 1.0.0. Downloads always resume when possible. If you want to force a new download, use `force_download=True`.\n",
      "  warnings.warn(\n",
      "Epoch(s):  31%|\u001b[31m███       \u001b[0m| 140/450 [4:18:30<9:32:13, 110.75s/it]"
     ]
    },
    {
     "name": "stdout",
     "output_type": "stream",
     "text": [
      "{'Epoch': 141, 'Train Loss': 0.41369357187315303, 'Train Accuracy': 0.861568247821878, 'Val Loss': 0.48990826102403495, 'Val Accuracy': 0.8259187620889749, 'Val Precision': 0.8203335891808307, 'Val Recall': 0.8259187620889749}\n"
     ]
    },
    {
     "name": "stderr",
     "output_type": "stream",
     "text": [
      "c:\\Users\\Sid\\AppData\\Local\\Programs\\Python\\Python39\\lib\\site-packages\\huggingface_hub\\file_download.py:1132: FutureWarning: `resume_download` is deprecated and will be removed in version 1.0.0. Downloads always resume when possible. If you want to force a new download, use `force_download=True`.\n",
      "  warnings.warn(\n",
      "Epoch(s):  31%|\u001b[31m███▏      \u001b[0m| 141/450 [4:20:21<9:30:44, 110.82s/it]"
     ]
    },
    {
     "name": "stdout",
     "output_type": "stream",
     "text": [
      "{'Epoch': 142, 'Train Loss': 0.40555602022263304, 'Train Accuracy': 0.861568247821878, 'Val Loss': 0.47506015329406814, 'Val Accuracy': 0.8268858800773694, 'Val Precision': 0.8182880016854827, 'Val Recall': 0.8268858800773694}\n"
     ]
    },
    {
     "name": "stderr",
     "output_type": "stream",
     "text": [
      "c:\\Users\\Sid\\AppData\\Local\\Programs\\Python\\Python39\\lib\\site-packages\\huggingface_hub\\file_download.py:1132: FutureWarning: `resume_download` is deprecated and will be removed in version 1.0.0. Downloads always resume when possible. If you want to force a new download, use `force_download=True`.\n",
      "  warnings.warn(\n",
      "Epoch(s):  32%|\u001b[31m███▏      \u001b[0m| 142/450 [4:22:11<9:28:29, 110.75s/it]"
     ]
    },
    {
     "name": "stdout",
     "output_type": "stream",
     "text": [
      "{'Epoch': 143, 'Train Loss': 0.4114067808385133, 'Train Accuracy': 0.8606001936108422, 'Val Loss': 0.48048066024023756, 'Val Accuracy': 0.8230174081237911, 'Val Precision': 0.8227228720736962, 'Val Recall': 0.8230174081237911}\n"
     ]
    },
    {
     "name": "stderr",
     "output_type": "stream",
     "text": [
      "c:\\Users\\Sid\\AppData\\Local\\Programs\\Python\\Python39\\lib\\site-packages\\huggingface_hub\\file_download.py:1132: FutureWarning: `resume_download` is deprecated and will be removed in version 1.0.0. Downloads always resume when possible. If you want to force a new download, use `force_download=True`.\n",
      "  warnings.warn(\n",
      "Epoch(s):  32%|\u001b[31m███▏      \u001b[0m| 143/450 [4:24:02<9:27:01, 110.82s/it]"
     ]
    },
    {
     "name": "stdout",
     "output_type": "stream",
     "text": [
      "{'Epoch': 144, 'Train Loss': 0.40248823936122496, 'Train Accuracy': 0.861810261374637, 'Val Loss': 0.4752029287127348, 'Val Accuracy': 0.8326885880077369, 'Val Precision': 0.8264628564571075, 'Val Recall': 0.8326885880077369}\n"
     ]
    },
    {
     "name": "stderr",
     "output_type": "stream",
     "text": [
      "c:\\Users\\Sid\\AppData\\Local\\Programs\\Python\\Python39\\lib\\site-packages\\huggingface_hub\\file_download.py:1132: FutureWarning: `resume_download` is deprecated and will be removed in version 1.0.0. Downloads always resume when possible. If you want to force a new download, use `force_download=True`.\n",
      "  warnings.warn(\n",
      "Epoch(s):  32%|\u001b[31m███▏      \u001b[0m| 144/450 [4:25:53<9:25:30, 110.88s/it]"
     ]
    },
    {
     "name": "stdout",
     "output_type": "stream",
     "text": [
      "{'Epoch': 145, 'Train Loss': 0.4040662957333805, 'Train Accuracy': 0.8639883833494676, 'Val Loss': 0.4666949159823931, 'Val Accuracy': 0.839458413926499, 'Val Precision': 0.8306883849845439, 'Val Recall': 0.839458413926499}\n"
     ]
    },
    {
     "name": "stderr",
     "output_type": "stream",
     "text": [
      "c:\\Users\\Sid\\AppData\\Local\\Programs\\Python\\Python39\\lib\\site-packages\\huggingface_hub\\file_download.py:1132: FutureWarning: `resume_download` is deprecated and will be removed in version 1.0.0. Downloads always resume when possible. If you want to force a new download, use `force_download=True`.\n",
      "  warnings.warn(\n",
      "Epoch(s):  32%|\u001b[31m███▏      \u001b[0m| 145/450 [4:27:44<9:23:04, 110.77s/it]"
     ]
    },
    {
     "name": "stdout",
     "output_type": "stream",
     "text": [
      "{'Epoch': 146, 'Train Loss': 0.3971869798474244, 'Train Accuracy': 0.8642303969022265, 'Val Loss': 0.484013208345725, 'Val Accuracy': 0.8210831721470019, 'Val Precision': 0.8165617473515041, 'Val Recall': 0.8210831721470019}\n"
     ]
    },
    {
     "name": "stderr",
     "output_type": "stream",
     "text": [
      "c:\\Users\\Sid\\AppData\\Local\\Programs\\Python\\Python39\\lib\\site-packages\\huggingface_hub\\file_download.py:1132: FutureWarning: `resume_download` is deprecated and will be removed in version 1.0.0. Downloads always resume when possible. If you want to force a new download, use `force_download=True`.\n",
      "  warnings.warn(\n",
      "Epoch(s):  32%|\u001b[31m███▏      \u001b[0m| 146/450 [4:29:35<9:21:25, 110.81s/it]"
     ]
    },
    {
     "name": "stdout",
     "output_type": "stream",
     "text": [
      "{'Epoch': 147, 'Train Loss': 0.39224050190788784, 'Train Accuracy': 0.8678606001936109, 'Val Loss': 0.4962663597212388, 'Val Accuracy': 0.8181818181818182, 'Val Precision': 0.8275022019071646, 'Val Recall': 0.8181818181818182}\n"
     ]
    },
    {
     "name": "stderr",
     "output_type": "stream",
     "text": [
      "c:\\Users\\Sid\\AppData\\Local\\Programs\\Python\\Python39\\lib\\site-packages\\huggingface_hub\\file_download.py:1132: FutureWarning: `resume_download` is deprecated and will be removed in version 1.0.0. Downloads always resume when possible. If you want to force a new download, use `force_download=True`.\n",
      "  warnings.warn(\n",
      "Epoch(s):  33%|\u001b[31m███▎      \u001b[0m| 147/450 [4:31:25<9:19:02, 110.70s/it]"
     ]
    },
    {
     "name": "stdout",
     "output_type": "stream",
     "text": [
      "{'Epoch': 148, 'Train Loss': 0.38913807516709026, 'Train Accuracy': 0.8678606001936109, 'Val Loss': 0.4875454579121791, 'Val Accuracy': 0.8297872340425532, 'Val Precision': 0.82825708307895, 'Val Recall': 0.8297872340425532}\n"
     ]
    },
    {
     "name": "stderr",
     "output_type": "stream",
     "text": [
      "c:\\Users\\Sid\\AppData\\Local\\Programs\\Python\\Python39\\lib\\site-packages\\huggingface_hub\\file_download.py:1132: FutureWarning: `resume_download` is deprecated and will be removed in version 1.0.0. Downloads always resume when possible. If you want to force a new download, use `force_download=True`.\n",
      "  warnings.warn(\n",
      "Epoch(s):  33%|\u001b[31m███▎      \u001b[0m| 148/450 [4:33:16<9:17:00, 110.67s/it]"
     ]
    },
    {
     "name": "stdout",
     "output_type": "stream",
     "text": [
      "{'Epoch': 149, 'Train Loss': 0.3878120120801751, 'Train Accuracy': 0.8673765730880929, 'Val Loss': 0.4912273978671202, 'Val Accuracy': 0.8210831721470019, 'Val Precision': 0.8075050916582895, 'Val Recall': 0.8210831721470019}\n"
     ]
    },
    {
     "name": "stderr",
     "output_type": "stream",
     "text": [
      "c:\\Users\\Sid\\AppData\\Local\\Programs\\Python\\Python39\\lib\\site-packages\\huggingface_hub\\file_download.py:1132: FutureWarning: `resume_download` is deprecated and will be removed in version 1.0.0. Downloads always resume when possible. If you want to force a new download, use `force_download=True`.\n",
      "  warnings.warn(\n",
      "Epoch(s):  33%|\u001b[31m███▎      \u001b[0m| 149/450 [4:35:07<9:16:12, 110.87s/it]"
     ]
    },
    {
     "name": "stdout",
     "output_type": "stream",
     "text": [
      "{'Epoch': 150, 'Train Loss': 0.38748280133518953, 'Train Accuracy': 0.861568247821878, 'Val Loss': 0.5839823909676992, 'Val Accuracy': 0.8017408123791102, 'Val Precision': 0.8504701209494534, 'Val Recall': 0.8017408123791102}\n"
     ]
    },
    {
     "name": "stderr",
     "output_type": "stream",
     "text": [
      "c:\\Users\\Sid\\AppData\\Local\\Programs\\Python\\Python39\\lib\\site-packages\\huggingface_hub\\file_download.py:1132: FutureWarning: `resume_download` is deprecated and will be removed in version 1.0.0. Downloads always resume when possible. If you want to force a new download, use `force_download=True`.\n",
      "  warnings.warn(\n",
      "Epoch(s):  33%|\u001b[31m███▎      \u001b[0m| 150/450 [4:36:57<9:13:46, 110.76s/it]"
     ]
    },
    {
     "name": "stdout",
     "output_type": "stream",
     "text": [
      "{'Epoch': 151, 'Train Loss': 0.382720321121996, 'Train Accuracy': 0.8661665053242982, 'Val Loss': 0.46704479579169017, 'Val Accuracy': 0.8336557059961315, 'Val Precision': 0.8274447944818194, 'Val Recall': 0.8336557059961315}\n"
     ]
    },
    {
     "name": "stderr",
     "output_type": "stream",
     "text": [
      "c:\\Users\\Sid\\AppData\\Local\\Programs\\Python\\Python39\\lib\\site-packages\\huggingface_hub\\file_download.py:1132: FutureWarning: `resume_download` is deprecated and will be removed in version 1.0.0. Downloads always resume when possible. If you want to force a new download, use `force_download=True`.\n",
      "  warnings.warn(\n",
      "Epoch(s):  34%|\u001b[31m███▎      \u001b[0m| 151/450 [4:38:48<9:11:47, 110.73s/it]"
     ]
    },
    {
     "name": "stdout",
     "output_type": "stream",
     "text": [
      "{'Epoch': 152, 'Train Loss': 0.38115177349399587, 'Train Accuracy': 0.8678606001936109, 'Val Loss': 0.4531926593528344, 'Val Accuracy': 0.8355899419729207, 'Val Precision': 0.8301095227991161, 'Val Recall': 0.8355899419729207}\n"
     ]
    },
    {
     "name": "stderr",
     "output_type": "stream",
     "text": [
      "c:\\Users\\Sid\\AppData\\Local\\Programs\\Python\\Python39\\lib\\site-packages\\huggingface_hub\\file_download.py:1132: FutureWarning: `resume_download` is deprecated and will be removed in version 1.0.0. Downloads always resume when possible. If you want to force a new download, use `force_download=True`.\n",
      "  warnings.warn(\n",
      "Epoch(s):  34%|\u001b[31m███▍      \u001b[0m| 152/450 [4:40:39<9:09:38, 110.67s/it]"
     ]
    },
    {
     "name": "stdout",
     "output_type": "stream",
     "text": [
      "{'Epoch': 153, 'Train Loss': 0.376472861301082, 'Train Accuracy': 0.8717328170377541, 'Val Loss': 0.4906305001905331, 'Val Accuracy': 0.8259187620889749, 'Val Precision': 0.8369778123676216, 'Val Recall': 0.8259187620889749}\n"
     ]
    },
    {
     "name": "stderr",
     "output_type": "stream",
     "text": [
      "c:\\Users\\Sid\\AppData\\Local\\Programs\\Python\\Python39\\lib\\site-packages\\huggingface_hub\\file_download.py:1132: FutureWarning: `resume_download` is deprecated and will be removed in version 1.0.0. Downloads always resume when possible. If you want to force a new download, use `force_download=True`.\n",
      "  warnings.warn(\n",
      "Epoch(s):  34%|\u001b[31m███▍      \u001b[0m| 153/450 [4:42:29<9:07:31, 110.61s/it]"
     ]
    },
    {
     "name": "stdout",
     "output_type": "stream",
     "text": [
      "{'Epoch': 154, 'Train Loss': 0.3758206100393676, 'Train Accuracy': 0.8678606001936109, 'Val Loss': 0.46772678007300084, 'Val Accuracy': 0.8346228239845261, 'Val Precision': 0.8299517243321193, 'Val Recall': 0.8346228239845261}\n"
     ]
    },
    {
     "name": "stderr",
     "output_type": "stream",
     "text": [
      "c:\\Users\\Sid\\AppData\\Local\\Programs\\Python\\Python39\\lib\\site-packages\\huggingface_hub\\file_download.py:1132: FutureWarning: `resume_download` is deprecated and will be removed in version 1.0.0. Downloads always resume when possible. If you want to force a new download, use `force_download=True`.\n",
      "  warnings.warn(\n",
      "Epoch(s):  34%|\u001b[31m███▍      \u001b[0m| 154/450 [4:44:20<9:05:37, 110.60s/it]"
     ]
    },
    {
     "name": "stdout",
     "output_type": "stream",
     "text": [
      "{'Epoch': 155, 'Train Loss': 0.3760454320262499, 'Train Accuracy': 0.8743949661181026, 'Val Loss': 0.4669108010828495, 'Val Accuracy': 0.8326885880077369, 'Val Precision': 0.8249121101331593, 'Val Recall': 0.8326885880077369}\n"
     ]
    },
    {
     "name": "stderr",
     "output_type": "stream",
     "text": [
      "c:\\Users\\Sid\\AppData\\Local\\Programs\\Python\\Python39\\lib\\site-packages\\huggingface_hub\\file_download.py:1132: FutureWarning: `resume_download` is deprecated and will be removed in version 1.0.0. Downloads always resume when possible. If you want to force a new download, use `force_download=True`.\n",
      "  warnings.warn(\n",
      "Epoch(s):  34%|\u001b[31m███▍      \u001b[0m| 155/450 [4:46:11<9:04:22, 110.72s/it]"
     ]
    },
    {
     "name": "stdout",
     "output_type": "stream",
     "text": [
      "{'Epoch': 156, 'Train Loss': 0.36620996407733003, 'Train Accuracy': 0.8751210067763795, 'Val Loss': 0.4609726344163601, 'Val Accuracy': 0.8375241779497099, 'Val Precision': 0.8400344387361541, 'Val Recall': 0.8375241779497099}\n"
     ]
    },
    {
     "name": "stderr",
     "output_type": "stream",
     "text": [
      "c:\\Users\\Sid\\AppData\\Local\\Programs\\Python\\Python39\\lib\\site-packages\\huggingface_hub\\file_download.py:1132: FutureWarning: `resume_download` is deprecated and will be removed in version 1.0.0. Downloads always resume when possible. If you want to force a new download, use `force_download=True`.\n",
      "  warnings.warn(\n",
      "Epoch(s):  35%|\u001b[31m███▍      \u001b[0m| 156/450 [4:48:01<9:02:13, 110.66s/it]"
     ]
    },
    {
     "name": "stdout",
     "output_type": "stream",
     "text": [
      "{'Epoch': 157, 'Train Loss': 0.37095662055925455, 'Train Accuracy': 0.8753630203291385, 'Val Loss': 0.4622474891061966, 'Val Accuracy': 0.8365570599613152, 'Val Precision': 0.8367927601068634, 'Val Recall': 0.8365570599613152}\n"
     ]
    },
    {
     "name": "stderr",
     "output_type": "stream",
     "text": [
      "c:\\Users\\Sid\\AppData\\Local\\Programs\\Python\\Python39\\lib\\site-packages\\huggingface_hub\\file_download.py:1132: FutureWarning: `resume_download` is deprecated and will be removed in version 1.0.0. Downloads always resume when possible. If you want to force a new download, use `force_download=True`.\n",
      "  warnings.warn(\n",
      "Epoch(s):  35%|\u001b[31m███▍      \u001b[0m| 157/450 [4:49:52<9:00:48, 110.74s/it]"
     ]
    },
    {
     "name": "stdout",
     "output_type": "stream",
     "text": [
      "{'Epoch': 158, 'Train Loss': 0.357833520635157, 'Train Accuracy': 0.8797192642787997, 'Val Loss': 0.48717055111550367, 'Val Accuracy': 0.8346228239845261, 'Val Precision': 0.8221151728343397, 'Val Recall': 0.8346228239845261}\n"
     ]
    },
    {
     "name": "stderr",
     "output_type": "stream",
     "text": [
      "c:\\Users\\Sid\\AppData\\Local\\Programs\\Python\\Python39\\lib\\site-packages\\huggingface_hub\\file_download.py:1132: FutureWarning: `resume_download` is deprecated and will be removed in version 1.0.0. Downloads always resume when possible. If you want to force a new download, use `force_download=True`.\n",
      "  warnings.warn(\n",
      "Epoch(s):  35%|\u001b[31m███▌      \u001b[0m| 158/450 [4:51:43<8:59:15, 110.81s/it]"
     ]
    },
    {
     "name": "stdout",
     "output_type": "stream",
     "text": [
      "{'Epoch': 159, 'Train Loss': 0.36196849897187416, 'Train Accuracy': 0.8780251694094869, 'Val Loss': 0.46995847465900276, 'Val Accuracy': 0.8384912959381045, 'Val Precision': 0.844925119465688, 'Val Recall': 0.8384912959381045}\n"
     ]
    },
    {
     "name": "stderr",
     "output_type": "stream",
     "text": [
      "c:\\Users\\Sid\\AppData\\Local\\Programs\\Python\\Python39\\lib\\site-packages\\huggingface_hub\\file_download.py:1132: FutureWarning: `resume_download` is deprecated and will be removed in version 1.0.0. Downloads always resume when possible. If you want to force a new download, use `force_download=True`.\n",
      "  warnings.warn(\n",
      "Epoch(s):  35%|\u001b[31m███▌      \u001b[0m| 159/450 [4:53:34<8:57:43, 110.87s/it]"
     ]
    },
    {
     "name": "stdout",
     "output_type": "stream",
     "text": [
      "{'Epoch': 160, 'Train Loss': 0.3636503486703492, 'Train Accuracy': 0.8729428848015489, 'Val Loss': 0.4586977461209664, 'Val Accuracy': 0.839458413926499, 'Val Precision': 0.8344074883877273, 'Val Recall': 0.839458413926499}\n"
     ]
    },
    {
     "name": "stderr",
     "output_type": "stream",
     "text": [
      "c:\\Users\\Sid\\AppData\\Local\\Programs\\Python\\Python39\\lib\\site-packages\\huggingface_hub\\file_download.py:1132: FutureWarning: `resume_download` is deprecated and will be removed in version 1.0.0. Downloads always resume when possible. If you want to force a new download, use `force_download=True`.\n",
      "  warnings.warn(\n",
      "Epoch(s):  36%|\u001b[31m███▌      \u001b[0m| 160/450 [4:55:25<8:55:17, 110.75s/it]"
     ]
    },
    {
     "name": "stdout",
     "output_type": "stream",
     "text": [
      "{'Epoch': 161, 'Train Loss': 0.355145194769107, 'Train Accuracy': 0.8799612778315585, 'Val Loss': 0.4715284213137168, 'Val Accuracy': 0.8307543520309478, 'Val Precision': 0.8286089425288358, 'Val Recall': 0.8307543520309478}\n"
     ]
    },
    {
     "name": "stderr",
     "output_type": "stream",
     "text": [
      "c:\\Users\\Sid\\AppData\\Local\\Programs\\Python\\Python39\\lib\\site-packages\\huggingface_hub\\file_download.py:1132: FutureWarning: `resume_download` is deprecated and will be removed in version 1.0.0. Downloads always resume when possible. If you want to force a new download, use `force_download=True`.\n",
      "  warnings.warn(\n",
      "Epoch(s):  36%|\u001b[31m███▌      \u001b[0m| 161/450 [4:57:16<8:53:49, 110.83s/it]"
     ]
    },
    {
     "name": "stdout",
     "output_type": "stream",
     "text": [
      "{'Epoch': 162, 'Train Loss': 0.3497535562962806, 'Train Accuracy': 0.8804453049370765, 'Val Loss': 0.46529704744999223, 'Val Accuracy': 0.8404255319148937, 'Val Precision': 0.8410656858304405, 'Val Recall': 0.8404255319148937}\n"
     ]
    },
    {
     "name": "stderr",
     "output_type": "stream",
     "text": [
      "c:\\Users\\Sid\\AppData\\Local\\Programs\\Python\\Python39\\lib\\site-packages\\huggingface_hub\\file_download.py:1132: FutureWarning: `resume_download` is deprecated and will be removed in version 1.0.0. Downloads always resume when possible. If you want to force a new download, use `force_download=True`.\n",
      "  warnings.warn(\n",
      "Epoch(s):  36%|\u001b[31m███▌      \u001b[0m| 162/450 [4:59:06<8:52:06, 110.86s/it]"
     ]
    },
    {
     "name": "stdout",
     "output_type": "stream",
     "text": [
      "{'Epoch': 163, 'Train Loss': 0.3468549316137684, 'Train Accuracy': 0.8860116166505324, 'Val Loss': 0.47934131470437236, 'Val Accuracy': 0.8365570599613152, 'Val Precision': 0.8403108756945254, 'Val Recall': 0.8365570599613152}\n"
     ]
    },
    {
     "name": "stderr",
     "output_type": "stream",
     "text": [
      "c:\\Users\\Sid\\AppData\\Local\\Programs\\Python\\Python39\\lib\\site-packages\\huggingface_hub\\file_download.py:1132: FutureWarning: `resume_download` is deprecated and will be removed in version 1.0.0. Downloads always resume when possible. If you want to force a new download, use `force_download=True`.\n",
      "  warnings.warn(\n",
      "Epoch(s):  36%|\u001b[31m███▌      \u001b[0m| 163/450 [5:00:57<8:50:26, 110.89s/it]"
     ]
    },
    {
     "name": "stdout",
     "output_type": "stream",
     "text": [
      "{'Epoch': 164, 'Train Loss': 0.3476839474650481, 'Train Accuracy': 0.8768151016456922, 'Val Loss': 0.45769749748019073, 'Val Accuracy': 0.8384912959381045, 'Val Precision': 0.8384462034991265, 'Val Recall': 0.8384912959381045}\n"
     ]
    },
    {
     "name": "stderr",
     "output_type": "stream",
     "text": [
      "c:\\Users\\Sid\\AppData\\Local\\Programs\\Python\\Python39\\lib\\site-packages\\huggingface_hub\\file_download.py:1132: FutureWarning: `resume_download` is deprecated and will be removed in version 1.0.0. Downloads always resume when possible. If you want to force a new download, use `force_download=True`.\n",
      "  warnings.warn(\n",
      "Epoch(s):  36%|\u001b[31m███▋      \u001b[0m| 164/450 [5:02:48<8:48:10, 110.81s/it]"
     ]
    },
    {
     "name": "stdout",
     "output_type": "stream",
     "text": [
      "{'Epoch': 165, 'Train Loss': 0.3465021922645019, 'Train Accuracy': 0.8804453049370765, 'Val Loss': 0.4707598717166827, 'Val Accuracy': 0.8288201160541586, 'Val Precision': 0.8410621541033669, 'Val Recall': 0.8288201160541586}\n"
     ]
    },
    {
     "name": "stderr",
     "output_type": "stream",
     "text": [
      "c:\\Users\\Sid\\AppData\\Local\\Programs\\Python\\Python39\\lib\\site-packages\\huggingface_hub\\file_download.py:1132: FutureWarning: `resume_download` is deprecated and will be removed in version 1.0.0. Downloads always resume when possible. If you want to force a new download, use `force_download=True`.\n",
      "  warnings.warn(\n",
      "Epoch(s):  37%|\u001b[31m███▋      \u001b[0m| 165/450 [5:04:39<8:45:50, 110.70s/it]"
     ]
    },
    {
     "name": "stdout",
     "output_type": "stream",
     "text": [
      "{'Epoch': 166, 'Train Loss': 0.35054466420331515, 'Train Accuracy': 0.8770571151984511, 'Val Loss': 0.43326451663787546, 'Val Accuracy': 0.8481624758220503, 'Val Precision': 0.8431817078115292, 'Val Recall': 0.8481624758220503}\n"
     ]
    },
    {
     "name": "stderr",
     "output_type": "stream",
     "text": [
      "c:\\Users\\Sid\\AppData\\Local\\Programs\\Python\\Python39\\lib\\site-packages\\huggingface_hub\\file_download.py:1132: FutureWarning: `resume_download` is deprecated and will be removed in version 1.0.0. Downloads always resume when possible. If you want to force a new download, use `force_download=True`.\n",
      "  warnings.warn(\n",
      "Epoch(s):  37%|\u001b[31m███▋      \u001b[0m| 166/450 [5:06:29<8:44:24, 110.79s/it]"
     ]
    },
    {
     "name": "stdout",
     "output_type": "stream",
     "text": [
      "{'Epoch': 167, 'Train Loss': 0.3467236744196327, 'Train Accuracy': 0.8811713455953534, 'Val Loss': 0.5133862437537083, 'Val Accuracy': 0.8259187620889749, 'Val Precision': 0.8284056734610316, 'Val Recall': 0.8259187620889749}\n"
     ]
    },
    {
     "name": "stderr",
     "output_type": "stream",
     "text": [
      "c:\\Users\\Sid\\AppData\\Local\\Programs\\Python\\Python39\\lib\\site-packages\\huggingface_hub\\file_download.py:1132: FutureWarning: `resume_download` is deprecated and will be removed in version 1.0.0. Downloads always resume when possible. If you want to force a new download, use `force_download=True`.\n",
      "  warnings.warn(\n",
      "Epoch(s):  37%|\u001b[31m███▋      \u001b[0m| 167/450 [5:08:20<8:42:19, 110.74s/it]"
     ]
    },
    {
     "name": "stdout",
     "output_type": "stream",
     "text": [
      "{'Epoch': 168, 'Train Loss': 0.34059094113898264, 'Train Accuracy': 0.8843175217812197, 'Val Loss': 0.45679421936376735, 'Val Accuracy': 0.839458413926499, 'Val Precision': 0.8439448872851223, 'Val Recall': 0.839458413926499}\n"
     ]
    },
    {
     "name": "stderr",
     "output_type": "stream",
     "text": [
      "c:\\Users\\Sid\\AppData\\Local\\Programs\\Python\\Python39\\lib\\site-packages\\huggingface_hub\\file_download.py:1132: FutureWarning: `resume_download` is deprecated and will be removed in version 1.0.0. Downloads always resume when possible. If you want to force a new download, use `force_download=True`.\n",
      "  warnings.warn(\n",
      "Epoch(s):  37%|\u001b[31m███▋      \u001b[0m| 168/450 [5:10:11<8:40:08, 110.67s/it]"
     ]
    },
    {
     "name": "stdout",
     "output_type": "stream",
     "text": [
      "{'Epoch': 169, 'Train Loss': 0.33616608340997955, 'Train Accuracy': 0.8855275895450145, 'Val Loss': 0.4769098537472578, 'Val Accuracy': 0.8288201160541586, 'Val Precision': 0.848918765755729, 'Val Recall': 0.8288201160541586}\n"
     ]
    },
    {
     "name": "stderr",
     "output_type": "stream",
     "text": [
      "c:\\Users\\Sid\\AppData\\Local\\Programs\\Python\\Python39\\lib\\site-packages\\huggingface_hub\\file_download.py:1132: FutureWarning: `resume_download` is deprecated and will be removed in version 1.0.0. Downloads always resume when possible. If you want to force a new download, use `force_download=True`.\n",
      "  warnings.warn(\n",
      "Epoch(s):  38%|\u001b[31m███▊      \u001b[0m| 169/450 [5:12:01<8:38:00, 110.61s/it]"
     ]
    },
    {
     "name": "stdout",
     "output_type": "stream",
     "text": [
      "{'Epoch': 170, 'Train Loss': 0.3389173350602561, 'Train Accuracy': 0.8860116166505324, 'Val Loss': 0.43368588290535487, 'Val Accuracy': 0.844294003868472, 'Val Precision': 0.8434600555021733, 'Val Recall': 0.844294003868472}\n"
     ]
    },
    {
     "name": "stderr",
     "output_type": "stream",
     "text": [
      "c:\\Users\\Sid\\AppData\\Local\\Programs\\Python\\Python39\\lib\\site-packages\\huggingface_hub\\file_download.py:1132: FutureWarning: `resume_download` is deprecated and will be removed in version 1.0.0. Downloads always resume when possible. If you want to force a new download, use `force_download=True`.\n",
      "  warnings.warn(\n",
      "Epoch(s):  38%|\u001b[31m███▊      \u001b[0m| 170/450 [5:13:52<8:36:35, 110.70s/it]"
     ]
    },
    {
     "name": "stdout",
     "output_type": "stream",
     "text": [
      "{'Epoch': 171, 'Train Loss': 0.3319393903103344, 'Train Accuracy': 0.883107454017425, 'Val Loss': 0.4621449406903524, 'Val Accuracy': 0.8355899419729207, 'Val Precision': 0.8497412302826749, 'Val Recall': 0.8355899419729207}\n"
     ]
    },
    {
     "name": "stderr",
     "output_type": "stream",
     "text": [
      "c:\\Users\\Sid\\AppData\\Local\\Programs\\Python\\Python39\\lib\\site-packages\\huggingface_hub\\file_download.py:1132: FutureWarning: `resume_download` is deprecated and will be removed in version 1.0.0. Downloads always resume when possible. If you want to force a new download, use `force_download=True`.\n",
      "  warnings.warn(\n",
      "Epoch(s):  38%|\u001b[31m███▊      \u001b[0m| 171/450 [5:15:43<8:34:33, 110.66s/it]"
     ]
    },
    {
     "name": "stdout",
     "output_type": "stream",
     "text": [
      "{'Epoch': 172, 'Train Loss': 0.3358947840666679, 'Train Accuracy': 0.8845595353339787, 'Val Loss': 0.4635303279528251, 'Val Accuracy': 0.8471953578336557, 'Val Precision': 0.8551057280279427, 'Val Recall': 0.8471953578336557}\n"
     ]
    },
    {
     "name": "stderr",
     "output_type": "stream",
     "text": [
      "c:\\Users\\Sid\\AppData\\Local\\Programs\\Python\\Python39\\lib\\site-packages\\huggingface_hub\\file_download.py:1132: FutureWarning: `resume_download` is deprecated and will be removed in version 1.0.0. Downloads always resume when possible. If you want to force a new download, use `force_download=True`.\n",
      "  warnings.warn(\n",
      "Epoch(s):  38%|\u001b[31m███▊      \u001b[0m| 172/450 [5:17:34<8:33:06, 110.74s/it]"
     ]
    },
    {
     "name": "stdout",
     "output_type": "stream",
     "text": [
      "{'Epoch': 173, 'Train Loss': 0.3337562735116965, 'Train Accuracy': 0.8860116166505324, 'Val Loss': 0.46493734049682434, 'Val Accuracy': 0.8404255319148937, 'Val Precision': 0.8474547184097796, 'Val Recall': 0.8404255319148937}\n"
     ]
    },
    {
     "name": "stderr",
     "output_type": "stream",
     "text": [
      "c:\\Users\\Sid\\AppData\\Local\\Programs\\Python\\Python39\\lib\\site-packages\\huggingface_hub\\file_download.py:1132: FutureWarning: `resume_download` is deprecated and will be removed in version 1.0.0. Downloads always resume when possible. If you want to force a new download, use `force_download=True`.\n",
      "  warnings.warn(\n",
      "Epoch(s):  38%|\u001b[31m███▊      \u001b[0m| 173/450 [5:19:24<8:31:32, 110.80s/it]"
     ]
    },
    {
     "name": "stdout",
     "output_type": "stream",
     "text": [
      "{'Epoch': 174, 'Train Loss': 0.33217504178263735, 'Train Accuracy': 0.8835914811229428, 'Val Loss': 0.4379646071447776, 'Val Accuracy': 0.844294003868472, 'Val Precision': 0.8542433646435761, 'Val Recall': 0.844294003868472}\n"
     ]
    },
    {
     "name": "stderr",
     "output_type": "stream",
     "text": [
      "c:\\Users\\Sid\\AppData\\Local\\Programs\\Python\\Python39\\lib\\site-packages\\huggingface_hub\\file_download.py:1132: FutureWarning: `resume_download` is deprecated and will be removed in version 1.0.0. Downloads always resume when possible. If you want to force a new download, use `force_download=True`.\n",
      "  warnings.warn(\n",
      "Epoch(s):  39%|\u001b[31m███▊      \u001b[0m| 174/450 [5:21:15<8:29:30, 110.76s/it]"
     ]
    },
    {
     "name": "stdout",
     "output_type": "stream",
     "text": [
      "{'Epoch': 175, 'Train Loss': 0.3192966236376912, 'Train Accuracy': 0.888431752178122, 'Val Loss': 0.44031725272249717, 'Val Accuracy': 0.8452611218568665, 'Val Precision': 0.8375046701354335, 'Val Recall': 0.8452611218568665}\n"
     ]
    },
    {
     "name": "stderr",
     "output_type": "stream",
     "text": [
      "c:\\Users\\Sid\\AppData\\Local\\Programs\\Python\\Python39\\lib\\site-packages\\huggingface_hub\\file_download.py:1132: FutureWarning: `resume_download` is deprecated and will be removed in version 1.0.0. Downloads always resume when possible. If you want to force a new download, use `force_download=True`.\n",
      "  warnings.warn(\n",
      "Epoch(s):  39%|\u001b[31m███▉      \u001b[0m| 175/450 [5:23:06<8:28:29, 110.94s/it]"
     ]
    },
    {
     "name": "stdout",
     "output_type": "stream",
     "text": [
      "{'Epoch': 176, 'Train Loss': 0.3213955908006913, 'Train Accuracy': 0.8860116166505324, 'Val Loss': 0.4598030302960139, 'Val Accuracy': 0.844294003868472, 'Val Precision': 0.8444487176039098, 'Val Recall': 0.844294003868472}\n"
     ]
    },
    {
     "name": "stderr",
     "output_type": "stream",
     "text": [
      "c:\\Users\\Sid\\AppData\\Local\\Programs\\Python\\Python39\\lib\\site-packages\\huggingface_hub\\file_download.py:1132: FutureWarning: `resume_download` is deprecated and will be removed in version 1.0.0. Downloads always resume when possible. If you want to force a new download, use `force_download=True`.\n",
      "  warnings.warn(\n",
      "Epoch(s):  39%|\u001b[31m███▉      \u001b[0m| 176/450 [5:24:57<8:26:03, 110.82s/it]"
     ]
    },
    {
     "name": "stdout",
     "output_type": "stream",
     "text": [
      "{'Epoch': 177, 'Train Loss': 0.3238155473469537, 'Train Accuracy': 0.8898838334946757, 'Val Loss': 0.4587592862546444, 'Val Accuracy': 0.8404255319148937, 'Val Precision': 0.8457110285617107, 'Val Recall': 0.8404255319148937}\n"
     ]
    },
    {
     "name": "stderr",
     "output_type": "stream",
     "text": [
      "c:\\Users\\Sid\\AppData\\Local\\Programs\\Python\\Python39\\lib\\site-packages\\huggingface_hub\\file_download.py:1132: FutureWarning: `resume_download` is deprecated and will be removed in version 1.0.0. Downloads always resume when possible. If you want to force a new download, use `force_download=True`.\n",
      "  warnings.warn(\n",
      "Epoch(s):  39%|\u001b[31m███▉      \u001b[0m| 177/450 [5:26:48<8:24:41, 110.92s/it]"
     ]
    },
    {
     "name": "stdout",
     "output_type": "stream",
     "text": [
      "{'Epoch': 178, 'Train Loss': 0.32087848751812914, 'Train Accuracy': 0.8898838334946757, 'Val Loss': 0.44033626541495324, 'Val Accuracy': 0.8481624758220503, 'Val Precision': 0.8500516850268435, 'Val Recall': 0.8481624758220503}\n"
     ]
    },
    {
     "name": "stderr",
     "output_type": "stream",
     "text": [
      "c:\\Users\\Sid\\AppData\\Local\\Programs\\Python\\Python39\\lib\\site-packages\\huggingface_hub\\file_download.py:1132: FutureWarning: `resume_download` is deprecated and will be removed in version 1.0.0. Downloads always resume when possible. If you want to force a new download, use `force_download=True`.\n",
      "  warnings.warn(\n",
      "Epoch(s):  40%|\u001b[31m███▉      \u001b[0m| 178/450 [5:28:39<8:22:20, 110.81s/it]"
     ]
    },
    {
     "name": "stdout",
     "output_type": "stream",
     "text": [
      "{'Epoch': 179, 'Train Loss': 0.31976010631697976, 'Train Accuracy': 0.8913359148112294, 'Val Loss': 0.444370450423314, 'Val Accuracy': 0.8423597678916828, 'Val Precision': 0.8511399901418295, 'Val Recall': 0.8423597678916828}\n"
     ]
    },
    {
     "name": "stderr",
     "output_type": "stream",
     "text": [
      "c:\\Users\\Sid\\AppData\\Local\\Programs\\Python\\Python39\\lib\\site-packages\\huggingface_hub\\file_download.py:1132: FutureWarning: `resume_download` is deprecated and will be removed in version 1.0.0. Downloads always resume when possible. If you want to force a new download, use `force_download=True`.\n",
      "  warnings.warn(\n",
      "Epoch(s):  40%|\u001b[31m███▉      \u001b[0m| 179/450 [5:30:29<8:20:04, 110.72s/it]"
     ]
    },
    {
     "name": "stdout",
     "output_type": "stream",
     "text": [
      "{'Epoch': 180, 'Train Loss': 0.31575000764708605, 'Train Accuracy': 0.8896418199419167, 'Val Loss': 0.4832046154599923, 'Val Accuracy': 0.839458413926499, 'Val Precision': 0.8482007102622598, 'Val Recall': 0.839458413926499}\n"
     ]
    },
    {
     "name": "stderr",
     "output_type": "stream",
     "text": [
      "c:\\Users\\Sid\\AppData\\Local\\Programs\\Python\\Python39\\lib\\site-packages\\huggingface_hub\\file_download.py:1132: FutureWarning: `resume_download` is deprecated and will be removed in version 1.0.0. Downloads always resume when possible. If you want to force a new download, use `force_download=True`.\n",
      "  warnings.warn(\n",
      "Epoch(s):  40%|\u001b[31m████      \u001b[0m| 180/450 [5:32:20<8:17:59, 110.67s/it]"
     ]
    },
    {
     "name": "stdout",
     "output_type": "stream",
     "text": [
      "{'Epoch': 181, 'Train Loss': 0.31038055262084724, 'Train Accuracy': 0.893756050338819, 'Val Loss': 0.45993780134102474, 'Val Accuracy': 0.8346228239845261, 'Val Precision': 0.8347660097827121, 'Val Recall': 0.8346228239845261}\n"
     ]
    },
    {
     "name": "stderr",
     "output_type": "stream",
     "text": [
      "c:\\Users\\Sid\\AppData\\Local\\Programs\\Python\\Python39\\lib\\site-packages\\huggingface_hub\\file_download.py:1132: FutureWarning: `resume_download` is deprecated and will be removed in version 1.0.0. Downloads always resume when possible. If you want to force a new download, use `force_download=True`.\n",
      "  warnings.warn(\n",
      "Epoch(s):  40%|\u001b[31m████      \u001b[0m| 181/450 [5:34:10<8:15:59, 110.63s/it]"
     ]
    },
    {
     "name": "stdout",
     "output_type": "stream",
     "text": [
      "{'Epoch': 182, 'Train Loss': 0.30212923523369445, 'Train Accuracy': 0.8983543078412392, 'Val Loss': 0.46977336489810395, 'Val Accuracy': 0.8326885880077369, 'Val Precision': 0.8528880430356168, 'Val Recall': 0.8326885880077369}\n"
     ]
    },
    {
     "name": "stderr",
     "output_type": "stream",
     "text": [
      "c:\\Users\\Sid\\AppData\\Local\\Programs\\Python\\Python39\\lib\\site-packages\\huggingface_hub\\file_download.py:1132: FutureWarning: `resume_download` is deprecated and will be removed in version 1.0.0. Downloads always resume when possible. If you want to force a new download, use `force_download=True`.\n",
      "  warnings.warn(\n",
      "Epoch(s):  40%|\u001b[31m████      \u001b[0m| 182/450 [5:36:01<8:14:04, 110.61s/it]"
     ]
    },
    {
     "name": "stdout",
     "output_type": "stream",
     "text": [
      "{'Epoch': 183, 'Train Loss': 0.3055669017177449, 'Train Accuracy': 0.8952081316553727, 'Val Loss': 0.46349187433146516, 'Val Accuracy': 0.844294003868472, 'Val Precision': 0.8454685442459163, 'Val Recall': 0.844294003868472}\n"
     ]
    },
    {
     "name": "stderr",
     "output_type": "stream",
     "text": [
      "c:\\Users\\Sid\\AppData\\Local\\Programs\\Python\\Python39\\lib\\site-packages\\huggingface_hub\\file_download.py:1132: FutureWarning: `resume_download` is deprecated and will be removed in version 1.0.0. Downloads always resume when possible. If you want to force a new download, use `force_download=True`.\n",
      "  warnings.warn(\n",
      "Epoch(s):  41%|\u001b[31m████      \u001b[0m| 183/450 [5:37:52<8:12:40, 110.71s/it]"
     ]
    },
    {
     "name": "stdout",
     "output_type": "stream",
     "text": [
      "{'Epoch': 184, 'Train Loss': 0.3144629213700078, 'Train Accuracy': 0.8918199419167473, 'Val Loss': 0.438109770259605, 'Val Accuracy': 0.8404255319148937, 'Val Precision': 0.8356908091635001, 'Val Recall': 0.8404255319148937}\n"
     ]
    },
    {
     "name": "stderr",
     "output_type": "stream",
     "text": [
      "c:\\Users\\Sid\\AppData\\Local\\Programs\\Python\\Python39\\lib\\site-packages\\huggingface_hub\\file_download.py:1132: FutureWarning: `resume_download` is deprecated and will be removed in version 1.0.0. Downloads always resume when possible. If you want to force a new download, use `force_download=True`.\n",
      "  warnings.warn(\n",
      "Epoch(s):  41%|\u001b[31m████      \u001b[0m| 184/450 [5:39:43<8:11:47, 110.93s/it]"
     ]
    },
    {
     "name": "stdout",
     "output_type": "stream",
     "text": [
      "{'Epoch': 185, 'Train Loss': 0.31062099151313305, 'Train Accuracy': 0.8918199419167473, 'Val Loss': 0.44744497981782144, 'Val Accuracy': 0.8471953578336557, 'Val Precision': 0.8463404485058512, 'Val Recall': 0.8471953578336557}\n"
     ]
    },
    {
     "name": "stderr",
     "output_type": "stream",
     "text": [
      "c:\\Users\\Sid\\AppData\\Local\\Programs\\Python\\Python39\\lib\\site-packages\\huggingface_hub\\file_download.py:1132: FutureWarning: `resume_download` is deprecated and will be removed in version 1.0.0. Downloads always resume when possible. If you want to force a new download, use `force_download=True`.\n",
      "  warnings.warn(\n",
      "Epoch(s):  41%|\u001b[31m████      \u001b[0m| 185/450 [5:41:34<8:09:19, 110.79s/it]"
     ]
    },
    {
     "name": "stdout",
     "output_type": "stream",
     "text": [
      "{'Epoch': 186, 'Train Loss': 0.30733186883211827, 'Train Accuracy': 0.9015004840271055, 'Val Loss': 0.4697226800740911, 'Val Accuracy': 0.8433268858800773, 'Val Precision': 0.8370826137528136, 'Val Recall': 0.8433268858800773}\n"
     ]
    },
    {
     "name": "stderr",
     "output_type": "stream",
     "text": [
      "c:\\Users\\Sid\\AppData\\Local\\Programs\\Python\\Python39\\lib\\site-packages\\huggingface_hub\\file_download.py:1132: FutureWarning: `resume_download` is deprecated and will be removed in version 1.0.0. Downloads always resume when possible. If you want to force a new download, use `force_download=True`.\n",
      "  warnings.warn(\n",
      "Epoch(s):  41%|\u001b[31m████▏     \u001b[0m| 186/450 [5:43:25<8:07:48, 110.87s/it]"
     ]
    },
    {
     "name": "stdout",
     "output_type": "stream",
     "text": [
      "{'Epoch': 187, 'Train Loss': 0.3105586765987554, 'Train Accuracy': 0.8927879961277831, 'Val Loss': 0.44147150427676163, 'Val Accuracy': 0.8452611218568665, 'Val Precision': 0.8504602198160593, 'Val Recall': 0.8452611218568665}\n"
     ]
    },
    {
     "name": "stderr",
     "output_type": "stream",
     "text": [
      "c:\\Users\\Sid\\AppData\\Local\\Programs\\Python\\Python39\\lib\\site-packages\\huggingface_hub\\file_download.py:1132: FutureWarning: `resume_download` is deprecated and will be removed in version 1.0.0. Downloads always resume when possible. If you want to force a new download, use `force_download=True`.\n",
      "  warnings.warn(\n",
      "Epoch(s):  42%|\u001b[31m████▏     \u001b[0m| 187/450 [5:45:16<8:06:05, 110.89s/it]"
     ]
    },
    {
     "name": "stdout",
     "output_type": "stream",
     "text": [
      "{'Epoch': 188, 'Train Loss': 0.29768588381880556, 'Train Accuracy': 0.8969022265246854, 'Val Loss': 0.4405480246561078, 'Val Accuracy': 0.8452611218568665, 'Val Precision': 0.8490119322018188, 'Val Recall': 0.8452611218568665}\n"
     ]
    },
    {
     "name": "stderr",
     "output_type": "stream",
     "text": [
      "c:\\Users\\Sid\\AppData\\Local\\Programs\\Python\\Python39\\lib\\site-packages\\huggingface_hub\\file_download.py:1132: FutureWarning: `resume_download` is deprecated and will be removed in version 1.0.0. Downloads always resume when possible. If you want to force a new download, use `force_download=True`.\n",
      "  warnings.warn(\n",
      "Epoch(s):  42%|\u001b[31m████▏     \u001b[0m| 188/450 [5:47:07<8:04:16, 110.90s/it]"
     ]
    },
    {
     "name": "stdout",
     "output_type": "stream",
     "text": [
      "{'Epoch': 189, 'Train Loss': 0.30171937373009217, 'Train Accuracy': 0.8966602129719264, 'Val Loss': 0.4516037394794134, 'Val Accuracy': 0.8433268858800773, 'Val Precision': 0.8397848251520305, 'Val Recall': 0.8433268858800773}\n"
     ]
    },
    {
     "name": "stderr",
     "output_type": "stream",
     "text": [
      "c:\\Users\\Sid\\AppData\\Local\\Programs\\Python\\Python39\\lib\\site-packages\\huggingface_hub\\file_download.py:1132: FutureWarning: `resume_download` is deprecated and will be removed in version 1.0.0. Downloads always resume when possible. If you want to force a new download, use `force_download=True`.\n",
      "  warnings.warn(\n",
      "Epoch(s):  42%|\u001b[31m████▏     \u001b[0m| 189/450 [5:48:57<8:01:46, 110.75s/it]"
     ]
    },
    {
     "name": "stdout",
     "output_type": "stream",
     "text": [
      "{'Epoch': 190, 'Train Loss': 0.2934516369289643, 'Train Accuracy': 0.9022265246853823, 'Val Loss': 0.47670861585782126, 'Val Accuracy': 0.8384912959381045, 'Val Precision': 0.8497939401265003, 'Val Recall': 0.8384912959381045}\n"
     ]
    },
    {
     "name": "stderr",
     "output_type": "stream",
     "text": [
      "c:\\Users\\Sid\\AppData\\Local\\Programs\\Python\\Python39\\lib\\site-packages\\huggingface_hub\\file_download.py:1132: FutureWarning: `resume_download` is deprecated and will be removed in version 1.0.0. Downloads always resume when possible. If you want to force a new download, use `force_download=True`.\n",
      "  warnings.warn(\n",
      "Epoch(s):  42%|\u001b[31m████▏     \u001b[0m| 190/450 [5:50:48<7:59:49, 110.73s/it]"
     ]
    },
    {
     "name": "stdout",
     "output_type": "stream",
     "text": [
      "{'Epoch': 191, 'Train Loss': 0.2945664212967064, 'Train Accuracy': 0.8981122942884802, 'Val Loss': 0.4641127867480883, 'Val Accuracy': 0.8413926499032882, 'Val Precision': 0.8433200871567378, 'Val Recall': 0.8413926499032882}\n"
     ]
    },
    {
     "name": "stderr",
     "output_type": "stream",
     "text": [
      "c:\\Users\\Sid\\AppData\\Local\\Programs\\Python\\Python39\\lib\\site-packages\\huggingface_hub\\file_download.py:1132: FutureWarning: `resume_download` is deprecated and will be removed in version 1.0.0. Downloads always resume when possible. If you want to force a new download, use `force_download=True`.\n",
      "  warnings.warn(\n",
      "Epoch(s):  42%|\u001b[31m████▏     \u001b[0m| 191/450 [5:52:38<7:57:39, 110.65s/it]"
     ]
    },
    {
     "name": "stdout",
     "output_type": "stream",
     "text": [
      "{'Epoch': 192, 'Train Loss': 0.2975810011992641, 'Train Accuracy': 0.8995643756050339, 'Val Loss': 0.44719359857531693, 'Val Accuracy': 0.8471953578336557, 'Val Precision': 0.8471481532315385, 'Val Recall': 0.8471953578336557}\n"
     ]
    },
    {
     "name": "stderr",
     "output_type": "stream",
     "text": [
      "c:\\Users\\Sid\\AppData\\Local\\Programs\\Python\\Python39\\lib\\site-packages\\huggingface_hub\\file_download.py:1132: FutureWarning: `resume_download` is deprecated and will be removed in version 1.0.0. Downloads always resume when possible. If you want to force a new download, use `force_download=True`.\n",
      "  warnings.warn(\n",
      "Epoch(s):  43%|\u001b[31m████▎     \u001b[0m| 192/450 [5:54:29<7:55:37, 110.61s/it]"
     ]
    },
    {
     "name": "stdout",
     "output_type": "stream",
     "text": [
      "{'Epoch': 193, 'Train Loss': 0.2884205629739867, 'Train Accuracy': 0.9036786060019361, 'Val Loss': 0.4554397485290582, 'Val Accuracy': 0.8452611218568665, 'Val Precision': 0.8547373902226537, 'Val Recall': 0.8452611218568665}\n"
     ]
    },
    {
     "name": "stderr",
     "output_type": "stream",
     "text": [
      "c:\\Users\\Sid\\AppData\\Local\\Programs\\Python\\Python39\\lib\\site-packages\\huggingface_hub\\file_download.py:1132: FutureWarning: `resume_download` is deprecated and will be removed in version 1.0.0. Downloads always resume when possible. If you want to force a new download, use `force_download=True`.\n",
      "  warnings.warn(\n",
      "Epoch(s):  43%|\u001b[31m████▎     \u001b[0m| 193/450 [5:56:19<7:53:41, 110.59s/it]"
     ]
    },
    {
     "name": "stdout",
     "output_type": "stream",
     "text": [
      "{'Epoch': 194, 'Train Loss': 0.28784014360999877, 'Train Accuracy': 0.8993223620522749, 'Val Loss': 0.4460383357265248, 'Val Accuracy': 0.8491295938104448, 'Val Precision': 0.842885656699703, 'Val Recall': 0.8491295938104448}\n"
     ]
    },
    {
     "name": "stderr",
     "output_type": "stream",
     "text": [
      "c:\\Users\\Sid\\AppData\\Local\\Programs\\Python\\Python39\\lib\\site-packages\\huggingface_hub\\file_download.py:1132: FutureWarning: `resume_download` is deprecated and will be removed in version 1.0.0. Downloads always resume when possible. If you want to force a new download, use `force_download=True`.\n",
      "  warnings.warn(\n",
      "Epoch(s):  43%|\u001b[31m████▎     \u001b[0m| 194/450 [5:58:10<7:51:55, 110.61s/it]"
     ]
    },
    {
     "name": "stdout",
     "output_type": "stream",
     "text": [
      "{'Epoch': 195, 'Train Loss': 0.291561511316441, 'Train Accuracy': 0.9017424975798645, 'Val Loss': 0.44250004318757696, 'Val Accuracy': 0.8452611218568665, 'Val Precision': 0.844504133729949, 'Val Recall': 0.8452611218568665}\n"
     ]
    },
    {
     "name": "stderr",
     "output_type": "stream",
     "text": [
      "c:\\Users\\Sid\\AppData\\Local\\Programs\\Python\\Python39\\lib\\site-packages\\huggingface_hub\\file_download.py:1132: FutureWarning: `resume_download` is deprecated and will be removed in version 1.0.0. Downloads always resume when possible. If you want to force a new download, use `force_download=True`.\n",
      "  warnings.warn(\n",
      "Epoch(s):  43%|\u001b[31m████▎     \u001b[0m| 195/450 [6:00:01<7:50:31, 110.71s/it]"
     ]
    },
    {
     "name": "stdout",
     "output_type": "stream",
     "text": [
      "{'Epoch': 196, 'Train Loss': 0.28265657228225316, 'Train Accuracy': 0.9031945788964182, 'Val Loss': 0.45192407633249576, 'Val Accuracy': 0.8462282398452611, 'Val Precision': 0.8539933795256665, 'Val Recall': 0.8462282398452611}\n"
     ]
    },
    {
     "name": "stderr",
     "output_type": "stream",
     "text": [
      "c:\\Users\\Sid\\AppData\\Local\\Programs\\Python\\Python39\\lib\\site-packages\\huggingface_hub\\file_download.py:1132: FutureWarning: `resume_download` is deprecated and will be removed in version 1.0.0. Downloads always resume when possible. If you want to force a new download, use `force_download=True`.\n",
      "  warnings.warn(\n",
      "Epoch(s):  44%|\u001b[31m████▎     \u001b[0m| 196/450 [6:01:52<7:48:35, 110.69s/it]"
     ]
    },
    {
     "name": "stdout",
     "output_type": "stream",
     "text": [
      "{'Epoch': 197, 'Train Loss': 0.2846346897563922, 'Train Accuracy': 0.9053727008712488, 'Val Loss': 0.47163492767856674, 'Val Accuracy': 0.844294003868472, 'Val Precision': 0.8549228921263966, 'Val Recall': 0.844294003868472}\n"
     ]
    },
    {
     "name": "stderr",
     "output_type": "stream",
     "text": [
      "c:\\Users\\Sid\\AppData\\Local\\Programs\\Python\\Python39\\lib\\site-packages\\huggingface_hub\\file_download.py:1132: FutureWarning: `resume_download` is deprecated and will be removed in version 1.0.0. Downloads always resume when possible. If you want to force a new download, use `force_download=True`.\n",
      "  warnings.warn(\n",
      "Epoch(s):  44%|\u001b[31m████▍     \u001b[0m| 197/450 [6:03:42<7:46:34, 110.65s/it]"
     ]
    },
    {
     "name": "stdout",
     "output_type": "stream",
     "text": [
      "{'Epoch': 198, 'Train Loss': 0.2757537593273086, 'Train Accuracy': 0.9075508228460794, 'Val Loss': 0.4466766610884896, 'Val Accuracy': 0.8529980657640233, 'Val Precision': 0.847014368271915, 'Val Recall': 0.8529980657640233}\n"
     ]
    },
    {
     "name": "stderr",
     "output_type": "stream",
     "text": [
      "c:\\Users\\Sid\\AppData\\Local\\Programs\\Python\\Python39\\lib\\site-packages\\huggingface_hub\\file_download.py:1132: FutureWarning: `resume_download` is deprecated and will be removed in version 1.0.0. Downloads always resume when possible. If you want to force a new download, use `force_download=True`.\n",
      "  warnings.warn(\n",
      "Epoch(s):  44%|\u001b[31m████▍     \u001b[0m| 198/450 [6:05:33<7:44:31, 110.60s/it]"
     ]
    },
    {
     "name": "stdout",
     "output_type": "stream",
     "text": [
      "{'Epoch': 199, 'Train Loss': 0.28188874774832057, 'Train Accuracy': 0.9082768635043562, 'Val Loss': 0.45206019312429885, 'Val Accuracy': 0.844294003868472, 'Val Precision': 0.8517791256252691, 'Val Recall': 0.844294003868472}\n"
     ]
    },
    {
     "name": "stderr",
     "output_type": "stream",
     "text": [
      "c:\\Users\\Sid\\AppData\\Local\\Programs\\Python\\Python39\\lib\\site-packages\\huggingface_hub\\file_download.py:1132: FutureWarning: `resume_download` is deprecated and will be removed in version 1.0.0. Downloads always resume when possible. If you want to force a new download, use `force_download=True`.\n",
      "  warnings.warn(\n",
      "Epoch(s):  44%|\u001b[31m████▍     \u001b[0m| 199/450 [6:07:23<7:42:31, 110.56s/it]"
     ]
    },
    {
     "name": "stdout",
     "output_type": "stream",
     "text": [
      "{'Epoch': 200, 'Train Loss': 0.28339338062769776, 'Train Accuracy': 0.9012584704743466, 'Val Loss': 0.44654629992750977, 'Val Accuracy': 0.8481624758220503, 'Val Precision': 0.857110869886383, 'Val Recall': 0.8481624758220503}\n"
     ]
    },
    {
     "name": "stderr",
     "output_type": "stream",
     "text": [
      "c:\\Users\\Sid\\AppData\\Local\\Programs\\Python\\Python39\\lib\\site-packages\\huggingface_hub\\file_download.py:1132: FutureWarning: `resume_download` is deprecated and will be removed in version 1.0.0. Downloads always resume when possible. If you want to force a new download, use `force_download=True`.\n",
      "  warnings.warn(\n",
      "Epoch(s):  44%|\u001b[31m████▍     \u001b[0m| 200/450 [6:09:14<7:40:40, 110.56s/it]"
     ]
    },
    {
     "name": "stdout",
     "output_type": "stream",
     "text": [
      "{'Epoch': 201, 'Train Loss': 0.27407560166794964, 'Train Accuracy': 0.9036786060019361, 'Val Loss': 0.4584743274590717, 'Val Accuracy': 0.851063829787234, 'Val Precision': 0.8550620954582627, 'Val Recall': 0.851063829787234}\n"
     ]
    },
    {
     "name": "stderr",
     "output_type": "stream",
     "text": [
      "c:\\Users\\Sid\\AppData\\Local\\Programs\\Python\\Python39\\lib\\site-packages\\huggingface_hub\\file_download.py:1132: FutureWarning: `resume_download` is deprecated and will be removed in version 1.0.0. Downloads always resume when possible. If you want to force a new download, use `force_download=True`.\n",
      "  warnings.warn(\n",
      "Epoch(s):  45%|\u001b[31m████▍     \u001b[0m| 201/450 [6:11:04<7:38:51, 110.57s/it]"
     ]
    },
    {
     "name": "stdout",
     "output_type": "stream",
     "text": [
      "{'Epoch': 202, 'Train Loss': 0.27597323285247666, 'Train Accuracy': 0.9080348499515973, 'Val Loss': 0.4546989803274091, 'Val Accuracy': 0.8481624758220503, 'Val Precision': 0.8549154244405739, 'Val Recall': 0.8481624758220503}\n"
     ]
    },
    {
     "name": "stderr",
     "output_type": "stream",
     "text": [
      "c:\\Users\\Sid\\AppData\\Local\\Programs\\Python\\Python39\\lib\\site-packages\\huggingface_hub\\file_download.py:1132: FutureWarning: `resume_download` is deprecated and will be removed in version 1.0.0. Downloads always resume when possible. If you want to force a new download, use `force_download=True`.\n",
      "  warnings.warn(\n",
      "Epoch(s):  45%|\u001b[31m████▍     \u001b[0m| 202/450 [6:12:55<7:36:53, 110.54s/it]"
     ]
    },
    {
     "name": "stdout",
     "output_type": "stream",
     "text": [
      "{'Epoch': 203, 'Train Loss': 0.27318006264572625, 'Train Accuracy': 0.9077928363988383, 'Val Loss': 0.49477432270426874, 'Val Accuracy': 0.8471953578336557, 'Val Precision': 0.8543864440048051, 'Val Recall': 0.8471953578336557}\n"
     ]
    },
    {
     "name": "stderr",
     "output_type": "stream",
     "text": [
      "c:\\Users\\Sid\\AppData\\Local\\Programs\\Python\\Python39\\lib\\site-packages\\huggingface_hub\\file_download.py:1132: FutureWarning: `resume_download` is deprecated and will be removed in version 1.0.0. Downloads always resume when possible. If you want to force a new download, use `force_download=True`.\n",
      "  warnings.warn(\n",
      "Epoch(s):  45%|\u001b[31m████▌     \u001b[0m| 203/450 [6:14:45<7:35:09, 110.56s/it]"
     ]
    },
    {
     "name": "stdout",
     "output_type": "stream",
     "text": [
      "{'Epoch': 204, 'Train Loss': 0.2748768085966239, 'Train Accuracy': 0.9090029041626331, 'Val Loss': 0.47118351203031267, 'Val Accuracy': 0.8452611218568665, 'Val Precision': 0.8532811421184298, 'Val Recall': 0.8452611218568665}\n"
     ]
    },
    {
     "name": "stderr",
     "output_type": "stream",
     "text": [
      "c:\\Users\\Sid\\AppData\\Local\\Programs\\Python\\Python39\\lib\\site-packages\\huggingface_hub\\file_download.py:1132: FutureWarning: `resume_download` is deprecated and will be removed in version 1.0.0. Downloads always resume when possible. If you want to force a new download, use `force_download=True`.\n",
      "  warnings.warn(\n",
      "Epoch(s):  45%|\u001b[31m████▌     \u001b[0m| 204/450 [6:16:36<7:33:43, 110.67s/it]"
     ]
    },
    {
     "name": "stdout",
     "output_type": "stream",
     "text": [
      "{'Epoch': 205, 'Train Loss': 0.2758788037038333, 'Train Accuracy': 0.9106969990319458, 'Val Loss': 0.4656066532031848, 'Val Accuracy': 0.8423597678916828, 'Val Precision': 0.846856306086571, 'Val Recall': 0.8423597678916828}\n"
     ]
    },
    {
     "name": "stderr",
     "output_type": "stream",
     "text": [
      "c:\\Users\\Sid\\AppData\\Local\\Programs\\Python\\Python39\\lib\\site-packages\\huggingface_hub\\file_download.py:1132: FutureWarning: `resume_download` is deprecated and will be removed in version 1.0.0. Downloads always resume when possible. If you want to force a new download, use `force_download=True`.\n",
      "  warnings.warn(\n",
      "Epoch(s):  46%|\u001b[31m████▌     \u001b[0m| 205/450 [6:18:27<7:32:15, 110.76s/it]"
     ]
    },
    {
     "name": "stdout",
     "output_type": "stream",
     "text": [
      "{'Epoch': 206, 'Train Loss': 0.2698122992011283, 'Train Accuracy': 0.904162633107454, 'Val Loss': 0.46297198882899604, 'Val Accuracy': 0.851063829787234, 'Val Precision': 0.8627686399215121, 'Val Recall': 0.851063829787234}\n"
     ]
    },
    {
     "name": "stderr",
     "output_type": "stream",
     "text": [
      "c:\\Users\\Sid\\AppData\\Local\\Programs\\Python\\Python39\\lib\\site-packages\\huggingface_hub\\file_download.py:1132: FutureWarning: `resume_download` is deprecated and will be removed in version 1.0.0. Downloads always resume when possible. If you want to force a new download, use `force_download=True`.\n",
      "  warnings.warn(\n",
      "Epoch(s):  46%|\u001b[31m████▌     \u001b[0m| 206/450 [6:20:18<7:30:41, 110.83s/it]"
     ]
    },
    {
     "name": "stdout",
     "output_type": "stream",
     "text": [
      "{'Epoch': 207, 'Train Loss': 0.2613990724816717, 'Train Accuracy': 0.9133591481122942, 'Val Loss': 0.4481754366308451, 'Val Accuracy': 0.8471953578336557, 'Val Precision': 0.8503410755256157, 'Val Recall': 0.8471953578336557}\n"
     ]
    },
    {
     "name": "stderr",
     "output_type": "stream",
     "text": [
      "c:\\Users\\Sid\\AppData\\Local\\Programs\\Python\\Python39\\lib\\site-packages\\huggingface_hub\\file_download.py:1132: FutureWarning: `resume_download` is deprecated and will be removed in version 1.0.0. Downloads always resume when possible. If you want to force a new download, use `force_download=True`.\n",
      "  warnings.warn(\n",
      "Epoch(s):  46%|\u001b[31m████▌     \u001b[0m| 207/450 [6:22:09<7:28:30, 110.74s/it]"
     ]
    },
    {
     "name": "stdout",
     "output_type": "stream",
     "text": [
      "{'Epoch': 208, 'Train Loss': 0.2648296306578579, 'Train Accuracy': 0.9090029041626331, 'Val Loss': 0.4370213566491237, 'Val Accuracy': 0.8491295938104448, 'Val Precision': 0.8502012200611703, 'Val Recall': 0.8491295938104448}\n"
     ]
    },
    {
     "name": "stderr",
     "output_type": "stream",
     "text": [
      "c:\\Users\\Sid\\AppData\\Local\\Programs\\Python\\Python39\\lib\\site-packages\\huggingface_hub\\file_download.py:1132: FutureWarning: `resume_download` is deprecated and will be removed in version 1.0.0. Downloads always resume when possible. If you want to force a new download, use `force_download=True`.\n",
      "  warnings.warn(\n",
      "Epoch(s):  46%|\u001b[31m████▌     \u001b[0m| 208/450 [6:23:59<7:26:17, 110.65s/it]"
     ]
    },
    {
     "name": "stdout",
     "output_type": "stream",
     "text": [
      "{'Epoch': 209, 'Train Loss': 0.264549744009799, 'Train Accuracy': 0.9099709583736689, 'Val Loss': 0.46685285473672244, 'Val Accuracy': 0.8471953578336557, 'Val Precision': 0.8450306875807622, 'Val Recall': 0.8471953578336557}\n"
     ]
    },
    {
     "name": "stderr",
     "output_type": "stream",
     "text": [
      "c:\\Users\\Sid\\AppData\\Local\\Programs\\Python\\Python39\\lib\\site-packages\\huggingface_hub\\file_download.py:1132: FutureWarning: `resume_download` is deprecated and will be removed in version 1.0.0. Downloads always resume when possible. If you want to force a new download, use `force_download=True`.\n",
      "  warnings.warn(\n",
      "Epoch(s):  46%|\u001b[31m████▋     \u001b[0m| 209/450 [6:25:50<7:24:24, 110.64s/it]"
     ]
    },
    {
     "name": "stdout",
     "output_type": "stream",
     "text": [
      "{'Epoch': 210, 'Train Loss': 0.26408705584305736, 'Train Accuracy': 0.9114230396902226, 'Val Loss': 0.46702601280636513, 'Val Accuracy': 0.8481624758220503, 'Val Precision': 0.8454995917930361, 'Val Recall': 0.8481624758220503}\n"
     ]
    },
    {
     "name": "stderr",
     "output_type": "stream",
     "text": [
      "c:\\Users\\Sid\\AppData\\Local\\Programs\\Python\\Python39\\lib\\site-packages\\huggingface_hub\\file_download.py:1132: FutureWarning: `resume_download` is deprecated and will be removed in version 1.0.0. Downloads always resume when possible. If you want to force a new download, use `force_download=True`.\n",
      "  warnings.warn(\n",
      "Epoch(s):  47%|\u001b[31m████▋     \u001b[0m| 210/450 [6:27:40<7:22:26, 110.61s/it]"
     ]
    },
    {
     "name": "stdout",
     "output_type": "stream",
     "text": [
      "{'Epoch': 211, 'Train Loss': 0.26698192955861333, 'Train Accuracy': 0.9073088092933205, 'Val Loss': 0.45851991888708793, 'Val Accuracy': 0.8433268858800773, 'Val Precision': 0.8429780831115379, 'Val Recall': 0.8433268858800773}\n"
     ]
    },
    {
     "name": "stderr",
     "output_type": "stream",
     "text": [
      "c:\\Users\\Sid\\AppData\\Local\\Programs\\Python\\Python39\\lib\\site-packages\\huggingface_hub\\file_download.py:1132: FutureWarning: `resume_download` is deprecated and will be removed in version 1.0.0. Downloads always resume when possible. If you want to force a new download, use `force_download=True`.\n",
      "  warnings.warn(\n",
      "Epoch(s):  47%|\u001b[31m████▋     \u001b[0m| 211/450 [6:29:31<7:20:31, 110.59s/it]"
     ]
    },
    {
     "name": "stdout",
     "output_type": "stream",
     "text": [
      "{'Epoch': 212, 'Train Loss': 0.2654990441737603, 'Train Accuracy': 0.9080348499515973, 'Val Loss': 0.4447785622583559, 'Val Accuracy': 0.8481624758220503, 'Val Precision': 0.8513021575625302, 'Val Recall': 0.8481624758220503}\n"
     ]
    },
    {
     "name": "stderr",
     "output_type": "stream",
     "text": [
      "c:\\Users\\Sid\\AppData\\Local\\Programs\\Python\\Python39\\lib\\site-packages\\huggingface_hub\\file_download.py:1132: FutureWarning: `resume_download` is deprecated and will be removed in version 1.0.0. Downloads always resume when possible. If you want to force a new download, use `force_download=True`.\n",
      "  warnings.warn(\n",
      "Epoch(s):  47%|\u001b[31m████▋     \u001b[0m| 212/450 [6:31:21<7:18:35, 110.57s/it]"
     ]
    },
    {
     "name": "stdout",
     "output_type": "stream",
     "text": [
      "{'Epoch': 213, 'Train Loss': 0.26082859239676964, 'Train Accuracy': 0.9136011616650532, 'Val Loss': 0.4527712443628563, 'Val Accuracy': 0.8500967117988395, 'Val Precision': 0.8550325017997864, 'Val Recall': 0.8500967117988395}\n"
     ]
    },
    {
     "name": "stderr",
     "output_type": "stream",
     "text": [
      "c:\\Users\\Sid\\AppData\\Local\\Programs\\Python\\Python39\\lib\\site-packages\\huggingface_hub\\file_download.py:1132: FutureWarning: `resume_download` is deprecated and will be removed in version 1.0.0. Downloads always resume when possible. If you want to force a new download, use `force_download=True`.\n",
      "  warnings.warn(\n",
      "Epoch(s):  47%|\u001b[31m████▋     \u001b[0m| 213/450 [6:33:12<7:16:51, 110.60s/it]"
     ]
    },
    {
     "name": "stdout",
     "output_type": "stream",
     "text": [
      "{'Epoch': 214, 'Train Loss': 0.25175446295179427, 'Train Accuracy': 0.9138431752178122, 'Val Loss': 0.458452535707217, 'Val Accuracy': 0.8462282398452611, 'Val Precision': 0.8552079706214728, 'Val Recall': 0.8462282398452611}\n"
     ]
    },
    {
     "name": "stderr",
     "output_type": "stream",
     "text": [
      "c:\\Users\\Sid\\AppData\\Local\\Programs\\Python\\Python39\\lib\\site-packages\\huggingface_hub\\file_download.py:1132: FutureWarning: `resume_download` is deprecated and will be removed in version 1.0.0. Downloads always resume when possible. If you want to force a new download, use `force_download=True`.\n",
      "  warnings.warn(\n",
      "Epoch(s):  48%|\u001b[31m████▊     \u001b[0m| 214/450 [6:35:03<7:14:55, 110.58s/it]"
     ]
    },
    {
     "name": "stdout",
     "output_type": "stream",
     "text": [
      "{'Epoch': 215, 'Train Loss': 0.25669660335644884, 'Train Accuracy': 0.9145692158760891, 'Val Loss': 0.4505220750060219, 'Val Accuracy': 0.8491295938104448, 'Val Precision': 0.853875186702719, 'Val Recall': 0.8491295938104448}\n"
     ]
    },
    {
     "name": "stderr",
     "output_type": "stream",
     "text": [
      "c:\\Users\\Sid\\AppData\\Local\\Programs\\Python\\Python39\\lib\\site-packages\\huggingface_hub\\file_download.py:1132: FutureWarning: `resume_download` is deprecated and will be removed in version 1.0.0. Downloads always resume when possible. If you want to force a new download, use `force_download=True`.\n",
      "  warnings.warn(\n",
      "Epoch(s):  48%|\u001b[31m████▊     \u001b[0m| 215/450 [6:36:53<7:13:03, 110.57s/it]"
     ]
    },
    {
     "name": "stdout",
     "output_type": "stream",
     "text": [
      "{'Epoch': 216, 'Train Loss': 0.25454857669281683, 'Train Accuracy': 0.9145692158760891, 'Val Loss': 0.4538496495296176, 'Val Accuracy': 0.8500967117988395, 'Val Precision': 0.855174257454439, 'Val Recall': 0.8500967117988395}\n"
     ]
    },
    {
     "name": "stderr",
     "output_type": "stream",
     "text": [
      "c:\\Users\\Sid\\AppData\\Local\\Programs\\Python\\Python39\\lib\\site-packages\\huggingface_hub\\file_download.py:1132: FutureWarning: `resume_download` is deprecated and will be removed in version 1.0.0. Downloads always resume when possible. If you want to force a new download, use `force_download=True`.\n",
      "  warnings.warn(\n",
      "Epoch(s):  48%|\u001b[31m████▊     \u001b[0m| 216/450 [6:38:44<7:11:15, 110.58s/it]"
     ]
    },
    {
     "name": "stdout",
     "output_type": "stream",
     "text": [
      "{'Epoch': 217, 'Train Loss': 0.2528358509728791, 'Train Accuracy': 0.9165053242981607, 'Val Loss': 0.44524704573962554, 'Val Accuracy': 0.8471953578336557, 'Val Precision': 0.8523072973029359, 'Val Recall': 0.8471953578336557}\n"
     ]
    },
    {
     "name": "stderr",
     "output_type": "stream",
     "text": [
      "c:\\Users\\Sid\\AppData\\Local\\Programs\\Python\\Python39\\lib\\site-packages\\huggingface_hub\\file_download.py:1132: FutureWarning: `resume_download` is deprecated and will be removed in version 1.0.0. Downloads always resume when possible. If you want to force a new download, use `force_download=True`.\n",
      "  warnings.warn(\n",
      "Epoch(s):  48%|\u001b[31m████▊     \u001b[0m| 217/450 [6:40:34<7:09:23, 110.57s/it]"
     ]
    },
    {
     "name": "stdout",
     "output_type": "stream",
     "text": [
      "{'Epoch': 218, 'Train Loss': 0.2551101431139101, 'Train Accuracy': 0.9133591481122942, 'Val Loss': 0.4580660266156953, 'Val Accuracy': 0.851063829787234, 'Val Precision': 0.852009698964667, 'Val Recall': 0.851063829787234}\n"
     ]
    },
    {
     "name": "stderr",
     "output_type": "stream",
     "text": [
      "c:\\Users\\Sid\\AppData\\Local\\Programs\\Python\\Python39\\lib\\site-packages\\huggingface_hub\\file_download.py:1132: FutureWarning: `resume_download` is deprecated and will be removed in version 1.0.0. Downloads always resume when possible. If you want to force a new download, use `force_download=True`.\n",
      "  warnings.warn(\n",
      "Epoch(s):  48%|\u001b[31m████▊     \u001b[0m| 218/450 [6:42:25<7:07:23, 110.53s/it]"
     ]
    },
    {
     "name": "stdout",
     "output_type": "stream",
     "text": [
      "{'Epoch': 219, 'Train Loss': 0.25111197529119733, 'Train Accuracy': 0.9136011616650532, 'Val Loss': 0.4651247698527116, 'Val Accuracy': 0.8462282398452611, 'Val Precision': 0.8420836967859181, 'Val Recall': 0.8462282398452611}\n"
     ]
    },
    {
     "name": "stderr",
     "output_type": "stream",
     "text": [
      "c:\\Users\\Sid\\AppData\\Local\\Programs\\Python\\Python39\\lib\\site-packages\\huggingface_hub\\file_download.py:1132: FutureWarning: `resume_download` is deprecated and will be removed in version 1.0.0. Downloads always resume when possible. If you want to force a new download, use `force_download=True`.\n",
      "  warnings.warn(\n",
      "Epoch(s):  49%|\u001b[31m████▊     \u001b[0m| 219/450 [6:44:15<7:05:32, 110.53s/it]"
     ]
    },
    {
     "name": "stdout",
     "output_type": "stream",
     "text": [
      "{'Epoch': 220, 'Train Loss': 0.24568780445004723, 'Train Accuracy': 0.9169893514036787, 'Val Loss': 0.4804686168065438, 'Val Accuracy': 0.8423597678916828, 'Val Precision': 0.8465074718361114, 'Val Recall': 0.8423597678916828}\n"
     ]
    },
    {
     "name": "stderr",
     "output_type": "stream",
     "text": [
      "c:\\Users\\Sid\\AppData\\Local\\Programs\\Python\\Python39\\lib\\site-packages\\huggingface_hub\\file_download.py:1132: FutureWarning: `resume_download` is deprecated and will be removed in version 1.0.0. Downloads always resume when possible. If you want to force a new download, use `force_download=True`.\n",
      "  warnings.warn(\n",
      "Epoch(s):  49%|\u001b[31m████▉     \u001b[0m| 220/450 [6:46:06<7:03:43, 110.54s/it]"
     ]
    },
    {
     "name": "stdout",
     "output_type": "stream",
     "text": [
      "{'Epoch': 221, 'Train Loss': 0.2480145222804074, 'Train Accuracy': 0.9128751210067764, 'Val Loss': 0.4619275759332455, 'Val Accuracy': 0.844294003868472, 'Val Precision': 0.8582497459226957, 'Val Recall': 0.844294003868472}\n"
     ]
    },
    {
     "name": "stderr",
     "output_type": "stream",
     "text": [
      "c:\\Users\\Sid\\AppData\\Local\\Programs\\Python\\Python39\\lib\\site-packages\\huggingface_hub\\file_download.py:1132: FutureWarning: `resume_download` is deprecated and will be removed in version 1.0.0. Downloads always resume when possible. If you want to force a new download, use `force_download=True`.\n",
      "  warnings.warn(\n",
      "Epoch(s):  49%|\u001b[31m████▉     \u001b[0m| 221/450 [6:47:56<7:01:52, 110.53s/it]"
     ]
    },
    {
     "name": "stdout",
     "output_type": "stream",
     "text": [
      "{'Epoch': 222, 'Train Loss': 0.2487007499525043, 'Train Accuracy': 0.9162633107454018, 'Val Loss': 0.4745623632692374, 'Val Accuracy': 0.839458413926499, 'Val Precision': 0.8463730668187902, 'Val Recall': 0.839458413926499}\n"
     ]
    },
    {
     "name": "stderr",
     "output_type": "stream",
     "text": [
      "c:\\Users\\Sid\\AppData\\Local\\Programs\\Python\\Python39\\lib\\site-packages\\huggingface_hub\\file_download.py:1132: FutureWarning: `resume_download` is deprecated and will be removed in version 1.0.0. Downloads always resume when possible. If you want to force a new download, use `force_download=True`.\n",
      "  warnings.warn(\n",
      "Epoch(s):  49%|\u001b[31m████▉     \u001b[0m| 222/450 [6:49:47<7:00:02, 110.54s/it]"
     ]
    },
    {
     "name": "stdout",
     "output_type": "stream",
     "text": [
      "{'Epoch': 223, 'Train Loss': 0.2454720727086218, 'Train Accuracy': 0.9162633107454018, 'Val Loss': 0.4747116287525457, 'Val Accuracy': 0.8452611218568665, 'Val Precision': 0.8557832376836808, 'Val Recall': 0.8452611218568665}\n"
     ]
    },
    {
     "name": "stderr",
     "output_type": "stream",
     "text": [
      "c:\\Users\\Sid\\AppData\\Local\\Programs\\Python\\Python39\\lib\\site-packages\\huggingface_hub\\file_download.py:1132: FutureWarning: `resume_download` is deprecated and will be removed in version 1.0.0. Downloads always resume when possible. If you want to force a new download, use `force_download=True`.\n",
      "  warnings.warn(\n",
      "Epoch(s):  50%|\u001b[31m████▉     \u001b[0m| 223/450 [6:51:37<6:58:10, 110.53s/it]"
     ]
    },
    {
     "name": "stdout",
     "output_type": "stream",
     "text": [
      "{'Epoch': 224, 'Train Loss': 0.2388836152600266, 'Train Accuracy': 0.920135527589545, 'Val Loss': 0.4785077511977691, 'Val Accuracy': 0.8500967117988395, 'Val Precision': 0.8488646002608893, 'Val Recall': 0.8500967117988395}\n"
     ]
    },
    {
     "name": "stderr",
     "output_type": "stream",
     "text": [
      "c:\\Users\\Sid\\AppData\\Local\\Programs\\Python\\Python39\\lib\\site-packages\\huggingface_hub\\file_download.py:1132: FutureWarning: `resume_download` is deprecated and will be removed in version 1.0.0. Downloads always resume when possible. If you want to force a new download, use `force_download=True`.\n",
      "  warnings.warn(\n",
      "Epoch(s):  50%|\u001b[31m████▉     \u001b[0m| 224/450 [6:53:28<6:56:21, 110.54s/it]"
     ]
    },
    {
     "name": "stdout",
     "output_type": "stream",
     "text": [
      "{'Epoch': 225, 'Train Loss': 0.23361048326759265, 'Train Accuracy': 0.9189254598257502, 'Val Loss': 0.4657067379985864, 'Val Accuracy': 0.8491295938104448, 'Val Precision': 0.8603899030112458, 'Val Recall': 0.8491295938104448}\n"
     ]
    },
    {
     "name": "stderr",
     "output_type": "stream",
     "text": [
      "c:\\Users\\Sid\\AppData\\Local\\Programs\\Python\\Python39\\lib\\site-packages\\huggingface_hub\\file_download.py:1132: FutureWarning: `resume_download` is deprecated and will be removed in version 1.0.0. Downloads always resume when possible. If you want to force a new download, use `force_download=True`.\n",
      "  warnings.warn(\n",
      "Epoch(s):  50%|\u001b[31m█████     \u001b[0m| 225/450 [6:55:18<6:54:29, 110.53s/it]"
     ]
    },
    {
     "name": "stdout",
     "output_type": "stream",
     "text": [
      "{'Epoch': 226, 'Train Loss': 0.24367068464931596, 'Train Accuracy': 0.9181994191674734, 'Val Loss': 0.4711199279086521, 'Val Accuracy': 0.851063829787234, 'Val Precision': 0.8588307627179071, 'Val Recall': 0.851063829787234}\n"
     ]
    },
    {
     "name": "stderr",
     "output_type": "stream",
     "text": [
      "c:\\Users\\Sid\\AppData\\Local\\Programs\\Python\\Python39\\lib\\site-packages\\huggingface_hub\\file_download.py:1132: FutureWarning: `resume_download` is deprecated and will be removed in version 1.0.0. Downloads always resume when possible. If you want to force a new download, use `force_download=True`.\n",
      "  warnings.warn(\n",
      "Epoch(s):  50%|\u001b[31m█████     \u001b[0m| 226/450 [6:57:09<6:53:07, 110.66s/it]"
     ]
    },
    {
     "name": "stdout",
     "output_type": "stream",
     "text": [
      "{'Epoch': 227, 'Train Loss': 0.24642180214441853, 'Train Accuracy': 0.9138431752178122, 'Val Loss': 0.4621747769272098, 'Val Accuracy': 0.844294003868472, 'Val Precision': 0.8496830353061958, 'Val Recall': 0.844294003868472}\n"
     ]
    },
    {
     "name": "stderr",
     "output_type": "stream",
     "text": [
      "c:\\Users\\Sid\\AppData\\Local\\Programs\\Python\\Python39\\lib\\site-packages\\huggingface_hub\\file_download.py:1132: FutureWarning: `resume_download` is deprecated and will be removed in version 1.0.0. Downloads always resume when possible. If you want to force a new download, use `force_download=True`.\n",
      "  warnings.warn(\n",
      "Epoch(s):  50%|\u001b[31m█████     \u001b[0m| 227/450 [6:59:00<6:51:04, 110.60s/it]"
     ]
    },
    {
     "name": "stdout",
     "output_type": "stream",
     "text": [
      "{'Epoch': 228, 'Train Loss': 0.23477811139781732, 'Train Accuracy': 0.9261858664085189, 'Val Loss': 0.4745640637926184, 'Val Accuracy': 0.8462282398452611, 'Val Precision': 0.8465187703834974, 'Val Recall': 0.8462282398452611}\n"
     ]
    },
    {
     "name": "stderr",
     "output_type": "stream",
     "text": [
      "c:\\Users\\Sid\\AppData\\Local\\Programs\\Python\\Python39\\lib\\site-packages\\huggingface_hub\\file_download.py:1132: FutureWarning: `resume_download` is deprecated and will be removed in version 1.0.0. Downloads always resume when possible. If you want to force a new download, use `force_download=True`.\n",
      "  warnings.warn(\n",
      "Epoch(s):  51%|\u001b[31m█████     \u001b[0m| 228/450 [7:00:50<6:49:08, 110.58s/it]"
     ]
    },
    {
     "name": "stdout",
     "output_type": "stream",
     "text": [
      "{'Epoch': 229, 'Train Loss': 0.23250852897403668, 'Train Accuracy': 0.9208615682478218, 'Val Loss': 0.45500470417050215, 'Val Accuracy': 0.8452611218568665, 'Val Precision': 0.8496105857430241, 'Val Recall': 0.8452611218568665}\n"
     ]
    },
    {
     "name": "stderr",
     "output_type": "stream",
     "text": [
      "c:\\Users\\Sid\\AppData\\Local\\Programs\\Python\\Python39\\lib\\site-packages\\huggingface_hub\\file_download.py:1132: FutureWarning: `resume_download` is deprecated and will be removed in version 1.0.0. Downloads always resume when possible. If you want to force a new download, use `force_download=True`.\n",
      "  warnings.warn(\n",
      "Epoch(s):  51%|\u001b[31m█████     \u001b[0m| 229/450 [7:02:41<6:47:15, 110.57s/it]"
     ]
    },
    {
     "name": "stdout",
     "output_type": "stream",
     "text": [
      "{'Epoch': 230, 'Train Loss': 0.22727611106616452, 'Train Accuracy': 0.9220716360116167, 'Val Loss': 0.46385765001177787, 'Val Accuracy': 0.851063829787234, 'Val Precision': 0.856954020644991, 'Val Recall': 0.851063829787234}\n"
     ]
    },
    {
     "name": "stderr",
     "output_type": "stream",
     "text": [
      "c:\\Users\\Sid\\AppData\\Local\\Programs\\Python\\Python39\\lib\\site-packages\\huggingface_hub\\file_download.py:1132: FutureWarning: `resume_download` is deprecated and will be removed in version 1.0.0. Downloads always resume when possible. If you want to force a new download, use `force_download=True`.\n",
      "  warnings.warn(\n",
      "Epoch(s):  51%|\u001b[31m█████     \u001b[0m| 230/450 [7:04:31<6:45:17, 110.54s/it]"
     ]
    },
    {
     "name": "stdout",
     "output_type": "stream",
     "text": [
      "{'Epoch': 231, 'Train Loss': 0.23407167973694423, 'Train Accuracy': 0.9215876089060987, 'Val Loss': 0.4682854460982176, 'Val Accuracy': 0.8481624758220503, 'Val Precision': 0.8626309576423349, 'Val Recall': 0.8481624758220503}\n"
     ]
    },
    {
     "name": "stderr",
     "output_type": "stream",
     "text": [
      "c:\\Users\\Sid\\AppData\\Local\\Programs\\Python\\Python39\\lib\\site-packages\\huggingface_hub\\file_download.py:1132: FutureWarning: `resume_download` is deprecated and will be removed in version 1.0.0. Downloads always resume when possible. If you want to force a new download, use `force_download=True`.\n",
      "  warnings.warn(\n",
      "Epoch(s):  51%|\u001b[31m█████▏    \u001b[0m| 231/450 [7:06:22<6:43:50, 110.64s/it]"
     ]
    },
    {
     "name": "stdout",
     "output_type": "stream",
     "text": [
      "{'Epoch': 232, 'Train Loss': 0.2324936196889412, 'Train Accuracy': 0.9244917715392061, 'Val Loss': 0.45167472712122475, 'Val Accuracy': 0.8558994197292069, 'Val Precision': 0.8617536701376659, 'Val Recall': 0.8558994197292069}\n"
     ]
    },
    {
     "name": "stderr",
     "output_type": "stream",
     "text": [
      "c:\\Users\\Sid\\AppData\\Local\\Programs\\Python\\Python39\\lib\\site-packages\\huggingface_hub\\file_download.py:1132: FutureWarning: `resume_download` is deprecated and will be removed in version 1.0.0. Downloads always resume when possible. If you want to force a new download, use `force_download=True`.\n",
      "  warnings.warn(\n",
      "Epoch(s):  52%|\u001b[31m█████▏    \u001b[0m| 232/450 [7:08:13<6:41:55, 110.62s/it]"
     ]
    },
    {
     "name": "stdout",
     "output_type": "stream",
     "text": [
      "{'Epoch': 233, 'Train Loss': 0.22610870778783582, 'Train Accuracy': 0.9264278799612778, 'Val Loss': 0.49785222379634014, 'Val Accuracy': 0.8413926499032882, 'Val Precision': 0.865069003562319, 'Val Recall': 0.8413926499032882}\n"
     ]
    },
    {
     "name": "stderr",
     "output_type": "stream",
     "text": [
      "c:\\Users\\Sid\\AppData\\Local\\Programs\\Python\\Python39\\lib\\site-packages\\huggingface_hub\\file_download.py:1132: FutureWarning: `resume_download` is deprecated and will be removed in version 1.0.0. Downloads always resume when possible. If you want to force a new download, use `force_download=True`.\n",
      "  warnings.warn(\n",
      "Epoch(s):  52%|\u001b[31m█████▏    \u001b[0m| 233/450 [7:10:03<6:39:58, 110.59s/it]"
     ]
    },
    {
     "name": "stdout",
     "output_type": "stream",
     "text": [
      "{'Epoch': 234, 'Train Loss': 0.23117942929368568, 'Train Accuracy': 0.9196515004840271, 'Val Loss': 0.4513874368168987, 'Val Accuracy': 0.8558994197292069, 'Val Precision': 0.8647267023164489, 'Val Recall': 0.8558994197292069}\n"
     ]
    },
    {
     "name": "stderr",
     "output_type": "stream",
     "text": [
      "c:\\Users\\Sid\\AppData\\Local\\Programs\\Python\\Python39\\lib\\site-packages\\huggingface_hub\\file_download.py:1132: FutureWarning: `resume_download` is deprecated and will be removed in version 1.0.0. Downloads always resume when possible. If you want to force a new download, use `force_download=True`.\n",
      "  warnings.warn(\n",
      "Epoch(s):  52%|\u001b[31m█████▏    \u001b[0m| 234/450 [7:11:54<6:38:03, 110.57s/it]"
     ]
    },
    {
     "name": "stdout",
     "output_type": "stream",
     "text": [
      "{'Epoch': 235, 'Train Loss': 0.23646546185599157, 'Train Accuracy': 0.9196515004840271, 'Val Loss': 0.4655311355009102, 'Val Accuracy': 0.8529980657640233, 'Val Precision': 0.8578431144470885, 'Val Recall': 0.8529980657640233}\n"
     ]
    },
    {
     "name": "stderr",
     "output_type": "stream",
     "text": [
      "c:\\Users\\Sid\\AppData\\Local\\Programs\\Python\\Python39\\lib\\site-packages\\huggingface_hub\\file_download.py:1132: FutureWarning: `resume_download` is deprecated and will be removed in version 1.0.0. Downloads always resume when possible. If you want to force a new download, use `force_download=True`.\n",
      "  warnings.warn(\n",
      "Epoch(s):  52%|\u001b[31m█████▏    \u001b[0m| 235/450 [7:13:44<6:36:09, 110.55s/it]"
     ]
    },
    {
     "name": "stdout",
     "output_type": "stream",
     "text": [
      "{'Epoch': 236, 'Train Loss': 0.23507329035985453, 'Train Accuracy': 0.920377541142304, 'Val Loss': 0.4477267644797953, 'Val Accuracy': 0.8558994197292069, 'Val Precision': 0.8700868692650653, 'Val Recall': 0.8558994197292069}\n"
     ]
    },
    {
     "name": "stderr",
     "output_type": "stream",
     "text": [
      "c:\\Users\\Sid\\AppData\\Local\\Programs\\Python\\Python39\\lib\\site-packages\\huggingface_hub\\file_download.py:1132: FutureWarning: `resume_download` is deprecated and will be removed in version 1.0.0. Downloads always resume when possible. If you want to force a new download, use `force_download=True`.\n",
      "  warnings.warn(\n",
      "Epoch(s):  52%|\u001b[31m█████▏    \u001b[0m| 236/450 [7:15:35<6:34:21, 110.57s/it]"
     ]
    },
    {
     "name": "stdout",
     "output_type": "stream",
     "text": [
      "{'Epoch': 237, 'Train Loss': 0.23003000602068588, 'Train Accuracy': 0.92594385285576, 'Val Loss': 0.44510670888166015, 'Val Accuracy': 0.8558994197292069, 'Val Precision': 0.8536284755410107, 'Val Recall': 0.8558994197292069}\n"
     ]
    },
    {
     "name": "stderr",
     "output_type": "stream",
     "text": [
      "c:\\Users\\Sid\\AppData\\Local\\Programs\\Python\\Python39\\lib\\site-packages\\huggingface_hub\\file_download.py:1132: FutureWarning: `resume_download` is deprecated and will be removed in version 1.0.0. Downloads always resume when possible. If you want to force a new download, use `force_download=True`.\n",
      "  warnings.warn(\n",
      "Epoch(s):  53%|\u001b[31m█████▎    \u001b[0m| 237/450 [7:17:26<6:32:29, 110.56s/it]"
     ]
    },
    {
     "name": "stdout",
     "output_type": "stream",
     "text": [
      "{'Epoch': 238, 'Train Loss': 0.22686873259122617, 'Train Accuracy': 0.9242497579864473, 'Val Loss': 0.4541882641900044, 'Val Accuracy': 0.8529980657640233, 'Val Precision': 0.8564857376503064, 'Val Recall': 0.8529980657640233}\n"
     ]
    },
    {
     "name": "stderr",
     "output_type": "stream",
     "text": [
      "c:\\Users\\Sid\\AppData\\Local\\Programs\\Python\\Python39\\lib\\site-packages\\huggingface_hub\\file_download.py:1132: FutureWarning: `resume_download` is deprecated and will be removed in version 1.0.0. Downloads always resume when possible. If you want to force a new download, use `force_download=True`.\n",
      "  warnings.warn(\n",
      "Epoch(s):  53%|\u001b[31m█████▎    \u001b[0m| 238/450 [7:19:16<6:30:48, 110.61s/it]"
     ]
    },
    {
     "name": "stdout",
     "output_type": "stream",
     "text": [
      "{'Epoch': 239, 'Train Loss': 0.22694966212026488, 'Train Accuracy': 0.9223136495643756, 'Val Loss': 0.48884258162086974, 'Val Accuracy': 0.8433268858800773, 'Val Precision': 0.8525042102887758, 'Val Recall': 0.8433268858800773}\n"
     ]
    },
    {
     "name": "stderr",
     "output_type": "stream",
     "text": [
      "c:\\Users\\Sid\\AppData\\Local\\Programs\\Python\\Python39\\lib\\site-packages\\huggingface_hub\\file_download.py:1132: FutureWarning: `resume_download` is deprecated and will be removed in version 1.0.0. Downloads always resume when possible. If you want to force a new download, use `force_download=True`.\n",
      "  warnings.warn(\n",
      "Epoch(s):  53%|\u001b[31m█████▎    \u001b[0m| 239/450 [7:21:07<6:29:19, 110.71s/it]"
     ]
    },
    {
     "name": "stdout",
     "output_type": "stream",
     "text": [
      "{'Epoch': 240, 'Train Loss': 0.22544291887736184, 'Train Accuracy': 0.920377541142304, 'Val Loss': 0.47296569406126554, 'Val Accuracy': 0.8529980657640233, 'Val Precision': 0.8635172754092256, 'Val Recall': 0.8529980657640233}\n"
     ]
    },
    {
     "name": "stderr",
     "output_type": "stream",
     "text": [
      "c:\\Users\\Sid\\AppData\\Local\\Programs\\Python\\Python39\\lib\\site-packages\\huggingface_hub\\file_download.py:1132: FutureWarning: `resume_download` is deprecated and will be removed in version 1.0.0. Downloads always resume when possible. If you want to force a new download, use `force_download=True`.\n",
      "  warnings.warn(\n",
      "Epoch(s):  53%|\u001b[31m█████▎    \u001b[0m| 240/450 [7:22:58<6:27:16, 110.65s/it]"
     ]
    },
    {
     "name": "stdout",
     "output_type": "stream",
     "text": [
      "{'Epoch': 241, 'Train Loss': 0.22231147086254993, 'Train Accuracy': 0.9225556631171346, 'Val Loss': 0.44063150432104103, 'Val Accuracy': 0.8597678916827853, 'Val Precision': 0.8569259078398188, 'Val Recall': 0.8597678916827853}\n"
     ]
    },
    {
     "name": "stderr",
     "output_type": "stream",
     "text": [
      "c:\\Users\\Sid\\AppData\\Local\\Programs\\Python\\Python39\\lib\\site-packages\\huggingface_hub\\file_download.py:1132: FutureWarning: `resume_download` is deprecated and will be removed in version 1.0.0. Downloads always resume when possible. If you want to force a new download, use `force_download=True`.\n",
      "  warnings.warn(\n",
      "Epoch(s):  54%|\u001b[31m█████▎    \u001b[0m| 241/450 [7:24:48<6:25:14, 110.60s/it]"
     ]
    },
    {
     "name": "stdout",
     "output_type": "stream",
     "text": [
      "{'Epoch': 242, 'Train Loss': 0.2147494450483011, 'Train Accuracy': 0.9278799612778316, 'Val Loss': 0.484142560339891, 'Val Accuracy': 0.8471953578336557, 'Val Precision': 0.8563424642323968, 'Val Recall': 0.8471953578336557}\n"
     ]
    },
    {
     "name": "stderr",
     "output_type": "stream",
     "text": [
      "c:\\Users\\Sid\\AppData\\Local\\Programs\\Python\\Python39\\lib\\site-packages\\huggingface_hub\\file_download.py:1132: FutureWarning: `resume_download` is deprecated and will be removed in version 1.0.0. Downloads always resume when possible. If you want to force a new download, use `force_download=True`.\n",
      "  warnings.warn(\n",
      "Epoch(s):  54%|\u001b[31m█████▍    \u001b[0m| 242/450 [7:26:39<6:23:22, 110.59s/it]"
     ]
    },
    {
     "name": "stdout",
     "output_type": "stream",
     "text": [
      "{'Epoch': 243, 'Train Loss': 0.22345884944380595, 'Train Accuracy': 0.9232817037754114, 'Val Loss': 0.45950139748792235, 'Val Accuracy': 0.8529980657640233, 'Val Precision': 0.857936939414061, 'Val Recall': 0.8529980657640233}\n"
     ]
    },
    {
     "name": "stderr",
     "output_type": "stream",
     "text": [
      "c:\\Users\\Sid\\AppData\\Local\\Programs\\Python\\Python39\\lib\\site-packages\\huggingface_hub\\file_download.py:1132: FutureWarning: `resume_download` is deprecated and will be removed in version 1.0.0. Downloads always resume when possible. If you want to force a new download, use `force_download=True`.\n",
      "  warnings.warn(\n",
      "Epoch(s):  54%|\u001b[31m█████▍    \u001b[0m| 243/450 [7:28:29<6:21:22, 110.55s/it]"
     ]
    },
    {
     "name": "stdout",
     "output_type": "stream",
     "text": [
      "{'Epoch': 244, 'Train Loss': 0.22026119587913628, 'Train Accuracy': 0.9261858664085189, 'Val Loss': 0.46019027579504135, 'Val Accuracy': 0.8549323017408124, 'Val Precision': 0.854901093246933, 'Val Recall': 0.8549323017408124}\n"
     ]
    },
    {
     "name": "stderr",
     "output_type": "stream",
     "text": [
      "c:\\Users\\Sid\\AppData\\Local\\Programs\\Python\\Python39\\lib\\site-packages\\huggingface_hub\\file_download.py:1132: FutureWarning: `resume_download` is deprecated and will be removed in version 1.0.0. Downloads always resume when possible. If you want to force a new download, use `force_download=True`.\n",
      "  warnings.warn(\n",
      "Epoch(s):  54%|\u001b[31m█████▍    \u001b[0m| 244/450 [7:30:20<6:19:56, 110.66s/it]"
     ]
    },
    {
     "name": "stdout",
     "output_type": "stream",
     "text": [
      "{'Epoch': 245, 'Train Loss': 0.2100736353866411, 'Train Accuracy': 0.9298160696999032, 'Val Loss': 0.471533144530482, 'Val Accuracy': 0.8529980657640233, 'Val Precision': 0.8605805954243357, 'Val Recall': 0.8529980657640233}\n"
     ]
    },
    {
     "name": "stderr",
     "output_type": "stream",
     "text": [
      "c:\\Users\\Sid\\AppData\\Local\\Programs\\Python\\Python39\\lib\\site-packages\\huggingface_hub\\file_download.py:1132: FutureWarning: `resume_download` is deprecated and will be removed in version 1.0.0. Downloads always resume when possible. If you want to force a new download, use `force_download=True`.\n",
      "  warnings.warn(\n",
      "Epoch(s):  54%|\u001b[31m█████▍    \u001b[0m| 245/450 [7:32:11<6:17:57, 110.62s/it]"
     ]
    },
    {
     "name": "stdout",
     "output_type": "stream",
     "text": [
      "{'Epoch': 246, 'Train Loss': 0.21092622007358403, 'Train Accuracy': 0.9269119070667957, 'Val Loss': 0.4564450040459633, 'Val Accuracy': 0.851063829787234, 'Val Precision': 0.8635772135735869, 'Val Recall': 0.851063829787234}\n"
     ]
    },
    {
     "name": "stderr",
     "output_type": "stream",
     "text": [
      "c:\\Users\\Sid\\AppData\\Local\\Programs\\Python\\Python39\\lib\\site-packages\\huggingface_hub\\file_download.py:1132: FutureWarning: `resume_download` is deprecated and will be removed in version 1.0.0. Downloads always resume when possible. If you want to force a new download, use `force_download=True`.\n",
      "  warnings.warn(\n",
      "Epoch(s):  55%|\u001b[31m█████▍    \u001b[0m| 246/450 [7:34:01<6:16:00, 110.59s/it]"
     ]
    },
    {
     "name": "stdout",
     "output_type": "stream",
     "text": [
      "{'Epoch': 247, 'Train Loss': 0.2133756406869538, 'Train Accuracy': 0.9278799612778316, 'Val Loss': 0.500661933536713, 'Val Accuracy': 0.8491295938104448, 'Val Precision': 0.8561303299415232, 'Val Recall': 0.8491295938104448}\n"
     ]
    },
    {
     "name": "stderr",
     "output_type": "stream",
     "text": [
      "c:\\Users\\Sid\\AppData\\Local\\Programs\\Python\\Python39\\lib\\site-packages\\huggingface_hub\\file_download.py:1132: FutureWarning: `resume_download` is deprecated and will be removed in version 1.0.0. Downloads always resume when possible. If you want to force a new download, use `force_download=True`.\n",
      "  warnings.warn(\n",
      "Epoch(s):  55%|\u001b[31m█████▍    \u001b[0m| 247/450 [7:35:52<6:14:03, 110.56s/it]"
     ]
    },
    {
     "name": "stdout",
     "output_type": "stream",
     "text": [
      "{'Epoch': 248, 'Train Loss': 0.2149287848725289, 'Train Accuracy': 0.925701839303001, 'Val Loss': 0.4731545554115795, 'Val Accuracy': 0.8491295938104448, 'Val Precision': 0.8601576185437907, 'Val Recall': 0.8491295938104448}\n"
     ]
    },
    {
     "name": "stderr",
     "output_type": "stream",
     "text": [
      "c:\\Users\\Sid\\AppData\\Local\\Programs\\Python\\Python39\\lib\\site-packages\\huggingface_hub\\file_download.py:1132: FutureWarning: `resume_download` is deprecated and will be removed in version 1.0.0. Downloads always resume when possible. If you want to force a new download, use `force_download=True`.\n",
      "  warnings.warn(\n",
      "Epoch(s):  55%|\u001b[31m█████▌    \u001b[0m| 248/450 [7:37:42<6:12:15, 110.57s/it]"
     ]
    },
    {
     "name": "stdout",
     "output_type": "stream",
     "text": [
      "{'Epoch': 249, 'Train Loss': 0.21748409263511145, 'Train Accuracy': 0.9264278799612778, 'Val Loss': 0.4649922866947376, 'Val Accuracy': 0.8500967117988395, 'Val Precision': 0.8530733940795956, 'Val Recall': 0.8500967117988395}\n"
     ]
    },
    {
     "name": "stderr",
     "output_type": "stream",
     "text": [
      "c:\\Users\\Sid\\AppData\\Local\\Programs\\Python\\Python39\\lib\\site-packages\\huggingface_hub\\file_download.py:1132: FutureWarning: `resume_download` is deprecated and will be removed in version 1.0.0. Downloads always resume when possible. If you want to force a new download, use `force_download=True`.\n",
      "  warnings.warn(\n",
      "Epoch(s):  55%|\u001b[31m█████▌    \u001b[0m| 249/450 [7:39:33<6:10:24, 110.57s/it]"
     ]
    },
    {
     "name": "stdout",
     "output_type": "stream",
     "text": [
      "{'Epoch': 250, 'Train Loss': 0.21506534005595285, 'Train Accuracy': 0.9278799612778316, 'Val Loss': 0.48445292338728907, 'Val Accuracy': 0.8529980657640233, 'Val Precision': 0.8617770850444163, 'Val Recall': 0.8529980657640233}\n"
     ]
    },
    {
     "name": "stderr",
     "output_type": "stream",
     "text": [
      "c:\\Users\\Sid\\AppData\\Local\\Programs\\Python\\Python39\\lib\\site-packages\\huggingface_hub\\file_download.py:1132: FutureWarning: `resume_download` is deprecated and will be removed in version 1.0.0. Downloads always resume when possible. If you want to force a new download, use `force_download=True`.\n",
      "  warnings.warn(\n",
      "Epoch(s):  56%|\u001b[31m█████▌    \u001b[0m| 250/450 [7:41:23<6:08:28, 110.54s/it]"
     ]
    },
    {
     "name": "stdout",
     "output_type": "stream",
     "text": [
      "{'Epoch': 251, 'Train Loss': 0.20888004101980046, 'Train Accuracy': 0.930784123910939, 'Val Loss': 0.4660179357904081, 'Val Accuracy': 0.8568665377176016, 'Val Precision': 0.8601334467239197, 'Val Recall': 0.8568665377176016}\n"
     ]
    },
    {
     "name": "stderr",
     "output_type": "stream",
     "text": [
      "c:\\Users\\Sid\\AppData\\Local\\Programs\\Python\\Python39\\lib\\site-packages\\huggingface_hub\\file_download.py:1132: FutureWarning: `resume_download` is deprecated and will be removed in version 1.0.0. Downloads always resume when possible. If you want to force a new download, use `force_download=True`.\n",
      "  warnings.warn(\n",
      "Epoch(s):  56%|\u001b[31m█████▌    \u001b[0m| 251/450 [7:43:14<6:06:41, 110.56s/it]"
     ]
    },
    {
     "name": "stdout",
     "output_type": "stream",
     "text": [
      "{'Epoch': 252, 'Train Loss': 0.20504801399991435, 'Train Accuracy': 0.9290900290416263, 'Val Loss': 0.4730676825122478, 'Val Accuracy': 0.851063829787234, 'Val Precision': 0.851889512505594, 'Val Recall': 0.851063829787234}\n"
     ]
    },
    {
     "name": "stderr",
     "output_type": "stream",
     "text": [
      "c:\\Users\\Sid\\AppData\\Local\\Programs\\Python\\Python39\\lib\\site-packages\\huggingface_hub\\file_download.py:1132: FutureWarning: `resume_download` is deprecated and will be removed in version 1.0.0. Downloads always resume when possible. If you want to force a new download, use `force_download=True`.\n",
      "  warnings.warn(\n",
      "Epoch(s):  56%|\u001b[31m█████▌    \u001b[0m| 252/450 [7:45:05<6:04:56, 110.59s/it]"
     ]
    },
    {
     "name": "stdout",
     "output_type": "stream",
     "text": [
      "{'Epoch': 253, 'Train Loss': 0.20761139487171668, 'Train Accuracy': 0.9315101645692159, 'Val Loss': 0.46003912450888984, 'Val Accuracy': 0.8588007736943907, 'Val Precision': 0.8589224047128637, 'Val Recall': 0.8588007736943907}\n"
     ]
    },
    {
     "name": "stderr",
     "output_type": "stream",
     "text": [
      "c:\\Users\\Sid\\AppData\\Local\\Programs\\Python\\Python39\\lib\\site-packages\\huggingface_hub\\file_download.py:1132: FutureWarning: `resume_download` is deprecated and will be removed in version 1.0.0. Downloads always resume when possible. If you want to force a new download, use `force_download=True`.\n",
      "  warnings.warn(\n",
      "Epoch(s):  56%|\u001b[31m█████▌    \u001b[0m| 253/450 [7:46:55<6:02:59, 110.56s/it]"
     ]
    },
    {
     "name": "stdout",
     "output_type": "stream",
     "text": [
      "{'Epoch': 254, 'Train Loss': 0.1999544253973758, 'Train Accuracy': 0.9332042594385286, 'Val Loss': 0.46089244859579664, 'Val Accuracy': 0.8568665377176016, 'Val Precision': 0.8524001440597213, 'Val Recall': 0.8568665377176016}\n"
     ]
    },
    {
     "name": "stderr",
     "output_type": "stream",
     "text": [
      "c:\\Users\\Sid\\AppData\\Local\\Programs\\Python\\Python39\\lib\\site-packages\\huggingface_hub\\file_download.py:1132: FutureWarning: `resume_download` is deprecated and will be removed in version 1.0.0. Downloads always resume when possible. If you want to force a new download, use `force_download=True`.\n",
      "  warnings.warn(\n",
      "Epoch(s):  56%|\u001b[31m█████▋    \u001b[0m| 254/450 [7:48:46<6:01:07, 110.55s/it]"
     ]
    },
    {
     "name": "stdout",
     "output_type": "stream",
     "text": [
      "{'Epoch': 255, 'Train Loss': 0.20896608786725773, 'Train Accuracy': 0.9264278799612778, 'Val Loss': 0.4951418741892737, 'Val Accuracy': 0.851063829787234, 'Val Precision': 0.8567391301394113, 'Val Recall': 0.851063829787234}\n"
     ]
    },
    {
     "name": "stderr",
     "output_type": "stream",
     "text": [
      "c:\\Users\\Sid\\AppData\\Local\\Programs\\Python\\Python39\\lib\\site-packages\\huggingface_hub\\file_download.py:1132: FutureWarning: `resume_download` is deprecated and will be removed in version 1.0.0. Downloads always resume when possible. If you want to force a new download, use `force_download=True`.\n",
      "  warnings.warn(\n",
      "Epoch(s):  57%|\u001b[31m█████▋    \u001b[0m| 255/450 [7:50:36<5:59:21, 110.57s/it]"
     ]
    },
    {
     "name": "stdout",
     "output_type": "stream",
     "text": [
      "{'Epoch': 256, 'Train Loss': 0.20342526600505567, 'Train Accuracy': 0.930784123910939, 'Val Loss': 0.44664357777398367, 'Val Accuracy': 0.8520309477756286, 'Val Precision': 0.8524244172385842, 'Val Recall': 0.8520309477756286}\n"
     ]
    },
    {
     "name": "stderr",
     "output_type": "stream",
     "text": [
      "c:\\Users\\Sid\\AppData\\Local\\Programs\\Python\\Python39\\lib\\site-packages\\huggingface_hub\\file_download.py:1132: FutureWarning: `resume_download` is deprecated and will be removed in version 1.0.0. Downloads always resume when possible. If you want to force a new download, use `force_download=True`.\n",
      "  warnings.warn(\n",
      "Epoch(s):  57%|\u001b[31m█████▋    \u001b[0m| 256/450 [7:52:27<5:57:30, 110.57s/it]"
     ]
    },
    {
     "name": "stdout",
     "output_type": "stream",
     "text": [
      "{'Epoch': 257, 'Train Loss': 0.2039054376423776, 'Train Accuracy': 0.9288480154888674, 'Val Loss': 0.4705378548313792, 'Val Accuracy': 0.8520309477756286, 'Val Precision': 0.8583488373697269, 'Val Recall': 0.8520309477756286}\n"
     ]
    },
    {
     "name": "stderr",
     "output_type": "stream",
     "text": [
      "c:\\Users\\Sid\\AppData\\Local\\Programs\\Python\\Python39\\lib\\site-packages\\huggingface_hub\\file_download.py:1132: FutureWarning: `resume_download` is deprecated and will be removed in version 1.0.0. Downloads always resume when possible. If you want to force a new download, use `force_download=True`.\n",
      "  warnings.warn(\n",
      "Epoch(s):  57%|\u001b[31m█████▋    \u001b[0m| 257/450 [7:54:18<5:55:51, 110.63s/it]"
     ]
    },
    {
     "name": "stdout",
     "output_type": "stream",
     "text": [
      "{'Epoch': 258, 'Train Loss': 0.20614029351833207, 'Train Accuracy': 0.9271539206195547, 'Val Loss': 0.4862246171714595, 'Val Accuracy': 0.8462282398452611, 'Val Precision': 0.8615264021876754, 'Val Recall': 0.8462282398452611}\n"
     ]
    },
    {
     "name": "stderr",
     "output_type": "stream",
     "text": [
      "c:\\Users\\Sid\\AppData\\Local\\Programs\\Python\\Python39\\lib\\site-packages\\huggingface_hub\\file_download.py:1132: FutureWarning: `resume_download` is deprecated and will be removed in version 1.0.0. Downloads always resume when possible. If you want to force a new download, use `force_download=True`.\n",
      "  warnings.warn(\n",
      "Epoch(s):  57%|\u001b[31m█████▋    \u001b[0m| 258/450 [7:56:08<5:53:54, 110.60s/it]"
     ]
    },
    {
     "name": "stdout",
     "output_type": "stream",
     "text": [
      "{'Epoch': 259, 'Train Loss': 0.20470806590583027, 'Train Accuracy': 0.9334462729912875, 'Val Loss': 0.477497765307243, 'Val Accuracy': 0.8500967117988395, 'Val Precision': 0.8634813384767195, 'Val Recall': 0.8500967117988395}\n"
     ]
    },
    {
     "name": "stderr",
     "output_type": "stream",
     "text": [
      "c:\\Users\\Sid\\AppData\\Local\\Programs\\Python\\Python39\\lib\\site-packages\\huggingface_hub\\file_download.py:1132: FutureWarning: `resume_download` is deprecated and will be removed in version 1.0.0. Downloads always resume when possible. If you want to force a new download, use `force_download=True`.\n",
      "  warnings.warn(\n",
      "Epoch(s):  58%|\u001b[31m█████▊    \u001b[0m| 259/450 [7:57:59<5:52:02, 110.59s/it]"
     ]
    },
    {
     "name": "stdout",
     "output_type": "stream",
     "text": [
      "{'Epoch': 260, 'Train Loss': 0.19792660038008508, 'Train Accuracy': 0.9341723136495643, 'Val Loss': 0.47756864921762965, 'Val Accuracy': 0.8549323017408124, 'Val Precision': 0.859911458742337, 'Val Recall': 0.8549323017408124}\n"
     ]
    },
    {
     "name": "stderr",
     "output_type": "stream",
     "text": [
      "c:\\Users\\Sid\\AppData\\Local\\Programs\\Python\\Python39\\lib\\site-packages\\huggingface_hub\\file_download.py:1132: FutureWarning: `resume_download` is deprecated and will be removed in version 1.0.0. Downloads always resume when possible. If you want to force a new download, use `force_download=True`.\n",
      "  warnings.warn(\n",
      "Epoch(s):  58%|\u001b[31m█████▊    \u001b[0m| 260/450 [7:59:49<5:50:09, 110.58s/it]"
     ]
    },
    {
     "name": "stdout",
     "output_type": "stream",
     "text": [
      "{'Epoch': 261, 'Train Loss': 0.1915115786448452, 'Train Accuracy': 0.936108422071636, 'Val Loss': 0.4808629740387774, 'Val Accuracy': 0.8539651837524178, 'Val Precision': 0.8587131418759296, 'Val Recall': 0.8539651837524178}\n"
     ]
    },
    {
     "name": "stderr",
     "output_type": "stream",
     "text": [
      "c:\\Users\\Sid\\AppData\\Local\\Programs\\Python\\Python39\\lib\\site-packages\\huggingface_hub\\file_download.py:1132: FutureWarning: `resume_download` is deprecated and will be removed in version 1.0.0. Downloads always resume when possible. If you want to force a new download, use `force_download=True`.\n",
      "  warnings.warn(\n",
      "Epoch(s):  58%|\u001b[31m█████▊    \u001b[0m| 261/450 [8:01:40<5:48:14, 110.56s/it]"
     ]
    },
    {
     "name": "stdout",
     "output_type": "stream",
     "text": [
      "{'Epoch': 262, 'Train Loss': 0.19684545674880888, 'Train Accuracy': 0.9353823814133592, 'Val Loss': 0.5008779272007254, 'Val Accuracy': 0.8471953578336557, 'Val Precision': 0.8560477341022047, 'Val Recall': 0.8471953578336557}\n"
     ]
    },
    {
     "name": "stderr",
     "output_type": "stream",
     "text": [
      "c:\\Users\\Sid\\AppData\\Local\\Programs\\Python\\Python39\\lib\\site-packages\\huggingface_hub\\file_download.py:1132: FutureWarning: `resume_download` is deprecated and will be removed in version 1.0.0. Downloads always resume when possible. If you want to force a new download, use `force_download=True`.\n",
      "  warnings.warn(\n",
      "Epoch(s):  58%|\u001b[31m█████▊    \u001b[0m| 262/450 [8:03:30<5:46:22, 110.55s/it]"
     ]
    },
    {
     "name": "stdout",
     "output_type": "stream",
     "text": [
      "{'Epoch': 263, 'Train Loss': 0.19618430310809934, 'Train Accuracy': 0.9339303000968054, 'Val Loss': 0.48251315583116733, 'Val Accuracy': 0.8529980657640233, 'Val Precision': 0.8550817433695476, 'Val Recall': 0.8529980657640233}\n"
     ]
    },
    {
     "name": "stderr",
     "output_type": "stream",
     "text": [
      "c:\\Users\\Sid\\AppData\\Local\\Programs\\Python\\Python39\\lib\\site-packages\\huggingface_hub\\file_download.py:1132: FutureWarning: `resume_download` is deprecated and will be removed in version 1.0.0. Downloads always resume when possible. If you want to force a new download, use `force_download=True`.\n",
      "  warnings.warn(\n",
      "Epoch(s):  58%|\u001b[31m█████▊    \u001b[0m| 263/450 [8:05:21<5:44:33, 110.55s/it]"
     ]
    },
    {
     "name": "stdout",
     "output_type": "stream",
     "text": [
      "{'Epoch': 264, 'Train Loss': 0.20117249354921482, 'Train Accuracy': 0.9332042594385286, 'Val Loss': 0.46425829771189736, 'Val Accuracy': 0.8549323017408124, 'Val Precision': 0.8562463216314334, 'Val Recall': 0.8549323017408124}\n"
     ]
    },
    {
     "name": "stderr",
     "output_type": "stream",
     "text": [
      "c:\\Users\\Sid\\AppData\\Local\\Programs\\Python\\Python39\\lib\\site-packages\\huggingface_hub\\file_download.py:1132: FutureWarning: `resume_download` is deprecated and will be removed in version 1.0.0. Downloads always resume when possible. If you want to force a new download, use `force_download=True`.\n",
      "  warnings.warn(\n",
      "Epoch(s):  59%|\u001b[31m█████▊    \u001b[0m| 264/450 [8:07:11<5:42:40, 110.54s/it]"
     ]
    },
    {
     "name": "stdout",
     "output_type": "stream",
     "text": [
      "{'Epoch': 265, 'Train Loss': 0.20030716306828394, 'Train Accuracy': 0.9334462729912875, 'Val Loss': 0.5065487585531977, 'Val Accuracy': 0.8491295938104448, 'Val Precision': 0.8619411286883175, 'Val Recall': 0.8491295938104448}\n"
     ]
    },
    {
     "name": "stderr",
     "output_type": "stream",
     "text": [
      "c:\\Users\\Sid\\AppData\\Local\\Programs\\Python\\Python39\\lib\\site-packages\\huggingface_hub\\file_download.py:1132: FutureWarning: `resume_download` is deprecated and will be removed in version 1.0.0. Downloads always resume when possible. If you want to force a new download, use `force_download=True`.\n",
      "  warnings.warn(\n",
      "Epoch(s):  59%|\u001b[31m█████▉    \u001b[0m| 265/450 [8:09:02<5:40:48, 110.53s/it]"
     ]
    },
    {
     "name": "stdout",
     "output_type": "stream",
     "text": [
      "{'Epoch': 266, 'Train Loss': 0.19598841919962848, 'Train Accuracy': 0.9319941916747337, 'Val Loss': 0.4563038007284586, 'Val Accuracy': 0.8558994197292069, 'Val Precision': 0.8667697738000231, 'Val Recall': 0.8558994197292069}\n"
     ]
    },
    {
     "name": "stderr",
     "output_type": "stream",
     "text": [
      "c:\\Users\\Sid\\AppData\\Local\\Programs\\Python\\Python39\\lib\\site-packages\\huggingface_hub\\file_download.py:1132: FutureWarning: `resume_download` is deprecated and will be removed in version 1.0.0. Downloads always resume when possible. If you want to force a new download, use `force_download=True`.\n",
      "  warnings.warn(\n",
      "Epoch(s):  59%|\u001b[31m█████▉    \u001b[0m| 266/450 [8:10:52<5:38:53, 110.51s/it]"
     ]
    },
    {
     "name": "stdout",
     "output_type": "stream",
     "text": [
      "{'Epoch': 267, 'Train Loss': 0.18847976197420285, 'Train Accuracy': 0.9390125847047435, 'Val Loss': 0.48072236518447214, 'Val Accuracy': 0.8520309477756286, 'Val Precision': 0.8573767404017028, 'Val Recall': 0.8520309477756286}\n"
     ]
    },
    {
     "name": "stderr",
     "output_type": "stream",
     "text": [
      "c:\\Users\\Sid\\AppData\\Local\\Programs\\Python\\Python39\\lib\\site-packages\\huggingface_hub\\file_download.py:1132: FutureWarning: `resume_download` is deprecated and will be removed in version 1.0.0. Downloads always resume when possible. If you want to force a new download, use `force_download=True`.\n",
      "  warnings.warn(\n",
      "Epoch(s):  59%|\u001b[31m█████▉    \u001b[0m| 267/450 [8:12:43<5:37:05, 110.52s/it]"
     ]
    },
    {
     "name": "stdout",
     "output_type": "stream",
     "text": [
      "{'Epoch': 268, 'Train Loss': 0.19141652475787205, 'Train Accuracy': 0.9322362052274927, 'Val Loss': 0.4720459398598625, 'Val Accuracy': 0.8558994197292069, 'Val Precision': 0.8652430399619294, 'Val Recall': 0.8558994197292069}\n"
     ]
    },
    {
     "name": "stderr",
     "output_type": "stream",
     "text": [
      "c:\\Users\\Sid\\AppData\\Local\\Programs\\Python\\Python39\\lib\\site-packages\\huggingface_hub\\file_download.py:1132: FutureWarning: `resume_download` is deprecated and will be removed in version 1.0.0. Downloads always resume when possible. If you want to force a new download, use `force_download=True`.\n",
      "  warnings.warn(\n",
      "Epoch(s):  60%|\u001b[31m█████▉    \u001b[0m| 268/450 [8:14:34<5:35:40, 110.66s/it]"
     ]
    },
    {
     "name": "stdout",
     "output_type": "stream",
     "text": [
      "{'Epoch': 269, 'Train Loss': 0.1935653845369672, 'Train Accuracy': 0.935866408518877, 'Val Loss': 0.4997036236553238, 'Val Accuracy': 0.8452611218568665, 'Val Precision': 0.8573881278866005, 'Val Recall': 0.8452611218568665}\n"
     ]
    },
    {
     "name": "stderr",
     "output_type": "stream",
     "text": [
      "c:\\Users\\Sid\\AppData\\Local\\Programs\\Python\\Python39\\lib\\site-packages\\huggingface_hub\\file_download.py:1132: FutureWarning: `resume_download` is deprecated and will be removed in version 1.0.0. Downloads always resume when possible. If you want to force a new download, use `force_download=True`.\n",
      "  warnings.warn(\n",
      "Epoch(s):  60%|\u001b[31m█████▉    \u001b[0m| 269/450 [8:16:25<5:34:02, 110.73s/it]"
     ]
    },
    {
     "name": "stdout",
     "output_type": "stream",
     "text": [
      "{'Epoch': 270, 'Train Loss': 0.19042173008327498, 'Train Accuracy': 0.935866408518877, 'Val Loss': 0.5014189133420587, 'Val Accuracy': 0.8520309477756286, 'Val Precision': 0.8526084352448429, 'Val Recall': 0.8520309477756286}\n"
     ]
    },
    {
     "name": "stderr",
     "output_type": "stream",
     "text": [
      "c:\\Users\\Sid\\AppData\\Local\\Programs\\Python\\Python39\\lib\\site-packages\\huggingface_hub\\file_download.py:1132: FutureWarning: `resume_download` is deprecated and will be removed in version 1.0.0. Downloads always resume when possible. If you want to force a new download, use `force_download=True`.\n",
      "  warnings.warn(\n",
      "Epoch(s):  60%|\u001b[31m██████    \u001b[0m| 270/450 [8:18:15<5:31:55, 110.64s/it]"
     ]
    },
    {
     "name": "stdout",
     "output_type": "stream",
     "text": [
      "{'Epoch': 271, 'Train Loss': 0.18479577694663554, 'Train Accuracy': 0.9375605033881897, 'Val Loss': 0.4982553635652249, 'Val Accuracy': 0.8452611218568665, 'Val Precision': 0.8598133617607331, 'Val Recall': 0.8452611218568665}\n"
     ]
    },
    {
     "name": "stderr",
     "output_type": "stream",
     "text": [
      "c:\\Users\\Sid\\AppData\\Local\\Programs\\Python\\Python39\\lib\\site-packages\\huggingface_hub\\file_download.py:1132: FutureWarning: `resume_download` is deprecated and will be removed in version 1.0.0. Downloads always resume when possible. If you want to force a new download, use `force_download=True`.\n",
      "  warnings.warn(\n",
      "Epoch(s):  60%|\u001b[31m██████    \u001b[0m| 271/450 [8:20:06<5:30:03, 110.63s/it]"
     ]
    },
    {
     "name": "stdout",
     "output_type": "stream",
     "text": [
      "{'Epoch': 272, 'Train Loss': 0.19382686062754603, 'Train Accuracy': 0.9298160696999032, 'Val Loss': 0.4914184044007785, 'Val Accuracy': 0.8500967117988395, 'Val Precision': 0.8633995469649312, 'Val Recall': 0.8500967117988395}\n"
     ]
    },
    {
     "name": "stderr",
     "output_type": "stream",
     "text": [
      "c:\\Users\\Sid\\AppData\\Local\\Programs\\Python\\Python39\\lib\\site-packages\\huggingface_hub\\file_download.py:1132: FutureWarning: `resume_download` is deprecated and will be removed in version 1.0.0. Downloads always resume when possible. If you want to force a new download, use `force_download=True`.\n",
      "  warnings.warn(\n",
      "Epoch(s):  60%|\u001b[31m██████    \u001b[0m| 272/450 [8:21:56<5:28:07, 110.61s/it]"
     ]
    },
    {
     "name": "stdout",
     "output_type": "stream",
     "text": [
      "{'Epoch': 273, 'Train Loss': 0.19210889921110108, 'Train Accuracy': 0.9370764762826719, 'Val Loss': 0.47570938471919644, 'Val Accuracy': 0.8539651837524178, 'Val Precision': 0.8539980444628762, 'Val Recall': 0.8539651837524178}\n"
     ]
    },
    {
     "name": "stderr",
     "output_type": "stream",
     "text": [
      "c:\\Users\\Sid\\AppData\\Local\\Programs\\Python\\Python39\\lib\\site-packages\\huggingface_hub\\file_download.py:1132: FutureWarning: `resume_download` is deprecated and will be removed in version 1.0.0. Downloads always resume when possible. If you want to force a new download, use `force_download=True`.\n",
      "  warnings.warn(\n",
      "Epoch(s):  61%|\u001b[31m██████    \u001b[0m| 273/450 [8:23:47<5:26:10, 110.57s/it]"
     ]
    },
    {
     "name": "stdout",
     "output_type": "stream",
     "text": [
      "{'Epoch': 274, 'Train Loss': 0.18060113980235265, 'Train Accuracy': 0.9404646660212972, 'Val Loss': 0.49631451249767383, 'Val Accuracy': 0.844294003868472, 'Val Precision': 0.8565201285968543, 'Val Recall': 0.844294003868472}\n"
     ]
    },
    {
     "name": "stderr",
     "output_type": "stream",
     "text": [
      "c:\\Users\\Sid\\AppData\\Local\\Programs\\Python\\Python39\\lib\\site-packages\\huggingface_hub\\file_download.py:1132: FutureWarning: `resume_download` is deprecated and will be removed in version 1.0.0. Downloads always resume when possible. If you want to force a new download, use `force_download=True`.\n",
      "  warnings.warn(\n",
      "Epoch(s):  61%|\u001b[31m██████    \u001b[0m| 274/450 [8:25:37<5:24:15, 110.54s/it]"
     ]
    },
    {
     "name": "stdout",
     "output_type": "stream",
     "text": [
      "{'Epoch': 275, 'Train Loss': 0.18104679079541602, 'Train Accuracy': 0.9404646660212972, 'Val Loss': 0.49663842625271243, 'Val Accuracy': 0.851063829787234, 'Val Precision': 0.8592124994968752, 'Val Recall': 0.851063829787234}\n"
     ]
    },
    {
     "name": "stderr",
     "output_type": "stream",
     "text": [
      "c:\\Users\\Sid\\AppData\\Local\\Programs\\Python\\Python39\\lib\\site-packages\\huggingface_hub\\file_download.py:1132: FutureWarning: `resume_download` is deprecated and will be removed in version 1.0.0. Downloads always resume when possible. If you want to force a new download, use `force_download=True`.\n",
      "  warnings.warn(\n",
      "Epoch(s):  61%|\u001b[31m██████    \u001b[0m| 275/450 [8:27:28<5:22:31, 110.58s/it]"
     ]
    },
    {
     "name": "stdout",
     "output_type": "stream",
     "text": [
      "{'Epoch': 276, 'Train Loss': 0.18096137860785738, 'Train Accuracy': 0.941190706679574, 'Val Loss': 0.517727672154657, 'Val Accuracy': 0.851063829787234, 'Val Precision': 0.8702160188345417, 'Val Recall': 0.851063829787234}\n"
     ]
    },
    {
     "name": "stderr",
     "output_type": "stream",
     "text": [
      "c:\\Users\\Sid\\AppData\\Local\\Programs\\Python\\Python39\\lib\\site-packages\\huggingface_hub\\file_download.py:1132: FutureWarning: `resume_download` is deprecated and will be removed in version 1.0.0. Downloads always resume when possible. If you want to force a new download, use `force_download=True`.\n",
      "  warnings.warn(\n",
      "Epoch(s):  61%|\u001b[31m██████▏   \u001b[0m| 276/450 [8:29:18<5:20:37, 110.56s/it]"
     ]
    },
    {
     "name": "stdout",
     "output_type": "stream",
     "text": [
      "{'Epoch': 277, 'Train Loss': 0.18081545541948427, 'Train Accuracy': 0.9356243949661182, 'Val Loss': 0.5028059870291215, 'Val Accuracy': 0.8433268858800773, 'Val Precision': 0.8504937848256114, 'Val Recall': 0.8433268858800773}\n"
     ]
    },
    {
     "name": "stderr",
     "output_type": "stream",
     "text": [
      "c:\\Users\\Sid\\AppData\\Local\\Programs\\Python\\Python39\\lib\\site-packages\\huggingface_hub\\file_download.py:1132: FutureWarning: `resume_download` is deprecated and will be removed in version 1.0.0. Downloads always resume when possible. If you want to force a new download, use `force_download=True`.\n",
      "  warnings.warn(\n",
      "Epoch(s):  62%|\u001b[31m██████▏   \u001b[0m| 277/450 [8:31:09<5:18:42, 110.53s/it]"
     ]
    },
    {
     "name": "stdout",
     "output_type": "stream",
     "text": [
      "{'Epoch': 278, 'Train Loss': 0.18182071564363092, 'Train Accuracy': 0.9390125847047435, 'Val Loss': 0.48922326356674045, 'Val Accuracy': 0.8462282398452611, 'Val Precision': 0.8563584164426492, 'Val Recall': 0.8462282398452611}\n"
     ]
    },
    {
     "name": "stderr",
     "output_type": "stream",
     "text": [
      "c:\\Users\\Sid\\AppData\\Local\\Programs\\Python\\Python39\\lib\\site-packages\\huggingface_hub\\file_download.py:1132: FutureWarning: `resume_download` is deprecated and will be removed in version 1.0.0. Downloads always resume when possible. If you want to force a new download, use `force_download=True`.\n",
      "  warnings.warn(\n",
      "Epoch(s):  62%|\u001b[31m██████▏   \u001b[0m| 278/450 [8:33:00<5:16:58, 110.57s/it]"
     ]
    },
    {
     "name": "stdout",
     "output_type": "stream",
     "text": [
      "{'Epoch': 279, 'Train Loss': 0.17856226618105947, 'Train Accuracy': 0.9390125847047435, 'Val Loss': 0.470645321196375, 'Val Accuracy': 0.8588007736943907, 'Val Precision': 0.862467151913865, 'Val Recall': 0.8588007736943907}\n"
     ]
    },
    {
     "name": "stderr",
     "output_type": "stream",
     "text": [
      "c:\\Users\\Sid\\AppData\\Local\\Programs\\Python\\Python39\\lib\\site-packages\\huggingface_hub\\file_download.py:1132: FutureWarning: `resume_download` is deprecated and will be removed in version 1.0.0. Downloads always resume when possible. If you want to force a new download, use `force_download=True`.\n",
      "  warnings.warn(\n",
      "Epoch(s):  62%|\u001b[31m██████▏   \u001b[0m| 279/450 [8:34:50<5:15:06, 110.57s/it]"
     ]
    },
    {
     "name": "stdout",
     "output_type": "stream",
     "text": [
      "{'Epoch': 280, 'Train Loss': 0.1782457343618202, 'Train Accuracy': 0.9404646660212972, 'Val Loss': 0.48418109548779636, 'Val Accuracy': 0.8539651837524178, 'Val Precision': 0.8601039136707502, 'Val Recall': 0.8539651837524178}\n"
     ]
    },
    {
     "name": "stderr",
     "output_type": "stream",
     "text": [
      "c:\\Users\\Sid\\AppData\\Local\\Programs\\Python\\Python39\\lib\\site-packages\\huggingface_hub\\file_download.py:1132: FutureWarning: `resume_download` is deprecated and will be removed in version 1.0.0. Downloads always resume when possible. If you want to force a new download, use `force_download=True`.\n",
      "  warnings.warn(\n",
      "Epoch(s):  62%|\u001b[31m██████▏   \u001b[0m| 280/450 [8:36:41<5:13:15, 110.56s/it]"
     ]
    },
    {
     "name": "stdout",
     "output_type": "stream",
     "text": [
      "{'Epoch': 281, 'Train Loss': 0.17325563286299098, 'Train Accuracy': 0.9407066795740562, 'Val Loss': 0.531937797482197, 'Val Accuracy': 0.8423597678916828, 'Val Precision': 0.8551080530732376, 'Val Recall': 0.8423597678916828}\n"
     ]
    },
    {
     "name": "stderr",
     "output_type": "stream",
     "text": [
      "c:\\Users\\Sid\\AppData\\Local\\Programs\\Python\\Python39\\lib\\site-packages\\huggingface_hub\\file_download.py:1132: FutureWarning: `resume_download` is deprecated and will be removed in version 1.0.0. Downloads always resume when possible. If you want to force a new download, use `force_download=True`.\n",
      "  warnings.warn(\n",
      "Epoch(s):  62%|\u001b[31m██████▏   \u001b[0m| 281/450 [8:38:31<5:11:24, 110.56s/it]"
     ]
    },
    {
     "name": "stdout",
     "output_type": "stream",
     "text": [
      "{'Epoch': 282, 'Train Loss': 0.1746114726132501, 'Train Accuracy': 0.9407066795740562, 'Val Loss': 0.49499168128061755, 'Val Accuracy': 0.8539651837524178, 'Val Precision': 0.8554525454866898, 'Val Recall': 0.8539651837524178}\n"
     ]
    },
    {
     "name": "stderr",
     "output_type": "stream",
     "text": [
      "c:\\Users\\Sid\\AppData\\Local\\Programs\\Python\\Python39\\lib\\site-packages\\huggingface_hub\\file_download.py:1132: FutureWarning: `resume_download` is deprecated and will be removed in version 1.0.0. Downloads always resume when possible. If you want to force a new download, use `force_download=True`.\n",
      "  warnings.warn(\n",
      "Epoch(s):  63%|\u001b[31m██████▎   \u001b[0m| 282/450 [8:40:22<5:09:32, 110.55s/it]"
     ]
    },
    {
     "name": "stdout",
     "output_type": "stream",
     "text": [
      "{'Epoch': 283, 'Train Loss': 0.1788350941849462, 'Train Accuracy': 0.9382865440464666, 'Val Loss': 0.5072545972240802, 'Val Accuracy': 0.8462282398452611, 'Val Precision': 0.8549511525658811, 'Val Recall': 0.8462282398452611}\n"
     ]
    },
    {
     "name": "stderr",
     "output_type": "stream",
     "text": [
      "c:\\Users\\Sid\\AppData\\Local\\Programs\\Python\\Python39\\lib\\site-packages\\huggingface_hub\\file_download.py:1132: FutureWarning: `resume_download` is deprecated and will be removed in version 1.0.0. Downloads always resume when possible. If you want to force a new download, use `force_download=True`.\n",
      "  warnings.warn(\n",
      "Epoch(s):  63%|\u001b[31m██████▎   \u001b[0m| 283/450 [8:42:12<5:07:37, 110.52s/it]"
     ]
    },
    {
     "name": "stdout",
     "output_type": "stream",
     "text": [
      "{'Epoch': 284, 'Train Loss': 0.17380946029596117, 'Train Accuracy': 0.9397386253630203, 'Val Loss': 0.4749221360579563, 'Val Accuracy': 0.8597678916827853, 'Val Precision': 0.8605602377850328, 'Val Recall': 0.8597678916827853}\n"
     ]
    },
    {
     "name": "stderr",
     "output_type": "stream",
     "text": [
      "c:\\Users\\Sid\\AppData\\Local\\Programs\\Python\\Python39\\lib\\site-packages\\huggingface_hub\\file_download.py:1132: FutureWarning: `resume_download` is deprecated and will be removed in version 1.0.0. Downloads always resume when possible. If you want to force a new download, use `force_download=True`.\n",
      "  warnings.warn(\n",
      "Epoch(s):  63%|\u001b[31m██████▎   \u001b[0m| 284/450 [8:44:03<5:05:46, 110.52s/it]"
     ]
    },
    {
     "name": "stdout",
     "output_type": "stream",
     "text": [
      "{'Epoch': 285, 'Train Loss': 0.1728689001216923, 'Train Accuracy': 0.941190706679574, 'Val Loss': 0.4866583612962411, 'Val Accuracy': 0.851063829787234, 'Val Precision': 0.846187339697077, 'Val Recall': 0.851063829787234}\n"
     ]
    },
    {
     "name": "stderr",
     "output_type": "stream",
     "text": [
      "c:\\Users\\Sid\\AppData\\Local\\Programs\\Python\\Python39\\lib\\site-packages\\huggingface_hub\\file_download.py:1132: FutureWarning: `resume_download` is deprecated and will be removed in version 1.0.0. Downloads always resume when possible. If you want to force a new download, use `force_download=True`.\n",
      "  warnings.warn(\n",
      "Epoch(s):  63%|\u001b[31m██████▎   \u001b[0m| 285/450 [8:45:54<5:04:15, 110.64s/it]"
     ]
    },
    {
     "name": "stdout",
     "output_type": "stream",
     "text": [
      "{'Epoch': 286, 'Train Loss': 0.17305175304272605, 'Train Accuracy': 0.941432720232333, 'Val Loss': 0.49491398200536, 'Val Accuracy': 0.8558994197292069, 'Val Precision': 0.8640264466615212, 'Val Recall': 0.8558994197292069}\n"
     ]
    },
    {
     "name": "stderr",
     "output_type": "stream",
     "text": [
      "c:\\Users\\Sid\\AppData\\Local\\Programs\\Python\\Python39\\lib\\site-packages\\huggingface_hub\\file_download.py:1132: FutureWarning: `resume_download` is deprecated and will be removed in version 1.0.0. Downloads always resume when possible. If you want to force a new download, use `force_download=True`.\n",
      "  warnings.warn(\n",
      "Epoch(s):  64%|\u001b[31m██████▎   \u001b[0m| 286/450 [8:47:44<5:02:21, 110.62s/it]"
     ]
    },
    {
     "name": "stdout",
     "output_type": "stream",
     "text": [
      "{'Epoch': 287, 'Train Loss': 0.16914368506645042, 'Train Accuracy': 0.9443368828654405, 'Val Loss': 0.48587169576293, 'Val Accuracy': 0.8568665377176016, 'Val Precision': 0.8662730653798862, 'Val Recall': 0.8568665377176016}\n"
     ]
    },
    {
     "name": "stderr",
     "output_type": "stream",
     "text": [
      "c:\\Users\\Sid\\AppData\\Local\\Programs\\Python\\Python39\\lib\\site-packages\\huggingface_hub\\file_download.py:1132: FutureWarning: `resume_download` is deprecated and will be removed in version 1.0.0. Downloads always resume when possible. If you want to force a new download, use `force_download=True`.\n",
      "  warnings.warn(\n",
      "Epoch(s):  64%|\u001b[31m██████▍   \u001b[0m| 287/450 [8:49:35<5:00:28, 110.61s/it]"
     ]
    },
    {
     "name": "stdout",
     "output_type": "stream",
     "text": [
      "{'Epoch': 288, 'Train Loss': 0.17893600066279647, 'Train Accuracy': 0.9407066795740562, 'Val Loss': 0.48379937323669975, 'Val Accuracy': 0.8597678916827853, 'Val Precision': 0.8661036299401769, 'Val Recall': 0.8597678916827853}\n"
     ]
    },
    {
     "name": "stderr",
     "output_type": "stream",
     "text": [
      "c:\\Users\\Sid\\AppData\\Local\\Programs\\Python\\Python39\\lib\\site-packages\\huggingface_hub\\file_download.py:1132: FutureWarning: `resume_download` is deprecated and will be removed in version 1.0.0. Downloads always resume when possible. If you want to force a new download, use `force_download=True`.\n",
      "  warnings.warn(\n",
      "Epoch(s):  64%|\u001b[31m██████▍   \u001b[0m| 288/450 [8:51:25<4:58:35, 110.59s/it]"
     ]
    },
    {
     "name": "stdout",
     "output_type": "stream",
     "text": [
      "{'Epoch': 289, 'Train Loss': 0.1685037209097706, 'Train Accuracy': 0.9431268151016456, 'Val Loss': 0.520978057423893, 'Val Accuracy': 0.8500967117988395, 'Val Precision': 0.8664496179727774, 'Val Recall': 0.8500967117988395}\n"
     ]
    },
    {
     "name": "stderr",
     "output_type": "stream",
     "text": [
      "c:\\Users\\Sid\\AppData\\Local\\Programs\\Python\\Python39\\lib\\site-packages\\huggingface_hub\\file_download.py:1132: FutureWarning: `resume_download` is deprecated and will be removed in version 1.0.0. Downloads always resume when possible. If you want to force a new download, use `force_download=True`.\n",
      "  warnings.warn(\n",
      "Epoch(s):  64%|\u001b[31m██████▍   \u001b[0m| 289/450 [8:53:16<4:56:39, 110.55s/it]"
     ]
    },
    {
     "name": "stdout",
     "output_type": "stream",
     "text": [
      "{'Epoch': 290, 'Train Loss': 0.17374231277616212, 'Train Accuracy': 0.9402226524685382, 'Val Loss': 0.4836471828130575, 'Val Accuracy': 0.8646034816247582, 'Val Precision': 0.8630338258942803, 'Val Recall': 0.8646034816247582}\n"
     ]
    },
    {
     "name": "stderr",
     "output_type": "stream",
     "text": [
      "c:\\Users\\Sid\\AppData\\Local\\Programs\\Python\\Python39\\lib\\site-packages\\huggingface_hub\\file_download.py:1132: FutureWarning: `resume_download` is deprecated and will be removed in version 1.0.0. Downloads always resume when possible. If you want to force a new download, use `force_download=True`.\n",
      "  warnings.warn(\n",
      "Epoch(s):  64%|\u001b[31m██████▍   \u001b[0m| 290/450 [8:55:06<4:54:50, 110.56s/it]"
     ]
    },
    {
     "name": "stdout",
     "output_type": "stream",
     "text": [
      "{'Epoch': 291, 'Train Loss': 0.16625716057922924, 'Train Accuracy': 0.9433688286544046, 'Val Loss': 0.48580742901943336, 'Val Accuracy': 0.8588007736943907, 'Val Precision': 0.858937280551647, 'Val Recall': 0.8588007736943907}\n"
     ]
    },
    {
     "name": "stderr",
     "output_type": "stream",
     "text": [
      "c:\\Users\\Sid\\AppData\\Local\\Programs\\Python\\Python39\\lib\\site-packages\\huggingface_hub\\file_download.py:1132: FutureWarning: `resume_download` is deprecated and will be removed in version 1.0.0. Downloads always resume when possible. If you want to force a new download, use `force_download=True`.\n",
      "  warnings.warn(\n",
      "Epoch(s):  65%|\u001b[31m██████▍   \u001b[0m| 291/450 [8:56:57<4:52:59, 110.56s/it]"
     ]
    },
    {
     "name": "stdout",
     "output_type": "stream",
     "text": [
      "{'Epoch': 292, 'Train Loss': 0.17374881515227722, 'Train Accuracy': 0.9431268151016456, 'Val Loss': 0.5068758811371831, 'Val Accuracy': 0.8549323017408124, 'Val Precision': 0.8627132259017952, 'Val Recall': 0.8549323017408124}\n"
     ]
    },
    {
     "name": "stderr",
     "output_type": "stream",
     "text": [
      "c:\\Users\\Sid\\AppData\\Local\\Programs\\Python\\Python39\\lib\\site-packages\\huggingface_hub\\file_download.py:1132: FutureWarning: `resume_download` is deprecated and will be removed in version 1.0.0. Downloads always resume when possible. If you want to force a new download, use `force_download=True`.\n",
      "  warnings.warn(\n",
      "Epoch(s):  65%|\u001b[31m██████▍   \u001b[0m| 292/450 [8:58:47<4:51:06, 110.54s/it]"
     ]
    },
    {
     "name": "stdout",
     "output_type": "stream",
     "text": [
      "{'Epoch': 293, 'Train Loss': 0.16252028895586973, 'Train Accuracy': 0.9460309777347532, 'Val Loss': 0.48964041750698994, 'Val Accuracy': 0.8597678916827853, 'Val Precision': 0.8608646676026471, 'Val Recall': 0.8597678916827853}\n"
     ]
    },
    {
     "name": "stderr",
     "output_type": "stream",
     "text": [
      "c:\\Users\\Sid\\AppData\\Local\\Programs\\Python\\Python39\\lib\\site-packages\\huggingface_hub\\file_download.py:1132: FutureWarning: `resume_download` is deprecated and will be removed in version 1.0.0. Downloads always resume when possible. If you want to force a new download, use `force_download=True`.\n",
      "  warnings.warn(\n",
      "Epoch(s):  65%|\u001b[31m██████▌   \u001b[0m| 293/450 [9:00:38<4:49:11, 110.52s/it]"
     ]
    },
    {
     "name": "stdout",
     "output_type": "stream",
     "text": [
      "{'Epoch': 294, 'Train Loss': 0.17081048985030528, 'Train Accuracy': 0.9445788964181994, 'Val Loss': 0.47061741940963725, 'Val Accuracy': 0.8568665377176016, 'Val Precision': 0.8518137140954851, 'Val Recall': 0.8568665377176016}\n"
     ]
    },
    {
     "name": "stderr",
     "output_type": "stream",
     "text": [
      "c:\\Users\\Sid\\AppData\\Local\\Programs\\Python\\Python39\\lib\\site-packages\\huggingface_hub\\file_download.py:1132: FutureWarning: `resume_download` is deprecated and will be removed in version 1.0.0. Downloads always resume when possible. If you want to force a new download, use `force_download=True`.\n",
      "  warnings.warn(\n",
      "Epoch(s):  65%|\u001b[31m██████▌   \u001b[0m| 294/450 [9:02:30<4:48:11, 110.84s/it]"
     ]
    },
    {
     "name": "stdout",
     "output_type": "stream",
     "text": [
      "{'Epoch': 295, 'Train Loss': 0.1643884672088686, 'Train Accuracy': 0.9433688286544046, 'Val Loss': 0.4886489441761604, 'Val Accuracy': 0.8568665377176016, 'Val Precision': 0.8606559962822533, 'Val Recall': 0.8568665377176016}\n"
     ]
    },
    {
     "name": "stderr",
     "output_type": "stream",
     "text": [
      "c:\\Users\\Sid\\AppData\\Local\\Programs\\Python\\Python39\\lib\\site-packages\\huggingface_hub\\file_download.py:1132: FutureWarning: `resume_download` is deprecated and will be removed in version 1.0.0. Downloads always resume when possible. If you want to force a new download, use `force_download=True`.\n",
      "  warnings.warn(\n",
      "Epoch(s):  66%|\u001b[31m██████▌   \u001b[0m| 295/450 [9:04:20<4:46:02, 110.73s/it]"
     ]
    },
    {
     "name": "stdout",
     "output_type": "stream",
     "text": [
      "{'Epoch': 296, 'Train Loss': 0.16003950120625896, 'Train Accuracy': 0.9482090997095838, 'Val Loss': 0.5033250368048007, 'Val Accuracy': 0.8539651837524178, 'Val Precision': 0.8580733535897879, 'Val Recall': 0.8539651837524178}\n"
     ]
    },
    {
     "name": "stderr",
     "output_type": "stream",
     "text": [
      "c:\\Users\\Sid\\AppData\\Local\\Programs\\Python\\Python39\\lib\\site-packages\\huggingface_hub\\file_download.py:1132: FutureWarning: `resume_download` is deprecated and will be removed in version 1.0.0. Downloads always resume when possible. If you want to force a new download, use `force_download=True`.\n",
      "  warnings.warn(\n",
      "Epoch(s):  66%|\u001b[31m██████▌   \u001b[0m| 296/450 [9:06:10<4:44:01, 110.66s/it]"
     ]
    },
    {
     "name": "stdout",
     "output_type": "stream",
     "text": [
      "{'Epoch': 297, 'Train Loss': 0.16939973499145877, 'Train Accuracy': 0.9450629235237173, 'Val Loss': 0.4875349275087221, 'Val Accuracy': 0.8617021276595744, 'Val Precision': 0.8641921620753749, 'Val Recall': 0.8617021276595744}\n"
     ]
    },
    {
     "name": "stderr",
     "output_type": "stream",
     "text": [
      "c:\\Users\\Sid\\AppData\\Local\\Programs\\Python\\Python39\\lib\\site-packages\\huggingface_hub\\file_download.py:1132: FutureWarning: `resume_download` is deprecated and will be removed in version 1.0.0. Downloads always resume when possible. If you want to force a new download, use `force_download=True`.\n",
      "  warnings.warn(\n",
      "Epoch(s):  66%|\u001b[31m██████▌   \u001b[0m| 297/450 [9:08:01<4:42:05, 110.62s/it]"
     ]
    },
    {
     "name": "stdout",
     "output_type": "stream",
     "text": [
      "{'Epoch': 298, 'Train Loss': 0.16062499500355326, 'Train Accuracy': 0.9499031945788964, 'Val Loss': 0.5038854187390266, 'Val Accuracy': 0.8520309477756286, 'Val Precision': 0.8554290763790291, 'Val Recall': 0.8520309477756286}\n"
     ]
    },
    {
     "name": "stderr",
     "output_type": "stream",
     "text": [
      "c:\\Users\\Sid\\AppData\\Local\\Programs\\Python\\Python39\\lib\\site-packages\\huggingface_hub\\file_download.py:1132: FutureWarning: `resume_download` is deprecated and will be removed in version 1.0.0. Downloads always resume when possible. If you want to force a new download, use `force_download=True`.\n",
      "  warnings.warn(\n",
      "Epoch(s):  66%|\u001b[31m██████▌   \u001b[0m| 298/450 [9:09:52<4:40:10, 110.60s/it]"
     ]
    },
    {
     "name": "stdout",
     "output_type": "stream",
     "text": [
      "{'Epoch': 299, 'Train Loss': 0.16442096906599074, 'Train Accuracy': 0.9484511132623427, 'Val Loss': 0.5062058470158193, 'Val Accuracy': 0.8558994197292069, 'Val Precision': 0.852205410268994, 'Val Recall': 0.8558994197292069}\n"
     ]
    },
    {
     "name": "stderr",
     "output_type": "stream",
     "text": [
      "c:\\Users\\Sid\\AppData\\Local\\Programs\\Python\\Python39\\lib\\site-packages\\huggingface_hub\\file_download.py:1132: FutureWarning: `resume_download` is deprecated and will be removed in version 1.0.0. Downloads always resume when possible. If you want to force a new download, use `force_download=True`.\n",
      "  warnings.warn(\n",
      "Epoch(s):  66%|\u001b[31m██████▋   \u001b[0m| 299/450 [9:11:42<4:38:34, 110.69s/it]"
     ]
    },
    {
     "name": "stdout",
     "output_type": "stream",
     "text": [
      "{'Epoch': 300, 'Train Loss': 0.15949539101635857, 'Train Accuracy': 0.9457889641819942, 'Val Loss': 0.5092012743537243, 'Val Accuracy': 0.8568665377176016, 'Val Precision': 0.8682298196889481, 'Val Recall': 0.8568665377176016}\n"
     ]
    },
    {
     "name": "stderr",
     "output_type": "stream",
     "text": [
      "c:\\Users\\Sid\\AppData\\Local\\Programs\\Python\\Python39\\lib\\site-packages\\huggingface_hub\\file_download.py:1132: FutureWarning: `resume_download` is deprecated and will be removed in version 1.0.0. Downloads always resume when possible. If you want to force a new download, use `force_download=True`.\n",
      "  warnings.warn(\n",
      "Epoch(s):  67%|\u001b[31m██████▋   \u001b[0m| 300/450 [9:13:33<4:36:35, 110.64s/it]"
     ]
    },
    {
     "name": "stdout",
     "output_type": "stream",
     "text": [
      "{'Epoch': 301, 'Train Loss': 0.17341500728635628, 'Train Accuracy': 0.9419167473378509, 'Val Loss': 0.5063677368219942, 'Val Accuracy': 0.8588007736943907, 'Val Precision': 0.8588256881749653, 'Val Recall': 0.8588007736943907}\n"
     ]
    },
    {
     "name": "stderr",
     "output_type": "stream",
     "text": [
      "c:\\Users\\Sid\\AppData\\Local\\Programs\\Python\\Python39\\lib\\site-packages\\huggingface_hub\\file_download.py:1132: FutureWarning: `resume_download` is deprecated and will be removed in version 1.0.0. Downloads always resume when possible. If you want to force a new download, use `force_download=True`.\n",
      "  warnings.warn(\n",
      "Epoch(s):  67%|\u001b[31m██████▋   \u001b[0m| 301/450 [9:15:24<4:34:39, 110.60s/it]"
     ]
    },
    {
     "name": "stdout",
     "output_type": "stream",
     "text": [
      "{'Epoch': 302, 'Train Loss': 0.16391591586776683, 'Train Accuracy': 0.9462729912875121, 'Val Loss': 0.49800121619079546, 'Val Accuracy': 0.8568665377176016, 'Val Precision': 0.8611774010124951, 'Val Recall': 0.8568665377176016}\n"
     ]
    },
    {
     "name": "stderr",
     "output_type": "stream",
     "text": [
      "c:\\Users\\Sid\\AppData\\Local\\Programs\\Python\\Python39\\lib\\site-packages\\huggingface_hub\\file_download.py:1132: FutureWarning: `resume_download` is deprecated and will be removed in version 1.0.0. Downloads always resume when possible. If you want to force a new download, use `force_download=True`.\n",
      "  warnings.warn(\n",
      "Epoch(s):  67%|\u001b[31m██████▋   \u001b[0m| 302/450 [9:17:14<4:32:47, 110.59s/it]"
     ]
    },
    {
     "name": "stdout",
     "output_type": "stream",
     "text": [
      "{'Epoch': 303, 'Train Loss': 0.15613218315725996, 'Train Accuracy': 0.9482090997095838, 'Val Loss': 0.5118099364362514, 'Val Accuracy': 0.8568665377176016, 'Val Precision': 0.8678528550515034, 'Val Recall': 0.8568665377176016}\n"
     ]
    },
    {
     "name": "stderr",
     "output_type": "stream",
     "text": [
      "c:\\Users\\Sid\\AppData\\Local\\Programs\\Python\\Python39\\lib\\site-packages\\huggingface_hub\\file_download.py:1132: FutureWarning: `resume_download` is deprecated and will be removed in version 1.0.0. Downloads always resume when possible. If you want to force a new download, use `force_download=True`.\n",
      "  warnings.warn(\n",
      "Epoch(s):  67%|\u001b[31m██████▋   \u001b[0m| 303/450 [9:19:05<4:30:53, 110.57s/it]"
     ]
    },
    {
     "name": "stdout",
     "output_type": "stream",
     "text": [
      "{'Epoch': 304, 'Train Loss': 0.15847616880893003, 'Train Accuracy': 0.9486931268151017, 'Val Loss': 0.4837122542461237, 'Val Accuracy': 0.8646034816247582, 'Val Precision': 0.8647445465454835, 'Val Recall': 0.8646034816247582}\n"
     ]
    },
    {
     "name": "stderr",
     "output_type": "stream",
     "text": [
      "c:\\Users\\Sid\\AppData\\Local\\Programs\\Python\\Python39\\lib\\site-packages\\huggingface_hub\\file_download.py:1132: FutureWarning: `resume_download` is deprecated and will be removed in version 1.0.0. Downloads always resume when possible. If you want to force a new download, use `force_download=True`.\n",
      "  warnings.warn(\n",
      "Epoch(s):  68%|\u001b[31m██████▊   \u001b[0m| 304/450 [9:20:55<4:29:00, 110.55s/it]"
     ]
    },
    {
     "name": "stdout",
     "output_type": "stream",
     "text": [
      "{'Epoch': 305, 'Train Loss': 0.1590732789520196, 'Train Accuracy': 0.9482090997095838, 'Val Loss': 0.49185516252540623, 'Val Accuracy': 0.8617021276595744, 'Val Precision': 0.8663272484359892, 'Val Recall': 0.8617021276595744}\n"
     ]
    },
    {
     "name": "stderr",
     "output_type": "stream",
     "text": [
      "c:\\Users\\Sid\\AppData\\Local\\Programs\\Python\\Python39\\lib\\site-packages\\huggingface_hub\\file_download.py:1132: FutureWarning: `resume_download` is deprecated and will be removed in version 1.0.0. Downloads always resume when possible. If you want to force a new download, use `force_download=True`.\n",
      "  warnings.warn(\n",
      "Epoch(s):  68%|\u001b[31m██████▊   \u001b[0m| 305/450 [9:22:46<4:27:05, 110.52s/it]"
     ]
    },
    {
     "name": "stdout",
     "output_type": "stream",
     "text": [
      "{'Epoch': 306, 'Train Loss': 0.15667022089923383, 'Train Accuracy': 0.9472410454985479, 'Val Loss': 0.4965475274214091, 'Val Accuracy': 0.8607350096711799, 'Val Precision': 0.8626781798041894, 'Val Recall': 0.8607350096711799}\n"
     ]
    },
    {
     "name": "stderr",
     "output_type": "stream",
     "text": [
      "c:\\Users\\Sid\\AppData\\Local\\Programs\\Python\\Python39\\lib\\site-packages\\huggingface_hub\\file_download.py:1132: FutureWarning: `resume_download` is deprecated and will be removed in version 1.0.0. Downloads always resume when possible. If you want to force a new download, use `force_download=True`.\n",
      "  warnings.warn(\n",
      "Epoch(s):  68%|\u001b[31m██████▊   \u001b[0m| 306/450 [9:24:36<4:25:16, 110.53s/it]"
     ]
    },
    {
     "name": "stdout",
     "output_type": "stream",
     "text": [
      "{'Epoch': 307, 'Train Loss': 0.14725894188961466, 'Train Accuracy': 0.9513552758954501, 'Val Loss': 0.49230089355618334, 'Val Accuracy': 0.8520309477756286, 'Val Precision': 0.8523021485756365, 'Val Recall': 0.8520309477756286}\n"
     ]
    },
    {
     "name": "stderr",
     "output_type": "stream",
     "text": [
      "c:\\Users\\Sid\\AppData\\Local\\Programs\\Python\\Python39\\lib\\site-packages\\huggingface_hub\\file_download.py:1132: FutureWarning: `resume_download` is deprecated and will be removed in version 1.0.0. Downloads always resume when possible. If you want to force a new download, use `force_download=True`.\n",
      "  warnings.warn(\n",
      "Epoch(s):  68%|\u001b[31m██████▊   \u001b[0m| 307/450 [9:26:27<4:23:25, 110.53s/it]"
     ]
    },
    {
     "name": "stdout",
     "output_type": "stream",
     "text": [
      "{'Epoch': 308, 'Train Loss': 0.15074417324764583, 'Train Accuracy': 0.952081316553727, 'Val Loss': 0.5165220444054844, 'Val Accuracy': 0.8520309477756286, 'Val Precision': 0.866604584698413, 'Val Recall': 0.8520309477756286}\n"
     ]
    },
    {
     "name": "stderr",
     "output_type": "stream",
     "text": [
      "c:\\Users\\Sid\\AppData\\Local\\Programs\\Python\\Python39\\lib\\site-packages\\huggingface_hub\\file_download.py:1132: FutureWarning: `resume_download` is deprecated and will be removed in version 1.0.0. Downloads always resume when possible. If you want to force a new download, use `force_download=True`.\n",
      "  warnings.warn(\n",
      "Epoch(s):  68%|\u001b[31m██████▊   \u001b[0m| 308/450 [9:28:17<4:21:33, 110.52s/it]"
     ]
    },
    {
     "name": "stdout",
     "output_type": "stream",
     "text": [
      "{'Epoch': 309, 'Train Loss': 0.14543115969996318, 'Train Accuracy': 0.9537754114230397, 'Val Loss': 0.5235406933200116, 'Val Accuracy': 0.851063829787234, 'Val Precision': 0.8522193139490336, 'Val Recall': 0.851063829787234}\n"
     ]
    },
    {
     "name": "stderr",
     "output_type": "stream",
     "text": [
      "c:\\Users\\Sid\\AppData\\Local\\Programs\\Python\\Python39\\lib\\site-packages\\huggingface_hub\\file_download.py:1132: FutureWarning: `resume_download` is deprecated and will be removed in version 1.0.0. Downloads always resume when possible. If you want to force a new download, use `force_download=True`.\n",
      "  warnings.warn(\n",
      "Epoch(s):  69%|\u001b[31m██████▊   \u001b[0m| 309/450 [9:30:08<4:19:44, 110.53s/it]"
     ]
    },
    {
     "name": "stdout",
     "output_type": "stream",
     "text": [
      "{'Epoch': 310, 'Train Loss': 0.1498565035539546, 'Train Accuracy': 0.9484511132623427, 'Val Loss': 0.4960634140978352, 'Val Accuracy': 0.8617021276595744, 'Val Precision': 0.8679989923385367, 'Val Recall': 0.8617021276595744}\n"
     ]
    },
    {
     "name": "stderr",
     "output_type": "stream",
     "text": [
      "c:\\Users\\Sid\\AppData\\Local\\Programs\\Python\\Python39\\lib\\site-packages\\huggingface_hub\\file_download.py:1132: FutureWarning: `resume_download` is deprecated and will be removed in version 1.0.0. Downloads always resume when possible. If you want to force a new download, use `force_download=True`.\n",
      "  warnings.warn(\n",
      "Epoch(s):  69%|\u001b[31m██████▉   \u001b[0m| 310/450 [9:31:58<4:17:55, 110.54s/it]"
     ]
    },
    {
     "name": "stdout",
     "output_type": "stream",
     "text": [
      "{'Epoch': 311, 'Train Loss': 0.14945626166717932, 'Train Accuracy': 0.9515972894482091, 'Val Loss': 0.49311046405122255, 'Val Accuracy': 0.8578336557059961, 'Val Precision': 0.8613198965492429, 'Val Recall': 0.8578336557059961}\n"
     ]
    },
    {
     "name": "stderr",
     "output_type": "stream",
     "text": [
      "c:\\Users\\Sid\\AppData\\Local\\Programs\\Python\\Python39\\lib\\site-packages\\huggingface_hub\\file_download.py:1132: FutureWarning: `resume_download` is deprecated and will be removed in version 1.0.0. Downloads always resume when possible. If you want to force a new download, use `force_download=True`.\n",
      "  warnings.warn(\n",
      "Epoch(s):  69%|\u001b[31m██████▉   \u001b[0m| 311/450 [9:33:49<4:16:04, 110.54s/it]"
     ]
    },
    {
     "name": "stdout",
     "output_type": "stream",
     "text": [
      "{'Epoch': 312, 'Train Loss': 0.15849049937907736, 'Train Accuracy': 0.9457889641819942, 'Val Loss': 0.5423816418275237, 'Val Accuracy': 0.8529980657640233, 'Val Precision': 0.865058581238282, 'Val Recall': 0.8529980657640233}\n"
     ]
    },
    {
     "name": "stderr",
     "output_type": "stream",
     "text": [
      "c:\\Users\\Sid\\AppData\\Local\\Programs\\Python\\Python39\\lib\\site-packages\\huggingface_hub\\file_download.py:1132: FutureWarning: `resume_download` is deprecated and will be removed in version 1.0.0. Downloads always resume when possible. If you want to force a new download, use `force_download=True`.\n",
      "  warnings.warn(\n",
      "Epoch(s):  69%|\u001b[31m██████▉   \u001b[0m| 312/450 [9:35:39<4:14:12, 110.53s/it]"
     ]
    },
    {
     "name": "stdout",
     "output_type": "stream",
     "text": [
      "{'Epoch': 313, 'Train Loss': 0.16232098089252386, 'Train Accuracy': 0.9457889641819942, 'Val Loss': 0.5218934969439243, 'Val Accuracy': 0.8617021276595744, 'Val Precision': 0.86672452351699, 'Val Recall': 0.8617021276595744}\n"
     ]
    },
    {
     "name": "stderr",
     "output_type": "stream",
     "text": [
      "c:\\Users\\Sid\\AppData\\Local\\Programs\\Python\\Python39\\lib\\site-packages\\huggingface_hub\\file_download.py:1132: FutureWarning: `resume_download` is deprecated and will be removed in version 1.0.0. Downloads always resume when possible. If you want to force a new download, use `force_download=True`.\n",
      "  warnings.warn(\n",
      "Epoch(s):  70%|\u001b[31m██████▉   \u001b[0m| 313/450 [9:37:30<4:12:23, 110.53s/it]"
     ]
    },
    {
     "name": "stdout",
     "output_type": "stream",
     "text": [
      "{'Epoch': 314, 'Train Loss': 0.15493577304988396, 'Train Accuracy': 0.9469990319457889, 'Val Loss': 0.5262630148468396, 'Val Accuracy': 0.8520309477756286, 'Val Precision': 0.8640349839570259, 'Val Recall': 0.8520309477756286}\n"
     ]
    },
    {
     "name": "stderr",
     "output_type": "stream",
     "text": [
      "c:\\Users\\Sid\\AppData\\Local\\Programs\\Python\\Python39\\lib\\site-packages\\huggingface_hub\\file_download.py:1132: FutureWarning: `resume_download` is deprecated and will be removed in version 1.0.0. Downloads always resume when possible. If you want to force a new download, use `force_download=True`.\n",
      "  warnings.warn(\n",
      "Epoch(s):  70%|\u001b[31m██████▉   \u001b[0m| 314/450 [9:39:20<4:10:32, 110.53s/it]"
     ]
    },
    {
     "name": "stdout",
     "output_type": "stream",
     "text": [
      "{'Epoch': 315, 'Train Loss': 0.15187029653268375, 'Train Accuracy': 0.9486931268151017, 'Val Loss': 0.49996043987966216, 'Val Accuracy': 0.8597678916827853, 'Val Precision': 0.8640522291606364, 'Val Recall': 0.8597678916827853}\n"
     ]
    },
    {
     "name": "stderr",
     "output_type": "stream",
     "text": [
      "c:\\Users\\Sid\\AppData\\Local\\Programs\\Python\\Python39\\lib\\site-packages\\huggingface_hub\\file_download.py:1132: FutureWarning: `resume_download` is deprecated and will be removed in version 1.0.0. Downloads always resume when possible. If you want to force a new download, use `force_download=True`.\n",
      "  warnings.warn(\n",
      "Epoch(s):  70%|\u001b[31m███████   \u001b[0m| 315/450 [9:41:11<4:08:38, 110.51s/it]"
     ]
    },
    {
     "name": "stdout",
     "output_type": "stream",
     "text": [
      "{'Epoch': 316, 'Train Loss': 0.14183303075874024, 'Train Accuracy': 0.9547434656340755, 'Val Loss': 0.5009252467147934, 'Val Accuracy': 0.8646034816247582, 'Val Precision': 0.8636054822513028, 'Val Recall': 0.8646034816247582}\n"
     ]
    },
    {
     "name": "stderr",
     "output_type": "stream",
     "text": [
      "c:\\Users\\Sid\\AppData\\Local\\Programs\\Python\\Python39\\lib\\site-packages\\huggingface_hub\\file_download.py:1132: FutureWarning: `resume_download` is deprecated and will be removed in version 1.0.0. Downloads always resume when possible. If you want to force a new download, use `force_download=True`.\n",
      "  warnings.warn(\n",
      "Epoch(s):  70%|\u001b[31m███████   \u001b[0m| 316/450 [9:43:02<4:07:05, 110.64s/it]"
     ]
    },
    {
     "name": "stdout",
     "output_type": "stream",
     "text": [
      "{'Epoch': 317, 'Train Loss': 0.14598950128876478, 'Train Accuracy': 0.9467570183930301, 'Val Loss': 0.5199542541540443, 'Val Accuracy': 0.8607350096711799, 'Val Precision': 0.8634257135807184, 'Val Recall': 0.8607350096711799}\n"
     ]
    },
    {
     "name": "stderr",
     "output_type": "stream",
     "text": [
      "c:\\Users\\Sid\\AppData\\Local\\Programs\\Python\\Python39\\lib\\site-packages\\huggingface_hub\\file_download.py:1132: FutureWarning: `resume_download` is deprecated and will be removed in version 1.0.0. Downloads always resume when possible. If you want to force a new download, use `force_download=True`.\n",
      "  warnings.warn(\n",
      "Epoch(s):  70%|\u001b[31m███████   \u001b[0m| 317/450 [9:44:52<4:05:13, 110.63s/it]"
     ]
    },
    {
     "name": "stdout",
     "output_type": "stream",
     "text": [
      "{'Epoch': 318, 'Train Loss': 0.14754013045921088, 'Train Accuracy': 0.9513552758954501, 'Val Loss': 0.5154404736052339, 'Val Accuracy': 0.8597678916827853, 'Val Precision': 0.8667924440471929, 'Val Recall': 0.8597678916827853}\n"
     ]
    },
    {
     "name": "stderr",
     "output_type": "stream",
     "text": [
      "c:\\Users\\Sid\\AppData\\Local\\Programs\\Python\\Python39\\lib\\site-packages\\huggingface_hub\\file_download.py:1132: FutureWarning: `resume_download` is deprecated and will be removed in version 1.0.0. Downloads always resume when possible. If you want to force a new download, use `force_download=True`.\n",
      "  warnings.warn(\n",
      "Epoch(s):  71%|\u001b[31m███████   \u001b[0m| 318/450 [9:46:43<4:03:16, 110.58s/it]"
     ]
    },
    {
     "name": "stdout",
     "output_type": "stream",
     "text": [
      "{'Epoch': 319, 'Train Loss': 0.1430050486489289, 'Train Accuracy': 0.9508712487899322, 'Val Loss': 0.5390651270532264, 'Val Accuracy': 0.8558994197292069, 'Val Precision': 0.8658553206795829, 'Val Recall': 0.8558994197292069}\n"
     ]
    },
    {
     "name": "stderr",
     "output_type": "stream",
     "text": [
      "c:\\Users\\Sid\\AppData\\Local\\Programs\\Python\\Python39\\lib\\site-packages\\huggingface_hub\\file_download.py:1132: FutureWarning: `resume_download` is deprecated and will be removed in version 1.0.0. Downloads always resume when possible. If you want to force a new download, use `force_download=True`.\n",
      "  warnings.warn(\n",
      "Epoch(s):  71%|\u001b[31m███████   \u001b[0m| 319/450 [9:48:33<4:01:22, 110.56s/it]"
     ]
    },
    {
     "name": "stdout",
     "output_type": "stream",
     "text": [
      "{'Epoch': 320, 'Train Loss': 0.1512170723607066, 'Train Accuracy': 0.9508712487899322, 'Val Loss': 0.5702620155392931, 'Val Accuracy': 0.8471953578336557, 'Val Precision': 0.8593418847692378, 'Val Recall': 0.8471953578336557}\n"
     ]
    },
    {
     "name": "stderr",
     "output_type": "stream",
     "text": [
      "c:\\Users\\Sid\\AppData\\Local\\Programs\\Python\\Python39\\lib\\site-packages\\huggingface_hub\\file_download.py:1132: FutureWarning: `resume_download` is deprecated and will be removed in version 1.0.0. Downloads always resume when possible. If you want to force a new download, use `force_download=True`.\n",
      "  warnings.warn(\n",
      "Epoch(s):  71%|\u001b[31m███████   \u001b[0m| 320/450 [9:50:24<3:59:48, 110.68s/it]"
     ]
    },
    {
     "name": "stdout",
     "output_type": "stream",
     "text": [
      "{'Epoch': 321, 'Train Loss': 0.15213131312962755, 'Train Accuracy': 0.9477250726040658, 'Val Loss': 0.5031027851715827, 'Val Accuracy': 0.8597678916827853, 'Val Precision': 0.8637928097862987, 'Val Recall': 0.8597678916827853}\n"
     ]
    },
    {
     "name": "stderr",
     "output_type": "stream",
     "text": [
      "c:\\Users\\Sid\\AppData\\Local\\Programs\\Python\\Python39\\lib\\site-packages\\huggingface_hub\\file_download.py:1132: FutureWarning: `resume_download` is deprecated and will be removed in version 1.0.0. Downloads always resume when possible. If you want to force a new download, use `force_download=True`.\n",
      "  warnings.warn(\n",
      "Epoch(s):  71%|\u001b[31m███████▏  \u001b[0m| 321/450 [9:52:15<3:57:53, 110.65s/it]"
     ]
    },
    {
     "name": "stdout",
     "output_type": "stream",
     "text": [
      "{'Epoch': 322, 'Train Loss': 0.14606631939878334, 'Train Accuracy': 0.9528073572120038, 'Val Loss': 0.5148089685978797, 'Val Accuracy': 0.8626692456479691, 'Val Precision': 0.8695611138045264, 'Val Recall': 0.8626692456479691}\n"
     ]
    },
    {
     "name": "stderr",
     "output_type": "stream",
     "text": [
      "c:\\Users\\Sid\\AppData\\Local\\Programs\\Python\\Python39\\lib\\site-packages\\huggingface_hub\\file_download.py:1132: FutureWarning: `resume_download` is deprecated and will be removed in version 1.0.0. Downloads always resume when possible. If you want to force a new download, use `force_download=True`.\n",
      "  warnings.warn(\n",
      "Epoch(s):  72%|\u001b[31m███████▏  \u001b[0m| 322/450 [9:54:05<3:55:56, 110.60s/it]"
     ]
    },
    {
     "name": "stdout",
     "output_type": "stream",
     "text": [
      "{'Epoch': 323, 'Train Loss': 0.13754106377760258, 'Train Accuracy': 0.957889641819942, 'Val Loss': 0.4929524440569087, 'Val Accuracy': 0.867504835589942, 'Val Precision': 0.8644740621057898, 'Val Recall': 0.867504835589942}\n"
     ]
    },
    {
     "name": "stderr",
     "output_type": "stream",
     "text": [
      "c:\\Users\\Sid\\AppData\\Local\\Programs\\Python\\Python39\\lib\\site-packages\\huggingface_hub\\file_download.py:1132: FutureWarning: `resume_download` is deprecated and will be removed in version 1.0.0. Downloads always resume when possible. If you want to force a new download, use `force_download=True`.\n",
      "  warnings.warn(\n",
      "Epoch(s):  72%|\u001b[31m███████▏  \u001b[0m| 323/450 [9:55:56<3:54:04, 110.58s/it]"
     ]
    },
    {
     "name": "stdout",
     "output_type": "stream",
     "text": [
      "{'Epoch': 324, 'Train Loss': 0.14283912362527232, 'Train Accuracy': 0.952081316553727, 'Val Loss': 0.5156528970226646, 'Val Accuracy': 0.8607350096711799, 'Val Precision': 0.8661367878673981, 'Val Recall': 0.8607350096711799}\n"
     ]
    },
    {
     "name": "stderr",
     "output_type": "stream",
     "text": [
      "c:\\Users\\Sid\\AppData\\Local\\Programs\\Python\\Python39\\lib\\site-packages\\huggingface_hub\\file_download.py:1132: FutureWarning: `resume_download` is deprecated and will be removed in version 1.0.0. Downloads always resume when possible. If you want to force a new download, use `force_download=True`.\n",
      "  warnings.warn(\n",
      "Epoch(s):  72%|\u001b[31m███████▏  \u001b[0m| 324/450 [9:57:47<3:52:26, 110.69s/it]"
     ]
    },
    {
     "name": "stdout",
     "output_type": "stream",
     "text": [
      "{'Epoch': 325, 'Train Loss': 0.13944977129500316, 'Train Accuracy': 0.9530493707647628, 'Val Loss': 0.532843679562211, 'Val Accuracy': 0.8500967117988395, 'Val Precision': 0.8592577946206504, 'Val Recall': 0.8500967117988395}\n"
     ]
    },
    {
     "name": "stderr",
     "output_type": "stream",
     "text": [
      "c:\\Users\\Sid\\AppData\\Local\\Programs\\Python\\Python39\\lib\\site-packages\\huggingface_hub\\file_download.py:1132: FutureWarning: `resume_download` is deprecated and will be removed in version 1.0.0. Downloads always resume when possible. If you want to force a new download, use `force_download=True`.\n",
      "  warnings.warn(\n",
      "Epoch(s):  72%|\u001b[31m███████▏  \u001b[0m| 325/450 [9:59:37<3:50:31, 110.65s/it]"
     ]
    },
    {
     "name": "stdout",
     "output_type": "stream",
     "text": [
      "{'Epoch': 326, 'Train Loss': 0.14399024160150942, 'Train Accuracy': 0.9511132623426912, 'Val Loss': 0.5352187007844734, 'Val Accuracy': 0.8588007736943907, 'Val Precision': 0.8682077129350956, 'Val Recall': 0.8588007736943907}\n"
     ]
    },
    {
     "name": "stderr",
     "output_type": "stream",
     "text": [
      "c:\\Users\\Sid\\AppData\\Local\\Programs\\Python\\Python39\\lib\\site-packages\\huggingface_hub\\file_download.py:1132: FutureWarning: `resume_download` is deprecated and will be removed in version 1.0.0. Downloads always resume when possible. If you want to force a new download, use `force_download=True`.\n",
      "  warnings.warn(\n",
      "Epoch(s):  72%|\u001b[31m███████▏  \u001b[0m| 326/450 [10:01:28<3:48:38, 110.63s/it]"
     ]
    },
    {
     "name": "stdout",
     "output_type": "stream",
     "text": [
      "{'Epoch': 327, 'Train Loss': 0.135063400314078, 'Train Accuracy': 0.9530493707647628, 'Val Loss': 0.5187535194133838, 'Val Accuracy': 0.8558994197292069, 'Val Precision': 0.8547132411720588, 'Val Recall': 0.8558994197292069}\n"
     ]
    },
    {
     "name": "stderr",
     "output_type": "stream",
     "text": [
      "c:\\Users\\Sid\\AppData\\Local\\Programs\\Python\\Python39\\lib\\site-packages\\huggingface_hub\\file_download.py:1132: FutureWarning: `resume_download` is deprecated and will be removed in version 1.0.0. Downloads always resume when possible. If you want to force a new download, use `force_download=True`.\n",
      "  warnings.warn(\n",
      "Epoch(s):  73%|\u001b[31m███████▎  \u001b[0m| 327/450 [10:03:19<3:46:47, 110.63s/it]"
     ]
    },
    {
     "name": "stdout",
     "output_type": "stream",
     "text": [
      "{'Epoch': 328, 'Train Loss': 0.12986045325290443, 'Train Accuracy': 0.9552274927395934, 'Val Loss': 0.5361945865944457, 'Val Accuracy': 0.8578336557059961, 'Val Precision': 0.8625482014270061, 'Val Recall': 0.8578336557059961}\n"
     ]
    },
    {
     "name": "stderr",
     "output_type": "stream",
     "text": [
      "c:\\Users\\Sid\\AppData\\Local\\Programs\\Python\\Python39\\lib\\site-packages\\huggingface_hub\\file_download.py:1132: FutureWarning: `resume_download` is deprecated and will be removed in version 1.0.0. Downloads always resume when possible. If you want to force a new download, use `force_download=True`.\n",
      "  warnings.warn(\n",
      "Epoch(s):  73%|\u001b[31m███████▎  \u001b[0m| 328/450 [10:05:09<3:45:05, 110.70s/it]"
     ]
    },
    {
     "name": "stdout",
     "output_type": "stream",
     "text": [
      "{'Epoch': 329, 'Train Loss': 0.1370691188854259, 'Train Accuracy': 0.9537754114230397, 'Val Loss': 0.6175468357029156, 'Val Accuracy': 0.8355899419729207, 'Val Precision': 0.8594693170114899, 'Val Recall': 0.8355899419729207}\n"
     ]
    },
    {
     "name": "stderr",
     "output_type": "stream",
     "text": [
      "c:\\Users\\Sid\\AppData\\Local\\Programs\\Python\\Python39\\lib\\site-packages\\huggingface_hub\\file_download.py:1132: FutureWarning: `resume_download` is deprecated and will be removed in version 1.0.0. Downloads always resume when possible. If you want to force a new download, use `force_download=True`.\n",
      "  warnings.warn(\n",
      "Epoch(s):  73%|\u001b[31m███████▎  \u001b[0m| 329/450 [10:07:00<3:43:08, 110.64s/it]"
     ]
    },
    {
     "name": "stdout",
     "output_type": "stream",
     "text": [
      "{'Epoch': 330, 'Train Loss': 0.14043067895525727, 'Train Accuracy': 0.9532913843175218, 'Val Loss': 0.5253636033390648, 'Val Accuracy': 0.8588007736943907, 'Val Precision': 0.8603173641553943, 'Val Recall': 0.8588007736943907}\n"
     ]
    },
    {
     "name": "stderr",
     "output_type": "stream",
     "text": [
      "c:\\Users\\Sid\\AppData\\Local\\Programs\\Python\\Python39\\lib\\site-packages\\huggingface_hub\\file_download.py:1132: FutureWarning: `resume_download` is deprecated and will be removed in version 1.0.0. Downloads always resume when possible. If you want to force a new download, use `force_download=True`.\n",
      "  warnings.warn(\n",
      "Epoch(s):  73%|\u001b[31m███████▎  \u001b[0m| 330/450 [10:08:51<3:41:43, 110.86s/it]"
     ]
    },
    {
     "name": "stdout",
     "output_type": "stream",
     "text": [
      "{'Epoch': 331, 'Train Loss': 0.14158835247317222, 'Train Accuracy': 0.952081316553727, 'Val Loss': 0.5379891824263793, 'Val Accuracy': 0.8520309477756286, 'Val Precision': 0.8498392723976949, 'Val Recall': 0.8520309477756286}\n"
     ]
    },
    {
     "name": "stderr",
     "output_type": "stream",
     "text": [
      "c:\\Users\\Sid\\AppData\\Local\\Programs\\Python\\Python39\\lib\\site-packages\\huggingface_hub\\file_download.py:1132: FutureWarning: `resume_download` is deprecated and will be removed in version 1.0.0. Downloads always resume when possible. If you want to force a new download, use `force_download=True`.\n",
      "  warnings.warn(\n",
      "Epoch(s):  74%|\u001b[31m███████▎  \u001b[0m| 331/450 [10:10:42<3:39:43, 110.78s/it]"
     ]
    },
    {
     "name": "stdout",
     "output_type": "stream",
     "text": [
      "{'Epoch': 332, 'Train Loss': 0.14229567257049638, 'Train Accuracy': 0.9484511132623427, 'Val Loss': 0.5372810865967319, 'Val Accuracy': 0.8529980657640233, 'Val Precision': 0.8579779778969528, 'Val Recall': 0.8529980657640233}\n"
     ]
    },
    {
     "name": "stderr",
     "output_type": "stream",
     "text": [
      "c:\\Users\\Sid\\AppData\\Local\\Programs\\Python\\Python39\\lib\\site-packages\\huggingface_hub\\file_download.py:1132: FutureWarning: `resume_download` is deprecated and will be removed in version 1.0.0. Downloads always resume when possible. If you want to force a new download, use `force_download=True`.\n",
      "  warnings.warn(\n",
      "Epoch(s):  74%|\u001b[31m███████▍  \u001b[0m| 332/450 [10:12:33<3:38:13, 110.96s/it]"
     ]
    },
    {
     "name": "stdout",
     "output_type": "stream",
     "text": [
      "{'Epoch': 333, 'Train Loss': 0.13556809402779993, 'Train Accuracy': 0.9537754114230397, 'Val Loss': 0.5153591202930189, 'Val Accuracy': 0.8607350096711799, 'Val Precision': 0.8656511531802203, 'Val Recall': 0.8607350096711799}\n"
     ]
    },
    {
     "name": "stderr",
     "output_type": "stream",
     "text": [
      "c:\\Users\\Sid\\AppData\\Local\\Programs\\Python\\Python39\\lib\\site-packages\\huggingface_hub\\file_download.py:1132: FutureWarning: `resume_download` is deprecated and will be removed in version 1.0.0. Downloads always resume when possible. If you want to force a new download, use `force_download=True`.\n",
      "  warnings.warn(\n",
      "Epoch(s):  74%|\u001b[31m███████▍  \u001b[0m| 333/450 [10:14:24<3:36:11, 110.87s/it]"
     ]
    },
    {
     "name": "stdout",
     "output_type": "stream",
     "text": [
      "{'Epoch': 334, 'Train Loss': 0.13595428442066484, 'Train Accuracy': 0.952565343659245, 'Val Loss': 0.5599982073172354, 'Val Accuracy': 0.8529980657640233, 'Val Precision': 0.855547502809073, 'Val Recall': 0.8529980657640233}\n"
     ]
    },
    {
     "name": "stderr",
     "output_type": "stream",
     "text": [
      "c:\\Users\\Sid\\AppData\\Local\\Programs\\Python\\Python39\\lib\\site-packages\\huggingface_hub\\file_download.py:1132: FutureWarning: `resume_download` is deprecated and will be removed in version 1.0.0. Downloads always resume when possible. If you want to force a new download, use `force_download=True`.\n",
      "  warnings.warn(\n",
      "Epoch(s):  74%|\u001b[31m███████▍  \u001b[0m| 334/450 [10:16:15<3:34:22, 110.89s/it]"
     ]
    },
    {
     "name": "stdout",
     "output_type": "stream",
     "text": [
      "{'Epoch': 335, 'Train Loss': 0.1353938802110362, 'Train Accuracy': 0.9566795740561471, 'Val Loss': 0.5211264261944542, 'Val Accuracy': 0.8558994197292069, 'Val Precision': 0.8546453488717334, 'Val Recall': 0.8558994197292069}\n"
     ]
    },
    {
     "name": "stderr",
     "output_type": "stream",
     "text": [
      "c:\\Users\\Sid\\AppData\\Local\\Programs\\Python\\Python39\\lib\\site-packages\\huggingface_hub\\file_download.py:1132: FutureWarning: `resume_download` is deprecated and will be removed in version 1.0.0. Downloads always resume when possible. If you want to force a new download, use `force_download=True`.\n",
      "  warnings.warn(\n",
      "Epoch(s):  74%|\u001b[31m███████▍  \u001b[0m| 335/450 [10:18:05<3:32:17, 110.76s/it]"
     ]
    },
    {
     "name": "stdout",
     "output_type": "stream",
     "text": [
      "{'Epoch': 336, 'Train Loss': 0.13229333573384175, 'Train Accuracy': 0.9535333978702807, 'Val Loss': 0.5128296903746489, 'Val Accuracy': 0.8617021276595744, 'Val Precision': 0.8682731794005124, 'Val Recall': 0.8617021276595744}\n"
     ]
    },
    {
     "name": "stderr",
     "output_type": "stream",
     "text": [
      "c:\\Users\\Sid\\AppData\\Local\\Programs\\Python\\Python39\\lib\\site-packages\\huggingface_hub\\file_download.py:1132: FutureWarning: `resume_download` is deprecated and will be removed in version 1.0.0. Downloads always resume when possible. If you want to force a new download, use `force_download=True`.\n",
      "  warnings.warn(\n",
      "Epoch(s):  75%|\u001b[31m███████▍  \u001b[0m| 336/450 [10:19:56<3:30:35, 110.84s/it]"
     ]
    },
    {
     "name": "stdout",
     "output_type": "stream",
     "text": [
      "{'Epoch': 337, 'Train Loss': 0.12827275315583703, 'Train Accuracy': 0.957889641819942, 'Val Loss': 0.5029348668722937, 'Val Accuracy': 0.8646034816247582, 'Val Precision': 0.8672053264127078, 'Val Recall': 0.8646034816247582}\n"
     ]
    },
    {
     "name": "stderr",
     "output_type": "stream",
     "text": [
      "c:\\Users\\Sid\\AppData\\Local\\Programs\\Python\\Python39\\lib\\site-packages\\huggingface_hub\\file_download.py:1132: FutureWarning: `resume_download` is deprecated and will be removed in version 1.0.0. Downloads always resume when possible. If you want to force a new download, use `force_download=True`.\n",
      "  warnings.warn(\n",
      "Epoch(s):  75%|\u001b[31m███████▍  \u001b[0m| 337/450 [10:21:47<3:28:34, 110.74s/it]"
     ]
    },
    {
     "name": "stdout",
     "output_type": "stream",
     "text": [
      "{'Epoch': 338, 'Train Loss': 0.1300392603217606, 'Train Accuracy': 0.957889641819942, 'Val Loss': 0.5697178072045342, 'Val Accuracy': 0.8491295938104448, 'Val Precision': 0.8690221377361173, 'Val Recall': 0.8491295938104448}\n"
     ]
    },
    {
     "name": "stderr",
     "output_type": "stream",
     "text": [
      "c:\\Users\\Sid\\AppData\\Local\\Programs\\Python\\Python39\\lib\\site-packages\\huggingface_hub\\file_download.py:1132: FutureWarning: `resume_download` is deprecated and will be removed in version 1.0.0. Downloads always resume when possible. If you want to force a new download, use `force_download=True`.\n",
      "  warnings.warn(\n",
      "Epoch(s):  75%|\u001b[31m███████▌  \u001b[0m| 338/450 [10:23:37<3:26:35, 110.67s/it]"
     ]
    },
    {
     "name": "stdout",
     "output_type": "stream",
     "text": [
      "{'Epoch': 339, 'Train Loss': 0.13266266562974144, 'Train Accuracy': 0.952565343659245, 'Val Loss': 0.556243768697515, 'Val Accuracy': 0.8597678916827853, 'Val Precision': 0.8649010571381422, 'Val Recall': 0.8597678916827853}\n"
     ]
    },
    {
     "name": "stderr",
     "output_type": "stream",
     "text": [
      "c:\\Users\\Sid\\AppData\\Local\\Programs\\Python\\Python39\\lib\\site-packages\\huggingface_hub\\file_download.py:1132: FutureWarning: `resume_download` is deprecated and will be removed in version 1.0.0. Downloads always resume when possible. If you want to force a new download, use `force_download=True`.\n",
      "  warnings.warn(\n",
      "Epoch(s):  75%|\u001b[31m███████▌  \u001b[0m| 339/450 [10:25:28<3:24:38, 110.62s/it]"
     ]
    },
    {
     "name": "stdout",
     "output_type": "stream",
     "text": [
      "{'Epoch': 340, 'Train Loss': 0.12356477182558072, 'Train Accuracy': 0.9593417231364957, 'Val Loss': 0.545084428692756, 'Val Accuracy': 0.8626692456479691, 'Val Precision': 0.8601167269516043, 'Val Recall': 0.8626692456479691}\n"
     ]
    },
    {
     "name": "stderr",
     "output_type": "stream",
     "text": [
      "c:\\Users\\Sid\\AppData\\Local\\Programs\\Python\\Python39\\lib\\site-packages\\huggingface_hub\\file_download.py:1132: FutureWarning: `resume_download` is deprecated and will be removed in version 1.0.0. Downloads always resume when possible. If you want to force a new download, use `force_download=True`.\n",
      "  warnings.warn(\n",
      "Epoch(s):  76%|\u001b[31m███████▌  \u001b[0m| 340/450 [10:27:19<3:22:48, 110.62s/it]"
     ]
    },
    {
     "name": "stdout",
     "output_type": "stream",
     "text": [
      "{'Epoch': 341, 'Train Loss': 0.12350794673887437, 'Train Accuracy': 0.9598257502420136, 'Val Loss': 0.5215494059384442, 'Val Accuracy': 0.8607350096711799, 'Val Precision': 0.85859427645189, 'Val Recall': 0.8607350096711799}\n"
     ]
    },
    {
     "name": "stderr",
     "output_type": "stream",
     "text": [
      "c:\\Users\\Sid\\AppData\\Local\\Programs\\Python\\Python39\\lib\\site-packages\\huggingface_hub\\file_download.py:1132: FutureWarning: `resume_download` is deprecated and will be removed in version 1.0.0. Downloads always resume when possible. If you want to force a new download, use `force_download=True`.\n",
      "  warnings.warn(\n",
      "Epoch(s):  76%|\u001b[31m███████▌  \u001b[0m| 341/450 [10:29:09<3:20:53, 110.58s/it]"
     ]
    },
    {
     "name": "stdout",
     "output_type": "stream",
     "text": [
      "{'Epoch': 342, 'Train Loss': 0.1292266490202645, 'Train Accuracy': 0.9535333978702807, 'Val Loss': 0.5630053252680227, 'Val Accuracy': 0.8481624758220503, 'Val Precision': 0.8638319857642389, 'Val Recall': 0.8481624758220503}\n"
     ]
    },
    {
     "name": "stderr",
     "output_type": "stream",
     "text": [
      "c:\\Users\\Sid\\AppData\\Local\\Programs\\Python\\Python39\\lib\\site-packages\\huggingface_hub\\file_download.py:1132: FutureWarning: `resume_download` is deprecated and will be removed in version 1.0.0. Downloads always resume when possible. If you want to force a new download, use `force_download=True`.\n",
      "  warnings.warn(\n",
      "Epoch(s):  76%|\u001b[31m███████▌  \u001b[0m| 342/450 [10:31:00<3:19:14, 110.69s/it]"
     ]
    },
    {
     "name": "stdout",
     "output_type": "stream",
     "text": [
      "{'Epoch': 343, 'Train Loss': 0.12814877297918933, 'Train Accuracy': 0.9590997095837367, 'Val Loss': 0.526514870403424, 'Val Accuracy': 0.8588007736943907, 'Val Precision': 0.8578991577892735, 'Val Recall': 0.8588007736943907}\n"
     ]
    },
    {
     "name": "stderr",
     "output_type": "stream",
     "text": [
      "c:\\Users\\Sid\\AppData\\Local\\Programs\\Python\\Python39\\lib\\site-packages\\huggingface_hub\\file_download.py:1132: FutureWarning: `resume_download` is deprecated and will be removed in version 1.0.0. Downloads always resume when possible. If you want to force a new download, use `force_download=True`.\n",
      "  warnings.warn(\n",
      "Epoch(s):  76%|\u001b[31m███████▌  \u001b[0m| 343/450 [10:32:51<3:17:32, 110.77s/it]"
     ]
    },
    {
     "name": "stdout",
     "output_type": "stream",
     "text": [
      "{'Epoch': 344, 'Train Loss': 0.12700032583259416, 'Train Accuracy': 0.9552274927395934, 'Val Loss': 0.5434664128088535, 'Val Accuracy': 0.8539651837524178, 'Val Precision': 0.8529692812520184, 'Val Recall': 0.8539651837524178}\n"
     ]
    },
    {
     "name": "stderr",
     "output_type": "stream",
     "text": [
      "c:\\Users\\Sid\\AppData\\Local\\Programs\\Python\\Python39\\lib\\site-packages\\huggingface_hub\\file_download.py:1132: FutureWarning: `resume_download` is deprecated and will be removed in version 1.0.0. Downloads always resume when possible. If you want to force a new download, use `force_download=True`.\n",
      "  warnings.warn(\n",
      "Epoch(s):  76%|\u001b[31m███████▋  \u001b[0m| 344/450 [10:34:41<3:15:33, 110.69s/it]"
     ]
    },
    {
     "name": "stdout",
     "output_type": "stream",
     "text": [
      "{'Epoch': 345, 'Train Loss': 0.11943107585869478, 'Train Accuracy': 0.9607938044530494, 'Val Loss': 0.5198244109122943, 'Val Accuracy': 0.8588007736943907, 'Val Precision': 0.8648236641990462, 'Val Recall': 0.8588007736943907}\n"
     ]
    },
    {
     "name": "stderr",
     "output_type": "stream",
     "text": [
      "c:\\Users\\Sid\\AppData\\Local\\Programs\\Python\\Python39\\lib\\site-packages\\huggingface_hub\\file_download.py:1132: FutureWarning: `resume_download` is deprecated and will be removed in version 1.0.0. Downloads always resume when possible. If you want to force a new download, use `force_download=True`.\n",
      "  warnings.warn(\n",
      "Epoch(s):  77%|\u001b[31m███████▋  \u001b[0m| 345/450 [10:36:32<3:13:34, 110.61s/it]"
     ]
    },
    {
     "name": "stdout",
     "output_type": "stream",
     "text": [
      "{'Epoch': 346, 'Train Loss': 0.12397240538545165, 'Train Accuracy': 0.957647628267183, 'Val Loss': 0.5418215450544197, 'Val Accuracy': 0.8626692456479691, 'Val Precision': 0.8670944313651915, 'Val Recall': 0.8626692456479691}\n"
     ]
    },
    {
     "name": "stderr",
     "output_type": "stream",
     "text": [
      "c:\\Users\\Sid\\AppData\\Local\\Programs\\Python\\Python39\\lib\\site-packages\\huggingface_hub\\file_download.py:1132: FutureWarning: `resume_download` is deprecated and will be removed in version 1.0.0. Downloads always resume when possible. If you want to force a new download, use `force_download=True`.\n",
      "  warnings.warn(\n",
      "Epoch(s):  77%|\u001b[31m███████▋  \u001b[0m| 346/450 [10:38:22<3:11:41, 110.59s/it]"
     ]
    },
    {
     "name": "stdout",
     "output_type": "stream",
     "text": [
      "{'Epoch': 347, 'Train Loss': 0.12632758665120167, 'Train Accuracy': 0.9554695062923524, 'Val Loss': 0.5595673730310339, 'Val Accuracy': 0.8588007736943907, 'Val Precision': 0.8645068983507412, 'Val Recall': 0.8588007736943907}\n"
     ]
    },
    {
     "name": "stderr",
     "output_type": "stream",
     "text": [
      "c:\\Users\\Sid\\AppData\\Local\\Programs\\Python\\Python39\\lib\\site-packages\\huggingface_hub\\file_download.py:1132: FutureWarning: `resume_download` is deprecated and will be removed in version 1.0.0. Downloads always resume when possible. If you want to force a new download, use `force_download=True`.\n",
      "  warnings.warn(\n",
      "Epoch(s):  77%|\u001b[31m███████▋  \u001b[0m| 347/450 [10:40:13<3:09:47, 110.56s/it]"
     ]
    },
    {
     "name": "stdout",
     "output_type": "stream",
     "text": [
      "{'Epoch': 348, 'Train Loss': 0.12413276659017321, 'Train Accuracy': 0.957889641819942, 'Val Loss': 0.5430298154296067, 'Val Accuracy': 0.8665377176015474, 'Val Precision': 0.8688228603789655, 'Val Recall': 0.8665377176015474}\n"
     ]
    },
    {
     "name": "stderr",
     "output_type": "stream",
     "text": [
      "c:\\Users\\Sid\\AppData\\Local\\Programs\\Python\\Python39\\lib\\site-packages\\huggingface_hub\\file_download.py:1132: FutureWarning: `resume_download` is deprecated and will be removed in version 1.0.0. Downloads always resume when possible. If you want to force a new download, use `force_download=True`.\n",
      "  warnings.warn(\n",
      "Epoch(s):  77%|\u001b[31m███████▋  \u001b[0m| 348/450 [10:42:04<3:08:10, 110.70s/it]"
     ]
    },
    {
     "name": "stdout",
     "output_type": "stream",
     "text": [
      "{'Epoch': 349, 'Train Loss': 0.12486592239028735, 'Train Accuracy': 0.9569215876089061, 'Val Loss': 0.5299855250556272, 'Val Accuracy': 0.8626692456479691, 'Val Precision': 0.8632838367497935, 'Val Recall': 0.8626692456479691}\n"
     ]
    },
    {
     "name": "stderr",
     "output_type": "stream",
     "text": [
      "c:\\Users\\Sid\\AppData\\Local\\Programs\\Python\\Python39\\lib\\site-packages\\huggingface_hub\\file_download.py:1132: FutureWarning: `resume_download` is deprecated and will be removed in version 1.0.0. Downloads always resume when possible. If you want to force a new download, use `force_download=True`.\n",
      "  warnings.warn(\n",
      "Epoch(s):  78%|\u001b[31m███████▊  \u001b[0m| 349/450 [10:43:54<3:06:15, 110.65s/it]"
     ]
    },
    {
     "name": "stdout",
     "output_type": "stream",
     "text": [
      "{'Epoch': 350, 'Train Loss': 0.13099139881599875, 'Train Accuracy': 0.9583736689254598, 'Val Loss': 0.5420095469811573, 'Val Accuracy': 0.8626692456479691, 'Val Precision': 0.8708962819391484, 'Val Recall': 0.8626692456479691}\n"
     ]
    },
    {
     "name": "stderr",
     "output_type": "stream",
     "text": [
      "c:\\Users\\Sid\\AppData\\Local\\Programs\\Python\\Python39\\lib\\site-packages\\huggingface_hub\\file_download.py:1132: FutureWarning: `resume_download` is deprecated and will be removed in version 1.0.0. Downloads always resume when possible. If you want to force a new download, use `force_download=True`.\n",
      "  warnings.warn(\n",
      "Epoch(s):  78%|\u001b[31m███████▊  \u001b[0m| 350/450 [10:45:45<3:04:32, 110.72s/it]"
     ]
    },
    {
     "name": "stdout",
     "output_type": "stream",
     "text": [
      "{'Epoch': 351, 'Train Loss': 0.11670428070304448, 'Train Accuracy': 0.9617618586640851, 'Val Loss': 0.5651367568321383, 'Val Accuracy': 0.8549323017408124, 'Val Precision': 0.8625760093366345, 'Val Recall': 0.8549323017408124}\n"
     ]
    },
    {
     "name": "stderr",
     "output_type": "stream",
     "text": [
      "c:\\Users\\Sid\\AppData\\Local\\Programs\\Python\\Python39\\lib\\site-packages\\huggingface_hub\\file_download.py:1132: FutureWarning: `resume_download` is deprecated and will be removed in version 1.0.0. Downloads always resume when possible. If you want to force a new download, use `force_download=True`.\n",
      "  warnings.warn(\n",
      "Epoch(s):  78%|\u001b[31m███████▊  \u001b[0m| 351/450 [10:47:36<3:02:34, 110.65s/it]"
     ]
    },
    {
     "name": "stdout",
     "output_type": "stream",
     "text": [
      "{'Epoch': 352, 'Train Loss': 0.11701227118248574, 'Train Accuracy': 0.9598257502420136, 'Val Loss': 0.5325580489338161, 'Val Accuracy': 0.8626692456479691, 'Val Precision': 0.8711630689217754, 'Val Recall': 0.8626692456479691}\n"
     ]
    },
    {
     "name": "stderr",
     "output_type": "stream",
     "text": [
      "c:\\Users\\Sid\\AppData\\Local\\Programs\\Python\\Python39\\lib\\site-packages\\huggingface_hub\\file_download.py:1132: FutureWarning: `resume_download` is deprecated and will be removed in version 1.0.0. Downloads always resume when possible. If you want to force a new download, use `force_download=True`.\n",
      "  warnings.warn(\n",
      "Epoch(s):  78%|\u001b[31m███████▊  \u001b[0m| 352/450 [10:49:26<3:00:39, 110.61s/it]"
     ]
    },
    {
     "name": "stdout",
     "output_type": "stream",
     "text": [
      "{'Epoch': 353, 'Train Loss': 0.11915454431819014, 'Train Accuracy': 0.9595837366892546, 'Val Loss': 0.5149276609975809, 'Val Accuracy': 0.8617021276595744, 'Val Precision': 0.8614802104117403, 'Val Recall': 0.8617021276595744}\n"
     ]
    },
    {
     "name": "stderr",
     "output_type": "stream",
     "text": [
      "c:\\Users\\Sid\\AppData\\Local\\Programs\\Python\\Python39\\lib\\site-packages\\huggingface_hub\\file_download.py:1132: FutureWarning: `resume_download` is deprecated and will be removed in version 1.0.0. Downloads always resume when possible. If you want to force a new download, use `force_download=True`.\n",
      "  warnings.warn(\n",
      "Epoch(s):  78%|\u001b[31m███████▊  \u001b[0m| 353/450 [10:51:17<2:58:59, 110.72s/it]"
     ]
    },
    {
     "name": "stdout",
     "output_type": "stream",
     "text": [
      "{'Epoch': 354, 'Train Loss': 0.11919935516802155, 'Train Accuracy': 0.9605517909002904, 'Val Loss': 0.585500071322223, 'Val Accuracy': 0.8568665377176016, 'Val Precision': 0.8610664894519541, 'Val Recall': 0.8568665377176016}\n"
     ]
    },
    {
     "name": "stderr",
     "output_type": "stream",
     "text": [
      "c:\\Users\\Sid\\AppData\\Local\\Programs\\Python\\Python39\\lib\\site-packages\\huggingface_hub\\file_download.py:1132: FutureWarning: `resume_download` is deprecated and will be removed in version 1.0.0. Downloads always resume when possible. If you want to force a new download, use `force_download=True`.\n",
      "  warnings.warn(\n",
      "Epoch(s):  79%|\u001b[31m███████▊  \u001b[0m| 354/450 [10:53:08<2:57:14, 110.77s/it]"
     ]
    },
    {
     "name": "stdout",
     "output_type": "stream",
     "text": [
      "{'Epoch': 355, 'Train Loss': 0.12747984915984342, 'Train Accuracy': 0.9610358180058083, 'Val Loss': 0.542719042668334, 'Val Accuracy': 0.8646034816247582, 'Val Precision': 0.8664469264651509, 'Val Recall': 0.8646034816247582}\n"
     ]
    },
    {
     "name": "stderr",
     "output_type": "stream",
     "text": [
      "c:\\Users\\Sid\\AppData\\Local\\Programs\\Python\\Python39\\lib\\site-packages\\huggingface_hub\\file_download.py:1132: FutureWarning: `resume_download` is deprecated and will be removed in version 1.0.0. Downloads always resume when possible. If you want to force a new download, use `force_download=True`.\n",
      "  warnings.warn(\n",
      "Epoch(s):  79%|\u001b[31m███████▉  \u001b[0m| 355/450 [10:54:59<2:55:11, 110.65s/it]"
     ]
    },
    {
     "name": "stdout",
     "output_type": "stream",
     "text": [
      "{'Epoch': 356, 'Train Loss': 0.12817180619132795, 'Train Accuracy': 0.9595837366892546, 'Val Loss': 0.5596851784328465, 'Val Accuracy': 0.8588007736943907, 'Val Precision': 0.8672009194930431, 'Val Recall': 0.8588007736943907}\n"
     ]
    },
    {
     "name": "stderr",
     "output_type": "stream",
     "text": [
      "c:\\Users\\Sid\\AppData\\Local\\Programs\\Python\\Python39\\lib\\site-packages\\huggingface_hub\\file_download.py:1132: FutureWarning: `resume_download` is deprecated and will be removed in version 1.0.0. Downloads always resume when possible. If you want to force a new download, use `force_download=True`.\n",
      "  warnings.warn(\n",
      "Epoch(s):  79%|\u001b[31m███████▉  \u001b[0m| 356/450 [10:56:50<2:53:31, 110.76s/it]"
     ]
    },
    {
     "name": "stdout",
     "output_type": "stream",
     "text": [
      "{'Epoch': 357, 'Train Loss': 0.11392007325056754, 'Train Accuracy': 0.9641819941916747, 'Val Loss': 0.5801962275425188, 'Val Accuracy': 0.8529980657640233, 'Val Precision': 0.8624737456914763, 'Val Recall': 0.8529980657640233}\n"
     ]
    },
    {
     "name": "stderr",
     "output_type": "stream",
     "text": [
      "c:\\Users\\Sid\\AppData\\Local\\Programs\\Python\\Python39\\lib\\site-packages\\huggingface_hub\\file_download.py:1132: FutureWarning: `resume_download` is deprecated and will be removed in version 1.0.0. Downloads always resume when possible. If you want to force a new download, use `force_download=True`.\n",
      "  warnings.warn(\n",
      "Epoch(s):  79%|\u001b[31m███████▉  \u001b[0m| 357/450 [10:58:40<2:51:29, 110.64s/it]"
     ]
    },
    {
     "name": "stdout",
     "output_type": "stream",
     "text": [
      "{'Epoch': 358, 'Train Loss': 0.1252729264784669, 'Train Accuracy': 0.9566795740561471, 'Val Loss': 0.5687105100467587, 'Val Accuracy': 0.8578336557059961, 'Val Precision': 0.8679809091257096, 'Val Recall': 0.8578336557059961}\n"
     ]
    },
    {
     "name": "stderr",
     "output_type": "stream",
     "text": [
      "c:\\Users\\Sid\\AppData\\Local\\Programs\\Python\\Python39\\lib\\site-packages\\huggingface_hub\\file_download.py:1132: FutureWarning: `resume_download` is deprecated and will be removed in version 1.0.0. Downloads always resume when possible. If you want to force a new download, use `force_download=True`.\n",
      "  warnings.warn(\n",
      "Epoch(s):  80%|\u001b[31m███████▉  \u001b[0m| 358/450 [11:00:30<2:49:34, 110.59s/it]"
     ]
    },
    {
     "name": "stdout",
     "output_type": "stream",
     "text": [
      "{'Epoch': 359, 'Train Loss': 0.11799743470154221, 'Train Accuracy': 0.9583736689254598, 'Val Loss': 0.545386504536817, 'Val Accuracy': 0.8597678916827853, 'Val Precision': 0.8675081508436114, 'Val Recall': 0.8597678916827853}\n"
     ]
    },
    {
     "name": "stderr",
     "output_type": "stream",
     "text": [
      "c:\\Users\\Sid\\AppData\\Local\\Programs\\Python\\Python39\\lib\\site-packages\\huggingface_hub\\file_download.py:1132: FutureWarning: `resume_download` is deprecated and will be removed in version 1.0.0. Downloads always resume when possible. If you want to force a new download, use `force_download=True`.\n",
      "  warnings.warn(\n",
      "Epoch(s):  80%|\u001b[31m███████▉  \u001b[0m| 359/450 [11:02:21<2:47:39, 110.54s/it]"
     ]
    },
    {
     "name": "stdout",
     "output_type": "stream",
     "text": [
      "{'Epoch': 360, 'Train Loss': 0.12886511895384883, 'Train Accuracy': 0.9605517909002904, 'Val Loss': 0.5665835799604583, 'Val Accuracy': 0.8597678916827853, 'Val Precision': 0.8730733100349386, 'Val Recall': 0.8597678916827853}\n"
     ]
    },
    {
     "name": "stderr",
     "output_type": "stream",
     "text": [
      "c:\\Users\\Sid\\AppData\\Local\\Programs\\Python\\Python39\\lib\\site-packages\\huggingface_hub\\file_download.py:1132: FutureWarning: `resume_download` is deprecated and will be removed in version 1.0.0. Downloads always resume when possible. If you want to force a new download, use `force_download=True`.\n",
      "  warnings.warn(\n",
      "Epoch(s):  80%|\u001b[31m████████  \u001b[0m| 360/450 [11:04:12<2:45:59, 110.66s/it]"
     ]
    },
    {
     "name": "stdout",
     "output_type": "stream",
     "text": [
      "{'Epoch': 361, 'Train Loss': 0.11400618119786483, 'Train Accuracy': 0.9622458857696031, 'Val Loss': 0.5231675693344396, 'Val Accuracy': 0.867504835589942, 'Val Precision': 0.8673039012787422, 'Val Recall': 0.867504835589942}\n"
     ]
    },
    {
     "name": "stderr",
     "output_type": "stream",
     "text": [
      "c:\\Users\\Sid\\AppData\\Local\\Programs\\Python\\Python39\\lib\\site-packages\\huggingface_hub\\file_download.py:1132: FutureWarning: `resume_download` is deprecated and will be removed in version 1.0.0. Downloads always resume when possible. If you want to force a new download, use `force_download=True`.\n",
      "  warnings.warn(\n",
      "Epoch(s):  80%|\u001b[31m████████  \u001b[0m| 361/450 [11:06:03<2:44:13, 110.71s/it]"
     ]
    },
    {
     "name": "stdout",
     "output_type": "stream",
     "text": [
      "{'Epoch': 362, 'Train Loss': 0.11378167995025178, 'Train Accuracy': 0.9586156824782188, 'Val Loss': 0.5628273697211765, 'Val Accuracy': 0.8626692456479691, 'Val Precision': 0.8675906333425575, 'Val Recall': 0.8626692456479691}\n"
     ]
    },
    {
     "name": "stderr",
     "output_type": "stream",
     "text": [
      "c:\\Users\\Sid\\AppData\\Local\\Programs\\Python\\Python39\\lib\\site-packages\\huggingface_hub\\file_download.py:1132: FutureWarning: `resume_download` is deprecated and will be removed in version 1.0.0. Downloads always resume when possible. If you want to force a new download, use `force_download=True`.\n",
      "  warnings.warn(\n",
      "Epoch(s):  80%|\u001b[31m████████  \u001b[0m| 362/450 [11:07:54<2:42:37, 110.88s/it]"
     ]
    },
    {
     "name": "stdout",
     "output_type": "stream",
     "text": [
      "{'Epoch': 363, 'Train Loss': 0.10892604743494795, 'Train Accuracy': 0.9636979670861568, 'Val Loss': 0.6133912834161982, 'Val Accuracy': 0.851063829787234, 'Val Precision': 0.8516936136809105, 'Val Recall': 0.851063829787234}\n"
     ]
    },
    {
     "name": "stderr",
     "output_type": "stream",
     "text": [
      "c:\\Users\\Sid\\AppData\\Local\\Programs\\Python\\Python39\\lib\\site-packages\\huggingface_hub\\file_download.py:1132: FutureWarning: `resume_download` is deprecated and will be removed in version 1.0.0. Downloads always resume when possible. If you want to force a new download, use `force_download=True`.\n",
      "  warnings.warn(\n",
      "Epoch(s):  81%|\u001b[31m████████  \u001b[0m| 363/450 [11:09:44<2:40:38, 110.78s/it]"
     ]
    },
    {
     "name": "stdout",
     "output_type": "stream",
     "text": [
      "{'Epoch': 364, 'Train Loss': 0.11998363046364816, 'Train Accuracy': 0.9581316553727008, 'Val Loss': 0.5620391944306903, 'Val Accuracy': 0.867504835589942, 'Val Precision': 0.8634727193820921, 'Val Recall': 0.867504835589942}\n"
     ]
    },
    {
     "name": "stderr",
     "output_type": "stream",
     "text": [
      "c:\\Users\\Sid\\AppData\\Local\\Programs\\Python\\Python39\\lib\\site-packages\\huggingface_hub\\file_download.py:1132: FutureWarning: `resume_download` is deprecated and will be removed in version 1.0.0. Downloads always resume when possible. If you want to force a new download, use `force_download=True`.\n",
      "  warnings.warn(\n",
      "Epoch(s):  81%|\u001b[31m████████  \u001b[0m| 364/450 [11:11:35<2:38:38, 110.68s/it]"
     ]
    },
    {
     "name": "stdout",
     "output_type": "stream",
     "text": [
      "{'Epoch': 365, 'Train Loss': 0.11543616544501137, 'Train Accuracy': 0.9617618586640851, 'Val Loss': 0.569700454901277, 'Val Accuracy': 0.8568665377176016, 'Val Precision': 0.8613609947398191, 'Val Recall': 0.8568665377176016}\n"
     ]
    },
    {
     "name": "stderr",
     "output_type": "stream",
     "text": [
      "c:\\Users\\Sid\\AppData\\Local\\Programs\\Python\\Python39\\lib\\site-packages\\huggingface_hub\\file_download.py:1132: FutureWarning: `resume_download` is deprecated and will be removed in version 1.0.0. Downloads always resume when possible. If you want to force a new download, use `force_download=True`.\n",
      "  warnings.warn(\n",
      "Epoch(s):  81%|\u001b[31m████████  \u001b[0m| 365/450 [11:13:25<2:36:41, 110.61s/it]"
     ]
    },
    {
     "name": "stdout",
     "output_type": "stream",
     "text": [
      "{'Epoch': 366, 'Train Loss': 0.12181390214101932, 'Train Accuracy': 0.9593417231364957, 'Val Loss': 0.6072837974661245, 'Val Accuracy': 0.844294003868472, 'Val Precision': 0.8563289658328436, 'Val Recall': 0.844294003868472}\n"
     ]
    },
    {
     "name": "stderr",
     "output_type": "stream",
     "text": [
      "c:\\Users\\Sid\\AppData\\Local\\Programs\\Python\\Python39\\lib\\site-packages\\huggingface_hub\\file_download.py:1132: FutureWarning: `resume_download` is deprecated and will be removed in version 1.0.0. Downloads always resume when possible. If you want to force a new download, use `force_download=True`.\n",
      "  warnings.warn(\n",
      "Epoch(s):  81%|\u001b[31m████████▏ \u001b[0m| 366/450 [11:15:16<2:34:51, 110.61s/it]"
     ]
    },
    {
     "name": "stdout",
     "output_type": "stream",
     "text": [
      "{'Epoch': 367, 'Train Loss': 0.11707831029492542, 'Train Accuracy': 0.9610358180058083, 'Val Loss': 0.5610068887149772, 'Val Accuracy': 0.8558994197292069, 'Val Precision': 0.859757848953784, 'Val Recall': 0.8558994197292069}\n"
     ]
    },
    {
     "name": "stderr",
     "output_type": "stream",
     "text": [
      "c:\\Users\\Sid\\AppData\\Local\\Programs\\Python\\Python39\\lib\\site-packages\\huggingface_hub\\file_download.py:1132: FutureWarning: `resume_download` is deprecated and will be removed in version 1.0.0. Downloads always resume when possible. If you want to force a new download, use `force_download=True`.\n",
      "  warnings.warn(\n",
      "Epoch(s):  82%|\u001b[31m████████▏ \u001b[0m| 367/450 [11:17:07<2:33:10, 110.73s/it]"
     ]
    },
    {
     "name": "stdout",
     "output_type": "stream",
     "text": [
      "{'Epoch': 368, 'Train Loss': 0.10796553383825858, 'Train Accuracy': 0.9670861568247822, 'Val Loss': 0.5555235776674146, 'Val Accuracy': 0.8549323017408124, 'Val Precision': 0.8576461910765841, 'Val Recall': 0.8549323017408124}\n"
     ]
    },
    {
     "name": "stderr",
     "output_type": "stream",
     "text": [
      "c:\\Users\\Sid\\AppData\\Local\\Programs\\Python\\Python39\\lib\\site-packages\\huggingface_hub\\file_download.py:1132: FutureWarning: `resume_download` is deprecated and will be removed in version 1.0.0. Downloads always resume when possible. If you want to force a new download, use `force_download=True`.\n",
      "  warnings.warn(\n",
      "Epoch(s):  82%|\u001b[31m████████▏ \u001b[0m| 368/450 [11:18:57<2:31:13, 110.65s/it]"
     ]
    },
    {
     "name": "stdout",
     "output_type": "stream",
     "text": [
      "{'Epoch': 369, 'Train Loss': 0.10899586251372306, 'Train Accuracy': 0.9607938044530494, 'Val Loss': 0.54372289436735, 'Val Accuracy': 0.8684719535783365, 'Val Precision': 0.8685492913623724, 'Val Recall': 0.8684719535783365}\n"
     ]
    },
    {
     "name": "stderr",
     "output_type": "stream",
     "text": [
      "c:\\Users\\Sid\\AppData\\Local\\Programs\\Python\\Python39\\lib\\site-packages\\huggingface_hub\\file_download.py:1132: FutureWarning: `resume_download` is deprecated and will be removed in version 1.0.0. Downloads always resume when possible. If you want to force a new download, use `force_download=True`.\n",
      "  warnings.warn(\n",
      "Epoch(s):  82%|\u001b[31m████████▏ \u001b[0m| 369/450 [11:20:48<2:29:31, 110.76s/it]"
     ]
    },
    {
     "name": "stdout",
     "output_type": "stream",
     "text": [
      "{'Epoch': 370, 'Train Loss': 0.12562336612429423, 'Train Accuracy': 0.957647628267183, 'Val Loss': 0.5651511399093299, 'Val Accuracy': 0.8588007736943907, 'Val Precision': 0.8638585838258939, 'Val Recall': 0.8588007736943907}\n"
     ]
    },
    {
     "name": "stderr",
     "output_type": "stream",
     "text": [
      "c:\\Users\\Sid\\AppData\\Local\\Programs\\Python\\Python39\\lib\\site-packages\\huggingface_hub\\file_download.py:1132: FutureWarning: `resume_download` is deprecated and will be removed in version 1.0.0. Downloads always resume when possible. If you want to force a new download, use `force_download=True`.\n",
      "  warnings.warn(\n",
      "Epoch(s):  82%|\u001b[31m████████▏ \u001b[0m| 370/450 [11:22:39<2:27:33, 110.67s/it]"
     ]
    },
    {
     "name": "stdout",
     "output_type": "stream",
     "text": [
      "{'Epoch': 371, 'Train Loss': 0.10543365740041072, 'Train Accuracy': 0.9653920619554696, 'Val Loss': 0.5521013998104116, 'Val Accuracy': 0.8646034816247582, 'Val Precision': 0.8732374998839413, 'Val Recall': 0.8646034816247582}\n"
     ]
    },
    {
     "name": "stderr",
     "output_type": "stream",
     "text": [
      "c:\\Users\\Sid\\AppData\\Local\\Programs\\Python\\Python39\\lib\\site-packages\\huggingface_hub\\file_download.py:1132: FutureWarning: `resume_download` is deprecated and will be removed in version 1.0.0. Downloads always resume when possible. If you want to force a new download, use `force_download=True`.\n",
      "  warnings.warn(\n",
      "Epoch(s):  82%|\u001b[31m████████▏ \u001b[0m| 371/450 [11:24:30<2:25:51, 110.77s/it]"
     ]
    },
    {
     "name": "stdout",
     "output_type": "stream",
     "text": [
      "{'Epoch': 372, 'Train Loss': 0.12451794307592863, 'Train Accuracy': 0.9571636011616651, 'Val Loss': 0.5702266598554651, 'Val Accuracy': 0.8558994197292069, 'Val Precision': 0.8562945901459738, 'Val Recall': 0.8558994197292069}\n"
     ]
    },
    {
     "name": "stderr",
     "output_type": "stream",
     "text": [
      "c:\\Users\\Sid\\AppData\\Local\\Programs\\Python\\Python39\\lib\\site-packages\\huggingface_hub\\file_download.py:1132: FutureWarning: `resume_download` is deprecated and will be removed in version 1.0.0. Downloads always resume when possible. If you want to force a new download, use `force_download=True`.\n",
      "  warnings.warn(\n",
      "Epoch(s):  83%|\u001b[31m████████▎ \u001b[0m| 372/450 [11:26:21<2:24:05, 110.85s/it]"
     ]
    },
    {
     "name": "stdout",
     "output_type": "stream",
     "text": [
      "{'Epoch': 373, 'Train Loss': 0.11321230864954185, 'Train Accuracy': 0.9622458857696031, 'Val Loss': 0.5530648818669411, 'Val Accuracy': 0.8655705996131529, 'Val Precision': 0.8684944425954088, 'Val Recall': 0.8655705996131529}\n"
     ]
    },
    {
     "name": "stderr",
     "output_type": "stream",
     "text": [
      "c:\\Users\\Sid\\AppData\\Local\\Programs\\Python\\Python39\\lib\\site-packages\\huggingface_hub\\file_download.py:1132: FutureWarning: `resume_download` is deprecated and will be removed in version 1.0.0. Downloads always resume when possible. If you want to force a new download, use `force_download=True`.\n",
      "  warnings.warn(\n",
      "Epoch(s):  83%|\u001b[31m████████▎ \u001b[0m| 373/450 [11:28:12<2:22:19, 110.91s/it]"
     ]
    },
    {
     "name": "stdout",
     "output_type": "stream",
     "text": [
      "{'Epoch': 374, 'Train Loss': 0.09923529312522267, 'Train Accuracy': 0.9702323330106486, 'Val Loss': 0.5684733953335895, 'Val Accuracy': 0.8617021276595744, 'Val Precision': 0.8631998250910909, 'Val Recall': 0.8617021276595744}\n"
     ]
    },
    {
     "name": "stderr",
     "output_type": "stream",
     "text": [
      "c:\\Users\\Sid\\AppData\\Local\\Programs\\Python\\Python39\\lib\\site-packages\\huggingface_hub\\file_download.py:1132: FutureWarning: `resume_download` is deprecated and will be removed in version 1.0.0. Downloads always resume when possible. If you want to force a new download, use `force_download=True`.\n",
      "  warnings.warn(\n",
      "Epoch(s):  83%|\u001b[31m████████▎ \u001b[0m| 374/450 [11:30:03<2:20:27, 110.89s/it]"
     ]
    },
    {
     "name": "stdout",
     "output_type": "stream",
     "text": [
      "{'Epoch': 375, 'Train Loss': 0.10679119965960505, 'Train Accuracy': 0.9641819941916747, 'Val Loss': 0.5531378815658032, 'Val Accuracy': 0.8636363636363636, 'Val Precision': 0.8633568761122105, 'Val Recall': 0.8636363636363636}\n"
     ]
    },
    {
     "name": "stderr",
     "output_type": "stream",
     "text": [
      "c:\\Users\\Sid\\AppData\\Local\\Programs\\Python\\Python39\\lib\\site-packages\\huggingface_hub\\file_download.py:1132: FutureWarning: `resume_download` is deprecated and will be removed in version 1.0.0. Downloads always resume when possible. If you want to force a new download, use `force_download=True`.\n",
      "  warnings.warn(\n",
      "Epoch(s):  83%|\u001b[31m████████▎ \u001b[0m| 375/450 [11:31:54<2:18:41, 110.95s/it]"
     ]
    },
    {
     "name": "stdout",
     "output_type": "stream",
     "text": [
      "{'Epoch': 376, 'Train Loss': 0.09939352155360348, 'Train Accuracy': 0.9692642787996127, 'Val Loss': 0.5677476454364996, 'Val Accuracy': 0.8626692456479691, 'Val Precision': 0.8724587329711299, 'Val Recall': 0.8626692456479691}\n"
     ]
    },
    {
     "name": "stderr",
     "output_type": "stream",
     "text": [
      "c:\\Users\\Sid\\AppData\\Local\\Programs\\Python\\Python39\\lib\\site-packages\\huggingface_hub\\file_download.py:1132: FutureWarning: `resume_download` is deprecated and will be removed in version 1.0.0. Downloads always resume when possible. If you want to force a new download, use `force_download=True`.\n",
      "  warnings.warn(\n",
      "Epoch(s):  84%|\u001b[31m████████▎ \u001b[0m| 376/450 [11:33:45<2:16:43, 110.86s/it]"
     ]
    },
    {
     "name": "stdout",
     "output_type": "stream",
     "text": [
      "{'Epoch': 377, 'Train Loss': 0.11053973824256837, 'Train Accuracy': 0.9622458857696031, 'Val Loss': 0.5590688094053453, 'Val Accuracy': 0.8646034816247582, 'Val Precision': 0.8660634302412483, 'Val Recall': 0.8646034816247582}\n"
     ]
    },
    {
     "name": "stderr",
     "output_type": "stream",
     "text": [
      "c:\\Users\\Sid\\AppData\\Local\\Programs\\Python\\Python39\\lib\\site-packages\\huggingface_hub\\file_download.py:1132: FutureWarning: `resume_download` is deprecated and will be removed in version 1.0.0. Downloads always resume when possible. If you want to force a new download, use `force_download=True`.\n",
      "  warnings.warn(\n",
      "Epoch(s):  84%|\u001b[31m████████▍ \u001b[0m| 377/450 [11:35:35<2:14:44, 110.75s/it]"
     ]
    },
    {
     "name": "stdout",
     "output_type": "stream",
     "text": [
      "{'Epoch': 378, 'Train Loss': 0.10664228686359872, 'Train Accuracy': 0.9636979670861568, 'Val Loss': 0.5928359929322211, 'Val Accuracy': 0.8549323017408124, 'Val Precision': 0.8562554669718767, 'Val Recall': 0.8549323017408124}\n"
     ]
    },
    {
     "name": "stderr",
     "output_type": "stream",
     "text": [
      "c:\\Users\\Sid\\AppData\\Local\\Programs\\Python\\Python39\\lib\\site-packages\\huggingface_hub\\file_download.py:1132: FutureWarning: `resume_download` is deprecated and will be removed in version 1.0.0. Downloads always resume when possible. If you want to force a new download, use `force_download=True`.\n",
      "  warnings.warn(\n",
      "Epoch(s):  84%|\u001b[31m████████▍ \u001b[0m| 378/450 [11:37:26<2:12:56, 110.79s/it]"
     ]
    },
    {
     "name": "stdout",
     "output_type": "stream",
     "text": [
      "{'Epoch': 379, 'Train Loss': 0.10254268827452594, 'Train Accuracy': 0.9673281703775412, 'Val Loss': 0.5524042443314101, 'Val Accuracy': 0.8694390715667312, 'Val Precision': 0.8696481403319942, 'Val Recall': 0.8694390715667312}\n"
     ]
    },
    {
     "name": "stderr",
     "output_type": "stream",
     "text": [
      "c:\\Users\\Sid\\AppData\\Local\\Programs\\Python\\Python39\\lib\\site-packages\\huggingface_hub\\file_download.py:1132: FutureWarning: `resume_download` is deprecated and will be removed in version 1.0.0. Downloads always resume when possible. If you want to force a new download, use `force_download=True`.\n",
      "  warnings.warn(\n",
      "Epoch(s):  84%|\u001b[31m████████▍ \u001b[0m| 379/450 [11:39:17<2:11:10, 110.85s/it]"
     ]
    },
    {
     "name": "stdout",
     "output_type": "stream",
     "text": [
      "{'Epoch': 380, 'Train Loss': 0.10775878375990176, 'Train Accuracy': 0.9649080348499516, 'Val Loss': 0.5690273040012331, 'Val Accuracy': 0.8597678916827853, 'Val Precision': 0.8595369008984987, 'Val Recall': 0.8597678916827853}\n"
     ]
    },
    {
     "name": "stderr",
     "output_type": "stream",
     "text": [
      "c:\\Users\\Sid\\AppData\\Local\\Programs\\Python\\Python39\\lib\\site-packages\\huggingface_hub\\file_download.py:1132: FutureWarning: `resume_download` is deprecated and will be removed in version 1.0.0. Downloads always resume when possible. If you want to force a new download, use `force_download=True`.\n",
      "  warnings.warn(\n",
      "Epoch(s):  84%|\u001b[31m████████▍ \u001b[0m| 380/450 [11:41:07<2:09:11, 110.73s/it]"
     ]
    },
    {
     "name": "stdout",
     "output_type": "stream",
     "text": [
      "{'Epoch': 381, 'Train Loss': 0.11033776400866559, 'Train Accuracy': 0.96297192642788, 'Val Loss': 0.6275013239337848, 'Val Accuracy': 0.8491295938104448, 'Val Precision': 0.8595298233220755, 'Val Recall': 0.8491295938104448}\n"
     ]
    },
    {
     "name": "stderr",
     "output_type": "stream",
     "text": [
      "c:\\Users\\Sid\\AppData\\Local\\Programs\\Python\\Python39\\lib\\site-packages\\huggingface_hub\\file_download.py:1132: FutureWarning: `resume_download` is deprecated and will be removed in version 1.0.0. Downloads always resume when possible. If you want to force a new download, use `force_download=True`.\n",
      "  warnings.warn(\n",
      "Epoch(s):  85%|\u001b[31m████████▍ \u001b[0m| 381/450 [11:42:58<2:07:15, 110.65s/it]"
     ]
    },
    {
     "name": "stdout",
     "output_type": "stream",
     "text": [
      "{'Epoch': 382, 'Train Loss': 0.10746668730224176, 'Train Accuracy': 0.9661181026137464, 'Val Loss': 0.5717560652858362, 'Val Accuracy': 0.8636363636363636, 'Val Precision': 0.864274238201317, 'Val Recall': 0.8636363636363636}\n"
     ]
    },
    {
     "name": "stderr",
     "output_type": "stream",
     "text": [
      "c:\\Users\\Sid\\AppData\\Local\\Programs\\Python\\Python39\\lib\\site-packages\\huggingface_hub\\file_download.py:1132: FutureWarning: `resume_download` is deprecated and will be removed in version 1.0.0. Downloads always resume when possible. If you want to force a new download, use `force_download=True`.\n",
      "  warnings.warn(\n",
      "Epoch(s):  85%|\u001b[31m████████▍ \u001b[0m| 382/450 [11:44:48<2:05:22, 110.62s/it]"
     ]
    },
    {
     "name": "stdout",
     "output_type": "stream",
     "text": [
      "{'Epoch': 383, 'Train Loss': 0.09877008418655958, 'Train Accuracy': 0.9668441432720233, 'Val Loss': 0.5789853221145816, 'Val Accuracy': 0.8713733075435203, 'Val Precision': 0.8741764806661666, 'Val Recall': 0.8713733075435203}\n"
     ]
    },
    {
     "name": "stderr",
     "output_type": "stream",
     "text": [
      "c:\\Users\\Sid\\AppData\\Local\\Programs\\Python\\Python39\\lib\\site-packages\\huggingface_hub\\file_download.py:1132: FutureWarning: `resume_download` is deprecated and will be removed in version 1.0.0. Downloads always resume when possible. If you want to force a new download, use `force_download=True`.\n",
      "  warnings.warn(\n",
      "Epoch(s):  85%|\u001b[31m████████▌ \u001b[0m| 383/450 [11:46:39<2:03:38, 110.73s/it]"
     ]
    },
    {
     "name": "stdout",
     "output_type": "stream",
     "text": [
      "{'Epoch': 384, 'Train Loss': 0.10467771573700586, 'Train Accuracy': 0.9646660212971926, 'Val Loss': 0.5734513747232716, 'Val Accuracy': 0.8597678916827853, 'Val Precision': 0.8647953409589706, 'Val Recall': 0.8597678916827853}\n"
     ]
    },
    {
     "name": "stderr",
     "output_type": "stream",
     "text": [
      "c:\\Users\\Sid\\AppData\\Local\\Programs\\Python\\Python39\\lib\\site-packages\\huggingface_hub\\file_download.py:1132: FutureWarning: `resume_download` is deprecated and will be removed in version 1.0.0. Downloads always resume when possible. If you want to force a new download, use `force_download=True`.\n",
      "  warnings.warn(\n",
      "Epoch(s):  85%|\u001b[31m████████▌ \u001b[0m| 384/450 [11:48:30<2:01:50, 110.77s/it]"
     ]
    },
    {
     "name": "stdout",
     "output_type": "stream",
     "text": [
      "{'Epoch': 385, 'Train Loss': 0.0970059005544938, 'Train Accuracy': 0.9690222652468539, 'Val Loss': 0.6111231715998237, 'Val Accuracy': 0.8500967117988395, 'Val Precision': 0.861419417568213, 'Val Recall': 0.8500967117988395}\n"
     ]
    },
    {
     "name": "stderr",
     "output_type": "stream",
     "text": [
      "c:\\Users\\Sid\\AppData\\Local\\Programs\\Python\\Python39\\lib\\site-packages\\huggingface_hub\\file_download.py:1132: FutureWarning: `resume_download` is deprecated and will be removed in version 1.0.0. Downloads always resume when possible. If you want to force a new download, use `force_download=True`.\n",
      "  warnings.warn(\n",
      "Epoch(s):  86%|\u001b[31m████████▌ \u001b[0m| 385/450 [11:50:21<1:59:54, 110.68s/it]"
     ]
    },
    {
     "name": "stdout",
     "output_type": "stream",
     "text": [
      "{'Epoch': 386, 'Train Loss': 0.10973258064808072, 'Train Accuracy': 0.962729912875121, 'Val Loss': 0.6290329167811881, 'Val Accuracy': 0.8500967117988395, 'Val Precision': 0.865492961333865, 'Val Recall': 0.8500967117988395}\n"
     ]
    },
    {
     "name": "stderr",
     "output_type": "stream",
     "text": [
      "c:\\Users\\Sid\\AppData\\Local\\Programs\\Python\\Python39\\lib\\site-packages\\huggingface_hub\\file_download.py:1132: FutureWarning: `resume_download` is deprecated and will be removed in version 1.0.0. Downloads always resume when possible. If you want to force a new download, use `force_download=True`.\n",
      "  warnings.warn(\n",
      "Epoch(s):  86%|\u001b[31m████████▌ \u001b[0m| 386/450 [11:52:11<1:58:00, 110.64s/it]"
     ]
    },
    {
     "name": "stdout",
     "output_type": "stream",
     "text": [
      "{'Epoch': 387, 'Train Loss': 0.10091940032055682, 'Train Accuracy': 0.9644240077444337, 'Val Loss': 0.5415413249487756, 'Val Accuracy': 0.8607350096711799, 'Val Precision': 0.860025200497712, 'Val Recall': 0.8607350096711799}\n"
     ]
    },
    {
     "name": "stderr",
     "output_type": "stream",
     "text": [
      "c:\\Users\\Sid\\AppData\\Local\\Programs\\Python\\Python39\\lib\\site-packages\\huggingface_hub\\file_download.py:1132: FutureWarning: `resume_download` is deprecated and will be removed in version 1.0.0. Downloads always resume when possible. If you want to force a new download, use `force_download=True`.\n",
      "  warnings.warn(\n",
      "Epoch(s):  86%|\u001b[31m████████▌ \u001b[0m| 387/450 [11:54:02<1:56:18, 110.77s/it]"
     ]
    },
    {
     "name": "stdout",
     "output_type": "stream",
     "text": [
      "{'Epoch': 388, 'Train Loss': 0.0935786221169419, 'Train Accuracy': 0.9704743465634076, 'Val Loss': 0.5801532724095383, 'Val Accuracy': 0.8597678916827853, 'Val Precision': 0.8627647285001266, 'Val Recall': 0.8597678916827853}\n"
     ]
    },
    {
     "name": "stderr",
     "output_type": "stream",
     "text": [
      "c:\\Users\\Sid\\AppData\\Local\\Programs\\Python\\Python39\\lib\\site-packages\\huggingface_hub\\file_download.py:1132: FutureWarning: `resume_download` is deprecated and will be removed in version 1.0.0. Downloads always resume when possible. If you want to force a new download, use `force_download=True`.\n",
      "  warnings.warn(\n",
      "Epoch(s):  86%|\u001b[31m████████▌ \u001b[0m| 388/450 [11:55:53<1:54:22, 110.69s/it]"
     ]
    },
    {
     "name": "stdout",
     "output_type": "stream",
     "text": [
      "{'Epoch': 389, 'Train Loss': 0.10353273187150898, 'Train Accuracy': 0.9656340755082284, 'Val Loss': 0.6440669501670457, 'Val Accuracy': 0.8423597678916828, 'Val Precision': 0.8530267337987415, 'Val Recall': 0.8423597678916828}\n"
     ]
    },
    {
     "name": "stderr",
     "output_type": "stream",
     "text": [
      "c:\\Users\\Sid\\AppData\\Local\\Programs\\Python\\Python39\\lib\\site-packages\\huggingface_hub\\file_download.py:1132: FutureWarning: `resume_download` is deprecated and will be removed in version 1.0.0. Downloads always resume when possible. If you want to force a new download, use `force_download=True`.\n",
      "  warnings.warn(\n",
      "Epoch(s):  86%|\u001b[31m████████▋ \u001b[0m| 389/450 [11:57:43<1:52:30, 110.66s/it]"
     ]
    },
    {
     "name": "stdout",
     "output_type": "stream",
     "text": [
      "{'Epoch': 390, 'Train Loss': 0.10791186560313919, 'Train Accuracy': 0.9646660212971926, 'Val Loss': 0.6009874765841792, 'Val Accuracy': 0.8597678916827853, 'Val Precision': 0.8580725788236743, 'Val Recall': 0.8597678916827853}\n"
     ]
    },
    {
     "name": "stderr",
     "output_type": "stream",
     "text": [
      "c:\\Users\\Sid\\AppData\\Local\\Programs\\Python\\Python39\\lib\\site-packages\\huggingface_hub\\file_download.py:1132: FutureWarning: `resume_download` is deprecated and will be removed in version 1.0.0. Downloads always resume when possible. If you want to force a new download, use `force_download=True`.\n",
      "  warnings.warn(\n",
      "Epoch(s):  87%|\u001b[31m████████▋ \u001b[0m| 390/450 [11:59:34<1:50:38, 110.65s/it]"
     ]
    },
    {
     "name": "stdout",
     "output_type": "stream",
     "text": [
      "{'Epoch': 391, 'Train Loss': 0.09932104857102698, 'Train Accuracy': 0.9641819941916747, 'Val Loss': 0.5892150977313017, 'Val Accuracy': 0.8636363636363636, 'Val Precision': 0.8710303397650226, 'Val Recall': 0.8636363636363636}\n"
     ]
    },
    {
     "name": "stderr",
     "output_type": "stream",
     "text": [
      "c:\\Users\\Sid\\AppData\\Local\\Programs\\Python\\Python39\\lib\\site-packages\\huggingface_hub\\file_download.py:1132: FutureWarning: `resume_download` is deprecated and will be removed in version 1.0.0. Downloads always resume when possible. If you want to force a new download, use `force_download=True`.\n",
      "  warnings.warn(\n",
      "Epoch(s):  87%|\u001b[31m████████▋ \u001b[0m| 391/450 [12:01:25<1:48:44, 110.59s/it]"
     ]
    },
    {
     "name": "stdout",
     "output_type": "stream",
     "text": [
      "{'Epoch': 392, 'Train Loss': 0.09826217975944342, 'Train Accuracy': 0.9668441432720233, 'Val Loss': 0.5969486536328287, 'Val Accuracy': 0.8549323017408124, 'Val Precision': 0.86252717919676, 'Val Recall': 0.8549323017408124}\n"
     ]
    },
    {
     "name": "stderr",
     "output_type": "stream",
     "text": [
      "c:\\Users\\Sid\\AppData\\Local\\Programs\\Python\\Python39\\lib\\site-packages\\huggingface_hub\\file_download.py:1132: FutureWarning: `resume_download` is deprecated and will be removed in version 1.0.0. Downloads always resume when possible. If you want to force a new download, use `force_download=True`.\n",
      "  warnings.warn(\n",
      "Epoch(s):  87%|\u001b[31m████████▋ \u001b[0m| 392/450 [12:03:15<1:46:56, 110.64s/it]"
     ]
    },
    {
     "name": "stdout",
     "output_type": "stream",
     "text": [
      "{'Epoch': 393, 'Train Loss': 0.1002786549192073, 'Train Accuracy': 0.968296224588577, 'Val Loss': 0.6098664152067683, 'Val Accuracy': 0.8539651837524178, 'Val Precision': 0.8551219897604692, 'Val Recall': 0.8539651837524178}\n"
     ]
    },
    {
     "name": "stderr",
     "output_type": "stream",
     "text": [
      "c:\\Users\\Sid\\AppData\\Local\\Programs\\Python\\Python39\\lib\\site-packages\\huggingface_hub\\file_download.py:1132: FutureWarning: `resume_download` is deprecated and will be removed in version 1.0.0. Downloads always resume when possible. If you want to force a new download, use `force_download=True`.\n",
      "  warnings.warn(\n",
      "Epoch(s):  87%|\u001b[31m████████▋ \u001b[0m| 393/450 [12:05:06<1:45:10, 110.72s/it]"
     ]
    },
    {
     "name": "stdout",
     "output_type": "stream",
     "text": [
      "{'Epoch': 394, 'Train Loss': 0.10242194152198027, 'Train Accuracy': 0.9617618586640851, 'Val Loss': 0.5973133925066437, 'Val Accuracy': 0.8529980657640233, 'Val Precision': 0.8609324234039352, 'Val Recall': 0.8529980657640233}\n"
     ]
    },
    {
     "name": "stderr",
     "output_type": "stream",
     "text": [
      "c:\\Users\\Sid\\AppData\\Local\\Programs\\Python\\Python39\\lib\\site-packages\\huggingface_hub\\file_download.py:1132: FutureWarning: `resume_download` is deprecated and will be removed in version 1.0.0. Downloads always resume when possible. If you want to force a new download, use `force_download=True`.\n",
      "  warnings.warn(\n",
      "Epoch(s):  88%|\u001b[31m████████▊ \u001b[0m| 394/450 [12:06:57<1:43:16, 110.65s/it]"
     ]
    },
    {
     "name": "stdout",
     "output_type": "stream",
     "text": [
      "{'Epoch': 395, 'Train Loss': 0.09617475703465177, 'Train Accuracy': 0.967812197483059, 'Val Loss': 0.5744246241184345, 'Val Accuracy': 0.8617021276595744, 'Val Precision': 0.8678702953797977, 'Val Recall': 0.8617021276595744}\n"
     ]
    },
    {
     "name": "stderr",
     "output_type": "stream",
     "text": [
      "c:\\Users\\Sid\\AppData\\Local\\Programs\\Python\\Python39\\lib\\site-packages\\huggingface_hub\\file_download.py:1132: FutureWarning: `resume_download` is deprecated and will be removed in version 1.0.0. Downloads always resume when possible. If you want to force a new download, use `force_download=True`.\n",
      "  warnings.warn(\n",
      "Epoch(s):  88%|\u001b[31m████████▊ \u001b[0m| 395/450 [12:08:48<1:41:31, 110.75s/it]"
     ]
    },
    {
     "name": "stdout",
     "output_type": "stream",
     "text": [
      "{'Epoch': 396, 'Train Loss': 0.08840456493743586, 'Train Accuracy': 0.9716844143272023, 'Val Loss': 0.5846764161887292, 'Val Accuracy': 0.8568665377176016, 'Val Precision': 0.8639842558210657, 'Val Recall': 0.8568665377176016}\n"
     ]
    },
    {
     "name": "stderr",
     "output_type": "stream",
     "text": [
      "c:\\Users\\Sid\\AppData\\Local\\Programs\\Python\\Python39\\lib\\site-packages\\huggingface_hub\\file_download.py:1132: FutureWarning: `resume_download` is deprecated and will be removed in version 1.0.0. Downloads always resume when possible. If you want to force a new download, use `force_download=True`.\n",
      "  warnings.warn(\n",
      "Epoch(s):  88%|\u001b[31m████████▊ \u001b[0m| 396/450 [12:10:38<1:39:36, 110.67s/it]"
     ]
    },
    {
     "name": "stdout",
     "output_type": "stream",
     "text": [
      "{'Epoch': 397, 'Train Loss': 0.09172820346755817, 'Train Accuracy': 0.973378509196515, 'Val Loss': 0.5981566234247742, 'Val Accuracy': 0.8597678916827853, 'Val Precision': 0.8650099949123682, 'Val Recall': 0.8597678916827853}\n"
     ]
    },
    {
     "name": "stderr",
     "output_type": "stream",
     "text": [
      "c:\\Users\\Sid\\AppData\\Local\\Programs\\Python\\Python39\\lib\\site-packages\\huggingface_hub\\file_download.py:1132: FutureWarning: `resume_download` is deprecated and will be removed in version 1.0.0. Downloads always resume when possible. If you want to force a new download, use `force_download=True`.\n",
      "  warnings.warn(\n",
      "Epoch(s):  88%|\u001b[31m████████▊ \u001b[0m| 397/450 [12:12:29<1:37:42, 110.60s/it]"
     ]
    },
    {
     "name": "stdout",
     "output_type": "stream",
     "text": [
      "{'Epoch': 398, 'Train Loss': 0.10127025700529811, 'Train Accuracy': 0.9670861568247822, 'Val Loss': 0.5736334874872298, 'Val Accuracy': 0.8539651837524178, 'Val Precision': 0.8544992847722768, 'Val Recall': 0.8539651837524178}\n"
     ]
    },
    {
     "name": "stderr",
     "output_type": "stream",
     "text": [
      "c:\\Users\\Sid\\AppData\\Local\\Programs\\Python\\Python39\\lib\\site-packages\\huggingface_hub\\file_download.py:1132: FutureWarning: `resume_download` is deprecated and will be removed in version 1.0.0. Downloads always resume when possible. If you want to force a new download, use `force_download=True`.\n",
      "  warnings.warn(\n",
      "Epoch(s):  88%|\u001b[31m████████▊ \u001b[0m| 398/450 [12:14:20<1:36:00, 110.77s/it]"
     ]
    },
    {
     "name": "stdout",
     "output_type": "stream",
     "text": [
      "{'Epoch': 399, 'Train Loss': 0.08831151571863147, 'Train Accuracy': 0.9724104549854792, 'Val Loss': 0.6048690419070996, 'Val Accuracy': 0.8665377176015474, 'Val Precision': 0.8682742599639657, 'Val Recall': 0.8665377176015474}\n"
     ]
    },
    {
     "name": "stderr",
     "output_type": "stream",
     "text": [
      "c:\\Users\\Sid\\AppData\\Local\\Programs\\Python\\Python39\\lib\\site-packages\\huggingface_hub\\file_download.py:1132: FutureWarning: `resume_download` is deprecated and will be removed in version 1.0.0. Downloads always resume when possible. If you want to force a new download, use `force_download=True`.\n",
      "  warnings.warn(\n",
      "Epoch(s):  89%|\u001b[31m████████▊ \u001b[0m| 399/450 [12:16:10<1:34:05, 110.70s/it]"
     ]
    },
    {
     "name": "stdout",
     "output_type": "stream",
     "text": [
      "{'Epoch': 400, 'Train Loss': 0.09592590788329869, 'Train Accuracy': 0.968296224588577, 'Val Loss': 0.6049402360979002, 'Val Accuracy': 0.8607350096711799, 'Val Precision': 0.8674902873284998, 'Val Recall': 0.8607350096711799}\n"
     ]
    },
    {
     "name": "stderr",
     "output_type": "stream",
     "text": [
      "c:\\Users\\Sid\\AppData\\Local\\Programs\\Python\\Python39\\lib\\site-packages\\huggingface_hub\\file_download.py:1132: FutureWarning: `resume_download` is deprecated and will be removed in version 1.0.0. Downloads always resume when possible. If you want to force a new download, use `force_download=True`.\n",
      "  warnings.warn(\n",
      "Epoch(s):  89%|\u001b[31m████████▉ \u001b[0m| 400/450 [12:18:01<1:32:11, 110.63s/it]"
     ]
    },
    {
     "name": "stdout",
     "output_type": "stream",
     "text": [
      "{'Epoch': 401, 'Train Loss': 0.10149121977807773, 'Train Accuracy': 0.9641819941916747, 'Val Loss': 0.5647979336074338, 'Val Accuracy': 0.8578336557059961, 'Val Precision': 0.8569682023453516, 'Val Recall': 0.8578336557059961}\n"
     ]
    },
    {
     "name": "stderr",
     "output_type": "stream",
     "text": [
      "c:\\Users\\Sid\\AppData\\Local\\Programs\\Python\\Python39\\lib\\site-packages\\huggingface_hub\\file_download.py:1132: FutureWarning: `resume_download` is deprecated and will be removed in version 1.0.0. Downloads always resume when possible. If you want to force a new download, use `force_download=True`.\n",
      "  warnings.warn(\n",
      "Epoch(s):  89%|\u001b[31m████████▉ \u001b[0m| 401/450 [12:19:51<1:30:19, 110.61s/it]"
     ]
    },
    {
     "name": "stdout",
     "output_type": "stream",
     "text": [
      "{'Epoch': 402, 'Train Loss': 0.09673577397621262, 'Train Accuracy': 0.9663601161665053, 'Val Loss': 0.6026551957378196, 'Val Accuracy': 0.8588007736943907, 'Val Precision': 0.8598266522819734, 'Val Recall': 0.8588007736943907}\n"
     ]
    },
    {
     "name": "stderr",
     "output_type": "stream",
     "text": [
      "c:\\Users\\Sid\\AppData\\Local\\Programs\\Python\\Python39\\lib\\site-packages\\huggingface_hub\\file_download.py:1132: FutureWarning: `resume_download` is deprecated and will be removed in version 1.0.0. Downloads always resume when possible. If you want to force a new download, use `force_download=True`.\n",
      "  warnings.warn(\n",
      "Epoch(s):  89%|\u001b[31m████████▉ \u001b[0m| 402/450 [12:21:42<1:28:29, 110.62s/it]"
     ]
    },
    {
     "name": "stdout",
     "output_type": "stream",
     "text": [
      "{'Epoch': 403, 'Train Loss': 0.0914831963528674, 'Train Accuracy': 0.9663601161665053, 'Val Loss': 0.6391609498456371, 'Val Accuracy': 0.8558994197292069, 'Val Precision': 0.8612454782080036, 'Val Recall': 0.8558994197292069}\n"
     ]
    },
    {
     "name": "stderr",
     "output_type": "stream",
     "text": [
      "c:\\Users\\Sid\\AppData\\Local\\Programs\\Python\\Python39\\lib\\site-packages\\huggingface_hub\\file_download.py:1132: FutureWarning: `resume_download` is deprecated and will be removed in version 1.0.0. Downloads always resume when possible. If you want to force a new download, use `force_download=True`.\n",
      "  warnings.warn(\n",
      "Epoch(s):  90%|\u001b[31m████████▉ \u001b[0m| 403/450 [12:23:32<1:26:38, 110.60s/it]"
     ]
    },
    {
     "name": "stdout",
     "output_type": "stream",
     "text": [
      "{'Epoch': 404, 'Train Loss': 0.09893113209868909, 'Train Accuracy': 0.9666021297192643, 'Val Loss': 0.5910465875631556, 'Val Accuracy': 0.8646034816247582, 'Val Precision': 0.8686700809877187, 'Val Recall': 0.8646034816247582}\n"
     ]
    },
    {
     "name": "stderr",
     "output_type": "stream",
     "text": [
      "c:\\Users\\Sid\\AppData\\Local\\Programs\\Python\\Python39\\lib\\site-packages\\huggingface_hub\\file_download.py:1132: FutureWarning: `resume_download` is deprecated and will be removed in version 1.0.0. Downloads always resume when possible. If you want to force a new download, use `force_download=True`.\n",
      "  warnings.warn(\n",
      "Epoch(s):  90%|\u001b[31m████████▉ \u001b[0m| 404/450 [12:25:23<1:24:47, 110.59s/it]"
     ]
    },
    {
     "name": "stdout",
     "output_type": "stream",
     "text": [
      "{'Epoch': 405, 'Train Loss': 0.08983505014253737, 'Train Accuracy': 0.9704743465634076, 'Val Loss': 0.5922107895451169, 'Val Accuracy': 0.8646034816247582, 'Val Precision': 0.865837873336919, 'Val Recall': 0.8646034816247582}\n"
     ]
    },
    {
     "name": "stderr",
     "output_type": "stream",
     "text": [
      "c:\\Users\\Sid\\AppData\\Local\\Programs\\Python\\Python39\\lib\\site-packages\\huggingface_hub\\file_download.py:1132: FutureWarning: `resume_download` is deprecated and will be removed in version 1.0.0. Downloads always resume when possible. If you want to force a new download, use `force_download=True`.\n",
      "  warnings.warn(\n",
      "Epoch(s):  90%|\u001b[31m█████████ \u001b[0m| 405/450 [12:27:14<1:22:56, 110.60s/it]"
     ]
    },
    {
     "name": "stdout",
     "output_type": "stream",
     "text": [
      "{'Epoch': 406, 'Train Loss': 0.09421865677647112, 'Train Accuracy': 0.968054211035818, 'Val Loss': 0.5832187263398038, 'Val Accuracy': 0.8665377176015474, 'Val Precision': 0.8703142502404329, 'Val Recall': 0.8665377176015474}\n"
     ]
    },
    {
     "name": "stderr",
     "output_type": "stream",
     "text": [
      "c:\\Users\\Sid\\AppData\\Local\\Programs\\Python\\Python39\\lib\\site-packages\\huggingface_hub\\file_download.py:1132: FutureWarning: `resume_download` is deprecated and will be removed in version 1.0.0. Downloads always resume when possible. If you want to force a new download, use `force_download=True`.\n",
      "  warnings.warn(\n",
      "Epoch(s):  90%|\u001b[31m█████████ \u001b[0m| 406/450 [12:29:04<1:21:05, 110.58s/it]"
     ]
    },
    {
     "name": "stdout",
     "output_type": "stream",
     "text": [
      "{'Epoch': 407, 'Train Loss': 0.08579905843959178, 'Train Accuracy': 0.9755566311713456, 'Val Loss': 0.6379430068218006, 'Val Accuracy': 0.8500967117988395, 'Val Precision': 0.8551693707631222, 'Val Recall': 0.8500967117988395}\n"
     ]
    },
    {
     "name": "stderr",
     "output_type": "stream",
     "text": [
      "c:\\Users\\Sid\\AppData\\Local\\Programs\\Python\\Python39\\lib\\site-packages\\huggingface_hub\\file_download.py:1132: FutureWarning: `resume_download` is deprecated and will be removed in version 1.0.0. Downloads always resume when possible. If you want to force a new download, use `force_download=True`.\n",
      "  warnings.warn(\n",
      "Epoch(s):  90%|\u001b[31m█████████ \u001b[0m| 407/450 [12:30:55<1:19:18, 110.66s/it]"
     ]
    },
    {
     "name": "stdout",
     "output_type": "stream",
     "text": [
      "{'Epoch': 408, 'Train Loss': 0.0928792446769925, 'Train Accuracy': 0.967812197483059, 'Val Loss': 0.6314403593828991, 'Val Accuracy': 0.8597678916827853, 'Val Precision': 0.8584246950653923, 'Val Recall': 0.8597678916827853}\n"
     ]
    },
    {
     "name": "stderr",
     "output_type": "stream",
     "text": [
      "c:\\Users\\Sid\\AppData\\Local\\Programs\\Python\\Python39\\lib\\site-packages\\huggingface_hub\\file_download.py:1132: FutureWarning: `resume_download` is deprecated and will be removed in version 1.0.0. Downloads always resume when possible. If you want to force a new download, use `force_download=True`.\n",
      "  warnings.warn(\n",
      "Epoch(s):  91%|\u001b[31m█████████ \u001b[0m| 408/450 [12:32:46<1:17:26, 110.64s/it]"
     ]
    },
    {
     "name": "stdout",
     "output_type": "stream",
     "text": [
      "{'Epoch': 409, 'Train Loss': 0.09300152948000343, 'Train Accuracy': 0.9668441432720233, 'Val Loss': 0.6584949597223805, 'Val Accuracy': 0.8529980657640233, 'Val Precision': 0.8720635094526914, 'Val Recall': 0.8529980657640233}\n"
     ]
    },
    {
     "name": "stderr",
     "output_type": "stream",
     "text": [
      "c:\\Users\\Sid\\AppData\\Local\\Programs\\Python\\Python39\\lib\\site-packages\\huggingface_hub\\file_download.py:1132: FutureWarning: `resume_download` is deprecated and will be removed in version 1.0.0. Downloads always resume when possible. If you want to force a new download, use `force_download=True`.\n",
      "  warnings.warn(\n",
      "Epoch(s):  91%|\u001b[31m█████████ \u001b[0m| 409/450 [12:34:36<1:15:34, 110.60s/it]"
     ]
    },
    {
     "name": "stdout",
     "output_type": "stream",
     "text": [
      "{'Epoch': 410, 'Train Loss': 0.09163385471597095, 'Train Accuracy': 0.9724104549854792, 'Val Loss': 0.6020104500223309, 'Val Accuracy': 0.8626692456479691, 'Val Precision': 0.8636926999862427, 'Val Recall': 0.8626692456479691}\n"
     ]
    },
    {
     "name": "stderr",
     "output_type": "stream",
     "text": [
      "c:\\Users\\Sid\\AppData\\Local\\Programs\\Python\\Python39\\lib\\site-packages\\huggingface_hub\\file_download.py:1132: FutureWarning: `resume_download` is deprecated and will be removed in version 1.0.0. Downloads always resume when possible. If you want to force a new download, use `force_download=True`.\n",
      "  warnings.warn(\n",
      "Epoch(s):  91%|\u001b[31m█████████ \u001b[0m| 410/450 [12:36:27<1:13:43, 110.58s/it]"
     ]
    },
    {
     "name": "stdout",
     "output_type": "stream",
     "text": [
      "{'Epoch': 411, 'Train Loss': 0.08576824197511487, 'Train Accuracy': 0.9726524685382382, 'Val Loss': 0.596004790020547, 'Val Accuracy': 0.8588007736943907, 'Val Precision': 0.857720059664755, 'Val Recall': 0.8588007736943907}\n"
     ]
    },
    {
     "name": "stderr",
     "output_type": "stream",
     "text": [
      "c:\\Users\\Sid\\AppData\\Local\\Programs\\Python\\Python39\\lib\\site-packages\\huggingface_hub\\file_download.py:1132: FutureWarning: `resume_download` is deprecated and will be removed in version 1.0.0. Downloads always resume when possible. If you want to force a new download, use `force_download=True`.\n",
      "  warnings.warn(\n",
      "Epoch(s):  91%|\u001b[31m█████████▏\u001b[0m| 411/450 [12:38:17<1:11:52, 110.58s/it]"
     ]
    },
    {
     "name": "stdout",
     "output_type": "stream",
     "text": [
      "{'Epoch': 412, 'Train Loss': 0.09083859210365718, 'Train Accuracy': 0.9719264278799613, 'Val Loss': 0.6216394968720403, 'Val Accuracy': 0.8636363636363636, 'Val Precision': 0.8639394350259675, 'Val Recall': 0.8636363636363636}\n"
     ]
    },
    {
     "name": "stderr",
     "output_type": "stream",
     "text": [
      "c:\\Users\\Sid\\AppData\\Local\\Programs\\Python\\Python39\\lib\\site-packages\\huggingface_hub\\file_download.py:1132: FutureWarning: `resume_download` is deprecated and will be removed in version 1.0.0. Downloads always resume when possible. If you want to force a new download, use `force_download=True`.\n",
      "  warnings.warn(\n",
      "Epoch(s):  92%|\u001b[31m█████████▏\u001b[0m| 412/450 [12:40:08<1:10:01, 110.56s/it]"
     ]
    },
    {
     "name": "stdout",
     "output_type": "stream",
     "text": [
      "{'Epoch': 413, 'Train Loss': 0.08471050059001912, 'Train Accuracy': 0.9719264278799613, 'Val Loss': 0.6111693802453094, 'Val Accuracy': 0.8646034816247582, 'Val Precision': 0.8677379292039102, 'Val Recall': 0.8646034816247582}\n"
     ]
    },
    {
     "name": "stderr",
     "output_type": "stream",
     "text": [
      "c:\\Users\\Sid\\AppData\\Local\\Programs\\Python\\Python39\\lib\\site-packages\\huggingface_hub\\file_download.py:1132: FutureWarning: `resume_download` is deprecated and will be removed in version 1.0.0. Downloads always resume when possible. If you want to force a new download, use `force_download=True`.\n",
      "  warnings.warn(\n",
      "Epoch(s):  92%|\u001b[31m█████████▏\u001b[0m| 413/450 [12:41:58<1:08:09, 110.53s/it]"
     ]
    },
    {
     "name": "stdout",
     "output_type": "stream",
     "text": [
      "{'Epoch': 414, 'Train Loss': 0.0837073283718133, 'Train Accuracy': 0.9721684414327202, 'Val Loss': 0.6433578688916616, 'Val Accuracy': 0.8500967117988395, 'Val Precision': 0.8546523214535405, 'Val Recall': 0.8500967117988395}\n"
     ]
    },
    {
     "name": "stderr",
     "output_type": "stream",
     "text": [
      "c:\\Users\\Sid\\AppData\\Local\\Programs\\Python\\Python39\\lib\\site-packages\\huggingface_hub\\file_download.py:1132: FutureWarning: `resume_download` is deprecated and will be removed in version 1.0.0. Downloads always resume when possible. If you want to force a new download, use `force_download=True`.\n",
      "  warnings.warn(\n",
      "Epoch(s):  92%|\u001b[31m█████████▏\u001b[0m| 414/450 [12:43:49<1:06:20, 110.56s/it]"
     ]
    },
    {
     "name": "stdout",
     "output_type": "stream",
     "text": [
      "{'Epoch': 415, 'Train Loss': 0.08567854261806084, 'Train Accuracy': 0.9712003872216844, 'Val Loss': 0.6356566271827503, 'Val Accuracy': 0.8617021276595744, 'Val Precision': 0.867338981594655, 'Val Recall': 0.8617021276595744}\n"
     ]
    },
    {
     "name": "stderr",
     "output_type": "stream",
     "text": [
      "c:\\Users\\Sid\\AppData\\Local\\Programs\\Python\\Python39\\lib\\site-packages\\huggingface_hub\\file_download.py:1132: FutureWarning: `resume_download` is deprecated and will be removed in version 1.0.0. Downloads always resume when possible. If you want to force a new download, use `force_download=True`.\n",
      "  warnings.warn(\n",
      "Epoch(s):  92%|\u001b[31m█████████▏\u001b[0m| 415/450 [12:45:39<1:04:30, 110.57s/it]"
     ]
    },
    {
     "name": "stdout",
     "output_type": "stream",
     "text": [
      "{'Epoch': 416, 'Train Loss': 0.09764724844649998, 'Train Accuracy': 0.9666021297192643, 'Val Loss': 0.6223628734527246, 'Val Accuracy': 0.8646034816247582, 'Val Precision': 0.8666457239409402, 'Val Recall': 0.8646034816247582}\n"
     ]
    },
    {
     "name": "stderr",
     "output_type": "stream",
     "text": [
      "c:\\Users\\Sid\\AppData\\Local\\Programs\\Python\\Python39\\lib\\site-packages\\huggingface_hub\\file_download.py:1132: FutureWarning: `resume_download` is deprecated and will be removed in version 1.0.0. Downloads always resume when possible. If you want to force a new download, use `force_download=True`.\n",
      "  warnings.warn(\n",
      "Epoch(s):  92%|\u001b[31m█████████▏\u001b[0m| 416/450 [12:47:30<1:02:39, 110.57s/it]"
     ]
    },
    {
     "name": "stdout",
     "output_type": "stream",
     "text": [
      "{'Epoch': 417, 'Train Loss': 0.09364165684416607, 'Train Accuracy': 0.9709583736689255, 'Val Loss': 0.6010300907432863, 'Val Accuracy': 0.8568665377176016, 'Val Precision': 0.8579282568027294, 'Val Recall': 0.8568665377176016}\n"
     ]
    },
    {
     "name": "stderr",
     "output_type": "stream",
     "text": [
      "c:\\Users\\Sid\\AppData\\Local\\Programs\\Python\\Python39\\lib\\site-packages\\huggingface_hub\\file_download.py:1132: FutureWarning: `resume_download` is deprecated and will be removed in version 1.0.0. Downloads always resume when possible. If you want to force a new download, use `force_download=True`.\n",
      "  warnings.warn(\n",
      "Epoch(s):  93%|\u001b[31m█████████▎\u001b[0m| 417/450 [12:49:21<1:00:49, 110.59s/it]"
     ]
    },
    {
     "name": "stdout",
     "output_type": "stream",
     "text": [
      "{'Epoch': 418, 'Train Loss': 0.08831033914255133, 'Train Accuracy': 0.9702323330106486, 'Val Loss': 0.6312796717384257, 'Val Accuracy': 0.8539651837524178, 'Val Precision': 0.860527345310705, 'Val Recall': 0.8539651837524178}\n"
     ]
    },
    {
     "name": "stderr",
     "output_type": "stream",
     "text": [
      "c:\\Users\\Sid\\AppData\\Local\\Programs\\Python\\Python39\\lib\\site-packages\\huggingface_hub\\file_download.py:1132: FutureWarning: `resume_download` is deprecated and will be removed in version 1.0.0. Downloads always resume when possible. If you want to force a new download, use `force_download=True`.\n",
      "  warnings.warn(\n",
      "Epoch(s):  93%|\u001b[31m█████████▎\u001b[0m| 418/450 [12:51:11<59:00, 110.63s/it]  "
     ]
    },
    {
     "name": "stdout",
     "output_type": "stream",
     "text": [
      "{'Epoch': 419, 'Train Loss': 0.08617467316731443, 'Train Accuracy': 0.9712003872216844, 'Val Loss': 0.613883196896551, 'Val Accuracy': 0.8646034816247582, 'Val Precision': 0.8725847561730757, 'Val Recall': 0.8646034816247582}\n"
     ]
    },
    {
     "name": "stderr",
     "output_type": "stream",
     "text": [
      "c:\\Users\\Sid\\AppData\\Local\\Programs\\Python\\Python39\\lib\\site-packages\\huggingface_hub\\file_download.py:1132: FutureWarning: `resume_download` is deprecated and will be removed in version 1.0.0. Downloads always resume when possible. If you want to force a new download, use `force_download=True`.\n",
      "  warnings.warn(\n",
      "Epoch(s):  93%|\u001b[31m█████████▎\u001b[0m| 419/450 [12:53:02<57:08, 110.60s/it]"
     ]
    },
    {
     "name": "stdout",
     "output_type": "stream",
     "text": [
      "{'Epoch': 420, 'Train Loss': 0.08567510711538882, 'Train Accuracy': 0.972894482090997, 'Val Loss': 0.6209629833755361, 'Val Accuracy': 0.8539651837524178, 'Val Precision': 0.8594037984334909, 'Val Recall': 0.8539651837524178}\n"
     ]
    },
    {
     "name": "stderr",
     "output_type": "stream",
     "text": [
      "c:\\Users\\Sid\\AppData\\Local\\Programs\\Python\\Python39\\lib\\site-packages\\huggingface_hub\\file_download.py:1132: FutureWarning: `resume_download` is deprecated and will be removed in version 1.0.0. Downloads always resume when possible. If you want to force a new download, use `force_download=True`.\n",
      "  warnings.warn(\n",
      "Epoch(s):  93%|\u001b[31m█████████▎\u001b[0m| 420/450 [12:54:52<55:16, 110.55s/it]"
     ]
    },
    {
     "name": "stdout",
     "output_type": "stream",
     "text": [
      "{'Epoch': 421, 'Train Loss': 0.08019442264773635, 'Train Accuracy': 0.972894482090997, 'Val Loss': 0.5928747118911885, 'Val Accuracy': 0.8607350096711799, 'Val Precision': 0.8623077058058018, 'Val Recall': 0.8607350096711799}\n"
     ]
    },
    {
     "name": "stderr",
     "output_type": "stream",
     "text": [
      "c:\\Users\\Sid\\AppData\\Local\\Programs\\Python\\Python39\\lib\\site-packages\\huggingface_hub\\file_download.py:1132: FutureWarning: `resume_download` is deprecated and will be removed in version 1.0.0. Downloads always resume when possible. If you want to force a new download, use `force_download=True`.\n",
      "  warnings.warn(\n",
      "Epoch(s):  94%|\u001b[31m█████████▎\u001b[0m| 421/450 [12:56:43<53:27, 110.62s/it]"
     ]
    },
    {
     "name": "stdout",
     "output_type": "stream",
     "text": [
      "{'Epoch': 422, 'Train Loss': 0.08865950951864224, 'Train Accuracy': 0.9670861568247822, 'Val Loss': 0.5990282625495008, 'Val Accuracy': 0.8636363636363636, 'Val Precision': 0.8663039720971296, 'Val Recall': 0.8636363636363636}\n"
     ]
    },
    {
     "name": "stderr",
     "output_type": "stream",
     "text": [
      "c:\\Users\\Sid\\AppData\\Local\\Programs\\Python\\Python39\\lib\\site-packages\\huggingface_hub\\file_download.py:1132: FutureWarning: `resume_download` is deprecated and will be removed in version 1.0.0. Downloads always resume when possible. If you want to force a new download, use `force_download=True`.\n",
      "  warnings.warn(\n",
      "Epoch(s):  94%|\u001b[31m█████████▍\u001b[0m| 422/450 [12:58:34<51:35, 110.57s/it]"
     ]
    },
    {
     "name": "stdout",
     "output_type": "stream",
     "text": [
      "{'Epoch': 423, 'Train Loss': 0.07467803026079362, 'Train Accuracy': 0.9770087124878993, 'Val Loss': 0.5883454542013798, 'Val Accuracy': 0.8588007736943907, 'Val Precision': 0.8606829752525729, 'Val Recall': 0.8588007736943907}\n"
     ]
    },
    {
     "name": "stderr",
     "output_type": "stream",
     "text": [
      "c:\\Users\\Sid\\AppData\\Local\\Programs\\Python\\Python39\\lib\\site-packages\\huggingface_hub\\file_download.py:1132: FutureWarning: `resume_download` is deprecated and will be removed in version 1.0.0. Downloads always resume when possible. If you want to force a new download, use `force_download=True`.\n",
      "  warnings.warn(\n",
      "Epoch(s):  94%|\u001b[31m█████████▍\u001b[0m| 423/450 [13:00:24<49:44, 110.54s/it]"
     ]
    },
    {
     "name": "stdout",
     "output_type": "stream",
     "text": [
      "{'Epoch': 424, 'Train Loss': 0.08079606844610077, 'Train Accuracy': 0.973136495643756, 'Val Loss': 0.6424890852969838, 'Val Accuracy': 0.851063829787234, 'Val Precision': 0.8554159932790163, 'Val Recall': 0.851063829787234}\n"
     ]
    },
    {
     "name": "stderr",
     "output_type": "stream",
     "text": [
      "c:\\Users\\Sid\\AppData\\Local\\Programs\\Python\\Python39\\lib\\site-packages\\huggingface_hub\\file_download.py:1132: FutureWarning: `resume_download` is deprecated and will be removed in version 1.0.0. Downloads always resume when possible. If you want to force a new download, use `force_download=True`.\n",
      "  warnings.warn(\n",
      "Epoch(s):  94%|\u001b[31m█████████▍\u001b[0m| 424/450 [13:02:15<47:54, 110.55s/it]"
     ]
    },
    {
     "name": "stdout",
     "output_type": "stream",
     "text": [
      "{'Epoch': 425, 'Train Loss': 0.08247815612718731, 'Train Accuracy': 0.9736205227492739, 'Val Loss': 0.6129160648207359, 'Val Accuracy': 0.8646034816247582, 'Val Precision': 0.8614338866272654, 'Val Recall': 0.8646034816247582}\n"
     ]
    },
    {
     "name": "stderr",
     "output_type": "stream",
     "text": [
      "c:\\Users\\Sid\\AppData\\Local\\Programs\\Python\\Python39\\lib\\site-packages\\huggingface_hub\\file_download.py:1132: FutureWarning: `resume_download` is deprecated and will be removed in version 1.0.0. Downloads always resume when possible. If you want to force a new download, use `force_download=True`.\n",
      "  warnings.warn(\n",
      "Epoch(s):  94%|\u001b[31m█████████▍\u001b[0m| 425/450 [13:04:05<46:04, 110.59s/it]"
     ]
    },
    {
     "name": "stdout",
     "output_type": "stream",
     "text": [
      "{'Epoch': 426, 'Train Loss': 0.0784136807944034, 'Train Accuracy': 0.9760406582768635, 'Val Loss': 0.6142626158163274, 'Val Accuracy': 0.8597678916827853, 'Val Precision': 0.8613541253041223, 'Val Recall': 0.8597678916827853}\n"
     ]
    },
    {
     "name": "stderr",
     "output_type": "stream",
     "text": [
      "c:\\Users\\Sid\\AppData\\Local\\Programs\\Python\\Python39\\lib\\site-packages\\huggingface_hub\\file_download.py:1132: FutureWarning: `resume_download` is deprecated and will be removed in version 1.0.0. Downloads always resume when possible. If you want to force a new download, use `force_download=True`.\n",
      "  warnings.warn(\n",
      "Epoch(s):  95%|\u001b[31m█████████▍\u001b[0m| 426/450 [13:05:56<44:13, 110.57s/it]"
     ]
    },
    {
     "name": "stdout",
     "output_type": "stream",
     "text": [
      "{'Epoch': 427, 'Train Loss': 0.07795416267221734, 'Train Accuracy': 0.9770087124878993, 'Val Loss': 0.5919425587107141, 'Val Accuracy': 0.8646034816247582, 'Val Precision': 0.8630342152974335, 'Val Recall': 0.8646034816247582}\n"
     ]
    },
    {
     "name": "stderr",
     "output_type": "stream",
     "text": [
      "c:\\Users\\Sid\\AppData\\Local\\Programs\\Python\\Python39\\lib\\site-packages\\huggingface_hub\\file_download.py:1132: FutureWarning: `resume_download` is deprecated and will be removed in version 1.0.0. Downloads always resume when possible. If you want to force a new download, use `force_download=True`.\n",
      "  warnings.warn(\n",
      "Epoch(s):  95%|\u001b[31m█████████▍\u001b[0m| 427/450 [13:07:46<42:23, 110.57s/it]"
     ]
    },
    {
     "name": "stdout",
     "output_type": "stream",
     "text": [
      "{'Epoch': 428, 'Train Loss': 0.09300558224938334, 'Train Accuracy': 0.9675701839303001, 'Val Loss': 0.6367284528024566, 'Val Accuracy': 0.8588007736943907, 'Val Precision': 0.8653658266806041, 'Val Recall': 0.8588007736943907}\n"
     ]
    },
    {
     "name": "stderr",
     "output_type": "stream",
     "text": [
      "c:\\Users\\Sid\\AppData\\Local\\Programs\\Python\\Python39\\lib\\site-packages\\huggingface_hub\\file_download.py:1132: FutureWarning: `resume_download` is deprecated and will be removed in version 1.0.0. Downloads always resume when possible. If you want to force a new download, use `force_download=True`.\n",
      "  warnings.warn(\n",
      "Epoch(s):  95%|\u001b[31m█████████▌\u001b[0m| 428/450 [13:09:37<40:32, 110.58s/it]"
     ]
    },
    {
     "name": "stdout",
     "output_type": "stream",
     "text": [
      "{'Epoch': 429, 'Train Loss': 0.0848765430956136, 'Train Accuracy': 0.9719264278799613, 'Val Loss': 0.6299368158632066, 'Val Accuracy': 0.8558994197292069, 'Val Precision': 0.8630754979071941, 'Val Recall': 0.8558994197292069}\n"
     ]
    },
    {
     "name": "stderr",
     "output_type": "stream",
     "text": [
      "c:\\Users\\Sid\\AppData\\Local\\Programs\\Python\\Python39\\lib\\site-packages\\huggingface_hub\\file_download.py:1132: FutureWarning: `resume_download` is deprecated and will be removed in version 1.0.0. Downloads always resume when possible. If you want to force a new download, use `force_download=True`.\n",
      "  warnings.warn(\n",
      "Epoch(s):  95%|\u001b[31m█████████▌\u001b[0m| 429/450 [13:11:28<38:45, 110.72s/it]"
     ]
    },
    {
     "name": "stdout",
     "output_type": "stream",
     "text": [
      "{'Epoch': 430, 'Train Loss': 0.0829772009345942, 'Train Accuracy': 0.9712003872216844, 'Val Loss': 0.6352784581079435, 'Val Accuracy': 0.8568665377176016, 'Val Precision': 0.8608205212615461, 'Val Recall': 0.8568665377176016}\n"
     ]
    },
    {
     "name": "stderr",
     "output_type": "stream",
     "text": [
      "c:\\Users\\Sid\\AppData\\Local\\Programs\\Python\\Python39\\lib\\site-packages\\huggingface_hub\\file_download.py:1132: FutureWarning: `resume_download` is deprecated and will be removed in version 1.0.0. Downloads always resume when possible. If you want to force a new download, use `force_download=True`.\n",
      "  warnings.warn(\n",
      "Epoch(s):  96%|\u001b[31m█████████▌\u001b[0m| 430/450 [13:13:19<36:53, 110.66s/it]"
     ]
    },
    {
     "name": "stdout",
     "output_type": "stream",
     "text": [
      "{'Epoch': 431, 'Train Loss': 0.08091343569786838, 'Train Accuracy': 0.9748305905130688, 'Val Loss': 0.6227621536471326, 'Val Accuracy': 0.8578336557059961, 'Val Precision': 0.8594692976863443, 'Val Recall': 0.8578336557059961}\n"
     ]
    },
    {
     "name": "stderr",
     "output_type": "stream",
     "text": [
      "c:\\Users\\Sid\\AppData\\Local\\Programs\\Python\\Python39\\lib\\site-packages\\huggingface_hub\\file_download.py:1132: FutureWarning: `resume_download` is deprecated and will be removed in version 1.0.0. Downloads always resume when possible. If you want to force a new download, use `force_download=True`.\n",
      "  warnings.warn(\n",
      "Epoch(s):  96%|\u001b[31m█████████▌\u001b[0m| 431/450 [13:15:09<35:02, 110.66s/it]"
     ]
    },
    {
     "name": "stdout",
     "output_type": "stream",
     "text": [
      "{'Epoch': 432, 'Train Loss': 0.07583000914058396, 'Train Accuracy': 0.9767666989351403, 'Val Loss': 0.6585431525615814, 'Val Accuracy': 0.8539651837524178, 'Val Precision': 0.859054963485923, 'Val Recall': 0.8539651837524178}\n"
     ]
    },
    {
     "name": "stderr",
     "output_type": "stream",
     "text": [
      "c:\\Users\\Sid\\AppData\\Local\\Programs\\Python\\Python39\\lib\\site-packages\\huggingface_hub\\file_download.py:1132: FutureWarning: `resume_download` is deprecated and will be removed in version 1.0.0. Downloads always resume when possible. If you want to force a new download, use `force_download=True`.\n",
      "  warnings.warn(\n",
      "Epoch(s):  96%|\u001b[31m█████████▌\u001b[0m| 432/450 [13:17:00<33:11, 110.64s/it]"
     ]
    },
    {
     "name": "stdout",
     "output_type": "stream",
     "text": [
      "{'Epoch': 433, 'Train Loss': 0.08345434837069327, 'Train Accuracy': 0.9716844143272023, 'Val Loss': 0.6402834159783267, 'Val Accuracy': 0.8646034816247582, 'Val Precision': 0.872313660914246, 'Val Recall': 0.8646034816247582}\n"
     ]
    },
    {
     "name": "stderr",
     "output_type": "stream",
     "text": [
      "c:\\Users\\Sid\\AppData\\Local\\Programs\\Python\\Python39\\lib\\site-packages\\huggingface_hub\\file_download.py:1132: FutureWarning: `resume_download` is deprecated and will be removed in version 1.0.0. Downloads always resume when possible. If you want to force a new download, use `force_download=True`.\n",
      "  warnings.warn(\n",
      "Epoch(s):  96%|\u001b[31m█████████▌\u001b[0m| 433/450 [13:18:50<31:20, 110.61s/it]"
     ]
    },
    {
     "name": "stdout",
     "output_type": "stream",
     "text": [
      "{'Epoch': 434, 'Train Loss': 0.08196935664376281, 'Train Accuracy': 0.9738625363020329, 'Val Loss': 0.6017954737359944, 'Val Accuracy': 0.8636363636363636, 'Val Precision': 0.8647578050962136, 'Val Recall': 0.8636363636363636}\n"
     ]
    },
    {
     "name": "stderr",
     "output_type": "stream",
     "text": [
      "c:\\Users\\Sid\\AppData\\Local\\Programs\\Python\\Python39\\lib\\site-packages\\huggingface_hub\\file_download.py:1132: FutureWarning: `resume_download` is deprecated and will be removed in version 1.0.0. Downloads always resume when possible. If you want to force a new download, use `force_download=True`.\n",
      "  warnings.warn(\n",
      "Epoch(s):  96%|\u001b[31m█████████▋\u001b[0m| 434/450 [13:20:41<29:30, 110.64s/it]"
     ]
    },
    {
     "name": "stdout",
     "output_type": "stream",
     "text": [
      "{'Epoch': 435, 'Train Loss': 0.08166008771513589, 'Train Accuracy': 0.9726524685382382, 'Val Loss': 0.6339123716121181, 'Val Accuracy': 0.8646034816247582, 'Val Precision': 0.8673535701315643, 'Val Recall': 0.8646034816247582}\n"
     ]
    },
    {
     "name": "stderr",
     "output_type": "stream",
     "text": [
      "c:\\Users\\Sid\\AppData\\Local\\Programs\\Python\\Python39\\lib\\site-packages\\huggingface_hub\\file_download.py:1132: FutureWarning: `resume_download` is deprecated and will be removed in version 1.0.0. Downloads always resume when possible. If you want to force a new download, use `force_download=True`.\n",
      "  warnings.warn(\n",
      "Epoch(s):  97%|\u001b[31m█████████▋\u001b[0m| 435/450 [13:22:32<27:41, 110.75s/it]"
     ]
    },
    {
     "name": "stdout",
     "output_type": "stream",
     "text": [
      "{'Epoch': 436, 'Train Loss': 0.07806613874099394, 'Train Accuracy': 0.9750726040658277, 'Val Loss': 0.6357389823094799, 'Val Accuracy': 0.8646034816247582, 'Val Precision': 0.8687164133979394, 'Val Recall': 0.8646034816247582}\n"
     ]
    },
    {
     "name": "stderr",
     "output_type": "stream",
     "text": [
      "c:\\Users\\Sid\\AppData\\Local\\Programs\\Python\\Python39\\lib\\site-packages\\huggingface_hub\\file_download.py:1132: FutureWarning: `resume_download` is deprecated and will be removed in version 1.0.0. Downloads always resume when possible. If you want to force a new download, use `force_download=True`.\n",
      "  warnings.warn(\n",
      "Epoch(s):  97%|\u001b[31m█████████▋\u001b[0m| 436/450 [13:24:23<25:49, 110.69s/it]"
     ]
    },
    {
     "name": "stdout",
     "output_type": "stream",
     "text": [
      "{'Epoch': 437, 'Train Loss': 0.0793266248843252, 'Train Accuracy': 0.9762826718296225, 'Val Loss': 0.6388978334354201, 'Val Accuracy': 0.8588007736943907, 'Val Precision': 0.858335917495839, 'Val Recall': 0.8588007736943907}\n"
     ]
    },
    {
     "name": "stderr",
     "output_type": "stream",
     "text": [
      "c:\\Users\\Sid\\AppData\\Local\\Programs\\Python\\Python39\\lib\\site-packages\\huggingface_hub\\file_download.py:1132: FutureWarning: `resume_download` is deprecated and will be removed in version 1.0.0. Downloads always resume when possible. If you want to force a new download, use `force_download=True`.\n",
      "  warnings.warn(\n",
      "Epoch(s):  97%|\u001b[31m█████████▋\u001b[0m| 437/450 [13:26:13<23:58, 110.67s/it]"
     ]
    },
    {
     "name": "stdout",
     "output_type": "stream",
     "text": [
      "{'Epoch': 438, 'Train Loss': 0.07182336346768597, 'Train Accuracy': 0.978702807357212, 'Val Loss': 0.6255529921125764, 'Val Accuracy': 0.8558994197292069, 'Val Precision': 0.8563026768045151, 'Val Recall': 0.8558994197292069}\n"
     ]
    },
    {
     "name": "stderr",
     "output_type": "stream",
     "text": [
      "c:\\Users\\Sid\\AppData\\Local\\Programs\\Python\\Python39\\lib\\site-packages\\huggingface_hub\\file_download.py:1132: FutureWarning: `resume_download` is deprecated and will be removed in version 1.0.0. Downloads always resume when possible. If you want to force a new download, use `force_download=True`.\n",
      "  warnings.warn(\n",
      "Epoch(s):  97%|\u001b[31m█████████▋\u001b[0m| 438/450 [13:28:04<22:07, 110.66s/it]"
     ]
    },
    {
     "name": "stdout",
     "output_type": "stream",
     "text": [
      "{'Epoch': 439, 'Train Loss': 0.08364748253584138, 'Train Accuracy': 0.9704743465634076, 'Val Loss': 0.630399174336344, 'Val Accuracy': 0.8684719535783365, 'Val Precision': 0.871089879183469, 'Val Recall': 0.8684719535783365}\n"
     ]
    },
    {
     "name": "stderr",
     "output_type": "stream",
     "text": [
      "c:\\Users\\Sid\\AppData\\Local\\Programs\\Python\\Python39\\lib\\site-packages\\huggingface_hub\\file_download.py:1132: FutureWarning: `resume_download` is deprecated and will be removed in version 1.0.0. Downloads always resume when possible. If you want to force a new download, use `force_download=True`.\n",
      "  warnings.warn(\n",
      "Epoch(s):  98%|\u001b[31m█████████▊\u001b[0m| 439/450 [13:29:54<20:16, 110.62s/it]"
     ]
    },
    {
     "name": "stdout",
     "output_type": "stream",
     "text": [
      "{'Epoch': 440, 'Train Loss': 0.07107710281400906, 'Train Accuracy': 0.9789448209099709, 'Val Loss': 0.632016851411922, 'Val Accuracy': 0.8529980657640233, 'Val Precision': 0.8509899999094614, 'Val Recall': 0.8529980657640233}\n"
     ]
    },
    {
     "name": "stderr",
     "output_type": "stream",
     "text": [
      "c:\\Users\\Sid\\AppData\\Local\\Programs\\Python\\Python39\\lib\\site-packages\\huggingface_hub\\file_download.py:1132: FutureWarning: `resume_download` is deprecated and will be removed in version 1.0.0. Downloads always resume when possible. If you want to force a new download, use `force_download=True`.\n",
      "  warnings.warn(\n",
      "Epoch(s):  98%|\u001b[31m█████████▊\u001b[0m| 440/450 [13:31:45<18:26, 110.62s/it]"
     ]
    },
    {
     "name": "stdout",
     "output_type": "stream",
     "text": [
      "{'Epoch': 441, 'Train Loss': 0.07418066339352003, 'Train Accuracy': 0.9774927395934172, 'Val Loss': 0.6553393570645802, 'Val Accuracy': 0.8549323017408124, 'Val Precision': 0.8594671462399966, 'Val Recall': 0.8549323017408124}\n"
     ]
    },
    {
     "name": "stderr",
     "output_type": "stream",
     "text": [
      "c:\\Users\\Sid\\AppData\\Local\\Programs\\Python\\Python39\\lib\\site-packages\\huggingface_hub\\file_download.py:1132: FutureWarning: `resume_download` is deprecated and will be removed in version 1.0.0. Downloads always resume when possible. If you want to force a new download, use `force_download=True`.\n",
      "  warnings.warn(\n",
      "Epoch(s):  98%|\u001b[31m█████████▊\u001b[0m| 441/450 [13:33:36<16:35, 110.63s/it]"
     ]
    },
    {
     "name": "stdout",
     "output_type": "stream",
     "text": [
      "{'Epoch': 442, 'Train Loss': 0.07660435980851546, 'Train Accuracy': 0.9738625363020329, 'Val Loss': 0.6151574802952102, 'Val Accuracy': 0.867504835589942, 'Val Precision': 0.8679731220810415, 'Val Recall': 0.867504835589942}\n"
     ]
    },
    {
     "name": "stderr",
     "output_type": "stream",
     "text": [
      "c:\\Users\\Sid\\AppData\\Local\\Programs\\Python\\Python39\\lib\\site-packages\\huggingface_hub\\file_download.py:1132: FutureWarning: `resume_download` is deprecated and will be removed in version 1.0.0. Downloads always resume when possible. If you want to force a new download, use `force_download=True`.\n",
      "  warnings.warn(\n",
      "Epoch(s):  98%|\u001b[31m█████████▊\u001b[0m| 442/450 [13:35:26<14:44, 110.61s/it]"
     ]
    },
    {
     "name": "stdout",
     "output_type": "stream",
     "text": [
      "{'Epoch': 443, 'Train Loss': 0.08616361789339033, 'Train Accuracy': 0.9695062923523717, 'Val Loss': 0.6622423575586603, 'Val Accuracy': 0.8500967117988395, 'Val Precision': 0.8592265775655921, 'Val Recall': 0.8500967117988395}\n"
     ]
    },
    {
     "name": "stderr",
     "output_type": "stream",
     "text": [
      "c:\\Users\\Sid\\AppData\\Local\\Programs\\Python\\Python39\\lib\\site-packages\\huggingface_hub\\file_download.py:1132: FutureWarning: `resume_download` is deprecated and will be removed in version 1.0.0. Downloads always resume when possible. If you want to force a new download, use `force_download=True`.\n",
      "  warnings.warn(\n",
      "Epoch(s):  98%|\u001b[31m█████████▊\u001b[0m| 443/450 [13:37:17<12:54, 110.58s/it]"
     ]
    },
    {
     "name": "stdout",
     "output_type": "stream",
     "text": [
      "{'Epoch': 444, 'Train Loss': 0.07751563106467776, 'Train Accuracy': 0.9721684414327202, 'Val Loss': 0.6298596600495959, 'Val Accuracy': 0.8626692456479691, 'Val Precision': 0.865164231903626, 'Val Recall': 0.8626692456479691}\n"
     ]
    },
    {
     "name": "stderr",
     "output_type": "stream",
     "text": [
      "c:\\Users\\Sid\\AppData\\Local\\Programs\\Python\\Python39\\lib\\site-packages\\huggingface_hub\\file_download.py:1132: FutureWarning: `resume_download` is deprecated and will be removed in version 1.0.0. Downloads always resume when possible. If you want to force a new download, use `force_download=True`.\n",
      "  warnings.warn(\n",
      "Epoch(s):  99%|\u001b[31m█████████▊\u001b[0m| 444/450 [13:39:07<11:03, 110.59s/it]"
     ]
    },
    {
     "name": "stdout",
     "output_type": "stream",
     "text": [
      "{'Epoch': 445, 'Train Loss': 0.07180568197138452, 'Train Accuracy': 0.978460793804453, 'Val Loss': 0.6617159480576027, 'Val Accuracy': 0.8655705996131529, 'Val Precision': 0.8702845847271249, 'Val Recall': 0.8655705996131529}\n"
     ]
    },
    {
     "name": "stderr",
     "output_type": "stream",
     "text": [
      "c:\\Users\\Sid\\AppData\\Local\\Programs\\Python\\Python39\\lib\\site-packages\\huggingface_hub\\file_download.py:1132: FutureWarning: `resume_download` is deprecated and will be removed in version 1.0.0. Downloads always resume when possible. If you want to force a new download, use `force_download=True`.\n",
      "  warnings.warn(\n",
      "Epoch(s):  99%|\u001b[31m█████████▉\u001b[0m| 445/450 [13:40:58<09:13, 110.72s/it]"
     ]
    },
    {
     "name": "stdout",
     "output_type": "stream",
     "text": [
      "{'Epoch': 446, 'Train Loss': 0.07956572985386702, 'Train Accuracy': 0.9721684414327202, 'Val Loss': 0.6226076131677614, 'Val Accuracy': 0.8655705996131529, 'Val Precision': 0.870995368172769, 'Val Recall': 0.8655705996131529}\n"
     ]
    },
    {
     "name": "stderr",
     "output_type": "stream",
     "text": [
      "c:\\Users\\Sid\\AppData\\Local\\Programs\\Python\\Python39\\lib\\site-packages\\huggingface_hub\\file_download.py:1132: FutureWarning: `resume_download` is deprecated and will be removed in version 1.0.0. Downloads always resume when possible. If you want to force a new download, use `force_download=True`.\n",
      "  warnings.warn(\n",
      "Epoch(s):  99%|\u001b[31m█████████▉\u001b[0m| 446/450 [13:42:49<07:23, 110.79s/it]"
     ]
    },
    {
     "name": "stdout",
     "output_type": "stream",
     "text": [
      "{'Epoch': 447, 'Train Loss': 0.08403775835019611, 'Train Accuracy': 0.9707163601161665, 'Val Loss': 0.6580189469008474, 'Val Accuracy': 0.8597678916827853, 'Val Precision': 0.8621291921495697, 'Val Recall': 0.8597678916827853}\n"
     ]
    },
    {
     "name": "stderr",
     "output_type": "stream",
     "text": [
      "c:\\Users\\Sid\\AppData\\Local\\Programs\\Python\\Python39\\lib\\site-packages\\huggingface_hub\\file_download.py:1132: FutureWarning: `resume_download` is deprecated and will be removed in version 1.0.0. Downloads always resume when possible. If you want to force a new download, use `force_download=True`.\n",
      "  warnings.warn(\n",
      "Epoch(s):  99%|\u001b[31m█████████▉\u001b[0m| 447/450 [13:44:40<05:32, 110.87s/it]"
     ]
    },
    {
     "name": "stdout",
     "output_type": "stream",
     "text": [
      "{'Epoch': 448, 'Train Loss': 0.06847647302613785, 'Train Accuracy': 0.9774927395934172, 'Val Loss': 0.613165987166912, 'Val Accuracy': 0.8694390715667312, 'Val Precision': 0.8698784171638322, 'Val Recall': 0.8694390715667312}\n"
     ]
    },
    {
     "name": "stderr",
     "output_type": "stream",
     "text": [
      "c:\\Users\\Sid\\AppData\\Local\\Programs\\Python\\Python39\\lib\\site-packages\\huggingface_hub\\file_download.py:1132: FutureWarning: `resume_download` is deprecated and will be removed in version 1.0.0. Downloads always resume when possible. If you want to force a new download, use `force_download=True`.\n",
      "  warnings.warn(\n",
      "Epoch(s): 100%|\u001b[31m█████████▉\u001b[0m| 448/450 [13:46:31<03:41, 110.91s/it]"
     ]
    },
    {
     "name": "stdout",
     "output_type": "stream",
     "text": [
      "{'Epoch': 449, 'Train Loss': 0.07230082769248318, 'Train Accuracy': 0.9777347531461762, 'Val Loss': 0.6143522268359307, 'Val Accuracy': 0.8617021276595744, 'Val Precision': 0.8593956000647752, 'Val Recall': 0.8617021276595744}\n"
     ]
    },
    {
     "name": "stderr",
     "output_type": "stream",
     "text": [
      "c:\\Users\\Sid\\AppData\\Local\\Programs\\Python\\Python39\\lib\\site-packages\\huggingface_hub\\file_download.py:1132: FutureWarning: `resume_download` is deprecated and will be removed in version 1.0.0. Downloads always resume when possible. If you want to force a new download, use `force_download=True`.\n",
      "  warnings.warn(\n",
      "Epoch(s): 100%|\u001b[31m█████████▉\u001b[0m| 449/450 [13:48:22<01:50, 110.79s/it]"
     ]
    },
    {
     "name": "stdout",
     "output_type": "stream",
     "text": [
      "{'Epoch': 450, 'Train Loss': 0.0631386178607626, 'Train Accuracy': 0.9818489835430784, 'Val Loss': 0.6652235529692776, 'Val Accuracy': 0.8597678916827853, 'Val Precision': 0.8610159331504561, 'Val Recall': 0.8597678916827853}\n"
     ]
    },
    {
     "name": "stderr",
     "output_type": "stream",
     "text": [
      "c:\\Users\\Sid\\AppData\\Local\\Programs\\Python\\Python39\\lib\\site-packages\\huggingface_hub\\file_download.py:1132: FutureWarning: `resume_download` is deprecated and will be removed in version 1.0.0. Downloads always resume when possible. If you want to force a new download, use `force_download=True`.\n",
      "  warnings.warn(\n",
      "Epoch(s): 100%|\u001b[31m██████████\u001b[0m| 450/450 [13:50:13<00:00, 110.70s/it]\n"
     ]
    }
   ],
   "source": [
    "for epoch in tqdm.trange(epochs, colour = \"red\", desc = \"Epoch(s)\"):\n",
    "  train_loss, train_acc = train(model, optimizer, criterion, trainDataloader)\n",
    "  val_loss, val_acc, val_precision, val_recall = validate(model, criterion, valDataloader)\n",
    "  dataDict = {\n",
    "    \"Epoch\": epoch+1,\n",
    "    \"Train Loss\": train_loss,\n",
    "    \"Train Accuracy\": train_acc,\n",
    "    \"Val Loss\": val_loss,\n",
    "    \"Val Accuracy\": val_acc,\n",
    "    \"Val Precision\": val_precision,\n",
    "    \"Val Recall\": val_recall\n",
    "    }\n",
    "  print(dataDict)\n",
    "  wandb.log(dataDict)\n",
    "  model.save_pretrained(\"tunedModels/trainedMobileBERTLoRA - Epoch {}\".format(epoch))"
   ]
  },
  {
   "cell_type": "code",
   "execution_count": 27,
   "metadata": {},
   "outputs": [],
   "source": [
    "model.save_pretrained(\"trainedMobileBERTLoRA\")"
   ]
  },
  {
   "cell_type": "code",
   "execution_count": null,
   "metadata": {},
   "outputs": [],
   "source": []
  }
 ],
 "metadata": {
  "kernelspec": {
   "display_name": "Python 3",
   "language": "python",
   "name": "python3"
  },
  "language_info": {
   "codemirror_mode": {
    "name": "ipython",
    "version": 3
   },
   "file_extension": ".py",
   "mimetype": "text/x-python",
   "name": "python",
   "nbconvert_exporter": "python",
   "pygments_lexer": "ipython3",
   "version": "3.9.13"
  }
 },
 "nbformat": 4,
 "nbformat_minor": 2
}
