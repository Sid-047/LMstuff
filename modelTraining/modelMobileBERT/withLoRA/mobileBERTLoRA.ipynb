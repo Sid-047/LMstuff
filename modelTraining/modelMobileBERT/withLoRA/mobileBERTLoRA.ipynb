{
 "cells": [
  {
   "cell_type": "code",
   "execution_count": 2,
   "metadata": {},
   "outputs": [],
   "source": [
    "import tqdm\n",
    "import torch\n",
    "import wandb\n",
    "import pandas as pd\n",
    "from sklearn.preprocessing import LabelEncoder\n",
    "from sklearn.model_selection import train_test_split\n",
    "from peft import LoraConfig, get_peft_model, TaskType\n",
    "from torch.utils.data import TensorDataset, DataLoader\n",
    "from sklearn.metrics import accuracy_score, precision_score, recall_score\n",
    "from transformers import AutoModelForSequenceClassification, AutoTokenizer, AdamW"
   ]
  },
  {
   "cell_type": "code",
   "execution_count": 3,
   "metadata": {},
   "outputs": [
    {
     "name": "stderr",
     "output_type": "stream",
     "text": [
      "Failed to detect the name of this notebook, you can set it manually with the WANDB_NOTEBOOK_NAME environment variable to enable code saving.\n",
      "\u001b[34m\u001b[1mwandb\u001b[0m: Currently logged in as: \u001b[33msiddiqmoideen07\u001b[0m. Use \u001b[1m`wandb login --relogin`\u001b[0m to force relogin\n"
     ]
    },
    {
     "data": {
      "text/html": [
       "wandb version 0.17.0 is available!  To upgrade, please run:\n",
       " $ pip install wandb --upgrade"
      ],
      "text/plain": [
       "<IPython.core.display.HTML object>"
      ]
     },
     "metadata": {},
     "output_type": "display_data"
    },
    {
     "data": {
      "text/html": [
       "Tracking run with wandb version 0.16.2"
      ],
      "text/plain": [
       "<IPython.core.display.HTML object>"
      ]
     },
     "metadata": {},
     "output_type": "display_data"
    },
    {
     "data": {
      "text/html": [
       "Run data is saved locally in <code>t:\\OpenSourceContribution\\LMstuff\\modelTraining\\modelMobileBERT\\withLoRA\\wandb\\run-20240604_163942-pzwhk3bx</code>"
      ],
      "text/plain": [
       "<IPython.core.display.HTML object>"
      ]
     },
     "metadata": {},
     "output_type": "display_data"
    },
    {
     "data": {
      "text/html": [
       "Syncing run <strong><a href='https://wandb.ai/siddiqmoideen07/LoRA%20MobileBERT%20Model%20FineTuning%20Yo%21/runs/pzwhk3bx' target=\"_blank\">easy-galaxy-8</a></strong> to <a href='https://wandb.ai/siddiqmoideen07/LoRA%20MobileBERT%20Model%20FineTuning%20Yo%21' target=\"_blank\">Weights & Biases</a> (<a href='https://wandb.me/run' target=\"_blank\">docs</a>)<br/>"
      ],
      "text/plain": [
       "<IPython.core.display.HTML object>"
      ]
     },
     "metadata": {},
     "output_type": "display_data"
    },
    {
     "data": {
      "text/html": [
       " View project at <a href='https://wandb.ai/siddiqmoideen07/LoRA%20MobileBERT%20Model%20FineTuning%20Yo%21' target=\"_blank\">https://wandb.ai/siddiqmoideen07/LoRA%20MobileBERT%20Model%20FineTuning%20Yo%21</a>"
      ],
      "text/plain": [
       "<IPython.core.display.HTML object>"
      ]
     },
     "metadata": {},
     "output_type": "display_data"
    },
    {
     "data": {
      "text/html": [
       " View run at <a href='https://wandb.ai/siddiqmoideen07/LoRA%20MobileBERT%20Model%20FineTuning%20Yo%21/runs/pzwhk3bx' target=\"_blank\">https://wandb.ai/siddiqmoideen07/LoRA%20MobileBERT%20Model%20FineTuning%20Yo%21/runs/pzwhk3bx</a>"
      ],
      "text/plain": [
       "<IPython.core.display.HTML object>"
      ]
     },
     "metadata": {},
     "output_type": "display_data"
    },
    {
     "data": {
      "text/html": [
       "<button onClick=\"this.nextSibling.style.display='block';this.style.display='none';\">Display W&B run</button><iframe src='https://wandb.ai/siddiqmoideen07/LoRA%20MobileBERT%20Model%20FineTuning%20Yo%21/runs/pzwhk3bx?jupyter=true' style='border:none;width:100%;height:420px;display:none;'></iframe>"
      ],
      "text/plain": [
       "<wandb.sdk.wandb_run.Run at 0x1fc50a0da30>"
      ]
     },
     "execution_count": 3,
     "metadata": {},
     "output_type": "execute_result"
    }
   ],
   "source": [
    "wandb.init(project=\"LoRA MobileBERT Model FineTuning Yo!\")"
   ]
  },
  {
   "cell_type": "code",
   "execution_count": 4,
   "metadata": {},
   "outputs": [
    {
     "data": {
      "text/html": [
       "<div>\n",
       "<style scoped>\n",
       "    .dataframe tbody tr th:only-of-type {\n",
       "        vertical-align: middle;\n",
       "    }\n",
       "\n",
       "    .dataframe tbody tr th {\n",
       "        vertical-align: top;\n",
       "    }\n",
       "\n",
       "    .dataframe thead th {\n",
       "        text-align: right;\n",
       "    }\n",
       "</style>\n",
       "<table border=\"1\" class=\"dataframe\">\n",
       "  <thead>\n",
       "    <tr style=\"text-align: right;\">\n",
       "      <th></th>\n",
       "      <th>OCR Contents</th>\n",
       "      <th>Category</th>\n",
       "    </tr>\n",
       "  </thead>\n",
       "  <tbody>\n",
       "    <tr>\n",
       "      <th>0</th>\n",
       "      <td>Invoice Number: INV0786Hotel Name: Spice Garde...</td>\n",
       "      <td>Food Category - Restaurant Bill/Receipt</td>\n",
       "    </tr>\n",
       "    <tr>\n",
       "      <th>1</th>\n",
       "      <td>Invoice No- DW/1112/851166\\n\\nInvoice Date : 2...</td>\n",
       "      <td>Travel Category - Flight Ticket</td>\n",
       "    </tr>\n",
       "    <tr>\n",
       "      <th>2</th>\n",
       "      <td>Hotel: Accor\\r\\nCity: Delhi\\r\\nNumber of Days:...</td>\n",
       "      <td>Miscellaneous Category - Miscellaneous Bills</td>\n",
       "    </tr>\n",
       "    <tr>\n",
       "      <th>3</th>\n",
       "      <td>FOOD INN FINE DINE\\nProprietor\\nPER =NNIA REST...</td>\n",
       "      <td>Food Category - Restaurant Bill/Receipt</td>\n",
       "    </tr>\n",
       "    <tr>\n",
       "      <th>4</th>\n",
       "      <td>= Confirmed Booking Id: NF20115276689422\\n\\nSU...</td>\n",
       "      <td>Travel Category - Flight Ticket</td>\n",
       "    </tr>\n",
       "    <tr>\n",
       "      <th>...</th>\n",
       "      <td>...</td>\n",
       "      <td>...</td>\n",
       "    </tr>\n",
       "    <tr>\n",
       "      <th>5161</th>\n",
       "      <td>Indiandit\\n\\nSERIAL SNA AUTONOBI\\n\\nr .A.B.Roa...</td>\n",
       "      <td>Fuel Category - Fuel Bill/Receipt</td>\n",
       "    </tr>\n",
       "    <tr>\n",
       "      <th>5162</th>\n",
       "      <td>Base Fare\\nDistance\\nTime\\n\\nSubtotal\\n\\nCHARG...</td>\n",
       "      <td>Travel Category - Cab Bill/Receipt</td>\n",
       "    </tr>\n",
       "    <tr>\n",
       "      <th>5163</th>\n",
       "      <td>Dear sanjay kumar,\\n\\nCongratdatons! Thark you...</td>\n",
       "      <td>Travel Category - Train Ticket</td>\n",
       "    </tr>\n",
       "    <tr>\n",
       "      <th>5164</th>\n",
       "      <td>Invoice Number: INV0780Hotel Name: Taste of It...</td>\n",
       "      <td>Food Category - Restaurant Bill/Receipt</td>\n",
       "    </tr>\n",
       "    <tr>\n",
       "      <th>5165</th>\n",
       "      <td>CURRENT Electronic Reservation Slip (ERS)-Norm...</td>\n",
       "      <td>Travel Category - Train Ticket</td>\n",
       "    </tr>\n",
       "  </tbody>\n",
       "</table>\n",
       "<p>5166 rows × 2 columns</p>\n",
       "</div>"
      ],
      "text/plain": [
       "                                           OCR Contents  \\\n",
       "0     Invoice Number: INV0786Hotel Name: Spice Garde...   \n",
       "1     Invoice No- DW/1112/851166\\n\\nInvoice Date : 2...   \n",
       "2     Hotel: Accor\\r\\nCity: Delhi\\r\\nNumber of Days:...   \n",
       "3     FOOD INN FINE DINE\\nProprietor\\nPER =NNIA REST...   \n",
       "4     = Confirmed Booking Id: NF20115276689422\\n\\nSU...   \n",
       "...                                                 ...   \n",
       "5161  Indiandit\\n\\nSERIAL SNA AUTONOBI\\n\\nr .A.B.Roa...   \n",
       "5162  Base Fare\\nDistance\\nTime\\n\\nSubtotal\\n\\nCHARG...   \n",
       "5163  Dear sanjay kumar,\\n\\nCongratdatons! Thark you...   \n",
       "5164  Invoice Number: INV0780Hotel Name: Taste of It...   \n",
       "5165  CURRENT Electronic Reservation Slip (ERS)-Norm...   \n",
       "\n",
       "                                          Category  \n",
       "0          Food Category - Restaurant Bill/Receipt  \n",
       "1                  Travel Category - Flight Ticket  \n",
       "2     Miscellaneous Category - Miscellaneous Bills  \n",
       "3          Food Category - Restaurant Bill/Receipt  \n",
       "4                  Travel Category - Flight Ticket  \n",
       "...                                            ...  \n",
       "5161             Fuel Category - Fuel Bill/Receipt  \n",
       "5162            Travel Category - Cab Bill/Receipt  \n",
       "5163                Travel Category - Train Ticket  \n",
       "5164       Food Category - Restaurant Bill/Receipt  \n",
       "5165                Travel Category - Train Ticket  \n",
       "\n",
       "[5166 rows x 2 columns]"
      ]
     },
     "execution_count": 4,
     "metadata": {},
     "output_type": "execute_result"
    }
   ],
   "source": [
    "dataStuff = pd.read_csv(\"../augmentedDataStuff.csv\")\n",
    "dataStuff"
   ]
  },
  {
   "cell_type": "code",
   "execution_count": 5,
   "metadata": {},
   "outputs": [
    {
     "data": {
      "text/plain": [
       "['Miscellaneous Category - Miscellaneous Bills',\n",
       " 'Travel Category - Flight Ticket',\n",
       " 'Electronics Category - Electronic Gadgets Bill/Receipt',\n",
       " 'Travel Category - Train Ticket',\n",
       " 'Travel Category - Cab Bill/Receipt',\n",
       " 'Room Stay Category - Stay Bill/Receipt',\n",
       " 'Travel Category - Bus Ticket',\n",
       " 'Food Category - Restaurant Bill/Receipt',\n",
       " 'Fuel Category - Fuel Bill/Receipt']"
      ]
     },
     "execution_count": 5,
     "metadata": {},
     "output_type": "execute_result"
    }
   ],
   "source": [
    "clsStuff = list(set(dataStuff[\"Category\"]))\n",
    "clsStuff"
   ]
  },
  {
   "cell_type": "code",
   "execution_count": 6,
   "metadata": {},
   "outputs": [
    {
     "data": {
      "text/plain": [
       "{'Miscellaneous Category - Miscellaneous Bills': 3,\n",
       " 'Travel Category - Flight Ticket': 7,\n",
       " 'Electronics Category - Electronic Gadgets Bill/Receipt': 0,\n",
       " 'Travel Category - Train Ticket': 8,\n",
       " 'Travel Category - Cab Bill/Receipt': 6,\n",
       " 'Room Stay Category - Stay Bill/Receipt': 4,\n",
       " 'Travel Category - Bus Ticket': 5,\n",
       " 'Food Category - Restaurant Bill/Receipt': 1,\n",
       " 'Fuel Category - Fuel Bill/Receipt': 2}"
      ]
     },
     "execution_count": 6,
     "metadata": {},
     "output_type": "execute_result"
    }
   ],
   "source": [
    "labelEncoder = LabelEncoder()\n",
    "labelEncoder.fit(clsStuff)\n",
    "clsDict = dict(zip(clsStuff, labelEncoder.transform(clsStuff)))\n",
    "clsDict"
   ]
  },
  {
   "cell_type": "code",
   "execution_count": 7,
   "metadata": {},
   "outputs": [],
   "source": [
    "numLabels = len(clsStuff)\n",
    "batchSize = 16\n",
    "learningRate = 2e-5\n",
    "epochs = 250"
   ]
  },
  {
   "cell_type": "code",
   "execution_count": 8,
   "metadata": {},
   "outputs": [
    {
     "data": {
      "text/plain": [
       "device(type='cuda')"
      ]
     },
     "execution_count": 8,
     "metadata": {},
     "output_type": "execute_result"
    }
   ],
   "source": [
    "device = torch.device(\"cuda\") if torch.cuda.is_available() else torch.device(\"cpu\")\n",
    "device"
   ]
  },
  {
   "cell_type": "code",
   "execution_count": 9,
   "metadata": {},
   "outputs": [
    {
     "name": "stderr",
     "output_type": "stream",
     "text": [
      "c:\\Users\\Sid\\AppData\\Local\\Programs\\Python\\Python39\\lib\\site-packages\\torch\\_utils.py:776: UserWarning: TypedStorage is deprecated. It will be removed in the future and UntypedStorage will be the only storage class. This should only matter to you if you are using storages directly.  To access UntypedStorage directly, use tensor.untyped_storage() instead of tensor.storage()\n",
      "  return self.fget.__get__(instance, owner)()\n",
      "Some weights of MobileBertForSequenceClassification were not initialized from the model checkpoint at google/mobilebert-uncased and are newly initialized: ['classifier.bias', 'classifier.weight']\n",
      "You should probably TRAIN this model on a down-stream task to be able to use it for predictions and inference.\n",
      "c:\\Users\\Sid\\AppData\\Local\\Programs\\Python\\Python39\\lib\\site-packages\\huggingface_hub\\file_download.py:1132: FutureWarning: `resume_download` is deprecated and will be removed in version 1.0.0. Downloads always resume when possible. If you want to force a new download, use `force_download=True`.\n",
      "  warnings.warn(\n"
     ]
    }
   ],
   "source": [
    "model = AutoModelForSequenceClassification.from_pretrained(\"google/mobilebert-uncased\", num_labels=numLabels).to(device)\n",
    "tokenizer = AutoTokenizer.from_pretrained(\"google/mobilebert-uncased\")"
   ]
  },
  {
   "cell_type": "code",
   "execution_count": 10,
   "metadata": {},
   "outputs": [
    {
     "data": {
      "text/plain": [
       "MobileBertConfig {\n",
       "  \"_name_or_path\": \"google/mobilebert-uncased\",\n",
       "  \"architectures\": [\n",
       "    \"MobileBertForPreTraining\"\n",
       "  ],\n",
       "  \"attention_probs_dropout_prob\": 0.1,\n",
       "  \"classifier_activation\": false,\n",
       "  \"classifier_dropout\": null,\n",
       "  \"embedding_size\": 128,\n",
       "  \"hidden_act\": \"relu\",\n",
       "  \"hidden_dropout_prob\": 0.0,\n",
       "  \"hidden_size\": 512,\n",
       "  \"id2label\": {\n",
       "    \"0\": \"LABEL_0\",\n",
       "    \"1\": \"LABEL_1\",\n",
       "    \"2\": \"LABEL_2\",\n",
       "    \"3\": \"LABEL_3\",\n",
       "    \"4\": \"LABEL_4\",\n",
       "    \"5\": \"LABEL_5\",\n",
       "    \"6\": \"LABEL_6\",\n",
       "    \"7\": \"LABEL_7\",\n",
       "    \"8\": \"LABEL_8\"\n",
       "  },\n",
       "  \"initializer_range\": 0.02,\n",
       "  \"intermediate_size\": 512,\n",
       "  \"intra_bottleneck_size\": 128,\n",
       "  \"key_query_shared_bottleneck\": true,\n",
       "  \"label2id\": {\n",
       "    \"LABEL_0\": 0,\n",
       "    \"LABEL_1\": 1,\n",
       "    \"LABEL_2\": 2,\n",
       "    \"LABEL_3\": 3,\n",
       "    \"LABEL_4\": 4,\n",
       "    \"LABEL_5\": 5,\n",
       "    \"LABEL_6\": 6,\n",
       "    \"LABEL_7\": 7,\n",
       "    \"LABEL_8\": 8\n",
       "  },\n",
       "  \"layer_norm_eps\": 1e-12,\n",
       "  \"max_position_embeddings\": 512,\n",
       "  \"model_type\": \"mobilebert\",\n",
       "  \"normalization_type\": \"no_norm\",\n",
       "  \"num_attention_heads\": 4,\n",
       "  \"num_feedforward_networks\": 4,\n",
       "  \"num_hidden_layers\": 24,\n",
       "  \"pad_token_id\": 0,\n",
       "  \"transformers_version\": \"4.41.2\",\n",
       "  \"trigram_input\": true,\n",
       "  \"true_hidden_size\": 128,\n",
       "  \"type_vocab_size\": 2,\n",
       "  \"use_bottleneck\": true,\n",
       "  \"use_bottleneck_attention\": false,\n",
       "  \"vocab_size\": 30522\n",
       "}"
      ]
     },
     "execution_count": 10,
     "metadata": {},
     "output_type": "execute_result"
    }
   ],
   "source": [
    "model.config"
   ]
  },
  {
   "cell_type": "code",
   "execution_count": 11,
   "metadata": {},
   "outputs": [],
   "source": [
    "loraConfig = LoraConfig(\n",
    "    r=16,\n",
    "    lora_alpha=32,\n",
    "    target_modules=[\"query\", \"value\"],\n",
    "    lora_dropout=0.05,\n",
    "    bias=\"none\",\n",
    "    task_type=TaskType.SEQ_CLS\n",
    ")"
   ]
  },
  {
   "cell_type": "code",
   "execution_count": 12,
   "metadata": {},
   "outputs": [
    {
     "name": "stdout",
     "output_type": "stream",
     "text": [
      "trainable params: 348,681 || all params: 24,935,186 || trainable%: 1.3983\n"
     ]
    }
   ],
   "source": [
    "model = get_peft_model(model, loraConfig)\n",
    "model.print_trainable_parameters()"
   ]
  },
  {
   "cell_type": "code",
   "execution_count": 13,
   "metadata": {},
   "outputs": [],
   "source": [
    "wandb.watch(model)\n",
    "wandb.config[\"learning_rate\"] = learningRate\n",
    "wandb.config[\"batch_size\"] = batchSize"
   ]
  },
  {
   "cell_type": "code",
   "execution_count": 14,
   "metadata": {},
   "outputs": [
    {
     "data": {
      "text/plain": [
       "4711    Hotel: Hilton Worldwide\\r\\nCity: Amritsar\\r\\nN...\n",
       "4184    goibibo sao\\n\\nFlight Ticket - Kolkata to Agar...\n",
       "1670    Category: Utilities\\r\\nItem: Internet Bill\\r\\n...\n",
       "99      Invoice Number: INV0810Hotel Name: The Hungry ...\n",
       "3592    Invoice Number: INV0953Hotel Name: Gourmet Pal...\n",
       "                              ...                        \n",
       "4426    Invoice Number: INV0558Hotel Name: The Hungry ...\n",
       "466     ticket ric 0: r07s220168 Gcleartrip\\n\\nBangalo...\n",
       "3092    Category: Shopping\\r\\nItem: Accessories\\r\\nAmo...\n",
       "3772    \" ‘\\n\\nSREP iy\\n\\nCHOKHI DHANI PALACE HOTEL\\n\\...\n",
       "860     Category: Healthcare\\r\\nItem: Medicines\\r\\nAmo...\n",
       "Name: OCR Contents, Length: 4132, dtype: object"
      ]
     },
     "execution_count": 14,
     "metadata": {},
     "output_type": "execute_result"
    }
   ],
   "source": [
    "trainData, valData = train_test_split(dataStuff, test_size=0.2, random_state=42)\n",
    "trainData['OCR Contents']"
   ]
  },
  {
   "cell_type": "code",
   "execution_count": 15,
   "metadata": {},
   "outputs": [],
   "source": [
    "def prepData(data):\n",
    "  train_inputs, train_masks, train_labels = [], [], []\n",
    "  for item, label in zip(data[\"OCR Contents\"], data[\"Category\"]):\n",
    "    text_content = item\n",
    "    encoded_data = tokenizer(text_content, padding=\"max_length\", truncation=True, max_length=512)\n",
    "    train_inputs.append(encoded_data[\"input_ids\"])\n",
    "    train_masks.append(encoded_data[\"attention_mask\"])\n",
    "    train_labels.append(label)\n",
    "  return train_inputs, train_masks, train_labels"
   ]
  },
  {
   "cell_type": "code",
   "execution_count": 16,
   "metadata": {},
   "outputs": [],
   "source": [
    "def labels2Encoding(labelStuff):\n",
    "    encodedLabels = labelEncoder.transform(labelStuff)\n",
    "    return encodedLabels"
   ]
  },
  {
   "cell_type": "code",
   "execution_count": 17,
   "metadata": {},
   "outputs": [],
   "source": [
    "trainInputs, trainMasks, trainLabels = prepData(trainData)\n",
    "valInputs, valMasks, valLabels = prepData(valData)"
   ]
  },
  {
   "cell_type": "code",
   "execution_count": 18,
   "metadata": {},
   "outputs": [
    {
     "data": {
      "text/plain": [
       "['Miscellaneous Category - Miscellaneous Bills',\n",
       " 'Travel Category - Bus Ticket',\n",
       " 'Miscellaneous Category - Miscellaneous Bills',\n",
       " 'Food Category - Restaurant Bill/Receipt',\n",
       " 'Food Category - Restaurant Bill/Receipt',\n",
       " 'Travel Category - Train Ticket',\n",
       " 'Miscellaneous Category - Miscellaneous Bills',\n",
       " 'Food Category - Restaurant Bill/Receipt',\n",
       " 'Room Stay Category - Stay Bill/Receipt',\n",
       " 'Miscellaneous Category - Miscellaneous Bills',\n",
       " 'Food Category - Restaurant Bill/Receipt',\n",
       " 'Miscellaneous Category - Miscellaneous Bills',\n",
       " 'Miscellaneous Category - Miscellaneous Bills',\n",
       " 'Miscellaneous Category - Miscellaneous Bills',\n",
       " 'Food Category - Restaurant Bill/Receipt',\n",
       " 'Miscellaneous Category - Miscellaneous Bills',\n",
       " 'Travel Category - Bus Ticket',\n",
       " 'Miscellaneous Category - Miscellaneous Bills',\n",
       " 'Travel Category - Flight Ticket',\n",
       " 'Food Category - Restaurant Bill/Receipt',\n",
       " 'Food Category - Restaurant Bill/Receipt',\n",
       " 'Travel Category - Train Ticket',\n",
       " 'Travel Category - Bus Ticket',\n",
       " 'Travel Category - Bus Ticket',\n",
       " 'Miscellaneous Category - Miscellaneous Bills',\n",
       " 'Food Category - Restaurant Bill/Receipt',\n",
       " 'Travel Category - Train Ticket',\n",
       " 'Food Category - Restaurant Bill/Receipt',\n",
       " 'Food Category - Restaurant Bill/Receipt',\n",
       " 'Miscellaneous Category - Miscellaneous Bills',\n",
       " 'Travel Category - Flight Ticket',\n",
       " 'Electronics Category - Electronic Gadgets Bill/Receipt',\n",
       " 'Miscellaneous Category - Miscellaneous Bills',\n",
       " 'Travel Category - Flight Ticket',\n",
       " 'Miscellaneous Category - Miscellaneous Bills',\n",
       " 'Travel Category - Bus Ticket',\n",
       " 'Electronics Category - Electronic Gadgets Bill/Receipt',\n",
       " 'Food Category - Restaurant Bill/Receipt',\n",
       " 'Miscellaneous Category - Miscellaneous Bills',\n",
       " 'Miscellaneous Category - Miscellaneous Bills',\n",
       " 'Food Category - Restaurant Bill/Receipt',\n",
       " 'Food Category - Restaurant Bill/Receipt',\n",
       " 'Miscellaneous Category - Miscellaneous Bills',\n",
       " 'Miscellaneous Category - Miscellaneous Bills',\n",
       " 'Miscellaneous Category - Miscellaneous Bills',\n",
       " 'Room Stay Category - Stay Bill/Receipt',\n",
       " 'Miscellaneous Category - Miscellaneous Bills',\n",
       " 'Fuel Category - Fuel Bill/Receipt',\n",
       " 'Food Category - Restaurant Bill/Receipt',\n",
       " 'Miscellaneous Category - Miscellaneous Bills',\n",
       " 'Miscellaneous Category - Miscellaneous Bills',\n",
       " 'Food Category - Restaurant Bill/Receipt',\n",
       " 'Electronics Category - Electronic Gadgets Bill/Receipt',\n",
       " 'Food Category - Restaurant Bill/Receipt',\n",
       " 'Food Category - Restaurant Bill/Receipt',\n",
       " 'Miscellaneous Category - Miscellaneous Bills',\n",
       " 'Miscellaneous Category - Miscellaneous Bills',\n",
       " 'Food Category - Restaurant Bill/Receipt',\n",
       " 'Room Stay Category - Stay Bill/Receipt',\n",
       " 'Food Category - Restaurant Bill/Receipt',\n",
       " 'Food Category - Restaurant Bill/Receipt',\n",
       " 'Miscellaneous Category - Miscellaneous Bills',\n",
       " 'Fuel Category - Fuel Bill/Receipt',\n",
       " 'Miscellaneous Category - Miscellaneous Bills',\n",
       " 'Food Category - Restaurant Bill/Receipt',\n",
       " 'Miscellaneous Category - Miscellaneous Bills',\n",
       " 'Food Category - Restaurant Bill/Receipt',\n",
       " 'Miscellaneous Category - Miscellaneous Bills',\n",
       " 'Travel Category - Flight Ticket',\n",
       " 'Food Category - Restaurant Bill/Receipt',\n",
       " 'Miscellaneous Category - Miscellaneous Bills',\n",
       " 'Miscellaneous Category - Miscellaneous Bills',\n",
       " 'Food Category - Restaurant Bill/Receipt',\n",
       " 'Miscellaneous Category - Miscellaneous Bills',\n",
       " 'Miscellaneous Category - Miscellaneous Bills',\n",
       " 'Miscellaneous Category - Miscellaneous Bills',\n",
       " 'Travel Category - Cab Bill/Receipt',\n",
       " 'Miscellaneous Category - Miscellaneous Bills',\n",
       " 'Food Category - Restaurant Bill/Receipt',\n",
       " 'Miscellaneous Category - Miscellaneous Bills',\n",
       " 'Miscellaneous Category - Miscellaneous Bills',\n",
       " 'Travel Category - Flight Ticket',\n",
       " 'Miscellaneous Category - Miscellaneous Bills',\n",
       " 'Miscellaneous Category - Miscellaneous Bills',\n",
       " 'Electronics Category - Electronic Gadgets Bill/Receipt',\n",
       " 'Food Category - Restaurant Bill/Receipt',\n",
       " 'Travel Category - Cab Bill/Receipt',\n",
       " 'Food Category - Restaurant Bill/Receipt',\n",
       " 'Electronics Category - Electronic Gadgets Bill/Receipt',\n",
       " 'Travel Category - Bus Ticket',\n",
       " 'Travel Category - Flight Ticket',\n",
       " 'Food Category - Restaurant Bill/Receipt',\n",
       " 'Miscellaneous Category - Miscellaneous Bills',\n",
       " 'Miscellaneous Category - Miscellaneous Bills',\n",
       " 'Miscellaneous Category - Miscellaneous Bills',\n",
       " 'Food Category - Restaurant Bill/Receipt',\n",
       " 'Fuel Category - Fuel Bill/Receipt',\n",
       " 'Food Category - Restaurant Bill/Receipt',\n",
       " 'Miscellaneous Category - Miscellaneous Bills',\n",
       " 'Food Category - Restaurant Bill/Receipt',\n",
       " 'Food Category - Restaurant Bill/Receipt',\n",
       " 'Travel Category - Bus Ticket',\n",
       " 'Travel Category - Flight Ticket',\n",
       " 'Food Category - Restaurant Bill/Receipt',\n",
       " 'Food Category - Restaurant Bill/Receipt',\n",
       " 'Food Category - Restaurant Bill/Receipt',\n",
       " 'Miscellaneous Category - Miscellaneous Bills',\n",
       " 'Food Category - Restaurant Bill/Receipt',\n",
       " 'Miscellaneous Category - Miscellaneous Bills',\n",
       " 'Travel Category - Cab Bill/Receipt',\n",
       " 'Miscellaneous Category - Miscellaneous Bills',\n",
       " 'Food Category - Restaurant Bill/Receipt',\n",
       " 'Food Category - Restaurant Bill/Receipt',\n",
       " 'Room Stay Category - Stay Bill/Receipt',\n",
       " 'Miscellaneous Category - Miscellaneous Bills',\n",
       " 'Miscellaneous Category - Miscellaneous Bills',\n",
       " 'Food Category - Restaurant Bill/Receipt',\n",
       " 'Travel Category - Flight Ticket',\n",
       " 'Travel Category - Train Ticket',\n",
       " 'Miscellaneous Category - Miscellaneous Bills',\n",
       " 'Miscellaneous Category - Miscellaneous Bills',\n",
       " 'Miscellaneous Category - Miscellaneous Bills',\n",
       " 'Travel Category - Flight Ticket',\n",
       " 'Miscellaneous Category - Miscellaneous Bills',\n",
       " 'Food Category - Restaurant Bill/Receipt',\n",
       " 'Travel Category - Train Ticket',\n",
       " 'Miscellaneous Category - Miscellaneous Bills',\n",
       " 'Food Category - Restaurant Bill/Receipt',\n",
       " 'Miscellaneous Category - Miscellaneous Bills',\n",
       " 'Miscellaneous Category - Miscellaneous Bills',\n",
       " 'Food Category - Restaurant Bill/Receipt',\n",
       " 'Miscellaneous Category - Miscellaneous Bills',\n",
       " 'Food Category - Restaurant Bill/Receipt',\n",
       " 'Electronics Category - Electronic Gadgets Bill/Receipt',\n",
       " 'Electronics Category - Electronic Gadgets Bill/Receipt',\n",
       " 'Travel Category - Flight Ticket',\n",
       " 'Travel Category - Bus Ticket',\n",
       " 'Miscellaneous Category - Miscellaneous Bills',\n",
       " 'Miscellaneous Category - Miscellaneous Bills',\n",
       " 'Miscellaneous Category - Miscellaneous Bills',\n",
       " 'Food Category - Restaurant Bill/Receipt',\n",
       " 'Miscellaneous Category - Miscellaneous Bills',\n",
       " 'Travel Category - Flight Ticket',\n",
       " 'Electronics Category - Electronic Gadgets Bill/Receipt',\n",
       " 'Miscellaneous Category - Miscellaneous Bills',\n",
       " 'Miscellaneous Category - Miscellaneous Bills',\n",
       " 'Travel Category - Train Ticket',\n",
       " 'Travel Category - Bus Ticket',\n",
       " 'Fuel Category - Fuel Bill/Receipt',\n",
       " 'Travel Category - Train Ticket',\n",
       " 'Miscellaneous Category - Miscellaneous Bills',\n",
       " 'Travel Category - Train Ticket',\n",
       " 'Travel Category - Train Ticket',\n",
       " 'Miscellaneous Category - Miscellaneous Bills',\n",
       " 'Room Stay Category - Stay Bill/Receipt',\n",
       " 'Miscellaneous Category - Miscellaneous Bills',\n",
       " 'Miscellaneous Category - Miscellaneous Bills',\n",
       " 'Miscellaneous Category - Miscellaneous Bills',\n",
       " 'Miscellaneous Category - Miscellaneous Bills',\n",
       " 'Travel Category - Flight Ticket',\n",
       " 'Miscellaneous Category - Miscellaneous Bills',\n",
       " 'Food Category - Restaurant Bill/Receipt',\n",
       " 'Miscellaneous Category - Miscellaneous Bills',\n",
       " 'Miscellaneous Category - Miscellaneous Bills',\n",
       " 'Travel Category - Flight Ticket',\n",
       " 'Miscellaneous Category - Miscellaneous Bills',\n",
       " 'Food Category - Restaurant Bill/Receipt',\n",
       " 'Travel Category - Flight Ticket',\n",
       " 'Fuel Category - Fuel Bill/Receipt',\n",
       " 'Miscellaneous Category - Miscellaneous Bills',\n",
       " 'Miscellaneous Category - Miscellaneous Bills',\n",
       " 'Food Category - Restaurant Bill/Receipt',\n",
       " 'Miscellaneous Category - Miscellaneous Bills',\n",
       " 'Food Category - Restaurant Bill/Receipt',\n",
       " 'Miscellaneous Category - Miscellaneous Bills',\n",
       " 'Fuel Category - Fuel Bill/Receipt',\n",
       " 'Food Category - Restaurant Bill/Receipt',\n",
       " 'Electronics Category - Electronic Gadgets Bill/Receipt',\n",
       " 'Food Category - Restaurant Bill/Receipt',\n",
       " 'Food Category - Restaurant Bill/Receipt',\n",
       " 'Food Category - Restaurant Bill/Receipt',\n",
       " 'Miscellaneous Category - Miscellaneous Bills',\n",
       " 'Miscellaneous Category - Miscellaneous Bills',\n",
       " 'Food Category - Restaurant Bill/Receipt',\n",
       " 'Miscellaneous Category - Miscellaneous Bills',\n",
       " 'Miscellaneous Category - Miscellaneous Bills',\n",
       " 'Electronics Category - Electronic Gadgets Bill/Receipt',\n",
       " 'Miscellaneous Category - Miscellaneous Bills',\n",
       " 'Food Category - Restaurant Bill/Receipt',\n",
       " 'Food Category - Restaurant Bill/Receipt',\n",
       " 'Miscellaneous Category - Miscellaneous Bills',\n",
       " 'Travel Category - Flight Ticket',\n",
       " 'Food Category - Restaurant Bill/Receipt',\n",
       " 'Travel Category - Train Ticket',\n",
       " 'Food Category - Restaurant Bill/Receipt',\n",
       " 'Food Category - Restaurant Bill/Receipt',\n",
       " 'Electronics Category - Electronic Gadgets Bill/Receipt',\n",
       " 'Food Category - Restaurant Bill/Receipt',\n",
       " 'Travel Category - Train Ticket',\n",
       " 'Miscellaneous Category - Miscellaneous Bills',\n",
       " 'Miscellaneous Category - Miscellaneous Bills',\n",
       " 'Food Category - Restaurant Bill/Receipt',\n",
       " 'Room Stay Category - Stay Bill/Receipt',\n",
       " 'Food Category - Restaurant Bill/Receipt',\n",
       " 'Miscellaneous Category - Miscellaneous Bills',\n",
       " 'Miscellaneous Category - Miscellaneous Bills',\n",
       " 'Miscellaneous Category - Miscellaneous Bills',\n",
       " 'Travel Category - Flight Ticket',\n",
       " 'Travel Category - Flight Ticket',\n",
       " 'Travel Category - Flight Ticket',\n",
       " 'Miscellaneous Category - Miscellaneous Bills',\n",
       " 'Travel Category - Flight Ticket',\n",
       " 'Food Category - Restaurant Bill/Receipt',\n",
       " 'Miscellaneous Category - Miscellaneous Bills',\n",
       " 'Electronics Category - Electronic Gadgets Bill/Receipt',\n",
       " 'Room Stay Category - Stay Bill/Receipt',\n",
       " 'Miscellaneous Category - Miscellaneous Bills',\n",
       " 'Miscellaneous Category - Miscellaneous Bills',\n",
       " 'Food Category - Restaurant Bill/Receipt',\n",
       " 'Miscellaneous Category - Miscellaneous Bills',\n",
       " 'Miscellaneous Category - Miscellaneous Bills',\n",
       " 'Miscellaneous Category - Miscellaneous Bills',\n",
       " 'Food Category - Restaurant Bill/Receipt',\n",
       " 'Miscellaneous Category - Miscellaneous Bills',\n",
       " 'Miscellaneous Category - Miscellaneous Bills',\n",
       " 'Miscellaneous Category - Miscellaneous Bills',\n",
       " 'Food Category - Restaurant Bill/Receipt',\n",
       " 'Food Category - Restaurant Bill/Receipt',\n",
       " 'Travel Category - Bus Ticket',\n",
       " 'Miscellaneous Category - Miscellaneous Bills',\n",
       " 'Travel Category - Flight Ticket',\n",
       " 'Food Category - Restaurant Bill/Receipt',\n",
       " 'Food Category - Restaurant Bill/Receipt',\n",
       " 'Food Category - Restaurant Bill/Receipt',\n",
       " 'Miscellaneous Category - Miscellaneous Bills',\n",
       " 'Room Stay Category - Stay Bill/Receipt',\n",
       " 'Miscellaneous Category - Miscellaneous Bills',\n",
       " 'Food Category - Restaurant Bill/Receipt',\n",
       " 'Food Category - Restaurant Bill/Receipt',\n",
       " 'Miscellaneous Category - Miscellaneous Bills',\n",
       " 'Travel Category - Train Ticket',\n",
       " 'Fuel Category - Fuel Bill/Receipt',\n",
       " 'Food Category - Restaurant Bill/Receipt',\n",
       " 'Room Stay Category - Stay Bill/Receipt',\n",
       " 'Miscellaneous Category - Miscellaneous Bills',\n",
       " 'Food Category - Restaurant Bill/Receipt',\n",
       " 'Food Category - Restaurant Bill/Receipt',\n",
       " 'Food Category - Restaurant Bill/Receipt',\n",
       " 'Fuel Category - Fuel Bill/Receipt',\n",
       " 'Travel Category - Cab Bill/Receipt',\n",
       " 'Food Category - Restaurant Bill/Receipt',\n",
       " 'Travel Category - Train Ticket',\n",
       " 'Miscellaneous Category - Miscellaneous Bills',\n",
       " 'Room Stay Category - Stay Bill/Receipt',\n",
       " 'Food Category - Restaurant Bill/Receipt',\n",
       " 'Food Category - Restaurant Bill/Receipt',\n",
       " 'Food Category - Restaurant Bill/Receipt',\n",
       " 'Food Category - Restaurant Bill/Receipt',\n",
       " 'Miscellaneous Category - Miscellaneous Bills',\n",
       " 'Miscellaneous Category - Miscellaneous Bills',\n",
       " 'Room Stay Category - Stay Bill/Receipt',\n",
       " 'Room Stay Category - Stay Bill/Receipt',\n",
       " 'Miscellaneous Category - Miscellaneous Bills',\n",
       " 'Food Category - Restaurant Bill/Receipt',\n",
       " 'Travel Category - Train Ticket',\n",
       " 'Miscellaneous Category - Miscellaneous Bills',\n",
       " 'Miscellaneous Category - Miscellaneous Bills',\n",
       " 'Food Category - Restaurant Bill/Receipt',\n",
       " 'Miscellaneous Category - Miscellaneous Bills',\n",
       " 'Miscellaneous Category - Miscellaneous Bills',\n",
       " 'Food Category - Restaurant Bill/Receipt',\n",
       " 'Food Category - Restaurant Bill/Receipt',\n",
       " 'Miscellaneous Category - Miscellaneous Bills',\n",
       " 'Fuel Category - Fuel Bill/Receipt',\n",
       " 'Electronics Category - Electronic Gadgets Bill/Receipt',\n",
       " 'Miscellaneous Category - Miscellaneous Bills',\n",
       " 'Electronics Category - Electronic Gadgets Bill/Receipt',\n",
       " 'Food Category - Restaurant Bill/Receipt',\n",
       " 'Miscellaneous Category - Miscellaneous Bills',\n",
       " 'Food Category - Restaurant Bill/Receipt',\n",
       " 'Miscellaneous Category - Miscellaneous Bills',\n",
       " 'Miscellaneous Category - Miscellaneous Bills',\n",
       " 'Miscellaneous Category - Miscellaneous Bills',\n",
       " 'Food Category - Restaurant Bill/Receipt',\n",
       " 'Travel Category - Cab Bill/Receipt',\n",
       " 'Travel Category - Flight Ticket',\n",
       " 'Room Stay Category - Stay Bill/Receipt',\n",
       " 'Miscellaneous Category - Miscellaneous Bills',\n",
       " 'Food Category - Restaurant Bill/Receipt',\n",
       " 'Food Category - Restaurant Bill/Receipt',\n",
       " 'Miscellaneous Category - Miscellaneous Bills',\n",
       " 'Miscellaneous Category - Miscellaneous Bills',\n",
       " 'Miscellaneous Category - Miscellaneous Bills',\n",
       " 'Travel Category - Train Ticket',\n",
       " 'Miscellaneous Category - Miscellaneous Bills',\n",
       " 'Food Category - Restaurant Bill/Receipt',\n",
       " 'Miscellaneous Category - Miscellaneous Bills',\n",
       " 'Travel Category - Train Ticket',\n",
       " 'Miscellaneous Category - Miscellaneous Bills',\n",
       " 'Miscellaneous Category - Miscellaneous Bills',\n",
       " 'Electronics Category - Electronic Gadgets Bill/Receipt',\n",
       " 'Travel Category - Train Ticket',\n",
       " 'Miscellaneous Category - Miscellaneous Bills',\n",
       " 'Food Category - Restaurant Bill/Receipt',\n",
       " 'Travel Category - Train Ticket',\n",
       " 'Food Category - Restaurant Bill/Receipt',\n",
       " 'Food Category - Restaurant Bill/Receipt',\n",
       " 'Room Stay Category - Stay Bill/Receipt',\n",
       " 'Travel Category - Train Ticket',\n",
       " 'Miscellaneous Category - Miscellaneous Bills',\n",
       " 'Miscellaneous Category - Miscellaneous Bills',\n",
       " 'Miscellaneous Category - Miscellaneous Bills',\n",
       " 'Miscellaneous Category - Miscellaneous Bills',\n",
       " 'Food Category - Restaurant Bill/Receipt',\n",
       " 'Food Category - Restaurant Bill/Receipt',\n",
       " 'Food Category - Restaurant Bill/Receipt',\n",
       " 'Miscellaneous Category - Miscellaneous Bills',\n",
       " 'Miscellaneous Category - Miscellaneous Bills',\n",
       " 'Food Category - Restaurant Bill/Receipt',\n",
       " 'Miscellaneous Category - Miscellaneous Bills',\n",
       " 'Room Stay Category - Stay Bill/Receipt',\n",
       " 'Miscellaneous Category - Miscellaneous Bills',\n",
       " 'Food Category - Restaurant Bill/Receipt',\n",
       " 'Miscellaneous Category - Miscellaneous Bills',\n",
       " 'Travel Category - Bus Ticket',\n",
       " 'Electronics Category - Electronic Gadgets Bill/Receipt',\n",
       " 'Food Category - Restaurant Bill/Receipt',\n",
       " 'Food Category - Restaurant Bill/Receipt',\n",
       " 'Travel Category - Flight Ticket',\n",
       " 'Food Category - Restaurant Bill/Receipt',\n",
       " 'Miscellaneous Category - Miscellaneous Bills',\n",
       " 'Miscellaneous Category - Miscellaneous Bills',\n",
       " 'Miscellaneous Category - Miscellaneous Bills',\n",
       " 'Food Category - Restaurant Bill/Receipt',\n",
       " 'Miscellaneous Category - Miscellaneous Bills',\n",
       " 'Travel Category - Bus Ticket',\n",
       " 'Electronics Category - Electronic Gadgets Bill/Receipt',\n",
       " 'Fuel Category - Fuel Bill/Receipt',\n",
       " 'Miscellaneous Category - Miscellaneous Bills',\n",
       " 'Miscellaneous Category - Miscellaneous Bills',\n",
       " 'Food Category - Restaurant Bill/Receipt',\n",
       " 'Miscellaneous Category - Miscellaneous Bills',\n",
       " 'Miscellaneous Category - Miscellaneous Bills',\n",
       " 'Miscellaneous Category - Miscellaneous Bills',\n",
       " 'Miscellaneous Category - Miscellaneous Bills',\n",
       " 'Food Category - Restaurant Bill/Receipt',\n",
       " 'Food Category - Restaurant Bill/Receipt',\n",
       " 'Miscellaneous Category - Miscellaneous Bills',\n",
       " 'Miscellaneous Category - Miscellaneous Bills',\n",
       " 'Travel Category - Train Ticket',\n",
       " 'Travel Category - Cab Bill/Receipt',\n",
       " 'Food Category - Restaurant Bill/Receipt',\n",
       " 'Miscellaneous Category - Miscellaneous Bills',\n",
       " 'Fuel Category - Fuel Bill/Receipt',\n",
       " 'Miscellaneous Category - Miscellaneous Bills',\n",
       " 'Room Stay Category - Stay Bill/Receipt',\n",
       " 'Miscellaneous Category - Miscellaneous Bills',\n",
       " 'Electronics Category - Electronic Gadgets Bill/Receipt',\n",
       " 'Miscellaneous Category - Miscellaneous Bills',\n",
       " 'Food Category - Restaurant Bill/Receipt',\n",
       " 'Miscellaneous Category - Miscellaneous Bills',\n",
       " 'Miscellaneous Category - Miscellaneous Bills',\n",
       " 'Travel Category - Flight Ticket',\n",
       " 'Miscellaneous Category - Miscellaneous Bills',\n",
       " 'Food Category - Restaurant Bill/Receipt',\n",
       " 'Food Category - Restaurant Bill/Receipt',\n",
       " 'Food Category - Restaurant Bill/Receipt',\n",
       " 'Food Category - Restaurant Bill/Receipt',\n",
       " 'Miscellaneous Category - Miscellaneous Bills',\n",
       " 'Travel Category - Train Ticket',\n",
       " 'Food Category - Restaurant Bill/Receipt',\n",
       " 'Food Category - Restaurant Bill/Receipt',\n",
       " 'Miscellaneous Category - Miscellaneous Bills',\n",
       " 'Food Category - Restaurant Bill/Receipt',\n",
       " 'Food Category - Restaurant Bill/Receipt',\n",
       " 'Food Category - Restaurant Bill/Receipt',\n",
       " 'Miscellaneous Category - Miscellaneous Bills',\n",
       " 'Food Category - Restaurant Bill/Receipt',\n",
       " 'Miscellaneous Category - Miscellaneous Bills',\n",
       " 'Travel Category - Train Ticket',\n",
       " 'Miscellaneous Category - Miscellaneous Bills',\n",
       " 'Food Category - Restaurant Bill/Receipt',\n",
       " 'Food Category - Restaurant Bill/Receipt',\n",
       " 'Food Category - Restaurant Bill/Receipt',\n",
       " 'Miscellaneous Category - Miscellaneous Bills',\n",
       " 'Miscellaneous Category - Miscellaneous Bills',\n",
       " 'Electronics Category - Electronic Gadgets Bill/Receipt',\n",
       " 'Travel Category - Train Ticket',\n",
       " 'Room Stay Category - Stay Bill/Receipt',\n",
       " 'Food Category - Restaurant Bill/Receipt',\n",
       " 'Miscellaneous Category - Miscellaneous Bills',\n",
       " 'Travel Category - Train Ticket',\n",
       " 'Food Category - Restaurant Bill/Receipt',\n",
       " 'Food Category - Restaurant Bill/Receipt',\n",
       " 'Food Category - Restaurant Bill/Receipt',\n",
       " 'Miscellaneous Category - Miscellaneous Bills',\n",
       " 'Travel Category - Bus Ticket',\n",
       " 'Miscellaneous Category - Miscellaneous Bills',\n",
       " 'Miscellaneous Category - Miscellaneous Bills',\n",
       " 'Miscellaneous Category - Miscellaneous Bills',\n",
       " 'Travel Category - Bus Ticket',\n",
       " 'Food Category - Restaurant Bill/Receipt',\n",
       " 'Food Category - Restaurant Bill/Receipt',\n",
       " 'Electronics Category - Electronic Gadgets Bill/Receipt',\n",
       " 'Miscellaneous Category - Miscellaneous Bills',\n",
       " 'Miscellaneous Category - Miscellaneous Bills',\n",
       " 'Miscellaneous Category - Miscellaneous Bills',\n",
       " 'Electronics Category - Electronic Gadgets Bill/Receipt',\n",
       " 'Miscellaneous Category - Miscellaneous Bills',\n",
       " 'Food Category - Restaurant Bill/Receipt',\n",
       " 'Food Category - Restaurant Bill/Receipt',\n",
       " 'Miscellaneous Category - Miscellaneous Bills',\n",
       " 'Travel Category - Train Ticket',\n",
       " 'Miscellaneous Category - Miscellaneous Bills',\n",
       " 'Miscellaneous Category - Miscellaneous Bills',\n",
       " 'Miscellaneous Category - Miscellaneous Bills',\n",
       " 'Miscellaneous Category - Miscellaneous Bills',\n",
       " 'Miscellaneous Category - Miscellaneous Bills',\n",
       " 'Miscellaneous Category - Miscellaneous Bills',\n",
       " 'Travel Category - Flight Ticket',\n",
       " 'Miscellaneous Category - Miscellaneous Bills',\n",
       " 'Food Category - Restaurant Bill/Receipt',\n",
       " 'Food Category - Restaurant Bill/Receipt',\n",
       " 'Electronics Category - Electronic Gadgets Bill/Receipt',\n",
       " 'Travel Category - Flight Ticket',\n",
       " 'Food Category - Restaurant Bill/Receipt',\n",
       " 'Travel Category - Bus Ticket',\n",
       " 'Food Category - Restaurant Bill/Receipt',\n",
       " 'Food Category - Restaurant Bill/Receipt',\n",
       " 'Fuel Category - Fuel Bill/Receipt',\n",
       " 'Miscellaneous Category - Miscellaneous Bills',\n",
       " 'Miscellaneous Category - Miscellaneous Bills',\n",
       " 'Travel Category - Bus Ticket',\n",
       " 'Travel Category - Cab Bill/Receipt',\n",
       " 'Miscellaneous Category - Miscellaneous Bills',\n",
       " 'Travel Category - Train Ticket',\n",
       " 'Food Category - Restaurant Bill/Receipt',\n",
       " 'Miscellaneous Category - Miscellaneous Bills',\n",
       " 'Electronics Category - Electronic Gadgets Bill/Receipt',\n",
       " 'Miscellaneous Category - Miscellaneous Bills',\n",
       " 'Miscellaneous Category - Miscellaneous Bills',\n",
       " 'Miscellaneous Category - Miscellaneous Bills',\n",
       " 'Miscellaneous Category - Miscellaneous Bills',\n",
       " 'Miscellaneous Category - Miscellaneous Bills',\n",
       " 'Travel Category - Train Ticket',\n",
       " 'Miscellaneous Category - Miscellaneous Bills',\n",
       " 'Food Category - Restaurant Bill/Receipt',\n",
       " 'Travel Category - Flight Ticket',\n",
       " 'Food Category - Restaurant Bill/Receipt',\n",
       " 'Food Category - Restaurant Bill/Receipt',\n",
       " 'Miscellaneous Category - Miscellaneous Bills',\n",
       " 'Room Stay Category - Stay Bill/Receipt',\n",
       " 'Miscellaneous Category - Miscellaneous Bills',\n",
       " 'Room Stay Category - Stay Bill/Receipt',\n",
       " 'Miscellaneous Category - Miscellaneous Bills',\n",
       " 'Miscellaneous Category - Miscellaneous Bills',\n",
       " 'Food Category - Restaurant Bill/Receipt',\n",
       " 'Miscellaneous Category - Miscellaneous Bills',\n",
       " 'Fuel Category - Fuel Bill/Receipt',\n",
       " 'Miscellaneous Category - Miscellaneous Bills',\n",
       " 'Miscellaneous Category - Miscellaneous Bills',\n",
       " 'Fuel Category - Fuel Bill/Receipt',\n",
       " 'Electronics Category - Electronic Gadgets Bill/Receipt',\n",
       " 'Travel Category - Train Ticket',\n",
       " 'Miscellaneous Category - Miscellaneous Bills',\n",
       " 'Food Category - Restaurant Bill/Receipt',\n",
       " 'Travel Category - Flight Ticket',\n",
       " 'Miscellaneous Category - Miscellaneous Bills',\n",
       " 'Miscellaneous Category - Miscellaneous Bills',\n",
       " 'Miscellaneous Category - Miscellaneous Bills',\n",
       " 'Miscellaneous Category - Miscellaneous Bills',\n",
       " 'Miscellaneous Category - Miscellaneous Bills',\n",
       " 'Miscellaneous Category - Miscellaneous Bills',\n",
       " 'Electronics Category - Electronic Gadgets Bill/Receipt',\n",
       " 'Travel Category - Flight Ticket',\n",
       " 'Fuel Category - Fuel Bill/Receipt',\n",
       " 'Food Category - Restaurant Bill/Receipt',\n",
       " 'Food Category - Restaurant Bill/Receipt',\n",
       " 'Food Category - Restaurant Bill/Receipt',\n",
       " 'Miscellaneous Category - Miscellaneous Bills',\n",
       " 'Electronics Category - Electronic Gadgets Bill/Receipt',\n",
       " 'Miscellaneous Category - Miscellaneous Bills',\n",
       " 'Miscellaneous Category - Miscellaneous Bills',\n",
       " 'Food Category - Restaurant Bill/Receipt',\n",
       " 'Travel Category - Cab Bill/Receipt',\n",
       " 'Miscellaneous Category - Miscellaneous Bills',\n",
       " 'Food Category - Restaurant Bill/Receipt',\n",
       " 'Electronics Category - Electronic Gadgets Bill/Receipt',\n",
       " 'Food Category - Restaurant Bill/Receipt',\n",
       " 'Food Category - Restaurant Bill/Receipt',\n",
       " 'Miscellaneous Category - Miscellaneous Bills',\n",
       " 'Food Category - Restaurant Bill/Receipt',\n",
       " 'Food Category - Restaurant Bill/Receipt',\n",
       " 'Electronics Category - Electronic Gadgets Bill/Receipt',\n",
       " 'Electronics Category - Electronic Gadgets Bill/Receipt',\n",
       " 'Food Category - Restaurant Bill/Receipt',\n",
       " 'Food Category - Restaurant Bill/Receipt',\n",
       " 'Food Category - Restaurant Bill/Receipt',\n",
       " 'Miscellaneous Category - Miscellaneous Bills',\n",
       " 'Miscellaneous Category - Miscellaneous Bills',\n",
       " 'Food Category - Restaurant Bill/Receipt',\n",
       " 'Travel Category - Train Ticket',\n",
       " 'Food Category - Restaurant Bill/Receipt',\n",
       " 'Food Category - Restaurant Bill/Receipt',\n",
       " 'Food Category - Restaurant Bill/Receipt',\n",
       " 'Miscellaneous Category - Miscellaneous Bills',\n",
       " 'Food Category - Restaurant Bill/Receipt',\n",
       " 'Food Category - Restaurant Bill/Receipt',\n",
       " 'Food Category - Restaurant Bill/Receipt',\n",
       " 'Food Category - Restaurant Bill/Receipt',\n",
       " 'Miscellaneous Category - Miscellaneous Bills',\n",
       " 'Food Category - Restaurant Bill/Receipt',\n",
       " 'Miscellaneous Category - Miscellaneous Bills',\n",
       " 'Miscellaneous Category - Miscellaneous Bills',\n",
       " 'Miscellaneous Category - Miscellaneous Bills',\n",
       " 'Miscellaneous Category - Miscellaneous Bills',\n",
       " 'Travel Category - Flight Ticket',\n",
       " 'Miscellaneous Category - Miscellaneous Bills',\n",
       " 'Travel Category - Flight Ticket',\n",
       " 'Room Stay Category - Stay Bill/Receipt',\n",
       " 'Electronics Category - Electronic Gadgets Bill/Receipt',\n",
       " 'Miscellaneous Category - Miscellaneous Bills',\n",
       " 'Travel Category - Flight Ticket',\n",
       " 'Miscellaneous Category - Miscellaneous Bills',\n",
       " 'Travel Category - Flight Ticket',\n",
       " 'Room Stay Category - Stay Bill/Receipt',\n",
       " 'Electronics Category - Electronic Gadgets Bill/Receipt',\n",
       " 'Travel Category - Train Ticket',\n",
       " 'Travel Category - Bus Ticket',\n",
       " 'Miscellaneous Category - Miscellaneous Bills',\n",
       " 'Miscellaneous Category - Miscellaneous Bills',\n",
       " 'Miscellaneous Category - Miscellaneous Bills',\n",
       " 'Miscellaneous Category - Miscellaneous Bills',\n",
       " 'Miscellaneous Category - Miscellaneous Bills',\n",
       " 'Miscellaneous Category - Miscellaneous Bills',\n",
       " 'Travel Category - Train Ticket',\n",
       " 'Miscellaneous Category - Miscellaneous Bills',\n",
       " 'Miscellaneous Category - Miscellaneous Bills',\n",
       " 'Travel Category - Bus Ticket',\n",
       " 'Food Category - Restaurant Bill/Receipt',\n",
       " 'Food Category - Restaurant Bill/Receipt',\n",
       " 'Food Category - Restaurant Bill/Receipt',\n",
       " 'Travel Category - Cab Bill/Receipt',\n",
       " 'Miscellaneous Category - Miscellaneous Bills',\n",
       " 'Electronics Category - Electronic Gadgets Bill/Receipt',\n",
       " 'Miscellaneous Category - Miscellaneous Bills',\n",
       " 'Electronics Category - Electronic Gadgets Bill/Receipt',\n",
       " 'Food Category - Restaurant Bill/Receipt',\n",
       " 'Electronics Category - Electronic Gadgets Bill/Receipt',\n",
       " 'Miscellaneous Category - Miscellaneous Bills',\n",
       " 'Food Category - Restaurant Bill/Receipt',\n",
       " 'Miscellaneous Category - Miscellaneous Bills',\n",
       " 'Travel Category - Train Ticket',\n",
       " 'Miscellaneous Category - Miscellaneous Bills',\n",
       " 'Food Category - Restaurant Bill/Receipt',\n",
       " 'Miscellaneous Category - Miscellaneous Bills',\n",
       " 'Food Category - Restaurant Bill/Receipt',\n",
       " 'Electronics Category - Electronic Gadgets Bill/Receipt',\n",
       " 'Electronics Category - Electronic Gadgets Bill/Receipt',\n",
       " 'Travel Category - Train Ticket',\n",
       " 'Food Category - Restaurant Bill/Receipt',\n",
       " 'Travel Category - Bus Ticket',\n",
       " 'Food Category - Restaurant Bill/Receipt',\n",
       " 'Food Category - Restaurant Bill/Receipt',\n",
       " 'Miscellaneous Category - Miscellaneous Bills',\n",
       " 'Food Category - Restaurant Bill/Receipt',\n",
       " 'Miscellaneous Category - Miscellaneous Bills',\n",
       " 'Food Category - Restaurant Bill/Receipt',\n",
       " 'Miscellaneous Category - Miscellaneous Bills',\n",
       " 'Miscellaneous Category - Miscellaneous Bills',\n",
       " 'Miscellaneous Category - Miscellaneous Bills',\n",
       " 'Miscellaneous Category - Miscellaneous Bills',\n",
       " 'Travel Category - Bus Ticket',\n",
       " 'Food Category - Restaurant Bill/Receipt',\n",
       " 'Food Category - Restaurant Bill/Receipt',\n",
       " 'Food Category - Restaurant Bill/Receipt',\n",
       " 'Miscellaneous Category - Miscellaneous Bills',\n",
       " 'Electronics Category - Electronic Gadgets Bill/Receipt',\n",
       " 'Food Category - Restaurant Bill/Receipt',\n",
       " 'Miscellaneous Category - Miscellaneous Bills',\n",
       " 'Food Category - Restaurant Bill/Receipt',\n",
       " 'Travel Category - Bus Ticket',\n",
       " 'Electronics Category - Electronic Gadgets Bill/Receipt',\n",
       " 'Miscellaneous Category - Miscellaneous Bills',\n",
       " 'Miscellaneous Category - Miscellaneous Bills',\n",
       " 'Food Category - Restaurant Bill/Receipt',\n",
       " 'Travel Category - Flight Ticket',\n",
       " 'Miscellaneous Category - Miscellaneous Bills',\n",
       " 'Miscellaneous Category - Miscellaneous Bills',\n",
       " 'Electronics Category - Electronic Gadgets Bill/Receipt',\n",
       " 'Miscellaneous Category - Miscellaneous Bills',\n",
       " 'Food Category - Restaurant Bill/Receipt',\n",
       " 'Food Category - Restaurant Bill/Receipt',\n",
       " 'Miscellaneous Category - Miscellaneous Bills',\n",
       " 'Travel Category - Bus Ticket',\n",
       " 'Miscellaneous Category - Miscellaneous Bills',\n",
       " 'Food Category - Restaurant Bill/Receipt',\n",
       " 'Travel Category - Flight Ticket',\n",
       " 'Food Category - Restaurant Bill/Receipt',\n",
       " 'Travel Category - Bus Ticket',\n",
       " 'Travel Category - Bus Ticket',\n",
       " 'Fuel Category - Fuel Bill/Receipt',\n",
       " 'Fuel Category - Fuel Bill/Receipt',\n",
       " 'Miscellaneous Category - Miscellaneous Bills',\n",
       " 'Miscellaneous Category - Miscellaneous Bills',\n",
       " 'Food Category - Restaurant Bill/Receipt',\n",
       " 'Travel Category - Bus Ticket',\n",
       " 'Travel Category - Train Ticket',\n",
       " 'Miscellaneous Category - Miscellaneous Bills',\n",
       " 'Food Category - Restaurant Bill/Receipt',\n",
       " 'Miscellaneous Category - Miscellaneous Bills',\n",
       " 'Travel Category - Flight Ticket',\n",
       " 'Electronics Category - Electronic Gadgets Bill/Receipt',\n",
       " 'Miscellaneous Category - Miscellaneous Bills',\n",
       " 'Fuel Category - Fuel Bill/Receipt',\n",
       " 'Food Category - Restaurant Bill/Receipt',\n",
       " 'Miscellaneous Category - Miscellaneous Bills',\n",
       " 'Travel Category - Flight Ticket',\n",
       " 'Miscellaneous Category - Miscellaneous Bills',\n",
       " 'Food Category - Restaurant Bill/Receipt',\n",
       " 'Miscellaneous Category - Miscellaneous Bills',\n",
       " 'Travel Category - Train Ticket',\n",
       " 'Miscellaneous Category - Miscellaneous Bills',\n",
       " 'Room Stay Category - Stay Bill/Receipt',\n",
       " 'Miscellaneous Category - Miscellaneous Bills',\n",
       " 'Travel Category - Bus Ticket',\n",
       " 'Food Category - Restaurant Bill/Receipt',\n",
       " 'Travel Category - Train Ticket',\n",
       " 'Food Category - Restaurant Bill/Receipt',\n",
       " 'Miscellaneous Category - Miscellaneous Bills',\n",
       " 'Travel Category - Flight Ticket',\n",
       " 'Miscellaneous Category - Miscellaneous Bills',\n",
       " 'Electronics Category - Electronic Gadgets Bill/Receipt',\n",
       " 'Food Category - Restaurant Bill/Receipt',\n",
       " 'Travel Category - Bus Ticket',\n",
       " 'Miscellaneous Category - Miscellaneous Bills',\n",
       " 'Food Category - Restaurant Bill/Receipt',\n",
       " 'Food Category - Restaurant Bill/Receipt',\n",
       " 'Food Category - Restaurant Bill/Receipt',\n",
       " 'Travel Category - Cab Bill/Receipt',\n",
       " 'Food Category - Restaurant Bill/Receipt',\n",
       " 'Miscellaneous Category - Miscellaneous Bills',\n",
       " 'Miscellaneous Category - Miscellaneous Bills',\n",
       " 'Food Category - Restaurant Bill/Receipt',\n",
       " 'Food Category - Restaurant Bill/Receipt',\n",
       " 'Food Category - Restaurant Bill/Receipt',\n",
       " 'Room Stay Category - Stay Bill/Receipt',\n",
       " 'Electronics Category - Electronic Gadgets Bill/Receipt',\n",
       " 'Miscellaneous Category - Miscellaneous Bills',\n",
       " 'Food Category - Restaurant Bill/Receipt',\n",
       " 'Miscellaneous Category - Miscellaneous Bills',\n",
       " 'Fuel Category - Fuel Bill/Receipt',\n",
       " 'Travel Category - Flight Ticket',\n",
       " 'Food Category - Restaurant Bill/Receipt',\n",
       " 'Miscellaneous Category - Miscellaneous Bills',\n",
       " 'Miscellaneous Category - Miscellaneous Bills',\n",
       " 'Food Category - Restaurant Bill/Receipt',\n",
       " 'Food Category - Restaurant Bill/Receipt',\n",
       " 'Miscellaneous Category - Miscellaneous Bills',\n",
       " 'Fuel Category - Fuel Bill/Receipt',\n",
       " 'Miscellaneous Category - Miscellaneous Bills',\n",
       " 'Food Category - Restaurant Bill/Receipt',\n",
       " 'Food Category - Restaurant Bill/Receipt',\n",
       " 'Travel Category - Bus Ticket',\n",
       " 'Room Stay Category - Stay Bill/Receipt',\n",
       " 'Travel Category - Bus Ticket',\n",
       " 'Food Category - Restaurant Bill/Receipt',\n",
       " 'Miscellaneous Category - Miscellaneous Bills',\n",
       " 'Travel Category - Train Ticket',\n",
       " 'Travel Category - Bus Ticket',\n",
       " 'Travel Category - Train Ticket',\n",
       " 'Travel Category - Train Ticket',\n",
       " 'Food Category - Restaurant Bill/Receipt',\n",
       " 'Miscellaneous Category - Miscellaneous Bills',\n",
       " 'Travel Category - Flight Ticket',\n",
       " 'Miscellaneous Category - Miscellaneous Bills',\n",
       " 'Electronics Category - Electronic Gadgets Bill/Receipt',\n",
       " 'Miscellaneous Category - Miscellaneous Bills',\n",
       " 'Miscellaneous Category - Miscellaneous Bills',\n",
       " 'Miscellaneous Category - Miscellaneous Bills',\n",
       " 'Food Category - Restaurant Bill/Receipt',\n",
       " 'Miscellaneous Category - Miscellaneous Bills',\n",
       " 'Room Stay Category - Stay Bill/Receipt',\n",
       " 'Miscellaneous Category - Miscellaneous Bills',\n",
       " 'Travel Category - Bus Ticket',\n",
       " 'Miscellaneous Category - Miscellaneous Bills',\n",
       " 'Fuel Category - Fuel Bill/Receipt',\n",
       " 'Miscellaneous Category - Miscellaneous Bills',\n",
       " 'Miscellaneous Category - Miscellaneous Bills',\n",
       " 'Food Category - Restaurant Bill/Receipt',\n",
       " 'Food Category - Restaurant Bill/Receipt',\n",
       " 'Miscellaneous Category - Miscellaneous Bills',\n",
       " 'Miscellaneous Category - Miscellaneous Bills',\n",
       " 'Food Category - Restaurant Bill/Receipt',\n",
       " 'Travel Category - Flight Ticket',\n",
       " 'Food Category - Restaurant Bill/Receipt',\n",
       " 'Miscellaneous Category - Miscellaneous Bills',\n",
       " 'Miscellaneous Category - Miscellaneous Bills',\n",
       " 'Miscellaneous Category - Miscellaneous Bills',\n",
       " 'Travel Category - Train Ticket',\n",
       " 'Miscellaneous Category - Miscellaneous Bills',\n",
       " 'Miscellaneous Category - Miscellaneous Bills',\n",
       " 'Travel Category - Flight Ticket',\n",
       " 'Food Category - Restaurant Bill/Receipt',\n",
       " 'Food Category - Restaurant Bill/Receipt',\n",
       " 'Miscellaneous Category - Miscellaneous Bills',\n",
       " 'Miscellaneous Category - Miscellaneous Bills',\n",
       " 'Electronics Category - Electronic Gadgets Bill/Receipt',\n",
       " 'Food Category - Restaurant Bill/Receipt',\n",
       " 'Food Category - Restaurant Bill/Receipt',\n",
       " 'Miscellaneous Category - Miscellaneous Bills',\n",
       " 'Miscellaneous Category - Miscellaneous Bills',\n",
       " 'Room Stay Category - Stay Bill/Receipt',\n",
       " 'Miscellaneous Category - Miscellaneous Bills',\n",
       " 'Food Category - Restaurant Bill/Receipt',\n",
       " 'Miscellaneous Category - Miscellaneous Bills',\n",
       " 'Miscellaneous Category - Miscellaneous Bills',\n",
       " 'Food Category - Restaurant Bill/Receipt',\n",
       " 'Food Category - Restaurant Bill/Receipt',\n",
       " 'Food Category - Restaurant Bill/Receipt',\n",
       " 'Travel Category - Flight Ticket',\n",
       " 'Miscellaneous Category - Miscellaneous Bills',\n",
       " 'Electronics Category - Electronic Gadgets Bill/Receipt',\n",
       " 'Electronics Category - Electronic Gadgets Bill/Receipt',\n",
       " 'Travel Category - Train Ticket',\n",
       " 'Miscellaneous Category - Miscellaneous Bills',\n",
       " 'Travel Category - Flight Ticket',\n",
       " 'Miscellaneous Category - Miscellaneous Bills',\n",
       " 'Electronics Category - Electronic Gadgets Bill/Receipt',\n",
       " 'Miscellaneous Category - Miscellaneous Bills',\n",
       " 'Food Category - Restaurant Bill/Receipt',\n",
       " 'Travel Category - Flight Ticket',\n",
       " 'Miscellaneous Category - Miscellaneous Bills',\n",
       " 'Miscellaneous Category - Miscellaneous Bills',\n",
       " 'Food Category - Restaurant Bill/Receipt',\n",
       " 'Food Category - Restaurant Bill/Receipt',\n",
       " 'Food Category - Restaurant Bill/Receipt',\n",
       " 'Food Category - Restaurant Bill/Receipt',\n",
       " 'Miscellaneous Category - Miscellaneous Bills',\n",
       " 'Travel Category - Train Ticket',\n",
       " 'Travel Category - Train Ticket',\n",
       " 'Miscellaneous Category - Miscellaneous Bills',\n",
       " 'Food Category - Restaurant Bill/Receipt',\n",
       " 'Travel Category - Flight Ticket',\n",
       " 'Travel Category - Train Ticket',\n",
       " 'Miscellaneous Category - Miscellaneous Bills',\n",
       " 'Miscellaneous Category - Miscellaneous Bills',\n",
       " 'Miscellaneous Category - Miscellaneous Bills',\n",
       " 'Miscellaneous Category - Miscellaneous Bills',\n",
       " 'Fuel Category - Fuel Bill/Receipt',\n",
       " 'Miscellaneous Category - Miscellaneous Bills',\n",
       " 'Travel Category - Bus Ticket',\n",
       " 'Food Category - Restaurant Bill/Receipt',\n",
       " 'Travel Category - Cab Bill/Receipt',\n",
       " 'Miscellaneous Category - Miscellaneous Bills',\n",
       " 'Miscellaneous Category - Miscellaneous Bills',\n",
       " 'Miscellaneous Category - Miscellaneous Bills',\n",
       " 'Food Category - Restaurant Bill/Receipt',\n",
       " 'Miscellaneous Category - Miscellaneous Bills',\n",
       " 'Travel Category - Flight Ticket',\n",
       " 'Travel Category - Cab Bill/Receipt',\n",
       " 'Miscellaneous Category - Miscellaneous Bills',\n",
       " 'Miscellaneous Category - Miscellaneous Bills',\n",
       " 'Miscellaneous Category - Miscellaneous Bills',\n",
       " 'Food Category - Restaurant Bill/Receipt',\n",
       " 'Miscellaneous Category - Miscellaneous Bills',\n",
       " 'Food Category - Restaurant Bill/Receipt',\n",
       " 'Food Category - Restaurant Bill/Receipt',\n",
       " 'Travel Category - Train Ticket',\n",
       " 'Miscellaneous Category - Miscellaneous Bills',\n",
       " 'Miscellaneous Category - Miscellaneous Bills',\n",
       " 'Food Category - Restaurant Bill/Receipt',\n",
       " 'Travel Category - Flight Ticket',\n",
       " 'Food Category - Restaurant Bill/Receipt',\n",
       " 'Miscellaneous Category - Miscellaneous Bills',\n",
       " 'Miscellaneous Category - Miscellaneous Bills',\n",
       " 'Travel Category - Train Ticket',\n",
       " 'Food Category - Restaurant Bill/Receipt',\n",
       " 'Food Category - Restaurant Bill/Receipt',\n",
       " 'Food Category - Restaurant Bill/Receipt',\n",
       " 'Travel Category - Train Ticket',\n",
       " 'Food Category - Restaurant Bill/Receipt',\n",
       " 'Miscellaneous Category - Miscellaneous Bills',\n",
       " 'Food Category - Restaurant Bill/Receipt',\n",
       " 'Miscellaneous Category - Miscellaneous Bills',\n",
       " 'Travel Category - Train Ticket',\n",
       " 'Travel Category - Flight Ticket',\n",
       " 'Travel Category - Train Ticket',\n",
       " 'Travel Category - Flight Ticket',\n",
       " 'Electronics Category - Electronic Gadgets Bill/Receipt',\n",
       " 'Travel Category - Cab Bill/Receipt',\n",
       " 'Room Stay Category - Stay Bill/Receipt',\n",
       " 'Travel Category - Bus Ticket',\n",
       " 'Travel Category - Bus Ticket',\n",
       " 'Food Category - Restaurant Bill/Receipt',\n",
       " 'Miscellaneous Category - Miscellaneous Bills',\n",
       " 'Food Category - Restaurant Bill/Receipt',\n",
       " 'Fuel Category - Fuel Bill/Receipt',\n",
       " 'Food Category - Restaurant Bill/Receipt',\n",
       " 'Miscellaneous Category - Miscellaneous Bills',\n",
       " 'Fuel Category - Fuel Bill/Receipt',\n",
       " 'Food Category - Restaurant Bill/Receipt',\n",
       " 'Miscellaneous Category - Miscellaneous Bills',\n",
       " 'Miscellaneous Category - Miscellaneous Bills',\n",
       " 'Room Stay Category - Stay Bill/Receipt',\n",
       " 'Travel Category - Bus Ticket',\n",
       " 'Fuel Category - Fuel Bill/Receipt',\n",
       " 'Room Stay Category - Stay Bill/Receipt',\n",
       " 'Miscellaneous Category - Miscellaneous Bills',\n",
       " 'Food Category - Restaurant Bill/Receipt',\n",
       " 'Miscellaneous Category - Miscellaneous Bills',\n",
       " 'Electronics Category - Electronic Gadgets Bill/Receipt',\n",
       " 'Food Category - Restaurant Bill/Receipt',\n",
       " 'Food Category - Restaurant Bill/Receipt',\n",
       " 'Travel Category - Bus Ticket',\n",
       " 'Food Category - Restaurant Bill/Receipt',\n",
       " 'Travel Category - Train Ticket',\n",
       " 'Travel Category - Train Ticket',\n",
       " 'Electronics Category - Electronic Gadgets Bill/Receipt',\n",
       " 'Travel Category - Flight Ticket',\n",
       " 'Travel Category - Flight Ticket',\n",
       " 'Food Category - Restaurant Bill/Receipt',\n",
       " 'Food Category - Restaurant Bill/Receipt',\n",
       " 'Electronics Category - Electronic Gadgets Bill/Receipt',\n",
       " 'Miscellaneous Category - Miscellaneous Bills',\n",
       " 'Fuel Category - Fuel Bill/Receipt',\n",
       " 'Room Stay Category - Stay Bill/Receipt',\n",
       " 'Food Category - Restaurant Bill/Receipt',\n",
       " 'Food Category - Restaurant Bill/Receipt',\n",
       " 'Food Category - Restaurant Bill/Receipt',\n",
       " 'Food Category - Restaurant Bill/Receipt',\n",
       " 'Food Category - Restaurant Bill/Receipt',\n",
       " 'Miscellaneous Category - Miscellaneous Bills',\n",
       " 'Miscellaneous Category - Miscellaneous Bills',\n",
       " 'Room Stay Category - Stay Bill/Receipt',\n",
       " 'Miscellaneous Category - Miscellaneous Bills',\n",
       " 'Miscellaneous Category - Miscellaneous Bills',\n",
       " 'Miscellaneous Category - Miscellaneous Bills',\n",
       " 'Travel Category - Cab Bill/Receipt',\n",
       " 'Miscellaneous Category - Miscellaneous Bills',\n",
       " 'Food Category - Restaurant Bill/Receipt',\n",
       " 'Travel Category - Train Ticket',\n",
       " 'Food Category - Restaurant Bill/Receipt',\n",
       " 'Food Category - Restaurant Bill/Receipt',\n",
       " 'Travel Category - Train Ticket',\n",
       " 'Miscellaneous Category - Miscellaneous Bills',\n",
       " 'Food Category - Restaurant Bill/Receipt',\n",
       " 'Travel Category - Bus Ticket',\n",
       " 'Miscellaneous Category - Miscellaneous Bills',\n",
       " 'Food Category - Restaurant Bill/Receipt',\n",
       " 'Travel Category - Cab Bill/Receipt',\n",
       " 'Miscellaneous Category - Miscellaneous Bills',\n",
       " 'Fuel Category - Fuel Bill/Receipt',\n",
       " 'Food Category - Restaurant Bill/Receipt',\n",
       " 'Miscellaneous Category - Miscellaneous Bills',\n",
       " 'Food Category - Restaurant Bill/Receipt',\n",
       " 'Travel Category - Flight Ticket',\n",
       " 'Food Category - Restaurant Bill/Receipt',\n",
       " 'Miscellaneous Category - Miscellaneous Bills',\n",
       " 'Food Category - Restaurant Bill/Receipt',\n",
       " 'Travel Category - Train Ticket',\n",
       " 'Food Category - Restaurant Bill/Receipt',\n",
       " 'Food Category - Restaurant Bill/Receipt',\n",
       " 'Miscellaneous Category - Miscellaneous Bills',\n",
       " 'Food Category - Restaurant Bill/Receipt',\n",
       " 'Miscellaneous Category - Miscellaneous Bills',\n",
       " 'Miscellaneous Category - Miscellaneous Bills',\n",
       " 'Miscellaneous Category - Miscellaneous Bills',\n",
       " 'Food Category - Restaurant Bill/Receipt',\n",
       " 'Miscellaneous Category - Miscellaneous Bills',\n",
       " 'Food Category - Restaurant Bill/Receipt',\n",
       " 'Food Category - Restaurant Bill/Receipt',\n",
       " 'Travel Category - Cab Bill/Receipt',\n",
       " 'Travel Category - Bus Ticket',\n",
       " 'Travel Category - Train Ticket',\n",
       " 'Travel Category - Train Ticket',\n",
       " 'Travel Category - Flight Ticket',\n",
       " 'Travel Category - Train Ticket',\n",
       " 'Food Category - Restaurant Bill/Receipt',\n",
       " 'Electronics Category - Electronic Gadgets Bill/Receipt',\n",
       " 'Miscellaneous Category - Miscellaneous Bills',\n",
       " 'Food Category - Restaurant Bill/Receipt',\n",
       " 'Food Category - Restaurant Bill/Receipt',\n",
       " 'Food Category - Restaurant Bill/Receipt',\n",
       " 'Food Category - Restaurant Bill/Receipt',\n",
       " 'Food Category - Restaurant Bill/Receipt',\n",
       " 'Food Category - Restaurant Bill/Receipt',\n",
       " 'Food Category - Restaurant Bill/Receipt',\n",
       " 'Food Category - Restaurant Bill/Receipt',\n",
       " 'Food Category - Restaurant Bill/Receipt',\n",
       " 'Miscellaneous Category - Miscellaneous Bills',\n",
       " 'Miscellaneous Category - Miscellaneous Bills',\n",
       " 'Miscellaneous Category - Miscellaneous Bills',\n",
       " 'Miscellaneous Category - Miscellaneous Bills',\n",
       " 'Miscellaneous Category - Miscellaneous Bills',\n",
       " 'Electronics Category - Electronic Gadgets Bill/Receipt',\n",
       " 'Electronics Category - Electronic Gadgets Bill/Receipt',\n",
       " 'Food Category - Restaurant Bill/Receipt',\n",
       " 'Miscellaneous Category - Miscellaneous Bills',\n",
       " 'Travel Category - Flight Ticket',\n",
       " 'Miscellaneous Category - Miscellaneous Bills',\n",
       " 'Food Category - Restaurant Bill/Receipt',\n",
       " 'Food Category - Restaurant Bill/Receipt',\n",
       " 'Food Category - Restaurant Bill/Receipt',\n",
       " 'Food Category - Restaurant Bill/Receipt',\n",
       " 'Miscellaneous Category - Miscellaneous Bills',\n",
       " 'Travel Category - Train Ticket',\n",
       " 'Travel Category - Flight Ticket',\n",
       " 'Travel Category - Flight Ticket',\n",
       " 'Miscellaneous Category - Miscellaneous Bills',\n",
       " 'Food Category - Restaurant Bill/Receipt',\n",
       " 'Food Category - Restaurant Bill/Receipt',\n",
       " 'Miscellaneous Category - Miscellaneous Bills',\n",
       " 'Miscellaneous Category - Miscellaneous Bills',\n",
       " 'Miscellaneous Category - Miscellaneous Bills',\n",
       " 'Miscellaneous Category - Miscellaneous Bills',\n",
       " 'Miscellaneous Category - Miscellaneous Bills',\n",
       " 'Miscellaneous Category - Miscellaneous Bills',\n",
       " 'Food Category - Restaurant Bill/Receipt',\n",
       " 'Miscellaneous Category - Miscellaneous Bills',\n",
       " 'Food Category - Restaurant Bill/Receipt',\n",
       " 'Food Category - Restaurant Bill/Receipt',\n",
       " 'Travel Category - Bus Ticket',\n",
       " 'Food Category - Restaurant Bill/Receipt',\n",
       " 'Travel Category - Bus Ticket',\n",
       " 'Miscellaneous Category - Miscellaneous Bills',\n",
       " 'Room Stay Category - Stay Bill/Receipt',\n",
       " 'Miscellaneous Category - Miscellaneous Bills',\n",
       " 'Miscellaneous Category - Miscellaneous Bills',\n",
       " 'Travel Category - Bus Ticket',\n",
       " 'Food Category - Restaurant Bill/Receipt',\n",
       " 'Food Category - Restaurant Bill/Receipt',\n",
       " 'Room Stay Category - Stay Bill/Receipt',\n",
       " 'Miscellaneous Category - Miscellaneous Bills',\n",
       " 'Travel Category - Bus Ticket',\n",
       " 'Miscellaneous Category - Miscellaneous Bills',\n",
       " 'Miscellaneous Category - Miscellaneous Bills',\n",
       " 'Food Category - Restaurant Bill/Receipt',\n",
       " 'Miscellaneous Category - Miscellaneous Bills',\n",
       " 'Room Stay Category - Stay Bill/Receipt',\n",
       " 'Food Category - Restaurant Bill/Receipt',\n",
       " 'Miscellaneous Category - Miscellaneous Bills',\n",
       " 'Miscellaneous Category - Miscellaneous Bills',\n",
       " 'Miscellaneous Category - Miscellaneous Bills',\n",
       " 'Food Category - Restaurant Bill/Receipt',\n",
       " 'Electronics Category - Electronic Gadgets Bill/Receipt',\n",
       " 'Food Category - Restaurant Bill/Receipt',\n",
       " 'Miscellaneous Category - Miscellaneous Bills',\n",
       " 'Miscellaneous Category - Miscellaneous Bills',\n",
       " 'Travel Category - Bus Ticket',\n",
       " 'Travel Category - Flight Ticket',\n",
       " 'Food Category - Restaurant Bill/Receipt',\n",
       " 'Food Category - Restaurant Bill/Receipt',\n",
       " 'Miscellaneous Category - Miscellaneous Bills',\n",
       " 'Miscellaneous Category - Miscellaneous Bills',\n",
       " 'Miscellaneous Category - Miscellaneous Bills',\n",
       " 'Miscellaneous Category - Miscellaneous Bills',\n",
       " 'Food Category - Restaurant Bill/Receipt',\n",
       " 'Food Category - Restaurant Bill/Receipt',\n",
       " 'Miscellaneous Category - Miscellaneous Bills',\n",
       " 'Food Category - Restaurant Bill/Receipt',\n",
       " 'Room Stay Category - Stay Bill/Receipt',\n",
       " 'Miscellaneous Category - Miscellaneous Bills',\n",
       " 'Travel Category - Flight Ticket',\n",
       " 'Food Category - Restaurant Bill/Receipt',\n",
       " 'Food Category - Restaurant Bill/Receipt',\n",
       " 'Food Category - Restaurant Bill/Receipt',\n",
       " 'Miscellaneous Category - Miscellaneous Bills',\n",
       " 'Miscellaneous Category - Miscellaneous Bills',\n",
       " 'Miscellaneous Category - Miscellaneous Bills',\n",
       " 'Food Category - Restaurant Bill/Receipt',\n",
       " 'Travel Category - Bus Ticket',\n",
       " 'Food Category - Restaurant Bill/Receipt',\n",
       " 'Food Category - Restaurant Bill/Receipt',\n",
       " 'Room Stay Category - Stay Bill/Receipt',\n",
       " 'Miscellaneous Category - Miscellaneous Bills',\n",
       " 'Travel Category - Flight Ticket',\n",
       " 'Miscellaneous Category - Miscellaneous Bills',\n",
       " 'Miscellaneous Category - Miscellaneous Bills',\n",
       " 'Food Category - Restaurant Bill/Receipt',\n",
       " 'Electronics Category - Electronic Gadgets Bill/Receipt',\n",
       " 'Miscellaneous Category - Miscellaneous Bills',\n",
       " 'Food Category - Restaurant Bill/Receipt',\n",
       " 'Fuel Category - Fuel Bill/Receipt',\n",
       " 'Travel Category - Train Ticket',\n",
       " 'Food Category - Restaurant Bill/Receipt',\n",
       " 'Electronics Category - Electronic Gadgets Bill/Receipt',\n",
       " 'Food Category - Restaurant Bill/Receipt',\n",
       " 'Miscellaneous Category - Miscellaneous Bills',\n",
       " 'Electronics Category - Electronic Gadgets Bill/Receipt',\n",
       " 'Room Stay Category - Stay Bill/Receipt',\n",
       " 'Travel Category - Cab Bill/Receipt',\n",
       " 'Food Category - Restaurant Bill/Receipt',\n",
       " 'Travel Category - Cab Bill/Receipt',\n",
       " 'Miscellaneous Category - Miscellaneous Bills',\n",
       " 'Miscellaneous Category - Miscellaneous Bills',\n",
       " 'Miscellaneous Category - Miscellaneous Bills',\n",
       " 'Miscellaneous Category - Miscellaneous Bills',\n",
       " 'Food Category - Restaurant Bill/Receipt',\n",
       " 'Miscellaneous Category - Miscellaneous Bills',\n",
       " ...]"
      ]
     },
     "execution_count": 18,
     "metadata": {},
     "output_type": "execute_result"
    }
   ],
   "source": [
    "trainLabels"
   ]
  },
  {
   "cell_type": "code",
   "execution_count": 19,
   "metadata": {},
   "outputs": [
    {
     "data": {
      "text/plain": [
       "array([3, 5, 3, ..., 3, 1, 3])"
      ]
     },
     "execution_count": 19,
     "metadata": {},
     "output_type": "execute_result"
    }
   ],
   "source": [
    "trainLabels = labels2Encoding(trainLabels)\n",
    "valLabels = labels2Encoding(valLabels)\n",
    "trainLabels"
   ]
  },
  {
   "cell_type": "code",
   "execution_count": 20,
   "metadata": {},
   "outputs": [],
   "source": [
    "trainInputs = torch.tensor(trainInputs, dtype=torch.uint8).to(device)\n",
    "trainMasks = torch.tensor(trainMasks, dtype=torch.uint8).to(device)\n",
    "trainLabels = torch.tensor(trainLabels, dtype=torch.uint8).to(device)\n",
    "valInputs = torch.tensor(valInputs, dtype=torch.uint8).to(device)\n",
    "valMasks = torch.tensor(valMasks, dtype=torch.uint8).to(device)\n",
    "valLabels = torch.tensor(valLabels, dtype=torch.uint8).to(device)"
   ]
  },
  {
   "cell_type": "code",
   "execution_count": 21,
   "metadata": {},
   "outputs": [
    {
     "name": "stdout",
     "output_type": "stream",
     "text": [
      "tensor(1, device='cuda:0', dtype=torch.uint8) tensor(0, device='cuda:0', dtype=torch.uint8)\n"
     ]
    }
   ],
   "source": [
    "print(trainMasks.max(), trainInputs.min())"
   ]
  },
  {
   "cell_type": "code",
   "execution_count": 22,
   "metadata": {},
   "outputs": [],
   "source": [
    "trainDataset = TensorDataset(trainInputs, trainMasks, trainLabels)\n",
    "trainDataloader = DataLoader(trainDataset, batch_size=batchSize, shuffle=True)"
   ]
  },
  {
   "cell_type": "code",
   "execution_count": 23,
   "metadata": {},
   "outputs": [],
   "source": [
    "valDataset = TensorDataset(valInputs, valMasks, valLabels)\n",
    "valDataloader = DataLoader(valDataset, batch_size=batchSize)"
   ]
  },
  {
   "cell_type": "code",
   "execution_count": 24,
   "metadata": {},
   "outputs": [
    {
     "name": "stderr",
     "output_type": "stream",
     "text": [
      "c:\\Users\\Sid\\AppData\\Local\\Programs\\Python\\Python39\\lib\\site-packages\\transformers\\optimization.py:588: FutureWarning: This implementation of AdamW is deprecated and will be removed in a future version. Use the PyTorch implementation torch.optim.AdamW instead, or set `no_deprecation_warning=True` to disable this warning\n",
      "  warnings.warn(\n"
     ]
    }
   ],
   "source": [
    "optimizer = AdamW(model.parameters(), lr=learningRate)\n",
    "criterion = torch.nn.CrossEntropyLoss()"
   ]
  },
  {
   "cell_type": "code",
   "execution_count": 25,
   "metadata": {},
   "outputs": [],
   "source": [
    "def train(model, optimizer, criterion, trainDataloader):\n",
    "  model.train()\n",
    "  total_loss = 0\n",
    "  correct = 0\n",
    "  for batch_idx, (input_ids, attention_mask, labels) in enumerate(trainDataloader):\n",
    "    optimizer.zero_grad()\n",
    "    input_ids = input_ids.long().to(device)\n",
    "    outputs = model(input_ids=input_ids, attention_mask=attention_mask)\n",
    "    loss = criterion(outputs.logits, labels)\n",
    "    loss.backward()\n",
    "    optimizer.step()\n",
    "    total_loss += loss.item()\n",
    "    predictions = torch.argmax(outputs.logits, dim=1)\n",
    "    correct += (predictions == labels).sum().item()\n",
    "  return total_loss / len(trainDataloader), correct / len(trainDataset)"
   ]
  },
  {
   "cell_type": "code",
   "execution_count": 26,
   "metadata": {},
   "outputs": [],
   "source": [
    "def validate(model, criterion, valDataloader):\n",
    "  model.eval()\n",
    "  total_loss = 0\n",
    "  correct = 0\n",
    "  all_preds, all_labels = [], []\n",
    "  with torch.no_grad():\n",
    "    for batch_idx, (input_ids, attention_mask, labels) in enumerate(valDataloader):\n",
    "      input_ids = input_ids.long().to(device)\n",
    "      outputs = model(input_ids=input_ids, attention_mask=attention_mask)\n",
    "      loss = criterion(outputs.logits, labels)\n",
    "      total_loss += loss.item()\n",
    "      predictions = torch.argmax(outputs.logits, dim=1)\n",
    "      correct += (predictions == labels).sum().item()\n",
    "      all_preds.extend(predictions.cpu().numpy())\n",
    "      all_labels.extend(labels.cpu().numpy())\n",
    "  accuracy = accuracy_score(all_labels, all_preds)\n",
    "  precision = precision_score(all_labels, all_preds, average=\"weighted\")\n",
    "  recall = recall_score(all_labels, all_preds, average=\"weighted\")\n",
    "  return total_loss / len(valDataloader), accuracy, precision, recall"
   ]
  },
  {
   "cell_type": "code",
   "execution_count": 27,
   "metadata": {},
   "outputs": [
    {
     "name": "stderr",
     "output_type": "stream",
     "text": [
      "Epoch(s):   0%|\u001b[31m          \u001b[0m| 0/250 [00:00<?, ?it/s]c:\\Users\\Sid\\AppData\\Local\\Programs\\Python\\Python39\\lib\\site-packages\\sklearn\\metrics\\_classification.py:1517: UndefinedMetricWarning: Precision is ill-defined and being set to 0.0 in labels with no predicted samples. Use `zero_division` parameter to control this behavior.\n",
      "  _warn_prf(average, modifier, f\"{metric.capitalize()} is\", len(result))\n"
     ]
    },
    {
     "name": "stdout",
     "output_type": "stream",
     "text": [
      "{'Epoch': 1, 'Train Loss': 636636.918641315, 'Train Accuracy': 0.30493707647628265, 'Val Loss': 6604.60142164964, 'Val Accuracy': 0.22920696324951645, 'Val Precision': 0.2356495490901303, 'Val Recall': 0.22920696324951645}\n"
     ]
    },
    {
     "name": "stderr",
     "output_type": "stream",
     "text": [
      "c:\\Users\\Sid\\AppData\\Local\\Programs\\Python\\Python39\\lib\\site-packages\\huggingface_hub\\file_download.py:1132: FutureWarning: `resume_download` is deprecated and will be removed in version 1.0.0. Downloads always resume when possible. If you want to force a new download, use `force_download=True`.\n",
      "  warnings.warn(\n",
      "Epoch(s):   0%|\u001b[31m          \u001b[0m| 1/250 [01:52<7:47:21, 112.62s/it]c:\\Users\\Sid\\AppData\\Local\\Programs\\Python\\Python39\\lib\\site-packages\\sklearn\\metrics\\_classification.py:1517: UndefinedMetricWarning: Precision is ill-defined and being set to 0.0 in labels with no predicted samples. Use `zero_division` parameter to control this behavior.\n",
      "  _warn_prf(average, modifier, f\"{metric.capitalize()} is\", len(result))\n"
     ]
    },
    {
     "name": "stdout",
     "output_type": "stream",
     "text": [
      "{'Epoch': 2, 'Train Loss': 6194.373207003914, 'Train Accuracy': 0.39351403678606, 'Val Loss': 1739.88897658128, 'Val Accuracy': 0.45164410058027077, 'Val Precision': 0.4506336948731261, 'Val Recall': 0.45164410058027077}\n"
     ]
    },
    {
     "name": "stderr",
     "output_type": "stream",
     "text": [
      "c:\\Users\\Sid\\AppData\\Local\\Programs\\Python\\Python39\\lib\\site-packages\\huggingface_hub\\file_download.py:1132: FutureWarning: `resume_download` is deprecated and will be removed in version 1.0.0. Downloads always resume when possible. If you want to force a new download, use `force_download=True`.\n",
      "  warnings.warn(\n",
      "Epoch(s):   1%|\u001b[31m          \u001b[0m| 2/250 [03:44<7:42:33, 111.91s/it]c:\\Users\\Sid\\AppData\\Local\\Programs\\Python\\Python39\\lib\\site-packages\\sklearn\\metrics\\_classification.py:1517: UndefinedMetricWarning: Precision is ill-defined and being set to 0.0 in labels with no predicted samples. Use `zero_division` parameter to control this behavior.\n",
      "  _warn_prf(average, modifier, f\"{metric.capitalize()} is\", len(result))\n"
     ]
    },
    {
     "name": "stdout",
     "output_type": "stream",
     "text": [
      "{'Epoch': 3, 'Train Loss': 2331.965252268729, 'Train Accuracy': 0.3712487899322362, 'Val Loss': 230.6266341154392, 'Val Accuracy': 0.379110251450677, 'Val Precision': 0.23230292320513263, 'Val Recall': 0.379110251450677}\n"
     ]
    },
    {
     "name": "stderr",
     "output_type": "stream",
     "text": [
      "c:\\Users\\Sid\\AppData\\Local\\Programs\\Python\\Python39\\lib\\site-packages\\huggingface_hub\\file_download.py:1132: FutureWarning: `resume_download` is deprecated and will be removed in version 1.0.0. Downloads always resume when possible. If you want to force a new download, use `force_download=True`.\n",
      "  warnings.warn(\n",
      "Epoch(s):   1%|\u001b[31m          \u001b[0m| 3/250 [05:35<7:40:11, 111.79s/it]c:\\Users\\Sid\\AppData\\Local\\Programs\\Python\\Python39\\lib\\site-packages\\sklearn\\metrics\\_classification.py:1517: UndefinedMetricWarning: Precision is ill-defined and being set to 0.0 in labels with no predicted samples. Use `zero_division` parameter to control this behavior.\n",
      "  _warn_prf(average, modifier, f\"{metric.capitalize()} is\", len(result))\n"
     ]
    },
    {
     "name": "stdout",
     "output_type": "stream",
     "text": [
      "{'Epoch': 4, 'Train Loss': 710.383499577699, 'Train Accuracy': 0.36786060019361083, 'Val Loss': 80.58561789439274, 'Val Accuracy': 0.23887814313346228, 'Val Precision': 0.09782951923749154, 'Val Recall': 0.23887814313346228}\n"
     ]
    },
    {
     "name": "stderr",
     "output_type": "stream",
     "text": [
      "c:\\Users\\Sid\\AppData\\Local\\Programs\\Python\\Python39\\lib\\site-packages\\huggingface_hub\\file_download.py:1132: FutureWarning: `resume_download` is deprecated and will be removed in version 1.0.0. Downloads always resume when possible. If you want to force a new download, use `force_download=True`.\n",
      "  warnings.warn(\n",
      "Epoch(s):   2%|\u001b[31m▏         \u001b[0m| 4/250 [07:27<7:38:58, 111.95s/it]c:\\Users\\Sid\\AppData\\Local\\Programs\\Python\\Python39\\lib\\site-packages\\sklearn\\metrics\\_classification.py:1517: UndefinedMetricWarning: Precision is ill-defined and being set to 0.0 in labels with no predicted samples. Use `zero_division` parameter to control this behavior.\n",
      "  _warn_prf(average, modifier, f\"{metric.capitalize()} is\", len(result))\n"
     ]
    },
    {
     "name": "stdout",
     "output_type": "stream",
     "text": [
      "{'Epoch': 5, 'Train Loss': 533.0238091273658, 'Train Accuracy': 0.35503388189738627, 'Val Loss': 23.419295736459585, 'Val Accuracy': 0.3471953578336557, 'Val Precision': 0.3494345746111927, 'Val Recall': 0.3471953578336557}\n"
     ]
    },
    {
     "name": "stderr",
     "output_type": "stream",
     "text": [
      "c:\\Users\\Sid\\AppData\\Local\\Programs\\Python\\Python39\\lib\\site-packages\\huggingface_hub\\file_download.py:1132: FutureWarning: `resume_download` is deprecated and will be removed in version 1.0.0. Downloads always resume when possible. If you want to force a new download, use `force_download=True`.\n",
      "  warnings.warn(\n",
      "Epoch(s):   2%|\u001b[31m▏         \u001b[0m| 5/250 [09:19<7:36:17, 111.74s/it]c:\\Users\\Sid\\AppData\\Local\\Programs\\Python\\Python39\\lib\\site-packages\\sklearn\\metrics\\_classification.py:1517: UndefinedMetricWarning: Precision is ill-defined and being set to 0.0 in labels with no predicted samples. Use `zero_division` parameter to control this behavior.\n",
      "  _warn_prf(average, modifier, f\"{metric.capitalize()} is\", len(result))\n"
     ]
    },
    {
     "name": "stdout",
     "output_type": "stream",
     "text": [
      "{'Epoch': 6, 'Train Loss': 353.0297339358385, 'Train Accuracy': 0.28654404646660214, 'Val Loss': 13.216788959503173, 'Val Accuracy': 0.25435203094777564, 'Val Precision': 0.45498417306539446, 'Val Recall': 0.25435203094777564}\n"
     ]
    },
    {
     "name": "stderr",
     "output_type": "stream",
     "text": [
      "c:\\Users\\Sid\\AppData\\Local\\Programs\\Python\\Python39\\lib\\site-packages\\huggingface_hub\\file_download.py:1132: FutureWarning: `resume_download` is deprecated and will be removed in version 1.0.0. Downloads always resume when possible. If you want to force a new download, use `force_download=True`.\n",
      "  warnings.warn(\n",
      "Epoch(s):   2%|\u001b[31m▏         \u001b[0m| 6/250 [11:10<7:34:13, 111.69s/it]c:\\Users\\Sid\\AppData\\Local\\Programs\\Python\\Python39\\lib\\site-packages\\sklearn\\metrics\\_classification.py:1517: UndefinedMetricWarning: Precision is ill-defined and being set to 0.0 in labels with no predicted samples. Use `zero_division` parameter to control this behavior.\n",
      "  _warn_prf(average, modifier, f\"{metric.capitalize()} is\", len(result))\n"
     ]
    },
    {
     "name": "stdout",
     "output_type": "stream",
     "text": [
      "{'Epoch': 7, 'Train Loss': 305.1316513076252, 'Train Accuracy': 0.23668925459825751, 'Val Loss': 7.021695419458243, 'Val Accuracy': 0.22727272727272727, 'Val Precision': 0.42840186411876635, 'Val Recall': 0.22727272727272727}\n"
     ]
    },
    {
     "name": "stderr",
     "output_type": "stream",
     "text": [
      "c:\\Users\\Sid\\AppData\\Local\\Programs\\Python\\Python39\\lib\\site-packages\\huggingface_hub\\file_download.py:1132: FutureWarning: `resume_download` is deprecated and will be removed in version 1.0.0. Downloads always resume when possible. If you want to force a new download, use `force_download=True`.\n",
      "  warnings.warn(\n",
      "Epoch(s):   3%|\u001b[31m▎         \u001b[0m| 7/250 [13:02<7:32:26, 111.71s/it]c:\\Users\\Sid\\AppData\\Local\\Programs\\Python\\Python39\\lib\\site-packages\\sklearn\\metrics\\_classification.py:1517: UndefinedMetricWarning: Precision is ill-defined and being set to 0.0 in labels with no predicted samples. Use `zero_division` parameter to control this behavior.\n",
      "  _warn_prf(average, modifier, f\"{metric.capitalize()} is\", len(result))\n"
     ]
    },
    {
     "name": "stdout",
     "output_type": "stream",
     "text": [
      "{'Epoch': 8, 'Train Loss': 222.5068802525178, 'Train Accuracy': 0.21006776379477252, 'Val Loss': 4.405138672315157, 'Val Accuracy': 0.195357833655706, 'Val Precision': 0.4126474601802805, 'Val Recall': 0.195357833655706}\n"
     ]
    },
    {
     "name": "stderr",
     "output_type": "stream",
     "text": [
      "c:\\Users\\Sid\\AppData\\Local\\Programs\\Python\\Python39\\lib\\site-packages\\huggingface_hub\\file_download.py:1132: FutureWarning: `resume_download` is deprecated and will be removed in version 1.0.0. Downloads always resume when possible. If you want to force a new download, use `force_download=True`.\n",
      "  warnings.warn(\n",
      "Epoch(s):   3%|\u001b[31m▎         \u001b[0m| 8/250 [14:51<7:27:26, 110.94s/it]c:\\Users\\Sid\\AppData\\Local\\Programs\\Python\\Python39\\lib\\site-packages\\sklearn\\metrics\\_classification.py:1517: UndefinedMetricWarning: Precision is ill-defined and being set to 0.0 in labels with no predicted samples. Use `zero_division` parameter to control this behavior.\n",
      "  _warn_prf(average, modifier, f\"{metric.capitalize()} is\", len(result))\n"
     ]
    },
    {
     "name": "stdout",
     "output_type": "stream",
     "text": [
      "{'Epoch': 9, 'Train Loss': 71.87899040715575, 'Train Accuracy': 0.19772507260406583, 'Val Loss': 4.880870573337262, 'Val Accuracy': 0.10058027079303675, 'Val Precision': 0.40309643003946866, 'Val Recall': 0.10058027079303675}\n"
     ]
    },
    {
     "name": "stderr",
     "output_type": "stream",
     "text": [
      "c:\\Users\\Sid\\AppData\\Local\\Programs\\Python\\Python39\\lib\\site-packages\\huggingface_hub\\file_download.py:1132: FutureWarning: `resume_download` is deprecated and will be removed in version 1.0.0. Downloads always resume when possible. If you want to force a new download, use `force_download=True`.\n",
      "  warnings.warn(\n",
      "Epoch(s):   4%|\u001b[31m▎         \u001b[0m| 9/250 [16:40<7:23:12, 110.34s/it]c:\\Users\\Sid\\AppData\\Local\\Programs\\Python\\Python39\\lib\\site-packages\\sklearn\\metrics\\_classification.py:1517: UndefinedMetricWarning: Precision is ill-defined and being set to 0.0 in labels with no predicted samples. Use `zero_division` parameter to control this behavior.\n",
      "  _warn_prf(average, modifier, f\"{metric.capitalize()} is\", len(result))\n"
     ]
    },
    {
     "name": "stdout",
     "output_type": "stream",
     "text": [
      "{'Epoch': 10, 'Train Loss': 92.10658164282103, 'Train Accuracy': 0.1665053242981607, 'Val Loss': 5.295396518707276, 'Val Accuracy': 0.04448742746615087, 'Val Precision': 0.47650496486628896, 'Val Recall': 0.04448742746615087}\n"
     ]
    },
    {
     "name": "stderr",
     "output_type": "stream",
     "text": [
      "c:\\Users\\Sid\\AppData\\Local\\Programs\\Python\\Python39\\lib\\site-packages\\huggingface_hub\\file_download.py:1132: FutureWarning: `resume_download` is deprecated and will be removed in version 1.0.0. Downloads always resume when possible. If you want to force a new download, use `force_download=True`.\n",
      "  warnings.warn(\n",
      "Epoch(s):   4%|\u001b[31m▍         \u001b[0m| 10/250 [18:29<7:19:47, 109.95s/it]c:\\Users\\Sid\\AppData\\Local\\Programs\\Python\\Python39\\lib\\site-packages\\sklearn\\metrics\\_classification.py:1517: UndefinedMetricWarning: Precision is ill-defined and being set to 0.0 in labels with no predicted samples. Use `zero_division` parameter to control this behavior.\n",
      "  _warn_prf(average, modifier, f\"{metric.capitalize()} is\", len(result))\n"
     ]
    },
    {
     "name": "stdout",
     "output_type": "stream",
     "text": [
      "{'Epoch': 11, 'Train Loss': 84.74531295584896, 'Train Accuracy': 0.15779283639883834, 'Val Loss': 5.283786513255193, 'Val Accuracy': 0.033849129593810444, 'Val Precision': 0.08574664566337047, 'Val Recall': 0.033849129593810444}\n"
     ]
    },
    {
     "name": "stderr",
     "output_type": "stream",
     "text": [
      "c:\\Users\\Sid\\AppData\\Local\\Programs\\Python\\Python39\\lib\\site-packages\\huggingface_hub\\file_download.py:1132: FutureWarning: `resume_download` is deprecated and will be removed in version 1.0.0. Downloads always resume when possible. If you want to force a new download, use `force_download=True`.\n",
      "  warnings.warn(\n",
      "Epoch(s):   4%|\u001b[31m▍         \u001b[0m| 11/250 [20:19<7:17:09, 109.74s/it]c:\\Users\\Sid\\AppData\\Local\\Programs\\Python\\Python39\\lib\\site-packages\\sklearn\\metrics\\_classification.py:1517: UndefinedMetricWarning: Precision is ill-defined and being set to 0.0 in labels with no predicted samples. Use `zero_division` parameter to control this behavior.\n",
      "  _warn_prf(average, modifier, f\"{metric.capitalize()} is\", len(result))\n"
     ]
    },
    {
     "name": "stdout",
     "output_type": "stream",
     "text": [
      "{'Epoch': 12, 'Train Loss': 17.544173618080993, 'Train Accuracy': 0.1362536302032914, 'Val Loss': 5.168528890609741, 'Val Accuracy': 0.04448742746615087, 'Val Precision': 0.10508265295499339, 'Val Recall': 0.04448742746615087}\n"
     ]
    },
    {
     "name": "stderr",
     "output_type": "stream",
     "text": [
      "c:\\Users\\Sid\\AppData\\Local\\Programs\\Python\\Python39\\lib\\site-packages\\huggingface_hub\\file_download.py:1132: FutureWarning: `resume_download` is deprecated and will be removed in version 1.0.0. Downloads always resume when possible. If you want to force a new download, use `force_download=True`.\n",
      "  warnings.warn(\n",
      "Epoch(s):   5%|\u001b[31m▍         \u001b[0m| 12/250 [22:08<7:15:02, 109.67s/it]c:\\Users\\Sid\\AppData\\Local\\Programs\\Python\\Python39\\lib\\site-packages\\sklearn\\metrics\\_classification.py:1517: UndefinedMetricWarning: Precision is ill-defined and being set to 0.0 in labels with no predicted samples. Use `zero_division` parameter to control this behavior.\n",
      "  _warn_prf(average, modifier, f\"{metric.capitalize()} is\", len(result))\n"
     ]
    },
    {
     "name": "stdout",
     "output_type": "stream",
     "text": [
      "{'Epoch': 13, 'Train Loss': 66.87453034209469, 'Train Accuracy': 0.13891577928363988, 'Val Loss': 5.064471717981192, 'Val Accuracy': 0.05319148936170213, 'Val Precision': 0.10478240122624416, 'Val Recall': 0.05319148936170213}\n"
     ]
    },
    {
     "name": "stderr",
     "output_type": "stream",
     "text": [
      "c:\\Users\\Sid\\AppData\\Local\\Programs\\Python\\Python39\\lib\\site-packages\\huggingface_hub\\file_download.py:1132: FutureWarning: `resume_download` is deprecated and will be removed in version 1.0.0. Downloads always resume when possible. If you want to force a new download, use `force_download=True`.\n",
      "  warnings.warn(\n",
      "Epoch(s):   5%|\u001b[31m▌         \u001b[0m| 13/250 [23:57<7:12:39, 109.53s/it]c:\\Users\\Sid\\AppData\\Local\\Programs\\Python\\Python39\\lib\\site-packages\\sklearn\\metrics\\_classification.py:1517: UndefinedMetricWarning: Precision is ill-defined and being set to 0.0 in labels with no predicted samples. Use `zero_division` parameter to control this behavior.\n",
      "  _warn_prf(average, modifier, f\"{metric.capitalize()} is\", len(result))\n"
     ]
    },
    {
     "name": "stdout",
     "output_type": "stream",
     "text": [
      "{'Epoch': 14, 'Train Loss': 56.79344011687864, 'Train Accuracy': 0.12366892545982575, 'Val Loss': 4.941398077744704, 'Val Accuracy': 0.06479690522243714, 'Val Precision': 0.08241723205969587, 'Val Recall': 0.06479690522243714}\n"
     ]
    },
    {
     "name": "stderr",
     "output_type": "stream",
     "text": [
      "c:\\Users\\Sid\\AppData\\Local\\Programs\\Python\\Python39\\lib\\site-packages\\huggingface_hub\\file_download.py:1132: FutureWarning: `resume_download` is deprecated and will be removed in version 1.0.0. Downloads always resume when possible. If you want to force a new download, use `force_download=True`.\n",
      "  warnings.warn(\n",
      "Epoch(s):   6%|\u001b[31m▌         \u001b[0m| 14/250 [25:47<7:10:52, 109.54s/it]c:\\Users\\Sid\\AppData\\Local\\Programs\\Python\\Python39\\lib\\site-packages\\sklearn\\metrics\\_classification.py:1517: UndefinedMetricWarning: Precision is ill-defined and being set to 0.0 in labels with no predicted samples. Use `zero_division` parameter to control this behavior.\n",
      "  _warn_prf(average, modifier, f\"{metric.capitalize()} is\", len(result))\n"
     ]
    },
    {
     "name": "stdout",
     "output_type": "stream",
     "text": [
      "{'Epoch': 15, 'Train Loss': 32.52080932225039, 'Train Accuracy': 0.14085188770571153, 'Val Loss': 4.8319468681628885, 'Val Accuracy': 0.07736943907156674, 'Val Precision': 0.0786503900495728, 'Val Recall': 0.07736943907156674}\n"
     ]
    },
    {
     "name": "stderr",
     "output_type": "stream",
     "text": [
      "c:\\Users\\Sid\\AppData\\Local\\Programs\\Python\\Python39\\lib\\site-packages\\huggingface_hub\\file_download.py:1132: FutureWarning: `resume_download` is deprecated and will be removed in version 1.0.0. Downloads always resume when possible. If you want to force a new download, use `force_download=True`.\n",
      "  warnings.warn(\n",
      "Epoch(s):   6%|\u001b[31m▌         \u001b[0m| 15/250 [27:36<7:08:20, 109.36s/it]c:\\Users\\Sid\\AppData\\Local\\Programs\\Python\\Python39\\lib\\site-packages\\sklearn\\metrics\\_classification.py:1517: UndefinedMetricWarning: Precision is ill-defined and being set to 0.0 in labels with no predicted samples. Use `zero_division` parameter to control this behavior.\n",
      "  _warn_prf(average, modifier, f\"{metric.capitalize()} is\", len(result))\n"
     ]
    },
    {
     "name": "stdout",
     "output_type": "stream",
     "text": [
      "{'Epoch': 16, 'Train Loss': 23.93895190378874, 'Train Accuracy': 0.1602129719264279, 'Val Loss': 4.692742432080783, 'Val Accuracy': 0.13926499032882012, 'Val Precision': 0.09251188026253214, 'Val Recall': 0.13926499032882012}\n"
     ]
    },
    {
     "name": "stderr",
     "output_type": "stream",
     "text": [
      "c:\\Users\\Sid\\AppData\\Local\\Programs\\Python\\Python39\\lib\\site-packages\\huggingface_hub\\file_download.py:1132: FutureWarning: `resume_download` is deprecated and will be removed in version 1.0.0. Downloads always resume when possible. If you want to force a new download, use `force_download=True`.\n",
      "  warnings.warn(\n",
      "Epoch(s):   6%|\u001b[31m▋         \u001b[0m| 16/250 [29:25<7:06:31, 109.37s/it]c:\\Users\\Sid\\AppData\\Local\\Programs\\Python\\Python39\\lib\\site-packages\\sklearn\\metrics\\_classification.py:1517: UndefinedMetricWarning: Precision is ill-defined and being set to 0.0 in labels with no predicted samples. Use `zero_division` parameter to control this behavior.\n",
      "  _warn_prf(average, modifier, f\"{metric.capitalize()} is\", len(result))\n"
     ]
    },
    {
     "name": "stdout",
     "output_type": "stream",
     "text": [
      "{'Epoch': 17, 'Train Loss': 29.815536079259452, 'Train Accuracy': 0.1793320425943853, 'Val Loss': 4.571291556725135, 'Val Accuracy': 0.1769825918762089, 'Val Precision': 0.09454707756353196, 'Val Recall': 0.1769825918762089}\n"
     ]
    },
    {
     "name": "stderr",
     "output_type": "stream",
     "text": [
      "c:\\Users\\Sid\\AppData\\Local\\Programs\\Python\\Python39\\lib\\site-packages\\huggingface_hub\\file_download.py:1132: FutureWarning: `resume_download` is deprecated and will be removed in version 1.0.0. Downloads always resume when possible. If you want to force a new download, use `force_download=True`.\n",
      "  warnings.warn(\n",
      "Epoch(s):   7%|\u001b[31m▋         \u001b[0m| 17/250 [31:15<7:04:45, 109.38s/it]c:\\Users\\Sid\\AppData\\Local\\Programs\\Python\\Python39\\lib\\site-packages\\sklearn\\metrics\\_classification.py:1517: UndefinedMetricWarning: Precision is ill-defined and being set to 0.0 in labels with no predicted samples. Use `zero_division` parameter to control this behavior.\n",
      "  _warn_prf(average, modifier, f\"{metric.capitalize()} is\", len(result))\n"
     ]
    },
    {
     "name": "stdout",
     "output_type": "stream",
     "text": [
      "{'Epoch': 18, 'Train Loss': 16.182719147803702, 'Train Accuracy': 0.17618586640851888, 'Val Loss': 4.423235585139348, 'Val Accuracy': 0.19439071566731142, 'Val Precision': 0.09471867317383904, 'Val Recall': 0.1943907156673114}\n"
     ]
    },
    {
     "name": "stderr",
     "output_type": "stream",
     "text": [
      "c:\\Users\\Sid\\AppData\\Local\\Programs\\Python\\Python39\\lib\\site-packages\\huggingface_hub\\file_download.py:1132: FutureWarning: `resume_download` is deprecated and will be removed in version 1.0.0. Downloads always resume when possible. If you want to force a new download, use `force_download=True`.\n",
      "  warnings.warn(\n",
      "Epoch(s):   7%|\u001b[31m▋         \u001b[0m| 18/250 [33:04<7:02:20, 109.23s/it]c:\\Users\\Sid\\AppData\\Local\\Programs\\Python\\Python39\\lib\\site-packages\\sklearn\\metrics\\_classification.py:1517: UndefinedMetricWarning: Precision is ill-defined and being set to 0.0 in labels with no predicted samples. Use `zero_division` parameter to control this behavior.\n",
      "  _warn_prf(average, modifier, f\"{metric.capitalize()} is\", len(result))\n"
     ]
    },
    {
     "name": "stdout",
     "output_type": "stream",
     "text": [
      "{'Epoch': 19, 'Train Loss': 30.636785176730065, 'Train Accuracy': 0.21079380445304938, 'Val Loss': 4.29926966887254, 'Val Accuracy': 0.19922630560928434, 'Val Precision': 0.09322148239649125, 'Val Recall': 0.19922630560928434}\n"
     ]
    },
    {
     "name": "stderr",
     "output_type": "stream",
     "text": [
      "c:\\Users\\Sid\\AppData\\Local\\Programs\\Python\\Python39\\lib\\site-packages\\huggingface_hub\\file_download.py:1132: FutureWarning: `resume_download` is deprecated and will be removed in version 1.0.0. Downloads always resume when possible. If you want to force a new download, use `force_download=True`.\n",
      "  warnings.warn(\n",
      "Epoch(s):   8%|\u001b[31m▊         \u001b[0m| 19/250 [34:53<7:00:14, 109.15s/it]c:\\Users\\Sid\\AppData\\Local\\Programs\\Python\\Python39\\lib\\site-packages\\sklearn\\metrics\\_classification.py:1517: UndefinedMetricWarning: Precision is ill-defined and being set to 0.0 in labels with no predicted samples. Use `zero_division` parameter to control this behavior.\n",
      "  _warn_prf(average, modifier, f\"{metric.capitalize()} is\", len(result))\n"
     ]
    },
    {
     "name": "stdout",
     "output_type": "stream",
     "text": [
      "{'Epoch': 20, 'Train Loss': 16.38765305303699, 'Train Accuracy': 0.22362052274927396, 'Val Loss': 4.166269346383902, 'Val Accuracy': 0.2137330754352031, 'Val Precision': 0.0980267189350659, 'Val Recall': 0.2137330754352031}\n"
     ]
    },
    {
     "name": "stderr",
     "output_type": "stream",
     "text": [
      "c:\\Users\\Sid\\AppData\\Local\\Programs\\Python\\Python39\\lib\\site-packages\\huggingface_hub\\file_download.py:1132: FutureWarning: `resume_download` is deprecated and will be removed in version 1.0.0. Downloads always resume when possible. If you want to force a new download, use `force_download=True`.\n",
      "  warnings.warn(\n",
      "Epoch(s):   8%|\u001b[31m▊         \u001b[0m| 20/250 [36:42<6:58:13, 109.10s/it]c:\\Users\\Sid\\AppData\\Local\\Programs\\Python\\Python39\\lib\\site-packages\\sklearn\\metrics\\_classification.py:1517: UndefinedMetricWarning: Precision is ill-defined and being set to 0.0 in labels with no predicted samples. Use `zero_division` parameter to control this behavior.\n",
      "  _warn_prf(average, modifier, f\"{metric.capitalize()} is\", len(result))\n"
     ]
    },
    {
     "name": "stdout",
     "output_type": "stream",
     "text": [
      "{'Epoch': 21, 'Train Loss': 5.319497028372923, 'Train Accuracy': 0.24031945788964182, 'Val Loss': 4.023359933266273, 'Val Accuracy': 0.218568665377176, 'Val Precision': 0.09897892222383178, 'Val Recall': 0.218568665377176}\n"
     ]
    },
    {
     "name": "stderr",
     "output_type": "stream",
     "text": [
      "c:\\Users\\Sid\\AppData\\Local\\Programs\\Python\\Python39\\lib\\site-packages\\huggingface_hub\\file_download.py:1132: FutureWarning: `resume_download` is deprecated and will be removed in version 1.0.0. Downloads always resume when possible. If you want to force a new download, use `force_download=True`.\n",
      "  warnings.warn(\n",
      "Epoch(s):   8%|\u001b[31m▊         \u001b[0m| 21/250 [38:31<6:56:17, 109.07s/it]c:\\Users\\Sid\\AppData\\Local\\Programs\\Python\\Python39\\lib\\site-packages\\sklearn\\metrics\\_classification.py:1517: UndefinedMetricWarning: Precision is ill-defined and being set to 0.0 in labels with no predicted samples. Use `zero_division` parameter to control this behavior.\n",
      "  _warn_prf(average, modifier, f\"{metric.capitalize()} is\", len(result))\n"
     ]
    },
    {
     "name": "stdout",
     "output_type": "stream",
     "text": [
      "{'Epoch': 22, 'Train Loss': 8.321858000571202, 'Train Accuracy': 0.25193610842207165, 'Val Loss': 3.8730487860166107, 'Val Accuracy': 0.2205029013539652, 'Val Precision': 0.09795906795022356, 'Val Recall': 0.2205029013539652}\n"
     ]
    },
    {
     "name": "stderr",
     "output_type": "stream",
     "text": [
      "c:\\Users\\Sid\\AppData\\Local\\Programs\\Python\\Python39\\lib\\site-packages\\huggingface_hub\\file_download.py:1132: FutureWarning: `resume_download` is deprecated and will be removed in version 1.0.0. Downloads always resume when possible. If you want to force a new download, use `force_download=True`.\n",
      "  warnings.warn(\n",
      "Epoch(s):   9%|\u001b[31m▉         \u001b[0m| 22/250 [40:20<6:54:23, 109.05s/it]c:\\Users\\Sid\\AppData\\Local\\Programs\\Python\\Python39\\lib\\site-packages\\sklearn\\metrics\\_classification.py:1517: UndefinedMetricWarning: Precision is ill-defined and being set to 0.0 in labels with no predicted samples. Use `zero_division` parameter to control this behavior.\n",
      "  _warn_prf(average, modifier, f\"{metric.capitalize()} is\", len(result))\n"
     ]
    },
    {
     "name": "stdout",
     "output_type": "stream",
     "text": [
      "{'Epoch': 23, 'Train Loss': 31.867254511730092, 'Train Accuracy': 0.2621006776379477, 'Val Loss': 3.756427629177387, 'Val Accuracy': 0.23017408123791103, 'Val Precision': 0.10224585187190884, 'Val Recall': 0.23017408123791103}\n"
     ]
    },
    {
     "name": "stderr",
     "output_type": "stream",
     "text": [
      "c:\\Users\\Sid\\AppData\\Local\\Programs\\Python\\Python39\\lib\\site-packages\\huggingface_hub\\file_download.py:1132: FutureWarning: `resume_download` is deprecated and will be removed in version 1.0.0. Downloads always resume when possible. If you want to force a new download, use `force_download=True`.\n",
      "  warnings.warn(\n",
      "Epoch(s):   9%|\u001b[31m▉         \u001b[0m| 23/250 [42:09<6:52:25, 109.01s/it]c:\\Users\\Sid\\AppData\\Local\\Programs\\Python\\Python39\\lib\\site-packages\\sklearn\\metrics\\_classification.py:1517: UndefinedMetricWarning: Precision is ill-defined and being set to 0.0 in labels with no predicted samples. Use `zero_division` parameter to control this behavior.\n",
      "  _warn_prf(average, modifier, f\"{metric.capitalize()} is\", len(result))\n"
     ]
    },
    {
     "name": "stdout",
     "output_type": "stream",
     "text": [
      "{'Epoch': 24, 'Train Loss': 8.764261765829845, 'Train Accuracy': 0.2696030977734753, 'Val Loss': 3.6120137508098895, 'Val Accuracy': 0.23984526112185686, 'Val Precision': 0.1021413958573602, 'Val Recall': 0.23984526112185686}\n"
     ]
    },
    {
     "name": "stderr",
     "output_type": "stream",
     "text": [
      "c:\\Users\\Sid\\AppData\\Local\\Programs\\Python\\Python39\\lib\\site-packages\\huggingface_hub\\file_download.py:1132: FutureWarning: `resume_download` is deprecated and will be removed in version 1.0.0. Downloads always resume when possible. If you want to force a new download, use `force_download=True`.\n",
      "  warnings.warn(\n",
      "Epoch(s):  10%|\u001b[31m▉         \u001b[0m| 24/250 [43:58<6:51:12, 109.17s/it]c:\\Users\\Sid\\AppData\\Local\\Programs\\Python\\Python39\\lib\\site-packages\\sklearn\\metrics\\_classification.py:1517: UndefinedMetricWarning: Precision is ill-defined and being set to 0.0 in labels with no predicted samples. Use `zero_division` parameter to control this behavior.\n",
      "  _warn_prf(average, modifier, f\"{metric.capitalize()} is\", len(result))\n"
     ]
    },
    {
     "name": "stdout",
     "output_type": "stream",
     "text": [
      "{'Epoch': 25, 'Train Loss': 3.8212730843127924, 'Train Accuracy': 0.27057115198451115, 'Val Loss': 3.462120191867535, 'Val Accuracy': 0.2572533849129594, 'Val Precision': 0.10264989503281928, 'Val Recall': 0.2572533849129594}\n"
     ]
    },
    {
     "name": "stderr",
     "output_type": "stream",
     "text": [
      "c:\\Users\\Sid\\AppData\\Local\\Programs\\Python\\Python39\\lib\\site-packages\\huggingface_hub\\file_download.py:1132: FutureWarning: `resume_download` is deprecated and will be removed in version 1.0.0. Downloads always resume when possible. If you want to force a new download, use `force_download=True`.\n",
      "  warnings.warn(\n",
      "Epoch(s):  10%|\u001b[31m█         \u001b[0m| 25/250 [45:47<6:49:14, 109.13s/it]c:\\Users\\Sid\\AppData\\Local\\Programs\\Python\\Python39\\lib\\site-packages\\sklearn\\metrics\\_classification.py:1517: UndefinedMetricWarning: Precision is ill-defined and being set to 0.0 in labels with no predicted samples. Use `zero_division` parameter to control this behavior.\n",
      "  _warn_prf(average, modifier, f\"{metric.capitalize()} is\", len(result))\n"
     ]
    },
    {
     "name": "stdout",
     "output_type": "stream",
     "text": [
      "{'Epoch': 26, 'Train Loss': 3.1660748973316206, 'Train Accuracy': 0.27686350435624396, 'Val Loss': 3.3157006428791926, 'Val Accuracy': 0.26499032882011603, 'Val Precision': 0.10069640611507576, 'Val Recall': 0.26499032882011603}\n"
     ]
    },
    {
     "name": "stderr",
     "output_type": "stream",
     "text": [
      "c:\\Users\\Sid\\AppData\\Local\\Programs\\Python\\Python39\\lib\\site-packages\\huggingface_hub\\file_download.py:1132: FutureWarning: `resume_download` is deprecated and will be removed in version 1.0.0. Downloads always resume when possible. If you want to force a new download, use `force_download=True`.\n",
      "  warnings.warn(\n",
      "Epoch(s):  10%|\u001b[31m█         \u001b[0m| 26/250 [47:36<6:47:10, 109.06s/it]c:\\Users\\Sid\\AppData\\Local\\Programs\\Python\\Python39\\lib\\site-packages\\sklearn\\metrics\\_classification.py:1517: UndefinedMetricWarning: Precision is ill-defined and being set to 0.0 in labels with no predicted samples. Use `zero_division` parameter to control this behavior.\n",
      "  _warn_prf(average, modifier, f\"{metric.capitalize()} is\", len(result))\n"
     ]
    },
    {
     "name": "stdout",
     "output_type": "stream",
     "text": [
      "{'Epoch': 27, 'Train Loss': 3.077257970585326, 'Train Accuracy': 0.2850919651500484, 'Val Loss': 3.175647007502042, 'Val Accuracy': 0.26692456479690524, 'Val Precision': 0.09609528022378702, 'Val Recall': 0.26692456479690524}\n"
     ]
    },
    {
     "name": "stderr",
     "output_type": "stream",
     "text": [
      "c:\\Users\\Sid\\AppData\\Local\\Programs\\Python\\Python39\\lib\\site-packages\\huggingface_hub\\file_download.py:1132: FutureWarning: `resume_download` is deprecated and will be removed in version 1.0.0. Downloads always resume when possible. If you want to force a new download, use `force_download=True`.\n",
      "  warnings.warn(\n",
      "Epoch(s):  11%|\u001b[31m█         \u001b[0m| 27/250 [49:25<6:45:19, 109.05s/it]c:\\Users\\Sid\\AppData\\Local\\Programs\\Python\\Python39\\lib\\site-packages\\sklearn\\metrics\\_classification.py:1517: UndefinedMetricWarning: Precision is ill-defined and being set to 0.0 in labels with no predicted samples. Use `zero_division` parameter to control this behavior.\n",
      "  _warn_prf(average, modifier, f\"{metric.capitalize()} is\", len(result))\n"
     ]
    },
    {
     "name": "stdout",
     "output_type": "stream",
     "text": [
      "{'Epoch': 28, 'Train Loss': 5.291751500262257, 'Train Accuracy': 0.28049370764762827, 'Val Loss': 3.0502036314744214, 'Val Accuracy': 0.2678916827852998, 'Val Precision': 0.09269320236153779, 'Val Recall': 0.2678916827852998}\n"
     ]
    },
    {
     "name": "stderr",
     "output_type": "stream",
     "text": [
      "c:\\Users\\Sid\\AppData\\Local\\Programs\\Python\\Python39\\lib\\site-packages\\huggingface_hub\\file_download.py:1132: FutureWarning: `resume_download` is deprecated and will be removed in version 1.0.0. Downloads always resume when possible. If you want to force a new download, use `force_download=True`.\n",
      "  warnings.warn(\n",
      "Epoch(s):  11%|\u001b[31m█         \u001b[0m| 28/250 [51:14<6:43:22, 109.02s/it]c:\\Users\\Sid\\AppData\\Local\\Programs\\Python\\Python39\\lib\\site-packages\\sklearn\\metrics\\_classification.py:1517: UndefinedMetricWarning: Precision is ill-defined and being set to 0.0 in labels with no predicted samples. Use `zero_division` parameter to control this behavior.\n",
      "  _warn_prf(average, modifier, f\"{metric.capitalize()} is\", len(result))\n"
     ]
    },
    {
     "name": "stdout",
     "output_type": "stream",
     "text": [
      "{'Epoch': 29, 'Train Loss': 4.699653156475671, 'Train Accuracy': 0.2775895450145208, 'Val Loss': 2.9353393591367283, 'Val Accuracy': 0.2601547388781431, 'Val Precision': 0.08767014800833145, 'Val Recall': 0.2601547388781431}\n"
     ]
    },
    {
     "name": "stderr",
     "output_type": "stream",
     "text": [
      "c:\\Users\\Sid\\AppData\\Local\\Programs\\Python\\Python39\\lib\\site-packages\\huggingface_hub\\file_download.py:1132: FutureWarning: `resume_download` is deprecated and will be removed in version 1.0.0. Downloads always resume when possible. If you want to force a new download, use `force_download=True`.\n",
      "  warnings.warn(\n",
      "Epoch(s):  12%|\u001b[31m█▏        \u001b[0m| 29/250 [53:03<6:41:23, 108.97s/it]c:\\Users\\Sid\\AppData\\Local\\Programs\\Python\\Python39\\lib\\site-packages\\sklearn\\metrics\\_classification.py:1517: UndefinedMetricWarning: Precision is ill-defined and being set to 0.0 in labels with no predicted samples. Use `zero_division` parameter to control this behavior.\n",
      "  _warn_prf(average, modifier, f\"{metric.capitalize()} is\", len(result))\n"
     ]
    },
    {
     "name": "stdout",
     "output_type": "stream",
     "text": [
      "{'Epoch': 30, 'Train Loss': 3.0350384772054015, 'Train Accuracy': 0.2698451113262343, 'Val Loss': 2.8523808075831485, 'Val Accuracy': 0.24661508704061896, 'Val Precision': 0.08813833727761351, 'Val Recall': 0.24661508704061896}\n"
     ]
    },
    {
     "name": "stderr",
     "output_type": "stream",
     "text": [
      "c:\\Users\\Sid\\AppData\\Local\\Programs\\Python\\Python39\\lib\\site-packages\\huggingface_hub\\file_download.py:1132: FutureWarning: `resume_download` is deprecated and will be removed in version 1.0.0. Downloads always resume when possible. If you want to force a new download, use `force_download=True`.\n",
      "  warnings.warn(\n",
      "Epoch(s):  12%|\u001b[31m█▏        \u001b[0m| 30/250 [54:52<6:39:30, 108.96s/it]c:\\Users\\Sid\\AppData\\Local\\Programs\\Python\\Python39\\lib\\site-packages\\sklearn\\metrics\\_classification.py:1517: UndefinedMetricWarning: Precision is ill-defined and being set to 0.0 in labels with no predicted samples. Use `zero_division` parameter to control this behavior.\n",
      "  _warn_prf(average, modifier, f\"{metric.capitalize()} is\", len(result))\n"
     ]
    },
    {
     "name": "stdout",
     "output_type": "stream",
     "text": [
      "{'Epoch': 31, 'Train Loss': 2.675659481622998, 'Train Accuracy': 0.2596805421103582, 'Val Loss': 2.775703692436218, 'Val Accuracy': 0.2379110251450677, 'Val Precision': 0.08896307517604847, 'Val Recall': 0.2379110251450677}\n"
     ]
    },
    {
     "name": "stderr",
     "output_type": "stream",
     "text": [
      "c:\\Users\\Sid\\AppData\\Local\\Programs\\Python\\Python39\\lib\\site-packages\\huggingface_hub\\file_download.py:1132: FutureWarning: `resume_download` is deprecated and will be removed in version 1.0.0. Downloads always resume when possible. If you want to force a new download, use `force_download=True`.\n",
      "  warnings.warn(\n",
      "Epoch(s):  12%|\u001b[31m█▏        \u001b[0m| 31/250 [56:41<6:38:17, 109.12s/it]c:\\Users\\Sid\\AppData\\Local\\Programs\\Python\\Python39\\lib\\site-packages\\sklearn\\metrics\\_classification.py:1517: UndefinedMetricWarning: Precision is ill-defined and being set to 0.0 in labels with no predicted samples. Use `zero_division` parameter to control this behavior.\n",
      "  _warn_prf(average, modifier, f\"{metric.capitalize()} is\", len(result))\n"
     ]
    },
    {
     "name": "stdout",
     "output_type": "stream",
     "text": [
      "{'Epoch': 32, 'Train Loss': 2.612771473796211, 'Train Accuracy': 0.24782187802516942, 'Val Loss': 2.70319832104903, 'Val Accuracy': 0.22243713733075435, 'Val Precision': 0.0889169285944552, 'Val Recall': 0.22243713733075435}\n"
     ]
    },
    {
     "name": "stderr",
     "output_type": "stream",
     "text": [
      "c:\\Users\\Sid\\AppData\\Local\\Programs\\Python\\Python39\\lib\\site-packages\\huggingface_hub\\file_download.py:1132: FutureWarning: `resume_download` is deprecated and will be removed in version 1.0.0. Downloads always resume when possible. If you want to force a new download, use `force_download=True`.\n",
      "  warnings.warn(\n",
      "Epoch(s):  13%|\u001b[31m█▎        \u001b[0m| 32/250 [58:30<6:36:15, 109.06s/it]c:\\Users\\Sid\\AppData\\Local\\Programs\\Python\\Python39\\lib\\site-packages\\sklearn\\metrics\\_classification.py:1517: UndefinedMetricWarning: Precision is ill-defined and being set to 0.0 in labels with no predicted samples. Use `zero_division` parameter to control this behavior.\n",
      "  _warn_prf(average, modifier, f\"{metric.capitalize()} is\", len(result))\n",
      "c:\\Users\\Sid\\AppData\\Local\\Programs\\Python\\Python39\\lib\\site-packages\\peft\\utils\\other.py:611: UserWarning: Unable to fetch remote file due to the following error (ProtocolError('Connection aborted.', ConnectionResetError(10054, 'An existing connection was forcibly closed by the remote host', None, 10054, None)), '(Request ID: 786bdf95-e448-4b01-9197-45d960ef95ae)') - silently ignoring the lookup for the file config.json in google/mobilebert-uncased.\n",
      "  warnings.warn(\n",
      "c:\\Users\\Sid\\AppData\\Local\\Programs\\Python\\Python39\\lib\\site-packages\\peft\\utils\\save_and_load.py:195: UserWarning: Could not find a config file in google/mobilebert-uncased - will assume that the vocabulary was not modified.\n",
      "  warnings.warn(\n",
      "Epoch(s):  13%|\u001b[31m█▎        \u001b[0m| 33/250 [1:00:19<6:33:44, 108.87s/it]"
     ]
    },
    {
     "name": "stdout",
     "output_type": "stream",
     "text": [
      "{'Epoch': 33, 'Train Loss': 23.39683993166478, 'Train Accuracy': 0.2376573088092933, 'Val Loss': 2.623069583452665, 'Val Accuracy': 0.1470019342359768, 'Val Precision': 0.07582227261260915, 'Val Recall': 0.1470019342359768}\n"
     ]
    },
    {
     "name": "stderr",
     "output_type": "stream",
     "text": [
      "c:\\Users\\Sid\\AppData\\Local\\Programs\\Python\\Python39\\lib\\site-packages\\sklearn\\metrics\\_classification.py:1517: UndefinedMetricWarning: Precision is ill-defined and being set to 0.0 in labels with no predicted samples. Use `zero_division` parameter to control this behavior.\n",
      "  _warn_prf(average, modifier, f\"{metric.capitalize()} is\", len(result))\n"
     ]
    },
    {
     "name": "stdout",
     "output_type": "stream",
     "text": [
      "{'Epoch': 34, 'Train Loss': 2.4618462245896975, 'Train Accuracy': 0.223378509196515, 'Val Loss': 2.5486480199373687, 'Val Accuracy': 0.14313346228239845, 'Val Precision': 0.0730174588060041, 'Val Recall': 0.14313346228239845}\n"
     ]
    },
    {
     "name": "stderr",
     "output_type": "stream",
     "text": [
      "c:\\Users\\Sid\\AppData\\Local\\Programs\\Python\\Python39\\lib\\site-packages\\huggingface_hub\\file_download.py:1132: FutureWarning: `resume_download` is deprecated and will be removed in version 1.0.0. Downloads always resume when possible. If you want to force a new download, use `force_download=True`.\n",
      "  warnings.warn(\n",
      "Epoch(s):  14%|\u001b[31m█▎        \u001b[0m| 34/250 [1:02:08<6:32:13, 108.95s/it]c:\\Users\\Sid\\AppData\\Local\\Programs\\Python\\Python39\\lib\\site-packages\\sklearn\\metrics\\_classification.py:1517: UndefinedMetricWarning: Precision is ill-defined and being set to 0.0 in labels with no predicted samples. Use `zero_division` parameter to control this behavior.\n",
      "  _warn_prf(average, modifier, f\"{metric.capitalize()} is\", len(result))\n"
     ]
    },
    {
     "name": "stdout",
     "output_type": "stream",
     "text": [
      "{'Epoch': 35, 'Train Loss': 2.611698255115494, 'Train Accuracy': 0.22362052274927396, 'Val Loss': 2.4672949589215794, 'Val Accuracy': 0.14410058027079303, 'Val Precision': 0.07726222736445061, 'Val Recall': 0.14410058027079303}\n"
     ]
    },
    {
     "name": "stderr",
     "output_type": "stream",
     "text": [
      "c:\\Users\\Sid\\AppData\\Local\\Programs\\Python\\Python39\\lib\\site-packages\\huggingface_hub\\file_download.py:1132: FutureWarning: `resume_download` is deprecated and will be removed in version 1.0.0. Downloads always resume when possible. If you want to force a new download, use `force_download=True`.\n",
      "  warnings.warn(\n",
      "Epoch(s):  14%|\u001b[31m█▍        \u001b[0m| 35/250 [1:03:57<6:30:22, 108.94s/it]c:\\Users\\Sid\\AppData\\Local\\Programs\\Python\\Python39\\lib\\site-packages\\sklearn\\metrics\\_classification.py:1517: UndefinedMetricWarning: Precision is ill-defined and being set to 0.0 in labels with no predicted samples. Use `zero_division` parameter to control this behavior.\n",
      "  _warn_prf(average, modifier, f\"{metric.capitalize()} is\", len(result))\n"
     ]
    },
    {
     "name": "stdout",
     "output_type": "stream",
     "text": [
      "{'Epoch': 36, 'Train Loss': 2.3261543977214565, 'Train Accuracy': 0.23281703775411422, 'Val Loss': 2.383522110718947, 'Val Accuracy': 0.15087040618955513, 'Val Precision': 0.08041280679682679, 'Val Recall': 0.15087040618955513}\n"
     ]
    },
    {
     "name": "stderr",
     "output_type": "stream",
     "text": [
      "c:\\Users\\Sid\\AppData\\Local\\Programs\\Python\\Python39\\lib\\site-packages\\huggingface_hub\\file_download.py:1132: FutureWarning: `resume_download` is deprecated and will be removed in version 1.0.0. Downloads always resume when possible. If you want to force a new download, use `force_download=True`.\n",
      "  warnings.warn(\n",
      "Epoch(s):  14%|\u001b[31m█▍        \u001b[0m| 36/250 [1:05:46<6:28:26, 108.91s/it]c:\\Users\\Sid\\AppData\\Local\\Programs\\Python\\Python39\\lib\\site-packages\\sklearn\\metrics\\_classification.py:1517: UndefinedMetricWarning: Precision is ill-defined and being set to 0.0 in labels with no predicted samples. Use `zero_division` parameter to control this behavior.\n",
      "  _warn_prf(average, modifier, f\"{metric.capitalize()} is\", len(result))\n"
     ]
    },
    {
     "name": "stdout",
     "output_type": "stream",
     "text": [
      "{'Epoch': 37, 'Train Loss': 2.399648753832666, 'Train Accuracy': 0.22265246853823814, 'Val Loss': 2.293543535012465, 'Val Accuracy': 0.15860735009671179, 'Val Precision': 0.08435843700421788, 'Val Recall': 0.15860735009671179}\n"
     ]
    },
    {
     "name": "stderr",
     "output_type": "stream",
     "text": [
      "c:\\Users\\Sid\\AppData\\Local\\Programs\\Python\\Python39\\lib\\site-packages\\huggingface_hub\\file_download.py:1132: FutureWarning: `resume_download` is deprecated and will be removed in version 1.0.0. Downloads always resume when possible. If you want to force a new download, use `force_download=True`.\n",
      "  warnings.warn(\n",
      "Epoch(s):  15%|\u001b[31m█▍        \u001b[0m| 37/250 [1:07:34<6:26:40, 108.92s/it]c:\\Users\\Sid\\AppData\\Local\\Programs\\Python\\Python39\\lib\\site-packages\\sklearn\\metrics\\_classification.py:1517: UndefinedMetricWarning: Precision is ill-defined and being set to 0.0 in labels with no predicted samples. Use `zero_division` parameter to control this behavior.\n",
      "  _warn_prf(average, modifier, f\"{metric.capitalize()} is\", len(result))\n"
     ]
    },
    {
     "name": "stdout",
     "output_type": "stream",
     "text": [
      "{'Epoch': 38, 'Train Loss': 2.194466957714567, 'Train Accuracy': 0.23305905130687318, 'Val Loss': 2.2073563740803643, 'Val Accuracy': 0.1595744680851064, 'Val Precision': 0.08472051084631131, 'Val Recall': 0.1595744680851064}\n"
     ]
    },
    {
     "name": "stderr",
     "output_type": "stream",
     "text": [
      "c:\\Users\\Sid\\AppData\\Local\\Programs\\Python\\Python39\\lib\\site-packages\\huggingface_hub\\file_download.py:1132: FutureWarning: `resume_download` is deprecated and will be removed in version 1.0.0. Downloads always resume when possible. If you want to force a new download, use `force_download=True`.\n",
      "  warnings.warn(\n",
      "Epoch(s):  15%|\u001b[31m█▌        \u001b[0m| 38/250 [1:09:23<6:24:49, 108.91s/it]c:\\Users\\Sid\\AppData\\Local\\Programs\\Python\\Python39\\lib\\site-packages\\sklearn\\metrics\\_classification.py:1517: UndefinedMetricWarning: Precision is ill-defined and being set to 0.0 in labels with no predicted samples. Use `zero_division` parameter to control this behavior.\n",
      "  _warn_prf(average, modifier, f\"{metric.capitalize()} is\", len(result))\n"
     ]
    },
    {
     "name": "stdout",
     "output_type": "stream",
     "text": [
      "{'Epoch': 39, 'Train Loss': 2.2155479846313653, 'Train Accuracy': 0.23547918683446273, 'Val Loss': 2.125627066538884, 'Val Accuracy': 0.1653771760154739, 'Val Precision': 0.09223637492683479, 'Val Recall': 0.1653771760154739}\n"
     ]
    },
    {
     "name": "stderr",
     "output_type": "stream",
     "text": [
      "c:\\Users\\Sid\\AppData\\Local\\Programs\\Python\\Python39\\lib\\site-packages\\huggingface_hub\\file_download.py:1132: FutureWarning: `resume_download` is deprecated and will be removed in version 1.0.0. Downloads always resume when possible. If you want to force a new download, use `force_download=True`.\n",
      "  warnings.warn(\n",
      "Epoch(s):  16%|\u001b[31m█▌        \u001b[0m| 39/250 [1:11:12<6:22:59, 108.91s/it]c:\\Users\\Sid\\AppData\\Local\\Programs\\Python\\Python39\\lib\\site-packages\\sklearn\\metrics\\_classification.py:1517: UndefinedMetricWarning: Precision is ill-defined and being set to 0.0 in labels with no predicted samples. Use `zero_division` parameter to control this behavior.\n",
      "  _warn_prf(average, modifier, f\"{metric.capitalize()} is\", len(result))\n"
     ]
    },
    {
     "name": "stdout",
     "output_type": "stream",
     "text": [
      "{'Epoch': 40, 'Train Loss': 2.344213329226814, 'Train Accuracy': 0.23814133591481124, 'Val Loss': 2.0560520043739907, 'Val Accuracy': 0.1595744680851064, 'Val Precision': 0.09387136511658656, 'Val Recall': 0.1595744680851064}\n"
     ]
    },
    {
     "name": "stderr",
     "output_type": "stream",
     "text": [
      "c:\\Users\\Sid\\AppData\\Local\\Programs\\Python\\Python39\\lib\\site-packages\\huggingface_hub\\file_download.py:1132: FutureWarning: `resume_download` is deprecated and will be removed in version 1.0.0. Downloads always resume when possible. If you want to force a new download, use `force_download=True`.\n",
      "  warnings.warn(\n",
      "Epoch(s):  16%|\u001b[31m█▌        \u001b[0m| 40/250 [1:13:01<6:21:10, 108.91s/it]c:\\Users\\Sid\\AppData\\Local\\Programs\\Python\\Python39\\lib\\site-packages\\sklearn\\metrics\\_classification.py:1517: UndefinedMetricWarning: Precision is ill-defined and being set to 0.0 in labels with no predicted samples. Use `zero_division` parameter to control this behavior.\n",
      "  _warn_prf(average, modifier, f\"{metric.capitalize()} is\", len(result))\n"
     ]
    },
    {
     "name": "stdout",
     "output_type": "stream",
     "text": [
      "{'Epoch': 41, 'Train Loss': 2.1471539786423497, 'Train Accuracy': 0.23354307841239108, 'Val Loss': 1.9930950861710768, 'Val Accuracy': 0.15570599613152805, 'Val Precision': 0.08765102951112655, 'Val Recall': 0.15570599613152805}\n"
     ]
    },
    {
     "name": "stderr",
     "output_type": "stream",
     "text": [
      "c:\\Users\\Sid\\AppData\\Local\\Programs\\Python\\Python39\\lib\\site-packages\\huggingface_hub\\file_download.py:1132: FutureWarning: `resume_download` is deprecated and will be removed in version 1.0.0. Downloads always resume when possible. If you want to force a new download, use `force_download=True`.\n",
      "  warnings.warn(\n",
      "Epoch(s):  16%|\u001b[31m█▋        \u001b[0m| 41/250 [1:14:50<6:19:25, 108.92s/it]c:\\Users\\Sid\\AppData\\Local\\Programs\\Python\\Python39\\lib\\site-packages\\sklearn\\metrics\\_classification.py:1517: UndefinedMetricWarning: Precision is ill-defined and being set to 0.0 in labels with no predicted samples. Use `zero_division` parameter to control this behavior.\n",
      "  _warn_prf(average, modifier, f\"{metric.capitalize()} is\", len(result))\n"
     ]
    },
    {
     "name": "stdout",
     "output_type": "stream",
     "text": [
      "{'Epoch': 42, 'Train Loss': 1.9682766258946718, 'Train Accuracy': 0.23281703775411422, 'Val Loss': 1.9498480008198664, 'Val Accuracy': 0.15667311411992263, 'Val Precision': 0.08904227921623739, 'Val Recall': 0.15667311411992263}\n"
     ]
    },
    {
     "name": "stderr",
     "output_type": "stream",
     "text": [
      "c:\\Users\\Sid\\AppData\\Local\\Programs\\Python\\Python39\\lib\\site-packages\\huggingface_hub\\file_download.py:1132: FutureWarning: `resume_download` is deprecated and will be removed in version 1.0.0. Downloads always resume when possible. If you want to force a new download, use `force_download=True`.\n",
      "  warnings.warn(\n",
      "Epoch(s):  17%|\u001b[31m█▋        \u001b[0m| 42/250 [1:16:39<6:17:37, 108.93s/it]c:\\Users\\Sid\\AppData\\Local\\Programs\\Python\\Python39\\lib\\site-packages\\sklearn\\metrics\\_classification.py:1517: UndefinedMetricWarning: Precision is ill-defined and being set to 0.0 in labels with no predicted samples. Use `zero_division` parameter to control this behavior.\n",
      "  _warn_prf(average, modifier, f\"{metric.capitalize()} is\", len(result))\n"
     ]
    },
    {
     "name": "stdout",
     "output_type": "stream",
     "text": [
      "{'Epoch': 43, 'Train Loss': 1.9392278907842158, 'Train Accuracy': 0.23668925459825751, 'Val Loss': 1.9124550177500799, 'Val Accuracy': 0.14119922630560927, 'Val Precision': 0.0886067342368488, 'Val Recall': 0.14119922630560927}\n"
     ]
    },
    {
     "name": "stderr",
     "output_type": "stream",
     "text": [
      "c:\\Users\\Sid\\AppData\\Local\\Programs\\Python\\Python39\\lib\\site-packages\\huggingface_hub\\file_download.py:1132: FutureWarning: `resume_download` is deprecated and will be removed in version 1.0.0. Downloads always resume when possible. If you want to force a new download, use `force_download=True`.\n",
      "  warnings.warn(\n",
      "Epoch(s):  17%|\u001b[31m█▋        \u001b[0m| 43/250 [1:18:28<6:15:47, 108.93s/it]c:\\Users\\Sid\\AppData\\Local\\Programs\\Python\\Python39\\lib\\site-packages\\sklearn\\metrics\\_classification.py:1517: UndefinedMetricWarning: Precision is ill-defined and being set to 0.0 in labels with no predicted samples. Use `zero_division` parameter to control this behavior.\n",
      "  _warn_prf(average, modifier, f\"{metric.capitalize()} is\", len(result))\n"
     ]
    },
    {
     "name": "stdout",
     "output_type": "stream",
     "text": [
      "{'Epoch': 44, 'Train Loss': 1.9089225912646437, 'Train Accuracy': 0.23354307841239108, 'Val Loss': 1.8791435626836923, 'Val Accuracy': 0.14313346228239845, 'Val Precision': 0.08807306273778923, 'Val Recall': 0.14313346228239845}\n"
     ]
    },
    {
     "name": "stderr",
     "output_type": "stream",
     "text": [
      "c:\\Users\\Sid\\AppData\\Local\\Programs\\Python\\Python39\\lib\\site-packages\\huggingface_hub\\file_download.py:1132: FutureWarning: `resume_download` is deprecated and will be removed in version 1.0.0. Downloads always resume when possible. If you want to force a new download, use `force_download=True`.\n",
      "  warnings.warn(\n",
      "Epoch(s):  18%|\u001b[31m█▊        \u001b[0m| 44/250 [1:20:17<6:14:07, 108.97s/it]c:\\Users\\Sid\\AppData\\Local\\Programs\\Python\\Python39\\lib\\site-packages\\sklearn\\metrics\\_classification.py:1517: UndefinedMetricWarning: Precision is ill-defined and being set to 0.0 in labels with no predicted samples. Use `zero_division` parameter to control this behavior.\n",
      "  _warn_prf(average, modifier, f\"{metric.capitalize()} is\", len(result))\n"
     ]
    },
    {
     "name": "stdout",
     "output_type": "stream",
     "text": [
      "{'Epoch': 45, 'Train Loss': 1.8744548536175467, 'Train Accuracy': 0.2345111326234269, 'Val Loss': 1.8454266107999362, 'Val Accuracy': 0.1450676982591876, 'Val Precision': 0.09497867145265894, 'Val Recall': 0.1450676982591876}\n"
     ]
    },
    {
     "name": "stderr",
     "output_type": "stream",
     "text": [
      "c:\\Users\\Sid\\AppData\\Local\\Programs\\Python\\Python39\\lib\\site-packages\\huggingface_hub\\file_download.py:1132: FutureWarning: `resume_download` is deprecated and will be removed in version 1.0.0. Downloads always resume when possible. If you want to force a new download, use `force_download=True`.\n",
      "  warnings.warn(\n",
      "Epoch(s):  18%|\u001b[31m█▊        \u001b[0m| 45/250 [1:22:06<6:12:03, 108.90s/it]c:\\Users\\Sid\\AppData\\Local\\Programs\\Python\\Python39\\lib\\site-packages\\sklearn\\metrics\\_classification.py:1517: UndefinedMetricWarning: Precision is ill-defined and being set to 0.0 in labels with no predicted samples. Use `zero_division` parameter to control this behavior.\n",
      "  _warn_prf(average, modifier, f\"{metric.capitalize()} is\", len(result))\n"
     ]
    },
    {
     "name": "stdout",
     "output_type": "stream",
     "text": [
      "{'Epoch': 46, 'Train Loss': 1.8521085995965023, 'Train Accuracy': 0.24346563407550822, 'Val Loss': 1.8094574836584238, 'Val Accuracy': 0.16731141199226304, 'Val Precision': 0.11420036948028492, 'Val Recall': 0.16731141199226304}\n"
     ]
    },
    {
     "name": "stderr",
     "output_type": "stream",
     "text": [
      "c:\\Users\\Sid\\AppData\\Local\\Programs\\Python\\Python39\\lib\\site-packages\\huggingface_hub\\file_download.py:1132: FutureWarning: `resume_download` is deprecated and will be removed in version 1.0.0. Downloads always resume when possible. If you want to force a new download, use `force_download=True`.\n",
      "  warnings.warn(\n",
      "Epoch(s):  18%|\u001b[31m█▊        \u001b[0m| 46/250 [1:23:55<6:10:14, 108.89s/it]c:\\Users\\Sid\\AppData\\Local\\Programs\\Python\\Python39\\lib\\site-packages\\sklearn\\metrics\\_classification.py:1517: UndefinedMetricWarning: Precision is ill-defined and being set to 0.0 in labels with no predicted samples. Use `zero_division` parameter to control this behavior.\n",
      "  _warn_prf(average, modifier, f\"{metric.capitalize()} is\", len(result))\n",
      "c:\\Users\\Sid\\AppData\\Local\\Programs\\Python\\Python39\\lib\\site-packages\\peft\\utils\\other.py:611: UserWarning: Unable to fetch remote file due to the following error (ProtocolError('Connection aborted.', ConnectionResetError(10054, 'An existing connection was forcibly closed by the remote host', None, 10054, None)), '(Request ID: 4a2a8a82-3dc8-4d5e-8e08-ebf248ebd727)') - silently ignoring the lookup for the file config.json in google/mobilebert-uncased.\n",
      "  warnings.warn(\n",
      "c:\\Users\\Sid\\AppData\\Local\\Programs\\Python\\Python39\\lib\\site-packages\\peft\\utils\\save_and_load.py:195: UserWarning: Could not find a config file in google/mobilebert-uncased - will assume that the vocabulary was not modified.\n",
      "  warnings.warn(\n",
      "Epoch(s):  19%|\u001b[31m█▉        \u001b[0m| 47/250 [1:25:43<6:08:07, 108.81s/it]"
     ]
    },
    {
     "name": "stdout",
     "output_type": "stream",
     "text": [
      "{'Epoch': 47, 'Train Loss': 1.82274976476279, 'Train Accuracy': 0.2538722168441433, 'Val Loss': 1.770312839287978, 'Val Accuracy': 0.1644100580270793, 'Val Precision': 0.10940773193589215, 'Val Recall': 0.1644100580270793}\n"
     ]
    },
    {
     "name": "stderr",
     "output_type": "stream",
     "text": [
      "c:\\Users\\Sid\\AppData\\Local\\Programs\\Python\\Python39\\lib\\site-packages\\sklearn\\metrics\\_classification.py:1517: UndefinedMetricWarning: Precision is ill-defined and being set to 0.0 in labels with no predicted samples. Use `zero_division` parameter to control this behavior.\n",
      "  _warn_prf(average, modifier, f\"{metric.capitalize()} is\", len(result))\n"
     ]
    },
    {
     "name": "stdout",
     "output_type": "stream",
     "text": [
      "{'Epoch': 48, 'Train Loss': 1.775113380093372, 'Train Accuracy': 0.27420135527589545, 'Val Loss': 1.7274757586992704, 'Val Accuracy': 0.1827852998065764, 'Val Precision': 0.12297526315460497, 'Val Recall': 0.1827852998065764}\n"
     ]
    },
    {
     "name": "stderr",
     "output_type": "stream",
     "text": [
      "c:\\Users\\Sid\\AppData\\Local\\Programs\\Python\\Python39\\lib\\site-packages\\huggingface_hub\\file_download.py:1132: FutureWarning: `resume_download` is deprecated and will be removed in version 1.0.0. Downloads always resume when possible. If you want to force a new download, use `force_download=True`.\n",
      "  warnings.warn(\n",
      "Epoch(s):  19%|\u001b[31m█▉        \u001b[0m| 48/250 [1:27:32<6:06:39, 108.91s/it]c:\\Users\\Sid\\AppData\\Local\\Programs\\Python\\Python39\\lib\\site-packages\\sklearn\\metrics\\_classification.py:1517: UndefinedMetricWarning: Precision is ill-defined and being set to 0.0 in labels with no predicted samples. Use `zero_division` parameter to control this behavior.\n",
      "  _warn_prf(average, modifier, f\"{metric.capitalize()} is\", len(result))\n"
     ]
    },
    {
     "name": "stdout",
     "output_type": "stream",
     "text": [
      "{'Epoch': 49, 'Train Loss': 1.7492807721539354, 'Train Accuracy': 0.2696030977734753, 'Val Loss': 1.6842221168371347, 'Val Accuracy': 0.2205029013539652, 'Val Precision': 0.15249750810084353, 'Val Recall': 0.2205029013539652}\n"
     ]
    },
    {
     "name": "stderr",
     "output_type": "stream",
     "text": [
      "c:\\Users\\Sid\\AppData\\Local\\Programs\\Python\\Python39\\lib\\site-packages\\huggingface_hub\\file_download.py:1132: FutureWarning: `resume_download` is deprecated and will be removed in version 1.0.0. Downloads always resume when possible. If you want to force a new download, use `force_download=True`.\n",
      "  warnings.warn(\n",
      "Epoch(s):  20%|\u001b[31m█▉        \u001b[0m| 49/250 [1:29:21<6:04:48, 108.90s/it]c:\\Users\\Sid\\AppData\\Local\\Programs\\Python\\Python39\\lib\\site-packages\\sklearn\\metrics\\_classification.py:1517: UndefinedMetricWarning: Precision is ill-defined and being set to 0.0 in labels with no predicted samples. Use `zero_division` parameter to control this behavior.\n",
      "  _warn_prf(average, modifier, f\"{metric.capitalize()} is\", len(result))\n"
     ]
    },
    {
     "name": "stdout",
     "output_type": "stream",
     "text": [
      "{'Epoch': 50, 'Train Loss': 1.7043338655044673, 'Train Accuracy': 0.2930784123910939, 'Val Loss': 1.6437253310130193, 'Val Accuracy': 0.2640232108317215, 'Val Precision': 0.2038599074500385, 'Val Recall': 0.2640232108317215}\n"
     ]
    },
    {
     "name": "stderr",
     "output_type": "stream",
     "text": [
      "c:\\Users\\Sid\\AppData\\Local\\Programs\\Python\\Python39\\lib\\site-packages\\huggingface_hub\\file_download.py:1132: FutureWarning: `resume_download` is deprecated and will be removed in version 1.0.0. Downloads always resume when possible. If you want to force a new download, use `force_download=True`.\n",
      "  warnings.warn(\n",
      "Epoch(s):  20%|\u001b[31m██        \u001b[0m| 50/250 [1:31:10<6:03:00, 108.90s/it]c:\\Users\\Sid\\AppData\\Local\\Programs\\Python\\Python39\\lib\\site-packages\\sklearn\\metrics\\_classification.py:1517: UndefinedMetricWarning: Precision is ill-defined and being set to 0.0 in labels with no predicted samples. Use `zero_division` parameter to control this behavior.\n",
      "  _warn_prf(average, modifier, f\"{metric.capitalize()} is\", len(result))\n"
     ]
    },
    {
     "name": "stdout",
     "output_type": "stream",
     "text": [
      "{'Epoch': 51, 'Train Loss': 1.6690502811122585, 'Train Accuracy': 0.30348499515972893, 'Val Loss': 1.6063736622150129, 'Val Accuracy': 0.3191489361702128, 'Val Precision': 0.2627296234545663, 'Val Recall': 0.3191489361702128}\n"
     ]
    },
    {
     "name": "stderr",
     "output_type": "stream",
     "text": [
      "c:\\Users\\Sid\\AppData\\Local\\Programs\\Python\\Python39\\lib\\site-packages\\huggingface_hub\\file_download.py:1132: FutureWarning: `resume_download` is deprecated and will be removed in version 1.0.0. Downloads always resume when possible. If you want to force a new download, use `force_download=True`.\n",
      "  warnings.warn(\n",
      "Epoch(s):  20%|\u001b[31m██        \u001b[0m| 51/250 [1:32:59<6:01:15, 108.92s/it]c:\\Users\\Sid\\AppData\\Local\\Programs\\Python\\Python39\\lib\\site-packages\\sklearn\\metrics\\_classification.py:1517: UndefinedMetricWarning: Precision is ill-defined and being set to 0.0 in labels with no predicted samples. Use `zero_division` parameter to control this behavior.\n",
      "  _warn_prf(average, modifier, f\"{metric.capitalize()} is\", len(result))\n"
     ]
    },
    {
     "name": "stdout",
     "output_type": "stream",
     "text": [
      "{'Epoch': 52, 'Train Loss': 1.9449159742322208, 'Train Accuracy': 0.32090997095837365, 'Val Loss': 1.5766657279087948, 'Val Accuracy': 0.28336557059961315, 'Val Precision': 0.2406800622888483, 'Val Recall': 0.28336557059961315}\n"
     ]
    },
    {
     "name": "stderr",
     "output_type": "stream",
     "text": [
      "c:\\Users\\Sid\\AppData\\Local\\Programs\\Python\\Python39\\lib\\site-packages\\huggingface_hub\\file_download.py:1132: FutureWarning: `resume_download` is deprecated and will be removed in version 1.0.0. Downloads always resume when possible. If you want to force a new download, use `force_download=True`.\n",
      "  warnings.warn(\n",
      "Epoch(s):  21%|\u001b[31m██        \u001b[0m| 52/250 [1:34:48<5:59:25, 108.92s/it]c:\\Users\\Sid\\AppData\\Local\\Programs\\Python\\Python39\\lib\\site-packages\\sklearn\\metrics\\_classification.py:1517: UndefinedMetricWarning: Precision is ill-defined and being set to 0.0 in labels with no predicted samples. Use `zero_division` parameter to control this behavior.\n",
      "  _warn_prf(average, modifier, f\"{metric.capitalize()} is\", len(result))\n"
     ]
    },
    {
     "name": "stdout",
     "output_type": "stream",
     "text": [
      "{'Epoch': 53, 'Train Loss': 1.6088982811305514, 'Train Accuracy': 0.340513068731849, 'Val Loss': 1.5463318769748395, 'Val Accuracy': 0.3481624758220503, 'Val Precision': 0.2934860082131365, 'Val Recall': 0.3481624758220503}\n"
     ]
    },
    {
     "name": "stderr",
     "output_type": "stream",
     "text": [
      "c:\\Users\\Sid\\AppData\\Local\\Programs\\Python\\Python39\\lib\\site-packages\\huggingface_hub\\file_download.py:1132: FutureWarning: `resume_download` is deprecated and will be removed in version 1.0.0. Downloads always resume when possible. If you want to force a new download, use `force_download=True`.\n",
      "  warnings.warn(\n",
      "Epoch(s):  21%|\u001b[31m██        \u001b[0m| 53/250 [1:36:37<5:57:34, 108.91s/it]c:\\Users\\Sid\\AppData\\Local\\Programs\\Python\\Python39\\lib\\site-packages\\sklearn\\metrics\\_classification.py:1517: UndefinedMetricWarning: Precision is ill-defined and being set to 0.0 in labels with no predicted samples. Use `zero_division` parameter to control this behavior.\n",
      "  _warn_prf(average, modifier, f\"{metric.capitalize()} is\", len(result))\n"
     ]
    },
    {
     "name": "stdout",
     "output_type": "stream",
     "text": [
      "{'Epoch': 54, 'Train Loss': 1.5808260139351187, 'Train Accuracy': 0.351161665053243, 'Val Loss': 1.5146781627948467, 'Val Accuracy': 0.4197292069632495, 'Val Precision': 0.3460317016962495, 'Val Recall': 0.4197292069632495}\n"
     ]
    },
    {
     "name": "stderr",
     "output_type": "stream",
     "text": [
      "c:\\Users\\Sid\\AppData\\Local\\Programs\\Python\\Python39\\lib\\site-packages\\huggingface_hub\\file_download.py:1132: FutureWarning: `resume_download` is deprecated and will be removed in version 1.0.0. Downloads always resume when possible. If you want to force a new download, use `force_download=True`.\n",
      "  warnings.warn(\n",
      "Epoch(s):  22%|\u001b[31m██▏       \u001b[0m| 54/250 [1:38:26<5:55:51, 108.93s/it]c:\\Users\\Sid\\AppData\\Local\\Programs\\Python\\Python39\\lib\\site-packages\\sklearn\\metrics\\_classification.py:1517: UndefinedMetricWarning: Precision is ill-defined and being set to 0.0 in labels with no predicted samples. Use `zero_division` parameter to control this behavior.\n",
      "  _warn_prf(average, modifier, f\"{metric.capitalize()} is\", len(result))\n"
     ]
    },
    {
     "name": "stdout",
     "output_type": "stream",
     "text": [
      "{'Epoch': 55, 'Train Loss': 1.56416712005166, 'Train Accuracy': 0.3700387221684414, 'Val Loss': 1.481756339623378, 'Val Accuracy': 0.49806576402321084, 'Val Precision': 0.40826371071469925, 'Val Recall': 0.49806576402321084}\n"
     ]
    },
    {
     "name": "stderr",
     "output_type": "stream",
     "text": [
      "c:\\Users\\Sid\\AppData\\Local\\Programs\\Python\\Python39\\lib\\site-packages\\huggingface_hub\\file_download.py:1132: FutureWarning: `resume_download` is deprecated and will be removed in version 1.0.0. Downloads always resume when possible. If you want to force a new download, use `force_download=True`.\n",
      "  warnings.warn(\n",
      "Epoch(s):  22%|\u001b[31m██▏       \u001b[0m| 55/250 [1:40:15<5:54:07, 108.96s/it]c:\\Users\\Sid\\AppData\\Local\\Programs\\Python\\Python39\\lib\\site-packages\\sklearn\\metrics\\_classification.py:1517: UndefinedMetricWarning: Precision is ill-defined and being set to 0.0 in labels with no predicted samples. Use `zero_division` parameter to control this behavior.\n",
      "  _warn_prf(average, modifier, f\"{metric.capitalize()} is\", len(result))\n"
     ]
    },
    {
     "name": "stdout",
     "output_type": "stream",
     "text": [
      "{'Epoch': 56, 'Train Loss': 1.5212499432582192, 'Train Accuracy': 0.39908034849951596, 'Val Loss': 1.447588054033426, 'Val Accuracy': 0.5647969052224371, 'Val Precision': 0.4752001639187582, 'Val Recall': 0.5647969052224371}\n"
     ]
    },
    {
     "name": "stderr",
     "output_type": "stream",
     "text": [
      "c:\\Users\\Sid\\AppData\\Local\\Programs\\Python\\Python39\\lib\\site-packages\\huggingface_hub\\file_download.py:1132: FutureWarning: `resume_download` is deprecated and will be removed in version 1.0.0. Downloads always resume when possible. If you want to force a new download, use `force_download=True`.\n",
      "  warnings.warn(\n",
      "Epoch(s):  22%|\u001b[31m██▏       \u001b[0m| 56/250 [1:42:04<5:52:11, 108.92s/it]c:\\Users\\Sid\\AppData\\Local\\Programs\\Python\\Python39\\lib\\site-packages\\sklearn\\metrics\\_classification.py:1517: UndefinedMetricWarning: Precision is ill-defined and being set to 0.0 in labels with no predicted samples. Use `zero_division` parameter to control this behavior.\n",
      "  _warn_prf(average, modifier, f\"{metric.capitalize()} is\", len(result))\n"
     ]
    },
    {
     "name": "stdout",
     "output_type": "stream",
     "text": [
      "{'Epoch': 57, 'Train Loss': 1.4966877066030466, 'Train Accuracy': 0.41989351403678604, 'Val Loss': 1.4165519906924322, 'Val Accuracy': 0.597678916827853, 'Val Precision': 0.524945021180827, 'Val Recall': 0.597678916827853}\n"
     ]
    },
    {
     "name": "stderr",
     "output_type": "stream",
     "text": [
      "c:\\Users\\Sid\\AppData\\Local\\Programs\\Python\\Python39\\lib\\site-packages\\huggingface_hub\\file_download.py:1132: FutureWarning: `resume_download` is deprecated and will be removed in version 1.0.0. Downloads always resume when possible. If you want to force a new download, use `force_download=True`.\n",
      "  warnings.warn(\n",
      "Epoch(s):  23%|\u001b[31m██▎       \u001b[0m| 57/250 [1:43:53<5:50:32, 108.97s/it]c:\\Users\\Sid\\AppData\\Local\\Programs\\Python\\Python39\\lib\\site-packages\\sklearn\\metrics\\_classification.py:1517: UndefinedMetricWarning: Precision is ill-defined and being set to 0.0 in labels with no predicted samples. Use `zero_division` parameter to control this behavior.\n",
      "  _warn_prf(average, modifier, f\"{metric.capitalize()} is\", len(result))\n"
     ]
    },
    {
     "name": "stdout",
     "output_type": "stream",
     "text": [
      "{'Epoch': 58, 'Train Loss': 1.4631033735385732, 'Train Accuracy': 0.44651500484027107, 'Val Loss': 1.3905061299984272, 'Val Accuracy': 0.620889748549323, 'Val Precision': 0.5193308868560829, 'Val Recall': 0.620889748549323}\n"
     ]
    },
    {
     "name": "stderr",
     "output_type": "stream",
     "text": [
      "c:\\Users\\Sid\\AppData\\Local\\Programs\\Python\\Python39\\lib\\site-packages\\huggingface_hub\\file_download.py:1132: FutureWarning: `resume_download` is deprecated and will be removed in version 1.0.0. Downloads always resume when possible. If you want to force a new download, use `force_download=True`.\n",
      "  warnings.warn(\n",
      "Epoch(s):  23%|\u001b[31m██▎       \u001b[0m| 58/250 [1:45:42<5:48:46, 108.99s/it]c:\\Users\\Sid\\AppData\\Local\\Programs\\Python\\Python39\\lib\\site-packages\\sklearn\\metrics\\_classification.py:1517: UndefinedMetricWarning: Precision is ill-defined and being set to 0.0 in labels with no predicted samples. Use `zero_division` parameter to control this behavior.\n",
      "  _warn_prf(average, modifier, f\"{metric.capitalize()} is\", len(result))\n"
     ]
    },
    {
     "name": "stdout",
     "output_type": "stream",
     "text": [
      "{'Epoch': 59, 'Train Loss': 1.4284732307246293, 'Train Accuracy': 0.47579864472410455, 'Val Loss': 1.3585947275161743, 'Val Accuracy': 0.6566731141199227, 'Val Precision': 0.5640115710731591, 'Val Recall': 0.6566731141199227}\n"
     ]
    },
    {
     "name": "stderr",
     "output_type": "stream",
     "text": [
      "c:\\Users\\Sid\\AppData\\Local\\Programs\\Python\\Python39\\lib\\site-packages\\huggingface_hub\\file_download.py:1132: FutureWarning: `resume_download` is deprecated and will be removed in version 1.0.0. Downloads always resume when possible. If you want to force a new download, use `force_download=True`.\n",
      "  warnings.warn(\n",
      "Epoch(s):  24%|\u001b[31m██▎       \u001b[0m| 59/250 [1:47:31<5:46:45, 108.93s/it]c:\\Users\\Sid\\AppData\\Local\\Programs\\Python\\Python39\\lib\\site-packages\\sklearn\\metrics\\_classification.py:1517: UndefinedMetricWarning: Precision is ill-defined and being set to 0.0 in labels with no predicted samples. Use `zero_division` parameter to control this behavior.\n",
      "  _warn_prf(average, modifier, f\"{metric.capitalize()} is\", len(result))\n"
     ]
    },
    {
     "name": "stdout",
     "output_type": "stream",
     "text": [
      "{'Epoch': 60, 'Train Loss': 1.4162586694978838, 'Train Accuracy': 0.4803969022265247, 'Val Loss': 1.3304832082528335, 'Val Accuracy': 0.6876208897485493, 'Val Precision': 0.6161817473942868, 'Val Recall': 0.6876208897485493}\n"
     ]
    },
    {
     "name": "stderr",
     "output_type": "stream",
     "text": [
      "c:\\Users\\Sid\\AppData\\Local\\Programs\\Python\\Python39\\lib\\site-packages\\huggingface_hub\\file_download.py:1132: FutureWarning: `resume_download` is deprecated and will be removed in version 1.0.0. Downloads always resume when possible. If you want to force a new download, use `force_download=True`.\n",
      "  warnings.warn(\n",
      "Epoch(s):  24%|\u001b[31m██▍       \u001b[0m| 60/250 [1:49:20<5:44:57, 108.93s/it]c:\\Users\\Sid\\AppData\\Local\\Programs\\Python\\Python39\\lib\\site-packages\\sklearn\\metrics\\_classification.py:1517: UndefinedMetricWarning: Precision is ill-defined and being set to 0.0 in labels with no predicted samples. Use `zero_division` parameter to control this behavior.\n",
      "  _warn_prf(average, modifier, f\"{metric.capitalize()} is\", len(result))\n"
     ]
    },
    {
     "name": "stdout",
     "output_type": "stream",
     "text": [
      "{'Epoch': 61, 'Train Loss': 1.3741780038505909, 'Train Accuracy': 0.5108906098741529, 'Val Loss': 1.3000089030999404, 'Val Accuracy': 0.6934235976789168, 'Val Precision': 0.5842654659367097, 'Val Recall': 0.6934235976789168}\n"
     ]
    },
    {
     "name": "stderr",
     "output_type": "stream",
     "text": [
      "c:\\Users\\Sid\\AppData\\Local\\Programs\\Python\\Python39\\lib\\site-packages\\huggingface_hub\\file_download.py:1132: FutureWarning: `resume_download` is deprecated and will be removed in version 1.0.0. Downloads always resume when possible. If you want to force a new download, use `force_download=True`.\n",
      "  warnings.warn(\n",
      "Epoch(s):  24%|\u001b[31m██▍       \u001b[0m| 61/250 [1:51:09<5:43:03, 108.91s/it]c:\\Users\\Sid\\AppData\\Local\\Programs\\Python\\Python39\\lib\\site-packages\\sklearn\\metrics\\_classification.py:1517: UndefinedMetricWarning: Precision is ill-defined and being set to 0.0 in labels with no predicted samples. Use `zero_division` parameter to control this behavior.\n",
      "  _warn_prf(average, modifier, f\"{metric.capitalize()} is\", len(result))\n"
     ]
    },
    {
     "name": "stdout",
     "output_type": "stream",
     "text": [
      "{'Epoch': 62, 'Train Loss': 1.3466026902659058, 'Train Accuracy': 0.5290416263310745, 'Val Loss': 1.2717196840506333, 'Val Accuracy': 0.7050290135396519, 'Val Precision': 0.6008116366773857, 'Val Recall': 0.7050290135396519}\n"
     ]
    },
    {
     "name": "stderr",
     "output_type": "stream",
     "text": [
      "c:\\Users\\Sid\\AppData\\Local\\Programs\\Python\\Python39\\lib\\site-packages\\huggingface_hub\\file_download.py:1132: FutureWarning: `resume_download` is deprecated and will be removed in version 1.0.0. Downloads always resume when possible. If you want to force a new download, use `force_download=True`.\n",
      "  warnings.warn(\n",
      "Epoch(s):  25%|\u001b[31m██▍       \u001b[0m| 62/250 [1:52:58<5:41:26, 108.97s/it]c:\\Users\\Sid\\AppData\\Local\\Programs\\Python\\Python39\\lib\\site-packages\\sklearn\\metrics\\_classification.py:1517: UndefinedMetricWarning: Precision is ill-defined and being set to 0.0 in labels with no predicted samples. Use `zero_division` parameter to control this behavior.\n",
      "  _warn_prf(average, modifier, f\"{metric.capitalize()} is\", len(result))\n"
     ]
    },
    {
     "name": "stdout",
     "output_type": "stream",
     "text": [
      "{'Epoch': 63, 'Train Loss': 1.3258431450280443, 'Train Accuracy': 0.5496127783155856, 'Val Loss': 1.2379195277507489, 'Val Accuracy': 0.6934235976789168, 'Val Precision': 0.6065406711314348, 'Val Recall': 0.6934235976789168}\n"
     ]
    },
    {
     "name": "stderr",
     "output_type": "stream",
     "text": [
      "c:\\Users\\Sid\\AppData\\Local\\Programs\\Python\\Python39\\lib\\site-packages\\huggingface_hub\\file_download.py:1132: FutureWarning: `resume_download` is deprecated and will be removed in version 1.0.0. Downloads always resume when possible. If you want to force a new download, use `force_download=True`.\n",
      "  warnings.warn(\n",
      "Epoch(s):  25%|\u001b[31m██▌       \u001b[0m| 63/250 [1:54:47<5:39:32, 108.94s/it]c:\\Users\\Sid\\AppData\\Local\\Programs\\Python\\Python39\\lib\\site-packages\\sklearn\\metrics\\_classification.py:1517: UndefinedMetricWarning: Precision is ill-defined and being set to 0.0 in labels with no predicted samples. Use `zero_division` parameter to control this behavior.\n",
      "  _warn_prf(average, modifier, f\"{metric.capitalize()} is\", len(result))\n"
     ]
    },
    {
     "name": "stdout",
     "output_type": "stream",
     "text": [
      "{'Epoch': 64, 'Train Loss': 1.3007183498397297, 'Train Accuracy': 0.5607454017424975, 'Val Loss': 1.2105711790231557, 'Val Accuracy': 0.7108317214700194, 'Val Precision': 0.6091104597336293, 'Val Recall': 0.7108317214700194}\n"
     ]
    },
    {
     "name": "stderr",
     "output_type": "stream",
     "text": [
      "c:\\Users\\Sid\\AppData\\Local\\Programs\\Python\\Python39\\lib\\site-packages\\huggingface_hub\\file_download.py:1132: FutureWarning: `resume_download` is deprecated and will be removed in version 1.0.0. Downloads always resume when possible. If you want to force a new download, use `force_download=True`.\n",
      "  warnings.warn(\n",
      "Epoch(s):  26%|\u001b[31m██▌       \u001b[0m| 64/250 [1:56:36<5:37:45, 108.96s/it]c:\\Users\\Sid\\AppData\\Local\\Programs\\Python\\Python39\\lib\\site-packages\\sklearn\\metrics\\_classification.py:1517: UndefinedMetricWarning: Precision is ill-defined and being set to 0.0 in labels with no predicted samples. Use `zero_division` parameter to control this behavior.\n",
      "  _warn_prf(average, modifier, f\"{metric.capitalize()} is\", len(result))\n"
     ]
    },
    {
     "name": "stdout",
     "output_type": "stream",
     "text": [
      "{'Epoch': 65, 'Train Loss': 1.2663062023840355, 'Train Accuracy': 0.5895450145208132, 'Val Loss': 1.1820923951955942, 'Val Accuracy': 0.7205029013539652, 'Val Precision': 0.6582344142224168, 'Val Recall': 0.7205029013539652}\n"
     ]
    },
    {
     "name": "stderr",
     "output_type": "stream",
     "text": [
      "c:\\Users\\Sid\\AppData\\Local\\Programs\\Python\\Python39\\lib\\site-packages\\huggingface_hub\\file_download.py:1132: FutureWarning: `resume_download` is deprecated and will be removed in version 1.0.0. Downloads always resume when possible. If you want to force a new download, use `force_download=True`.\n",
      "  warnings.warn(\n",
      "Epoch(s):  26%|\u001b[31m██▌       \u001b[0m| 65/250 [1:58:24<5:35:54, 108.94s/it]c:\\Users\\Sid\\AppData\\Local\\Programs\\Python\\Python39\\lib\\site-packages\\sklearn\\metrics\\_classification.py:1517: UndefinedMetricWarning: Precision is ill-defined and being set to 0.0 in labels with no predicted samples. Use `zero_division` parameter to control this behavior.\n",
      "  _warn_prf(average, modifier, f\"{metric.capitalize()} is\", len(result))\n"
     ]
    },
    {
     "name": "stdout",
     "output_type": "stream",
     "text": [
      "{'Epoch': 66, 'Train Loss': 1.2383605209556785, 'Train Accuracy': 0.6023717328170377, 'Val Loss': 1.1507654969508831, 'Val Accuracy': 0.7292069632495164, 'Val Precision': 0.6983353653956087, 'Val Recall': 0.7292069632495164}\n"
     ]
    },
    {
     "name": "stderr",
     "output_type": "stream",
     "text": [
      "c:\\Users\\Sid\\AppData\\Local\\Programs\\Python\\Python39\\lib\\site-packages\\huggingface_hub\\file_download.py:1132: FutureWarning: `resume_download` is deprecated and will be removed in version 1.0.0. Downloads always resume when possible. If you want to force a new download, use `force_download=True`.\n",
      "  warnings.warn(\n",
      "Epoch(s):  26%|\u001b[31m██▋       \u001b[0m| 66/250 [2:00:13<5:34:04, 108.94s/it]c:\\Users\\Sid\\AppData\\Local\\Programs\\Python\\Python39\\lib\\site-packages\\sklearn\\metrics\\_classification.py:1517: UndefinedMetricWarning: Precision is ill-defined and being set to 0.0 in labels with no predicted samples. Use `zero_division` parameter to control this behavior.\n",
      "  _warn_prf(average, modifier, f\"{metric.capitalize()} is\", len(result))\n"
     ]
    },
    {
     "name": "stdout",
     "output_type": "stream",
     "text": [
      "{'Epoch': 67, 'Train Loss': 1.2144353649791144, 'Train Accuracy': 0.6202807357212003, 'Val Loss': 1.1183603323422946, 'Val Accuracy': 0.7292069632495164, 'Val Precision': 0.6205706360433657, 'Val Recall': 0.7292069632495164}\n"
     ]
    },
    {
     "name": "stderr",
     "output_type": "stream",
     "text": [
      "c:\\Users\\Sid\\AppData\\Local\\Programs\\Python\\Python39\\lib\\site-packages\\huggingface_hub\\file_download.py:1132: FutureWarning: `resume_download` is deprecated and will be removed in version 1.0.0. Downloads always resume when possible. If you want to force a new download, use `force_download=True`.\n",
      "  warnings.warn(\n",
      "Epoch(s):  27%|\u001b[31m██▋       \u001b[0m| 67/250 [2:02:02<5:32:20, 108.96s/it]c:\\Users\\Sid\\AppData\\Local\\Programs\\Python\\Python39\\lib\\site-packages\\sklearn\\metrics\\_classification.py:1517: UndefinedMetricWarning: Precision is ill-defined and being set to 0.0 in labels with no predicted samples. Use `zero_division` parameter to control this behavior.\n",
      "  _warn_prf(average, modifier, f\"{metric.capitalize()} is\", len(result))\n"
     ]
    },
    {
     "name": "stdout",
     "output_type": "stream",
     "text": [
      "{'Epoch': 68, 'Train Loss': 1.180392978274224, 'Train Accuracy': 0.6391577928363988, 'Val Loss': 1.1027998566627502, 'Val Accuracy': 0.730174081237911, 'Val Precision': 0.6548740851168718, 'Val Recall': 0.730174081237911}\n"
     ]
    },
    {
     "name": "stderr",
     "output_type": "stream",
     "text": [
      "c:\\Users\\Sid\\AppData\\Local\\Programs\\Python\\Python39\\lib\\site-packages\\huggingface_hub\\file_download.py:1132: FutureWarning: `resume_download` is deprecated and will be removed in version 1.0.0. Downloads always resume when possible. If you want to force a new download, use `force_download=True`.\n",
      "  warnings.warn(\n",
      "Epoch(s):  27%|\u001b[31m██▋       \u001b[0m| 68/250 [2:03:51<5:30:31, 108.96s/it]c:\\Users\\Sid\\AppData\\Local\\Programs\\Python\\Python39\\lib\\site-packages\\sklearn\\metrics\\_classification.py:1517: UndefinedMetricWarning: Precision is ill-defined and being set to 0.0 in labels with no predicted samples. Use `zero_division` parameter to control this behavior.\n",
      "  _warn_prf(average, modifier, f\"{metric.capitalize()} is\", len(result))\n"
     ]
    },
    {
     "name": "stdout",
     "output_type": "stream",
     "text": [
      "{'Epoch': 69, 'Train Loss': 1.1542116935188707, 'Train Accuracy': 0.6527105517909003, 'Val Loss': 1.062286719909081, 'Val Accuracy': 0.7321083172147002, 'Val Precision': 0.7129121597247857, 'Val Recall': 0.7321083172147002}\n"
     ]
    },
    {
     "name": "stderr",
     "output_type": "stream",
     "text": [
      "c:\\Users\\Sid\\AppData\\Local\\Programs\\Python\\Python39\\lib\\site-packages\\huggingface_hub\\file_download.py:1132: FutureWarning: `resume_download` is deprecated and will be removed in version 1.0.0. Downloads always resume when possible. If you want to force a new download, use `force_download=True`.\n",
      "  warnings.warn(\n",
      "Epoch(s):  28%|\u001b[31m██▊       \u001b[0m| 69/250 [2:05:40<5:28:36, 108.93s/it]c:\\Users\\Sid\\AppData\\Local\\Programs\\Python\\Python39\\lib\\site-packages\\sklearn\\metrics\\_classification.py:1517: UndefinedMetricWarning: Precision is ill-defined and being set to 0.0 in labels with no predicted samples. Use `zero_division` parameter to control this behavior.\n",
      "  _warn_prf(average, modifier, f\"{metric.capitalize()} is\", len(result))\n"
     ]
    },
    {
     "name": "stdout",
     "output_type": "stream",
     "text": [
      "{'Epoch': 70, 'Train Loss': 1.1131442919891312, 'Train Accuracy': 0.6740077444336883, 'Val Loss': 1.0255721624080951, 'Val Accuracy': 0.7369439071566731, 'Val Precision': 0.6584393444383204, 'Val Recall': 0.7369439071566731}\n"
     ]
    },
    {
     "name": "stderr",
     "output_type": "stream",
     "text": [
      "c:\\Users\\Sid\\AppData\\Local\\Programs\\Python\\Python39\\lib\\site-packages\\huggingface_hub\\file_download.py:1132: FutureWarning: `resume_download` is deprecated and will be removed in version 1.0.0. Downloads always resume when possible. If you want to force a new download, use `force_download=True`.\n",
      "  warnings.warn(\n",
      "Epoch(s):  28%|\u001b[31m██▊       \u001b[0m| 70/250 [2:07:29<5:26:55, 108.97s/it]c:\\Users\\Sid\\AppData\\Local\\Programs\\Python\\Python39\\lib\\site-packages\\sklearn\\metrics\\_classification.py:1517: UndefinedMetricWarning: Precision is ill-defined and being set to 0.0 in labels with no predicted samples. Use `zero_division` parameter to control this behavior.\n",
      "  _warn_prf(average, modifier, f\"{metric.capitalize()} is\", len(result))\n"
     ]
    },
    {
     "name": "stdout",
     "output_type": "stream",
     "text": [
      "{'Epoch': 71, 'Train Loss': 1.087383610861642, 'Train Accuracy': 0.6892545982575025, 'Val Loss': 1.0008946739710294, 'Val Accuracy': 0.7379110251450677, 'Val Precision': 0.6412029224884069, 'Val Recall': 0.7379110251450677}\n"
     ]
    },
    {
     "name": "stderr",
     "output_type": "stream",
     "text": [
      "c:\\Users\\Sid\\AppData\\Local\\Programs\\Python\\Python39\\lib\\site-packages\\huggingface_hub\\file_download.py:1132: FutureWarning: `resume_download` is deprecated and will be removed in version 1.0.0. Downloads always resume when possible. If you want to force a new download, use `force_download=True`.\n",
      "  warnings.warn(\n",
      "Epoch(s):  28%|\u001b[31m██▊       \u001b[0m| 71/250 [2:09:18<5:25:01, 108.95s/it]c:\\Users\\Sid\\AppData\\Local\\Programs\\Python\\Python39\\lib\\site-packages\\sklearn\\metrics\\_classification.py:1517: UndefinedMetricWarning: Precision is ill-defined and being set to 0.0 in labels with no predicted samples. Use `zero_division` parameter to control this behavior.\n",
      "  _warn_prf(average, modifier, f\"{metric.capitalize()} is\", len(result))\n"
     ]
    },
    {
     "name": "stdout",
     "output_type": "stream",
     "text": [
      "{'Epoch': 72, 'Train Loss': 1.0605010313186867, 'Train Accuracy': 0.6907066795740562, 'Val Loss': 0.9631562287990864, 'Val Accuracy': 0.7292069632495164, 'Val Precision': 0.6092543982736892, 'Val Recall': 0.7292069632495164}\n"
     ]
    },
    {
     "name": "stderr",
     "output_type": "stream",
     "text": [
      "c:\\Users\\Sid\\AppData\\Local\\Programs\\Python\\Python39\\lib\\site-packages\\huggingface_hub\\file_download.py:1132: FutureWarning: `resume_download` is deprecated and will be removed in version 1.0.0. Downloads always resume when possible. If you want to force a new download, use `force_download=True`.\n",
      "  warnings.warn(\n",
      "Epoch(s):  29%|\u001b[31m██▉       \u001b[0m| 72/250 [2:11:07<5:23:02, 108.89s/it]c:\\Users\\Sid\\AppData\\Local\\Programs\\Python\\Python39\\lib\\site-packages\\sklearn\\metrics\\_classification.py:1517: UndefinedMetricWarning: Precision is ill-defined and being set to 0.0 in labels with no predicted samples. Use `zero_division` parameter to control this behavior.\n",
      "  _warn_prf(average, modifier, f\"{metric.capitalize()} is\", len(result))\n"
     ]
    },
    {
     "name": "stdout",
     "output_type": "stream",
     "text": [
      "{'Epoch': 73, 'Train Loss': 1.0112917835187727, 'Train Accuracy': 0.7105517909002904, 'Val Loss': 0.9313852328520554, 'Val Accuracy': 0.7330754352030948, 'Val Precision': 0.6823362543940433, 'Val Recall': 0.7330754352030948}\n"
     ]
    },
    {
     "name": "stderr",
     "output_type": "stream",
     "text": [
      "c:\\Users\\Sid\\AppData\\Local\\Programs\\Python\\Python39\\lib\\site-packages\\huggingface_hub\\file_download.py:1132: FutureWarning: `resume_download` is deprecated and will be removed in version 1.0.0. Downloads always resume when possible. If you want to force a new download, use `force_download=True`.\n",
      "  warnings.warn(\n",
      "Epoch(s):  29%|\u001b[31m██▉       \u001b[0m| 73/250 [2:12:56<5:21:08, 108.86s/it]c:\\Users\\Sid\\AppData\\Local\\Programs\\Python\\Python39\\lib\\site-packages\\sklearn\\metrics\\_classification.py:1517: UndefinedMetricWarning: Precision is ill-defined and being set to 0.0 in labels with no predicted samples. Use `zero_division` parameter to control this behavior.\n",
      "  _warn_prf(average, modifier, f\"{metric.capitalize()} is\", len(result))\n"
     ]
    },
    {
     "name": "stdout",
     "output_type": "stream",
     "text": [
      "{'Epoch': 74, 'Train Loss': 0.9850001817274278, 'Train Accuracy': 0.7166021297192643, 'Val Loss': 0.9018996889774616, 'Val Accuracy': 0.7321083172147002, 'Val Precision': 0.6073401520345264, 'Val Recall': 0.7321083172147002}\n"
     ]
    },
    {
     "name": "stderr",
     "output_type": "stream",
     "text": [
      "c:\\Users\\Sid\\AppData\\Local\\Programs\\Python\\Python39\\lib\\site-packages\\huggingface_hub\\file_download.py:1132: FutureWarning: `resume_download` is deprecated and will be removed in version 1.0.0. Downloads always resume when possible. If you want to force a new download, use `force_download=True`.\n",
      "  warnings.warn(\n",
      "Epoch(s):  30%|\u001b[31m██▉       \u001b[0m| 74/250 [2:14:45<5:19:26, 108.90s/it]c:\\Users\\Sid\\AppData\\Local\\Programs\\Python\\Python39\\lib\\site-packages\\sklearn\\metrics\\_classification.py:1517: UndefinedMetricWarning: Precision is ill-defined and being set to 0.0 in labels with no predicted samples. Use `zero_division` parameter to control this behavior.\n",
      "  _warn_prf(average, modifier, f\"{metric.capitalize()} is\", len(result))\n"
     ]
    },
    {
     "name": "stdout",
     "output_type": "stream",
     "text": [
      "{'Epoch': 75, 'Train Loss': 0.9500524100189504, 'Train Accuracy': 0.722894482090997, 'Val Loss': 0.8709694202129658, 'Val Accuracy': 0.7524177949709865, 'Val Precision': 0.6676101790105176, 'Val Recall': 0.7524177949709865}\n"
     ]
    },
    {
     "name": "stderr",
     "output_type": "stream",
     "text": [
      "c:\\Users\\Sid\\AppData\\Local\\Programs\\Python\\Python39\\lib\\site-packages\\huggingface_hub\\file_download.py:1132: FutureWarning: `resume_download` is deprecated and will be removed in version 1.0.0. Downloads always resume when possible. If you want to force a new download, use `force_download=True`.\n",
      "  warnings.warn(\n",
      "Epoch(s):  30%|\u001b[31m███       \u001b[0m| 75/250 [2:16:34<5:17:36, 108.90s/it]c:\\Users\\Sid\\AppData\\Local\\Programs\\Python\\Python39\\lib\\site-packages\\sklearn\\metrics\\_classification.py:1517: UndefinedMetricWarning: Precision is ill-defined and being set to 0.0 in labels with no predicted samples. Use `zero_division` parameter to control this behavior.\n",
      "  _warn_prf(average, modifier, f\"{metric.capitalize()} is\", len(result))\n"
     ]
    },
    {
     "name": "stdout",
     "output_type": "stream",
     "text": [
      "{'Epoch': 76, 'Train Loss': 0.9175936147052809, 'Train Accuracy': 0.7289448209099709, 'Val Loss': 0.8460425661160396, 'Val Accuracy': 0.7369439071566731, 'Val Precision': 0.6515343988682296, 'Val Recall': 0.7369439071566731}\n"
     ]
    },
    {
     "name": "stderr",
     "output_type": "stream",
     "text": [
      "c:\\Users\\Sid\\AppData\\Local\\Programs\\Python\\Python39\\lib\\site-packages\\huggingface_hub\\file_download.py:1132: FutureWarning: `resume_download` is deprecated and will be removed in version 1.0.0. Downloads always resume when possible. If you want to force a new download, use `force_download=True`.\n",
      "  warnings.warn(\n",
      "Epoch(s):  30%|\u001b[31m███       \u001b[0m| 76/250 [2:18:22<5:15:48, 108.90s/it]c:\\Users\\Sid\\AppData\\Local\\Programs\\Python\\Python39\\lib\\site-packages\\sklearn\\metrics\\_classification.py:1517: UndefinedMetricWarning: Precision is ill-defined and being set to 0.0 in labels with no predicted samples. Use `zero_division` parameter to control this behavior.\n",
      "  _warn_prf(average, modifier, f\"{metric.capitalize()} is\", len(result))\n"
     ]
    },
    {
     "name": "stdout",
     "output_type": "stream",
     "text": [
      "{'Epoch': 77, 'Train Loss': 0.88211631234088, 'Train Accuracy': 0.7337850919651501, 'Val Loss': 0.8268523583045373, 'Val Accuracy': 0.7379110251450677, 'Val Precision': 0.6521044739697055, 'Val Recall': 0.7379110251450677}\n"
     ]
    },
    {
     "name": "stderr",
     "output_type": "stream",
     "text": [
      "c:\\Users\\Sid\\AppData\\Local\\Programs\\Python\\Python39\\lib\\site-packages\\huggingface_hub\\file_download.py:1132: FutureWarning: `resume_download` is deprecated and will be removed in version 1.0.0. Downloads always resume when possible. If you want to force a new download, use `force_download=True`.\n",
      "  warnings.warn(\n",
      "Epoch(s):  31%|\u001b[31m███       \u001b[0m| 77/250 [2:20:11<5:14:03, 108.92s/it]c:\\Users\\Sid\\AppData\\Local\\Programs\\Python\\Python39\\lib\\site-packages\\sklearn\\metrics\\_classification.py:1517: UndefinedMetricWarning: Precision is ill-defined and being set to 0.0 in labels with no predicted samples. Use `zero_division` parameter to control this behavior.\n",
      "  _warn_prf(average, modifier, f\"{metric.capitalize()} is\", len(result))\n"
     ]
    },
    {
     "name": "stdout",
     "output_type": "stream",
     "text": [
      "{'Epoch': 78, 'Train Loss': 0.8597422079920308, 'Train Accuracy': 0.7333010648596321, 'Val Loss': 0.8098572047857138, 'Val Accuracy': 0.746615087040619, 'Val Precision': 0.6794217110489786, 'Val Recall': 0.746615087040619}\n"
     ]
    },
    {
     "name": "stderr",
     "output_type": "stream",
     "text": [
      "c:\\Users\\Sid\\AppData\\Local\\Programs\\Python\\Python39\\lib\\site-packages\\huggingface_hub\\file_download.py:1132: FutureWarning: `resume_download` is deprecated and will be removed in version 1.0.0. Downloads always resume when possible. If you want to force a new download, use `force_download=True`.\n",
      "  warnings.warn(\n",
      "Epoch(s):  31%|\u001b[31m███       \u001b[0m| 78/250 [2:22:00<5:12:12, 108.91s/it]"
     ]
    },
    {
     "name": "stdout",
     "output_type": "stream",
     "text": [
      "{'Epoch': 79, 'Train Loss': 0.8304509220781474, 'Train Accuracy': 0.739593417231365, 'Val Loss': 0.7849504106319868, 'Val Accuracy': 0.7504835589941973, 'Val Precision': 0.6619688416843096, 'Val Recall': 0.7504835589941973}\n"
     ]
    },
    {
     "name": "stderr",
     "output_type": "stream",
     "text": [
      "c:\\Users\\Sid\\AppData\\Local\\Programs\\Python\\Python39\\lib\\site-packages\\huggingface_hub\\file_download.py:1132: FutureWarning: `resume_download` is deprecated and will be removed in version 1.0.0. Downloads always resume when possible. If you want to force a new download, use `force_download=True`.\n",
      "  warnings.warn(\n",
      "Epoch(s):  32%|\u001b[31m███▏      \u001b[0m| 79/250 [2:23:49<5:10:19, 108.89s/it]c:\\Users\\Sid\\AppData\\Local\\Programs\\Python\\Python39\\lib\\site-packages\\sklearn\\metrics\\_classification.py:1517: UndefinedMetricWarning: Precision is ill-defined and being set to 0.0 in labels with no predicted samples. Use `zero_division` parameter to control this behavior.\n",
      "  _warn_prf(average, modifier, f\"{metric.capitalize()} is\", len(result))\n"
     ]
    },
    {
     "name": "stdout",
     "output_type": "stream",
     "text": [
      "{'Epoch': 80, 'Train Loss': 0.8083632823122975, 'Train Accuracy': 0.7427395934172314, 'Val Loss': 0.7822911425278737, 'Val Accuracy': 0.7601547388781431, 'Val Precision': 0.6907922237796587, 'Val Recall': 0.7601547388781431}\n"
     ]
    },
    {
     "name": "stderr",
     "output_type": "stream",
     "text": [
      "c:\\Users\\Sid\\AppData\\Local\\Programs\\Python\\Python39\\lib\\site-packages\\huggingface_hub\\file_download.py:1132: FutureWarning: `resume_download` is deprecated and will be removed in version 1.0.0. Downloads always resume when possible. If you want to force a new download, use `force_download=True`.\n",
      "  warnings.warn(\n",
      "Epoch(s):  32%|\u001b[31m███▏      \u001b[0m| 80/250 [2:25:38<5:08:37, 108.93s/it]c:\\Users\\Sid\\AppData\\Local\\Programs\\Python\\Python39\\lib\\site-packages\\sklearn\\metrics\\_classification.py:1517: UndefinedMetricWarning: Precision is ill-defined and being set to 0.0 in labels with no predicted samples. Use `zero_division` parameter to control this behavior.\n",
      "  _warn_prf(average, modifier, f\"{metric.capitalize()} is\", len(result))\n"
     ]
    },
    {
     "name": "stdout",
     "output_type": "stream",
     "text": [
      "{'Epoch': 81, 'Train Loss': 0.7855286817407976, 'Train Accuracy': 0.7468538238141336, 'Val Loss': 0.753459852704635, 'Val Accuracy': 0.7437137330754352, 'Val Precision': 0.6708242995699735, 'Val Recall': 0.7437137330754352}\n"
     ]
    },
    {
     "name": "stderr",
     "output_type": "stream",
     "text": [
      "c:\\Users\\Sid\\AppData\\Local\\Programs\\Python\\Python39\\lib\\site-packages\\huggingface_hub\\file_download.py:1132: FutureWarning: `resume_download` is deprecated and will be removed in version 1.0.0. Downloads always resume when possible. If you want to force a new download, use `force_download=True`.\n",
      "  warnings.warn(\n",
      "Epoch(s):  32%|\u001b[31m███▏      \u001b[0m| 81/250 [2:27:27<5:07:06, 109.03s/it]c:\\Users\\Sid\\AppData\\Local\\Programs\\Python\\Python39\\lib\\site-packages\\sklearn\\metrics\\_classification.py:1517: UndefinedMetricWarning: Precision is ill-defined and being set to 0.0 in labels with no predicted samples. Use `zero_division` parameter to control this behavior.\n",
      "  _warn_prf(average, modifier, f\"{metric.capitalize()} is\", len(result))\n"
     ]
    },
    {
     "name": "stdout",
     "output_type": "stream",
     "text": [
      "{'Epoch': 82, 'Train Loss': 0.7669445272952203, 'Train Accuracy': 0.7480638915779284, 'Val Loss': 0.7501328876385323, 'Val Accuracy': 0.7446808510638298, 'Val Precision': 0.6759375082593746, 'Val Recall': 0.7446808510638298}\n"
     ]
    },
    {
     "name": "stderr",
     "output_type": "stream",
     "text": [
      "c:\\Users\\Sid\\AppData\\Local\\Programs\\Python\\Python39\\lib\\site-packages\\huggingface_hub\\file_download.py:1132: FutureWarning: `resume_download` is deprecated and will be removed in version 1.0.0. Downloads always resume when possible. If you want to force a new download, use `force_download=True`.\n",
      "  warnings.warn(\n",
      "Epoch(s):  33%|\u001b[31m███▎      \u001b[0m| 82/250 [2:29:16<5:05:09, 108.98s/it]c:\\Users\\Sid\\AppData\\Local\\Programs\\Python\\Python39\\lib\\site-packages\\sklearn\\metrics\\_classification.py:1517: UndefinedMetricWarning: Precision is ill-defined and being set to 0.0 in labels with no predicted samples. Use `zero_division` parameter to control this behavior.\n",
      "  _warn_prf(average, modifier, f\"{metric.capitalize()} is\", len(result))\n"
     ]
    },
    {
     "name": "stdout",
     "output_type": "stream",
     "text": [
      "{'Epoch': 83, 'Train Loss': 0.749954123352025, 'Train Accuracy': 0.7541142303969022, 'Val Loss': 0.747919996197407, 'Val Accuracy': 0.7620889748549323, 'Val Precision': 0.7382659794648613, 'Val Recall': 0.7620889748549323}\n"
     ]
    },
    {
     "name": "stderr",
     "output_type": "stream",
     "text": [
      "c:\\Users\\Sid\\AppData\\Local\\Programs\\Python\\Python39\\lib\\site-packages\\huggingface_hub\\file_download.py:1132: FutureWarning: `resume_download` is deprecated and will be removed in version 1.0.0. Downloads always resume when possible. If you want to force a new download, use `force_download=True`.\n",
      "  warnings.warn(\n",
      "Epoch(s):  33%|\u001b[31m███▎      \u001b[0m| 83/250 [2:31:05<5:03:14, 108.95s/it]c:\\Users\\Sid\\AppData\\Local\\Programs\\Python\\Python39\\lib\\site-packages\\sklearn\\metrics\\_classification.py:1517: UndefinedMetricWarning: Precision is ill-defined and being set to 0.0 in labels with no predicted samples. Use `zero_division` parameter to control this behavior.\n",
      "  _warn_prf(average, modifier, f\"{metric.capitalize()} is\", len(result))\n"
     ]
    },
    {
     "name": "stdout",
     "output_type": "stream",
     "text": [
      "{'Epoch': 84, 'Train Loss': 0.7415328094282666, 'Train Accuracy': 0.7536302032913843, 'Val Loss': 0.7202524242492823, 'Val Accuracy': 0.7620889748549323, 'Val Precision': 0.7115597514757773, 'Val Recall': 0.7620889748549323}\n"
     ]
    },
    {
     "name": "stderr",
     "output_type": "stream",
     "text": [
      "c:\\Users\\Sid\\AppData\\Local\\Programs\\Python\\Python39\\lib\\site-packages\\huggingface_hub\\file_download.py:1132: FutureWarning: `resume_download` is deprecated and will be removed in version 1.0.0. Downloads always resume when possible. If you want to force a new download, use `force_download=True`.\n",
      "  warnings.warn(\n",
      "Epoch(s):  34%|\u001b[31m███▎      \u001b[0m| 84/250 [2:32:54<5:01:23, 108.94s/it]c:\\Users\\Sid\\AppData\\Local\\Programs\\Python\\Python39\\lib\\site-packages\\sklearn\\metrics\\_classification.py:1517: UndefinedMetricWarning: Precision is ill-defined and being set to 0.0 in labels with no predicted samples. Use `zero_division` parameter to control this behavior.\n",
      "  _warn_prf(average, modifier, f\"{metric.capitalize()} is\", len(result))\n"
     ]
    },
    {
     "name": "stdout",
     "output_type": "stream",
     "text": [
      "{'Epoch': 85, 'Train Loss': 0.7171333988833611, 'Train Accuracy': 0.7567763794772507, 'Val Loss': 0.7186903421695415, 'Val Accuracy': 0.7678916827852998, 'Val Precision': 0.7259312721123738, 'Val Recall': 0.7678916827852998}\n"
     ]
    },
    {
     "name": "stderr",
     "output_type": "stream",
     "text": [
      "c:\\Users\\Sid\\AppData\\Local\\Programs\\Python\\Python39\\lib\\site-packages\\huggingface_hub\\file_download.py:1132: FutureWarning: `resume_download` is deprecated and will be removed in version 1.0.0. Downloads always resume when possible. If you want to force a new download, use `force_download=True`.\n",
      "  warnings.warn(\n",
      "Epoch(s):  34%|\u001b[31m███▍      \u001b[0m| 85/250 [2:34:43<4:59:34, 108.94s/it]c:\\Users\\Sid\\AppData\\Local\\Programs\\Python\\Python39\\lib\\site-packages\\sklearn\\metrics\\_classification.py:1517: UndefinedMetricWarning: Precision is ill-defined and being set to 0.0 in labels with no predicted samples. Use `zero_division` parameter to control this behavior.\n",
      "  _warn_prf(average, modifier, f\"{metric.capitalize()} is\", len(result))\n"
     ]
    },
    {
     "name": "stdout",
     "output_type": "stream",
     "text": [
      "{'Epoch': 86, 'Train Loss': 0.7118466452742175, 'Train Accuracy': 0.7621006776379478, 'Val Loss': 0.695169277374561, 'Val Accuracy': 0.776595744680851, 'Val Precision': 0.7188969304097458, 'Val Recall': 0.776595744680851}\n"
     ]
    },
    {
     "name": "stderr",
     "output_type": "stream",
     "text": [
      "c:\\Users\\Sid\\AppData\\Local\\Programs\\Python\\Python39\\lib\\site-packages\\huggingface_hub\\file_download.py:1132: FutureWarning: `resume_download` is deprecated and will be removed in version 1.0.0. Downloads always resume when possible. If you want to force a new download, use `force_download=True`.\n",
      "  warnings.warn(\n",
      "Epoch(s):  34%|\u001b[31m███▍      \u001b[0m| 86/250 [2:36:32<4:57:40, 108.91s/it]c:\\Users\\Sid\\AppData\\Local\\Programs\\Python\\Python39\\lib\\site-packages\\sklearn\\metrics\\_classification.py:1517: UndefinedMetricWarning: Precision is ill-defined and being set to 0.0 in labels with no predicted samples. Use `zero_division` parameter to control this behavior.\n",
      "  _warn_prf(average, modifier, f\"{metric.capitalize()} is\", len(result))\n"
     ]
    },
    {
     "name": "stdout",
     "output_type": "stream",
     "text": [
      "{'Epoch': 87, 'Train Loss': 0.689731938268227, 'Train Accuracy': 0.7666989351403679, 'Val Loss': 0.6874507117729921, 'Val Accuracy': 0.7736943907156673, 'Val Precision': 0.7523027873399485, 'Val Recall': 0.7736943907156673}\n"
     ]
    },
    {
     "name": "stderr",
     "output_type": "stream",
     "text": [
      "c:\\Users\\Sid\\AppData\\Local\\Programs\\Python\\Python39\\lib\\site-packages\\huggingface_hub\\file_download.py:1132: FutureWarning: `resume_download` is deprecated and will be removed in version 1.0.0. Downloads always resume when possible. If you want to force a new download, use `force_download=True`.\n",
      "  warnings.warn(\n",
      "Epoch(s):  35%|\u001b[31m███▍      \u001b[0m| 87/250 [2:38:21<4:55:59, 108.96s/it]c:\\Users\\Sid\\AppData\\Local\\Programs\\Python\\Python39\\lib\\site-packages\\sklearn\\metrics\\_classification.py:1517: UndefinedMetricWarning: Precision is ill-defined and being set to 0.0 in labels with no predicted samples. Use `zero_division` parameter to control this behavior.\n",
      "  _warn_prf(average, modifier, f\"{metric.capitalize()} is\", len(result))\n"
     ]
    },
    {
     "name": "stdout",
     "output_type": "stream",
     "text": [
      "{'Epoch': 88, 'Train Loss': 0.6843595421912587, 'Train Accuracy': 0.7696030977734754, 'Val Loss': 0.6807044554215211, 'Val Accuracy': 0.7727272727272727, 'Val Precision': 0.7338974305769594, 'Val Recall': 0.7727272727272727}\n"
     ]
    },
    {
     "name": "stderr",
     "output_type": "stream",
     "text": [
      "c:\\Users\\Sid\\AppData\\Local\\Programs\\Python\\Python39\\lib\\site-packages\\huggingface_hub\\file_download.py:1132: FutureWarning: `resume_download` is deprecated and will be removed in version 1.0.0. Downloads always resume when possible. If you want to force a new download, use `force_download=True`.\n",
      "  warnings.warn(\n",
      "Epoch(s):  35%|\u001b[31m███▌      \u001b[0m| 88/250 [2:40:10<4:54:07, 108.93s/it]c:\\Users\\Sid\\AppData\\Local\\Programs\\Python\\Python39\\lib\\site-packages\\sklearn\\metrics\\_classification.py:1517: UndefinedMetricWarning: Precision is ill-defined and being set to 0.0 in labels with no predicted samples. Use `zero_division` parameter to control this behavior.\n",
      "  _warn_prf(average, modifier, f\"{metric.capitalize()} is\", len(result))\n"
     ]
    },
    {
     "name": "stdout",
     "output_type": "stream",
     "text": [
      "{'Epoch': 89, 'Train Loss': 0.6761930154557394, 'Train Accuracy': 0.7729912875121007, 'Val Loss': 0.6605905292125849, 'Val Accuracy': 0.7804642166344294, 'Val Precision': 0.735357942568739, 'Val Recall': 0.7804642166344294}\n"
     ]
    },
    {
     "name": "stderr",
     "output_type": "stream",
     "text": [
      "c:\\Users\\Sid\\AppData\\Local\\Programs\\Python\\Python39\\lib\\site-packages\\huggingface_hub\\file_download.py:1132: FutureWarning: `resume_download` is deprecated and will be removed in version 1.0.0. Downloads always resume when possible. If you want to force a new download, use `force_download=True`.\n",
      "  warnings.warn(\n",
      "Epoch(s):  36%|\u001b[31m███▌      \u001b[0m| 89/250 [2:41:59<4:52:19, 108.94s/it]c:\\Users\\Sid\\AppData\\Local\\Programs\\Python\\Python39\\lib\\site-packages\\sklearn\\metrics\\_classification.py:1517: UndefinedMetricWarning: Precision is ill-defined and being set to 0.0 in labels with no predicted samples. Use `zero_division` parameter to control this behavior.\n",
      "  _warn_prf(average, modifier, f\"{metric.capitalize()} is\", len(result))\n"
     ]
    },
    {
     "name": "stdout",
     "output_type": "stream",
     "text": [
      "{'Epoch': 90, 'Train Loss': 0.6563453786506616, 'Train Accuracy': 0.7792836398838335, 'Val Loss': 0.6551934838294983, 'Val Accuracy': 0.7785299806576402, 'Val Precision': 0.7229512136293805, 'Val Recall': 0.7785299806576402}\n"
     ]
    },
    {
     "name": "stderr",
     "output_type": "stream",
     "text": [
      "c:\\Users\\Sid\\AppData\\Local\\Programs\\Python\\Python39\\lib\\site-packages\\huggingface_hub\\file_download.py:1132: FutureWarning: `resume_download` is deprecated and will be removed in version 1.0.0. Downloads always resume when possible. If you want to force a new download, use `force_download=True`.\n",
      "  warnings.warn(\n",
      "Epoch(s):  36%|\u001b[31m███▌      \u001b[0m| 90/250 [2:43:48<4:50:35, 108.97s/it]c:\\Users\\Sid\\AppData\\Local\\Programs\\Python\\Python39\\lib\\site-packages\\sklearn\\metrics\\_classification.py:1517: UndefinedMetricWarning: Precision is ill-defined and being set to 0.0 in labels with no predicted samples. Use `zero_division` parameter to control this behavior.\n",
      "  _warn_prf(average, modifier, f\"{metric.capitalize()} is\", len(result))\n"
     ]
    },
    {
     "name": "stdout",
     "output_type": "stream",
     "text": [
      "{'Epoch': 91, 'Train Loss': 0.6424291866856653, 'Train Accuracy': 0.7836398838334947, 'Val Loss': 0.6323355628893925, 'Val Accuracy': 0.7949709864603481, 'Val Precision': 0.7517576891459165, 'Val Recall': 0.7949709864603481}\n"
     ]
    },
    {
     "name": "stderr",
     "output_type": "stream",
     "text": [
      "c:\\Users\\Sid\\AppData\\Local\\Programs\\Python\\Python39\\lib\\site-packages\\huggingface_hub\\file_download.py:1132: FutureWarning: `resume_download` is deprecated and will be removed in version 1.0.0. Downloads always resume when possible. If you want to force a new download, use `force_download=True`.\n",
      "  warnings.warn(\n",
      "Epoch(s):  36%|\u001b[31m███▋      \u001b[0m| 91/250 [2:45:37<4:48:50, 109.00s/it]c:\\Users\\Sid\\AppData\\Local\\Programs\\Python\\Python39\\lib\\site-packages\\sklearn\\metrics\\_classification.py:1517: UndefinedMetricWarning: Precision is ill-defined and being set to 0.0 in labels with no predicted samples. Use `zero_division` parameter to control this behavior.\n",
      "  _warn_prf(average, modifier, f\"{metric.capitalize()} is\", len(result))\n"
     ]
    },
    {
     "name": "stdout",
     "output_type": "stream",
     "text": [
      "{'Epoch': 92, 'Train Loss': 0.6330078307208408, 'Train Accuracy': 0.7831558567279767, 'Val Loss': 0.6271217621289766, 'Val Accuracy': 0.7872340425531915, 'Val Precision': 0.7402226820749547, 'Val Recall': 0.7872340425531915}\n"
     ]
    },
    {
     "name": "stderr",
     "output_type": "stream",
     "text": [
      "c:\\Users\\Sid\\AppData\\Local\\Programs\\Python\\Python39\\lib\\site-packages\\huggingface_hub\\file_download.py:1132: FutureWarning: `resume_download` is deprecated and will be removed in version 1.0.0. Downloads always resume when possible. If you want to force a new download, use `force_download=True`.\n",
      "  warnings.warn(\n",
      "Epoch(s):  37%|\u001b[31m███▋      \u001b[0m| 92/250 [2:47:26<4:46:54, 108.95s/it]c:\\Users\\Sid\\AppData\\Local\\Programs\\Python\\Python39\\lib\\site-packages\\sklearn\\metrics\\_classification.py:1517: UndefinedMetricWarning: Precision is ill-defined and being set to 0.0 in labels with no predicted samples. Use `zero_division` parameter to control this behavior.\n",
      "  _warn_prf(average, modifier, f\"{metric.capitalize()} is\", len(result))\n"
     ]
    },
    {
     "name": "stdout",
     "output_type": "stream",
     "text": [
      "{'Epoch': 93, 'Train Loss': 0.6269090892783002, 'Train Accuracy': 0.7877541142303969, 'Val Loss': 0.6202658458397938, 'Val Accuracy': 0.7969052224371374, 'Val Precision': 0.7658824915156056, 'Val Recall': 0.7969052224371374}\n"
     ]
    },
    {
     "name": "stderr",
     "output_type": "stream",
     "text": [
      "c:\\Users\\Sid\\AppData\\Local\\Programs\\Python\\Python39\\lib\\site-packages\\huggingface_hub\\file_download.py:1132: FutureWarning: `resume_download` is deprecated and will be removed in version 1.0.0. Downloads always resume when possible. If you want to force a new download, use `force_download=True`.\n",
      "  warnings.warn(\n",
      "Epoch(s):  37%|\u001b[31m███▋      \u001b[0m| 93/250 [2:49:15<4:45:04, 108.95s/it]c:\\Users\\Sid\\AppData\\Local\\Programs\\Python\\Python39\\lib\\site-packages\\sklearn\\metrics\\_classification.py:1517: UndefinedMetricWarning: Precision is ill-defined and being set to 0.0 in labels with no predicted samples. Use `zero_division` parameter to control this behavior.\n",
      "  _warn_prf(average, modifier, f\"{metric.capitalize()} is\", len(result))\n"
     ]
    },
    {
     "name": "stdout",
     "output_type": "stream",
     "text": [
      "{'Epoch': 94, 'Train Loss': 0.6167863614022961, 'Train Accuracy': 0.7884801548886737, 'Val Loss': 0.6146692071969693, 'Val Accuracy': 0.7823984526112185, 'Val Precision': 0.7736646044918406, 'Val Recall': 0.7823984526112185}\n"
     ]
    },
    {
     "name": "stderr",
     "output_type": "stream",
     "text": [
      "c:\\Users\\Sid\\AppData\\Local\\Programs\\Python\\Python39\\lib\\site-packages\\huggingface_hub\\file_download.py:1132: FutureWarning: `resume_download` is deprecated and will be removed in version 1.0.0. Downloads always resume when possible. If you want to force a new download, use `force_download=True`.\n",
      "  warnings.warn(\n",
      "Epoch(s):  38%|\u001b[31m███▊      \u001b[0m| 94/250 [2:51:03<4:43:08, 108.90s/it]c:\\Users\\Sid\\AppData\\Local\\Programs\\Python\\Python39\\lib\\site-packages\\sklearn\\metrics\\_classification.py:1517: UndefinedMetricWarning: Precision is ill-defined and being set to 0.0 in labels with no predicted samples. Use `zero_division` parameter to control this behavior.\n",
      "  _warn_prf(average, modifier, f\"{metric.capitalize()} is\", len(result))\n",
      "c:\\Users\\Sid\\AppData\\Local\\Programs\\Python\\Python39\\lib\\site-packages\\peft\\utils\\other.py:611: UserWarning: Unable to fetch remote file due to the following error (ProtocolError('Connection aborted.', ConnectionResetError(10054, 'An existing connection was forcibly closed by the remote host', None, 10054, None)), '(Request ID: a59c743f-cc7b-41b0-b706-38525f424b74)') - silently ignoring the lookup for the file config.json in google/mobilebert-uncased.\n",
      "  warnings.warn(\n",
      "c:\\Users\\Sid\\AppData\\Local\\Programs\\Python\\Python39\\lib\\site-packages\\peft\\utils\\save_and_load.py:195: UserWarning: Could not find a config file in google/mobilebert-uncased - will assume that the vocabulary was not modified.\n",
      "  warnings.warn(\n",
      "Epoch(s):  38%|\u001b[31m███▊      \u001b[0m| 95/250 [2:52:52<4:40:53, 108.73s/it]"
     ]
    },
    {
     "name": "stdout",
     "output_type": "stream",
     "text": [
      "{'Epoch': 95, 'Train Loss': 0.6017121633939071, 'Train Accuracy': 0.797918683446273, 'Val Loss': 0.6015240176365926, 'Val Accuracy': 0.7882011605415861, 'Val Precision': 0.742508944449859, 'Val Recall': 0.7882011605415861}\n"
     ]
    },
    {
     "name": "stderr",
     "output_type": "stream",
     "text": [
      "c:\\Users\\Sid\\AppData\\Local\\Programs\\Python\\Python39\\lib\\site-packages\\sklearn\\metrics\\_classification.py:1517: UndefinedMetricWarning: Precision is ill-defined and being set to 0.0 in labels with no predicted samples. Use `zero_division` parameter to control this behavior.\n",
      "  _warn_prf(average, modifier, f\"{metric.capitalize()} is\", len(result))\n"
     ]
    },
    {
     "name": "stdout",
     "output_type": "stream",
     "text": [
      "{'Epoch': 96, 'Train Loss': 0.5975415471035082, 'Train Accuracy': 0.7940464666021297, 'Val Loss': 0.6221641667760336, 'Val Accuracy': 0.7852998065764023, 'Val Precision': 0.7176282812439212, 'Val Recall': 0.7852998065764023}\n"
     ]
    },
    {
     "name": "stderr",
     "output_type": "stream",
     "text": [
      "c:\\Users\\Sid\\AppData\\Local\\Programs\\Python\\Python39\\lib\\site-packages\\huggingface_hub\\file_download.py:1132: FutureWarning: `resume_download` is deprecated and will be removed in version 1.0.0. Downloads always resume when possible. If you want to force a new download, use `force_download=True`.\n",
      "  warnings.warn(\n",
      "Epoch(s):  38%|\u001b[31m███▊      \u001b[0m| 96/250 [2:54:41<4:39:17, 108.82s/it]c:\\Users\\Sid\\AppData\\Local\\Programs\\Python\\Python39\\lib\\site-packages\\sklearn\\metrics\\_classification.py:1517: UndefinedMetricWarning: Precision is ill-defined and being set to 0.0 in labels with no predicted samples. Use `zero_division` parameter to control this behavior.\n",
      "  _warn_prf(average, modifier, f\"{metric.capitalize()} is\", len(result))\n"
     ]
    },
    {
     "name": "stdout",
     "output_type": "stream",
     "text": [
      "{'Epoch': 97, 'Train Loss': 0.588014441279831, 'Train Accuracy': 0.8039690222652468, 'Val Loss': 0.5861716699141722, 'Val Accuracy': 0.7940038684719536, 'Val Precision': 0.7602670364913298, 'Val Recall': 0.7940038684719536}\n"
     ]
    },
    {
     "name": "stderr",
     "output_type": "stream",
     "text": [
      "c:\\Users\\Sid\\AppData\\Local\\Programs\\Python\\Python39\\lib\\site-packages\\huggingface_hub\\file_download.py:1132: FutureWarning: `resume_download` is deprecated and will be removed in version 1.0.0. Downloads always resume when possible. If you want to force a new download, use `force_download=True`.\n",
      "  warnings.warn(\n",
      "Epoch(s):  39%|\u001b[31m███▉      \u001b[0m| 97/250 [2:56:30<4:37:38, 108.88s/it]c:\\Users\\Sid\\AppData\\Local\\Programs\\Python\\Python39\\lib\\site-packages\\sklearn\\metrics\\_classification.py:1517: UndefinedMetricWarning: Precision is ill-defined and being set to 0.0 in labels with no predicted samples. Use `zero_division` parameter to control this behavior.\n",
      "  _warn_prf(average, modifier, f\"{metric.capitalize()} is\", len(result))\n"
     ]
    },
    {
     "name": "stdout",
     "output_type": "stream",
     "text": [
      "{'Epoch': 98, 'Train Loss': 0.5758149443863096, 'Train Accuracy': 0.8056631171345595, 'Val Loss': 0.5882426515221596, 'Val Accuracy': 0.7891682785299806, 'Val Precision': 0.7571281829938971, 'Val Recall': 0.7891682785299806}\n"
     ]
    },
    {
     "name": "stderr",
     "output_type": "stream",
     "text": [
      "c:\\Users\\Sid\\AppData\\Local\\Programs\\Python\\Python39\\lib\\site-packages\\huggingface_hub\\file_download.py:1132: FutureWarning: `resume_download` is deprecated and will be removed in version 1.0.0. Downloads always resume when possible. If you want to force a new download, use `force_download=True`.\n",
      "  warnings.warn(\n",
      "Epoch(s):  39%|\u001b[31m███▉      \u001b[0m| 98/250 [2:58:19<4:35:51, 108.89s/it]c:\\Users\\Sid\\AppData\\Local\\Programs\\Python\\Python39\\lib\\site-packages\\sklearn\\metrics\\_classification.py:1517: UndefinedMetricWarning: Precision is ill-defined and being set to 0.0 in labels with no predicted samples. Use `zero_division` parameter to control this behavior.\n",
      "  _warn_prf(average, modifier, f\"{metric.capitalize()} is\", len(result))\n"
     ]
    },
    {
     "name": "stdout",
     "output_type": "stream",
     "text": [
      "{'Epoch': 99, 'Train Loss': 0.5718309500912729, 'Train Accuracy': 0.8061471442400775, 'Val Loss': 0.6013485949773055, 'Val Accuracy': 0.7804642166344294, 'Val Precision': 0.7497270856577347, 'Val Recall': 0.7804642166344294}\n"
     ]
    },
    {
     "name": "stderr",
     "output_type": "stream",
     "text": [
      "c:\\Users\\Sid\\AppData\\Local\\Programs\\Python\\Python39\\lib\\site-packages\\huggingface_hub\\file_download.py:1132: FutureWarning: `resume_download` is deprecated and will be removed in version 1.0.0. Downloads always resume when possible. If you want to force a new download, use `force_download=True`.\n",
      "  warnings.warn(\n",
      "Epoch(s):  40%|\u001b[31m███▉      \u001b[0m| 99/250 [3:00:08<4:34:01, 108.88s/it]c:\\Users\\Sid\\AppData\\Local\\Programs\\Python\\Python39\\lib\\site-packages\\sklearn\\metrics\\_classification.py:1517: UndefinedMetricWarning: Precision is ill-defined and being set to 0.0 in labels with no predicted samples. Use `zero_division` parameter to control this behavior.\n",
      "  _warn_prf(average, modifier, f\"{metric.capitalize()} is\", len(result))\n"
     ]
    },
    {
     "name": "stdout",
     "output_type": "stream",
     "text": [
      "{'Epoch': 100, 'Train Loss': 0.5542721799556813, 'Train Accuracy': 0.808567279767667, 'Val Loss': 0.5854494281686269, 'Val Accuracy': 0.7949709864603481, 'Val Precision': 0.7744414207739286, 'Val Recall': 0.7949709864603481}\n"
     ]
    },
    {
     "name": "stderr",
     "output_type": "stream",
     "text": [
      "c:\\Users\\Sid\\AppData\\Local\\Programs\\Python\\Python39\\lib\\site-packages\\huggingface_hub\\file_download.py:1132: FutureWarning: `resume_download` is deprecated and will be removed in version 1.0.0. Downloads always resume when possible. If you want to force a new download, use `force_download=True`.\n",
      "  warnings.warn(\n",
      "Epoch(s):  40%|\u001b[31m████      \u001b[0m| 100/250 [3:01:57<4:32:17, 108.92s/it]c:\\Users\\Sid\\AppData\\Local\\Programs\\Python\\Python39\\lib\\site-packages\\sklearn\\metrics\\_classification.py:1517: UndefinedMetricWarning: Precision is ill-defined and being set to 0.0 in labels with no predicted samples. Use `zero_division` parameter to control this behavior.\n",
      "  _warn_prf(average, modifier, f\"{metric.capitalize()} is\", len(result))\n"
     ]
    },
    {
     "name": "stdout",
     "output_type": "stream",
     "text": [
      "{'Epoch': 101, 'Train Loss': 0.5545928250983875, 'Train Accuracy': 0.8105033881897387, 'Val Loss': 0.5860075808488405, 'Val Accuracy': 0.7891682785299806, 'Val Precision': 0.7331149158416279, 'Val Recall': 0.7891682785299806}\n"
     ]
    },
    {
     "name": "stderr",
     "output_type": "stream",
     "text": [
      "c:\\Users\\Sid\\AppData\\Local\\Programs\\Python\\Python39\\lib\\site-packages\\huggingface_hub\\file_download.py:1132: FutureWarning: `resume_download` is deprecated and will be removed in version 1.0.0. Downloads always resume when possible. If you want to force a new download, use `force_download=True`.\n",
      "  warnings.warn(\n",
      "Epoch(s):  40%|\u001b[31m████      \u001b[0m| 101/250 [3:03:46<4:30:28, 108.92s/it]c:\\Users\\Sid\\AppData\\Local\\Programs\\Python\\Python39\\lib\\site-packages\\sklearn\\metrics\\_classification.py:1517: UndefinedMetricWarning: Precision is ill-defined and being set to 0.0 in labels with no predicted samples. Use `zero_division` parameter to control this behavior.\n",
      "  _warn_prf(average, modifier, f\"{metric.capitalize()} is\", len(result))\n"
     ]
    },
    {
     "name": "stdout",
     "output_type": "stream",
     "text": [
      "{'Epoch': 102, 'Train Loss': 0.5435531872349817, 'Train Accuracy': 0.8155856727976767, 'Val Loss': 0.591650135242022, 'Val Accuracy': 0.7872340425531915, 'Val Precision': 0.7961290023249434, 'Val Recall': 0.7872340425531915}\n"
     ]
    },
    {
     "name": "stderr",
     "output_type": "stream",
     "text": [
      "c:\\Users\\Sid\\AppData\\Local\\Programs\\Python\\Python39\\lib\\site-packages\\huggingface_hub\\file_download.py:1132: FutureWarning: `resume_download` is deprecated and will be removed in version 1.0.0. Downloads always resume when possible. If you want to force a new download, use `force_download=True`.\n",
      "  warnings.warn(\n",
      "Epoch(s):  41%|\u001b[31m████      \u001b[0m| 102/250 [3:05:34<4:28:32, 108.87s/it]c:\\Users\\Sid\\AppData\\Local\\Programs\\Python\\Python39\\lib\\site-packages\\sklearn\\metrics\\_classification.py:1517: UndefinedMetricWarning: Precision is ill-defined and being set to 0.0 in labels with no predicted samples. Use `zero_division` parameter to control this behavior.\n",
      "  _warn_prf(average, modifier, f\"{metric.capitalize()} is\", len(result))\n"
     ]
    },
    {
     "name": "stdout",
     "output_type": "stream",
     "text": [
      "{'Epoch': 103, 'Train Loss': 0.5356185223087381, 'Train Accuracy': 0.8196999031945789, 'Val Loss': 0.5541331758865944, 'Val Accuracy': 0.7978723404255319, 'Val Precision': 0.7622595183969412, 'Val Recall': 0.7978723404255319}\n"
     ]
    },
    {
     "name": "stderr",
     "output_type": "stream",
     "text": [
      "c:\\Users\\Sid\\AppData\\Local\\Programs\\Python\\Python39\\lib\\site-packages\\huggingface_hub\\file_download.py:1132: FutureWarning: `resume_download` is deprecated and will be removed in version 1.0.0. Downloads always resume when possible. If you want to force a new download, use `force_download=True`.\n",
      "  warnings.warn(\n",
      "Epoch(s):  41%|\u001b[31m████      \u001b[0m| 103/250 [3:07:24<4:27:05, 109.02s/it]c:\\Users\\Sid\\AppData\\Local\\Programs\\Python\\Python39\\lib\\site-packages\\sklearn\\metrics\\_classification.py:1517: UndefinedMetricWarning: Precision is ill-defined and being set to 0.0 in labels with no predicted samples. Use `zero_division` parameter to control this behavior.\n",
      "  _warn_prf(average, modifier, f\"{metric.capitalize()} is\", len(result))\n"
     ]
    },
    {
     "name": "stdout",
     "output_type": "stream",
     "text": [
      "{'Epoch': 104, 'Train Loss': 0.5260743264065746, 'Train Accuracy': 0.8184898354307841, 'Val Loss': 0.5494248680197276, 'Val Accuracy': 0.804642166344294, 'Val Precision': 0.7566274214746793, 'Val Recall': 0.804642166344294}\n"
     ]
    },
    {
     "name": "stderr",
     "output_type": "stream",
     "text": [
      "c:\\Users\\Sid\\AppData\\Local\\Programs\\Python\\Python39\\lib\\site-packages\\huggingface_hub\\file_download.py:1132: FutureWarning: `resume_download` is deprecated and will be removed in version 1.0.0. Downloads always resume when possible. If you want to force a new download, use `force_download=True`.\n",
      "  warnings.warn(\n",
      "Epoch(s):  42%|\u001b[31m████▏     \u001b[0m| 104/250 [3:09:13<4:25:10, 108.98s/it]c:\\Users\\Sid\\AppData\\Local\\Programs\\Python\\Python39\\lib\\site-packages\\sklearn\\metrics\\_classification.py:1517: UndefinedMetricWarning: Precision is ill-defined and being set to 0.0 in labels with no predicted samples. Use `zero_division` parameter to control this behavior.\n",
      "  _warn_prf(average, modifier, f\"{metric.capitalize()} is\", len(result))\n"
     ]
    },
    {
     "name": "stdout",
     "output_type": "stream",
     "text": [
      "{'Epoch': 105, 'Train Loss': 0.5122620688327031, 'Train Accuracy': 0.8167957405614714, 'Val Loss': 0.5553458933646862, 'Val Accuracy': 0.7911025145067698, 'Val Precision': 0.7637769396960933, 'Val Recall': 0.7911025145067698}\n"
     ]
    },
    {
     "name": "stderr",
     "output_type": "stream",
     "text": [
      "c:\\Users\\Sid\\AppData\\Local\\Programs\\Python\\Python39\\lib\\site-packages\\huggingface_hub\\file_download.py:1132: FutureWarning: `resume_download` is deprecated and will be removed in version 1.0.0. Downloads always resume when possible. If you want to force a new download, use `force_download=True`.\n",
      "  warnings.warn(\n",
      "Epoch(s):  42%|\u001b[31m████▏     \u001b[0m| 105/250 [3:11:01<4:23:19, 108.96s/it]c:\\Users\\Sid\\AppData\\Local\\Programs\\Python\\Python39\\lib\\site-packages\\sklearn\\metrics\\_classification.py:1517: UndefinedMetricWarning: Precision is ill-defined and being set to 0.0 in labels with no predicted samples. Use `zero_division` parameter to control this behavior.\n",
      "  _warn_prf(average, modifier, f\"{metric.capitalize()} is\", len(result))\n"
     ]
    },
    {
     "name": "stdout",
     "output_type": "stream",
     "text": [
      "{'Epoch': 106, 'Train Loss': 0.5111715915724347, 'Train Accuracy': 0.8252662149080349, 'Val Loss': 0.5572177411271976, 'Val Accuracy': 0.7852998065764023, 'Val Precision': 0.7786042193111938, 'Val Recall': 0.7852998065764023}\n"
     ]
    },
    {
     "name": "stderr",
     "output_type": "stream",
     "text": [
      "c:\\Users\\Sid\\AppData\\Local\\Programs\\Python\\Python39\\lib\\site-packages\\huggingface_hub\\file_download.py:1132: FutureWarning: `resume_download` is deprecated and will be removed in version 1.0.0. Downloads always resume when possible. If you want to force a new download, use `force_download=True`.\n",
      "  warnings.warn(\n",
      "Epoch(s):  42%|\u001b[31m████▏     \u001b[0m| 106/250 [3:12:50<4:21:22, 108.91s/it]c:\\Users\\Sid\\AppData\\Local\\Programs\\Python\\Python39\\lib\\site-packages\\sklearn\\metrics\\_classification.py:1517: UndefinedMetricWarning: Precision is ill-defined and being set to 0.0 in labels with no predicted samples. Use `zero_division` parameter to control this behavior.\n",
      "  _warn_prf(average, modifier, f\"{metric.capitalize()} is\", len(result))\n"
     ]
    },
    {
     "name": "stdout",
     "output_type": "stream",
     "text": [
      "{'Epoch': 107, 'Train Loss': 0.5095180765838941, 'Train Accuracy': 0.8216360116166506, 'Val Loss': 0.569098989550884, 'Val Accuracy': 0.7911025145067698, 'Val Precision': 0.7429986983871631, 'Val Recall': 0.7911025145067698}\n"
     ]
    },
    {
     "name": "stderr",
     "output_type": "stream",
     "text": [
      "c:\\Users\\Sid\\AppData\\Local\\Programs\\Python\\Python39\\lib\\site-packages\\huggingface_hub\\file_download.py:1132: FutureWarning: `resume_download` is deprecated and will be removed in version 1.0.0. Downloads always resume when possible. If you want to force a new download, use `force_download=True`.\n",
      "  warnings.warn(\n",
      "Epoch(s):  43%|\u001b[31m████▎     \u001b[0m| 107/250 [3:14:39<4:19:34, 108.91s/it]c:\\Users\\Sid\\AppData\\Local\\Programs\\Python\\Python39\\lib\\site-packages\\sklearn\\metrics\\_classification.py:1517: UndefinedMetricWarning: Precision is ill-defined and being set to 0.0 in labels with no predicted samples. Use `zero_division` parameter to control this behavior.\n",
      "  _warn_prf(average, modifier, f\"{metric.capitalize()} is\", len(result))\n"
     ]
    },
    {
     "name": "stdout",
     "output_type": "stream",
     "text": [
      "{'Epoch': 108, 'Train Loss': 0.49811672080221897, 'Train Accuracy': 0.8313165537270087, 'Val Loss': 0.5386643821230301, 'Val Accuracy': 0.7969052224371374, 'Val Precision': 0.7865652493675709, 'Val Recall': 0.7969052224371374}\n"
     ]
    },
    {
     "name": "stderr",
     "output_type": "stream",
     "text": [
      "c:\\Users\\Sid\\AppData\\Local\\Programs\\Python\\Python39\\lib\\site-packages\\huggingface_hub\\file_download.py:1132: FutureWarning: `resume_download` is deprecated and will be removed in version 1.0.0. Downloads always resume when possible. If you want to force a new download, use `force_download=True`.\n",
      "  warnings.warn(\n",
      "Epoch(s):  43%|\u001b[31m████▎     \u001b[0m| 108/250 [3:16:28<4:17:45, 108.91s/it]c:\\Users\\Sid\\AppData\\Local\\Programs\\Python\\Python39\\lib\\site-packages\\sklearn\\metrics\\_classification.py:1517: UndefinedMetricWarning: Precision is ill-defined and being set to 0.0 in labels with no predicted samples. Use `zero_division` parameter to control this behavior.\n",
      "  _warn_prf(average, modifier, f\"{metric.capitalize()} is\", len(result))\n"
     ]
    },
    {
     "name": "stdout",
     "output_type": "stream",
     "text": [
      "{'Epoch': 109, 'Train Loss': 0.49263971035717535, 'Train Accuracy': 0.829864472410455, 'Val Loss': 0.5262886328192857, 'Val Accuracy': 0.8056092843326886, 'Val Precision': 0.805734084173457, 'Val Recall': 0.8056092843326886}\n"
     ]
    },
    {
     "name": "stderr",
     "output_type": "stream",
     "text": [
      "c:\\Users\\Sid\\AppData\\Local\\Programs\\Python\\Python39\\lib\\site-packages\\huggingface_hub\\file_download.py:1132: FutureWarning: `resume_download` is deprecated and will be removed in version 1.0.0. Downloads always resume when possible. If you want to force a new download, use `force_download=True`.\n",
      "  warnings.warn(\n",
      "Epoch(s):  44%|\u001b[31m████▎     \u001b[0m| 109/250 [3:18:17<4:16:11, 109.02s/it]"
     ]
    },
    {
     "name": "stdout",
     "output_type": "stream",
     "text": [
      "{'Epoch': 110, 'Train Loss': 0.48741245684016166, 'Train Accuracy': 0.8344627299128751, 'Val Loss': 0.5163443160744814, 'Val Accuracy': 0.8085106382978723, 'Val Precision': 0.7987634973709752, 'Val Recall': 0.8085106382978723}\n"
     ]
    },
    {
     "name": "stderr",
     "output_type": "stream",
     "text": [
      "c:\\Users\\Sid\\AppData\\Local\\Programs\\Python\\Python39\\lib\\site-packages\\huggingface_hub\\file_download.py:1132: FutureWarning: `resume_download` is deprecated and will be removed in version 1.0.0. Downloads always resume when possible. If you want to force a new download, use `force_download=True`.\n",
      "  warnings.warn(\n",
      "Epoch(s):  44%|\u001b[31m████▍     \u001b[0m| 110/250 [3:20:07<4:14:41, 109.15s/it]c:\\Users\\Sid\\AppData\\Local\\Programs\\Python\\Python39\\lib\\site-packages\\sklearn\\metrics\\_classification.py:1517: UndefinedMetricWarning: Precision is ill-defined and being set to 0.0 in labels with no predicted samples. Use `zero_division` parameter to control this behavior.\n",
      "  _warn_prf(average, modifier, f\"{metric.capitalize()} is\", len(result))\n"
     ]
    },
    {
     "name": "stdout",
     "output_type": "stream",
     "text": [
      "{'Epoch': 111, 'Train Loss': 0.4805999142423445, 'Train Accuracy': 0.8363988383349468, 'Val Loss': 0.52009150156608, 'Val Accuracy': 0.8075435203094777, 'Val Precision': 0.802385580318783, 'Val Recall': 0.8075435203094777}\n"
     ]
    },
    {
     "name": "stderr",
     "output_type": "stream",
     "text": [
      "c:\\Users\\Sid\\AppData\\Local\\Programs\\Python\\Python39\\lib\\site-packages\\huggingface_hub\\file_download.py:1132: FutureWarning: `resume_download` is deprecated and will be removed in version 1.0.0. Downloads always resume when possible. If you want to force a new download, use `force_download=True`.\n",
      "  warnings.warn(\n",
      "Epoch(s):  44%|\u001b[31m████▍     \u001b[0m| 111/250 [3:21:56<4:12:41, 109.08s/it]c:\\Users\\Sid\\AppData\\Local\\Programs\\Python\\Python39\\lib\\site-packages\\sklearn\\metrics\\_classification.py:1517: UndefinedMetricWarning: Precision is ill-defined and being set to 0.0 in labels with no predicted samples. Use `zero_division` parameter to control this behavior.\n",
      "  _warn_prf(average, modifier, f\"{metric.capitalize()} is\", len(result))\n"
     ]
    },
    {
     "name": "stdout",
     "output_type": "stream",
     "text": [
      "{'Epoch': 112, 'Train Loss': 0.47434486292345757, 'Train Accuracy': 0.8373668925459826, 'Val Loss': 0.5206699410310158, 'Val Accuracy': 0.8036750483558994, 'Val Precision': 0.7623681889747732, 'Val Recall': 0.8036750483558994}\n"
     ]
    },
    {
     "name": "stderr",
     "output_type": "stream",
     "text": [
      "c:\\Users\\Sid\\AppData\\Local\\Programs\\Python\\Python39\\lib\\site-packages\\huggingface_hub\\file_download.py:1132: FutureWarning: `resume_download` is deprecated and will be removed in version 1.0.0. Downloads always resume when possible. If you want to force a new download, use `force_download=True`.\n",
      "  warnings.warn(\n",
      "Epoch(s):  45%|\u001b[31m████▍     \u001b[0m| 112/250 [3:23:45<4:10:45, 109.03s/it]c:\\Users\\Sid\\AppData\\Local\\Programs\\Python\\Python39\\lib\\site-packages\\sklearn\\metrics\\_classification.py:1517: UndefinedMetricWarning: Precision is ill-defined and being set to 0.0 in labels with no predicted samples. Use `zero_division` parameter to control this behavior.\n",
      "  _warn_prf(average, modifier, f\"{metric.capitalize()} is\", len(result))\n"
     ]
    },
    {
     "name": "stdout",
     "output_type": "stream",
     "text": [
      "{'Epoch': 113, 'Train Loss': 0.4774450487007736, 'Train Accuracy': 0.8337366892545982, 'Val Loss': 0.53653672681405, 'Val Accuracy': 0.8027079303675049, 'Val Precision': 0.7787949691314123, 'Val Recall': 0.8027079303675049}\n"
     ]
    },
    {
     "name": "stderr",
     "output_type": "stream",
     "text": [
      "c:\\Users\\Sid\\AppData\\Local\\Programs\\Python\\Python39\\lib\\site-packages\\huggingface_hub\\file_download.py:1132: FutureWarning: `resume_download` is deprecated and will be removed in version 1.0.0. Downloads always resume when possible. If you want to force a new download, use `force_download=True`.\n",
      "  warnings.warn(\n",
      "Epoch(s):  45%|\u001b[31m████▌     \u001b[0m| 113/250 [3:25:34<4:08:55, 109.02s/it]c:\\Users\\Sid\\AppData\\Local\\Programs\\Python\\Python39\\lib\\site-packages\\sklearn\\metrics\\_classification.py:1517: UndefinedMetricWarning: Precision is ill-defined and being set to 0.0 in labels with no predicted samples. Use `zero_division` parameter to control this behavior.\n",
      "  _warn_prf(average, modifier, f\"{metric.capitalize()} is\", len(result))\n"
     ]
    },
    {
     "name": "stdout",
     "output_type": "stream",
     "text": [
      "{'Epoch': 114, 'Train Loss': 0.4716944313935331, 'Train Accuracy': 0.8380929332042595, 'Val Loss': 0.5162156037413157, 'Val Accuracy': 0.816247582205029, 'Val Precision': 0.8416443658747929, 'Val Recall': 0.816247582205029}\n"
     ]
    },
    {
     "name": "stderr",
     "output_type": "stream",
     "text": [
      "c:\\Users\\Sid\\AppData\\Local\\Programs\\Python\\Python39\\lib\\site-packages\\huggingface_hub\\file_download.py:1132: FutureWarning: `resume_download` is deprecated and will be removed in version 1.0.0. Downloads always resume when possible. If you want to force a new download, use `force_download=True`.\n",
      "  warnings.warn(\n",
      "Epoch(s):  46%|\u001b[31m████▌     \u001b[0m| 114/250 [3:27:25<4:08:34, 109.67s/it]"
     ]
    },
    {
     "name": "stdout",
     "output_type": "stream",
     "text": [
      "{'Epoch': 115, 'Train Loss': 0.46443366598783775, 'Train Accuracy': 0.8436592449177154, 'Val Loss': 0.5285287270179162, 'Val Accuracy': 0.8036750483558994, 'Val Precision': 0.7778622240286998, 'Val Recall': 0.8036750483558994}\n"
     ]
    },
    {
     "name": "stderr",
     "output_type": "stream",
     "text": [
      "c:\\Users\\Sid\\AppData\\Local\\Programs\\Python\\Python39\\lib\\site-packages\\huggingface_hub\\file_download.py:1132: FutureWarning: `resume_download` is deprecated and will be removed in version 1.0.0. Downloads always resume when possible. If you want to force a new download, use `force_download=True`.\n",
      "  warnings.warn(\n",
      "Epoch(s):  46%|\u001b[31m████▌     \u001b[0m| 115/250 [3:29:17<4:08:13, 110.32s/it]c:\\Users\\Sid\\AppData\\Local\\Programs\\Python\\Python39\\lib\\site-packages\\sklearn\\metrics\\_classification.py:1517: UndefinedMetricWarning: Precision is ill-defined and being set to 0.0 in labels with no predicted samples. Use `zero_division` parameter to control this behavior.\n",
      "  _warn_prf(average, modifier, f\"{metric.capitalize()} is\", len(result))\n"
     ]
    },
    {
     "name": "stdout",
     "output_type": "stream",
     "text": [
      "{'Epoch': 116, 'Train Loss': 0.46087655280518947, 'Train Accuracy': 0.8402710551790901, 'Val Loss': 0.5246808424592018, 'Val Accuracy': 0.8036750483558994, 'Val Precision': 0.7787821119477142, 'Val Recall': 0.8036750483558994}\n"
     ]
    },
    {
     "name": "stderr",
     "output_type": "stream",
     "text": [
      "c:\\Users\\Sid\\AppData\\Local\\Programs\\Python\\Python39\\lib\\site-packages\\huggingface_hub\\file_download.py:1132: FutureWarning: `resume_download` is deprecated and will be removed in version 1.0.0. Downloads always resume when possible. If you want to force a new download, use `force_download=True`.\n",
      "  warnings.warn(\n",
      "Epoch(s):  46%|\u001b[31m████▋     \u001b[0m| 116/250 [3:31:07<4:06:37, 110.43s/it]c:\\Users\\Sid\\AppData\\Local\\Programs\\Python\\Python39\\lib\\site-packages\\sklearn\\metrics\\_classification.py:1517: UndefinedMetricWarning: Precision is ill-defined and being set to 0.0 in labels with no predicted samples. Use `zero_division` parameter to control this behavior.\n",
      "  _warn_prf(average, modifier, f\"{metric.capitalize()} is\", len(result))\n"
     ]
    },
    {
     "name": "stdout",
     "output_type": "stream",
     "text": [
      "{'Epoch': 117, 'Train Loss': 0.4586255793966727, 'Train Accuracy': 0.8400290416263311, 'Val Loss': 0.5273265979610957, 'Val Accuracy': 0.7969052224371374, 'Val Precision': 0.7545735277321411, 'Val Recall': 0.7969052224371374}\n"
     ]
    },
    {
     "name": "stderr",
     "output_type": "stream",
     "text": [
      "c:\\Users\\Sid\\AppData\\Local\\Programs\\Python\\Python39\\lib\\site-packages\\huggingface_hub\\file_download.py:1132: FutureWarning: `resume_download` is deprecated and will be removed in version 1.0.0. Downloads always resume when possible. If you want to force a new download, use `force_download=True`.\n",
      "  warnings.warn(\n",
      "Epoch(s):  47%|\u001b[31m████▋     \u001b[0m| 117/250 [3:32:56<4:03:54, 110.03s/it]c:\\Users\\Sid\\AppData\\Local\\Programs\\Python\\Python39\\lib\\site-packages\\sklearn\\metrics\\_classification.py:1517: UndefinedMetricWarning: Precision is ill-defined and being set to 0.0 in labels with no predicted samples. Use `zero_division` parameter to control this behavior.\n",
      "  _warn_prf(average, modifier, f\"{metric.capitalize()} is\", len(result))\n"
     ]
    },
    {
     "name": "stdout",
     "output_type": "stream",
     "text": [
      "{'Epoch': 118, 'Train Loss': 0.46019119183932033, 'Train Accuracy': 0.8388189738625363, 'Val Loss': 0.5140935406661951, 'Val Accuracy': 0.8133462282398453, 'Val Precision': 0.7955927361220013, 'Val Recall': 0.8133462282398453}\n"
     ]
    },
    {
     "name": "stderr",
     "output_type": "stream",
     "text": [
      "c:\\Users\\Sid\\AppData\\Local\\Programs\\Python\\Python39\\lib\\site-packages\\huggingface_hub\\file_download.py:1132: FutureWarning: `resume_download` is deprecated and will be removed in version 1.0.0. Downloads always resume when possible. If you want to force a new download, use `force_download=True`.\n",
      "  warnings.warn(\n",
      "Epoch(s):  47%|\u001b[31m████▋     \u001b[0m| 118/250 [3:34:46<4:01:28, 109.76s/it]c:\\Users\\Sid\\AppData\\Local\\Programs\\Python\\Python39\\lib\\site-packages\\sklearn\\metrics\\_classification.py:1517: UndefinedMetricWarning: Precision is ill-defined and being set to 0.0 in labels with no predicted samples. Use `zero_division` parameter to control this behavior.\n",
      "  _warn_prf(average, modifier, f\"{metric.capitalize()} is\", len(result))\n"
     ]
    },
    {
     "name": "stdout",
     "output_type": "stream",
     "text": [
      "{'Epoch': 119, 'Train Loss': 0.44486507789940216, 'Train Accuracy': 0.8482575024201355, 'Val Loss': 0.5074636483994814, 'Val Accuracy': 0.8288201160541586, 'Val Precision': 0.8062114980401736, 'Val Recall': 0.8288201160541586}\n"
     ]
    },
    {
     "name": "stderr",
     "output_type": "stream",
     "text": [
      "c:\\Users\\Sid\\AppData\\Local\\Programs\\Python\\Python39\\lib\\site-packages\\huggingface_hub\\file_download.py:1132: FutureWarning: `resume_download` is deprecated and will be removed in version 1.0.0. Downloads always resume when possible. If you want to force a new download, use `force_download=True`.\n",
      "  warnings.warn(\n",
      "Epoch(s):  48%|\u001b[31m████▊     \u001b[0m| 119/250 [3:36:35<3:59:14, 109.58s/it]c:\\Users\\Sid\\AppData\\Local\\Programs\\Python\\Python39\\lib\\site-packages\\sklearn\\metrics\\_classification.py:1517: UndefinedMetricWarning: Precision is ill-defined and being set to 0.0 in labels with no predicted samples. Use `zero_division` parameter to control this behavior.\n",
      "  _warn_prf(average, modifier, f\"{metric.capitalize()} is\", len(result))\n"
     ]
    },
    {
     "name": "stdout",
     "output_type": "stream",
     "text": [
      "{'Epoch': 120, 'Train Loss': 0.4524650558771774, 'Train Accuracy': 0.8388189738625363, 'Val Loss': 0.5303572991146491, 'Val Accuracy': 0.8152804642166345, 'Val Precision': 0.7861366917204465, 'Val Recall': 0.8152804642166345}\n"
     ]
    },
    {
     "name": "stderr",
     "output_type": "stream",
     "text": [
      "c:\\Users\\Sid\\AppData\\Local\\Programs\\Python\\Python39\\lib\\site-packages\\huggingface_hub\\file_download.py:1132: FutureWarning: `resume_download` is deprecated and will be removed in version 1.0.0. Downloads always resume when possible. If you want to force a new download, use `force_download=True`.\n",
      "  warnings.warn(\n",
      "Epoch(s):  48%|\u001b[31m████▊     \u001b[0m| 120/250 [3:38:24<3:57:04, 109.42s/it]"
     ]
    },
    {
     "name": "stdout",
     "output_type": "stream",
     "text": [
      "{'Epoch': 121, 'Train Loss': 0.44113057049199883, 'Train Accuracy': 0.851403678606002, 'Val Loss': 0.5223775930129565, 'Val Accuracy': 0.809477756286267, 'Val Precision': 0.8375335851867112, 'Val Recall': 0.809477756286267}\n"
     ]
    },
    {
     "name": "stderr",
     "output_type": "stream",
     "text": [
      "c:\\Users\\Sid\\AppData\\Local\\Programs\\Python\\Python39\\lib\\site-packages\\huggingface_hub\\file_download.py:1132: FutureWarning: `resume_download` is deprecated and will be removed in version 1.0.0. Downloads always resume when possible. If you want to force a new download, use `force_download=True`.\n",
      "  warnings.warn(\n",
      "Epoch(s):  48%|\u001b[31m████▊     \u001b[0m| 121/250 [3:40:13<3:55:16, 109.43s/it]"
     ]
    },
    {
     "name": "stdout",
     "output_type": "stream",
     "text": [
      "{'Epoch': 122, 'Train Loss': 0.4313947887584193, 'Train Accuracy': 0.8528557599225557, 'Val Loss': 0.4998077632142947, 'Val Accuracy': 0.8191489361702128, 'Val Precision': 0.8037729207442894, 'Val Recall': 0.8191489361702128}\n"
     ]
    },
    {
     "name": "stderr",
     "output_type": "stream",
     "text": [
      "c:\\Users\\Sid\\AppData\\Local\\Programs\\Python\\Python39\\lib\\site-packages\\huggingface_hub\\file_download.py:1132: FutureWarning: `resume_download` is deprecated and will be removed in version 1.0.0. Downloads always resume when possible. If you want to force a new download, use `force_download=True`.\n",
      "  warnings.warn(\n",
      "Epoch(s):  49%|\u001b[31m████▉     \u001b[0m| 122/250 [3:42:02<3:53:13, 109.32s/it]"
     ]
    },
    {
     "name": "stdout",
     "output_type": "stream",
     "text": [
      "{'Epoch': 123, 'Train Loss': 0.4359858195795444, 'Train Accuracy': 0.8484995159728945, 'Val Loss': 0.5050485651080425, 'Val Accuracy': 0.8056092843326886, 'Val Precision': 0.7723126733449607, 'Val Recall': 0.8056092843326886}\n"
     ]
    },
    {
     "name": "stderr",
     "output_type": "stream",
     "text": [
      "c:\\Users\\Sid\\AppData\\Local\\Programs\\Python\\Python39\\lib\\site-packages\\huggingface_hub\\file_download.py:1132: FutureWarning: `resume_download` is deprecated and will be removed in version 1.0.0. Downloads always resume when possible. If you want to force a new download, use `force_download=True`.\n",
      "  warnings.warn(\n",
      "Epoch(s):  49%|\u001b[31m████▉     \u001b[0m| 123/250 [3:43:51<3:51:14, 109.25s/it]c:\\Users\\Sid\\AppData\\Local\\Programs\\Python\\Python39\\lib\\site-packages\\sklearn\\metrics\\_classification.py:1517: UndefinedMetricWarning: Precision is ill-defined and being set to 0.0 in labels with no predicted samples. Use `zero_division` parameter to control this behavior.\n",
      "  _warn_prf(average, modifier, f\"{metric.capitalize()} is\", len(result))\n"
     ]
    },
    {
     "name": "stdout",
     "output_type": "stream",
     "text": [
      "{'Epoch': 124, 'Train Loss': 0.42507415752081223, 'Train Accuracy': 0.8545498547918683, 'Val Loss': 0.47686388595746115, 'Val Accuracy': 0.8191489361702128, 'Val Precision': 0.8004982107203565, 'Val Recall': 0.8191489361702128}\n"
     ]
    },
    {
     "name": "stderr",
     "output_type": "stream",
     "text": [
      "c:\\Users\\Sid\\AppData\\Local\\Programs\\Python\\Python39\\lib\\site-packages\\huggingface_hub\\file_download.py:1132: FutureWarning: `resume_download` is deprecated and will be removed in version 1.0.0. Downloads always resume when possible. If you want to force a new download, use `force_download=True`.\n",
      "  warnings.warn(\n",
      "Epoch(s):  50%|\u001b[31m████▉     \u001b[0m| 124/250 [3:45:40<3:49:17, 109.19s/it]"
     ]
    },
    {
     "name": "stdout",
     "output_type": "stream",
     "text": [
      "{'Epoch': 125, 'Train Loss': 0.4287420760221693, 'Train Accuracy': 0.8533397870280736, 'Val Loss': 0.5416038513183594, 'Val Accuracy': 0.7920696324951644, 'Val Precision': 0.8020845346315082, 'Val Recall': 0.7920696324951644}\n"
     ]
    },
    {
     "name": "stderr",
     "output_type": "stream",
     "text": [
      "c:\\Users\\Sid\\AppData\\Local\\Programs\\Python\\Python39\\lib\\site-packages\\huggingface_hub\\file_download.py:1132: FutureWarning: `resume_download` is deprecated and will be removed in version 1.0.0. Downloads always resume when possible. If you want to force a new download, use `force_download=True`.\n",
      "  warnings.warn(\n",
      "Epoch(s):  50%|\u001b[31m█████     \u001b[0m| 125/250 [3:47:29<3:47:13, 109.07s/it]"
     ]
    },
    {
     "name": "stdout",
     "output_type": "stream",
     "text": [
      "{'Epoch': 126, 'Train Loss': 0.4200372225483592, 'Train Accuracy': 0.8540658276863504, 'Val Loss': 0.5157173206599859, 'Val Accuracy': 0.8065764023210832, 'Val Precision': 0.8027310556796295, 'Val Recall': 0.8065764023210832}\n"
     ]
    },
    {
     "name": "stderr",
     "output_type": "stream",
     "text": [
      "c:\\Users\\Sid\\AppData\\Local\\Programs\\Python\\Python39\\lib\\site-packages\\huggingface_hub\\file_download.py:1132: FutureWarning: `resume_download` is deprecated and will be removed in version 1.0.0. Downloads always resume when possible. If you want to force a new download, use `force_download=True`.\n",
      "  warnings.warn(\n",
      "Epoch(s):  50%|\u001b[31m█████     \u001b[0m| 126/250 [3:49:19<3:45:32, 109.13s/it]"
     ]
    },
    {
     "name": "stdout",
     "output_type": "stream",
     "text": [
      "{'Epoch': 127, 'Train Loss': 0.40485185007434377, 'Train Accuracy': 0.8620522749273959, 'Val Loss': 0.5033595741941379, 'Val Accuracy': 0.816247582205029, 'Val Precision': 0.7774603276323689, 'Val Recall': 0.816247582205029}\n"
     ]
    },
    {
     "name": "stderr",
     "output_type": "stream",
     "text": [
      "c:\\Users\\Sid\\AppData\\Local\\Programs\\Python\\Python39\\lib\\site-packages\\huggingface_hub\\file_download.py:1132: FutureWarning: `resume_download` is deprecated and will be removed in version 1.0.0. Downloads always resume when possible. If you want to force a new download, use `force_download=True`.\n",
      "  warnings.warn(\n",
      "Epoch(s):  51%|\u001b[31m█████     \u001b[0m| 127/250 [3:51:07<3:43:30, 109.03s/it]"
     ]
    },
    {
     "name": "stdout",
     "output_type": "stream",
     "text": [
      "{'Epoch': 128, 'Train Loss': 0.4111940254727882, 'Train Accuracy': 0.8555179090029041, 'Val Loss': 0.4869158749970106, 'Val Accuracy': 0.8326885880077369, 'Val Precision': 0.8334581498081903, 'Val Recall': 0.8326885880077369}\n"
     ]
    },
    {
     "name": "stderr",
     "output_type": "stream",
     "text": [
      "c:\\Users\\Sid\\AppData\\Local\\Programs\\Python\\Python39\\lib\\site-packages\\huggingface_hub\\file_download.py:1132: FutureWarning: `resume_download` is deprecated and will be removed in version 1.0.0. Downloads always resume when possible. If you want to force a new download, use `force_download=True`.\n",
      "  warnings.warn(\n",
      "Epoch(s):  51%|\u001b[31m█████     \u001b[0m| 128/250 [3:52:56<3:41:47, 109.08s/it]c:\\Users\\Sid\\AppData\\Local\\Programs\\Python\\Python39\\lib\\site-packages\\sklearn\\metrics\\_classification.py:1517: UndefinedMetricWarning: Precision is ill-defined and being set to 0.0 in labels with no predicted samples. Use `zero_division` parameter to control this behavior.\n",
      "  _warn_prf(average, modifier, f\"{metric.capitalize()} is\", len(result))\n"
     ]
    },
    {
     "name": "stdout",
     "output_type": "stream",
     "text": [
      "{'Epoch': 129, 'Train Loss': 0.4087419418984859, 'Train Accuracy': 0.8574540174249758, 'Val Loss': 0.5223991653093925, 'Val Accuracy': 0.816247582205029, 'Val Precision': 0.793861391495842, 'Val Recall': 0.816247582205029}\n"
     ]
    },
    {
     "name": "stderr",
     "output_type": "stream",
     "text": [
      "c:\\Users\\Sid\\AppData\\Local\\Programs\\Python\\Python39\\lib\\site-packages\\huggingface_hub\\file_download.py:1132: FutureWarning: `resume_download` is deprecated and will be removed in version 1.0.0. Downloads always resume when possible. If you want to force a new download, use `force_download=True`.\n",
      "  warnings.warn(\n",
      "Epoch(s):  52%|\u001b[31m█████▏    \u001b[0m| 129/250 [3:54:45<3:39:48, 108.99s/it]"
     ]
    },
    {
     "name": "stdout",
     "output_type": "stream",
     "text": [
      "{'Epoch': 130, 'Train Loss': 0.410697783296748, 'Train Accuracy': 0.8574540174249758, 'Val Loss': 0.4823024123907089, 'Val Accuracy': 0.8317214700193424, 'Val Precision': 0.8389192761641703, 'Val Recall': 0.8317214700193424}\n"
     ]
    },
    {
     "name": "stderr",
     "output_type": "stream",
     "text": [
      "c:\\Users\\Sid\\AppData\\Local\\Programs\\Python\\Python39\\lib\\site-packages\\huggingface_hub\\file_download.py:1132: FutureWarning: `resume_download` is deprecated and will be removed in version 1.0.0. Downloads always resume when possible. If you want to force a new download, use `force_download=True`.\n",
      "  warnings.warn(\n",
      "Epoch(s):  52%|\u001b[31m█████▏    \u001b[0m| 130/250 [3:56:34<3:37:53, 108.95s/it]"
     ]
    },
    {
     "name": "stdout",
     "output_type": "stream",
     "text": [
      "{'Epoch': 131, 'Train Loss': 0.40201405069024865, 'Train Accuracy': 0.8651984511132623, 'Val Loss': 0.4816618974965352, 'Val Accuracy': 0.8268858800773694, 'Val Precision': 0.8285516984213129, 'Val Recall': 0.8268858800773694}\n"
     ]
    },
    {
     "name": "stderr",
     "output_type": "stream",
     "text": [
      "c:\\Users\\Sid\\AppData\\Local\\Programs\\Python\\Python39\\lib\\site-packages\\huggingface_hub\\file_download.py:1132: FutureWarning: `resume_download` is deprecated and will be removed in version 1.0.0. Downloads always resume when possible. If you want to force a new download, use `force_download=True`.\n",
      "  warnings.warn(\n",
      "Epoch(s):  52%|\u001b[31m█████▏    \u001b[0m| 131/250 [3:58:23<3:35:58, 108.90s/it]c:\\Users\\Sid\\AppData\\Local\\Programs\\Python\\Python39\\lib\\site-packages\\sklearn\\metrics\\_classification.py:1517: UndefinedMetricWarning: Precision is ill-defined and being set to 0.0 in labels with no predicted samples. Use `zero_division` parameter to control this behavior.\n",
      "  _warn_prf(average, modifier, f\"{metric.capitalize()} is\", len(result))\n"
     ]
    },
    {
     "name": "stdout",
     "output_type": "stream",
     "text": [
      "{'Epoch': 132, 'Train Loss': 0.4060018137816527, 'Train Accuracy': 0.861810261374637, 'Val Loss': 0.48249180998939734, 'Val Accuracy': 0.8278529980657641, 'Val Precision': 0.8298893056791146, 'Val Recall': 0.8278529980657641}\n"
     ]
    },
    {
     "name": "stderr",
     "output_type": "stream",
     "text": [
      "c:\\Users\\Sid\\AppData\\Local\\Programs\\Python\\Python39\\lib\\site-packages\\huggingface_hub\\file_download.py:1132: FutureWarning: `resume_download` is deprecated and will be removed in version 1.0.0. Downloads always resume when possible. If you want to force a new download, use `force_download=True`.\n",
      "  warnings.warn(\n",
      "Epoch(s):  53%|\u001b[31m█████▎    \u001b[0m| 132/250 [4:00:12<3:34:08, 108.89s/it]"
     ]
    },
    {
     "name": "stdout",
     "output_type": "stream",
     "text": [
      "{'Epoch': 133, 'Train Loss': 0.397295960559578, 'Train Accuracy': 0.8647144240077445, 'Val Loss': 0.4692313857949697, 'Val Accuracy': 0.8384912959381045, 'Val Precision': 0.8522449361393385, 'Val Recall': 0.8384912959381045}\n"
     ]
    },
    {
     "name": "stderr",
     "output_type": "stream",
     "text": [
      "c:\\Users\\Sid\\AppData\\Local\\Programs\\Python\\Python39\\lib\\site-packages\\huggingface_hub\\file_download.py:1132: FutureWarning: `resume_download` is deprecated and will be removed in version 1.0.0. Downloads always resume when possible. If you want to force a new download, use `force_download=True`.\n",
      "  warnings.warn(\n",
      "Epoch(s):  53%|\u001b[31m█████▎    \u001b[0m| 133/250 [4:02:01<3:32:34, 109.01s/it]"
     ]
    },
    {
     "name": "stdout",
     "output_type": "stream",
     "text": [
      "{'Epoch': 134, 'Train Loss': 0.3930473532311935, 'Train Accuracy': 0.8606001936108422, 'Val Loss': 0.5061670113354921, 'Val Accuracy': 0.8230174081237911, 'Val Precision': 0.8318189108882289, 'Val Recall': 0.8230174081237911}\n"
     ]
    },
    {
     "name": "stderr",
     "output_type": "stream",
     "text": [
      "c:\\Users\\Sid\\AppData\\Local\\Programs\\Python\\Python39\\lib\\site-packages\\huggingface_hub\\file_download.py:1132: FutureWarning: `resume_download` is deprecated and will be removed in version 1.0.0. Downloads always resume when possible. If you want to force a new download, use `force_download=True`.\n",
      "  warnings.warn(\n",
      "Epoch(s):  54%|\u001b[31m█████▎    \u001b[0m| 134/250 [4:03:50<3:30:40, 108.97s/it]"
     ]
    },
    {
     "name": "stdout",
     "output_type": "stream",
     "text": [
      "{'Epoch': 135, 'Train Loss': 0.39278613350041297, 'Train Accuracy': 0.8649564375605033, 'Val Loss': 0.4852833539247513, 'Val Accuracy': 0.816247582205029, 'Val Precision': 0.8314969920752636, 'Val Recall': 0.816247582205029}\n"
     ]
    },
    {
     "name": "stderr",
     "output_type": "stream",
     "text": [
      "c:\\Users\\Sid\\AppData\\Local\\Programs\\Python\\Python39\\lib\\site-packages\\huggingface_hub\\file_download.py:1132: FutureWarning: `resume_download` is deprecated and will be removed in version 1.0.0. Downloads always resume when possible. If you want to force a new download, use `force_download=True`.\n",
      "  warnings.warn(\n",
      "Epoch(s):  54%|\u001b[31m█████▍    \u001b[0m| 135/250 [4:05:39<3:28:47, 108.94s/it]"
     ]
    },
    {
     "name": "stdout",
     "output_type": "stream",
     "text": [
      "{'Epoch': 136, 'Train Loss': 0.38703667146646376, 'Train Accuracy': 0.8664085188770572, 'Val Loss': 0.45874552497496973, 'Val Accuracy': 0.8404255319148937, 'Val Precision': 0.8385877326057543, 'Val Recall': 0.8404255319148937}\n"
     ]
    },
    {
     "name": "stderr",
     "output_type": "stream",
     "text": [
      "c:\\Users\\Sid\\AppData\\Local\\Programs\\Python\\Python39\\lib\\site-packages\\huggingface_hub\\file_download.py:1132: FutureWarning: `resume_download` is deprecated and will be removed in version 1.0.0. Downloads always resume when possible. If you want to force a new download, use `force_download=True`.\n",
      "  warnings.warn(\n",
      "Epoch(s):  54%|\u001b[31m█████▍    \u001b[0m| 136/250 [4:07:28<3:27:03, 108.98s/it]"
     ]
    },
    {
     "name": "stdout",
     "output_type": "stream",
     "text": [
      "{'Epoch': 137, 'Train Loss': 0.38335222101133876, 'Train Accuracy': 0.8697967086156825, 'Val Loss': 0.44863234334267105, 'Val Accuracy': 0.8375241779497099, 'Val Precision': 0.8368492935190908, 'Val Recall': 0.8375241779497099}\n"
     ]
    },
    {
     "name": "stderr",
     "output_type": "stream",
     "text": [
      "c:\\Users\\Sid\\AppData\\Local\\Programs\\Python\\Python39\\lib\\site-packages\\huggingface_hub\\file_download.py:1132: FutureWarning: `resume_download` is deprecated and will be removed in version 1.0.0. Downloads always resume when possible. If you want to force a new download, use `force_download=True`.\n",
      "  warnings.warn(\n",
      "Epoch(s):  55%|\u001b[31m█████▍    \u001b[0m| 137/250 [4:09:17<3:25:20, 109.03s/it]"
     ]
    },
    {
     "name": "stdout",
     "output_type": "stream",
     "text": [
      "{'Epoch': 138, 'Train Loss': 0.3811530759162539, 'Train Accuracy': 0.8693126815101646, 'Val Loss': 0.4830068676230999, 'Val Accuracy': 0.8423597678916828, 'Val Precision': 0.8359784232185656, 'Val Recall': 0.8423597678916828}\n"
     ]
    },
    {
     "name": "stderr",
     "output_type": "stream",
     "text": [
      "c:\\Users\\Sid\\AppData\\Local\\Programs\\Python\\Python39\\lib\\site-packages\\huggingface_hub\\file_download.py:1132: FutureWarning: `resume_download` is deprecated and will be removed in version 1.0.0. Downloads always resume when possible. If you want to force a new download, use `force_download=True`.\n",
      "  warnings.warn(\n",
      "Epoch(s):  55%|\u001b[31m█████▌    \u001b[0m| 138/250 [4:11:06<3:23:34, 109.06s/it]"
     ]
    },
    {
     "name": "stdout",
     "output_type": "stream",
     "text": [
      "{'Epoch': 139, 'Train Loss': 0.37707848413973244, 'Train Accuracy': 0.8678606001936109, 'Val Loss': 0.4734838408919481, 'Val Accuracy': 0.8220502901353965, 'Val Precision': 0.8304512906134753, 'Val Recall': 0.8220502901353965}\n"
     ]
    },
    {
     "name": "stderr",
     "output_type": "stream",
     "text": [
      "c:\\Users\\Sid\\AppData\\Local\\Programs\\Python\\Python39\\lib\\site-packages\\huggingface_hub\\file_download.py:1132: FutureWarning: `resume_download` is deprecated and will be removed in version 1.0.0. Downloads always resume when possible. If you want to force a new download, use `force_download=True`.\n",
      "  warnings.warn(\n",
      "Epoch(s):  56%|\u001b[31m█████▌    \u001b[0m| 139/250 [4:12:55<3:21:48, 109.08s/it]c:\\Users\\Sid\\AppData\\Local\\Programs\\Python\\Python39\\lib\\site-packages\\sklearn\\metrics\\_classification.py:1517: UndefinedMetricWarning: Precision is ill-defined and being set to 0.0 in labels with no predicted samples. Use `zero_division` parameter to control this behavior.\n",
      "  _warn_prf(average, modifier, f\"{metric.capitalize()} is\", len(result))\n"
     ]
    },
    {
     "name": "stdout",
     "output_type": "stream",
     "text": [
      "{'Epoch': 140, 'Train Loss': 0.3833055963459277, 'Train Accuracy': 0.8683446272991288, 'Val Loss': 0.4665863387286663, 'Val Accuracy': 0.8413926499032882, 'Val Precision': 0.8396335316897953, 'Val Recall': 0.8413926499032882}\n"
     ]
    },
    {
     "name": "stderr",
     "output_type": "stream",
     "text": [
      "c:\\Users\\Sid\\AppData\\Local\\Programs\\Python\\Python39\\lib\\site-packages\\huggingface_hub\\file_download.py:1132: FutureWarning: `resume_download` is deprecated and will be removed in version 1.0.0. Downloads always resume when possible. If you want to force a new download, use `force_download=True`.\n",
      "  warnings.warn(\n",
      "Epoch(s):  56%|\u001b[31m█████▌    \u001b[0m| 140/250 [4:14:44<3:20:00, 109.09s/it]"
     ]
    },
    {
     "name": "stdout",
     "output_type": "stream",
     "text": [
      "{'Epoch': 141, 'Train Loss': 0.36853464803582914, 'Train Accuracy': 0.8758470474346564, 'Val Loss': 0.4641703905394444, 'Val Accuracy': 0.839458413926499, 'Val Precision': 0.8590503662197897, 'Val Recall': 0.839458413926499}\n"
     ]
    },
    {
     "name": "stderr",
     "output_type": "stream",
     "text": [
      "c:\\Users\\Sid\\AppData\\Local\\Programs\\Python\\Python39\\lib\\site-packages\\huggingface_hub\\file_download.py:1132: FutureWarning: `resume_download` is deprecated and will be removed in version 1.0.0. Downloads always resume when possible. If you want to force a new download, use `force_download=True`.\n",
      "  warnings.warn(\n",
      "Epoch(s):  56%|\u001b[31m█████▋    \u001b[0m| 141/250 [4:16:34<3:18:11, 109.10s/it]"
     ]
    },
    {
     "name": "stdout",
     "output_type": "stream",
     "text": [
      "{'Epoch': 142, 'Train Loss': 0.3703945450067635, 'Train Accuracy': 0.8753630203291385, 'Val Loss': 0.4803878507935084, 'Val Accuracy': 0.8336557059961315, 'Val Precision': 0.8519941527275037, 'Val Recall': 0.8336557059961315}\n"
     ]
    },
    {
     "name": "stderr",
     "output_type": "stream",
     "text": [
      "c:\\Users\\Sid\\AppData\\Local\\Programs\\Python\\Python39\\lib\\site-packages\\huggingface_hub\\file_download.py:1132: FutureWarning: `resume_download` is deprecated and will be removed in version 1.0.0. Downloads always resume when possible. If you want to force a new download, use `force_download=True`.\n",
      "  warnings.warn(\n",
      "Epoch(s):  57%|\u001b[31m█████▋    \u001b[0m| 142/250 [4:18:23<3:16:20, 109.08s/it]"
     ]
    },
    {
     "name": "stdout",
     "output_type": "stream",
     "text": [
      "{'Epoch': 143, 'Train Loss': 0.36197101958383693, 'Train Accuracy': 0.8739109390125847, 'Val Loss': 0.481362580622618, 'Val Accuracy': 0.8297872340425532, 'Val Precision': 0.8566024898198152, 'Val Recall': 0.8297872340425532}\n"
     ]
    },
    {
     "name": "stderr",
     "output_type": "stream",
     "text": [
      "c:\\Users\\Sid\\AppData\\Local\\Programs\\Python\\Python39\\lib\\site-packages\\huggingface_hub\\file_download.py:1132: FutureWarning: `resume_download` is deprecated and will be removed in version 1.0.0. Downloads always resume when possible. If you want to force a new download, use `force_download=True`.\n",
      "  warnings.warn(\n",
      "Epoch(s):  57%|\u001b[31m█████▋    \u001b[0m| 143/250 [4:20:12<3:14:45, 109.21s/it]"
     ]
    },
    {
     "name": "stdout",
     "output_type": "stream",
     "text": [
      "{'Epoch': 144, 'Train Loss': 0.3600249289243723, 'Train Accuracy': 0.8753630203291385, 'Val Loss': 0.5063249588012695, 'Val Accuracy': 0.8123791102514507, 'Val Precision': 0.8483553531723447, 'Val Recall': 0.8123791102514507}\n"
     ]
    },
    {
     "name": "stderr",
     "output_type": "stream",
     "text": [
      "c:\\Users\\Sid\\AppData\\Local\\Programs\\Python\\Python39\\lib\\site-packages\\huggingface_hub\\file_download.py:1132: FutureWarning: `resume_download` is deprecated and will be removed in version 1.0.0. Downloads always resume when possible. If you want to force a new download, use `force_download=True`.\n",
      "  warnings.warn(\n",
      "Epoch(s):  58%|\u001b[31m█████▊    \u001b[0m| 144/250 [4:22:01<3:12:53, 109.18s/it]"
     ]
    },
    {
     "name": "stdout",
     "output_type": "stream",
     "text": [
      "{'Epoch': 145, 'Train Loss': 0.36714484571554773, 'Train Accuracy': 0.8743949661181026, 'Val Loss': 0.4617282477135842, 'Val Accuracy': 0.8288201160541586, 'Val Precision': 0.8391823148915547, 'Val Recall': 0.8288201160541586}\n"
     ]
    },
    {
     "name": "stderr",
     "output_type": "stream",
     "text": [
      "c:\\Users\\Sid\\AppData\\Local\\Programs\\Python\\Python39\\lib\\site-packages\\huggingface_hub\\file_download.py:1132: FutureWarning: `resume_download` is deprecated and will be removed in version 1.0.0. Downloads always resume when possible. If you want to force a new download, use `force_download=True`.\n",
      "  warnings.warn(\n",
      "Epoch(s):  58%|\u001b[31m█████▊    \u001b[0m| 145/250 [4:23:51<3:11:13, 109.27s/it]c:\\Users\\Sid\\AppData\\Local\\Programs\\Python\\Python39\\lib\\site-packages\\sklearn\\metrics\\_classification.py:1517: UndefinedMetricWarning: Precision is ill-defined and being set to 0.0 in labels with no predicted samples. Use `zero_division` parameter to control this behavior.\n",
      "  _warn_prf(average, modifier, f\"{metric.capitalize()} is\", len(result))\n"
     ]
    },
    {
     "name": "stdout",
     "output_type": "stream",
     "text": [
      "{'Epoch': 146, 'Train Loss': 0.35734640506750626, 'Train Accuracy': 0.8741529525653436, 'Val Loss': 0.49131072013137433, 'Val Accuracy': 0.8365570599613152, 'Val Precision': 0.8231365974756685, 'Val Recall': 0.8365570599613152}\n"
     ]
    },
    {
     "name": "stderr",
     "output_type": "stream",
     "text": [
      "c:\\Users\\Sid\\AppData\\Local\\Programs\\Python\\Python39\\lib\\site-packages\\huggingface_hub\\file_download.py:1132: FutureWarning: `resume_download` is deprecated and will be removed in version 1.0.0. Downloads always resume when possible. If you want to force a new download, use `force_download=True`.\n",
      "  warnings.warn(\n",
      "Epoch(s):  58%|\u001b[31m█████▊    \u001b[0m| 146/250 [4:25:40<3:09:20, 109.23s/it]"
     ]
    },
    {
     "name": "stdout",
     "output_type": "stream",
     "text": [
      "{'Epoch': 147, 'Train Loss': 0.35214274195400447, 'Train Accuracy': 0.8768151016456922, 'Val Loss': 0.45155216853779095, 'Val Accuracy': 0.8481624758220503, 'Val Precision': 0.8489203135597758, 'Val Recall': 0.8481624758220503}\n"
     ]
    },
    {
     "name": "stderr",
     "output_type": "stream",
     "text": [
      "c:\\Users\\Sid\\AppData\\Local\\Programs\\Python\\Python39\\lib\\site-packages\\huggingface_hub\\file_download.py:1132: FutureWarning: `resume_download` is deprecated and will be removed in version 1.0.0. Downloads always resume when possible. If you want to force a new download, use `force_download=True`.\n",
      "  warnings.warn(\n",
      "Epoch(s):  59%|\u001b[31m█████▉    \u001b[0m| 147/250 [4:27:29<3:07:43, 109.35s/it]"
     ]
    },
    {
     "name": "stdout",
     "output_type": "stream",
     "text": [
      "{'Epoch': 148, 'Train Loss': 0.3585295918250176, 'Train Accuracy': 0.8734269119070668, 'Val Loss': 0.4309759610260908, 'Val Accuracy': 0.8568665377176016, 'Val Precision': 0.8540245361640023, 'Val Recall': 0.8568665377176016}\n"
     ]
    },
    {
     "name": "stderr",
     "output_type": "stream",
     "text": [
      "c:\\Users\\Sid\\AppData\\Local\\Programs\\Python\\Python39\\lib\\site-packages\\huggingface_hub\\file_download.py:1132: FutureWarning: `resume_download` is deprecated and will be removed in version 1.0.0. Downloads always resume when possible. If you want to force a new download, use `force_download=True`.\n",
      "  warnings.warn(\n",
      "Epoch(s):  59%|\u001b[31m█████▉    \u001b[0m| 148/250 [4:29:18<3:05:43, 109.25s/it]"
     ]
    },
    {
     "name": "stdout",
     "output_type": "stream",
     "text": [
      "{'Epoch': 149, 'Train Loss': 0.35125473773077265, 'Train Accuracy': 0.8818973862536302, 'Val Loss': 0.45526039462823137, 'Val Accuracy': 0.8317214700193424, 'Val Precision': 0.8481037162495301, 'Val Recall': 0.8317214700193424}\n"
     ]
    },
    {
     "name": "stderr",
     "output_type": "stream",
     "text": [
      "c:\\Users\\Sid\\AppData\\Local\\Programs\\Python\\Python39\\lib\\site-packages\\huggingface_hub\\file_download.py:1132: FutureWarning: `resume_download` is deprecated and will be removed in version 1.0.0. Downloads always resume when possible. If you want to force a new download, use `force_download=True`.\n",
      "  warnings.warn(\n",
      "Epoch(s):  60%|\u001b[31m█████▉    \u001b[0m| 149/250 [4:31:08<3:03:48, 109.19s/it]"
     ]
    },
    {
     "name": "stdout",
     "output_type": "stream",
     "text": [
      "{'Epoch': 150, 'Train Loss': 0.3470148150768656, 'Train Accuracy': 0.8794772507260407, 'Val Loss': 0.4423126710148958, 'Val Accuracy': 0.839458413926499, 'Val Precision': 0.8445175469040641, 'Val Recall': 0.839458413926499}\n"
     ]
    },
    {
     "name": "stderr",
     "output_type": "stream",
     "text": [
      "c:\\Users\\Sid\\AppData\\Local\\Programs\\Python\\Python39\\lib\\site-packages\\huggingface_hub\\file_download.py:1132: FutureWarning: `resume_download` is deprecated and will be removed in version 1.0.0. Downloads always resume when possible. If you want to force a new download, use `force_download=True`.\n",
      "  warnings.warn(\n",
      "Epoch(s):  60%|\u001b[31m██████    \u001b[0m| 150/250 [4:32:57<3:01:56, 109.17s/it]c:\\Users\\Sid\\AppData\\Local\\Programs\\Python\\Python39\\lib\\site-packages\\sklearn\\metrics\\_classification.py:1517: UndefinedMetricWarning: Precision is ill-defined and being set to 0.0 in labels with no predicted samples. Use `zero_division` parameter to control this behavior.\n",
      "  _warn_prf(average, modifier, f\"{metric.capitalize()} is\", len(result))\n"
     ]
    },
    {
     "name": "stdout",
     "output_type": "stream",
     "text": [
      "{'Epoch': 151, 'Train Loss': 0.3463318654296481, 'Train Accuracy': 0.8748789932236205, 'Val Loss': 0.46416748829472526, 'Val Accuracy': 0.8491295938104448, 'Val Precision': 0.8439596249008583, 'Val Recall': 0.8491295938104448}\n"
     ]
    },
    {
     "name": "stderr",
     "output_type": "stream",
     "text": [
      "c:\\Users\\Sid\\AppData\\Local\\Programs\\Python\\Python39\\lib\\site-packages\\huggingface_hub\\file_download.py:1132: FutureWarning: `resume_download` is deprecated and will be removed in version 1.0.0. Downloads always resume when possible. If you want to force a new download, use `force_download=True`.\n",
      "  warnings.warn(\n",
      "Epoch(s):  60%|\u001b[31m██████    \u001b[0m| 151/250 [4:34:46<3:00:07, 109.17s/it]"
     ]
    },
    {
     "name": "stdout",
     "output_type": "stream",
     "text": [
      "{'Epoch': 152, 'Train Loss': 0.34452019488748203, 'Train Accuracy': 0.8826234269119071, 'Val Loss': 0.4543615102194823, 'Val Accuracy': 0.8355899419729207, 'Val Precision': 0.8482459171144243, 'Val Recall': 0.8355899419729207}\n"
     ]
    },
    {
     "name": "stderr",
     "output_type": "stream",
     "text": [
      "c:\\Users\\Sid\\AppData\\Local\\Programs\\Python\\Python39\\lib\\site-packages\\huggingface_hub\\file_download.py:1132: FutureWarning: `resume_download` is deprecated and will be removed in version 1.0.0. Downloads always resume when possible. If you want to force a new download, use `force_download=True`.\n",
      "  warnings.warn(\n",
      "Epoch(s):  61%|\u001b[31m██████    \u001b[0m| 152/250 [4:36:35<2:58:18, 109.17s/it]"
     ]
    },
    {
     "name": "stdout",
     "output_type": "stream",
     "text": [
      "{'Epoch': 153, 'Train Loss': 0.336586032983304, 'Train Accuracy': 0.8857696030977735, 'Val Loss': 0.4771615063628325, 'Val Accuracy': 0.8278529980657641, 'Val Precision': 0.8578539657362487, 'Val Recall': 0.8278529980657641}\n"
     ]
    },
    {
     "name": "stderr",
     "output_type": "stream",
     "text": [
      "c:\\Users\\Sid\\AppData\\Local\\Programs\\Python\\Python39\\lib\\site-packages\\huggingface_hub\\file_download.py:1132: FutureWarning: `resume_download` is deprecated and will be removed in version 1.0.0. Downloads always resume when possible. If you want to force a new download, use `force_download=True`.\n",
      "  warnings.warn(\n",
      "Epoch(s):  61%|\u001b[31m██████    \u001b[0m| 153/250 [4:38:25<2:56:42, 109.31s/it]"
     ]
    },
    {
     "name": "stdout",
     "output_type": "stream",
     "text": [
      "{'Epoch': 154, 'Train Loss': 0.3391313896537848, 'Train Accuracy': 0.883107454017425, 'Val Loss': 0.48670241178658147, 'Val Accuracy': 0.8259187620889749, 'Val Precision': 0.8443746905509705, 'Val Recall': 0.8259187620889749}\n"
     ]
    },
    {
     "name": "stderr",
     "output_type": "stream",
     "text": [
      "c:\\Users\\Sid\\AppData\\Local\\Programs\\Python\\Python39\\lib\\site-packages\\huggingface_hub\\file_download.py:1132: FutureWarning: `resume_download` is deprecated and will be removed in version 1.0.0. Downloads always resume when possible. If you want to force a new download, use `force_download=True`.\n",
      "  warnings.warn(\n",
      "Epoch(s):  62%|\u001b[31m██████▏   \u001b[0m| 154/250 [4:40:14<2:54:59, 109.37s/it]"
     ]
    },
    {
     "name": "stdout",
     "output_type": "stream",
     "text": [
      "{'Epoch': 155, 'Train Loss': 0.3355152064567597, 'Train Accuracy': 0.8818973862536302, 'Val Loss': 0.4390327950509695, 'Val Accuracy': 0.8481624758220503, 'Val Precision': 0.8557753060402605, 'Val Recall': 0.8481624758220503}\n"
     ]
    },
    {
     "name": "stderr",
     "output_type": "stream",
     "text": [
      "c:\\Users\\Sid\\AppData\\Local\\Programs\\Python\\Python39\\lib\\site-packages\\huggingface_hub\\file_download.py:1132: FutureWarning: `resume_download` is deprecated and will be removed in version 1.0.0. Downloads always resume when possible. If you want to force a new download, use `force_download=True`.\n",
      "  warnings.warn(\n",
      "Epoch(s):  62%|\u001b[31m██████▏   \u001b[0m| 155/250 [4:42:04<2:53:18, 109.46s/it]"
     ]
    },
    {
     "name": "stdout",
     "output_type": "stream",
     "text": [
      "{'Epoch': 156, 'Train Loss': 0.3295626384152179, 'Train Accuracy': 0.8864956437560504, 'Val Loss': 0.43148128138138697, 'Val Accuracy': 0.8588007736943907, 'Val Precision': 0.8769470256576006, 'Val Recall': 0.8588007736943907}\n"
     ]
    },
    {
     "name": "stderr",
     "output_type": "stream",
     "text": [
      "c:\\Users\\Sid\\AppData\\Local\\Programs\\Python\\Python39\\lib\\site-packages\\huggingface_hub\\file_download.py:1132: FutureWarning: `resume_download` is deprecated and will be removed in version 1.0.0. Downloads always resume when possible. If you want to force a new download, use `force_download=True`.\n",
      "  warnings.warn(\n",
      "Epoch(s):  62%|\u001b[31m██████▏   \u001b[0m| 156/250 [4:43:53<2:51:23, 109.40s/it]"
     ]
    },
    {
     "name": "stdout",
     "output_type": "stream",
     "text": [
      "{'Epoch': 157, 'Train Loss': 0.34131049914968753, 'Train Accuracy': 0.8789932236205228, 'Val Loss': 0.4449602025059553, 'Val Accuracy': 0.8529980657640233, 'Val Precision': 0.863199303003149, 'Val Recall': 0.8529980657640233}\n"
     ]
    },
    {
     "name": "stderr",
     "output_type": "stream",
     "text": [
      "c:\\Users\\Sid\\AppData\\Local\\Programs\\Python\\Python39\\lib\\site-packages\\huggingface_hub\\file_download.py:1132: FutureWarning: `resume_download` is deprecated and will be removed in version 1.0.0. Downloads always resume when possible. If you want to force a new download, use `force_download=True`.\n",
      "  warnings.warn(\n",
      "Epoch(s):  63%|\u001b[31m██████▎   \u001b[0m| 157/250 [4:45:42<2:49:25, 109.31s/it]"
     ]
    },
    {
     "name": "stdout",
     "output_type": "stream",
     "text": [
      "{'Epoch': 158, 'Train Loss': 0.32720189451288995, 'Train Accuracy': 0.8874636979670861, 'Val Loss': 0.4897022087413531, 'Val Accuracy': 0.8307543520309478, 'Val Precision': 0.8480908389400472, 'Val Recall': 0.8307543520309478}\n"
     ]
    },
    {
     "name": "stderr",
     "output_type": "stream",
     "text": [
      "c:\\Users\\Sid\\AppData\\Local\\Programs\\Python\\Python39\\lib\\site-packages\\huggingface_hub\\file_download.py:1132: FutureWarning: `resume_download` is deprecated and will be removed in version 1.0.0. Downloads always resume when possible. If you want to force a new download, use `force_download=True`.\n",
      "  warnings.warn(\n",
      "Epoch(s):  63%|\u001b[31m██████▎   \u001b[0m| 158/250 [4:47:31<2:47:31, 109.26s/it]"
     ]
    },
    {
     "name": "stdout",
     "output_type": "stream",
     "text": [
      "{'Epoch': 159, 'Train Loss': 0.33004313028591925, 'Train Accuracy': 0.8850435624394967, 'Val Loss': 0.43784828260540964, 'Val Accuracy': 0.8539651837524178, 'Val Precision': 0.8607040424953201, 'Val Recall': 0.8539651837524178}\n"
     ]
    },
    {
     "name": "stderr",
     "output_type": "stream",
     "text": [
      "c:\\Users\\Sid\\AppData\\Local\\Programs\\Python\\Python39\\lib\\site-packages\\huggingface_hub\\file_download.py:1132: FutureWarning: `resume_download` is deprecated and will be removed in version 1.0.0. Downloads always resume when possible. If you want to force a new download, use `force_download=True`.\n",
      "  warnings.warn(\n",
      "Epoch(s):  64%|\u001b[31m██████▎   \u001b[0m| 159/250 [4:49:21<2:45:53, 109.38s/it]"
     ]
    },
    {
     "name": "stdout",
     "output_type": "stream",
     "text": [
      "{'Epoch': 160, 'Train Loss': 0.3266593849868064, 'Train Accuracy': 0.888189738625363, 'Val Loss': 0.43715525693618335, 'Val Accuracy': 0.8558994197292069, 'Val Precision': 0.8567330507548336, 'Val Recall': 0.8558994197292069}\n"
     ]
    },
    {
     "name": "stderr",
     "output_type": "stream",
     "text": [
      "c:\\Users\\Sid\\AppData\\Local\\Programs\\Python\\Python39\\lib\\site-packages\\huggingface_hub\\file_download.py:1132: FutureWarning: `resume_download` is deprecated and will be removed in version 1.0.0. Downloads always resume when possible. If you want to force a new download, use `force_download=True`.\n",
      "  warnings.warn(\n",
      "Epoch(s):  64%|\u001b[31m██████▍   \u001b[0m| 160/250 [4:51:10<2:43:58, 109.32s/it]"
     ]
    },
    {
     "name": "stdout",
     "output_type": "stream",
     "text": [
      "{'Epoch': 161, 'Train Loss': 0.32929928853261037, 'Train Accuracy': 0.8879477250726041, 'Val Loss': 0.4518165240923946, 'Val Accuracy': 0.8481624758220503, 'Val Precision': 0.8668704969137406, 'Val Recall': 0.8481624758220503}\n"
     ]
    },
    {
     "name": "stderr",
     "output_type": "stream",
     "text": [
      "c:\\Users\\Sid\\AppData\\Local\\Programs\\Python\\Python39\\lib\\site-packages\\huggingface_hub\\file_download.py:1132: FutureWarning: `resume_download` is deprecated and will be removed in version 1.0.0. Downloads always resume when possible. If you want to force a new download, use `force_download=True`.\n",
      "  warnings.warn(\n",
      "Epoch(s):  64%|\u001b[31m██████▍   \u001b[0m| 161/250 [4:52:59<2:42:04, 109.26s/it]"
     ]
    },
    {
     "name": "stdout",
     "output_type": "stream",
     "text": [
      "{'Epoch': 162, 'Train Loss': 0.3183522148095575, 'Train Accuracy': 0.888189738625363, 'Val Loss': 0.42455422141804144, 'Val Accuracy': 0.8588007736943907, 'Val Precision': 0.8570123954124936, 'Val Recall': 0.8588007736943907}\n"
     ]
    },
    {
     "name": "stderr",
     "output_type": "stream",
     "text": [
      "c:\\Users\\Sid\\AppData\\Local\\Programs\\Python\\Python39\\lib\\site-packages\\huggingface_hub\\file_download.py:1132: FutureWarning: `resume_download` is deprecated and will be removed in version 1.0.0. Downloads always resume when possible. If you want to force a new download, use `force_download=True`.\n",
      "  warnings.warn(\n",
      "Epoch(s):  65%|\u001b[31m██████▍   \u001b[0m| 162/250 [4:54:48<2:40:12, 109.23s/it]"
     ]
    },
    {
     "name": "stdout",
     "output_type": "stream",
     "text": [
      "{'Epoch': 163, 'Train Loss': 0.32618829816881867, 'Train Accuracy': 0.8821393998063891, 'Val Loss': 0.4488650695564082, 'Val Accuracy': 0.8452611218568665, 'Val Precision': 0.8594156017749016, 'Val Recall': 0.8452611218568665}\n"
     ]
    },
    {
     "name": "stderr",
     "output_type": "stream",
     "text": [
      "c:\\Users\\Sid\\AppData\\Local\\Programs\\Python\\Python39\\lib\\site-packages\\huggingface_hub\\file_download.py:1132: FutureWarning: `resume_download` is deprecated and will be removed in version 1.0.0. Downloads always resume when possible. If you want to force a new download, use `force_download=True`.\n",
      "  warnings.warn(\n",
      "Epoch(s):  65%|\u001b[31m██████▌   \u001b[0m| 163/250 [4:56:38<2:38:36, 109.39s/it]"
     ]
    },
    {
     "name": "stdout",
     "output_type": "stream",
     "text": [
      "{'Epoch': 164, 'Train Loss': 0.32005291777342904, 'Train Accuracy': 0.8862536302032914, 'Val Loss': 0.4311873498730935, 'Val Accuracy': 0.8617021276595744, 'Val Precision': 0.8685392084212221, 'Val Recall': 0.8617021276595744}\n"
     ]
    },
    {
     "name": "stderr",
     "output_type": "stream",
     "text": [
      "c:\\Users\\Sid\\AppData\\Local\\Programs\\Python\\Python39\\lib\\site-packages\\huggingface_hub\\file_download.py:1132: FutureWarning: `resume_download` is deprecated and will be removed in version 1.0.0. Downloads always resume when possible. If you want to force a new download, use `force_download=True`.\n",
      "  warnings.warn(\n",
      "Epoch(s):  66%|\u001b[31m██████▌   \u001b[0m| 164/250 [4:58:27<2:36:42, 109.33s/it]"
     ]
    },
    {
     "name": "stdout",
     "output_type": "stream",
     "text": [
      "{'Epoch': 165, 'Train Loss': 0.3109715182665002, 'Train Accuracy': 0.8913359148112294, 'Val Loss': 0.42374136604082124, 'Val Accuracy': 0.8520309477756286, 'Val Precision': 0.856787552667752, 'Val Recall': 0.8520309477756286}\n"
     ]
    },
    {
     "name": "stderr",
     "output_type": "stream",
     "text": [
      "c:\\Users\\Sid\\AppData\\Local\\Programs\\Python\\Python39\\lib\\site-packages\\huggingface_hub\\file_download.py:1132: FutureWarning: `resume_download` is deprecated and will be removed in version 1.0.0. Downloads always resume when possible. If you want to force a new download, use `force_download=True`.\n",
      "  warnings.warn(\n",
      "Epoch(s):  66%|\u001b[31m██████▌   \u001b[0m| 165/250 [5:00:16<2:34:48, 109.27s/it]"
     ]
    },
    {
     "name": "stdout",
     "output_type": "stream",
     "text": [
      "{'Epoch': 166, 'Train Loss': 0.30570794034431936, 'Train Accuracy': 0.888431752178122, 'Val Loss': 0.43565860791848254, 'Val Accuracy': 0.8491295938104448, 'Val Precision': 0.8685299538896556, 'Val Recall': 0.8491295938104448}\n"
     ]
    },
    {
     "name": "stderr",
     "output_type": "stream",
     "text": [
      "c:\\Users\\Sid\\AppData\\Local\\Programs\\Python\\Python39\\lib\\site-packages\\huggingface_hub\\file_download.py:1132: FutureWarning: `resume_download` is deprecated and will be removed in version 1.0.0. Downloads always resume when possible. If you want to force a new download, use `force_download=True`.\n",
      "  warnings.warn(\n",
      "Epoch(s):  66%|\u001b[31m██████▋   \u001b[0m| 166/250 [5:02:06<2:32:57, 109.26s/it]"
     ]
    },
    {
     "name": "stdout",
     "output_type": "stream",
     "text": [
      "{'Epoch': 167, 'Train Loss': 0.3173337565073348, 'Train Accuracy': 0.8857696030977735, 'Val Loss': 0.44689701781249963, 'Val Accuracy': 0.8471953578336557, 'Val Precision': 0.852125957408449, 'Val Recall': 0.8471953578336557}\n"
     ]
    },
    {
     "name": "stderr",
     "output_type": "stream",
     "text": [
      "c:\\Users\\Sid\\AppData\\Local\\Programs\\Python\\Python39\\lib\\site-packages\\huggingface_hub\\file_download.py:1132: FutureWarning: `resume_download` is deprecated and will be removed in version 1.0.0. Downloads always resume when possible. If you want to force a new download, use `force_download=True`.\n",
      "  warnings.warn(\n",
      "Epoch(s):  67%|\u001b[31m██████▋   \u001b[0m| 167/250 [5:03:55<2:31:07, 109.25s/it]"
     ]
    },
    {
     "name": "stdout",
     "output_type": "stream",
     "text": [
      "{'Epoch': 168, 'Train Loss': 0.3065323441790086, 'Train Accuracy': 0.8954501452081317, 'Val Loss': 0.4305541331378313, 'Val Accuracy': 0.8588007736943907, 'Val Precision': 0.8601738918253207, 'Val Recall': 0.8588007736943907}\n"
     ]
    },
    {
     "name": "stderr",
     "output_type": "stream",
     "text": [
      "c:\\Users\\Sid\\AppData\\Local\\Programs\\Python\\Python39\\lib\\site-packages\\huggingface_hub\\file_download.py:1132: FutureWarning: `resume_download` is deprecated and will be removed in version 1.0.0. Downloads always resume when possible. If you want to force a new download, use `force_download=True`.\n",
      "  warnings.warn(\n",
      "Epoch(s):  67%|\u001b[31m██████▋   \u001b[0m| 168/250 [5:05:44<2:29:16, 109.22s/it]"
     ]
    },
    {
     "name": "stdout",
     "output_type": "stream",
     "text": [
      "{'Epoch': 169, 'Train Loss': 0.3042117420405969, 'Train Accuracy': 0.893756050338819, 'Val Loss': 0.41719305756000374, 'Val Accuracy': 0.8597678916827853, 'Val Precision': 0.8626536378896256, 'Val Recall': 0.8597678916827853}\n"
     ]
    },
    {
     "name": "stderr",
     "output_type": "stream",
     "text": [
      "c:\\Users\\Sid\\AppData\\Local\\Programs\\Python\\Python39\\lib\\site-packages\\huggingface_hub\\file_download.py:1132: FutureWarning: `resume_download` is deprecated and will be removed in version 1.0.0. Downloads always resume when possible. If you want to force a new download, use `force_download=True`.\n",
      "  warnings.warn(\n",
      "Epoch(s):  68%|\u001b[31m██████▊   \u001b[0m| 169/250 [5:07:33<2:27:28, 109.24s/it]"
     ]
    },
    {
     "name": "stdout",
     "output_type": "stream",
     "text": [
      "{'Epoch': 170, 'Train Loss': 0.30647427245298525, 'Train Accuracy': 0.8939980638915779, 'Val Loss': 0.4356514766955605, 'Val Accuracy': 0.8539651837524178, 'Val Precision': 0.8662295855510864, 'Val Recall': 0.8539651837524178}\n"
     ]
    },
    {
     "name": "stderr",
     "output_type": "stream",
     "text": [
      "c:\\Users\\Sid\\AppData\\Local\\Programs\\Python\\Python39\\lib\\site-packages\\huggingface_hub\\file_download.py:1132: FutureWarning: `resume_download` is deprecated and will be removed in version 1.0.0. Downloads always resume when possible. If you want to force a new download, use `force_download=True`.\n",
      "  warnings.warn(\n",
      "Epoch(s):  68%|\u001b[31m██████▊   \u001b[0m| 170/250 [5:09:23<2:25:40, 109.25s/it]"
     ]
    },
    {
     "name": "stdout",
     "output_type": "stream",
     "text": [
      "{'Epoch': 171, 'Train Loss': 0.30107346271312146, 'Train Accuracy': 0.8930300096805421, 'Val Loss': 0.4308956766071228, 'Val Accuracy': 0.8607350096711799, 'Val Precision': 0.8660448906712853, 'Val Recall': 0.8607350096711799}\n"
     ]
    },
    {
     "name": "stderr",
     "output_type": "stream",
     "text": [
      "c:\\Users\\Sid\\AppData\\Local\\Programs\\Python\\Python39\\lib\\site-packages\\huggingface_hub\\file_download.py:1132: FutureWarning: `resume_download` is deprecated and will be removed in version 1.0.0. Downloads always resume when possible. If you want to force a new download, use `force_download=True`.\n",
      "  warnings.warn(\n",
      "Epoch(s):  68%|\u001b[31m██████▊   \u001b[0m| 171/250 [5:11:12<2:23:58, 109.34s/it]"
     ]
    },
    {
     "name": "stdout",
     "output_type": "stream",
     "text": [
      "{'Epoch': 172, 'Train Loss': 0.30862925267098723, 'Train Accuracy': 0.8920619554695063, 'Val Loss': 0.44971590588012567, 'Val Accuracy': 0.851063829787234, 'Val Precision': 0.8629051303479728, 'Val Recall': 0.851063829787234}\n"
     ]
    },
    {
     "name": "stderr",
     "output_type": "stream",
     "text": [
      "c:\\Users\\Sid\\AppData\\Local\\Programs\\Python\\Python39\\lib\\site-packages\\huggingface_hub\\file_download.py:1132: FutureWarning: `resume_download` is deprecated and will be removed in version 1.0.0. Downloads always resume when possible. If you want to force a new download, use `force_download=True`.\n",
      "  warnings.warn(\n",
      "Epoch(s):  69%|\u001b[31m██████▉   \u001b[0m| 172/250 [5:13:02<2:22:15, 109.42s/it]"
     ]
    },
    {
     "name": "stdout",
     "output_type": "stream",
     "text": [
      "{'Epoch': 173, 'Train Loss': 0.30140153084554383, 'Train Accuracy': 0.893756050338819, 'Val Loss': 0.4335978490085556, 'Val Accuracy': 0.8481624758220503, 'Val Precision': 0.8542542600512831, 'Val Recall': 0.8481624758220503}\n"
     ]
    },
    {
     "name": "stderr",
     "output_type": "stream",
     "text": [
      "c:\\Users\\Sid\\AppData\\Local\\Programs\\Python\\Python39\\lib\\site-packages\\huggingface_hub\\file_download.py:1132: FutureWarning: `resume_download` is deprecated and will be removed in version 1.0.0. Downloads always resume when possible. If you want to force a new download, use `force_download=True`.\n",
      "  warnings.warn(\n",
      "Epoch(s):  69%|\u001b[31m██████▉   \u001b[0m| 173/250 [5:14:51<2:20:20, 109.36s/it]"
     ]
    },
    {
     "name": "stdout",
     "output_type": "stream",
     "text": [
      "{'Epoch': 174, 'Train Loss': 0.30167184545816744, 'Train Accuracy': 0.8903678606001936, 'Val Loss': 0.4175422019253556, 'Val Accuracy': 0.8558994197292069, 'Val Precision': 0.8587636330330921, 'Val Recall': 0.8558994197292069}\n"
     ]
    },
    {
     "name": "stderr",
     "output_type": "stream",
     "text": [
      "c:\\Users\\Sid\\AppData\\Local\\Programs\\Python\\Python39\\lib\\site-packages\\huggingface_hub\\file_download.py:1132: FutureWarning: `resume_download` is deprecated and will be removed in version 1.0.0. Downloads always resume when possible. If you want to force a new download, use `force_download=True`.\n",
      "  warnings.warn(\n",
      "Epoch(s):  70%|\u001b[31m██████▉   \u001b[0m| 174/250 [5:16:41<2:18:38, 109.45s/it]"
     ]
    },
    {
     "name": "stdout",
     "output_type": "stream",
     "text": [
      "{'Epoch': 175, 'Train Loss': 0.2954557524224506, 'Train Accuracy': 0.893272023233301, 'Val Loss': 0.45117790662468626, 'Val Accuracy': 0.844294003868472, 'Val Precision': 0.8454592071758823, 'Val Recall': 0.844294003868472}\n"
     ]
    },
    {
     "name": "stderr",
     "output_type": "stream",
     "text": [
      "c:\\Users\\Sid\\AppData\\Local\\Programs\\Python\\Python39\\lib\\site-packages\\huggingface_hub\\file_download.py:1132: FutureWarning: `resume_download` is deprecated and will be removed in version 1.0.0. Downloads always resume when possible. If you want to force a new download, use `force_download=True`.\n",
      "  warnings.warn(\n",
      "Epoch(s):  70%|\u001b[31m███████   \u001b[0m| 175/250 [5:18:30<2:16:42, 109.37s/it]"
     ]
    },
    {
     "name": "stdout",
     "output_type": "stream",
     "text": [
      "{'Epoch': 176, 'Train Loss': 0.291508149646913, 'Train Accuracy': 0.898838334946757, 'Val Loss': 0.4279020363393311, 'Val Accuracy': 0.8607350096711799, 'Val Precision': 0.8586248289958488, 'Val Recall': 0.8607350096711799}\n"
     ]
    },
    {
     "name": "stderr",
     "output_type": "stream",
     "text": [
      "c:\\Users\\Sid\\AppData\\Local\\Programs\\Python\\Python39\\lib\\site-packages\\huggingface_hub\\file_download.py:1132: FutureWarning: `resume_download` is deprecated and will be removed in version 1.0.0. Downloads always resume when possible. If you want to force a new download, use `force_download=True`.\n",
      "  warnings.warn(\n",
      "Epoch(s):  70%|\u001b[31m███████   \u001b[0m| 176/250 [5:20:19<2:14:48, 109.31s/it]"
     ]
    },
    {
     "name": "stdout",
     "output_type": "stream",
     "text": [
      "{'Epoch': 177, 'Train Loss': 0.2919564328604094, 'Train Accuracy': 0.899080348499516, 'Val Loss': 0.4223909905466896, 'Val Accuracy': 0.8568665377176016, 'Val Precision': 0.8684397597371551, 'Val Recall': 0.8568665377176016}\n"
     ]
    },
    {
     "name": "stderr",
     "output_type": "stream",
     "text": [
      "c:\\Users\\Sid\\AppData\\Local\\Programs\\Python\\Python39\\lib\\site-packages\\huggingface_hub\\file_download.py:1132: FutureWarning: `resume_download` is deprecated and will be removed in version 1.0.0. Downloads always resume when possible. If you want to force a new download, use `force_download=True`.\n",
      "  warnings.warn(\n",
      "Epoch(s):  71%|\u001b[31m███████   \u001b[0m| 177/250 [5:22:09<2:13:07, 109.42s/it]"
     ]
    },
    {
     "name": "stdout",
     "output_type": "stream",
     "text": [
      "{'Epoch': 178, 'Train Loss': 0.2926551944191449, 'Train Accuracy': 0.8942400774443369, 'Val Loss': 0.4420921384858397, 'Val Accuracy': 0.8607350096711799, 'Val Precision': 0.8704487298356092, 'Val Recall': 0.8607350096711799}\n"
     ]
    },
    {
     "name": "stderr",
     "output_type": "stream",
     "text": [
      "c:\\Users\\Sid\\AppData\\Local\\Programs\\Python\\Python39\\lib\\site-packages\\huggingface_hub\\file_download.py:1132: FutureWarning: `resume_download` is deprecated and will be removed in version 1.0.0. Downloads always resume when possible. If you want to force a new download, use `force_download=True`.\n",
      "  warnings.warn(\n",
      "Epoch(s):  71%|\u001b[31m███████   \u001b[0m| 178/250 [5:23:58<2:11:13, 109.36s/it]"
     ]
    },
    {
     "name": "stdout",
     "output_type": "stream",
     "text": [
      "{'Epoch': 179, 'Train Loss': 0.285858771695421, 'Train Accuracy': 0.898838334946757, 'Val Loss': 0.4312981627451686, 'Val Accuracy': 0.8597678916827853, 'Val Precision': 0.8678880120088849, 'Val Recall': 0.8597678916827853}\n"
     ]
    },
    {
     "name": "stderr",
     "output_type": "stream",
     "text": [
      "c:\\Users\\Sid\\AppData\\Local\\Programs\\Python\\Python39\\lib\\site-packages\\huggingface_hub\\file_download.py:1132: FutureWarning: `resume_download` is deprecated and will be removed in version 1.0.0. Downloads always resume when possible. If you want to force a new download, use `force_download=True`.\n",
      "  warnings.warn(\n",
      "Epoch(s):  72%|\u001b[31m███████▏  \u001b[0m| 179/250 [5:25:48<2:09:31, 109.45s/it]"
     ]
    },
    {
     "name": "stdout",
     "output_type": "stream",
     "text": [
      "{'Epoch': 180, 'Train Loss': 0.27928062080420035, 'Train Accuracy': 0.9022265246853823, 'Val Loss': 0.44298533900425985, 'Val Accuracy': 0.8500967117988395, 'Val Precision': 0.8676696982912874, 'Val Recall': 0.8500967117988395}\n"
     ]
    },
    {
     "name": "stderr",
     "output_type": "stream",
     "text": [
      "c:\\Users\\Sid\\AppData\\Local\\Programs\\Python\\Python39\\lib\\site-packages\\huggingface_hub\\file_download.py:1132: FutureWarning: `resume_download` is deprecated and will be removed in version 1.0.0. Downloads always resume when possible. If you want to force a new download, use `force_download=True`.\n",
      "  warnings.warn(\n",
      "Epoch(s):  72%|\u001b[31m███████▏  \u001b[0m| 180/250 [5:27:37<2:07:34, 109.35s/it]"
     ]
    },
    {
     "name": "stdout",
     "output_type": "stream",
     "text": [
      "{'Epoch': 181, 'Train Loss': 0.2862587781105205, 'Train Accuracy': 0.9007744433688286, 'Val Loss': 0.44098218106306514, 'Val Accuracy': 0.8568665377176016, 'Val Precision': 0.8699631587731154, 'Val Recall': 0.8568665377176016}\n"
     ]
    },
    {
     "name": "stderr",
     "output_type": "stream",
     "text": [
      "c:\\Users\\Sid\\AppData\\Local\\Programs\\Python\\Python39\\lib\\site-packages\\huggingface_hub\\file_download.py:1132: FutureWarning: `resume_download` is deprecated and will be removed in version 1.0.0. Downloads always resume when possible. If you want to force a new download, use `force_download=True`.\n",
      "  warnings.warn(\n",
      "Epoch(s):  72%|\u001b[31m███████▏  \u001b[0m| 181/250 [5:29:26<2:05:40, 109.28s/it]"
     ]
    },
    {
     "name": "stdout",
     "output_type": "stream",
     "text": [
      "{'Epoch': 182, 'Train Loss': 0.286209215569282, 'Train Accuracy': 0.9024685382381413, 'Val Loss': 0.41216363187592764, 'Val Accuracy': 0.8607350096711799, 'Val Precision': 0.8627795634721896, 'Val Recall': 0.8607350096711799}\n"
     ]
    },
    {
     "name": "stderr",
     "output_type": "stream",
     "text": [
      "c:\\Users\\Sid\\AppData\\Local\\Programs\\Python\\Python39\\lib\\site-packages\\huggingface_hub\\file_download.py:1132: FutureWarning: `resume_download` is deprecated and will be removed in version 1.0.0. Downloads always resume when possible. If you want to force a new download, use `force_download=True`.\n",
      "  warnings.warn(\n",
      "Epoch(s):  73%|\u001b[31m███████▎  \u001b[0m| 182/250 [5:31:15<2:03:51, 109.28s/it]"
     ]
    },
    {
     "name": "stdout",
     "output_type": "stream",
     "text": [
      "{'Epoch': 183, 'Train Loss': 0.2866907970562692, 'Train Accuracy': 0.898838334946757, 'Val Loss': 0.42498955546090234, 'Val Accuracy': 0.8481624758220503, 'Val Precision': 0.8554002759849242, 'Val Recall': 0.8481624758220503}\n"
     ]
    },
    {
     "name": "stderr",
     "output_type": "stream",
     "text": [
      "c:\\Users\\Sid\\AppData\\Local\\Programs\\Python\\Python39\\lib\\site-packages\\huggingface_hub\\file_download.py:1132: FutureWarning: `resume_download` is deprecated and will be removed in version 1.0.0. Downloads always resume when possible. If you want to force a new download, use `force_download=True`.\n",
      "  warnings.warn(\n",
      "Epoch(s):  73%|\u001b[31m███████▎  \u001b[0m| 183/250 [5:33:04<2:02:00, 109.26s/it]"
     ]
    },
    {
     "name": "stdout",
     "output_type": "stream",
     "text": [
      "{'Epoch': 184, 'Train Loss': 0.2836851912072381, 'Train Accuracy': 0.9000484027105518, 'Val Loss': 0.4228210339107766, 'Val Accuracy': 0.8549323017408124, 'Val Precision': 0.8586343716617548, 'Val Recall': 0.8549323017408124}\n"
     ]
    },
    {
     "name": "stderr",
     "output_type": "stream",
     "text": [
      "c:\\Users\\Sid\\AppData\\Local\\Programs\\Python\\Python39\\lib\\site-packages\\huggingface_hub\\file_download.py:1132: FutureWarning: `resume_download` is deprecated and will be removed in version 1.0.0. Downloads always resume when possible. If you want to force a new download, use `force_download=True`.\n",
      "  warnings.warn(\n",
      "Epoch(s):  74%|\u001b[31m███████▎  \u001b[0m| 184/250 [5:34:54<2:00:10, 109.25s/it]"
     ]
    },
    {
     "name": "stdout",
     "output_type": "stream",
     "text": [
      "{'Epoch': 185, 'Train Loss': 0.2774100784090092, 'Train Accuracy': 0.9053727008712488, 'Val Loss': 0.4694292461571212, 'Val Accuracy': 0.8529980657640233, 'Val Precision': 0.8678309265888996, 'Val Recall': 0.8529980657640233}\n"
     ]
    },
    {
     "name": "stderr",
     "output_type": "stream",
     "text": [
      "c:\\Users\\Sid\\AppData\\Local\\Programs\\Python\\Python39\\lib\\site-packages\\huggingface_hub\\file_download.py:1132: FutureWarning: `resume_download` is deprecated and will be removed in version 1.0.0. Downloads always resume when possible. If you want to force a new download, use `force_download=True`.\n",
      "  warnings.warn(\n",
      "Epoch(s):  74%|\u001b[31m███████▍  \u001b[0m| 185/250 [5:36:43<1:58:21, 109.25s/it]"
     ]
    },
    {
     "name": "stdout",
     "output_type": "stream",
     "text": [
      "{'Epoch': 186, 'Train Loss': 0.28422656660750295, 'Train Accuracy': 0.9017424975798645, 'Val Loss': 0.42674202262782135, 'Val Accuracy': 0.8481624758220503, 'Val Precision': 0.8656546607537291, 'Val Recall': 0.8481624758220503}\n"
     ]
    },
    {
     "name": "stderr",
     "output_type": "stream",
     "text": [
      "c:\\Users\\Sid\\AppData\\Local\\Programs\\Python\\Python39\\lib\\site-packages\\huggingface_hub\\file_download.py:1132: FutureWarning: `resume_download` is deprecated and will be removed in version 1.0.0. Downloads always resume when possible. If you want to force a new download, use `force_download=True`.\n",
      "  warnings.warn(\n",
      "Epoch(s):  74%|\u001b[31m███████▍  \u001b[0m| 186/250 [5:38:32<1:56:33, 109.27s/it]"
     ]
    },
    {
     "name": "stdout",
     "output_type": "stream",
     "text": [
      "{'Epoch': 187, 'Train Loss': 0.27727299081395346, 'Train Accuracy': 0.9048886737657309, 'Val Loss': 0.4124957484837908, 'Val Accuracy': 0.8597678916827853, 'Val Precision': 0.8713106981629063, 'Val Recall': 0.8597678916827853}\n"
     ]
    },
    {
     "name": "stderr",
     "output_type": "stream",
     "text": [
      "c:\\Users\\Sid\\AppData\\Local\\Programs\\Python\\Python39\\lib\\site-packages\\huggingface_hub\\file_download.py:1132: FutureWarning: `resume_download` is deprecated and will be removed in version 1.0.0. Downloads always resume when possible. If you want to force a new download, use `force_download=True`.\n",
      "  warnings.warn(\n",
      "Epoch(s):  75%|\u001b[31m███████▍  \u001b[0m| 187/250 [5:40:21<1:54:43, 109.26s/it]"
     ]
    },
    {
     "name": "stdout",
     "output_type": "stream",
     "text": [
      "{'Epoch': 188, 'Train Loss': 0.2791183480006754, 'Train Accuracy': 0.9060987415295256, 'Val Loss': 0.4101265623019292, 'Val Accuracy': 0.8568665377176016, 'Val Precision': 0.8632106689828267, 'Val Recall': 0.8568665377176016}\n"
     ]
    },
    {
     "name": "stderr",
     "output_type": "stream",
     "text": [
      "c:\\Users\\Sid\\AppData\\Local\\Programs\\Python\\Python39\\lib\\site-packages\\huggingface_hub\\file_download.py:1132: FutureWarning: `resume_download` is deprecated and will be removed in version 1.0.0. Downloads always resume when possible. If you want to force a new download, use `force_download=True`.\n",
      "  warnings.warn(\n",
      "Epoch(s):  75%|\u001b[31m███████▌  \u001b[0m| 188/250 [5:42:11<1:52:53, 109.25s/it]"
     ]
    },
    {
     "name": "stdout",
     "output_type": "stream",
     "text": [
      "{'Epoch': 189, 'Train Loss': 0.27444439963887096, 'Train Accuracy': 0.9080348499515973, 'Val Loss': 0.42779413728186716, 'Val Accuracy': 0.8520309477756286, 'Val Precision': 0.8606062312864574, 'Val Recall': 0.8520309477756286}\n"
     ]
    },
    {
     "name": "stderr",
     "output_type": "stream",
     "text": [
      "c:\\Users\\Sid\\AppData\\Local\\Programs\\Python\\Python39\\lib\\site-packages\\huggingface_hub\\file_download.py:1132: FutureWarning: `resume_download` is deprecated and will be removed in version 1.0.0. Downloads always resume when possible. If you want to force a new download, use `force_download=True`.\n",
      "  warnings.warn(\n",
      "Epoch(s):  76%|\u001b[31m███████▌  \u001b[0m| 189/250 [5:44:00<1:51:04, 109.26s/it]"
     ]
    },
    {
     "name": "stdout",
     "output_type": "stream",
     "text": [
      "{'Epoch': 190, 'Train Loss': 0.2709340209842113, 'Train Accuracy': 0.9044046466602129, 'Val Loss': 0.4349480256366615, 'Val Accuracy': 0.8597678916827853, 'Val Precision': 0.8648531862963171, 'Val Recall': 0.8597678916827853}\n"
     ]
    },
    {
     "name": "stderr",
     "output_type": "stream",
     "text": [
      "c:\\Users\\Sid\\AppData\\Local\\Programs\\Python\\Python39\\lib\\site-packages\\huggingface_hub\\file_download.py:1132: FutureWarning: `resume_download` is deprecated and will be removed in version 1.0.0. Downloads always resume when possible. If you want to force a new download, use `force_download=True`.\n",
      "  warnings.warn(\n",
      "Epoch(s):  76%|\u001b[31m███████▌  \u001b[0m| 190/250 [5:45:49<1:49:15, 109.27s/it]"
     ]
    },
    {
     "name": "stdout",
     "output_type": "stream",
     "text": [
      "{'Epoch': 191, 'Train Loss': 0.2686301314215352, 'Train Accuracy': 0.9034365924491772, 'Val Loss': 0.4486999403685331, 'Val Accuracy': 0.8471953578336557, 'Val Precision': 0.861416679905328, 'Val Recall': 0.8471953578336557}\n"
     ]
    },
    {
     "name": "stderr",
     "output_type": "stream",
     "text": [
      "c:\\Users\\Sid\\AppData\\Local\\Programs\\Python\\Python39\\lib\\site-packages\\huggingface_hub\\file_download.py:1132: FutureWarning: `resume_download` is deprecated and will be removed in version 1.0.0. Downloads always resume when possible. If you want to force a new download, use `force_download=True`.\n",
      "  warnings.warn(\n",
      "Epoch(s):  76%|\u001b[31m███████▋  \u001b[0m| 191/250 [5:47:39<1:47:32, 109.37s/it]"
     ]
    },
    {
     "name": "stdout",
     "output_type": "stream",
     "text": [
      "{'Epoch': 192, 'Train Loss': 0.2620976688735849, 'Train Accuracy': 0.9034365924491772, 'Val Loss': 0.416529523437986, 'Val Accuracy': 0.8568665377176016, 'Val Precision': 0.8670737667814249, 'Val Recall': 0.8568665377176016}\n"
     ]
    },
    {
     "name": "stderr",
     "output_type": "stream",
     "text": [
      "c:\\Users\\Sid\\AppData\\Local\\Programs\\Python\\Python39\\lib\\site-packages\\huggingface_hub\\file_download.py:1132: FutureWarning: `resume_download` is deprecated and will be removed in version 1.0.0. Downloads always resume when possible. If you want to force a new download, use `force_download=True`.\n",
      "  warnings.warn(\n",
      "Epoch(s):  77%|\u001b[31m███████▋  \u001b[0m| 192/250 [5:49:29<1:45:50, 109.49s/it]"
     ]
    },
    {
     "name": "stdout",
     "output_type": "stream",
     "text": [
      "{'Epoch': 193, 'Train Loss': 0.2706904710660613, 'Train Accuracy': 0.9022265246853823, 'Val Loss': 0.4242815259844065, 'Val Accuracy': 0.8539651837524178, 'Val Precision': 0.8562731344145081, 'Val Recall': 0.8539651837524178}\n"
     ]
    },
    {
     "name": "stderr",
     "output_type": "stream",
     "text": [
      "c:\\Users\\Sid\\AppData\\Local\\Programs\\Python\\Python39\\lib\\site-packages\\huggingface_hub\\file_download.py:1132: FutureWarning: `resume_download` is deprecated and will be removed in version 1.0.0. Downloads always resume when possible. If you want to force a new download, use `force_download=True`.\n",
      "  warnings.warn(\n",
      "Epoch(s):  77%|\u001b[31m███████▋  \u001b[0m| 193/250 [5:51:18<1:43:56, 109.42s/it]"
     ]
    },
    {
     "name": "stdout",
     "output_type": "stream",
     "text": [
      "{'Epoch': 194, 'Train Loss': 0.26220301046345423, 'Train Accuracy': 0.9024685382381413, 'Val Loss': 0.43339714877880536, 'Val Accuracy': 0.8462282398452611, 'Val Precision': 0.8653581539385924, 'Val Recall': 0.8462282398452611}\n"
     ]
    },
    {
     "name": "stderr",
     "output_type": "stream",
     "text": [
      "c:\\Users\\Sid\\AppData\\Local\\Programs\\Python\\Python39\\lib\\site-packages\\huggingface_hub\\file_download.py:1132: FutureWarning: `resume_download` is deprecated and will be removed in version 1.0.0. Downloads always resume when possible. If you want to force a new download, use `force_download=True`.\n",
      "  warnings.warn(\n",
      "Epoch(s):  78%|\u001b[31m███████▊  \u001b[0m| 194/250 [5:53:07<1:42:04, 109.37s/it]"
     ]
    },
    {
     "name": "stdout",
     "output_type": "stream",
     "text": [
      "{'Epoch': 195, 'Train Loss': 0.261759192427498, 'Train Accuracy': 0.9068247821878025, 'Val Loss': 0.45226966207846997, 'Val Accuracy': 0.8549323017408124, 'Val Precision': 0.8684086906535408, 'Val Recall': 0.8549323017408124}\n"
     ]
    },
    {
     "name": "stderr",
     "output_type": "stream",
     "text": [
      "c:\\Users\\Sid\\AppData\\Local\\Programs\\Python\\Python39\\lib\\site-packages\\huggingface_hub\\file_download.py:1132: FutureWarning: `resume_download` is deprecated and will be removed in version 1.0.0. Downloads always resume when possible. If you want to force a new download, use `force_download=True`.\n",
      "  warnings.warn(\n",
      "Epoch(s):  78%|\u001b[31m███████▊  \u001b[0m| 195/250 [5:54:56<1:40:14, 109.36s/it]"
     ]
    },
    {
     "name": "stdout",
     "output_type": "stream",
     "text": [
      "{'Epoch': 196, 'Train Loss': 0.26608267705438077, 'Train Accuracy': 0.904162633107454, 'Val Loss': 0.4393987664236472, 'Val Accuracy': 0.8578336557059961, 'Val Precision': 0.8621126820176942, 'Val Recall': 0.8578336557059961}\n"
     ]
    },
    {
     "name": "stderr",
     "output_type": "stream",
     "text": [
      "c:\\Users\\Sid\\AppData\\Local\\Programs\\Python\\Python39\\lib\\site-packages\\huggingface_hub\\file_download.py:1132: FutureWarning: `resume_download` is deprecated and will be removed in version 1.0.0. Downloads always resume when possible. If you want to force a new download, use `force_download=True`.\n",
      "  warnings.warn(\n",
      "Epoch(s):  78%|\u001b[31m███████▊  \u001b[0m| 196/250 [5:56:46<1:38:22, 109.31s/it]"
     ]
    },
    {
     "name": "stdout",
     "output_type": "stream",
     "text": [
      "{'Epoch': 197, 'Train Loss': 0.26170163736331997, 'Train Accuracy': 0.9097289448209099, 'Val Loss': 0.4388765923249034, 'Val Accuracy': 0.8481624758220503, 'Val Precision': 0.8685448148034619, 'Val Recall': 0.8481624758220503}\n"
     ]
    },
    {
     "name": "stderr",
     "output_type": "stream",
     "text": [
      "c:\\Users\\Sid\\AppData\\Local\\Programs\\Python\\Python39\\lib\\site-packages\\huggingface_hub\\file_download.py:1132: FutureWarning: `resume_download` is deprecated and will be removed in version 1.0.0. Downloads always resume when possible. If you want to force a new download, use `force_download=True`.\n",
      "  warnings.warn(\n",
      "Epoch(s):  79%|\u001b[31m███████▉  \u001b[0m| 197/250 [5:58:35<1:36:39, 109.43s/it]"
     ]
    },
    {
     "name": "stdout",
     "output_type": "stream",
     "text": [
      "{'Epoch': 198, 'Train Loss': 0.25505393007412847, 'Train Accuracy': 0.9140851887705711, 'Val Loss': 0.41875970975424237, 'Val Accuracy': 0.8578336557059961, 'Val Precision': 0.8653935023681312, 'Val Recall': 0.8578336557059961}\n"
     ]
    },
    {
     "name": "stderr",
     "output_type": "stream",
     "text": [
      "c:\\Users\\Sid\\AppData\\Local\\Programs\\Python\\Python39\\lib\\site-packages\\huggingface_hub\\file_download.py:1132: FutureWarning: `resume_download` is deprecated and will be removed in version 1.0.0. Downloads always resume when possible. If you want to force a new download, use `force_download=True`.\n",
      "  warnings.warn(\n",
      "Epoch(s):  79%|\u001b[31m███████▉  \u001b[0m| 198/250 [6:00:24<1:34:46, 109.36s/it]"
     ]
    },
    {
     "name": "stdout",
     "output_type": "stream",
     "text": [
      "{'Epoch': 199, 'Train Loss': 0.2541878289600626, 'Train Accuracy': 0.9109390125847048, 'Val Loss': 0.45211514172932277, 'Val Accuracy': 0.8539651837524178, 'Val Precision': 0.8650761148318868, 'Val Recall': 0.8539651837524178}\n"
     ]
    },
    {
     "name": "stderr",
     "output_type": "stream",
     "text": [
      "c:\\Users\\Sid\\AppData\\Local\\Programs\\Python\\Python39\\lib\\site-packages\\huggingface_hub\\file_download.py:1132: FutureWarning: `resume_download` is deprecated and will be removed in version 1.0.0. Downloads always resume when possible. If you want to force a new download, use `force_download=True`.\n",
      "  warnings.warn(\n",
      "Epoch(s):  80%|\u001b[31m███████▉  \u001b[0m| 199/250 [6:02:14<1:32:55, 109.32s/it]"
     ]
    },
    {
     "name": "stdout",
     "output_type": "stream",
     "text": [
      "{'Epoch': 200, 'Train Loss': 0.2524474804274132, 'Train Accuracy': 0.9068247821878025, 'Val Loss': 0.42931497316234385, 'Val Accuracy': 0.8558994197292069, 'Val Precision': 0.8666483594934993, 'Val Recall': 0.8558994197292069}\n"
     ]
    },
    {
     "name": "stderr",
     "output_type": "stream",
     "text": [
      "c:\\Users\\Sid\\AppData\\Local\\Programs\\Python\\Python39\\lib\\site-packages\\huggingface_hub\\file_download.py:1132: FutureWarning: `resume_download` is deprecated and will be removed in version 1.0.0. Downloads always resume when possible. If you want to force a new download, use `force_download=True`.\n",
      "  warnings.warn(\n",
      "Epoch(s):  80%|\u001b[31m████████  \u001b[0m| 200/250 [6:04:03<1:31:04, 109.28s/it]"
     ]
    },
    {
     "name": "stdout",
     "output_type": "stream",
     "text": [
      "{'Epoch': 201, 'Train Loss': 0.24896534012350105, 'Train Accuracy': 0.914811229428848, 'Val Loss': 0.4368378219839472, 'Val Accuracy': 0.8558994197292069, 'Val Precision': 0.8638145667215524, 'Val Recall': 0.8558994197292069}\n"
     ]
    },
    {
     "name": "stderr",
     "output_type": "stream",
     "text": [
      "c:\\Users\\Sid\\AppData\\Local\\Programs\\Python\\Python39\\lib\\site-packages\\huggingface_hub\\file_download.py:1132: FutureWarning: `resume_download` is deprecated and will be removed in version 1.0.0. Downloads always resume when possible. If you want to force a new download, use `force_download=True`.\n",
      "  warnings.warn(\n",
      "Epoch(s):  80%|\u001b[31m████████  \u001b[0m| 201/250 [6:05:52<1:29:14, 109.27s/it]"
     ]
    },
    {
     "name": "stdout",
     "output_type": "stream",
     "text": [
      "{'Epoch': 202, 'Train Loss': 0.24660419931268485, 'Train Accuracy': 0.9128751210067764, 'Val Loss': 0.4105838051495644, 'Val Accuracy': 0.8704061895551257, 'Val Precision': 0.8795158135939747, 'Val Recall': 0.8704061895551257}\n"
     ]
    },
    {
     "name": "stderr",
     "output_type": "stream",
     "text": [
      "c:\\Users\\Sid\\AppData\\Local\\Programs\\Python\\Python39\\lib\\site-packages\\huggingface_hub\\file_download.py:1132: FutureWarning: `resume_download` is deprecated and will be removed in version 1.0.0. Downloads always resume when possible. If you want to force a new download, use `force_download=True`.\n",
      "  warnings.warn(\n",
      "Epoch(s):  81%|\u001b[31m████████  \u001b[0m| 202/250 [6:07:42<1:27:36, 109.50s/it]"
     ]
    },
    {
     "name": "stdout",
     "output_type": "stream",
     "text": [
      "{'Epoch': 203, 'Train Loss': 0.2581654265433061, 'Train Accuracy': 0.9073088092933205, 'Val Loss': 0.42523386407500274, 'Val Accuracy': 0.8578336557059961, 'Val Precision': 0.8630452090315607, 'Val Recall': 0.8578336557059961}\n"
     ]
    },
    {
     "name": "stderr",
     "output_type": "stream",
     "text": [
      "c:\\Users\\Sid\\AppData\\Local\\Programs\\Python\\Python39\\lib\\site-packages\\huggingface_hub\\file_download.py:1132: FutureWarning: `resume_download` is deprecated and will be removed in version 1.0.0. Downloads always resume when possible. If you want to force a new download, use `force_download=True`.\n",
      "  warnings.warn(\n",
      "Epoch(s):  81%|\u001b[31m████████  \u001b[0m| 203/250 [6:09:31<1:25:42, 109.41s/it]"
     ]
    },
    {
     "name": "stdout",
     "output_type": "stream",
     "text": [
      "{'Epoch': 204, 'Train Loss': 0.24329937333205146, 'Train Accuracy': 0.9128751210067764, 'Val Loss': 0.44228474259949646, 'Val Accuracy': 0.8597678916827853, 'Val Precision': 0.8740899783450444, 'Val Recall': 0.8597678916827853}\n"
     ]
    },
    {
     "name": "stderr",
     "output_type": "stream",
     "text": [
      "c:\\Users\\Sid\\AppData\\Local\\Programs\\Python\\Python39\\lib\\site-packages\\huggingface_hub\\file_download.py:1132: FutureWarning: `resume_download` is deprecated and will be removed in version 1.0.0. Downloads always resume when possible. If you want to force a new download, use `force_download=True`.\n",
      "  warnings.warn(\n",
      "Epoch(s):  82%|\u001b[31m████████▏ \u001b[0m| 204/250 [6:11:21<1:23:49, 109.35s/it]"
     ]
    },
    {
     "name": "stdout",
     "output_type": "stream",
     "text": [
      "{'Epoch': 205, 'Train Loss': 0.2452392743030225, 'Train Accuracy': 0.9114230396902226, 'Val Loss': 0.44333438454195856, 'Val Accuracy': 0.8597678916827853, 'Val Precision': 0.8729118292304854, 'Val Recall': 0.8597678916827853}\n"
     ]
    },
    {
     "name": "stderr",
     "output_type": "stream",
     "text": [
      "c:\\Users\\Sid\\AppData\\Local\\Programs\\Python\\Python39\\lib\\site-packages\\huggingface_hub\\file_download.py:1132: FutureWarning: `resume_download` is deprecated and will be removed in version 1.0.0. Downloads always resume when possible. If you want to force a new download, use `force_download=True`.\n",
      "  warnings.warn(\n",
      "Epoch(s):  82%|\u001b[31m████████▏ \u001b[0m| 205/250 [6:13:10<1:21:58, 109.31s/it]"
     ]
    },
    {
     "name": "stdout",
     "output_type": "stream",
     "text": [
      "{'Epoch': 206, 'Train Loss': 0.23839463807038358, 'Train Accuracy': 0.9119070667957405, 'Val Loss': 0.4338040369419524, 'Val Accuracy': 0.8607350096711799, 'Val Precision': 0.8715953642804473, 'Val Recall': 0.8607350096711799}\n"
     ]
    },
    {
     "name": "stderr",
     "output_type": "stream",
     "text": [
      "c:\\Users\\Sid\\AppData\\Local\\Programs\\Python\\Python39\\lib\\site-packages\\huggingface_hub\\file_download.py:1132: FutureWarning: `resume_download` is deprecated and will be removed in version 1.0.0. Downloads always resume when possible. If you want to force a new download, use `force_download=True`.\n",
      "  warnings.warn(\n",
      "Epoch(s):  82%|\u001b[31m████████▏ \u001b[0m| 206/250 [6:14:59<1:20:08, 109.28s/it]"
     ]
    },
    {
     "name": "stdout",
     "output_type": "stream",
     "text": [
      "{'Epoch': 207, 'Train Loss': 0.2504338452297633, 'Train Accuracy': 0.9102129719264279, 'Val Loss': 0.4139603503621542, 'Val Accuracy': 0.8665377176015474, 'Val Precision': 0.8715132014948482, 'Val Recall': 0.8665377176015474}\n"
     ]
    },
    {
     "name": "stderr",
     "output_type": "stream",
     "text": [
      "c:\\Users\\Sid\\AppData\\Local\\Programs\\Python\\Python39\\lib\\site-packages\\huggingface_hub\\file_download.py:1132: FutureWarning: `resume_download` is deprecated and will be removed in version 1.0.0. Downloads always resume when possible. If you want to force a new download, use `force_download=True`.\n",
      "  warnings.warn(\n",
      "Epoch(s):  83%|\u001b[31m████████▎ \u001b[0m| 207/250 [6:16:49<1:18:22, 109.37s/it]"
     ]
    },
    {
     "name": "stdout",
     "output_type": "stream",
     "text": [
      "{'Epoch': 208, 'Train Loss': 0.2502233248786519, 'Train Accuracy': 0.9114230396902226, 'Val Loss': 0.4599644906245745, 'Val Accuracy': 0.851063829787234, 'Val Precision': 0.8607715993372549, 'Val Recall': 0.851063829787234}\n"
     ]
    },
    {
     "name": "stderr",
     "output_type": "stream",
     "text": [
      "c:\\Users\\Sid\\AppData\\Local\\Programs\\Python\\Python39\\lib\\site-packages\\huggingface_hub\\file_download.py:1132: FutureWarning: `resume_download` is deprecated and will be removed in version 1.0.0. Downloads always resume when possible. If you want to force a new download, use `force_download=True`.\n",
      "  warnings.warn(\n",
      "Epoch(s):  83%|\u001b[31m████████▎ \u001b[0m| 208/250 [6:18:38<1:16:31, 109.32s/it]"
     ]
    },
    {
     "name": "stdout",
     "output_type": "stream",
     "text": [
      "{'Epoch': 209, 'Train Loss': 0.2417777937614003, 'Train Accuracy': 0.9128751210067764, 'Val Loss': 0.43284282490181236, 'Val Accuracy': 0.8549323017408124, 'Val Precision': 0.8645834062762586, 'Val Recall': 0.8549323017408124}\n"
     ]
    },
    {
     "name": "stderr",
     "output_type": "stream",
     "text": [
      "c:\\Users\\Sid\\AppData\\Local\\Programs\\Python\\Python39\\lib\\site-packages\\huggingface_hub\\file_download.py:1132: FutureWarning: `resume_download` is deprecated and will be removed in version 1.0.0. Downloads always resume when possible. If you want to force a new download, use `force_download=True`.\n",
      "  warnings.warn(\n",
      "Epoch(s):  84%|\u001b[31m████████▎ \u001b[0m| 209/250 [6:20:27<1:14:41, 109.31s/it]"
     ]
    },
    {
     "name": "stdout",
     "output_type": "stream",
     "text": [
      "{'Epoch': 210, 'Train Loss': 0.23671882543227415, 'Train Accuracy': 0.9169893514036787, 'Val Loss': 0.42351068089214655, 'Val Accuracy': 0.8655705996131529, 'Val Precision': 0.8723184043049419, 'Val Recall': 0.8655705996131529}\n"
     ]
    },
    {
     "name": "stderr",
     "output_type": "stream",
     "text": [
      "c:\\Users\\Sid\\AppData\\Local\\Programs\\Python\\Python39\\lib\\site-packages\\huggingface_hub\\file_download.py:1132: FutureWarning: `resume_download` is deprecated and will be removed in version 1.0.0. Downloads always resume when possible. If you want to force a new download, use `force_download=True`.\n",
      "  warnings.warn(\n",
      "Epoch(s):  84%|\u001b[31m████████▍ \u001b[0m| 210/250 [6:22:16<1:12:50, 109.26s/it]"
     ]
    },
    {
     "name": "stdout",
     "output_type": "stream",
     "text": [
      "{'Epoch': 211, 'Train Loss': 0.23808808846248164, 'Train Accuracy': 0.9145692158760891, 'Val Loss': 0.4176793707892872, 'Val Accuracy': 0.8539651837524178, 'Val Precision': 0.8607755308907357, 'Val Recall': 0.8539651837524178}\n"
     ]
    },
    {
     "name": "stderr",
     "output_type": "stream",
     "text": [
      "c:\\Users\\Sid\\AppData\\Local\\Programs\\Python\\Python39\\lib\\site-packages\\huggingface_hub\\file_download.py:1132: FutureWarning: `resume_download` is deprecated and will be removed in version 1.0.0. Downloads always resume when possible. If you want to force a new download, use `force_download=True`.\n",
      "  warnings.warn(\n",
      "Epoch(s):  84%|\u001b[31m████████▍ \u001b[0m| 211/250 [6:24:05<1:11:00, 109.23s/it]"
     ]
    },
    {
     "name": "stdout",
     "output_type": "stream",
     "text": [
      "{'Epoch': 212, 'Train Loss': 0.23090451647407056, 'Train Accuracy': 0.9162633107454018, 'Val Loss': 0.43359563794846717, 'Val Accuracy': 0.8684719535783365, 'Val Precision': 0.8731382732820584, 'Val Recall': 0.8684719535783365}\n"
     ]
    },
    {
     "name": "stderr",
     "output_type": "stream",
     "text": [
      "c:\\Users\\Sid\\AppData\\Local\\Programs\\Python\\Python39\\lib\\site-packages\\huggingface_hub\\file_download.py:1132: FutureWarning: `resume_download` is deprecated and will be removed in version 1.0.0. Downloads always resume when possible. If you want to force a new download, use `force_download=True`.\n",
      "  warnings.warn(\n",
      "Epoch(s):  85%|\u001b[31m████████▍ \u001b[0m| 212/250 [6:25:55<1:09:11, 109.25s/it]"
     ]
    },
    {
     "name": "stdout",
     "output_type": "stream",
     "text": [
      "{'Epoch': 213, 'Train Loss': 0.23439945303834975, 'Train Accuracy': 0.9191674733785092, 'Val Loss': 0.4477352598538766, 'Val Accuracy': 0.8549323017408124, 'Val Precision': 0.8730232093142127, 'Val Recall': 0.8549323017408124}\n"
     ]
    },
    {
     "name": "stderr",
     "output_type": "stream",
     "text": [
      "c:\\Users\\Sid\\AppData\\Local\\Programs\\Python\\Python39\\lib\\site-packages\\huggingface_hub\\file_download.py:1132: FutureWarning: `resume_download` is deprecated and will be removed in version 1.0.0. Downloads always resume when possible. If you want to force a new download, use `force_download=True`.\n",
      "  warnings.warn(\n",
      "Epoch(s):  85%|\u001b[31m████████▌ \u001b[0m| 213/250 [6:27:44<1:07:22, 109.27s/it]"
     ]
    },
    {
     "name": "stdout",
     "output_type": "stream",
     "text": [
      "{'Epoch': 214, 'Train Loss': 0.23525299144320866, 'Train Accuracy': 0.9155372700871249, 'Val Loss': 0.40958461358498494, 'Val Accuracy': 0.8704061895551257, 'Val Precision': 0.8718489499147253, 'Val Recall': 0.8704061895551257}\n"
     ]
    },
    {
     "name": "stderr",
     "output_type": "stream",
     "text": [
      "c:\\Users\\Sid\\AppData\\Local\\Programs\\Python\\Python39\\lib\\site-packages\\huggingface_hub\\file_download.py:1132: FutureWarning: `resume_download` is deprecated and will be removed in version 1.0.0. Downloads always resume when possible. If you want to force a new download, use `force_download=True`.\n",
      "  warnings.warn(\n",
      "Epoch(s):  86%|\u001b[31m████████▌ \u001b[0m| 214/250 [6:29:33<1:05:32, 109.24s/it]"
     ]
    },
    {
     "name": "stdout",
     "output_type": "stream",
     "text": [
      "{'Epoch': 215, 'Train Loss': 0.2345804258566134, 'Train Accuracy': 0.9184414327202324, 'Val Loss': 0.4175136556490683, 'Val Accuracy': 0.8578336557059961, 'Val Precision': 0.8713181176738127, 'Val Recall': 0.8578336557059961}\n"
     ]
    },
    {
     "name": "stderr",
     "output_type": "stream",
     "text": [
      "c:\\Users\\Sid\\AppData\\Local\\Programs\\Python\\Python39\\lib\\site-packages\\huggingface_hub\\file_download.py:1132: FutureWarning: `resume_download` is deprecated and will be removed in version 1.0.0. Downloads always resume when possible. If you want to force a new download, use `force_download=True`.\n",
      "  warnings.warn(\n",
      "Epoch(s):  86%|\u001b[31m████████▌ \u001b[0m| 215/250 [6:31:22<1:03:43, 109.25s/it]"
     ]
    },
    {
     "name": "stdout",
     "output_type": "stream",
     "text": [
      "{'Epoch': 216, 'Train Loss': 0.2254094105001726, 'Train Accuracy': 0.9211035818005808, 'Val Loss': 0.4362479707835099, 'Val Accuracy': 0.8539651837524178, 'Val Precision': 0.8519859902127032, 'Val Recall': 0.8539651837524178}\n"
     ]
    },
    {
     "name": "stderr",
     "output_type": "stream",
     "text": [
      "c:\\Users\\Sid\\AppData\\Local\\Programs\\Python\\Python39\\lib\\site-packages\\huggingface_hub\\file_download.py:1132: FutureWarning: `resume_download` is deprecated and will be removed in version 1.0.0. Downloads always resume when possible. If you want to force a new download, use `force_download=True`.\n",
      "  warnings.warn(\n",
      "Epoch(s):  86%|\u001b[31m████████▋ \u001b[0m| 216/250 [6:33:12<1:01:54, 109.24s/it]"
     ]
    },
    {
     "name": "stdout",
     "output_type": "stream",
     "text": [
      "{'Epoch': 217, 'Train Loss': 0.226638562198927, 'Train Accuracy': 0.920135527589545, 'Val Loss': 0.4140200639430147, 'Val Accuracy': 0.8713733075435203, 'Val Precision': 0.8702391579802505, 'Val Recall': 0.8713733075435203}\n"
     ]
    },
    {
     "name": "stderr",
     "output_type": "stream",
     "text": [
      "c:\\Users\\Sid\\AppData\\Local\\Programs\\Python\\Python39\\lib\\site-packages\\huggingface_hub\\file_download.py:1132: FutureWarning: `resume_download` is deprecated and will be removed in version 1.0.0. Downloads always resume when possible. If you want to force a new download, use `force_download=True`.\n",
      "  warnings.warn(\n",
      "Epoch(s):  87%|\u001b[31m████████▋ \u001b[0m| 217/250 [6:35:01<1:00:05, 109.25s/it]"
     ]
    },
    {
     "name": "stdout",
     "output_type": "stream",
     "text": [
      "{'Epoch': 218, 'Train Loss': 0.2291083239764155, 'Train Accuracy': 0.9184414327202324, 'Val Loss': 0.42078305732172266, 'Val Accuracy': 0.8617021276595744, 'Val Precision': 0.8684634636578878, 'Val Recall': 0.8617021276595744}\n"
     ]
    },
    {
     "name": "stderr",
     "output_type": "stream",
     "text": [
      "c:\\Users\\Sid\\AppData\\Local\\Programs\\Python\\Python39\\lib\\site-packages\\huggingface_hub\\file_download.py:1132: FutureWarning: `resume_download` is deprecated and will be removed in version 1.0.0. Downloads always resume when possible. If you want to force a new download, use `force_download=True`.\n",
      "  warnings.warn(\n",
      "Epoch(s):  87%|\u001b[31m████████▋ \u001b[0m| 218/250 [6:36:50<58:15, 109.24s/it]  "
     ]
    },
    {
     "name": "stdout",
     "output_type": "stream",
     "text": [
      "{'Epoch': 219, 'Train Loss': 0.2237804343413317, 'Train Accuracy': 0.9225556631171346, 'Val Loss': 0.4783991302865056, 'Val Accuracy': 0.8617021276595744, 'Val Precision': 0.8841521299551073, 'Val Recall': 0.8617021276595744}\n"
     ]
    },
    {
     "name": "stderr",
     "output_type": "stream",
     "text": [
      "c:\\Users\\Sid\\AppData\\Local\\Programs\\Python\\Python39\\lib\\site-packages\\huggingface_hub\\file_download.py:1132: FutureWarning: `resume_download` is deprecated and will be removed in version 1.0.0. Downloads always resume when possible. If you want to force a new download, use `force_download=True`.\n",
      "  warnings.warn(\n",
      "Epoch(s):  88%|\u001b[31m████████▊ \u001b[0m| 219/250 [6:38:39<56:26, 109.25s/it]"
     ]
    },
    {
     "name": "stdout",
     "output_type": "stream",
     "text": [
      "{'Epoch': 220, 'Train Loss': 0.22176249602874273, 'Train Accuracy': 0.9215876089060987, 'Val Loss': 0.4241834415695988, 'Val Accuracy': 0.8665377176015474, 'Val Precision': 0.8734303343422196, 'Val Recall': 0.8665377176015474}\n"
     ]
    },
    {
     "name": "stderr",
     "output_type": "stream",
     "text": [
      "c:\\Users\\Sid\\AppData\\Local\\Programs\\Python\\Python39\\lib\\site-packages\\huggingface_hub\\file_download.py:1132: FutureWarning: `resume_download` is deprecated and will be removed in version 1.0.0. Downloads always resume when possible. If you want to force a new download, use `force_download=True`.\n",
      "  warnings.warn(\n",
      "Epoch(s):  88%|\u001b[31m████████▊ \u001b[0m| 220/250 [6:40:29<54:37, 109.26s/it]"
     ]
    },
    {
     "name": "stdout",
     "output_type": "stream",
     "text": [
      "{'Epoch': 221, 'Train Loss': 0.2227266970851088, 'Train Accuracy': 0.9235237173281704, 'Val Loss': 0.4593125119805336, 'Val Accuracy': 0.8626692456479691, 'Val Precision': 0.8814523951816801, 'Val Recall': 0.8626692456479691}\n"
     ]
    },
    {
     "name": "stderr",
     "output_type": "stream",
     "text": [
      "c:\\Users\\Sid\\AppData\\Local\\Programs\\Python\\Python39\\lib\\site-packages\\huggingface_hub\\file_download.py:1132: FutureWarning: `resume_download` is deprecated and will be removed in version 1.0.0. Downloads always resume when possible. If you want to force a new download, use `force_download=True`.\n",
      "  warnings.warn(\n",
      "Epoch(s):  88%|\u001b[31m████████▊ \u001b[0m| 221/250 [6:42:18<52:48, 109.26s/it]"
     ]
    },
    {
     "name": "stdout",
     "output_type": "stream",
     "text": [
      "{'Epoch': 222, 'Train Loss': 0.2217108870651501, 'Train Accuracy': 0.9208615682478218, 'Val Loss': 0.45015214218829686, 'Val Accuracy': 0.8578336557059961, 'Val Precision': 0.8737008431584982, 'Val Recall': 0.8578336557059961}\n"
     ]
    },
    {
     "name": "stderr",
     "output_type": "stream",
     "text": [
      "c:\\Users\\Sid\\AppData\\Local\\Programs\\Python\\Python39\\lib\\site-packages\\huggingface_hub\\file_download.py:1132: FutureWarning: `resume_download` is deprecated and will be removed in version 1.0.0. Downloads always resume when possible. If you want to force a new download, use `force_download=True`.\n",
      "  warnings.warn(\n",
      "Epoch(s):  89%|\u001b[31m████████▉ \u001b[0m| 222/250 [6:44:07<50:59, 109.26s/it]"
     ]
    },
    {
     "name": "stdout",
     "output_type": "stream",
     "text": [
      "{'Epoch': 223, 'Train Loss': 0.22390528052189462, 'Train Accuracy': 0.920377541142304, 'Val Loss': 0.46110735415266113, 'Val Accuracy': 0.8568665377176016, 'Val Precision': 0.8733510825677456, 'Val Recall': 0.8568665377176016}\n"
     ]
    },
    {
     "name": "stderr",
     "output_type": "stream",
     "text": [
      "c:\\Users\\Sid\\AppData\\Local\\Programs\\Python\\Python39\\lib\\site-packages\\huggingface_hub\\file_download.py:1132: FutureWarning: `resume_download` is deprecated and will be removed in version 1.0.0. Downloads always resume when possible. If you want to force a new download, use `force_download=True`.\n",
      "  warnings.warn(\n",
      "Epoch(s):  89%|\u001b[31m████████▉ \u001b[0m| 223/250 [6:45:56<49:09, 109.24s/it]"
     ]
    },
    {
     "name": "stdout",
     "output_type": "stream",
     "text": [
      "{'Epoch': 224, 'Train Loss': 0.2202814015535187, 'Train Accuracy': 0.9186834462729913, 'Val Loss': 0.4148744545590419, 'Val Accuracy': 0.8665377176015474, 'Val Precision': 0.8705658421081108, 'Val Recall': 0.8665377176015474}\n"
     ]
    },
    {
     "name": "stderr",
     "output_type": "stream",
     "text": [
      "c:\\Users\\Sid\\AppData\\Local\\Programs\\Python\\Python39\\lib\\site-packages\\huggingface_hub\\file_download.py:1132: FutureWarning: `resume_download` is deprecated and will be removed in version 1.0.0. Downloads always resume when possible. If you want to force a new download, use `force_download=True`.\n",
      "  warnings.warn(\n",
      "Epoch(s):  90%|\u001b[31m████████▉ \u001b[0m| 224/250 [6:47:46<47:20, 109.25s/it]"
     ]
    },
    {
     "name": "stdout",
     "output_type": "stream",
     "text": [
      "{'Epoch': 225, 'Train Loss': 0.22079434732521766, 'Train Accuracy': 0.9218296224588577, 'Val Loss': 0.4462569791751985, 'Val Accuracy': 0.8655705996131529, 'Val Precision': 0.8668711999076412, 'Val Recall': 0.8655705996131529}\n"
     ]
    },
    {
     "name": "stderr",
     "output_type": "stream",
     "text": [
      "c:\\Users\\Sid\\AppData\\Local\\Programs\\Python\\Python39\\lib\\site-packages\\huggingface_hub\\file_download.py:1132: FutureWarning: `resume_download` is deprecated and will be removed in version 1.0.0. Downloads always resume when possible. If you want to force a new download, use `force_download=True`.\n",
      "  warnings.warn(\n",
      "Epoch(s):  90%|\u001b[31m█████████ \u001b[0m| 225/250 [6:49:35<45:31, 109.28s/it]"
     ]
    },
    {
     "name": "stdout",
     "output_type": "stream",
     "text": [
      "{'Epoch': 226, 'Train Loss': 0.22794484980692045, 'Train Accuracy': 0.9191674733785092, 'Val Loss': 0.441190569417981, 'Val Accuracy': 0.8539651837524178, 'Val Precision': 0.8631986352020825, 'Val Recall': 0.8539651837524178}\n"
     ]
    },
    {
     "name": "stderr",
     "output_type": "stream",
     "text": [
      "c:\\Users\\Sid\\AppData\\Local\\Programs\\Python\\Python39\\lib\\site-packages\\huggingface_hub\\file_download.py:1132: FutureWarning: `resume_download` is deprecated and will be removed in version 1.0.0. Downloads always resume when possible. If you want to force a new download, use `force_download=True`.\n",
      "  warnings.warn(\n",
      "Epoch(s):  90%|\u001b[31m█████████ \u001b[0m| 226/250 [6:51:24<43:41, 109.25s/it]"
     ]
    },
    {
     "name": "stdout",
     "output_type": "stream",
     "text": [
      "{'Epoch': 227, 'Train Loss': 0.2098123314193743, 'Train Accuracy': 0.9261858664085189, 'Val Loss': 0.4268000694564902, 'Val Accuracy': 0.8558994197292069, 'Val Precision': 0.8671761972207829, 'Val Recall': 0.8558994197292069}\n"
     ]
    },
    {
     "name": "stderr",
     "output_type": "stream",
     "text": [
      "c:\\Users\\Sid\\AppData\\Local\\Programs\\Python\\Python39\\lib\\site-packages\\huggingface_hub\\file_download.py:1132: FutureWarning: `resume_download` is deprecated and will be removed in version 1.0.0. Downloads always resume when possible. If you want to force a new download, use `force_download=True`.\n",
      "  warnings.warn(\n",
      "Epoch(s):  91%|\u001b[31m█████████ \u001b[0m| 227/250 [6:53:13<41:51, 109.21s/it]"
     ]
    },
    {
     "name": "stdout",
     "output_type": "stream",
     "text": [
      "{'Epoch': 228, 'Train Loss': 0.21585606469756574, 'Train Accuracy': 0.92594385285576, 'Val Loss': 0.4471452550819287, 'Val Accuracy': 0.8626692456479691, 'Val Precision': 0.875092824626102, 'Val Recall': 0.8626692456479691}\n"
     ]
    },
    {
     "name": "stderr",
     "output_type": "stream",
     "text": [
      "c:\\Users\\Sid\\AppData\\Local\\Programs\\Python\\Python39\\lib\\site-packages\\huggingface_hub\\file_download.py:1132: FutureWarning: `resume_download` is deprecated and will be removed in version 1.0.0. Downloads always resume when possible. If you want to force a new download, use `force_download=True`.\n",
      "  warnings.warn(\n",
      "Epoch(s):  91%|\u001b[31m█████████ \u001b[0m| 228/250 [6:55:03<40:03, 109.25s/it]"
     ]
    },
    {
     "name": "stdout",
     "output_type": "stream",
     "text": [
      "{'Epoch': 229, 'Train Loss': 0.21839642970837977, 'Train Accuracy': 0.9225556631171346, 'Val Loss': 0.4227591403330175, 'Val Accuracy': 0.8684719535783365, 'Val Precision': 0.8687917602034589, 'Val Recall': 0.8684719535783365}\n"
     ]
    },
    {
     "name": "stderr",
     "output_type": "stream",
     "text": [
      "c:\\Users\\Sid\\AppData\\Local\\Programs\\Python\\Python39\\lib\\site-packages\\huggingface_hub\\file_download.py:1132: FutureWarning: `resume_download` is deprecated and will be removed in version 1.0.0. Downloads always resume when possible. If you want to force a new download, use `force_download=True`.\n",
      "  warnings.warn(\n",
      "Epoch(s):  92%|\u001b[31m█████████▏\u001b[0m| 229/250 [6:56:52<38:14, 109.24s/it]"
     ]
    },
    {
     "name": "stdout",
     "output_type": "stream",
     "text": [
      "{'Epoch': 230, 'Train Loss': 0.21610034975847123, 'Train Accuracy': 0.9249757986447241, 'Val Loss': 0.44991892070079653, 'Val Accuracy': 0.8491295938104448, 'Val Precision': 0.8539489915431067, 'Val Recall': 0.8491295938104448}\n"
     ]
    },
    {
     "name": "stderr",
     "output_type": "stream",
     "text": [
      "c:\\Users\\Sid\\AppData\\Local\\Programs\\Python\\Python39\\lib\\site-packages\\huggingface_hub\\file_download.py:1132: FutureWarning: `resume_download` is deprecated and will be removed in version 1.0.0. Downloads always resume when possible. If you want to force a new download, use `force_download=True`.\n",
      "  warnings.warn(\n",
      "Epoch(s):  92%|\u001b[31m█████████▏\u001b[0m| 230/250 [6:58:41<36:24, 109.23s/it]"
     ]
    },
    {
     "name": "stdout",
     "output_type": "stream",
     "text": [
      "{'Epoch': 231, 'Train Loss': 0.20696660127710106, 'Train Accuracy': 0.9276379477250726, 'Val Loss': 0.4272019941646319, 'Val Accuracy': 0.8694390715667312, 'Val Precision': 0.8756281841555135, 'Val Recall': 0.8694390715667312}\n"
     ]
    },
    {
     "name": "stderr",
     "output_type": "stream",
     "text": [
      "c:\\Users\\Sid\\AppData\\Local\\Programs\\Python\\Python39\\lib\\site-packages\\huggingface_hub\\file_download.py:1132: FutureWarning: `resume_download` is deprecated and will be removed in version 1.0.0. Downloads always resume when possible. If you want to force a new download, use `force_download=True`.\n",
      "  warnings.warn(\n",
      "Epoch(s):  92%|\u001b[31m█████████▏\u001b[0m| 231/250 [7:00:31<34:38, 109.37s/it]"
     ]
    },
    {
     "name": "stdout",
     "output_type": "stream",
     "text": [
      "{'Epoch': 232, 'Train Loss': 0.20778652678268986, 'Train Accuracy': 0.9266698935140368, 'Val Loss': 0.44610459273681047, 'Val Accuracy': 0.867504835589942, 'Val Precision': 0.864582916514403, 'Val Recall': 0.867504835589942}\n"
     ]
    },
    {
     "name": "stderr",
     "output_type": "stream",
     "text": [
      "c:\\Users\\Sid\\AppData\\Local\\Programs\\Python\\Python39\\lib\\site-packages\\huggingface_hub\\file_download.py:1132: FutureWarning: `resume_download` is deprecated and will be removed in version 1.0.0. Downloads always resume when possible. If you want to force a new download, use `force_download=True`.\n",
      "  warnings.warn(\n",
      "Epoch(s):  93%|\u001b[31m█████████▎\u001b[0m| 232/250 [7:02:20<32:48, 109.34s/it]"
     ]
    },
    {
     "name": "stdout",
     "output_type": "stream",
     "text": [
      "{'Epoch': 233, 'Train Loss': 0.20087930991163327, 'Train Accuracy': 0.9332042594385286, 'Val Loss': 0.4420766026945785, 'Val Accuracy': 0.8665377176015474, 'Val Precision': 0.8775520978176437, 'Val Recall': 0.8665377176015474}\n"
     ]
    },
    {
     "name": "stderr",
     "output_type": "stream",
     "text": [
      "c:\\Users\\Sid\\AppData\\Local\\Programs\\Python\\Python39\\lib\\site-packages\\huggingface_hub\\file_download.py:1132: FutureWarning: `resume_download` is deprecated and will be removed in version 1.0.0. Downloads always resume when possible. If you want to force a new download, use `force_download=True`.\n",
      "  warnings.warn(\n",
      "Epoch(s):  93%|\u001b[31m█████████▎\u001b[0m| 233/250 [7:04:09<30:57, 109.28s/it]"
     ]
    },
    {
     "name": "stdout",
     "output_type": "stream",
     "text": [
      "{'Epoch': 234, 'Train Loss': 0.20664983867347586, 'Train Accuracy': 0.9261858664085189, 'Val Loss': 0.48976963290837233, 'Val Accuracy': 0.8578336557059961, 'Val Precision': 0.8602218704622117, 'Val Recall': 0.8578336557059961}\n"
     ]
    },
    {
     "name": "stderr",
     "output_type": "stream",
     "text": [
      "c:\\Users\\Sid\\AppData\\Local\\Programs\\Python\\Python39\\lib\\site-packages\\huggingface_hub\\file_download.py:1132: FutureWarning: `resume_download` is deprecated and will be removed in version 1.0.0. Downloads always resume when possible. If you want to force a new download, use `force_download=True`.\n",
      "  warnings.warn(\n",
      "Epoch(s):  94%|\u001b[31m█████████▎\u001b[0m| 234/250 [7:05:59<29:09, 109.37s/it]"
     ]
    },
    {
     "name": "stdout",
     "output_type": "stream",
     "text": [
      "{'Epoch': 235, 'Train Loss': 0.21556547866112996, 'Train Accuracy': 0.9249757986447241, 'Val Loss': 0.44429891349461215, 'Val Accuracy': 0.8646034816247582, 'Val Precision': 0.877118541238848, 'Val Recall': 0.8646034816247582}\n"
     ]
    },
    {
     "name": "stderr",
     "output_type": "stream",
     "text": [
      "c:\\Users\\Sid\\AppData\\Local\\Programs\\Python\\Python39\\lib\\site-packages\\huggingface_hub\\file_download.py:1132: FutureWarning: `resume_download` is deprecated and will be removed in version 1.0.0. Downloads always resume when possible. If you want to force a new download, use `force_download=True`.\n",
      "  warnings.warn(\n",
      "Epoch(s):  94%|\u001b[31m█████████▍\u001b[0m| 235/250 [7:07:48<27:19, 109.32s/it]"
     ]
    },
    {
     "name": "stdout",
     "output_type": "stream",
     "text": [
      "{'Epoch': 236, 'Train Loss': 0.20267824523495223, 'Train Accuracy': 0.9276379477250726, 'Val Loss': 0.44900450763077693, 'Val Accuracy': 0.8568665377176016, 'Val Precision': 0.8682618141758307, 'Val Recall': 0.8568665377176016}\n"
     ]
    },
    {
     "name": "stderr",
     "output_type": "stream",
     "text": [
      "c:\\Users\\Sid\\AppData\\Local\\Programs\\Python\\Python39\\lib\\site-packages\\huggingface_hub\\file_download.py:1132: FutureWarning: `resume_download` is deprecated and will be removed in version 1.0.0. Downloads always resume when possible. If you want to force a new download, use `force_download=True`.\n",
      "  warnings.warn(\n",
      "Epoch(s):  94%|\u001b[31m█████████▍\u001b[0m| 236/250 [7:09:38<25:32, 109.43s/it]"
     ]
    },
    {
     "name": "stdout",
     "output_type": "stream",
     "text": [
      "{'Epoch': 237, 'Train Loss': 0.21205317169701154, 'Train Accuracy': 0.9249757986447241, 'Val Loss': 0.4470859157637908, 'Val Accuracy': 0.8617021276595744, 'Val Precision': 0.8753018967888946, 'Val Recall': 0.8617021276595744}\n"
     ]
    },
    {
     "name": "stderr",
     "output_type": "stream",
     "text": [
      "c:\\Users\\Sid\\AppData\\Local\\Programs\\Python\\Python39\\lib\\site-packages\\huggingface_hub\\file_download.py:1132: FutureWarning: `resume_download` is deprecated and will be removed in version 1.0.0. Downloads always resume when possible. If you want to force a new download, use `force_download=True`.\n",
      "  warnings.warn(\n",
      "Epoch(s):  95%|\u001b[31m█████████▍\u001b[0m| 237/250 [7:11:27<23:41, 109.34s/it]"
     ]
    },
    {
     "name": "stdout",
     "output_type": "stream",
     "text": [
      "{'Epoch': 238, 'Train Loss': 0.21637047145202842, 'Train Accuracy': 0.92594385285576, 'Val Loss': 0.45312872111725694, 'Val Accuracy': 0.8626692456479691, 'Val Precision': 0.8807636403562427, 'Val Recall': 0.8626692456479691}\n"
     ]
    },
    {
     "name": "stderr",
     "output_type": "stream",
     "text": [
      "c:\\Users\\Sid\\AppData\\Local\\Programs\\Python\\Python39\\lib\\site-packages\\huggingface_hub\\file_download.py:1132: FutureWarning: `resume_download` is deprecated and will be removed in version 1.0.0. Downloads always resume when possible. If you want to force a new download, use `force_download=True`.\n",
      "  warnings.warn(\n",
      "Epoch(s):  95%|\u001b[31m█████████▌\u001b[0m| 238/250 [7:13:16<21:53, 109.42s/it]"
     ]
    },
    {
     "name": "stdout",
     "output_type": "stream",
     "text": [
      "{'Epoch': 239, 'Train Loss': 0.20319506968461465, 'Train Accuracy': 0.9278799612778316, 'Val Loss': 0.4467741542889808, 'Val Accuracy': 0.8626692456479691, 'Val Precision': 0.8709240492452364, 'Val Recall': 0.8626692456479691}\n"
     ]
    },
    {
     "name": "stderr",
     "output_type": "stream",
     "text": [
      "c:\\Users\\Sid\\AppData\\Local\\Programs\\Python\\Python39\\lib\\site-packages\\huggingface_hub\\file_download.py:1132: FutureWarning: `resume_download` is deprecated and will be removed in version 1.0.0. Downloads always resume when possible. If you want to force a new download, use `force_download=True`.\n",
      "  warnings.warn(\n",
      "Epoch(s):  96%|\u001b[31m█████████▌\u001b[0m| 239/250 [7:15:06<20:02, 109.35s/it]"
     ]
    },
    {
     "name": "stdout",
     "output_type": "stream",
     "text": [
      "{'Epoch': 240, 'Train Loss': 0.1970430244343323, 'Train Accuracy': 0.9319941916747337, 'Val Loss': 0.43614975795722927, 'Val Accuracy': 0.8694390715667312, 'Val Precision': 0.8780637358014253, 'Val Recall': 0.8694390715667312}\n"
     ]
    },
    {
     "name": "stderr",
     "output_type": "stream",
     "text": [
      "c:\\Users\\Sid\\AppData\\Local\\Programs\\Python\\Python39\\lib\\site-packages\\huggingface_hub\\file_download.py:1132: FutureWarning: `resume_download` is deprecated and will be removed in version 1.0.0. Downloads always resume when possible. If you want to force a new download, use `force_download=True`.\n",
      "  warnings.warn(\n",
      "Epoch(s):  96%|\u001b[31m█████████▌\u001b[0m| 240/250 [7:16:55<18:14, 109.45s/it]"
     ]
    },
    {
     "name": "stdout",
     "output_type": "stream",
     "text": [
      "{'Epoch': 241, 'Train Loss': 0.19865546889538413, 'Train Accuracy': 0.9278799612778316, 'Val Loss': 0.4225795542391447, 'Val Accuracy': 0.8646034816247582, 'Val Precision': 0.8614140594034297, 'Val Recall': 0.8646034816247582}\n"
     ]
    },
    {
     "name": "stderr",
     "output_type": "stream",
     "text": [
      "c:\\Users\\Sid\\AppData\\Local\\Programs\\Python\\Python39\\lib\\site-packages\\huggingface_hub\\file_download.py:1132: FutureWarning: `resume_download` is deprecated and will be removed in version 1.0.0. Downloads always resume when possible. If you want to force a new download, use `force_download=True`.\n",
      "  warnings.warn(\n",
      "Epoch(s):  96%|\u001b[31m█████████▋\u001b[0m| 241/250 [7:18:44<16:24, 109.37s/it]"
     ]
    },
    {
     "name": "stdout",
     "output_type": "stream",
     "text": [
      "{'Epoch': 242, 'Train Loss': 0.19708101453909113, 'Train Accuracy': 0.9286060019361084, 'Val Loss': 0.46552624351416644, 'Val Accuracy': 0.8665377176015474, 'Val Precision': 0.8764232804604433, 'Val Recall': 0.8665377176015474}\n"
     ]
    },
    {
     "name": "stderr",
     "output_type": "stream",
     "text": [
      "c:\\Users\\Sid\\AppData\\Local\\Programs\\Python\\Python39\\lib\\site-packages\\huggingface_hub\\file_download.py:1132: FutureWarning: `resume_download` is deprecated and will be removed in version 1.0.0. Downloads always resume when possible. If you want to force a new download, use `force_download=True`.\n",
      "  warnings.warn(\n",
      "Epoch(s):  97%|\u001b[31m█████████▋\u001b[0m| 242/250 [7:20:34<14:34, 109.33s/it]"
     ]
    },
    {
     "name": "stdout",
     "output_type": "stream",
     "text": [
      "{'Epoch': 243, 'Train Loss': 0.19066266047509395, 'Train Accuracy': 0.9319941916747337, 'Val Loss': 0.42067148440445845, 'Val Accuracy': 0.874274661508704, 'Val Precision': 0.8734631930638758, 'Val Recall': 0.874274661508704}\n"
     ]
    },
    {
     "name": "stderr",
     "output_type": "stream",
     "text": [
      "c:\\Users\\Sid\\AppData\\Local\\Programs\\Python\\Python39\\lib\\site-packages\\huggingface_hub\\file_download.py:1132: FutureWarning: `resume_download` is deprecated and will be removed in version 1.0.0. Downloads always resume when possible. If you want to force a new download, use `force_download=True`.\n",
      "  warnings.warn(\n",
      "Epoch(s):  97%|\u001b[31m█████████▋\u001b[0m| 243/250 [7:22:23<12:45, 109.40s/it]"
     ]
    },
    {
     "name": "stdout",
     "output_type": "stream",
     "text": [
      "{'Epoch': 244, 'Train Loss': 0.19910472466675097, 'Train Accuracy': 0.9290900290416263, 'Val Loss': 0.4355809963415735, 'Val Accuracy': 0.8646034816247582, 'Val Precision': 0.8735690340945527, 'Val Recall': 0.8646034816247582}\n"
     ]
    },
    {
     "name": "stderr",
     "output_type": "stream",
     "text": [
      "c:\\Users\\Sid\\AppData\\Local\\Programs\\Python\\Python39\\lib\\site-packages\\huggingface_hub\\file_download.py:1132: FutureWarning: `resume_download` is deprecated and will be removed in version 1.0.0. Downloads always resume when possible. If you want to force a new download, use `force_download=True`.\n",
      "  warnings.warn(\n",
      "Epoch(s):  98%|\u001b[31m█████████▊\u001b[0m| 244/250 [7:24:13<10:56, 109.48s/it]"
     ]
    },
    {
     "name": "stdout",
     "output_type": "stream",
     "text": [
      "{'Epoch': 245, 'Train Loss': 0.19294979176407637, 'Train Accuracy': 0.9319941916747337, 'Val Loss': 0.4558358448485915, 'Val Accuracy': 0.8578336557059961, 'Val Precision': 0.875217324052139, 'Val Recall': 0.8578336557059961}\n"
     ]
    },
    {
     "name": "stderr",
     "output_type": "stream",
     "text": [
      "c:\\Users\\Sid\\AppData\\Local\\Programs\\Python\\Python39\\lib\\site-packages\\huggingface_hub\\file_download.py:1132: FutureWarning: `resume_download` is deprecated and will be removed in version 1.0.0. Downloads always resume when possible. If you want to force a new download, use `force_download=True`.\n",
      "  warnings.warn(\n",
      "Epoch(s):  98%|\u001b[31m█████████▊\u001b[0m| 245/250 [7:26:02<09:07, 109.41s/it]"
     ]
    },
    {
     "name": "stdout",
     "output_type": "stream",
     "text": [
      "{'Epoch': 246, 'Train Loss': 0.1952831990204205, 'Train Accuracy': 0.9339303000968054, 'Val Loss': 0.4503330969860634, 'Val Accuracy': 0.8655705996131529, 'Val Precision': 0.8739042640334596, 'Val Recall': 0.8655705996131529}\n"
     ]
    },
    {
     "name": "stderr",
     "output_type": "stream",
     "text": [
      "c:\\Users\\Sid\\AppData\\Local\\Programs\\Python\\Python39\\lib\\site-packages\\huggingface_hub\\file_download.py:1132: FutureWarning: `resume_download` is deprecated and will be removed in version 1.0.0. Downloads always resume when possible. If you want to force a new download, use `force_download=True`.\n",
      "  warnings.warn(\n",
      "Epoch(s):  98%|\u001b[31m█████████▊\u001b[0m| 246/250 [7:27:51<07:17, 109.35s/it]"
     ]
    },
    {
     "name": "stdout",
     "output_type": "stream",
     "text": [
      "{'Epoch': 247, 'Train Loss': 0.19454945040719304, 'Train Accuracy': 0.9317521781219749, 'Val Loss': 0.4663284666549701, 'Val Accuracy': 0.8549323017408124, 'Val Precision': 0.8738217657817752, 'Val Recall': 0.8549323017408124}\n"
     ]
    },
    {
     "name": "stderr",
     "output_type": "stream",
     "text": [
      "c:\\Users\\Sid\\AppData\\Local\\Programs\\Python\\Python39\\lib\\site-packages\\huggingface_hub\\file_download.py:1132: FutureWarning: `resume_download` is deprecated and will be removed in version 1.0.0. Downloads always resume when possible. If you want to force a new download, use `force_download=True`.\n",
      "  warnings.warn(\n",
      "Epoch(s):  99%|\u001b[31m█████████▉\u001b[0m| 247/250 [7:29:41<05:27, 109.29s/it]"
     ]
    },
    {
     "name": "stdout",
     "output_type": "stream",
     "text": [
      "{'Epoch': 248, 'Train Loss': 0.1924926862994867, 'Train Accuracy': 0.9319941916747337, 'Val Loss': 0.48103175286490185, 'Val Accuracy': 0.8529980657640233, 'Val Precision': 0.8785860017299449, 'Val Recall': 0.8529980657640233}\n"
     ]
    },
    {
     "name": "stderr",
     "output_type": "stream",
     "text": [
      "c:\\Users\\Sid\\AppData\\Local\\Programs\\Python\\Python39\\lib\\site-packages\\huggingface_hub\\file_download.py:1132: FutureWarning: `resume_download` is deprecated and will be removed in version 1.0.0. Downloads always resume when possible. If you want to force a new download, use `force_download=True`.\n",
      "  warnings.warn(\n",
      "Epoch(s):  99%|\u001b[31m█████████▉\u001b[0m| 248/250 [7:31:30<03:38, 109.42s/it]"
     ]
    },
    {
     "name": "stdout",
     "output_type": "stream",
     "text": [
      "{'Epoch': 249, 'Train Loss': 0.19289640388694235, 'Train Accuracy': 0.9334462729912875, 'Val Loss': 0.4701152832677158, 'Val Accuracy': 0.8617021276595744, 'Val Precision': 0.8812495866169137, 'Val Recall': 0.8617021276595744}\n"
     ]
    },
    {
     "name": "stderr",
     "output_type": "stream",
     "text": [
      "c:\\Users\\Sid\\AppData\\Local\\Programs\\Python\\Python39\\lib\\site-packages\\huggingface_hub\\file_download.py:1132: FutureWarning: `resume_download` is deprecated and will be removed in version 1.0.0. Downloads always resume when possible. If you want to force a new download, use `force_download=True`.\n",
      "  warnings.warn(\n",
      "Epoch(s): 100%|\u001b[31m█████████▉\u001b[0m| 249/250 [7:33:20<01:49, 109.47s/it]"
     ]
    },
    {
     "name": "stdout",
     "output_type": "stream",
     "text": [
      "{'Epoch': 250, 'Train Loss': 0.19140284172660207, 'Train Accuracy': 0.9348983543078412, 'Val Loss': 0.4426529278727965, 'Val Accuracy': 0.8597678916827853, 'Val Precision': 0.8604250030092153, 'Val Recall': 0.8597678916827853}\n"
     ]
    },
    {
     "name": "stderr",
     "output_type": "stream",
     "text": [
      "c:\\Users\\Sid\\AppData\\Local\\Programs\\Python\\Python39\\lib\\site-packages\\huggingface_hub\\file_download.py:1132: FutureWarning: `resume_download` is deprecated and will be removed in version 1.0.0. Downloads always resume when possible. If you want to force a new download, use `force_download=True`.\n",
      "  warnings.warn(\n",
      "Epoch(s): 100%|\u001b[31m██████████\u001b[0m| 250/250 [7:35:09<00:00, 109.24s/it]\n"
     ]
    }
   ],
   "source": [
    "for epoch in tqdm.trange(epochs, colour = \"red\", desc = \"Epoch(s)\"):\n",
    "  train_loss, train_acc = train(model, optimizer, criterion, trainDataloader)\n",
    "  val_loss, val_acc, val_precision, val_recall = validate(model, criterion, valDataloader)\n",
    "  dataDict = {\n",
    "    \"Epoch\": epoch+1,\n",
    "    \"Train Loss\": train_loss,\n",
    "    \"Train Accuracy\": train_acc,\n",
    "    \"Val Loss\": val_loss,\n",
    "    \"Val Accuracy\": val_acc,\n",
    "    \"Val Precision\": val_precision,\n",
    "    \"Val Recall\": val_recall\n",
    "    }\n",
    "  print(dataDict)\n",
    "  wandb.log(dataDict)\n",
    "  model.save_pretrained(\"tunedModels/trainedMobileBERTLoRA - Epoch {}\".format(epoch))"
   ]
  },
  {
   "cell_type": "code",
   "execution_count": 28,
   "metadata": {},
   "outputs": [],
   "source": [
    "model.save_pretrained(\"trainedMobileBERT\")"
   ]
  }
 ],
 "metadata": {
  "kernelspec": {
   "display_name": "Python 3",
   "language": "python",
   "name": "python3"
  },
  "language_info": {
   "codemirror_mode": {
    "name": "ipython",
    "version": 3
   },
   "file_extension": ".py",
   "mimetype": "text/x-python",
   "name": "python",
   "nbconvert_exporter": "python",
   "pygments_lexer": "ipython3",
   "version": "3.9.13"
  }
 },
 "nbformat": 4,
 "nbformat_minor": 2
}
