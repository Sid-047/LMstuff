{
 "cells": [
  {
   "cell_type": "code",
   "execution_count": 1,
   "metadata": {},
   "outputs": [
    {
     "name": "stderr",
     "output_type": "stream",
     "text": [
      "C:\\Users\\Sid\\AppData\\Local\\Temp\\ipykernel_15356\\451788269.py:4: DeprecationWarning: \n",
      "Pyarrow will become a required dependency of pandas in the next major release of pandas (pandas 3.0),\n",
      "(to allow more performant data types, such as the Arrow string type, and better interoperability with other libraries)\n",
      "but was not found to be installed on your system.\n",
      "If this would cause problems for you,\n",
      "please provide us feedback at https://github.com/pandas-dev/pandas/issues/54466\n",
      "        \n",
      "  import pandas as pd\n"
     ]
    }
   ],
   "source": [
    "import tqdm\n",
    "import torch\n",
    "import wandb\n",
    "import pandas as pd\n",
    "from sklearn.preprocessing import LabelEncoder\n",
    "from sklearn.model_selection import train_test_split\n",
    "from torch.utils.data import TensorDataset, DataLoader\n",
    "from sklearn.metrics import accuracy_score, precision_score, recall_score\n",
    "from transformers import AutoModelForSequenceClassification, AutoTokenizer, AdamW"
   ]
  },
  {
   "cell_type": "code",
   "execution_count": 2,
   "metadata": {},
   "outputs": [
    {
     "name": "stderr",
     "output_type": "stream",
     "text": [
      "Failed to detect the name of this notebook, you can set it manually with the WANDB_NOTEBOOK_NAME environment variable to enable code saving.\n",
      "\u001b[34m\u001b[1mwandb\u001b[0m: Currently logged in as: \u001b[33msiddiqmoideen07\u001b[0m. Use \u001b[1m`wandb login --relogin`\u001b[0m to force relogin\n"
     ]
    },
    {
     "data": {
      "text/html": [
       "wandb version 0.17.3 is available!  To upgrade, please run:\n",
       " $ pip install wandb --upgrade"
      ],
      "text/plain": [
       "<IPython.core.display.HTML object>"
      ]
     },
     "metadata": {},
     "output_type": "display_data"
    },
    {
     "data": {
      "text/html": [
       "Tracking run with wandb version 0.16.2"
      ],
      "text/plain": [
       "<IPython.core.display.HTML object>"
      ]
     },
     "metadata": {},
     "output_type": "display_data"
    },
    {
     "data": {
      "text/html": [
       "Run data is saved locally in <code>t:\\OpenSourceContribution\\LMstuff\\modelTraining\\modelMobileBERT\\withoutLoRA\\wandb\\run-20240626_085044-d3eh6kz1</code>"
      ],
      "text/plain": [
       "<IPython.core.display.HTML object>"
      ]
     },
     "metadata": {},
     "output_type": "display_data"
    },
    {
     "data": {
      "text/html": [
       "Syncing run <strong><a href='https://wandb.ai/siddiqmoideen07/protienSequence%20Rah%21%21%21/runs/d3eh6kz1' target=\"_blank\">soft-wind-1</a></strong> to <a href='https://wandb.ai/siddiqmoideen07/protienSequence%20Rah%21%21%21' target=\"_blank\">Weights & Biases</a> (<a href='https://wandb.me/run' target=\"_blank\">docs</a>)<br/>"
      ],
      "text/plain": [
       "<IPython.core.display.HTML object>"
      ]
     },
     "metadata": {},
     "output_type": "display_data"
    },
    {
     "data": {
      "text/html": [
       " View project at <a href='https://wandb.ai/siddiqmoideen07/protienSequence%20Rah%21%21%21' target=\"_blank\">https://wandb.ai/siddiqmoideen07/protienSequence%20Rah%21%21%21</a>"
      ],
      "text/plain": [
       "<IPython.core.display.HTML object>"
      ]
     },
     "metadata": {},
     "output_type": "display_data"
    },
    {
     "data": {
      "text/html": [
       " View run at <a href='https://wandb.ai/siddiqmoideen07/protienSequence%20Rah%21%21%21/runs/d3eh6kz1' target=\"_blank\">https://wandb.ai/siddiqmoideen07/protienSequence%20Rah%21%21%21/runs/d3eh6kz1</a>"
      ],
      "text/plain": [
       "<IPython.core.display.HTML object>"
      ]
     },
     "metadata": {},
     "output_type": "display_data"
    },
    {
     "data": {
      "text/html": [
       "<button onClick=\"this.nextSibling.style.display='block';this.style.display='none';\">Display W&B run</button><iframe src='https://wandb.ai/siddiqmoideen07/protienSequence%20Rah%21%21%21/runs/d3eh6kz1?jupyter=true' style='border:none;width:100%;height:420px;display:none;'></iframe>"
      ],
      "text/plain": [
       "<wandb.sdk.wandb_run.Run at 0x2fabe2849a0>"
      ]
     },
     "execution_count": 2,
     "metadata": {},
     "output_type": "execute_result"
    }
   ],
   "source": [
    "wandb.init(project=\"protienSequence Rah!!!\")"
   ]
  },
  {
   "cell_type": "code",
   "execution_count": 4,
   "metadata": {},
   "outputs": [
    {
     "data": {
      "text/html": [
       "<div>\n",
       "<style scoped>\n",
       "    .dataframe tbody tr th:only-of-type {\n",
       "        vertical-align: middle;\n",
       "    }\n",
       "\n",
       "    .dataframe tbody tr th {\n",
       "        vertical-align: top;\n",
       "    }\n",
       "\n",
       "    .dataframe thead th {\n",
       "        text-align: right;\n",
       "    }\n",
       "</style>\n",
       "<table border=\"1\" class=\"dataframe\">\n",
       "  <thead>\n",
       "    <tr style=\"text-align: right;\">\n",
       "      <th></th>\n",
       "      <th>Windowed_Sequence</th>\n",
       "      <th>Solvent_Accessibility</th>\n",
       "      <th>Solvent_Accessibility_Length</th>\n",
       "      <th>Primary_Sequence_0</th>\n",
       "      <th>Primary_Sequence_1</th>\n",
       "      <th>Primary_Sequence_2</th>\n",
       "      <th>Primary_Sequence_3</th>\n",
       "      <th>Primary_Sequence_4</th>\n",
       "      <th>Primary_Sequence_5</th>\n",
       "      <th>Primary_Sequence_6</th>\n",
       "      <th>Solvent_Accessibility_0</th>\n",
       "      <th>Solvent_Accessibility_1</th>\n",
       "      <th>Solvent_Accessibility_2</th>\n",
       "      <th>Solvent_Accessibility_3</th>\n",
       "      <th>Solvent_Accessibility_4</th>\n",
       "      <th>Solvent_Accessibility_5</th>\n",
       "      <th>Solvent_Accessibility_6</th>\n",
       "    </tr>\n",
       "  </thead>\n",
       "  <tbody>\n",
       "    <tr>\n",
       "      <th>0</th>\n",
       "      <td>HRFKVYN</td>\n",
       "      <td>BEFEEEE</td>\n",
       "      <td>7</td>\n",
       "      <td>6</td>\n",
       "      <td>14</td>\n",
       "      <td>4</td>\n",
       "      <td>8</td>\n",
       "      <td>17</td>\n",
       "      <td>19</td>\n",
       "      <td>11</td>\n",
       "      <td>1</td>\n",
       "      <td>0</td>\n",
       "      <td>2</td>\n",
       "      <td>0</td>\n",
       "      <td>0</td>\n",
       "      <td>0</td>\n",
       "      <td>0</td>\n",
       "    </tr>\n",
       "    <tr>\n",
       "      <th>1</th>\n",
       "      <td>RFKVYNY</td>\n",
       "      <td>EFEEEEF</td>\n",
       "      <td>7</td>\n",
       "      <td>14</td>\n",
       "      <td>4</td>\n",
       "      <td>8</td>\n",
       "      <td>17</td>\n",
       "      <td>19</td>\n",
       "      <td>11</td>\n",
       "      <td>19</td>\n",
       "      <td>0</td>\n",
       "      <td>2</td>\n",
       "      <td>0</td>\n",
       "      <td>0</td>\n",
       "      <td>0</td>\n",
       "      <td>0</td>\n",
       "      <td>2</td>\n",
       "    </tr>\n",
       "    <tr>\n",
       "      <th>2</th>\n",
       "      <td>FKVYNYM</td>\n",
       "      <td>FEEEEFE</td>\n",
       "      <td>7</td>\n",
       "      <td>4</td>\n",
       "      <td>8</td>\n",
       "      <td>17</td>\n",
       "      <td>19</td>\n",
       "      <td>11</td>\n",
       "      <td>19</td>\n",
       "      <td>10</td>\n",
       "      <td>2</td>\n",
       "      <td>0</td>\n",
       "      <td>0</td>\n",
       "      <td>0</td>\n",
       "      <td>0</td>\n",
       "      <td>2</td>\n",
       "      <td>0</td>\n",
       "    </tr>\n",
       "    <tr>\n",
       "      <th>3</th>\n",
       "      <td>KVYNYMS</td>\n",
       "      <td>EEEEFEE</td>\n",
       "      <td>7</td>\n",
       "      <td>8</td>\n",
       "      <td>17</td>\n",
       "      <td>19</td>\n",
       "      <td>11</td>\n",
       "      <td>19</td>\n",
       "      <td>10</td>\n",
       "      <td>15</td>\n",
       "      <td>0</td>\n",
       "      <td>0</td>\n",
       "      <td>0</td>\n",
       "      <td>0</td>\n",
       "      <td>2</td>\n",
       "      <td>0</td>\n",
       "      <td>0</td>\n",
       "    </tr>\n",
       "    <tr>\n",
       "      <th>4</th>\n",
       "      <td>VYNYMSP</td>\n",
       "      <td>EEEFEEE</td>\n",
       "      <td>7</td>\n",
       "      <td>17</td>\n",
       "      <td>19</td>\n",
       "      <td>11</td>\n",
       "      <td>19</td>\n",
       "      <td>10</td>\n",
       "      <td>15</td>\n",
       "      <td>12</td>\n",
       "      <td>0</td>\n",
       "      <td>0</td>\n",
       "      <td>0</td>\n",
       "      <td>2</td>\n",
       "      <td>0</td>\n",
       "      <td>0</td>\n",
       "      <td>0</td>\n",
       "    </tr>\n",
       "    <tr>\n",
       "      <th>...</th>\n",
       "      <td>...</td>\n",
       "      <td>...</td>\n",
       "      <td>...</td>\n",
       "      <td>...</td>\n",
       "      <td>...</td>\n",
       "      <td>...</td>\n",
       "      <td>...</td>\n",
       "      <td>...</td>\n",
       "      <td>...</td>\n",
       "      <td>...</td>\n",
       "      <td>...</td>\n",
       "      <td>...</td>\n",
       "      <td>...</td>\n",
       "      <td>...</td>\n",
       "      <td>...</td>\n",
       "      <td>...</td>\n",
       "      <td>...</td>\n",
       "    </tr>\n",
       "    <tr>\n",
       "      <th>236679</th>\n",
       "      <td>FESSSGL</td>\n",
       "      <td>FFEEFEF</td>\n",
       "      <td>7</td>\n",
       "      <td>4</td>\n",
       "      <td>3</td>\n",
       "      <td>15</td>\n",
       "      <td>15</td>\n",
       "      <td>15</td>\n",
       "      <td>5</td>\n",
       "      <td>9</td>\n",
       "      <td>2</td>\n",
       "      <td>2</td>\n",
       "      <td>0</td>\n",
       "      <td>0</td>\n",
       "      <td>2</td>\n",
       "      <td>0</td>\n",
       "      <td>2</td>\n",
       "    </tr>\n",
       "    <tr>\n",
       "      <th>236680</th>\n",
       "      <td>ESSSGLV</td>\n",
       "      <td>FEEFEFE</td>\n",
       "      <td>7</td>\n",
       "      <td>3</td>\n",
       "      <td>15</td>\n",
       "      <td>15</td>\n",
       "      <td>15</td>\n",
       "      <td>5</td>\n",
       "      <td>9</td>\n",
       "      <td>17</td>\n",
       "      <td>2</td>\n",
       "      <td>0</td>\n",
       "      <td>0</td>\n",
       "      <td>2</td>\n",
       "      <td>0</td>\n",
       "      <td>2</td>\n",
       "      <td>0</td>\n",
       "    </tr>\n",
       "    <tr>\n",
       "      <th>236681</th>\n",
       "      <td>SSSGLVW</td>\n",
       "      <td>EEFEFEB</td>\n",
       "      <td>7</td>\n",
       "      <td>15</td>\n",
       "      <td>15</td>\n",
       "      <td>15</td>\n",
       "      <td>5</td>\n",
       "      <td>9</td>\n",
       "      <td>17</td>\n",
       "      <td>18</td>\n",
       "      <td>0</td>\n",
       "      <td>0</td>\n",
       "      <td>2</td>\n",
       "      <td>0</td>\n",
       "      <td>2</td>\n",
       "      <td>0</td>\n",
       "      <td>1</td>\n",
       "    </tr>\n",
       "    <tr>\n",
       "      <th>236682</th>\n",
       "      <td>SSGLVWT</td>\n",
       "      <td>EFEFEBE</td>\n",
       "      <td>7</td>\n",
       "      <td>15</td>\n",
       "      <td>15</td>\n",
       "      <td>5</td>\n",
       "      <td>9</td>\n",
       "      <td>17</td>\n",
       "      <td>18</td>\n",
       "      <td>16</td>\n",
       "      <td>0</td>\n",
       "      <td>2</td>\n",
       "      <td>0</td>\n",
       "      <td>2</td>\n",
       "      <td>0</td>\n",
       "      <td>1</td>\n",
       "      <td>0</td>\n",
       "    </tr>\n",
       "    <tr>\n",
       "      <th>236683</th>\n",
       "      <td>SGLVWTS</td>\n",
       "      <td>FEFEBEE</td>\n",
       "      <td>7</td>\n",
       "      <td>15</td>\n",
       "      <td>5</td>\n",
       "      <td>9</td>\n",
       "      <td>17</td>\n",
       "      <td>18</td>\n",
       "      <td>16</td>\n",
       "      <td>15</td>\n",
       "      <td>2</td>\n",
       "      <td>0</td>\n",
       "      <td>2</td>\n",
       "      <td>0</td>\n",
       "      <td>1</td>\n",
       "      <td>0</td>\n",
       "      <td>0</td>\n",
       "    </tr>\n",
       "  </tbody>\n",
       "</table>\n",
       "<p>236684 rows × 17 columns</p>\n",
       "</div>"
      ],
      "text/plain": [
       "       Windowed_Sequence Solvent_Accessibility  Solvent_Accessibility_Length  \\\n",
       "0                HRFKVYN               BEFEEEE                             7   \n",
       "1                RFKVYNY               EFEEEEF                             7   \n",
       "2                FKVYNYM               FEEEEFE                             7   \n",
       "3                KVYNYMS               EEEEFEE                             7   \n",
       "4                VYNYMSP               EEEFEEE                             7   \n",
       "...                  ...                   ...                           ...   \n",
       "236679           FESSSGL               FFEEFEF                             7   \n",
       "236680           ESSSGLV               FEEFEFE                             7   \n",
       "236681           SSSGLVW               EEFEFEB                             7   \n",
       "236682           SSGLVWT               EFEFEBE                             7   \n",
       "236683           SGLVWTS               FEFEBEE                             7   \n",
       "\n",
       "        Primary_Sequence_0  Primary_Sequence_1  Primary_Sequence_2  \\\n",
       "0                        6                  14                   4   \n",
       "1                       14                   4                   8   \n",
       "2                        4                   8                  17   \n",
       "3                        8                  17                  19   \n",
       "4                       17                  19                  11   \n",
       "...                    ...                 ...                 ...   \n",
       "236679                   4                   3                  15   \n",
       "236680                   3                  15                  15   \n",
       "236681                  15                  15                  15   \n",
       "236682                  15                  15                   5   \n",
       "236683                  15                   5                   9   \n",
       "\n",
       "        Primary_Sequence_3  Primary_Sequence_4  Primary_Sequence_5  \\\n",
       "0                        8                  17                  19   \n",
       "1                       17                  19                  11   \n",
       "2                       19                  11                  19   \n",
       "3                       11                  19                  10   \n",
       "4                       19                  10                  15   \n",
       "...                    ...                 ...                 ...   \n",
       "236679                  15                  15                   5   \n",
       "236680                  15                   5                   9   \n",
       "236681                   5                   9                  17   \n",
       "236682                   9                  17                  18   \n",
       "236683                  17                  18                  16   \n",
       "\n",
       "        Primary_Sequence_6  Solvent_Accessibility_0  Solvent_Accessibility_1  \\\n",
       "0                       11                        1                        0   \n",
       "1                       19                        0                        2   \n",
       "2                       10                        2                        0   \n",
       "3                       15                        0                        0   \n",
       "4                       12                        0                        0   \n",
       "...                    ...                      ...                      ...   \n",
       "236679                   9                        2                        2   \n",
       "236680                  17                        2                        0   \n",
       "236681                  18                        0                        0   \n",
       "236682                  16                        0                        2   \n",
       "236683                  15                        2                        0   \n",
       "\n",
       "        Solvent_Accessibility_2  Solvent_Accessibility_3  \\\n",
       "0                             2                        0   \n",
       "1                             0                        0   \n",
       "2                             0                        0   \n",
       "3                             0                        0   \n",
       "4                             0                        2   \n",
       "...                         ...                      ...   \n",
       "236679                        0                        0   \n",
       "236680                        0                        2   \n",
       "236681                        2                        0   \n",
       "236682                        0                        2   \n",
       "236683                        2                        0   \n",
       "\n",
       "        Solvent_Accessibility_4  Solvent_Accessibility_5  \\\n",
       "0                             0                        0   \n",
       "1                             0                        0   \n",
       "2                             0                        2   \n",
       "3                             2                        0   \n",
       "4                             0                        0   \n",
       "...                         ...                      ...   \n",
       "236679                        2                        0   \n",
       "236680                        0                        2   \n",
       "236681                        2                        0   \n",
       "236682                        0                        1   \n",
       "236683                        1                        0   \n",
       "\n",
       "        Solvent_Accessibility_6  \n",
       "0                             0  \n",
       "1                             2  \n",
       "2                             0  \n",
       "3                             0  \n",
       "4                             0  \n",
       "...                         ...  \n",
       "236679                        2  \n",
       "236680                        0  \n",
       "236681                        1  \n",
       "236682                        0  \n",
       "236683                        0  \n",
       "\n",
       "[236684 rows x 17 columns]"
      ]
     },
     "execution_count": 4,
     "metadata": {},
     "output_type": "execute_result"
    }
   ],
   "source": [
    "data = pd.read_csv(\"./proteinSeq/win_7.csv\")\n",
    "data"
   ]
  },
  {
   "cell_type": "code",
   "execution_count": 10,
   "metadata": {},
   "outputs": [],
   "source": [
    "cls=list(set(data['Solvent_Accessibility_0']))"
   ]
  },
  {
   "cell_type": "code",
   "execution_count": 11,
   "metadata": {},
   "outputs": [
    {
     "data": {
      "text/plain": [
       "[0, 1, 2]"
      ]
     },
     "execution_count": 11,
     "metadata": {},
     "output_type": "execute_result"
    }
   ],
   "source": [
    "cls"
   ]
  },
  {
   "cell_type": "code",
   "execution_count": 15,
   "metadata": {},
   "outputs": [],
   "source": [
    "labEncoder=LabelEncoder()\n",
    "labEncoder.fit(cls)\n",
    "clsDic=dict(zip(cls,labEncoder.transform(cls)))"
   ]
  },
  {
   "cell_type": "code",
   "execution_count": 16,
   "metadata": {},
   "outputs": [
    {
     "data": {
      "text/plain": [
       "{0: 0, 1: 1, 2: 2}"
      ]
     },
     "execution_count": 16,
     "metadata": {},
     "output_type": "execute_result"
    }
   ],
   "source": [
    "clsDic"
   ]
  },
  {
   "cell_type": "code",
   "execution_count": 17,
   "metadata": {},
   "outputs": [],
   "source": [
    "numLabel=len(cls)\n",
    "batchSize=16\n",
    "learningRate=2e-5\n",
    "epochs=200"
   ]
  },
  {
   "cell_type": "code",
   "execution_count": 18,
   "metadata": {},
   "outputs": [
    {
     "data": {
      "text/plain": [
       "device(type='cuda')"
      ]
     },
     "execution_count": 18,
     "metadata": {},
     "output_type": "execute_result"
    }
   ],
   "source": [
    "device=torch.device(\"cuda\") if torch.cuda.is_available else torch.device(\"cpu\")\n",
    "device"
   ]
  },
  {
   "cell_type": "code",
   "execution_count": 19,
   "metadata": {},
   "outputs": [
    {
     "name": "stderr",
     "output_type": "stream",
     "text": [
      "c:\\Users\\Sid\\AppData\\Local\\Programs\\Python\\Python39\\lib\\site-packages\\torch\\_utils.py:776: UserWarning: TypedStorage is deprecated. It will be removed in the future and UntypedStorage will be the only storage class. This should only matter to you if you are using storages directly.  To access UntypedStorage directly, use tensor.untyped_storage() instead of tensor.storage()\n",
      "  return self.fget.__get__(instance, owner)()\n",
      "Some weights of MobileBertForSequenceClassification were not initialized from the model checkpoint at google/mobilebert-uncased and are newly initialized: ['classifier.bias', 'classifier.weight']\n",
      "You should probably TRAIN this model on a down-stream task to be able to use it for predictions and inference.\n",
      "c:\\Users\\Sid\\AppData\\Local\\Programs\\Python\\Python39\\lib\\site-packages\\huggingface_hub\\file_download.py:1132: FutureWarning: `resume_download` is deprecated and will be removed in version 1.0.0. Downloads always resume when possible. If you want to force a new download, use `force_download=True`.\n",
      "  warnings.warn(\n"
     ]
    }
   ],
   "source": [
    "model=AutoModelForSequenceClassification.from_pretrained(\"google/mobilebert-uncased\",num_labels=numLabel).to(device)\n",
    "token=AutoTokenizer.from_pretrained(\"google/mobilebert-uncased\")"
   ]
  },
  {
   "cell_type": "code",
   "execution_count": 20,
   "metadata": {},
   "outputs": [],
   "source": [
    "wandb.watch(model)\n",
    "wandb.config[\"learningRate\"]=learningRate\n",
    "wandb.config[\"batch_size\"]=batchSize"
   ]
  },
  {
   "cell_type": "code",
   "execution_count": null,
   "metadata": {},
   "outputs": [],
   "source": [
    "trainData,valData=train_test_split(data)"
   ]
  }
 ],
 "metadata": {
  "kernelspec": {
   "display_name": "Python 3",
   "language": "python",
   "name": "python3"
  },
  "language_info": {
   "codemirror_mode": {
    "name": "ipython",
    "version": 3
   },
   "file_extension": ".py",
   "mimetype": "text/x-python",
   "name": "python",
   "nbconvert_exporter": "python",
   "pygments_lexer": "ipython3",
   "version": "3.9.13"
  }
 },
 "nbformat": 4,
 "nbformat_minor": 2
}
