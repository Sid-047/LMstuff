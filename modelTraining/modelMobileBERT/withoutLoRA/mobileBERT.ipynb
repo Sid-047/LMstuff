{
 "cells": [
  {
   "cell_type": "code",
   "execution_count": 1,
   "metadata": {},
   "outputs": [
    {
     "name": "stderr",
     "output_type": "stream",
     "text": [
      "C:\\Users\\Sid\\AppData\\Local\\Temp\\ipykernel_41752\\451788269.py:4: DeprecationWarning: \n",
      "Pyarrow will become a required dependency of pandas in the next major release of pandas (pandas 3.0),\n",
      "(to allow more performant data types, such as the Arrow string type, and better interoperability with other libraries)\n",
      "but was not found to be installed on your system.\n",
      "If this would cause problems for you,\n",
      "please provide us feedback at https://github.com/pandas-dev/pandas/issues/54466\n",
      "        \n",
      "  import pandas as pd\n"
     ]
    },
    {
     "name": "stdout",
     "output_type": "stream",
     "text": [
      "WARNING:tensorflow:From c:\\Users\\Sid\\AppData\\Local\\Programs\\Python\\Python39\\lib\\site-packages\\keras\\src\\losses.py:2976: The name tf.losses.sparse_softmax_cross_entropy is deprecated. Please use tf.compat.v1.losses.sparse_softmax_cross_entropy instead.\n",
      "\n"
     ]
    }
   ],
   "source": [
    "import tqdm\n",
    "import torch\n",
    "import wandb\n",
    "import pandas as pd\n",
    "from sklearn.preprocessing import LabelEncoder\n",
    "from sklearn.model_selection import train_test_split\n",
    "from torch.utils.data import TensorDataset, DataLoader\n",
    "from sklearn.metrics import accuracy_score, precision_score, recall_score\n",
    "from transformers import AutoModelForSequenceClassification, AutoTokenizer, AdamW"
   ]
  },
  {
   "cell_type": "code",
   "execution_count": 2,
   "metadata": {},
   "outputs": [
    {
     "name": "stderr",
     "output_type": "stream",
     "text": [
      "Failed to detect the name of this notebook, you can set it manually with the WANDB_NOTEBOOK_NAME environment variable to enable code saving.\n",
      "\u001b[34m\u001b[1mwandb\u001b[0m: Currently logged in as: \u001b[33msiddiqmoideen07\u001b[0m. Use \u001b[1m`wandb login --relogin`\u001b[0m to force relogin\n"
     ]
    },
    {
     "data": {
      "text/html": [
       "wandb version 0.17.0 is available!  To upgrade, please run:\n",
       " $ pip install wandb --upgrade"
      ],
      "text/plain": [
       "<IPython.core.display.HTML object>"
      ]
     },
     "metadata": {},
     "output_type": "display_data"
    },
    {
     "data": {
      "text/html": [
       "Tracking run with wandb version 0.16.2"
      ],
      "text/plain": [
       "<IPython.core.display.HTML object>"
      ]
     },
     "metadata": {},
     "output_type": "display_data"
    },
    {
     "data": {
      "text/html": [
       "Run data is saved locally in <code>t:\\OpenSourceContribution\\LMstuff\\modelTraining\\modelMobileBERT\\withoutLoRA\\wandb\\run-20240529_055921-w04m7aec</code>"
      ],
      "text/plain": [
       "<IPython.core.display.HTML object>"
      ]
     },
     "metadata": {},
     "output_type": "display_data"
    },
    {
     "data": {
      "text/html": [
       "Syncing run <strong><a href='https://wandb.ai/siddiqmoideen07/MobileBERT%20Model%20FineTuning%20Yo%21/runs/w04m7aec' target=\"_blank\">earthy-capybara-4</a></strong> to <a href='https://wandb.ai/siddiqmoideen07/MobileBERT%20Model%20FineTuning%20Yo%21' target=\"_blank\">Weights & Biases</a> (<a href='https://wandb.me/run' target=\"_blank\">docs</a>)<br/>"
      ],
      "text/plain": [
       "<IPython.core.display.HTML object>"
      ]
     },
     "metadata": {},
     "output_type": "display_data"
    },
    {
     "data": {
      "text/html": [
       " View project at <a href='https://wandb.ai/siddiqmoideen07/MobileBERT%20Model%20FineTuning%20Yo%21' target=\"_blank\">https://wandb.ai/siddiqmoideen07/MobileBERT%20Model%20FineTuning%20Yo%21</a>"
      ],
      "text/plain": [
       "<IPython.core.display.HTML object>"
      ]
     },
     "metadata": {},
     "output_type": "display_data"
    },
    {
     "data": {
      "text/html": [
       " View run at <a href='https://wandb.ai/siddiqmoideen07/MobileBERT%20Model%20FineTuning%20Yo%21/runs/w04m7aec' target=\"_blank\">https://wandb.ai/siddiqmoideen07/MobileBERT%20Model%20FineTuning%20Yo%21/runs/w04m7aec</a>"
      ],
      "text/plain": [
       "<IPython.core.display.HTML object>"
      ]
     },
     "metadata": {},
     "output_type": "display_data"
    },
    {
     "data": {
      "text/html": [
       "<button onClick=\"this.nextSibling.style.display='block';this.style.display='none';\">Display W&B run</button><iframe src='https://wandb.ai/siddiqmoideen07/MobileBERT%20Model%20FineTuning%20Yo%21/runs/w04m7aec?jupyter=true' style='border:none;width:100%;height:420px;display:none;'></iframe>"
      ],
      "text/plain": [
       "<wandb.sdk.wandb_run.Run at 0x2017ab78d60>"
      ]
     },
     "execution_count": 2,
     "metadata": {},
     "output_type": "execute_result"
    }
   ],
   "source": [
    "wandb.init(project=\"MobileBERT Model FineTuning Yo!\")"
   ]
  },
  {
   "cell_type": "code",
   "execution_count": 3,
   "metadata": {},
   "outputs": [
    {
     "data": {
      "text/html": [
       "<div>\n",
       "<style scoped>\n",
       "    .dataframe tbody tr th:only-of-type {\n",
       "        vertical-align: middle;\n",
       "    }\n",
       "\n",
       "    .dataframe tbody tr th {\n",
       "        vertical-align: top;\n",
       "    }\n",
       "\n",
       "    .dataframe thead th {\n",
       "        text-align: right;\n",
       "    }\n",
       "</style>\n",
       "<table border=\"1\" class=\"dataframe\">\n",
       "  <thead>\n",
       "    <tr style=\"text-align: right;\">\n",
       "      <th></th>\n",
       "      <th>OCR Contents</th>\n",
       "      <th>Category</th>\n",
       "    </tr>\n",
       "  </thead>\n",
       "  <tbody>\n",
       "    <tr>\n",
       "      <th>0</th>\n",
       "      <td>Invoice Number: INV0786Hotel Name: Spice Garde...</td>\n",
       "      <td>Food Category - Restaurant Bill/Receipt</td>\n",
       "    </tr>\n",
       "    <tr>\n",
       "      <th>1</th>\n",
       "      <td>Invoice No- DW/1112/851166\\n\\nInvoice Date : 2...</td>\n",
       "      <td>Travel Category - Flight Ticket</td>\n",
       "    </tr>\n",
       "    <tr>\n",
       "      <th>2</th>\n",
       "      <td>Hotel: Accor\\r\\nCity: Delhi\\r\\nNumber of Days:...</td>\n",
       "      <td>Miscellaneous Category - Miscellaneous Bills</td>\n",
       "    </tr>\n",
       "    <tr>\n",
       "      <th>3</th>\n",
       "      <td>FOOD INN FINE DINE\\nProprietor\\nPER =NNIA REST...</td>\n",
       "      <td>Food Category - Restaurant Bill/Receipt</td>\n",
       "    </tr>\n",
       "    <tr>\n",
       "      <th>4</th>\n",
       "      <td>= Confirmed Booking Id: NF20115276689422\\n\\nSU...</td>\n",
       "      <td>Travel Category - Flight Ticket</td>\n",
       "    </tr>\n",
       "    <tr>\n",
       "      <th>...</th>\n",
       "      <td>...</td>\n",
       "      <td>...</td>\n",
       "    </tr>\n",
       "    <tr>\n",
       "      <th>5161</th>\n",
       "      <td>Indiandit\\n\\nSERIAL SNA AUTONOBI\\n\\nr .A.B.Roa...</td>\n",
       "      <td>Fuel Category - Fuel Bill/Receipt</td>\n",
       "    </tr>\n",
       "    <tr>\n",
       "      <th>5162</th>\n",
       "      <td>Base Fare\\nDistance\\nTime\\n\\nSubtotal\\n\\nCHARG...</td>\n",
       "      <td>Travel Category - Cab Bill/Receipt</td>\n",
       "    </tr>\n",
       "    <tr>\n",
       "      <th>5163</th>\n",
       "      <td>Dear sanjay kumar,\\n\\nCongratdatons! Thark you...</td>\n",
       "      <td>Travel Category - Train Ticket</td>\n",
       "    </tr>\n",
       "    <tr>\n",
       "      <th>5164</th>\n",
       "      <td>Invoice Number: INV0780Hotel Name: Taste of It...</td>\n",
       "      <td>Food Category - Restaurant Bill/Receipt</td>\n",
       "    </tr>\n",
       "    <tr>\n",
       "      <th>5165</th>\n",
       "      <td>CURRENT Electronic Reservation Slip (ERS)-Norm...</td>\n",
       "      <td>Travel Category - Train Ticket</td>\n",
       "    </tr>\n",
       "  </tbody>\n",
       "</table>\n",
       "<p>5166 rows × 2 columns</p>\n",
       "</div>"
      ],
      "text/plain": [
       "                                           OCR Contents  \\\n",
       "0     Invoice Number: INV0786Hotel Name: Spice Garde...   \n",
       "1     Invoice No- DW/1112/851166\\n\\nInvoice Date : 2...   \n",
       "2     Hotel: Accor\\r\\nCity: Delhi\\r\\nNumber of Days:...   \n",
       "3     FOOD INN FINE DINE\\nProprietor\\nPER =NNIA REST...   \n",
       "4     = Confirmed Booking Id: NF20115276689422\\n\\nSU...   \n",
       "...                                                 ...   \n",
       "5161  Indiandit\\n\\nSERIAL SNA AUTONOBI\\n\\nr .A.B.Roa...   \n",
       "5162  Base Fare\\nDistance\\nTime\\n\\nSubtotal\\n\\nCHARG...   \n",
       "5163  Dear sanjay kumar,\\n\\nCongratdatons! Thark you...   \n",
       "5164  Invoice Number: INV0780Hotel Name: Taste of It...   \n",
       "5165  CURRENT Electronic Reservation Slip (ERS)-Norm...   \n",
       "\n",
       "                                          Category  \n",
       "0          Food Category - Restaurant Bill/Receipt  \n",
       "1                  Travel Category - Flight Ticket  \n",
       "2     Miscellaneous Category - Miscellaneous Bills  \n",
       "3          Food Category - Restaurant Bill/Receipt  \n",
       "4                  Travel Category - Flight Ticket  \n",
       "...                                            ...  \n",
       "5161             Fuel Category - Fuel Bill/Receipt  \n",
       "5162            Travel Category - Cab Bill/Receipt  \n",
       "5163                Travel Category - Train Ticket  \n",
       "5164       Food Category - Restaurant Bill/Receipt  \n",
       "5165                Travel Category - Train Ticket  \n",
       "\n",
       "[5166 rows x 2 columns]"
      ]
     },
     "execution_count": 3,
     "metadata": {},
     "output_type": "execute_result"
    }
   ],
   "source": [
    "dataStuff = pd.read_csv(\"../augmentedDataStuff.csv\")\n",
    "dataStuff"
   ]
  },
  {
   "cell_type": "code",
   "execution_count": 4,
   "metadata": {},
   "outputs": [
    {
     "data": {
      "text/plain": [
       "['Travel Category - Bus Ticket',\n",
       " 'Room Stay Category - Stay Bill/Receipt',\n",
       " 'Food Category - Restaurant Bill/Receipt',\n",
       " 'Electronics Category - Electronic Gadgets Bill/Receipt',\n",
       " 'Travel Category - Flight Ticket',\n",
       " 'Travel Category - Cab Bill/Receipt',\n",
       " 'Miscellaneous Category - Miscellaneous Bills',\n",
       " 'Fuel Category - Fuel Bill/Receipt',\n",
       " 'Travel Category - Train Ticket']"
      ]
     },
     "execution_count": 4,
     "metadata": {},
     "output_type": "execute_result"
    }
   ],
   "source": [
    "clsStuff = list(set(dataStuff[\"Category\"]))\n",
    "clsStuff"
   ]
  },
  {
   "cell_type": "code",
   "execution_count": 5,
   "metadata": {},
   "outputs": [
    {
     "data": {
      "text/plain": [
       "{'Travel Category - Bus Ticket': 5,\n",
       " 'Room Stay Category - Stay Bill/Receipt': 4,\n",
       " 'Food Category - Restaurant Bill/Receipt': 1,\n",
       " 'Electronics Category - Electronic Gadgets Bill/Receipt': 0,\n",
       " 'Travel Category - Flight Ticket': 7,\n",
       " 'Travel Category - Cab Bill/Receipt': 6,\n",
       " 'Miscellaneous Category - Miscellaneous Bills': 3,\n",
       " 'Fuel Category - Fuel Bill/Receipt': 2,\n",
       " 'Travel Category - Train Ticket': 8}"
      ]
     },
     "execution_count": 5,
     "metadata": {},
     "output_type": "execute_result"
    }
   ],
   "source": [
    "labelEncoder = LabelEncoder()\n",
    "labelEncoder.fit(clsStuff)\n",
    "clsDict = dict(zip(clsStuff, labelEncoder.transform(clsStuff)))\n",
    "clsDict"
   ]
  },
  {
   "cell_type": "code",
   "execution_count": 6,
   "metadata": {},
   "outputs": [],
   "source": [
    "numLabels = len(clsStuff)\n",
    "batchSize = 16\n",
    "learningRate = 2e-5\n",
    "epochs = 250"
   ]
  },
  {
   "cell_type": "code",
   "execution_count": 7,
   "metadata": {},
   "outputs": [
    {
     "data": {
      "text/plain": [
       "device(type='cuda')"
      ]
     },
     "execution_count": 7,
     "metadata": {},
     "output_type": "execute_result"
    }
   ],
   "source": [
    "device = torch.device(\"cuda\") if torch.cuda.is_available() else torch.device(\"cpu\")\n",
    "device"
   ]
  },
  {
   "cell_type": "code",
   "execution_count": 8,
   "metadata": {},
   "outputs": [
    {
     "name": "stderr",
     "output_type": "stream",
     "text": [
      "Some weights of the model checkpoint at google/mobilebert-uncased were not used when initializing MobileBertForSequenceClassification: ['cls.predictions.transform.LayerNorm.bias', 'cls.predictions.transform.dense.bias', 'cls.predictions.transform.LayerNorm.weight', 'cls.predictions.decoder.weight', 'cls.seq_relationship.weight', 'cls.seq_relationship.bias', 'cls.predictions.bias', 'cls.predictions.transform.dense.weight', 'cls.predictions.decoder.bias', 'cls.predictions.dense.weight']\n",
      "- This IS expected if you are initializing MobileBertForSequenceClassification from the checkpoint of a model trained on another task or with another architecture (e.g. initializing a BertForSequenceClassification model from a BertForPreTraining model).\n",
      "- This IS NOT expected if you are initializing MobileBertForSequenceClassification from the checkpoint of a model that you expect to be exactly identical (initializing a BertForSequenceClassification model from a BertForSequenceClassification model).\n",
      "Some weights of MobileBertForSequenceClassification were not initialized from the model checkpoint at google/mobilebert-uncased and are newly initialized: ['classifier.bias', 'classifier.weight']\n",
      "You should probably TRAIN this model on a down-stream task to be able to use it for predictions and inference.\n"
     ]
    }
   ],
   "source": [
    "model = AutoModelForSequenceClassification.from_pretrained(\"google/mobilebert-uncased\", num_labels=numLabels).to(device)\n",
    "tokenizer = AutoTokenizer.from_pretrained(\"google/mobilebert-uncased\")"
   ]
  },
  {
   "cell_type": "code",
   "execution_count": 9,
   "metadata": {},
   "outputs": [],
   "source": [
    "wandb.watch(model)\n",
    "wandb.config[\"learning_rate\"] = learningRate\n",
    "wandb.config[\"batch_size\"] = batchSize"
   ]
  },
  {
   "cell_type": "code",
   "execution_count": 10,
   "metadata": {},
   "outputs": [
    {
     "data": {
      "text/plain": [
       "4711    Hotel: Hilton Worldwide\\r\\nCity: Amritsar\\r\\nN...\n",
       "4184    goibibo sao\\n\\nFlight Ticket - Kolkata to Agar...\n",
       "1670    Category: Utilities\\r\\nItem: Internet Bill\\r\\n...\n",
       "99      Invoice Number: INV0810Hotel Name: The Hungry ...\n",
       "3592    Invoice Number: INV0953Hotel Name: Gourmet Pal...\n",
       "                              ...                        \n",
       "4426    Invoice Number: INV0558Hotel Name: The Hungry ...\n",
       "466     ticket ric 0: r07s220168 Gcleartrip\\n\\nBangalo...\n",
       "3092    Category: Shopping\\r\\nItem: Accessories\\r\\nAmo...\n",
       "3772    \" ‘\\n\\nSREP iy\\n\\nCHOKHI DHANI PALACE HOTEL\\n\\...\n",
       "860     Category: Healthcare\\r\\nItem: Medicines\\r\\nAmo...\n",
       "Name: OCR Contents, Length: 4132, dtype: object"
      ]
     },
     "execution_count": 10,
     "metadata": {},
     "output_type": "execute_result"
    }
   ],
   "source": [
    "trainData, valData = train_test_split(dataStuff, test_size=0.2, random_state=42)\n",
    "trainData['OCR Contents']"
   ]
  },
  {
   "cell_type": "code",
   "execution_count": 11,
   "metadata": {},
   "outputs": [],
   "source": [
    "def prepData(data):\n",
    "  train_inputs, train_masks, train_labels = [], [], []\n",
    "  for item, label in zip(data[\"OCR Contents\"], data[\"Category\"]):\n",
    "    text_content = item\n",
    "    encoded_data = tokenizer(text_content, padding=\"max_length\", truncation=True, max_length=512)\n",
    "    train_inputs.append(encoded_data[\"input_ids\"])\n",
    "    train_masks.append(encoded_data[\"attention_mask\"])\n",
    "    train_labels.append(label)\n",
    "  return train_inputs, train_masks, train_labels"
   ]
  },
  {
   "cell_type": "code",
   "execution_count": 12,
   "metadata": {},
   "outputs": [],
   "source": [
    "def labels2Encoding(labelStuff):\n",
    "    encodedLabels = labelEncoder.transform(labelStuff)\n",
    "    return encodedLabels"
   ]
  },
  {
   "cell_type": "code",
   "execution_count": 13,
   "metadata": {},
   "outputs": [],
   "source": [
    "trainInputs, trainMasks, trainLabels = prepData(trainData)\n",
    "valInputs, valMasks, valLabels = prepData(valData)"
   ]
  },
  {
   "cell_type": "code",
   "execution_count": 14,
   "metadata": {},
   "outputs": [
    {
     "data": {
      "text/plain": [
       "['Miscellaneous Category - Miscellaneous Bills',\n",
       " 'Travel Category - Bus Ticket',\n",
       " 'Miscellaneous Category - Miscellaneous Bills',\n",
       " 'Food Category - Restaurant Bill/Receipt',\n",
       " 'Food Category - Restaurant Bill/Receipt',\n",
       " 'Travel Category - Train Ticket',\n",
       " 'Miscellaneous Category - Miscellaneous Bills',\n",
       " 'Food Category - Restaurant Bill/Receipt',\n",
       " 'Room Stay Category - Stay Bill/Receipt',\n",
       " 'Miscellaneous Category - Miscellaneous Bills',\n",
       " 'Food Category - Restaurant Bill/Receipt',\n",
       " 'Miscellaneous Category - Miscellaneous Bills',\n",
       " 'Miscellaneous Category - Miscellaneous Bills',\n",
       " 'Miscellaneous Category - Miscellaneous Bills',\n",
       " 'Food Category - Restaurant Bill/Receipt',\n",
       " 'Miscellaneous Category - Miscellaneous Bills',\n",
       " 'Travel Category - Bus Ticket',\n",
       " 'Miscellaneous Category - Miscellaneous Bills',\n",
       " 'Travel Category - Flight Ticket',\n",
       " 'Food Category - Restaurant Bill/Receipt',\n",
       " 'Food Category - Restaurant Bill/Receipt',\n",
       " 'Travel Category - Train Ticket',\n",
       " 'Travel Category - Bus Ticket',\n",
       " 'Travel Category - Bus Ticket',\n",
       " 'Miscellaneous Category - Miscellaneous Bills',\n",
       " 'Food Category - Restaurant Bill/Receipt',\n",
       " 'Travel Category - Train Ticket',\n",
       " 'Food Category - Restaurant Bill/Receipt',\n",
       " 'Food Category - Restaurant Bill/Receipt',\n",
       " 'Miscellaneous Category - Miscellaneous Bills',\n",
       " 'Travel Category - Flight Ticket',\n",
       " 'Electronics Category - Electronic Gadgets Bill/Receipt',\n",
       " 'Miscellaneous Category - Miscellaneous Bills',\n",
       " 'Travel Category - Flight Ticket',\n",
       " 'Miscellaneous Category - Miscellaneous Bills',\n",
       " 'Travel Category - Bus Ticket',\n",
       " 'Electronics Category - Electronic Gadgets Bill/Receipt',\n",
       " 'Food Category - Restaurant Bill/Receipt',\n",
       " 'Miscellaneous Category - Miscellaneous Bills',\n",
       " 'Miscellaneous Category - Miscellaneous Bills',\n",
       " 'Food Category - Restaurant Bill/Receipt',\n",
       " 'Food Category - Restaurant Bill/Receipt',\n",
       " 'Miscellaneous Category - Miscellaneous Bills',\n",
       " 'Miscellaneous Category - Miscellaneous Bills',\n",
       " 'Miscellaneous Category - Miscellaneous Bills',\n",
       " 'Room Stay Category - Stay Bill/Receipt',\n",
       " 'Miscellaneous Category - Miscellaneous Bills',\n",
       " 'Fuel Category - Fuel Bill/Receipt',\n",
       " 'Food Category - Restaurant Bill/Receipt',\n",
       " 'Miscellaneous Category - Miscellaneous Bills',\n",
       " 'Miscellaneous Category - Miscellaneous Bills',\n",
       " 'Food Category - Restaurant Bill/Receipt',\n",
       " 'Electronics Category - Electronic Gadgets Bill/Receipt',\n",
       " 'Food Category - Restaurant Bill/Receipt',\n",
       " 'Food Category - Restaurant Bill/Receipt',\n",
       " 'Miscellaneous Category - Miscellaneous Bills',\n",
       " 'Miscellaneous Category - Miscellaneous Bills',\n",
       " 'Food Category - Restaurant Bill/Receipt',\n",
       " 'Room Stay Category - Stay Bill/Receipt',\n",
       " 'Food Category - Restaurant Bill/Receipt',\n",
       " 'Food Category - Restaurant Bill/Receipt',\n",
       " 'Miscellaneous Category - Miscellaneous Bills',\n",
       " 'Fuel Category - Fuel Bill/Receipt',\n",
       " 'Miscellaneous Category - Miscellaneous Bills',\n",
       " 'Food Category - Restaurant Bill/Receipt',\n",
       " 'Miscellaneous Category - Miscellaneous Bills',\n",
       " 'Food Category - Restaurant Bill/Receipt',\n",
       " 'Miscellaneous Category - Miscellaneous Bills',\n",
       " 'Travel Category - Flight Ticket',\n",
       " 'Food Category - Restaurant Bill/Receipt',\n",
       " 'Miscellaneous Category - Miscellaneous Bills',\n",
       " 'Miscellaneous Category - Miscellaneous Bills',\n",
       " 'Food Category - Restaurant Bill/Receipt',\n",
       " 'Miscellaneous Category - Miscellaneous Bills',\n",
       " 'Miscellaneous Category - Miscellaneous Bills',\n",
       " 'Miscellaneous Category - Miscellaneous Bills',\n",
       " 'Travel Category - Cab Bill/Receipt',\n",
       " 'Miscellaneous Category - Miscellaneous Bills',\n",
       " 'Food Category - Restaurant Bill/Receipt',\n",
       " 'Miscellaneous Category - Miscellaneous Bills',\n",
       " 'Miscellaneous Category - Miscellaneous Bills',\n",
       " 'Travel Category - Flight Ticket',\n",
       " 'Miscellaneous Category - Miscellaneous Bills',\n",
       " 'Miscellaneous Category - Miscellaneous Bills',\n",
       " 'Electronics Category - Electronic Gadgets Bill/Receipt',\n",
       " 'Food Category - Restaurant Bill/Receipt',\n",
       " 'Travel Category - Cab Bill/Receipt',\n",
       " 'Food Category - Restaurant Bill/Receipt',\n",
       " 'Electronics Category - Electronic Gadgets Bill/Receipt',\n",
       " 'Travel Category - Bus Ticket',\n",
       " 'Travel Category - Flight Ticket',\n",
       " 'Food Category - Restaurant Bill/Receipt',\n",
       " 'Miscellaneous Category - Miscellaneous Bills',\n",
       " 'Miscellaneous Category - Miscellaneous Bills',\n",
       " 'Miscellaneous Category - Miscellaneous Bills',\n",
       " 'Food Category - Restaurant Bill/Receipt',\n",
       " 'Fuel Category - Fuel Bill/Receipt',\n",
       " 'Food Category - Restaurant Bill/Receipt',\n",
       " 'Miscellaneous Category - Miscellaneous Bills',\n",
       " 'Food Category - Restaurant Bill/Receipt',\n",
       " 'Food Category - Restaurant Bill/Receipt',\n",
       " 'Travel Category - Bus Ticket',\n",
       " 'Travel Category - Flight Ticket',\n",
       " 'Food Category - Restaurant Bill/Receipt',\n",
       " 'Food Category - Restaurant Bill/Receipt',\n",
       " 'Food Category - Restaurant Bill/Receipt',\n",
       " 'Miscellaneous Category - Miscellaneous Bills',\n",
       " 'Food Category - Restaurant Bill/Receipt',\n",
       " 'Miscellaneous Category - Miscellaneous Bills',\n",
       " 'Travel Category - Cab Bill/Receipt',\n",
       " 'Miscellaneous Category - Miscellaneous Bills',\n",
       " 'Food Category - Restaurant Bill/Receipt',\n",
       " 'Food Category - Restaurant Bill/Receipt',\n",
       " 'Room Stay Category - Stay Bill/Receipt',\n",
       " 'Miscellaneous Category - Miscellaneous Bills',\n",
       " 'Miscellaneous Category - Miscellaneous Bills',\n",
       " 'Food Category - Restaurant Bill/Receipt',\n",
       " 'Travel Category - Flight Ticket',\n",
       " 'Travel Category - Train Ticket',\n",
       " 'Miscellaneous Category - Miscellaneous Bills',\n",
       " 'Miscellaneous Category - Miscellaneous Bills',\n",
       " 'Miscellaneous Category - Miscellaneous Bills',\n",
       " 'Travel Category - Flight Ticket',\n",
       " 'Miscellaneous Category - Miscellaneous Bills',\n",
       " 'Food Category - Restaurant Bill/Receipt',\n",
       " 'Travel Category - Train Ticket',\n",
       " 'Miscellaneous Category - Miscellaneous Bills',\n",
       " 'Food Category - Restaurant Bill/Receipt',\n",
       " 'Miscellaneous Category - Miscellaneous Bills',\n",
       " 'Miscellaneous Category - Miscellaneous Bills',\n",
       " 'Food Category - Restaurant Bill/Receipt',\n",
       " 'Miscellaneous Category - Miscellaneous Bills',\n",
       " 'Food Category - Restaurant Bill/Receipt',\n",
       " 'Electronics Category - Electronic Gadgets Bill/Receipt',\n",
       " 'Electronics Category - Electronic Gadgets Bill/Receipt',\n",
       " 'Travel Category - Flight Ticket',\n",
       " 'Travel Category - Bus Ticket',\n",
       " 'Miscellaneous Category - Miscellaneous Bills',\n",
       " 'Miscellaneous Category - Miscellaneous Bills',\n",
       " 'Miscellaneous Category - Miscellaneous Bills',\n",
       " 'Food Category - Restaurant Bill/Receipt',\n",
       " 'Miscellaneous Category - Miscellaneous Bills',\n",
       " 'Travel Category - Flight Ticket',\n",
       " 'Electronics Category - Electronic Gadgets Bill/Receipt',\n",
       " 'Miscellaneous Category - Miscellaneous Bills',\n",
       " 'Miscellaneous Category - Miscellaneous Bills',\n",
       " 'Travel Category - Train Ticket',\n",
       " 'Travel Category - Bus Ticket',\n",
       " 'Fuel Category - Fuel Bill/Receipt',\n",
       " 'Travel Category - Train Ticket',\n",
       " 'Miscellaneous Category - Miscellaneous Bills',\n",
       " 'Travel Category - Train Ticket',\n",
       " 'Travel Category - Train Ticket',\n",
       " 'Miscellaneous Category - Miscellaneous Bills',\n",
       " 'Room Stay Category - Stay Bill/Receipt',\n",
       " 'Miscellaneous Category - Miscellaneous Bills',\n",
       " 'Miscellaneous Category - Miscellaneous Bills',\n",
       " 'Miscellaneous Category - Miscellaneous Bills',\n",
       " 'Miscellaneous Category - Miscellaneous Bills',\n",
       " 'Travel Category - Flight Ticket',\n",
       " 'Miscellaneous Category - Miscellaneous Bills',\n",
       " 'Food Category - Restaurant Bill/Receipt',\n",
       " 'Miscellaneous Category - Miscellaneous Bills',\n",
       " 'Miscellaneous Category - Miscellaneous Bills',\n",
       " 'Travel Category - Flight Ticket',\n",
       " 'Miscellaneous Category - Miscellaneous Bills',\n",
       " 'Food Category - Restaurant Bill/Receipt',\n",
       " 'Travel Category - Flight Ticket',\n",
       " 'Fuel Category - Fuel Bill/Receipt',\n",
       " 'Miscellaneous Category - Miscellaneous Bills',\n",
       " 'Miscellaneous Category - Miscellaneous Bills',\n",
       " 'Food Category - Restaurant Bill/Receipt',\n",
       " 'Miscellaneous Category - Miscellaneous Bills',\n",
       " 'Food Category - Restaurant Bill/Receipt',\n",
       " 'Miscellaneous Category - Miscellaneous Bills',\n",
       " 'Fuel Category - Fuel Bill/Receipt',\n",
       " 'Food Category - Restaurant Bill/Receipt',\n",
       " 'Electronics Category - Electronic Gadgets Bill/Receipt',\n",
       " 'Food Category - Restaurant Bill/Receipt',\n",
       " 'Food Category - Restaurant Bill/Receipt',\n",
       " 'Food Category - Restaurant Bill/Receipt',\n",
       " 'Miscellaneous Category - Miscellaneous Bills',\n",
       " 'Miscellaneous Category - Miscellaneous Bills',\n",
       " 'Food Category - Restaurant Bill/Receipt',\n",
       " 'Miscellaneous Category - Miscellaneous Bills',\n",
       " 'Miscellaneous Category - Miscellaneous Bills',\n",
       " 'Electronics Category - Electronic Gadgets Bill/Receipt',\n",
       " 'Miscellaneous Category - Miscellaneous Bills',\n",
       " 'Food Category - Restaurant Bill/Receipt',\n",
       " 'Food Category - Restaurant Bill/Receipt',\n",
       " 'Miscellaneous Category - Miscellaneous Bills',\n",
       " 'Travel Category - Flight Ticket',\n",
       " 'Food Category - Restaurant Bill/Receipt',\n",
       " 'Travel Category - Train Ticket',\n",
       " 'Food Category - Restaurant Bill/Receipt',\n",
       " 'Food Category - Restaurant Bill/Receipt',\n",
       " 'Electronics Category - Electronic Gadgets Bill/Receipt',\n",
       " 'Food Category - Restaurant Bill/Receipt',\n",
       " 'Travel Category - Train Ticket',\n",
       " 'Miscellaneous Category - Miscellaneous Bills',\n",
       " 'Miscellaneous Category - Miscellaneous Bills',\n",
       " 'Food Category - Restaurant Bill/Receipt',\n",
       " 'Room Stay Category - Stay Bill/Receipt',\n",
       " 'Food Category - Restaurant Bill/Receipt',\n",
       " 'Miscellaneous Category - Miscellaneous Bills',\n",
       " 'Miscellaneous Category - Miscellaneous Bills',\n",
       " 'Miscellaneous Category - Miscellaneous Bills',\n",
       " 'Travel Category - Flight Ticket',\n",
       " 'Travel Category - Flight Ticket',\n",
       " 'Travel Category - Flight Ticket',\n",
       " 'Miscellaneous Category - Miscellaneous Bills',\n",
       " 'Travel Category - Flight Ticket',\n",
       " 'Food Category - Restaurant Bill/Receipt',\n",
       " 'Miscellaneous Category - Miscellaneous Bills',\n",
       " 'Electronics Category - Electronic Gadgets Bill/Receipt',\n",
       " 'Room Stay Category - Stay Bill/Receipt',\n",
       " 'Miscellaneous Category - Miscellaneous Bills',\n",
       " 'Miscellaneous Category - Miscellaneous Bills',\n",
       " 'Food Category - Restaurant Bill/Receipt',\n",
       " 'Miscellaneous Category - Miscellaneous Bills',\n",
       " 'Miscellaneous Category - Miscellaneous Bills',\n",
       " 'Miscellaneous Category - Miscellaneous Bills',\n",
       " 'Food Category - Restaurant Bill/Receipt',\n",
       " 'Miscellaneous Category - Miscellaneous Bills',\n",
       " 'Miscellaneous Category - Miscellaneous Bills',\n",
       " 'Miscellaneous Category - Miscellaneous Bills',\n",
       " 'Food Category - Restaurant Bill/Receipt',\n",
       " 'Food Category - Restaurant Bill/Receipt',\n",
       " 'Travel Category - Bus Ticket',\n",
       " 'Miscellaneous Category - Miscellaneous Bills',\n",
       " 'Travel Category - Flight Ticket',\n",
       " 'Food Category - Restaurant Bill/Receipt',\n",
       " 'Food Category - Restaurant Bill/Receipt',\n",
       " 'Food Category - Restaurant Bill/Receipt',\n",
       " 'Miscellaneous Category - Miscellaneous Bills',\n",
       " 'Room Stay Category - Stay Bill/Receipt',\n",
       " 'Miscellaneous Category - Miscellaneous Bills',\n",
       " 'Food Category - Restaurant Bill/Receipt',\n",
       " 'Food Category - Restaurant Bill/Receipt',\n",
       " 'Miscellaneous Category - Miscellaneous Bills',\n",
       " 'Travel Category - Train Ticket',\n",
       " 'Fuel Category - Fuel Bill/Receipt',\n",
       " 'Food Category - Restaurant Bill/Receipt',\n",
       " 'Room Stay Category - Stay Bill/Receipt',\n",
       " 'Miscellaneous Category - Miscellaneous Bills',\n",
       " 'Food Category - Restaurant Bill/Receipt',\n",
       " 'Food Category - Restaurant Bill/Receipt',\n",
       " 'Food Category - Restaurant Bill/Receipt',\n",
       " 'Fuel Category - Fuel Bill/Receipt',\n",
       " 'Travel Category - Cab Bill/Receipt',\n",
       " 'Food Category - Restaurant Bill/Receipt',\n",
       " 'Travel Category - Train Ticket',\n",
       " 'Miscellaneous Category - Miscellaneous Bills',\n",
       " 'Room Stay Category - Stay Bill/Receipt',\n",
       " 'Food Category - Restaurant Bill/Receipt',\n",
       " 'Food Category - Restaurant Bill/Receipt',\n",
       " 'Food Category - Restaurant Bill/Receipt',\n",
       " 'Food Category - Restaurant Bill/Receipt',\n",
       " 'Miscellaneous Category - Miscellaneous Bills',\n",
       " 'Miscellaneous Category - Miscellaneous Bills',\n",
       " 'Room Stay Category - Stay Bill/Receipt',\n",
       " 'Room Stay Category - Stay Bill/Receipt',\n",
       " 'Miscellaneous Category - Miscellaneous Bills',\n",
       " 'Food Category - Restaurant Bill/Receipt',\n",
       " 'Travel Category - Train Ticket',\n",
       " 'Miscellaneous Category - Miscellaneous Bills',\n",
       " 'Miscellaneous Category - Miscellaneous Bills',\n",
       " 'Food Category - Restaurant Bill/Receipt',\n",
       " 'Miscellaneous Category - Miscellaneous Bills',\n",
       " 'Miscellaneous Category - Miscellaneous Bills',\n",
       " 'Food Category - Restaurant Bill/Receipt',\n",
       " 'Food Category - Restaurant Bill/Receipt',\n",
       " 'Miscellaneous Category - Miscellaneous Bills',\n",
       " 'Fuel Category - Fuel Bill/Receipt',\n",
       " 'Electronics Category - Electronic Gadgets Bill/Receipt',\n",
       " 'Miscellaneous Category - Miscellaneous Bills',\n",
       " 'Electronics Category - Electronic Gadgets Bill/Receipt',\n",
       " 'Food Category - Restaurant Bill/Receipt',\n",
       " 'Miscellaneous Category - Miscellaneous Bills',\n",
       " 'Food Category - Restaurant Bill/Receipt',\n",
       " 'Miscellaneous Category - Miscellaneous Bills',\n",
       " 'Miscellaneous Category - Miscellaneous Bills',\n",
       " 'Miscellaneous Category - Miscellaneous Bills',\n",
       " 'Food Category - Restaurant Bill/Receipt',\n",
       " 'Travel Category - Cab Bill/Receipt',\n",
       " 'Travel Category - Flight Ticket',\n",
       " 'Room Stay Category - Stay Bill/Receipt',\n",
       " 'Miscellaneous Category - Miscellaneous Bills',\n",
       " 'Food Category - Restaurant Bill/Receipt',\n",
       " 'Food Category - Restaurant Bill/Receipt',\n",
       " 'Miscellaneous Category - Miscellaneous Bills',\n",
       " 'Miscellaneous Category - Miscellaneous Bills',\n",
       " 'Miscellaneous Category - Miscellaneous Bills',\n",
       " 'Travel Category - Train Ticket',\n",
       " 'Miscellaneous Category - Miscellaneous Bills',\n",
       " 'Food Category - Restaurant Bill/Receipt',\n",
       " 'Miscellaneous Category - Miscellaneous Bills',\n",
       " 'Travel Category - Train Ticket',\n",
       " 'Miscellaneous Category - Miscellaneous Bills',\n",
       " 'Miscellaneous Category - Miscellaneous Bills',\n",
       " 'Electronics Category - Electronic Gadgets Bill/Receipt',\n",
       " 'Travel Category - Train Ticket',\n",
       " 'Miscellaneous Category - Miscellaneous Bills',\n",
       " 'Food Category - Restaurant Bill/Receipt',\n",
       " 'Travel Category - Train Ticket',\n",
       " 'Food Category - Restaurant Bill/Receipt',\n",
       " 'Food Category - Restaurant Bill/Receipt',\n",
       " 'Room Stay Category - Stay Bill/Receipt',\n",
       " 'Travel Category - Train Ticket',\n",
       " 'Miscellaneous Category - Miscellaneous Bills',\n",
       " 'Miscellaneous Category - Miscellaneous Bills',\n",
       " 'Miscellaneous Category - Miscellaneous Bills',\n",
       " 'Miscellaneous Category - Miscellaneous Bills',\n",
       " 'Food Category - Restaurant Bill/Receipt',\n",
       " 'Food Category - Restaurant Bill/Receipt',\n",
       " 'Food Category - Restaurant Bill/Receipt',\n",
       " 'Miscellaneous Category - Miscellaneous Bills',\n",
       " 'Miscellaneous Category - Miscellaneous Bills',\n",
       " 'Food Category - Restaurant Bill/Receipt',\n",
       " 'Miscellaneous Category - Miscellaneous Bills',\n",
       " 'Room Stay Category - Stay Bill/Receipt',\n",
       " 'Miscellaneous Category - Miscellaneous Bills',\n",
       " 'Food Category - Restaurant Bill/Receipt',\n",
       " 'Miscellaneous Category - Miscellaneous Bills',\n",
       " 'Travel Category - Bus Ticket',\n",
       " 'Electronics Category - Electronic Gadgets Bill/Receipt',\n",
       " 'Food Category - Restaurant Bill/Receipt',\n",
       " 'Food Category - Restaurant Bill/Receipt',\n",
       " 'Travel Category - Flight Ticket',\n",
       " 'Food Category - Restaurant Bill/Receipt',\n",
       " 'Miscellaneous Category - Miscellaneous Bills',\n",
       " 'Miscellaneous Category - Miscellaneous Bills',\n",
       " 'Miscellaneous Category - Miscellaneous Bills',\n",
       " 'Food Category - Restaurant Bill/Receipt',\n",
       " 'Miscellaneous Category - Miscellaneous Bills',\n",
       " 'Travel Category - Bus Ticket',\n",
       " 'Electronics Category - Electronic Gadgets Bill/Receipt',\n",
       " 'Fuel Category - Fuel Bill/Receipt',\n",
       " 'Miscellaneous Category - Miscellaneous Bills',\n",
       " 'Miscellaneous Category - Miscellaneous Bills',\n",
       " 'Food Category - Restaurant Bill/Receipt',\n",
       " 'Miscellaneous Category - Miscellaneous Bills',\n",
       " 'Miscellaneous Category - Miscellaneous Bills',\n",
       " 'Miscellaneous Category - Miscellaneous Bills',\n",
       " 'Miscellaneous Category - Miscellaneous Bills',\n",
       " 'Food Category - Restaurant Bill/Receipt',\n",
       " 'Food Category - Restaurant Bill/Receipt',\n",
       " 'Miscellaneous Category - Miscellaneous Bills',\n",
       " 'Miscellaneous Category - Miscellaneous Bills',\n",
       " 'Travel Category - Train Ticket',\n",
       " 'Travel Category - Cab Bill/Receipt',\n",
       " 'Food Category - Restaurant Bill/Receipt',\n",
       " 'Miscellaneous Category - Miscellaneous Bills',\n",
       " 'Fuel Category - Fuel Bill/Receipt',\n",
       " 'Miscellaneous Category - Miscellaneous Bills',\n",
       " 'Room Stay Category - Stay Bill/Receipt',\n",
       " 'Miscellaneous Category - Miscellaneous Bills',\n",
       " 'Electronics Category - Electronic Gadgets Bill/Receipt',\n",
       " 'Miscellaneous Category - Miscellaneous Bills',\n",
       " 'Food Category - Restaurant Bill/Receipt',\n",
       " 'Miscellaneous Category - Miscellaneous Bills',\n",
       " 'Miscellaneous Category - Miscellaneous Bills',\n",
       " 'Travel Category - Flight Ticket',\n",
       " 'Miscellaneous Category - Miscellaneous Bills',\n",
       " 'Food Category - Restaurant Bill/Receipt',\n",
       " 'Food Category - Restaurant Bill/Receipt',\n",
       " 'Food Category - Restaurant Bill/Receipt',\n",
       " 'Food Category - Restaurant Bill/Receipt',\n",
       " 'Miscellaneous Category - Miscellaneous Bills',\n",
       " 'Travel Category - Train Ticket',\n",
       " 'Food Category - Restaurant Bill/Receipt',\n",
       " 'Food Category - Restaurant Bill/Receipt',\n",
       " 'Miscellaneous Category - Miscellaneous Bills',\n",
       " 'Food Category - Restaurant Bill/Receipt',\n",
       " 'Food Category - Restaurant Bill/Receipt',\n",
       " 'Food Category - Restaurant Bill/Receipt',\n",
       " 'Miscellaneous Category - Miscellaneous Bills',\n",
       " 'Food Category - Restaurant Bill/Receipt',\n",
       " 'Miscellaneous Category - Miscellaneous Bills',\n",
       " 'Travel Category - Train Ticket',\n",
       " 'Miscellaneous Category - Miscellaneous Bills',\n",
       " 'Food Category - Restaurant Bill/Receipt',\n",
       " 'Food Category - Restaurant Bill/Receipt',\n",
       " 'Food Category - Restaurant Bill/Receipt',\n",
       " 'Miscellaneous Category - Miscellaneous Bills',\n",
       " 'Miscellaneous Category - Miscellaneous Bills',\n",
       " 'Electronics Category - Electronic Gadgets Bill/Receipt',\n",
       " 'Travel Category - Train Ticket',\n",
       " 'Room Stay Category - Stay Bill/Receipt',\n",
       " 'Food Category - Restaurant Bill/Receipt',\n",
       " 'Miscellaneous Category - Miscellaneous Bills',\n",
       " 'Travel Category - Train Ticket',\n",
       " 'Food Category - Restaurant Bill/Receipt',\n",
       " 'Food Category - Restaurant Bill/Receipt',\n",
       " 'Food Category - Restaurant Bill/Receipt',\n",
       " 'Miscellaneous Category - Miscellaneous Bills',\n",
       " 'Travel Category - Bus Ticket',\n",
       " 'Miscellaneous Category - Miscellaneous Bills',\n",
       " 'Miscellaneous Category - Miscellaneous Bills',\n",
       " 'Miscellaneous Category - Miscellaneous Bills',\n",
       " 'Travel Category - Bus Ticket',\n",
       " 'Food Category - Restaurant Bill/Receipt',\n",
       " 'Food Category - Restaurant Bill/Receipt',\n",
       " 'Electronics Category - Electronic Gadgets Bill/Receipt',\n",
       " 'Miscellaneous Category - Miscellaneous Bills',\n",
       " 'Miscellaneous Category - Miscellaneous Bills',\n",
       " 'Miscellaneous Category - Miscellaneous Bills',\n",
       " 'Electronics Category - Electronic Gadgets Bill/Receipt',\n",
       " 'Miscellaneous Category - Miscellaneous Bills',\n",
       " 'Food Category - Restaurant Bill/Receipt',\n",
       " 'Food Category - Restaurant Bill/Receipt',\n",
       " 'Miscellaneous Category - Miscellaneous Bills',\n",
       " 'Travel Category - Train Ticket',\n",
       " 'Miscellaneous Category - Miscellaneous Bills',\n",
       " 'Miscellaneous Category - Miscellaneous Bills',\n",
       " 'Miscellaneous Category - Miscellaneous Bills',\n",
       " 'Miscellaneous Category - Miscellaneous Bills',\n",
       " 'Miscellaneous Category - Miscellaneous Bills',\n",
       " 'Miscellaneous Category - Miscellaneous Bills',\n",
       " 'Travel Category - Flight Ticket',\n",
       " 'Miscellaneous Category - Miscellaneous Bills',\n",
       " 'Food Category - Restaurant Bill/Receipt',\n",
       " 'Food Category - Restaurant Bill/Receipt',\n",
       " 'Electronics Category - Electronic Gadgets Bill/Receipt',\n",
       " 'Travel Category - Flight Ticket',\n",
       " 'Food Category - Restaurant Bill/Receipt',\n",
       " 'Travel Category - Bus Ticket',\n",
       " 'Food Category - Restaurant Bill/Receipt',\n",
       " 'Food Category - Restaurant Bill/Receipt',\n",
       " 'Fuel Category - Fuel Bill/Receipt',\n",
       " 'Miscellaneous Category - Miscellaneous Bills',\n",
       " 'Miscellaneous Category - Miscellaneous Bills',\n",
       " 'Travel Category - Bus Ticket',\n",
       " 'Travel Category - Cab Bill/Receipt',\n",
       " 'Miscellaneous Category - Miscellaneous Bills',\n",
       " 'Travel Category - Train Ticket',\n",
       " 'Food Category - Restaurant Bill/Receipt',\n",
       " 'Miscellaneous Category - Miscellaneous Bills',\n",
       " 'Electronics Category - Electronic Gadgets Bill/Receipt',\n",
       " 'Miscellaneous Category - Miscellaneous Bills',\n",
       " 'Miscellaneous Category - Miscellaneous Bills',\n",
       " 'Miscellaneous Category - Miscellaneous Bills',\n",
       " 'Miscellaneous Category - Miscellaneous Bills',\n",
       " 'Miscellaneous Category - Miscellaneous Bills',\n",
       " 'Travel Category - Train Ticket',\n",
       " 'Miscellaneous Category - Miscellaneous Bills',\n",
       " 'Food Category - Restaurant Bill/Receipt',\n",
       " 'Travel Category - Flight Ticket',\n",
       " 'Food Category - Restaurant Bill/Receipt',\n",
       " 'Food Category - Restaurant Bill/Receipt',\n",
       " 'Miscellaneous Category - Miscellaneous Bills',\n",
       " 'Room Stay Category - Stay Bill/Receipt',\n",
       " 'Miscellaneous Category - Miscellaneous Bills',\n",
       " 'Room Stay Category - Stay Bill/Receipt',\n",
       " 'Miscellaneous Category - Miscellaneous Bills',\n",
       " 'Miscellaneous Category - Miscellaneous Bills',\n",
       " 'Food Category - Restaurant Bill/Receipt',\n",
       " 'Miscellaneous Category - Miscellaneous Bills',\n",
       " 'Fuel Category - Fuel Bill/Receipt',\n",
       " 'Miscellaneous Category - Miscellaneous Bills',\n",
       " 'Miscellaneous Category - Miscellaneous Bills',\n",
       " 'Fuel Category - Fuel Bill/Receipt',\n",
       " 'Electronics Category - Electronic Gadgets Bill/Receipt',\n",
       " 'Travel Category - Train Ticket',\n",
       " 'Miscellaneous Category - Miscellaneous Bills',\n",
       " 'Food Category - Restaurant Bill/Receipt',\n",
       " 'Travel Category - Flight Ticket',\n",
       " 'Miscellaneous Category - Miscellaneous Bills',\n",
       " 'Miscellaneous Category - Miscellaneous Bills',\n",
       " 'Miscellaneous Category - Miscellaneous Bills',\n",
       " 'Miscellaneous Category - Miscellaneous Bills',\n",
       " 'Miscellaneous Category - Miscellaneous Bills',\n",
       " 'Miscellaneous Category - Miscellaneous Bills',\n",
       " 'Electronics Category - Electronic Gadgets Bill/Receipt',\n",
       " 'Travel Category - Flight Ticket',\n",
       " 'Fuel Category - Fuel Bill/Receipt',\n",
       " 'Food Category - Restaurant Bill/Receipt',\n",
       " 'Food Category - Restaurant Bill/Receipt',\n",
       " 'Food Category - Restaurant Bill/Receipt',\n",
       " 'Miscellaneous Category - Miscellaneous Bills',\n",
       " 'Electronics Category - Electronic Gadgets Bill/Receipt',\n",
       " 'Miscellaneous Category - Miscellaneous Bills',\n",
       " 'Miscellaneous Category - Miscellaneous Bills',\n",
       " 'Food Category - Restaurant Bill/Receipt',\n",
       " 'Travel Category - Cab Bill/Receipt',\n",
       " 'Miscellaneous Category - Miscellaneous Bills',\n",
       " 'Food Category - Restaurant Bill/Receipt',\n",
       " 'Electronics Category - Electronic Gadgets Bill/Receipt',\n",
       " 'Food Category - Restaurant Bill/Receipt',\n",
       " 'Food Category - Restaurant Bill/Receipt',\n",
       " 'Miscellaneous Category - Miscellaneous Bills',\n",
       " 'Food Category - Restaurant Bill/Receipt',\n",
       " 'Food Category - Restaurant Bill/Receipt',\n",
       " 'Electronics Category - Electronic Gadgets Bill/Receipt',\n",
       " 'Electronics Category - Electronic Gadgets Bill/Receipt',\n",
       " 'Food Category - Restaurant Bill/Receipt',\n",
       " 'Food Category - Restaurant Bill/Receipt',\n",
       " 'Food Category - Restaurant Bill/Receipt',\n",
       " 'Miscellaneous Category - Miscellaneous Bills',\n",
       " 'Miscellaneous Category - Miscellaneous Bills',\n",
       " 'Food Category - Restaurant Bill/Receipt',\n",
       " 'Travel Category - Train Ticket',\n",
       " 'Food Category - Restaurant Bill/Receipt',\n",
       " 'Food Category - Restaurant Bill/Receipt',\n",
       " 'Food Category - Restaurant Bill/Receipt',\n",
       " 'Miscellaneous Category - Miscellaneous Bills',\n",
       " 'Food Category - Restaurant Bill/Receipt',\n",
       " 'Food Category - Restaurant Bill/Receipt',\n",
       " 'Food Category - Restaurant Bill/Receipt',\n",
       " 'Food Category - Restaurant Bill/Receipt',\n",
       " 'Miscellaneous Category - Miscellaneous Bills',\n",
       " 'Food Category - Restaurant Bill/Receipt',\n",
       " 'Miscellaneous Category - Miscellaneous Bills',\n",
       " 'Miscellaneous Category - Miscellaneous Bills',\n",
       " 'Miscellaneous Category - Miscellaneous Bills',\n",
       " 'Miscellaneous Category - Miscellaneous Bills',\n",
       " 'Travel Category - Flight Ticket',\n",
       " 'Miscellaneous Category - Miscellaneous Bills',\n",
       " 'Travel Category - Flight Ticket',\n",
       " 'Room Stay Category - Stay Bill/Receipt',\n",
       " 'Electronics Category - Electronic Gadgets Bill/Receipt',\n",
       " 'Miscellaneous Category - Miscellaneous Bills',\n",
       " 'Travel Category - Flight Ticket',\n",
       " 'Miscellaneous Category - Miscellaneous Bills',\n",
       " 'Travel Category - Flight Ticket',\n",
       " 'Room Stay Category - Stay Bill/Receipt',\n",
       " 'Electronics Category - Electronic Gadgets Bill/Receipt',\n",
       " 'Travel Category - Train Ticket',\n",
       " 'Travel Category - Bus Ticket',\n",
       " 'Miscellaneous Category - Miscellaneous Bills',\n",
       " 'Miscellaneous Category - Miscellaneous Bills',\n",
       " 'Miscellaneous Category - Miscellaneous Bills',\n",
       " 'Miscellaneous Category - Miscellaneous Bills',\n",
       " 'Miscellaneous Category - Miscellaneous Bills',\n",
       " 'Miscellaneous Category - Miscellaneous Bills',\n",
       " 'Travel Category - Train Ticket',\n",
       " 'Miscellaneous Category - Miscellaneous Bills',\n",
       " 'Miscellaneous Category - Miscellaneous Bills',\n",
       " 'Travel Category - Bus Ticket',\n",
       " 'Food Category - Restaurant Bill/Receipt',\n",
       " 'Food Category - Restaurant Bill/Receipt',\n",
       " 'Food Category - Restaurant Bill/Receipt',\n",
       " 'Travel Category - Cab Bill/Receipt',\n",
       " 'Miscellaneous Category - Miscellaneous Bills',\n",
       " 'Electronics Category - Electronic Gadgets Bill/Receipt',\n",
       " 'Miscellaneous Category - Miscellaneous Bills',\n",
       " 'Electronics Category - Electronic Gadgets Bill/Receipt',\n",
       " 'Food Category - Restaurant Bill/Receipt',\n",
       " 'Electronics Category - Electronic Gadgets Bill/Receipt',\n",
       " 'Miscellaneous Category - Miscellaneous Bills',\n",
       " 'Food Category - Restaurant Bill/Receipt',\n",
       " 'Miscellaneous Category - Miscellaneous Bills',\n",
       " 'Travel Category - Train Ticket',\n",
       " 'Miscellaneous Category - Miscellaneous Bills',\n",
       " 'Food Category - Restaurant Bill/Receipt',\n",
       " 'Miscellaneous Category - Miscellaneous Bills',\n",
       " 'Food Category - Restaurant Bill/Receipt',\n",
       " 'Electronics Category - Electronic Gadgets Bill/Receipt',\n",
       " 'Electronics Category - Electronic Gadgets Bill/Receipt',\n",
       " 'Travel Category - Train Ticket',\n",
       " 'Food Category - Restaurant Bill/Receipt',\n",
       " 'Travel Category - Bus Ticket',\n",
       " 'Food Category - Restaurant Bill/Receipt',\n",
       " 'Food Category - Restaurant Bill/Receipt',\n",
       " 'Miscellaneous Category - Miscellaneous Bills',\n",
       " 'Food Category - Restaurant Bill/Receipt',\n",
       " 'Miscellaneous Category - Miscellaneous Bills',\n",
       " 'Food Category - Restaurant Bill/Receipt',\n",
       " 'Miscellaneous Category - Miscellaneous Bills',\n",
       " 'Miscellaneous Category - Miscellaneous Bills',\n",
       " 'Miscellaneous Category - Miscellaneous Bills',\n",
       " 'Miscellaneous Category - Miscellaneous Bills',\n",
       " 'Travel Category - Bus Ticket',\n",
       " 'Food Category - Restaurant Bill/Receipt',\n",
       " 'Food Category - Restaurant Bill/Receipt',\n",
       " 'Food Category - Restaurant Bill/Receipt',\n",
       " 'Miscellaneous Category - Miscellaneous Bills',\n",
       " 'Electronics Category - Electronic Gadgets Bill/Receipt',\n",
       " 'Food Category - Restaurant Bill/Receipt',\n",
       " 'Miscellaneous Category - Miscellaneous Bills',\n",
       " 'Food Category - Restaurant Bill/Receipt',\n",
       " 'Travel Category - Bus Ticket',\n",
       " 'Electronics Category - Electronic Gadgets Bill/Receipt',\n",
       " 'Miscellaneous Category - Miscellaneous Bills',\n",
       " 'Miscellaneous Category - Miscellaneous Bills',\n",
       " 'Food Category - Restaurant Bill/Receipt',\n",
       " 'Travel Category - Flight Ticket',\n",
       " 'Miscellaneous Category - Miscellaneous Bills',\n",
       " 'Miscellaneous Category - Miscellaneous Bills',\n",
       " 'Electronics Category - Electronic Gadgets Bill/Receipt',\n",
       " 'Miscellaneous Category - Miscellaneous Bills',\n",
       " 'Food Category - Restaurant Bill/Receipt',\n",
       " 'Food Category - Restaurant Bill/Receipt',\n",
       " 'Miscellaneous Category - Miscellaneous Bills',\n",
       " 'Travel Category - Bus Ticket',\n",
       " 'Miscellaneous Category - Miscellaneous Bills',\n",
       " 'Food Category - Restaurant Bill/Receipt',\n",
       " 'Travel Category - Flight Ticket',\n",
       " 'Food Category - Restaurant Bill/Receipt',\n",
       " 'Travel Category - Bus Ticket',\n",
       " 'Travel Category - Bus Ticket',\n",
       " 'Fuel Category - Fuel Bill/Receipt',\n",
       " 'Fuel Category - Fuel Bill/Receipt',\n",
       " 'Miscellaneous Category - Miscellaneous Bills',\n",
       " 'Miscellaneous Category - Miscellaneous Bills',\n",
       " 'Food Category - Restaurant Bill/Receipt',\n",
       " 'Travel Category - Bus Ticket',\n",
       " 'Travel Category - Train Ticket',\n",
       " 'Miscellaneous Category - Miscellaneous Bills',\n",
       " 'Food Category - Restaurant Bill/Receipt',\n",
       " 'Miscellaneous Category - Miscellaneous Bills',\n",
       " 'Travel Category - Flight Ticket',\n",
       " 'Electronics Category - Electronic Gadgets Bill/Receipt',\n",
       " 'Miscellaneous Category - Miscellaneous Bills',\n",
       " 'Fuel Category - Fuel Bill/Receipt',\n",
       " 'Food Category - Restaurant Bill/Receipt',\n",
       " 'Miscellaneous Category - Miscellaneous Bills',\n",
       " 'Travel Category - Flight Ticket',\n",
       " 'Miscellaneous Category - Miscellaneous Bills',\n",
       " 'Food Category - Restaurant Bill/Receipt',\n",
       " 'Miscellaneous Category - Miscellaneous Bills',\n",
       " 'Travel Category - Train Ticket',\n",
       " 'Miscellaneous Category - Miscellaneous Bills',\n",
       " 'Room Stay Category - Stay Bill/Receipt',\n",
       " 'Miscellaneous Category - Miscellaneous Bills',\n",
       " 'Travel Category - Bus Ticket',\n",
       " 'Food Category - Restaurant Bill/Receipt',\n",
       " 'Travel Category - Train Ticket',\n",
       " 'Food Category - Restaurant Bill/Receipt',\n",
       " 'Miscellaneous Category - Miscellaneous Bills',\n",
       " 'Travel Category - Flight Ticket',\n",
       " 'Miscellaneous Category - Miscellaneous Bills',\n",
       " 'Electronics Category - Electronic Gadgets Bill/Receipt',\n",
       " 'Food Category - Restaurant Bill/Receipt',\n",
       " 'Travel Category - Bus Ticket',\n",
       " 'Miscellaneous Category - Miscellaneous Bills',\n",
       " 'Food Category - Restaurant Bill/Receipt',\n",
       " 'Food Category - Restaurant Bill/Receipt',\n",
       " 'Food Category - Restaurant Bill/Receipt',\n",
       " 'Travel Category - Cab Bill/Receipt',\n",
       " 'Food Category - Restaurant Bill/Receipt',\n",
       " 'Miscellaneous Category - Miscellaneous Bills',\n",
       " 'Miscellaneous Category - Miscellaneous Bills',\n",
       " 'Food Category - Restaurant Bill/Receipt',\n",
       " 'Food Category - Restaurant Bill/Receipt',\n",
       " 'Food Category - Restaurant Bill/Receipt',\n",
       " 'Room Stay Category - Stay Bill/Receipt',\n",
       " 'Electronics Category - Electronic Gadgets Bill/Receipt',\n",
       " 'Miscellaneous Category - Miscellaneous Bills',\n",
       " 'Food Category - Restaurant Bill/Receipt',\n",
       " 'Miscellaneous Category - Miscellaneous Bills',\n",
       " 'Fuel Category - Fuel Bill/Receipt',\n",
       " 'Travel Category - Flight Ticket',\n",
       " 'Food Category - Restaurant Bill/Receipt',\n",
       " 'Miscellaneous Category - Miscellaneous Bills',\n",
       " 'Miscellaneous Category - Miscellaneous Bills',\n",
       " 'Food Category - Restaurant Bill/Receipt',\n",
       " 'Food Category - Restaurant Bill/Receipt',\n",
       " 'Miscellaneous Category - Miscellaneous Bills',\n",
       " 'Fuel Category - Fuel Bill/Receipt',\n",
       " 'Miscellaneous Category - Miscellaneous Bills',\n",
       " 'Food Category - Restaurant Bill/Receipt',\n",
       " 'Food Category - Restaurant Bill/Receipt',\n",
       " 'Travel Category - Bus Ticket',\n",
       " 'Room Stay Category - Stay Bill/Receipt',\n",
       " 'Travel Category - Bus Ticket',\n",
       " 'Food Category - Restaurant Bill/Receipt',\n",
       " 'Miscellaneous Category - Miscellaneous Bills',\n",
       " 'Travel Category - Train Ticket',\n",
       " 'Travel Category - Bus Ticket',\n",
       " 'Travel Category - Train Ticket',\n",
       " 'Travel Category - Train Ticket',\n",
       " 'Food Category - Restaurant Bill/Receipt',\n",
       " 'Miscellaneous Category - Miscellaneous Bills',\n",
       " 'Travel Category - Flight Ticket',\n",
       " 'Miscellaneous Category - Miscellaneous Bills',\n",
       " 'Electronics Category - Electronic Gadgets Bill/Receipt',\n",
       " 'Miscellaneous Category - Miscellaneous Bills',\n",
       " 'Miscellaneous Category - Miscellaneous Bills',\n",
       " 'Miscellaneous Category - Miscellaneous Bills',\n",
       " 'Food Category - Restaurant Bill/Receipt',\n",
       " 'Miscellaneous Category - Miscellaneous Bills',\n",
       " 'Room Stay Category - Stay Bill/Receipt',\n",
       " 'Miscellaneous Category - Miscellaneous Bills',\n",
       " 'Travel Category - Bus Ticket',\n",
       " 'Miscellaneous Category - Miscellaneous Bills',\n",
       " 'Fuel Category - Fuel Bill/Receipt',\n",
       " 'Miscellaneous Category - Miscellaneous Bills',\n",
       " 'Miscellaneous Category - Miscellaneous Bills',\n",
       " 'Food Category - Restaurant Bill/Receipt',\n",
       " 'Food Category - Restaurant Bill/Receipt',\n",
       " 'Miscellaneous Category - Miscellaneous Bills',\n",
       " 'Miscellaneous Category - Miscellaneous Bills',\n",
       " 'Food Category - Restaurant Bill/Receipt',\n",
       " 'Travel Category - Flight Ticket',\n",
       " 'Food Category - Restaurant Bill/Receipt',\n",
       " 'Miscellaneous Category - Miscellaneous Bills',\n",
       " 'Miscellaneous Category - Miscellaneous Bills',\n",
       " 'Miscellaneous Category - Miscellaneous Bills',\n",
       " 'Travel Category - Train Ticket',\n",
       " 'Miscellaneous Category - Miscellaneous Bills',\n",
       " 'Miscellaneous Category - Miscellaneous Bills',\n",
       " 'Travel Category - Flight Ticket',\n",
       " 'Food Category - Restaurant Bill/Receipt',\n",
       " 'Food Category - Restaurant Bill/Receipt',\n",
       " 'Miscellaneous Category - Miscellaneous Bills',\n",
       " 'Miscellaneous Category - Miscellaneous Bills',\n",
       " 'Electronics Category - Electronic Gadgets Bill/Receipt',\n",
       " 'Food Category - Restaurant Bill/Receipt',\n",
       " 'Food Category - Restaurant Bill/Receipt',\n",
       " 'Miscellaneous Category - Miscellaneous Bills',\n",
       " 'Miscellaneous Category - Miscellaneous Bills',\n",
       " 'Room Stay Category - Stay Bill/Receipt',\n",
       " 'Miscellaneous Category - Miscellaneous Bills',\n",
       " 'Food Category - Restaurant Bill/Receipt',\n",
       " 'Miscellaneous Category - Miscellaneous Bills',\n",
       " 'Miscellaneous Category - Miscellaneous Bills',\n",
       " 'Food Category - Restaurant Bill/Receipt',\n",
       " 'Food Category - Restaurant Bill/Receipt',\n",
       " 'Food Category - Restaurant Bill/Receipt',\n",
       " 'Travel Category - Flight Ticket',\n",
       " 'Miscellaneous Category - Miscellaneous Bills',\n",
       " 'Electronics Category - Electronic Gadgets Bill/Receipt',\n",
       " 'Electronics Category - Electronic Gadgets Bill/Receipt',\n",
       " 'Travel Category - Train Ticket',\n",
       " 'Miscellaneous Category - Miscellaneous Bills',\n",
       " 'Travel Category - Flight Ticket',\n",
       " 'Miscellaneous Category - Miscellaneous Bills',\n",
       " 'Electronics Category - Electronic Gadgets Bill/Receipt',\n",
       " 'Miscellaneous Category - Miscellaneous Bills',\n",
       " 'Food Category - Restaurant Bill/Receipt',\n",
       " 'Travel Category - Flight Ticket',\n",
       " 'Miscellaneous Category - Miscellaneous Bills',\n",
       " 'Miscellaneous Category - Miscellaneous Bills',\n",
       " 'Food Category - Restaurant Bill/Receipt',\n",
       " 'Food Category - Restaurant Bill/Receipt',\n",
       " 'Food Category - Restaurant Bill/Receipt',\n",
       " 'Food Category - Restaurant Bill/Receipt',\n",
       " 'Miscellaneous Category - Miscellaneous Bills',\n",
       " 'Travel Category - Train Ticket',\n",
       " 'Travel Category - Train Ticket',\n",
       " 'Miscellaneous Category - Miscellaneous Bills',\n",
       " 'Food Category - Restaurant Bill/Receipt',\n",
       " 'Travel Category - Flight Ticket',\n",
       " 'Travel Category - Train Ticket',\n",
       " 'Miscellaneous Category - Miscellaneous Bills',\n",
       " 'Miscellaneous Category - Miscellaneous Bills',\n",
       " 'Miscellaneous Category - Miscellaneous Bills',\n",
       " 'Miscellaneous Category - Miscellaneous Bills',\n",
       " 'Fuel Category - Fuel Bill/Receipt',\n",
       " 'Miscellaneous Category - Miscellaneous Bills',\n",
       " 'Travel Category - Bus Ticket',\n",
       " 'Food Category - Restaurant Bill/Receipt',\n",
       " 'Travel Category - Cab Bill/Receipt',\n",
       " 'Miscellaneous Category - Miscellaneous Bills',\n",
       " 'Miscellaneous Category - Miscellaneous Bills',\n",
       " 'Miscellaneous Category - Miscellaneous Bills',\n",
       " 'Food Category - Restaurant Bill/Receipt',\n",
       " 'Miscellaneous Category - Miscellaneous Bills',\n",
       " 'Travel Category - Flight Ticket',\n",
       " 'Travel Category - Cab Bill/Receipt',\n",
       " 'Miscellaneous Category - Miscellaneous Bills',\n",
       " 'Miscellaneous Category - Miscellaneous Bills',\n",
       " 'Miscellaneous Category - Miscellaneous Bills',\n",
       " 'Food Category - Restaurant Bill/Receipt',\n",
       " 'Miscellaneous Category - Miscellaneous Bills',\n",
       " 'Food Category - Restaurant Bill/Receipt',\n",
       " 'Food Category - Restaurant Bill/Receipt',\n",
       " 'Travel Category - Train Ticket',\n",
       " 'Miscellaneous Category - Miscellaneous Bills',\n",
       " 'Miscellaneous Category - Miscellaneous Bills',\n",
       " 'Food Category - Restaurant Bill/Receipt',\n",
       " 'Travel Category - Flight Ticket',\n",
       " 'Food Category - Restaurant Bill/Receipt',\n",
       " 'Miscellaneous Category - Miscellaneous Bills',\n",
       " 'Miscellaneous Category - Miscellaneous Bills',\n",
       " 'Travel Category - Train Ticket',\n",
       " 'Food Category - Restaurant Bill/Receipt',\n",
       " 'Food Category - Restaurant Bill/Receipt',\n",
       " 'Food Category - Restaurant Bill/Receipt',\n",
       " 'Travel Category - Train Ticket',\n",
       " 'Food Category - Restaurant Bill/Receipt',\n",
       " 'Miscellaneous Category - Miscellaneous Bills',\n",
       " 'Food Category - Restaurant Bill/Receipt',\n",
       " 'Miscellaneous Category - Miscellaneous Bills',\n",
       " 'Travel Category - Train Ticket',\n",
       " 'Travel Category - Flight Ticket',\n",
       " 'Travel Category - Train Ticket',\n",
       " 'Travel Category - Flight Ticket',\n",
       " 'Electronics Category - Electronic Gadgets Bill/Receipt',\n",
       " 'Travel Category - Cab Bill/Receipt',\n",
       " 'Room Stay Category - Stay Bill/Receipt',\n",
       " 'Travel Category - Bus Ticket',\n",
       " 'Travel Category - Bus Ticket',\n",
       " 'Food Category - Restaurant Bill/Receipt',\n",
       " 'Miscellaneous Category - Miscellaneous Bills',\n",
       " 'Food Category - Restaurant Bill/Receipt',\n",
       " 'Fuel Category - Fuel Bill/Receipt',\n",
       " 'Food Category - Restaurant Bill/Receipt',\n",
       " 'Miscellaneous Category - Miscellaneous Bills',\n",
       " 'Fuel Category - Fuel Bill/Receipt',\n",
       " 'Food Category - Restaurant Bill/Receipt',\n",
       " 'Miscellaneous Category - Miscellaneous Bills',\n",
       " 'Miscellaneous Category - Miscellaneous Bills',\n",
       " 'Room Stay Category - Stay Bill/Receipt',\n",
       " 'Travel Category - Bus Ticket',\n",
       " 'Fuel Category - Fuel Bill/Receipt',\n",
       " 'Room Stay Category - Stay Bill/Receipt',\n",
       " 'Miscellaneous Category - Miscellaneous Bills',\n",
       " 'Food Category - Restaurant Bill/Receipt',\n",
       " 'Miscellaneous Category - Miscellaneous Bills',\n",
       " 'Electronics Category - Electronic Gadgets Bill/Receipt',\n",
       " 'Food Category - Restaurant Bill/Receipt',\n",
       " 'Food Category - Restaurant Bill/Receipt',\n",
       " 'Travel Category - Bus Ticket',\n",
       " 'Food Category - Restaurant Bill/Receipt',\n",
       " 'Travel Category - Train Ticket',\n",
       " 'Travel Category - Train Ticket',\n",
       " 'Electronics Category - Electronic Gadgets Bill/Receipt',\n",
       " 'Travel Category - Flight Ticket',\n",
       " 'Travel Category - Flight Ticket',\n",
       " 'Food Category - Restaurant Bill/Receipt',\n",
       " 'Food Category - Restaurant Bill/Receipt',\n",
       " 'Electronics Category - Electronic Gadgets Bill/Receipt',\n",
       " 'Miscellaneous Category - Miscellaneous Bills',\n",
       " 'Fuel Category - Fuel Bill/Receipt',\n",
       " 'Room Stay Category - Stay Bill/Receipt',\n",
       " 'Food Category - Restaurant Bill/Receipt',\n",
       " 'Food Category - Restaurant Bill/Receipt',\n",
       " 'Food Category - Restaurant Bill/Receipt',\n",
       " 'Food Category - Restaurant Bill/Receipt',\n",
       " 'Food Category - Restaurant Bill/Receipt',\n",
       " 'Miscellaneous Category - Miscellaneous Bills',\n",
       " 'Miscellaneous Category - Miscellaneous Bills',\n",
       " 'Room Stay Category - Stay Bill/Receipt',\n",
       " 'Miscellaneous Category - Miscellaneous Bills',\n",
       " 'Miscellaneous Category - Miscellaneous Bills',\n",
       " 'Miscellaneous Category - Miscellaneous Bills',\n",
       " 'Travel Category - Cab Bill/Receipt',\n",
       " 'Miscellaneous Category - Miscellaneous Bills',\n",
       " 'Food Category - Restaurant Bill/Receipt',\n",
       " 'Travel Category - Train Ticket',\n",
       " 'Food Category - Restaurant Bill/Receipt',\n",
       " 'Food Category - Restaurant Bill/Receipt',\n",
       " 'Travel Category - Train Ticket',\n",
       " 'Miscellaneous Category - Miscellaneous Bills',\n",
       " 'Food Category - Restaurant Bill/Receipt',\n",
       " 'Travel Category - Bus Ticket',\n",
       " 'Miscellaneous Category - Miscellaneous Bills',\n",
       " 'Food Category - Restaurant Bill/Receipt',\n",
       " 'Travel Category - Cab Bill/Receipt',\n",
       " 'Miscellaneous Category - Miscellaneous Bills',\n",
       " 'Fuel Category - Fuel Bill/Receipt',\n",
       " 'Food Category - Restaurant Bill/Receipt',\n",
       " 'Miscellaneous Category - Miscellaneous Bills',\n",
       " 'Food Category - Restaurant Bill/Receipt',\n",
       " 'Travel Category - Flight Ticket',\n",
       " 'Food Category - Restaurant Bill/Receipt',\n",
       " 'Miscellaneous Category - Miscellaneous Bills',\n",
       " 'Food Category - Restaurant Bill/Receipt',\n",
       " 'Travel Category - Train Ticket',\n",
       " 'Food Category - Restaurant Bill/Receipt',\n",
       " 'Food Category - Restaurant Bill/Receipt',\n",
       " 'Miscellaneous Category - Miscellaneous Bills',\n",
       " 'Food Category - Restaurant Bill/Receipt',\n",
       " 'Miscellaneous Category - Miscellaneous Bills',\n",
       " 'Miscellaneous Category - Miscellaneous Bills',\n",
       " 'Miscellaneous Category - Miscellaneous Bills',\n",
       " 'Food Category - Restaurant Bill/Receipt',\n",
       " 'Miscellaneous Category - Miscellaneous Bills',\n",
       " 'Food Category - Restaurant Bill/Receipt',\n",
       " 'Food Category - Restaurant Bill/Receipt',\n",
       " 'Travel Category - Cab Bill/Receipt',\n",
       " 'Travel Category - Bus Ticket',\n",
       " 'Travel Category - Train Ticket',\n",
       " 'Travel Category - Train Ticket',\n",
       " 'Travel Category - Flight Ticket',\n",
       " 'Travel Category - Train Ticket',\n",
       " 'Food Category - Restaurant Bill/Receipt',\n",
       " 'Electronics Category - Electronic Gadgets Bill/Receipt',\n",
       " 'Miscellaneous Category - Miscellaneous Bills',\n",
       " 'Food Category - Restaurant Bill/Receipt',\n",
       " 'Food Category - Restaurant Bill/Receipt',\n",
       " 'Food Category - Restaurant Bill/Receipt',\n",
       " 'Food Category - Restaurant Bill/Receipt',\n",
       " 'Food Category - Restaurant Bill/Receipt',\n",
       " 'Food Category - Restaurant Bill/Receipt',\n",
       " 'Food Category - Restaurant Bill/Receipt',\n",
       " 'Food Category - Restaurant Bill/Receipt',\n",
       " 'Food Category - Restaurant Bill/Receipt',\n",
       " 'Miscellaneous Category - Miscellaneous Bills',\n",
       " 'Miscellaneous Category - Miscellaneous Bills',\n",
       " 'Miscellaneous Category - Miscellaneous Bills',\n",
       " 'Miscellaneous Category - Miscellaneous Bills',\n",
       " 'Miscellaneous Category - Miscellaneous Bills',\n",
       " 'Electronics Category - Electronic Gadgets Bill/Receipt',\n",
       " 'Electronics Category - Electronic Gadgets Bill/Receipt',\n",
       " 'Food Category - Restaurant Bill/Receipt',\n",
       " 'Miscellaneous Category - Miscellaneous Bills',\n",
       " 'Travel Category - Flight Ticket',\n",
       " 'Miscellaneous Category - Miscellaneous Bills',\n",
       " 'Food Category - Restaurant Bill/Receipt',\n",
       " 'Food Category - Restaurant Bill/Receipt',\n",
       " 'Food Category - Restaurant Bill/Receipt',\n",
       " 'Food Category - Restaurant Bill/Receipt',\n",
       " 'Miscellaneous Category - Miscellaneous Bills',\n",
       " 'Travel Category - Train Ticket',\n",
       " 'Travel Category - Flight Ticket',\n",
       " 'Travel Category - Flight Ticket',\n",
       " 'Miscellaneous Category - Miscellaneous Bills',\n",
       " 'Food Category - Restaurant Bill/Receipt',\n",
       " 'Food Category - Restaurant Bill/Receipt',\n",
       " 'Miscellaneous Category - Miscellaneous Bills',\n",
       " 'Miscellaneous Category - Miscellaneous Bills',\n",
       " 'Miscellaneous Category - Miscellaneous Bills',\n",
       " 'Miscellaneous Category - Miscellaneous Bills',\n",
       " 'Miscellaneous Category - Miscellaneous Bills',\n",
       " 'Miscellaneous Category - Miscellaneous Bills',\n",
       " 'Food Category - Restaurant Bill/Receipt',\n",
       " 'Miscellaneous Category - Miscellaneous Bills',\n",
       " 'Food Category - Restaurant Bill/Receipt',\n",
       " 'Food Category - Restaurant Bill/Receipt',\n",
       " 'Travel Category - Bus Ticket',\n",
       " 'Food Category - Restaurant Bill/Receipt',\n",
       " 'Travel Category - Bus Ticket',\n",
       " 'Miscellaneous Category - Miscellaneous Bills',\n",
       " 'Room Stay Category - Stay Bill/Receipt',\n",
       " 'Miscellaneous Category - Miscellaneous Bills',\n",
       " 'Miscellaneous Category - Miscellaneous Bills',\n",
       " 'Travel Category - Bus Ticket',\n",
       " 'Food Category - Restaurant Bill/Receipt',\n",
       " 'Food Category - Restaurant Bill/Receipt',\n",
       " 'Room Stay Category - Stay Bill/Receipt',\n",
       " 'Miscellaneous Category - Miscellaneous Bills',\n",
       " 'Travel Category - Bus Ticket',\n",
       " 'Miscellaneous Category - Miscellaneous Bills',\n",
       " 'Miscellaneous Category - Miscellaneous Bills',\n",
       " 'Food Category - Restaurant Bill/Receipt',\n",
       " 'Miscellaneous Category - Miscellaneous Bills',\n",
       " 'Room Stay Category - Stay Bill/Receipt',\n",
       " 'Food Category - Restaurant Bill/Receipt',\n",
       " 'Miscellaneous Category - Miscellaneous Bills',\n",
       " 'Miscellaneous Category - Miscellaneous Bills',\n",
       " 'Miscellaneous Category - Miscellaneous Bills',\n",
       " 'Food Category - Restaurant Bill/Receipt',\n",
       " 'Electronics Category - Electronic Gadgets Bill/Receipt',\n",
       " 'Food Category - Restaurant Bill/Receipt',\n",
       " 'Miscellaneous Category - Miscellaneous Bills',\n",
       " 'Miscellaneous Category - Miscellaneous Bills',\n",
       " 'Travel Category - Bus Ticket',\n",
       " 'Travel Category - Flight Ticket',\n",
       " 'Food Category - Restaurant Bill/Receipt',\n",
       " 'Food Category - Restaurant Bill/Receipt',\n",
       " 'Miscellaneous Category - Miscellaneous Bills',\n",
       " 'Miscellaneous Category - Miscellaneous Bills',\n",
       " 'Miscellaneous Category - Miscellaneous Bills',\n",
       " 'Miscellaneous Category - Miscellaneous Bills',\n",
       " 'Food Category - Restaurant Bill/Receipt',\n",
       " 'Food Category - Restaurant Bill/Receipt',\n",
       " 'Miscellaneous Category - Miscellaneous Bills',\n",
       " 'Food Category - Restaurant Bill/Receipt',\n",
       " 'Room Stay Category - Stay Bill/Receipt',\n",
       " 'Miscellaneous Category - Miscellaneous Bills',\n",
       " 'Travel Category - Flight Ticket',\n",
       " 'Food Category - Restaurant Bill/Receipt',\n",
       " 'Food Category - Restaurant Bill/Receipt',\n",
       " 'Food Category - Restaurant Bill/Receipt',\n",
       " 'Miscellaneous Category - Miscellaneous Bills',\n",
       " 'Miscellaneous Category - Miscellaneous Bills',\n",
       " 'Miscellaneous Category - Miscellaneous Bills',\n",
       " 'Food Category - Restaurant Bill/Receipt',\n",
       " 'Travel Category - Bus Ticket',\n",
       " 'Food Category - Restaurant Bill/Receipt',\n",
       " 'Food Category - Restaurant Bill/Receipt',\n",
       " 'Room Stay Category - Stay Bill/Receipt',\n",
       " 'Miscellaneous Category - Miscellaneous Bills',\n",
       " 'Travel Category - Flight Ticket',\n",
       " 'Miscellaneous Category - Miscellaneous Bills',\n",
       " 'Miscellaneous Category - Miscellaneous Bills',\n",
       " 'Food Category - Restaurant Bill/Receipt',\n",
       " 'Electronics Category - Electronic Gadgets Bill/Receipt',\n",
       " 'Miscellaneous Category - Miscellaneous Bills',\n",
       " 'Food Category - Restaurant Bill/Receipt',\n",
       " 'Fuel Category - Fuel Bill/Receipt',\n",
       " 'Travel Category - Train Ticket',\n",
       " 'Food Category - Restaurant Bill/Receipt',\n",
       " 'Electronics Category - Electronic Gadgets Bill/Receipt',\n",
       " 'Food Category - Restaurant Bill/Receipt',\n",
       " 'Miscellaneous Category - Miscellaneous Bills',\n",
       " 'Electronics Category - Electronic Gadgets Bill/Receipt',\n",
       " 'Room Stay Category - Stay Bill/Receipt',\n",
       " 'Travel Category - Cab Bill/Receipt',\n",
       " 'Food Category - Restaurant Bill/Receipt',\n",
       " 'Travel Category - Cab Bill/Receipt',\n",
       " 'Miscellaneous Category - Miscellaneous Bills',\n",
       " 'Miscellaneous Category - Miscellaneous Bills',\n",
       " 'Miscellaneous Category - Miscellaneous Bills',\n",
       " 'Miscellaneous Category - Miscellaneous Bills',\n",
       " 'Food Category - Restaurant Bill/Receipt',\n",
       " 'Miscellaneous Category - Miscellaneous Bills',\n",
       " ...]"
      ]
     },
     "execution_count": 14,
     "metadata": {},
     "output_type": "execute_result"
    }
   ],
   "source": [
    "trainLabels"
   ]
  },
  {
   "cell_type": "code",
   "execution_count": 15,
   "metadata": {},
   "outputs": [
    {
     "data": {
      "text/plain": [
       "array([3, 5, 3, ..., 3, 1, 3])"
      ]
     },
     "execution_count": 15,
     "metadata": {},
     "output_type": "execute_result"
    }
   ],
   "source": [
    "trainLabels = labels2Encoding(trainLabels)\n",
    "valLabels = labels2Encoding(valLabels)\n",
    "trainLabels"
   ]
  },
  {
   "cell_type": "code",
   "execution_count": 16,
   "metadata": {},
   "outputs": [],
   "source": [
    "trainInputs = torch.tensor(trainInputs, dtype=torch.uint8).to(device)\n",
    "trainMasks = torch.tensor(trainMasks, dtype=torch.uint8).to(device)\n",
    "trainLabels = torch.tensor(trainLabels, dtype=torch.uint8).to(device)\n",
    "valInputs = torch.tensor(valInputs, dtype=torch.uint8).to(device)\n",
    "valMasks = torch.tensor(valMasks, dtype=torch.uint8).to(device)\n",
    "valLabels = torch.tensor(valLabels, dtype=torch.uint8).to(device)"
   ]
  },
  {
   "cell_type": "code",
   "execution_count": 17,
   "metadata": {},
   "outputs": [
    {
     "name": "stdout",
     "output_type": "stream",
     "text": [
      "tensor(1, device='cuda:0', dtype=torch.uint8) tensor(0, device='cuda:0', dtype=torch.uint8)\n"
     ]
    }
   ],
   "source": [
    "print(trainMasks.max(), trainInputs.min())"
   ]
  },
  {
   "cell_type": "code",
   "execution_count": 18,
   "metadata": {},
   "outputs": [],
   "source": [
    "trainDataset = TensorDataset(trainInputs, trainMasks, trainLabels)\n",
    "trainDataloader = DataLoader(trainDataset, batch_size=batchSize, shuffle=True)"
   ]
  },
  {
   "cell_type": "code",
   "execution_count": 19,
   "metadata": {},
   "outputs": [],
   "source": [
    "valDataset = TensorDataset(valInputs, valMasks, valLabels)\n",
    "valDataloader = DataLoader(valDataset, batch_size=batchSize)"
   ]
  },
  {
   "cell_type": "code",
   "execution_count": 20,
   "metadata": {},
   "outputs": [
    {
     "name": "stderr",
     "output_type": "stream",
     "text": [
      "c:\\Users\\Sid\\AppData\\Local\\Programs\\Python\\Python39\\lib\\site-packages\\transformers\\optimization.py:306: FutureWarning: This implementation of AdamW is deprecated and will be removed in a future version. Use thePyTorch implementation torch.optim.AdamW instead, or set `no_deprecation_warning=True` to disable this warning\n",
      "  warnings.warn(\n"
     ]
    }
   ],
   "source": [
    "optimizer = AdamW(model.parameters(), lr=learningRate)\n",
    "criterion = torch.nn.CrossEntropyLoss()"
   ]
  },
  {
   "cell_type": "code",
   "execution_count": 21,
   "metadata": {},
   "outputs": [],
   "source": [
    "def train(model, optimizer, criterion, trainDataloader):\n",
    "  model.train()\n",
    "  total_loss = 0\n",
    "  correct = 0\n",
    "  for batch_idx, (input_ids, attention_mask, labels) in enumerate(trainDataloader):\n",
    "    optimizer.zero_grad()\n",
    "    input_ids = input_ids.long().to(device)\n",
    "    outputs = model(input_ids=input_ids, attention_mask=attention_mask)\n",
    "    loss = criterion(outputs.logits, labels)\n",
    "    loss.backward()\n",
    "    optimizer.step()\n",
    "    total_loss += loss.item()\n",
    "    predictions = torch.argmax(outputs.logits, dim=1)\n",
    "    correct += (predictions == labels).sum().item()\n",
    "  return total_loss / len(trainDataloader), correct / len(trainDataset)\n"
   ]
  },
  {
   "cell_type": "code",
   "execution_count": 22,
   "metadata": {},
   "outputs": [],
   "source": [
    "def validate(model, criterion, valDataloader):\n",
    "  model.eval()\n",
    "  total_loss = 0\n",
    "  correct = 0\n",
    "  all_preds, all_labels = [], []\n",
    "  with torch.no_grad():\n",
    "    for batch_idx, (input_ids, attention_mask, labels) in enumerate(valDataloader):\n",
    "      input_ids = input_ids.long().to(device)\n",
    "      outputs = model(input_ids=input_ids, attention_mask=attention_mask)\n",
    "      loss = criterion(outputs.logits, labels)\n",
    "      total_loss += loss.item()\n",
    "      predictions = torch.argmax(outputs.logits, dim=1)\n",
    "      correct += (predictions == labels).sum().item()\n",
    "      all_preds.extend(predictions.cpu().numpy())\n",
    "      all_labels.extend(labels.cpu().numpy())\n",
    "  accuracy = accuracy_score(all_labels, all_preds)\n",
    "  precision = precision_score(all_labels, all_preds, average=\"weighted\")\n",
    "  recall = recall_score(all_labels, all_preds, average=\"weighted\")\n",
    "  return total_loss / len(valDataloader), accuracy, precision, recall"
   ]
  },
  {
   "cell_type": "code",
   "execution_count": 23,
   "metadata": {},
   "outputs": [
    {
     "name": "stderr",
     "output_type": "stream",
     "text": [
      "Epoch(s):   0%|\u001b[31m          \u001b[0m| 0/250 [00:00<?, ?it/s]c:\\Users\\Sid\\AppData\\Local\\Programs\\Python\\Python39\\lib\\site-packages\\sklearn\\metrics\\_classification.py:1517: UndefinedMetricWarning: Precision is ill-defined and being set to 0.0 in labels with no predicted samples. Use `zero_division` parameter to control this behavior.\n",
      "  _warn_prf(average, modifier, f\"{metric.capitalize()} is\", len(result))\n",
      "Epoch(s):   0%|\u001b[31m          \u001b[0m| 1/250 [06:43<27:54:42, 403.54s/it]"
     ]
    },
    {
     "name": "stdout",
     "output_type": "stream",
     "text": [
      "{'Epoch': 1, 'Train Loss': 58808.53011300757, 'Train Accuracy': 0.031945788964181994, 'Val Loss': 2.83656252347506, 'Val Accuracy': 0.025145067698259187, 'Val Precision': 0.001095746421425259, 'Val Recall': 0.025145067698259187}\n"
     ]
    },
    {
     "name": "stderr",
     "output_type": "stream",
     "text": [
      "c:\\Users\\Sid\\AppData\\Local\\Programs\\Python\\Python39\\lib\\site-packages\\sklearn\\metrics\\_classification.py:1517: UndefinedMetricWarning: Precision is ill-defined and being set to 0.0 in labels with no predicted samples. Use `zero_division` parameter to control this behavior.\n",
      "  _warn_prf(average, modifier, f\"{metric.capitalize()} is\", len(result))\n",
      "Epoch(s):   1%|\u001b[31m          \u001b[0m| 2/250 [13:26<27:47:43, 403.48s/it]"
     ]
    },
    {
     "name": "stdout",
     "output_type": "stream",
     "text": [
      "{'Epoch': 2, 'Train Loss': 3.85908310109584, 'Train Accuracy': 0.22241045498547918, 'Val Loss': 1.9319407609792856, 'Val Accuracy': 0.5087040618955513, 'Val Precision': 0.3719182499027138, 'Val Recall': 0.5087040618955513}\n"
     ]
    },
    {
     "name": "stderr",
     "output_type": "stream",
     "text": [
      "c:\\Users\\Sid\\AppData\\Local\\Programs\\Python\\Python39\\lib\\site-packages\\sklearn\\metrics\\_classification.py:1517: UndefinedMetricWarning: Precision is ill-defined and being set to 0.0 in labels with no predicted samples. Use `zero_division` parameter to control this behavior.\n",
      "  _warn_prf(average, modifier, f\"{metric.capitalize()} is\", len(result))\n",
      "Epoch(s):   1%|\u001b[31m          \u001b[0m| 3/250 [20:06<27:32:51, 401.50s/it]"
     ]
    },
    {
     "name": "stdout",
     "output_type": "stream",
     "text": [
      "{'Epoch': 3, 'Train Loss': 3.705538464559091, 'Train Accuracy': 0.4351403678606002, 'Val Loss': 1.5704135628846976, 'Val Accuracy': 0.5270793036750484, 'Val Precision': 0.37964416084417163, 'Val Recall': 0.5270793036750484}\n"
     ]
    },
    {
     "name": "stderr",
     "output_type": "stream",
     "text": [
      "c:\\Users\\Sid\\AppData\\Local\\Programs\\Python\\Python39\\lib\\site-packages\\sklearn\\metrics\\_classification.py:1517: UndefinedMetricWarning: Precision is ill-defined and being set to 0.0 in labels with no predicted samples. Use `zero_division` parameter to control this behavior.\n",
      "  _warn_prf(average, modifier, f\"{metric.capitalize()} is\", len(result))\n",
      "Epoch(s):   2%|\u001b[31m▏         \u001b[0m| 4/250 [26:26<26:52:11, 393.22s/it]"
     ]
    },
    {
     "name": "stdout",
     "output_type": "stream",
     "text": [
      "{'Epoch': 4, 'Train Loss': 1.9176594348027438, 'Train Accuracy': 0.5244433688286544, 'Val Loss': 1.2591285962324876, 'Val Accuracy': 0.6373307543520309, 'Val Precision': 0.5062258892761373, 'Val Recall': 0.6373307543520309}\n"
     ]
    },
    {
     "name": "stderr",
     "output_type": "stream",
     "text": [
      "c:\\Users\\Sid\\AppData\\Local\\Programs\\Python\\Python39\\lib\\site-packages\\sklearn\\metrics\\_classification.py:1517: UndefinedMetricWarning: Precision is ill-defined and being set to 0.0 in labels with no predicted samples. Use `zero_division` parameter to control this behavior.\n",
      "  _warn_prf(average, modifier, f\"{metric.capitalize()} is\", len(result))\n"
     ]
    },
    {
     "name": "stdout",
     "output_type": "stream",
     "text": [
      "{'Epoch': 5, 'Train Loss': 1.5827975445732647, 'Train Accuracy': 0.6001936108422071, 'Val Loss': 1.101389901454632, 'Val Accuracy': 0.7156673114119922, 'Val Precision': 0.5734884871305397, 'Val Recall': 0.7156673114119922}\n"
     ]
    },
    {
     "name": "stderr",
     "output_type": "stream",
     "text": [
      "Epoch(s):   2%|\u001b[31m▏         \u001b[0m| 5/250 [32:46<26:26:16, 388.47s/it]c:\\Users\\Sid\\AppData\\Local\\Programs\\Python\\Python39\\lib\\site-packages\\sklearn\\metrics\\_classification.py:1517: UndefinedMetricWarning: Precision is ill-defined and being set to 0.0 in labels with no predicted samples. Use `zero_division` parameter to control this behavior.\n",
      "  _warn_prf(average, modifier, f\"{metric.capitalize()} is\", len(result))\n",
      "Epoch(s):   2%|\u001b[31m▏         \u001b[0m| 6/250 [39:06<26:07:58, 385.57s/it]"
     ]
    },
    {
     "name": "stdout",
     "output_type": "stream",
     "text": [
      "{'Epoch': 6, 'Train Loss': 1.1423038333999604, 'Train Accuracy': 0.6510164569215876, 'Val Loss': 1.0148303389549256, 'Val Accuracy': 0.730174081237911, 'Val Precision': 0.6212894948938764, 'Val Recall': 0.730174081237911}\n"
     ]
    },
    {
     "name": "stderr",
     "output_type": "stream",
     "text": [
      "c:\\Users\\Sid\\AppData\\Local\\Programs\\Python\\Python39\\lib\\site-packages\\sklearn\\metrics\\_classification.py:1517: UndefinedMetricWarning: Precision is ill-defined and being set to 0.0 in labels with no predicted samples. Use `zero_division` parameter to control this behavior.\n",
      "  _warn_prf(average, modifier, f\"{metric.capitalize()} is\", len(result))\n",
      "Epoch(s):   3%|\u001b[31m▎         \u001b[0m| 7/250 [45:26<25:54:02, 383.71s/it]"
     ]
    },
    {
     "name": "stdout",
     "output_type": "stream",
     "text": [
      "{'Epoch': 7, 'Train Loss': 1.0521806417514918, 'Train Accuracy': 0.6800580832526621, 'Val Loss': 0.928897936986043, 'Val Accuracy': 0.7388781431334622, 'Val Precision': 0.6342993771238871, 'Val Recall': 0.7388781431334622}\n"
     ]
    },
    {
     "name": "stderr",
     "output_type": "stream",
     "text": [
      "c:\\Users\\Sid\\AppData\\Local\\Programs\\Python\\Python39\\lib\\site-packages\\sklearn\\metrics\\_classification.py:1517: UndefinedMetricWarning: Precision is ill-defined and being set to 0.0 in labels with no predicted samples. Use `zero_division` parameter to control this behavior.\n",
      "  _warn_prf(average, modifier, f\"{metric.capitalize()} is\", len(result))\n",
      "Epoch(s):   3%|\u001b[31m▎         \u001b[0m| 8/250 [51:53<25:52:07, 384.83s/it]"
     ]
    },
    {
     "name": "stdout",
     "output_type": "stream",
     "text": [
      "{'Epoch': 8, 'Train Loss': 0.9619202992400607, 'Train Accuracy': 0.7042594385285575, 'Val Loss': 0.8690425414305467, 'Val Accuracy': 0.7504835589941973, 'Val Precision': 0.6928642865958653, 'Val Recall': 0.7504835589941973}\n"
     ]
    },
    {
     "name": "stderr",
     "output_type": "stream",
     "text": [
      "c:\\Users\\Sid\\AppData\\Local\\Programs\\Python\\Python39\\lib\\site-packages\\sklearn\\metrics\\_classification.py:1517: UndefinedMetricWarning: Precision is ill-defined and being set to 0.0 in labels with no predicted samples. Use `zero_division` parameter to control this behavior.\n",
      "  _warn_prf(average, modifier, f\"{metric.capitalize()} is\", len(result))\n",
      "Epoch(s):   4%|\u001b[31m▎         \u001b[0m| 9/250 [58:22<25:50:11, 385.94s/it]"
     ]
    },
    {
     "name": "stdout",
     "output_type": "stream",
     "text": [
      "{'Epoch': 9, 'Train Loss': 1.0270711252588103, 'Train Accuracy': 0.718296224588577, 'Val Loss': 0.8167140236267677, 'Val Accuracy': 0.746615087040619, 'Val Precision': 0.6717881291675267, 'Val Recall': 0.746615087040619}\n"
     ]
    },
    {
     "name": "stderr",
     "output_type": "stream",
     "text": [
      "c:\\Users\\Sid\\AppData\\Local\\Programs\\Python\\Python39\\lib\\site-packages\\sklearn\\metrics\\_classification.py:1517: UndefinedMetricWarning: Precision is ill-defined and being set to 0.0 in labels with no predicted samples. Use `zero_division` parameter to control this behavior.\n",
      "  _warn_prf(average, modifier, f\"{metric.capitalize()} is\", len(result))\n",
      "Epoch(s):   4%|\u001b[31m▍         \u001b[0m| 10/250 [1:04:42<25:36:19, 384.08s/it]"
     ]
    },
    {
     "name": "stdout",
     "output_type": "stream",
     "text": [
      "{'Epoch': 10, 'Train Loss': 0.85870790458554, 'Train Accuracy': 0.7250726040658277, 'Val Loss': 0.7914519624068187, 'Val Accuracy': 0.7553191489361702, 'Val Precision': 0.7002911872567114, 'Val Recall': 0.7553191489361702}\n"
     ]
    },
    {
     "name": "stderr",
     "output_type": "stream",
     "text": [
      "c:\\Users\\Sid\\AppData\\Local\\Programs\\Python\\Python39\\lib\\site-packages\\sklearn\\metrics\\_classification.py:1517: UndefinedMetricWarning: Precision is ill-defined and being set to 0.0 in labels with no predicted samples. Use `zero_division` parameter to control this behavior.\n",
      "  _warn_prf(average, modifier, f\"{metric.capitalize()} is\", len(result))\n",
      "Epoch(s):   4%|\u001b[31m▍         \u001b[0m| 11/250 [1:11:01<25:24:48, 382.80s/it]"
     ]
    },
    {
     "name": "stdout",
     "output_type": "stream",
     "text": [
      "{'Epoch': 11, 'Train Loss': 0.8222944020189373, 'Train Accuracy': 0.7371732817037754, 'Val Loss': 0.7664521100429388, 'Val Accuracy': 0.7640232108317214, 'Val Precision': 0.6928112415143135, 'Val Recall': 0.7640232108317214}\n"
     ]
    },
    {
     "name": "stderr",
     "output_type": "stream",
     "text": [
      "c:\\Users\\Sid\\AppData\\Local\\Programs\\Python\\Python39\\lib\\site-packages\\sklearn\\metrics\\_classification.py:1517: UndefinedMetricWarning: Precision is ill-defined and being set to 0.0 in labels with no predicted samples. Use `zero_division` parameter to control this behavior.\n",
      "  _warn_prf(average, modifier, f\"{metric.capitalize()} is\", len(result))\n",
      "Epoch(s):   5%|\u001b[31m▍         \u001b[0m| 12/250 [1:17:22<25:15:52, 382.15s/it]"
     ]
    },
    {
     "name": "stdout",
     "output_type": "stream",
     "text": [
      "{'Epoch': 12, 'Train Loss': 1.0498028143837645, 'Train Accuracy': 0.7468538238141336, 'Val Loss': 0.7493964972404333, 'Val Accuracy': 0.7562862669245648, 'Val Precision': 0.6835462224993594, 'Val Recall': 0.7562862669245648}\n"
     ]
    },
    {
     "name": "stderr",
     "output_type": "stream",
     "text": [
      "c:\\Users\\Sid\\AppData\\Local\\Programs\\Python\\Python39\\lib\\site-packages\\sklearn\\metrics\\_classification.py:1517: UndefinedMetricWarning: Precision is ill-defined and being set to 0.0 in labels with no predicted samples. Use `zero_division` parameter to control this behavior.\n",
      "  _warn_prf(average, modifier, f\"{metric.capitalize()} is\", len(result))\n"
     ]
    },
    {
     "name": "stdout",
     "output_type": "stream",
     "text": [
      "{'Epoch': 13, 'Train Loss': 0.7806381795512203, 'Train Accuracy': 0.7463697967086157, 'Val Loss': 0.7291625275061681, 'Val Accuracy': 0.7669245647969052, 'Val Precision': 0.6959045923968034, 'Val Recall': 0.7669245647969052}\n"
     ]
    },
    {
     "name": "stderr",
     "output_type": "stream",
     "text": [
      "Epoch(s):   5%|\u001b[31m▌         \u001b[0m| 13/250 [1:23:42<25:07:12, 381.57s/it]c:\\Users\\Sid\\AppData\\Local\\Programs\\Python\\Python39\\lib\\site-packages\\sklearn\\metrics\\_classification.py:1517: UndefinedMetricWarning: Precision is ill-defined and being set to 0.0 in labels with no predicted samples. Use `zero_division` parameter to control this behavior.\n",
      "  _warn_prf(average, modifier, f\"{metric.capitalize()} is\", len(result))\n",
      "Epoch(s):   6%|\u001b[31m▌         \u001b[0m| 14/250 [1:30:14<25:12:37, 384.56s/it]"
     ]
    },
    {
     "name": "stdout",
     "output_type": "stream",
     "text": [
      "{'Epoch': 14, 'Train Loss': 0.7991081427308123, 'Train Accuracy': 0.750242013552759, 'Val Loss': 0.7198873916497597, 'Val Accuracy': 0.7688588007736944, 'Val Precision': 0.6940350602845214, 'Val Recall': 0.7688588007736944}\n"
     ]
    },
    {
     "name": "stderr",
     "output_type": "stream",
     "text": [
      "c:\\Users\\Sid\\AppData\\Local\\Programs\\Python\\Python39\\lib\\site-packages\\sklearn\\metrics\\_classification.py:1517: UndefinedMetricWarning: Precision is ill-defined and being set to 0.0 in labels with no predicted samples. Use `zero_division` parameter to control this behavior.\n",
      "  _warn_prf(average, modifier, f\"{metric.capitalize()} is\", len(result))\n",
      "Epoch(s):   6%|\u001b[31m▌         \u001b[0m| 15/250 [1:36:34<25:00:48, 383.18s/it]"
     ]
    },
    {
     "name": "stdout",
     "output_type": "stream",
     "text": [
      "{'Epoch': 15, 'Train Loss': 0.7419754873141359, 'Train Accuracy': 0.7533881897386253, 'Val Loss': 0.7003097497499906, 'Val Accuracy': 0.7707930367504836, 'Val Precision': 0.6962049827269671, 'Val Recall': 0.7707930367504836}\n"
     ]
    },
    {
     "name": "stderr",
     "output_type": "stream",
     "text": [
      "c:\\Users\\Sid\\AppData\\Local\\Programs\\Python\\Python39\\lib\\site-packages\\sklearn\\metrics\\_classification.py:1517: UndefinedMetricWarning: Precision is ill-defined and being set to 0.0 in labels with no predicted samples. Use `zero_division` parameter to control this behavior.\n",
      "  _warn_prf(average, modifier, f\"{metric.capitalize()} is\", len(result))\n",
      "Epoch(s):   6%|\u001b[31m▋         \u001b[0m| 16/250 [1:42:55<24:51:35, 382.46s/it]"
     ]
    },
    {
     "name": "stdout",
     "output_type": "stream",
     "text": [
      "{'Epoch': 16, 'Train Loss': 0.7194773755018316, 'Train Accuracy': 0.7579864472410455, 'Val Loss': 0.6906676083803177, 'Val Accuracy': 0.7678916827852998, 'Val Precision': 0.6864851281152907, 'Val Recall': 0.7678916827852998}\n"
     ]
    },
    {
     "name": "stderr",
     "output_type": "stream",
     "text": [
      "c:\\Users\\Sid\\AppData\\Local\\Programs\\Python\\Python39\\lib\\site-packages\\sklearn\\metrics\\_classification.py:1517: UndefinedMetricWarning: Precision is ill-defined and being set to 0.0 in labels with no predicted samples. Use `zero_division` parameter to control this behavior.\n",
      "  _warn_prf(average, modifier, f\"{metric.capitalize()} is\", len(result))\n",
      "Epoch(s):   7%|\u001b[31m▋         \u001b[0m| 17/250 [1:49:15<24:42:22, 381.73s/it]"
     ]
    },
    {
     "name": "stdout",
     "output_type": "stream",
     "text": [
      "{'Epoch': 17, 'Train Loss': 0.7014990073258353, 'Train Accuracy': 0.7642787996127783, 'Val Loss': 0.6771235488928281, 'Val Accuracy': 0.7707930367504836, 'Val Precision': 0.7091436106534262, 'Val Recall': 0.7707930367504836}\n"
     ]
    },
    {
     "name": "stderr",
     "output_type": "stream",
     "text": [
      "c:\\Users\\Sid\\AppData\\Local\\Programs\\Python\\Python39\\lib\\site-packages\\sklearn\\metrics\\_classification.py:1517: UndefinedMetricWarning: Precision is ill-defined and being set to 0.0 in labels with no predicted samples. Use `zero_division` parameter to control this behavior.\n",
      "  _warn_prf(average, modifier, f\"{metric.capitalize()} is\", len(result))\n",
      "Epoch(s):   7%|\u001b[31m▋         \u001b[0m| 18/250 [1:55:34<24:33:42, 381.13s/it]"
     ]
    },
    {
     "name": "stdout",
     "output_type": "stream",
     "text": [
      "{'Epoch': 18, 'Train Loss': 0.6952587783221572, 'Train Accuracy': 0.7657308809293321, 'Val Loss': 0.6618614366421333, 'Val Accuracy': 0.7823984526112185, 'Val Precision': 0.7183117006987667, 'Val Recall': 0.7823984526112185}\n"
     ]
    },
    {
     "name": "stderr",
     "output_type": "stream",
     "text": [
      "c:\\Users\\Sid\\AppData\\Local\\Programs\\Python\\Python39\\lib\\site-packages\\sklearn\\metrics\\_classification.py:1517: UndefinedMetricWarning: Precision is ill-defined and being set to 0.0 in labels with no predicted samples. Use `zero_division` parameter to control this behavior.\n",
      "  _warn_prf(average, modifier, f\"{metric.capitalize()} is\", len(result))\n",
      "Epoch(s):   8%|\u001b[31m▊         \u001b[0m| 19/250 [2:01:58<24:30:14, 381.88s/it]"
     ]
    },
    {
     "name": "stdout",
     "output_type": "stream",
     "text": [
      "{'Epoch': 19, 'Train Loss': 0.6795125138230306, 'Train Accuracy': 0.7642787996127783, 'Val Loss': 0.663523166684004, 'Val Accuracy': 0.7707930367504836, 'Val Precision': 0.7162830618665035, 'Val Recall': 0.7707930367504836}\n"
     ]
    },
    {
     "name": "stderr",
     "output_type": "stream",
     "text": [
      "c:\\Users\\Sid\\AppData\\Local\\Programs\\Python\\Python39\\lib\\site-packages\\sklearn\\metrics\\_classification.py:1517: UndefinedMetricWarning: Precision is ill-defined and being set to 0.0 in labels with no predicted samples. Use `zero_division` parameter to control this behavior.\n",
      "  _warn_prf(average, modifier, f\"{metric.capitalize()} is\", len(result))\n",
      "Epoch(s):   8%|\u001b[31m▊         \u001b[0m| 20/250 [2:08:21<24:25:01, 382.18s/it]"
     ]
    },
    {
     "name": "stdout",
     "output_type": "stream",
     "text": [
      "{'Epoch': 20, 'Train Loss': 0.6684819398066713, 'Train Accuracy': 0.7705711519845111, 'Val Loss': 0.6406727767907656, 'Val Accuracy': 0.7823984526112185, 'Val Precision': 0.7340052027946123, 'Val Recall': 0.7823984526112185}\n"
     ]
    },
    {
     "name": "stderr",
     "output_type": "stream",
     "text": [
      "c:\\Users\\Sid\\AppData\\Local\\Programs\\Python\\Python39\\lib\\site-packages\\sklearn\\metrics\\_classification.py:1517: UndefinedMetricWarning: Precision is ill-defined and being set to 0.0 in labels with no predicted samples. Use `zero_division` parameter to control this behavior.\n",
      "  _warn_prf(average, modifier, f\"{metric.capitalize()} is\", len(result))\n",
      "Epoch(s):   8%|\u001b[31m▊         \u001b[0m| 21/250 [2:14:41<24:16:00, 381.49s/it]"
     ]
    },
    {
     "name": "stdout",
     "output_type": "stream",
     "text": [
      "{'Epoch': 21, 'Train Loss': 0.6561173845988673, 'Train Accuracy': 0.7746853823814134, 'Val Loss': 0.6355275770792594, 'Val Accuracy': 0.7736943907156673, 'Val Precision': 0.723112908219631, 'Val Recall': 0.7736943907156673}\n"
     ]
    },
    {
     "name": "stderr",
     "output_type": "stream",
     "text": [
      "c:\\Users\\Sid\\AppData\\Local\\Programs\\Python\\Python39\\lib\\site-packages\\sklearn\\metrics\\_classification.py:1517: UndefinedMetricWarning: Precision is ill-defined and being set to 0.0 in labels with no predicted samples. Use `zero_division` parameter to control this behavior.\n",
      "  _warn_prf(average, modifier, f\"{metric.capitalize()} is\", len(result))\n",
      "Epoch(s):   9%|\u001b[31m▉         \u001b[0m| 22/250 [2:21:01<24:08:23, 381.15s/it]"
     ]
    },
    {
     "name": "stdout",
     "output_type": "stream",
     "text": [
      "{'Epoch': 22, 'Train Loss': 0.6449797504786474, 'Train Accuracy': 0.7797676669893514, 'Val Loss': 0.6262899728921744, 'Val Accuracy': 0.781431334622824, 'Val Precision': 0.7416878182026211, 'Val Recall': 0.781431334622824}\n"
     ]
    },
    {
     "name": "stderr",
     "output_type": "stream",
     "text": [
      "c:\\Users\\Sid\\AppData\\Local\\Programs\\Python\\Python39\\lib\\site-packages\\sklearn\\metrics\\_classification.py:1517: UndefinedMetricWarning: Precision is ill-defined and being set to 0.0 in labels with no predicted samples. Use `zero_division` parameter to control this behavior.\n",
      "  _warn_prf(average, modifier, f\"{metric.capitalize()} is\", len(result))\n",
      "Epoch(s):   9%|\u001b[31m▉         \u001b[0m| 23/250 [2:27:21<24:00:27, 380.74s/it]"
     ]
    },
    {
     "name": "stdout",
     "output_type": "stream",
     "text": [
      "{'Epoch': 23, 'Train Loss': 0.6352136195511431, 'Train Accuracy': 0.7812197483059051, 'Val Loss': 0.6231390416622162, 'Val Accuracy': 0.7882011605415861, 'Val Precision': 0.7327587075039121, 'Val Recall': 0.7882011605415861}\n"
     ]
    },
    {
     "name": "stderr",
     "output_type": "stream",
     "text": [
      "c:\\Users\\Sid\\AppData\\Local\\Programs\\Python\\Python39\\lib\\site-packages\\sklearn\\metrics\\_classification.py:1517: UndefinedMetricWarning: Precision is ill-defined and being set to 0.0 in labels with no predicted samples. Use `zero_division` parameter to control this behavior.\n",
      "  _warn_prf(average, modifier, f\"{metric.capitalize()} is\", len(result))\n",
      "Epoch(s):  10%|\u001b[31m▉         \u001b[0m| 24/250 [2:33:42<23:54:24, 380.82s/it]"
     ]
    },
    {
     "name": "stdout",
     "output_type": "stream",
     "text": [
      "{'Epoch': 24, 'Train Loss': 0.634937285456418, 'Train Accuracy': 0.7807357212003873, 'Val Loss': 0.6162093725342017, 'Val Accuracy': 0.7852998065764023, 'Val Precision': 0.7525240766594279, 'Val Recall': 0.7852998065764023}\n"
     ]
    },
    {
     "name": "stderr",
     "output_type": "stream",
     "text": [
      "c:\\Users\\Sid\\AppData\\Local\\Programs\\Python\\Python39\\lib\\site-packages\\sklearn\\metrics\\_classification.py:1517: UndefinedMetricWarning: Precision is ill-defined and being set to 0.0 in labels with no predicted samples. Use `zero_division` parameter to control this behavior.\n",
      "  _warn_prf(average, modifier, f\"{metric.capitalize()} is\", len(result))\n",
      "Epoch(s):  10%|\u001b[31m█         \u001b[0m| 25/250 [2:40:12<23:58:08, 383.51s/it]"
     ]
    },
    {
     "name": "stdout",
     "output_type": "stream",
     "text": [
      "{'Epoch': 25, 'Train Loss': 0.6189647058032194, 'Train Accuracy': 0.7863020329138432, 'Val Loss': 0.6078910793249424, 'Val Accuracy': 0.793036750483559, 'Val Precision': 0.7552004712071654, 'Val Recall': 0.793036750483559}\n"
     ]
    },
    {
     "name": "stderr",
     "output_type": "stream",
     "text": [
      "c:\\Users\\Sid\\AppData\\Local\\Programs\\Python\\Python39\\lib\\site-packages\\sklearn\\metrics\\_classification.py:1517: UndefinedMetricWarning: Precision is ill-defined and being set to 0.0 in labels with no predicted samples. Use `zero_division` parameter to control this behavior.\n",
      "  _warn_prf(average, modifier, f\"{metric.capitalize()} is\", len(result))\n",
      "Epoch(s):  10%|\u001b[31m█         \u001b[0m| 26/250 [2:46:44<24:01:23, 386.09s/it]"
     ]
    },
    {
     "name": "stdout",
     "output_type": "stream",
     "text": [
      "{'Epoch': 26, 'Train Loss': 0.6085213748126876, 'Train Accuracy': 0.7896902226524686, 'Val Loss': 0.6009737347181027, 'Val Accuracy': 0.7920696324951644, 'Val Precision': 0.7757058969541994, 'Val Recall': 0.7920696324951644}\n"
     ]
    },
    {
     "name": "stderr",
     "output_type": "stream",
     "text": [
      "c:\\Users\\Sid\\AppData\\Local\\Programs\\Python\\Python39\\lib\\site-packages\\sklearn\\metrics\\_classification.py:1517: UndefinedMetricWarning: Precision is ill-defined and being set to 0.0 in labels with no predicted samples. Use `zero_division` parameter to control this behavior.\n",
      "  _warn_prf(average, modifier, f\"{metric.capitalize()} is\", len(result))\n",
      "Epoch(s):  11%|\u001b[31m█         \u001b[0m| 27/250 [2:53:12<23:57:23, 386.74s/it]"
     ]
    },
    {
     "name": "stdout",
     "output_type": "stream",
     "text": [
      "{'Epoch': 27, 'Train Loss': 0.6025391407167129, 'Train Accuracy': 0.7952565343659245, 'Val Loss': 0.5960804142631018, 'Val Accuracy': 0.7940038684719536, 'Val Precision': 0.7602830172045825, 'Val Recall': 0.7940038684719536}\n"
     ]
    },
    {
     "name": "stderr",
     "output_type": "stream",
     "text": [
      "c:\\Users\\Sid\\AppData\\Local\\Programs\\Python\\Python39\\lib\\site-packages\\sklearn\\metrics\\_classification.py:1517: UndefinedMetricWarning: Precision is ill-defined and being set to 0.0 in labels with no predicted samples. Use `zero_division` parameter to control this behavior.\n",
      "  _warn_prf(average, modifier, f\"{metric.capitalize()} is\", len(result))\n"
     ]
    },
    {
     "name": "stdout",
     "output_type": "stream",
     "text": [
      "{'Epoch': 28, 'Train Loss': 0.5795962358878847, 'Train Accuracy': 0.8000968054211036, 'Val Loss': 0.5831373249108974, 'Val Accuracy': 0.7901353965183753, 'Val Precision': 0.7420548515131926, 'Val Recall': 0.7901353965183753}\n"
     ]
    },
    {
     "name": "stderr",
     "output_type": "stream",
     "text": [
      "Epoch(s):  11%|\u001b[31m█         \u001b[0m| 28/250 [3:00:03<24:17:20, 393.88s/it]c:\\Users\\Sid\\AppData\\Local\\Programs\\Python\\Python39\\lib\\site-packages\\sklearn\\metrics\\_classification.py:1517: UndefinedMetricWarning: Precision is ill-defined and being set to 0.0 in labels with no predicted samples. Use `zero_division` parameter to control this behavior.\n",
      "  _warn_prf(average, modifier, f\"{metric.capitalize()} is\", len(result))\n"
     ]
    },
    {
     "name": "stdout",
     "output_type": "stream",
     "text": [
      "{'Epoch': 29, 'Train Loss': 0.5766863453284654, 'Train Accuracy': 0.8015488867376573, 'Val Loss': 0.5857775439436619, 'Val Accuracy': 0.7891682785299806, 'Val Precision': 0.7503010495521338, 'Val Recall': 0.7891682785299806}\n"
     ]
    },
    {
     "name": "stderr",
     "output_type": "stream",
     "text": [
      "Epoch(s):  12%|\u001b[31m█▏        \u001b[0m| 29/250 [3:07:01<24:37:29, 401.13s/it]c:\\Users\\Sid\\AppData\\Local\\Programs\\Python\\Python39\\lib\\site-packages\\sklearn\\metrics\\_classification.py:1517: UndefinedMetricWarning: Precision is ill-defined and being set to 0.0 in labels with no predicted samples. Use `zero_division` parameter to control this behavior.\n",
      "  _warn_prf(average, modifier, f\"{metric.capitalize()} is\", len(result))\n",
      "Epoch(s):  12%|\u001b[31m█▏        \u001b[0m| 30/250 [3:13:58<24:48:39, 406.00s/it]"
     ]
    },
    {
     "name": "stdout",
     "output_type": "stream",
     "text": [
      "{'Epoch': 30, 'Train Loss': 0.5713671739554773, 'Train Accuracy': 0.8025169409486931, 'Val Loss': 0.5684222565247462, 'Val Accuracy': 0.7969052224371374, 'Val Precision': 0.7666669966216227, 'Val Recall': 0.7969052224371374}\n"
     ]
    },
    {
     "name": "stderr",
     "output_type": "stream",
     "text": [
      "c:\\Users\\Sid\\AppData\\Local\\Programs\\Python\\Python39\\lib\\site-packages\\sklearn\\metrics\\_classification.py:1517: UndefinedMetricWarning: Precision is ill-defined and being set to 0.0 in labels with no predicted samples. Use `zero_division` parameter to control this behavior.\n",
      "  _warn_prf(average, modifier, f\"{metric.capitalize()} is\", len(result))\n",
      "Epoch(s):  12%|\u001b[31m█▏        \u001b[0m| 31/250 [3:20:56<24:54:39, 409.50s/it]"
     ]
    },
    {
     "name": "stdout",
     "output_type": "stream",
     "text": [
      "{'Epoch': 31, 'Train Loss': 0.5579648193360296, 'Train Accuracy': 0.8051790900290416, 'Val Loss': 0.5671440430558645, 'Val Accuracy': 0.8036750483558994, 'Val Precision': 0.7734333866144726, 'Val Recall': 0.8036750483558994}\n"
     ]
    },
    {
     "name": "stderr",
     "output_type": "stream",
     "text": [
      "c:\\Users\\Sid\\AppData\\Local\\Programs\\Python\\Python39\\lib\\site-packages\\sklearn\\metrics\\_classification.py:1517: UndefinedMetricWarning: Precision is ill-defined and being set to 0.0 in labels with no predicted samples. Use `zero_division` parameter to control this behavior.\n",
      "  _warn_prf(average, modifier, f\"{metric.capitalize()} is\", len(result))\n"
     ]
    },
    {
     "name": "stdout",
     "output_type": "stream",
     "text": [
      "{'Epoch': 32, 'Train Loss': 0.5513734151123804, 'Train Accuracy': 0.8105033881897387, 'Val Loss': 0.5577377431667768, 'Val Accuracy': 0.8065764023210832, 'Val Precision': 0.7828032385071372, 'Val Recall': 0.8065764023210832}\n"
     ]
    },
    {
     "name": "stderr",
     "output_type": "stream",
     "text": [
      "Epoch(s):  13%|\u001b[31m█▎        \u001b[0m| 33/250 [3:34:59<25:04:35, 416.02s/it]"
     ]
    },
    {
     "name": "stdout",
     "output_type": "stream",
     "text": [
      "{'Epoch': 33, 'Train Loss': 0.5371633570903775, 'Train Accuracy': 0.8175217812197483, 'Val Loss': 0.5757006176389181, 'Val Accuracy': 0.7959381044487428, 'Val Precision': 0.7801823145447837, 'Val Recall': 0.7959381044487428}\n"
     ]
    },
    {
     "name": "stderr",
     "output_type": "stream",
     "text": [
      "Epoch(s):  14%|\u001b[31m█▎        \u001b[0m| 34/250 [3:42:02<25:05:59, 418.33s/it]"
     ]
    },
    {
     "name": "stdout",
     "output_type": "stream",
     "text": [
      "{'Epoch': 34, 'Train Loss': 0.5266987938521548, 'Train Accuracy': 0.8172797676669894, 'Val Loss': 0.5497144376429227, 'Val Accuracy': 0.8065764023210832, 'Val Precision': 0.8017840231299452, 'Val Recall': 0.8065764023210832}\n"
     ]
    },
    {
     "name": "stderr",
     "output_type": "stream",
     "text": [
      "Epoch(s):  14%|\u001b[31m█▍        \u001b[0m| 35/250 [3:49:01<24:59:22, 418.43s/it]"
     ]
    },
    {
     "name": "stdout",
     "output_type": "stream",
     "text": [
      "{'Epoch': 35, 'Train Loss': 0.5314795510936888, 'Train Accuracy': 0.8206679574056147, 'Val Loss': 0.5513873365062933, 'Val Accuracy': 0.8027079303675049, 'Val Precision': 0.8040040089231378, 'Val Recall': 0.8027079303675049}\n"
     ]
    },
    {
     "name": "stderr",
     "output_type": "stream",
     "text": [
      "Epoch(s):  14%|\u001b[31m█▍        \u001b[0m| 36/250 [3:55:59<24:51:45, 418.25s/it]"
     ]
    },
    {
     "name": "stdout",
     "output_type": "stream",
     "text": [
      "{'Epoch': 36, 'Train Loss': 0.5180042446896607, 'Train Accuracy': 0.8201839303000968, 'Val Loss': 0.5240251026474513, 'Val Accuracy': 0.8104448742746615, 'Val Precision': 0.8058429170962532, 'Val Recall': 0.8104448742746615}\n"
     ]
    },
    {
     "name": "stderr",
     "output_type": "stream",
     "text": [
      "c:\\Users\\Sid\\AppData\\Local\\Programs\\Python\\Python39\\lib\\site-packages\\sklearn\\metrics\\_classification.py:1517: UndefinedMetricWarning: Precision is ill-defined and being set to 0.0 in labels with no predicted samples. Use `zero_division` parameter to control this behavior.\n",
      "  _warn_prf(average, modifier, f\"{metric.capitalize()} is\", len(result))\n",
      "Epoch(s):  15%|\u001b[31m█▍        \u001b[0m| 37/250 [4:02:57<24:44:47, 418.25s/it]"
     ]
    },
    {
     "name": "stdout",
     "output_type": "stream",
     "text": [
      "{'Epoch': 37, 'Train Loss': 0.5119399739305383, 'Train Accuracy': 0.8216360116166506, 'Val Loss': 0.5284257245178406, 'Val Accuracy': 0.8123791102514507, 'Val Precision': 0.7807263621794697, 'Val Recall': 0.8123791102514507}\n"
     ]
    },
    {
     "name": "stderr",
     "output_type": "stream",
     "text": [
      "Epoch(s):  15%|\u001b[31m█▌        \u001b[0m| 38/250 [4:09:57<24:39:52, 418.83s/it]"
     ]
    },
    {
     "name": "stdout",
     "output_type": "stream",
     "text": [
      "{'Epoch': 38, 'Train Loss': 0.5063291438154042, 'Train Accuracy': 0.8206679574056147, 'Val Loss': 0.5342063349600021, 'Val Accuracy': 0.8075435203094777, 'Val Precision': 0.7954038062590204, 'Val Recall': 0.8075435203094777}\n"
     ]
    },
    {
     "name": "stderr",
     "output_type": "stream",
     "text": [
      "c:\\Users\\Sid\\AppData\\Local\\Programs\\Python\\Python39\\lib\\site-packages\\sklearn\\metrics\\_classification.py:1517: UndefinedMetricWarning: Precision is ill-defined and being set to 0.0 in labels with no predicted samples. Use `zero_division` parameter to control this behavior.\n",
      "  _warn_prf(average, modifier, f\"{metric.capitalize()} is\", len(result))\n",
      "Epoch(s):  16%|\u001b[31m█▌        \u001b[0m| 39/250 [4:16:54<24:30:02, 418.02s/it]"
     ]
    },
    {
     "name": "stdout",
     "output_type": "stream",
     "text": [
      "{'Epoch': 39, 'Train Loss': 1.038880438590602, 'Train Accuracy': 0.7642787996127783, 'Val Loss': 0.6488345625308843, 'Val Accuracy': 0.7756286266924565, 'Val Precision': 0.722362596453531, 'Val Recall': 0.7756286266924565}\n"
     ]
    },
    {
     "name": "stderr",
     "output_type": "stream",
     "text": [
      "Epoch(s):  16%|\u001b[31m█▌        \u001b[0m| 40/250 [4:23:42<24:12:58, 415.14s/it]"
     ]
    },
    {
     "name": "stdout",
     "output_type": "stream",
     "text": [
      "{'Epoch': 40, 'Train Loss': 0.6246305360354512, 'Train Accuracy': 0.7848499515972894, 'Val Loss': 0.6117452197349988, 'Val Accuracy': 0.7823984526112185, 'Val Precision': 0.752362100540612, 'Val Recall': 0.7823984526112185}\n"
     ]
    },
    {
     "name": "stderr",
     "output_type": "stream",
     "text": [
      "c:\\Users\\Sid\\AppData\\Local\\Programs\\Python\\Python39\\lib\\site-packages\\sklearn\\metrics\\_classification.py:1517: UndefinedMetricWarning: Precision is ill-defined and being set to 0.0 in labels with no predicted samples. Use `zero_division` parameter to control this behavior.\n",
      "  _warn_prf(average, modifier, f\"{metric.capitalize()} is\", len(result))\n",
      "Epoch(s):  16%|\u001b[31m█▋        \u001b[0m| 41/250 [4:30:15<23:43:23, 408.63s/it]"
     ]
    },
    {
     "name": "stdout",
     "output_type": "stream",
     "text": [
      "{'Epoch': 41, 'Train Loss': 0.5899375334065623, 'Train Accuracy': 0.8034849951597289, 'Val Loss': 0.5647472529457166, 'Val Accuracy': 0.804642166344294, 'Val Precision': 0.7942362379153802, 'Val Recall': 0.804642166344294}\n"
     ]
    },
    {
     "name": "stderr",
     "output_type": "stream",
     "text": [
      "Epoch(s):  17%|\u001b[31m█▋        \u001b[0m| 42/250 [4:36:39<23:10:59, 401.25s/it]"
     ]
    },
    {
     "name": "stdout",
     "output_type": "stream",
     "text": [
      "{'Epoch': 42, 'Train Loss': 0.5597100330941005, 'Train Accuracy': 0.8061471442400775, 'Val Loss': 0.5577248332592157, 'Val Accuracy': 0.804642166344294, 'Val Precision': 0.8029868381570017, 'Val Recall': 0.804642166344294}\n"
     ]
    },
    {
     "name": "stderr",
     "output_type": "stream",
     "text": [
      "Epoch(s):  17%|\u001b[31m█▋        \u001b[0m| 43/250 [4:43:04<22:47:21, 396.34s/it]"
     ]
    },
    {
     "name": "stdout",
     "output_type": "stream",
     "text": [
      "{'Epoch': 43, 'Train Loss': 0.5372255404684765, 'Train Accuracy': 0.8146176185866408, 'Val Loss': 0.5568242115470079, 'Val Accuracy': 0.7969052224371374, 'Val Precision': 0.7839512988533894, 'Val Recall': 0.7969052224371374}\n"
     ]
    },
    {
     "name": "stderr",
     "output_type": "stream",
     "text": [
      "Epoch(s):  18%|\u001b[31m█▊        \u001b[0m| 44/250 [4:49:28<22:27:48, 392.57s/it]"
     ]
    },
    {
     "name": "stdout",
     "output_type": "stream",
     "text": [
      "{'Epoch': 44, 'Train Loss': 0.5311744737521562, 'Train Accuracy': 0.8211519845111326, 'Val Loss': 0.5347581603206121, 'Val Accuracy': 0.811411992263056, 'Val Precision': 0.7952762808066309, 'Val Recall': 0.811411992263056}\n",
      "{'Epoch': 45, 'Train Loss': 0.519452601577727, 'Train Accuracy': 0.8228460793804453, 'Val Loss': 0.5392620399594307, 'Val Accuracy': 0.816247582205029, 'Val Precision': 0.8163787859210953, 'Val Recall': 0.816247582205029}\n"
     ]
    },
    {
     "name": "stderr",
     "output_type": "stream",
     "text": [
      "Epoch(s):  18%|\u001b[31m█▊        \u001b[0m| 46/250 [5:02:17<22:00:39, 388.43s/it]"
     ]
    },
    {
     "name": "stdout",
     "output_type": "stream",
     "text": [
      "{'Epoch': 46, 'Train Loss': 0.5176093557698501, 'Train Accuracy': 0.8196999031945789, 'Val Loss': 0.5248656334785314, 'Val Accuracy': 0.8181818181818182, 'Val Precision': 0.8002868094998852, 'Val Recall': 0.8181818181818182}\n"
     ]
    },
    {
     "name": "stderr",
     "output_type": "stream",
     "text": [
      "Epoch(s):  19%|\u001b[31m█▉        \u001b[0m| 47/250 [5:08:42<21:50:49, 387.43s/it]"
     ]
    },
    {
     "name": "stdout",
     "output_type": "stream",
     "text": [
      "{'Epoch': 47, 'Train Loss': 0.4956328756819591, 'Train Accuracy': 0.8318005808325266, 'Val Loss': 0.5193086843651075, 'Val Accuracy': 0.8104448742746615, 'Val Precision': 0.8071045951051379, 'Val Recall': 0.8104448742746615}\n",
      "{'Epoch': 48, 'Train Loss': 0.4831695117891953, 'Train Accuracy': 0.8380929332042595, 'Val Loss': 0.5261813279527884, 'Val Accuracy': 0.8201160541586073, 'Val Precision': 0.8005794477128866, 'Val Recall': 0.8201160541586073}\n"
     ]
    },
    {
     "name": "stderr",
     "output_type": "stream",
     "text": [
      "Epoch(s):  20%|\u001b[31m█▉        \u001b[0m| 49/250 [5:21:33<21:34:05, 386.30s/it]"
     ]
    },
    {
     "name": "stdout",
     "output_type": "stream",
     "text": [
      "{'Epoch': 49, 'Train Loss': 0.4716311807862868, 'Train Accuracy': 0.8393030009680542, 'Val Loss': 0.5586311211093113, 'Val Accuracy': 0.8036750483558994, 'Val Precision': 0.8133196562393346, 'Val Recall': 0.8036750483558994}\n"
     ]
    },
    {
     "name": "stderr",
     "output_type": "stream",
     "text": [
      "Epoch(s):  20%|\u001b[31m██        \u001b[0m| 50/250 [5:27:57<21:25:57, 385.79s/it]"
     ]
    },
    {
     "name": "stdout",
     "output_type": "stream",
     "text": [
      "{'Epoch': 50, 'Train Loss': 0.47551889291831423, 'Train Accuracy': 0.8373668925459826, 'Val Loss': 0.5014097824119604, 'Val Accuracy': 0.8278529980657641, 'Val Precision': 0.8202078342621866, 'Val Recall': 0.8278529980657641}\n"
     ]
    },
    {
     "name": "stderr",
     "output_type": "stream",
     "text": [
      "Epoch(s):  20%|\u001b[31m██        \u001b[0m| 51/250 [5:34:23<21:19:20, 385.73s/it]"
     ]
    },
    {
     "name": "stdout",
     "output_type": "stream",
     "text": [
      "{'Epoch': 51, 'Train Loss': 0.4661379504272837, 'Train Accuracy': 0.8417231364956438, 'Val Loss': 0.54415766619719, 'Val Accuracy': 0.8133462282398453, 'Val Precision': 0.8129650568088014, 'Val Recall': 0.8133462282398453}\n"
     ]
    },
    {
     "name": "stderr",
     "output_type": "stream",
     "text": [
      "Epoch(s):  21%|\u001b[31m██        \u001b[0m| 52/250 [5:40:47<21:11:38, 385.35s/it]"
     ]
    },
    {
     "name": "stdout",
     "output_type": "stream",
     "text": [
      "{'Epoch': 52, 'Train Loss': 0.46255247251752724, 'Train Accuracy': 0.834946757018393, 'Val Loss': 0.4954325423217737, 'Val Accuracy': 0.8220502901353965, 'Val Precision': 0.8064628920741496, 'Val Recall': 0.8220502901353965}\n"
     ]
    },
    {
     "name": "stderr",
     "output_type": "stream",
     "text": [
      "Epoch(s):  21%|\u001b[31m██        \u001b[0m| 53/250 [5:47:13<21:05:53, 385.55s/it]"
     ]
    },
    {
     "name": "stdout",
     "output_type": "stream",
     "text": [
      "{'Epoch': 53, 'Train Loss': 0.45272664559068354, 'Train Accuracy': 0.8446272991287512, 'Val Loss': 0.5146119069451323, 'Val Accuracy': 0.8172147001934236, 'Val Precision': 0.8033605051377074, 'Val Recall': 0.8172147001934236}\n",
      "{'Epoch': 54, 'Train Loss': 0.4412361679879165, 'Train Accuracy': 0.8487415295256534, 'Val Loss': 0.5302553087472915, 'Val Accuracy': 0.8143133462282398, 'Val Precision': 0.8151287931911491, 'Val Recall': 0.8143133462282398}\n"
     ]
    },
    {
     "name": "stderr",
     "output_type": "stream",
     "text": [
      "Epoch(s):  22%|\u001b[31m██▏       \u001b[0m| 55/250 [6:00:05<20:53:14, 385.61s/it]"
     ]
    },
    {
     "name": "stdout",
     "output_type": "stream",
     "text": [
      "{'Epoch': 55, 'Train Loss': 0.43564871643242, 'Train Accuracy': 0.8526137463697967, 'Val Loss': 0.5812618355624951, 'Val Accuracy': 0.8036750483558994, 'Val Precision': 0.8176227354516827, 'Val Recall': 0.8036750483558994}\n"
     ]
    },
    {
     "name": "stderr",
     "output_type": "stream",
     "text": [
      "Epoch(s):  22%|\u001b[31m██▏       \u001b[0m| 56/250 [6:06:30<20:46:12, 385.43s/it]"
     ]
    },
    {
     "name": "stdout",
     "output_type": "stream",
     "text": [
      "{'Epoch': 56, 'Train Loss': 0.442889013669263, 'Train Accuracy': 0.8463213939980639, 'Val Loss': 0.5187498478935315, 'Val Accuracy': 0.8201160541586073, 'Val Precision': 0.8188020075705826, 'Val Recall': 0.8201160541586073}\n"
     ]
    },
    {
     "name": "stderr",
     "output_type": "stream",
     "text": [
      "Epoch(s):  23%|\u001b[31m██▎       \u001b[0m| 57/250 [6:12:55<20:40:05, 385.52s/it]"
     ]
    },
    {
     "name": "stdout",
     "output_type": "stream",
     "text": [
      "{'Epoch': 57, 'Train Loss': 0.42419118038648346, 'Train Accuracy': 0.8497095837366893, 'Val Loss': 0.48409280908795504, 'Val Accuracy': 0.8423597678916828, 'Val Precision': 0.8358565481434548, 'Val Recall': 0.8423597678916828}\n"
     ]
    },
    {
     "name": "stderr",
     "output_type": "stream",
     "text": [
      "Epoch(s):  23%|\u001b[31m██▎       \u001b[0m| 58/250 [6:19:22<20:35:07, 385.97s/it]"
     ]
    },
    {
     "name": "stdout",
     "output_type": "stream",
     "text": [
      "{'Epoch': 58, 'Train Loss': 0.4159725415474158, 'Train Accuracy': 0.8538238141335914, 'Val Loss': 0.47390961796045306, 'Val Accuracy': 0.8413926499032882, 'Val Precision': 0.8289899415142112, 'Val Recall': 0.8413926499032882}\n"
     ]
    },
    {
     "name": "stderr",
     "output_type": "stream",
     "text": [
      "Epoch(s):  24%|\u001b[31m██▎       \u001b[0m| 59/250 [6:25:49<20:29:36, 386.26s/it]"
     ]
    },
    {
     "name": "stdout",
     "output_type": "stream",
     "text": [
      "{'Epoch': 59, 'Train Loss': 0.41668036998911223, 'Train Accuracy': 0.8569699903194579, 'Val Loss': 0.4686660941117085, 'Val Accuracy': 0.8404255319148937, 'Val Precision': 0.8406622587339042, 'Val Recall': 0.8404255319148937}\n"
     ]
    },
    {
     "name": "stderr",
     "output_type": "stream",
     "text": [
      "Epoch(s):  24%|\u001b[31m██▍       \u001b[0m| 60/250 [6:32:15<20:22:57, 386.20s/it]"
     ]
    },
    {
     "name": "stdout",
     "output_type": "stream",
     "text": [
      "{'Epoch': 60, 'Train Loss': 0.4172388396826375, 'Train Accuracy': 0.851161665053243, 'Val Loss': 0.5297343948139595, 'Val Accuracy': 0.8278529980657641, 'Val Precision': 0.827636988282481, 'Val Recall': 0.8278529980657641}\n"
     ]
    },
    {
     "name": "stderr",
     "output_type": "stream",
     "text": [
      "Epoch(s):  24%|\u001b[31m██▍       \u001b[0m| 61/250 [6:38:42<20:16:52, 386.31s/it]"
     ]
    },
    {
     "name": "stdout",
     "output_type": "stream",
     "text": [
      "{'Epoch': 61, 'Train Loss': 0.41588149114887674, 'Train Accuracy': 0.8644724104549855, 'Val Loss': 0.47581358692393855, 'Val Accuracy': 0.8375241779497099, 'Val Precision': 0.8280143702566538, 'Val Recall': 0.8375241779497099}\n"
     ]
    },
    {
     "name": "stderr",
     "output_type": "stream",
     "text": [
      "Epoch(s):  25%|\u001b[31m██▍       \u001b[0m| 62/250 [6:45:09<20:11:16, 386.58s/it]"
     ]
    },
    {
     "name": "stdout",
     "output_type": "stream",
     "text": [
      "{'Epoch': 62, 'Train Loss': 0.4129882360993737, 'Train Accuracy': 0.8576960309777347, 'Val Loss': 0.598653154168278, 'Val Accuracy': 0.7959381044487428, 'Val Precision': 0.7720620979751711, 'Val Recall': 0.7959381044487428}\n"
     ]
    },
    {
     "name": "stderr",
     "output_type": "stream",
     "text": [
      "Epoch(s):  25%|\u001b[31m██▌       \u001b[0m| 63/250 [6:51:36<20:05:21, 386.75s/it]"
     ]
    },
    {
     "name": "stdout",
     "output_type": "stream",
     "text": [
      "{'Epoch': 63, 'Train Loss': 0.3937283619432836, 'Train Accuracy': 0.8589060987415296, 'Val Loss': 0.5549722353999431, 'Val Accuracy': 0.8201160541586073, 'Val Precision': 0.8108267675707526, 'Val Recall': 0.8201160541586073}\n"
     ]
    },
    {
     "name": "stderr",
     "output_type": "stream",
     "text": [
      "Epoch(s):  26%|\u001b[31m██▌       \u001b[0m| 64/250 [6:58:05<20:00:38, 387.30s/it]"
     ]
    },
    {
     "name": "stdout",
     "output_type": "stream",
     "text": [
      "{'Epoch': 64, 'Train Loss': 0.38956428059236536, 'Train Accuracy': 0.8608422071636012, 'Val Loss': 0.5598557529971003, 'Val Accuracy': 0.8268858800773694, 'Val Precision': 0.8179565964300225, 'Val Recall': 0.8268858800773694}\n"
     ]
    },
    {
     "name": "stderr",
     "output_type": "stream",
     "text": [
      "Epoch(s):  26%|\u001b[31m██▌       \u001b[0m| 65/250 [7:04:33<19:54:42, 387.48s/it]"
     ]
    },
    {
     "name": "stdout",
     "output_type": "stream",
     "text": [
      "{'Epoch': 65, 'Train Loss': 0.43408051530136565, 'Train Accuracy': 0.8492255566311714, 'Val Loss': 0.6238982616422268, 'Val Accuracy': 0.8007736943907157, 'Val Precision': 0.8431107830394312, 'Val Recall': 0.8007736943907157}\n"
     ]
    },
    {
     "name": "stderr",
     "output_type": "stream",
     "text": [
      "Epoch(s):  26%|\u001b[31m██▋       \u001b[0m| 66/250 [7:11:28<20:13:51, 395.82s/it]"
     ]
    },
    {
     "name": "stdout",
     "output_type": "stream",
     "text": [
      "{'Epoch': 66, 'Train Loss': 0.39610724417867166, 'Train Accuracy': 0.8644724104549855, 'Val Loss': 0.5924477997880716, 'Val Accuracy': 0.7882011605415861, 'Val Precision': 0.8294280050271791, 'Val Recall': 0.7882011605415861}\n"
     ]
    },
    {
     "name": "stderr",
     "output_type": "stream",
     "text": [
      "Epoch(s):  27%|\u001b[31m██▋       \u001b[0m| 67/250 [7:18:11<20:14:05, 398.07s/it]"
     ]
    },
    {
     "name": "stdout",
     "output_type": "stream",
     "text": [
      "{'Epoch': 67, 'Train Loss': 0.3976402214250049, 'Train Accuracy': 0.8591481122942884, 'Val Loss': 0.5025839399259824, 'Val Accuracy': 0.8220502901353965, 'Val Precision': 0.8404454003127857, 'Val Recall': 0.8220502901353965}\n"
     ]
    },
    {
     "name": "stderr",
     "output_type": "stream",
     "text": [
      "Epoch(s):  27%|\u001b[31m██▋       \u001b[0m| 68/250 [7:24:52<20:09:54, 398.87s/it]"
     ]
    },
    {
     "name": "stdout",
     "output_type": "stream",
     "text": [
      "{'Epoch': 68, 'Train Loss': 0.38739820497836847, 'Train Accuracy': 0.8627783155856728, 'Val Loss': 0.4836161974387673, 'Val Accuracy': 0.839458413926499, 'Val Precision': 0.8424455332295033, 'Val Recall': 0.839458413926499}\n"
     ]
    },
    {
     "name": "stderr",
     "output_type": "stream",
     "text": [
      "Epoch(s):  28%|\u001b[31m██▊       \u001b[0m| 69/250 [7:31:12<19:46:00, 393.15s/it]"
     ]
    },
    {
     "name": "stdout",
     "output_type": "stream",
     "text": [
      "{'Epoch': 69, 'Train Loss': 0.3987670875294673, 'Train Accuracy': 0.8601161665053243, 'Val Loss': 0.4893172993109776, 'Val Accuracy': 0.8452611218568665, 'Val Precision': 0.8864096497519854, 'Val Recall': 0.8452611218568665}\n"
     ]
    },
    {
     "name": "stderr",
     "output_type": "stream",
     "text": [
      "c:\\Users\\Sid\\AppData\\Local\\Programs\\Python\\Python39\\lib\\site-packages\\sklearn\\metrics\\_classification.py:1517: UndefinedMetricWarning: Precision is ill-defined and being set to 0.0 in labels with no predicted samples. Use `zero_division` parameter to control this behavior.\n",
      "  _warn_prf(average, modifier, f\"{metric.capitalize()} is\", len(result))\n",
      "Epoch(s):  28%|\u001b[31m██▊       \u001b[0m| 70/250 [7:37:33<19:28:17, 389.43s/it]"
     ]
    },
    {
     "name": "stdout",
     "output_type": "stream",
     "text": [
      "{'Epoch': 70, 'Train Loss': 0.4126338684809139, 'Train Accuracy': 0.8603581800580833, 'Val Loss': 0.653166342813235, 'Val Accuracy': 0.7736943907156673, 'Val Precision': 0.8259466744050216, 'Val Recall': 0.7736943907156673}\n"
     ]
    },
    {
     "name": "stderr",
     "output_type": "stream",
     "text": [
      "Epoch(s):  28%|\u001b[31m██▊       \u001b[0m| 71/250 [7:44:01<19:20:41, 389.06s/it]"
     ]
    },
    {
     "name": "stdout",
     "output_type": "stream",
     "text": [
      "{'Epoch': 71, 'Train Loss': 0.38596445573745547, 'Train Accuracy': 0.8678606001936109, 'Val Loss': 0.5149129359194866, 'Val Accuracy': 0.8220502901353965, 'Val Precision': 0.8454718105475509, 'Val Recall': 0.8220502901353965}\n"
     ]
    },
    {
     "name": "stderr",
     "output_type": "stream",
     "text": [
      "Epoch(s):  29%|\u001b[31m██▉       \u001b[0m| 72/250 [7:50:21<19:06:10, 386.35s/it]"
     ]
    },
    {
     "name": "stdout",
     "output_type": "stream",
     "text": [
      "{'Epoch': 72, 'Train Loss': 0.3657889449400693, 'Train Accuracy': 0.8710067763794772, 'Val Loss': 0.44940289705275344, 'Val Accuracy': 0.8529980657640233, 'Val Precision': 0.8638335670171078, 'Val Recall': 0.8529980657640233}\n"
     ]
    },
    {
     "name": "stderr",
     "output_type": "stream",
     "text": [
      "Epoch(s):  29%|\u001b[31m██▉       \u001b[0m| 73/250 [7:56:41<18:54:04, 384.43s/it]"
     ]
    },
    {
     "name": "stdout",
     "output_type": "stream",
     "text": [
      "{'Epoch': 73, 'Train Loss': 0.39314251423105023, 'Train Accuracy': 0.861568247821878, 'Val Loss': 0.4650248299066264, 'Val Accuracy': 0.844294003868472, 'Val Precision': 0.8504540236410101, 'Val Recall': 0.844294003868472}\n"
     ]
    },
    {
     "name": "stderr",
     "output_type": "stream",
     "text": [
      "Epoch(s):  30%|\u001b[31m██▉       \u001b[0m| 74/250 [8:03:02<18:44:24, 383.32s/it]"
     ]
    },
    {
     "name": "stdout",
     "output_type": "stream",
     "text": [
      "{'Epoch': 74, 'Train Loss': 0.4145998278323518, 'Train Accuracy': 0.8550338818973863, 'Val Loss': 0.4955319126064961, 'Val Accuracy': 0.8288201160541586, 'Val Precision': 0.8806149260659973, 'Val Recall': 0.8288201160541586}\n"
     ]
    },
    {
     "name": "stderr",
     "output_type": "stream",
     "text": [
      "Epoch(s):  30%|\u001b[31m███       \u001b[0m| 75/250 [8:09:22<18:35:02, 382.30s/it]"
     ]
    },
    {
     "name": "stdout",
     "output_type": "stream",
     "text": [
      "{'Epoch': 75, 'Train Loss': 0.36717706073154643, 'Train Accuracy': 0.8724588576960309, 'Val Loss': 0.6047373732122091, 'Val Accuracy': 0.8075435203094777, 'Val Precision': 0.8417027583886975, 'Val Recall': 0.8075435203094777}\n"
     ]
    },
    {
     "name": "stderr",
     "output_type": "stream",
     "text": [
      "Epoch(s):  30%|\u001b[31m███       \u001b[0m| 76/250 [8:15:48<18:32:20, 383.57s/it]"
     ]
    },
    {
     "name": "stdout",
     "output_type": "stream",
     "text": [
      "{'Epoch': 76, 'Train Loss': 0.36671440605376215, 'Train Accuracy': 0.8731848983543078, 'Val Loss': 0.45533275995403527, 'Val Accuracy': 0.8452611218568665, 'Val Precision': 0.8559515990017218, 'Val Recall': 0.8452611218568665}\n"
     ]
    },
    {
     "name": "stderr",
     "output_type": "stream",
     "text": [
      "Epoch(s):  31%|\u001b[31m███       \u001b[0m| 77/250 [8:22:08<18:22:54, 382.51s/it]"
     ]
    },
    {
     "name": "stdout",
     "output_type": "stream",
     "text": [
      "{'Epoch': 77, 'Train Loss': 0.36755757422175644, 'Train Accuracy': 0.8753630203291385, 'Val Loss': 0.4334985408358849, 'Val Accuracy': 0.8539651837524178, 'Val Precision': 0.8633329893616974, 'Val Recall': 0.8539651837524178}\n",
      "{'Epoch': 78, 'Train Loss': 0.37133274877868216, 'Train Accuracy': 0.8693126815101646, 'Val Loss': 0.49159621030378803, 'Val Accuracy': 0.851063829787234, 'Val Precision': 0.8610409723461865, 'Val Recall': 0.851063829787234}\n"
     ]
    },
    {
     "name": "stderr",
     "output_type": "stream",
     "text": [
      "Epoch(s):  32%|\u001b[31m███▏      \u001b[0m| 79/250 [8:34:48<18:06:34, 381.25s/it]"
     ]
    },
    {
     "name": "stdout",
     "output_type": "stream",
     "text": [
      "{'Epoch': 79, 'Train Loss': 0.34335739739440585, 'Train Accuracy': 0.8804453049370765, 'Val Loss': 0.44930616059842016, 'Val Accuracy': 0.8597678916827853, 'Val Precision': 0.85724106129832, 'Val Recall': 0.8597678916827853}\n",
      "{'Epoch': 80, 'Train Loss': 0.3559583815346871, 'Train Accuracy': 0.8756050338818974, 'Val Loss': 0.4692312908860353, 'Val Accuracy': 0.8375241779497099, 'Val Precision': 0.8446947502549892, 'Val Recall': 0.8375241779497099}\n"
     ]
    },
    {
     "name": "stderr",
     "output_type": "stream",
     "text": [
      "Epoch(s):  32%|\u001b[31m███▏      \u001b[0m| 81/250 [8:47:30<17:53:19, 381.06s/it]"
     ]
    },
    {
     "name": "stdout",
     "output_type": "stream",
     "text": [
      "{'Epoch': 81, 'Train Loss': 0.3330106307639161, 'Train Accuracy': 0.8843175217812197, 'Val Loss': 0.43783073127269745, 'Val Accuracy': 0.8636363636363636, 'Val Precision': 0.8670065164266136, 'Val Recall': 0.8636363636363636}\n"
     ]
    },
    {
     "name": "stderr",
     "output_type": "stream",
     "text": [
      "Epoch(s):  33%|\u001b[31m███▎      \u001b[0m| 82/250 [8:53:56<17:50:57, 382.49s/it]"
     ]
    },
    {
     "name": "stdout",
     "output_type": "stream",
     "text": [
      "{'Epoch': 82, 'Train Loss': 0.35101176170509985, 'Train Accuracy': 0.8772991287512101, 'Val Loss': 0.4579239325096401, 'Val Accuracy': 0.8529980657640233, 'Val Precision': 0.8726586633825644, 'Val Recall': 0.8529980657640233}\n"
     ]
    },
    {
     "name": "stderr",
     "output_type": "stream",
     "text": [
      "Epoch(s):  33%|\u001b[31m███▎      \u001b[0m| 83/250 [9:00:15<17:42:21, 381.69s/it]"
     ]
    },
    {
     "name": "stdout",
     "output_type": "stream",
     "text": [
      "{'Epoch': 83, 'Train Loss': 0.3311945704840354, 'Train Accuracy': 0.882865440464666, 'Val Loss': 0.4554858629233562, 'Val Accuracy': 0.8452611218568665, 'Val Precision': 0.8588585206444942, 'Val Recall': 0.8452611218568665}\n"
     ]
    },
    {
     "name": "stderr",
     "output_type": "stream",
     "text": [
      "Epoch(s):  34%|\u001b[31m███▎      \u001b[0m| 84/250 [9:06:35<17:34:27, 381.13s/it]"
     ]
    },
    {
     "name": "stdout",
     "output_type": "stream",
     "text": [
      "{'Epoch': 84, 'Train Loss': 0.3454473021695962, 'Train Accuracy': 0.8843175217812197, 'Val Loss': 0.4573739318606945, 'Val Accuracy': 0.839458413926499, 'Val Precision': 0.8630463604151365, 'Val Recall': 0.839458413926499}\n"
     ]
    },
    {
     "name": "stderr",
     "output_type": "stream",
     "text": [
      "Epoch(s):  34%|\u001b[31m███▍      \u001b[0m| 85/250 [9:12:56<17:27:46, 381.01s/it]"
     ]
    },
    {
     "name": "stdout",
     "output_type": "stream",
     "text": [
      "{'Epoch': 85, 'Train Loss': 0.2803632042041324, 'Train Accuracy': 0.9015004840271055, 'Val Loss': 0.4000895832880185, 'Val Accuracy': 0.8704061895551257, 'Val Precision': 0.895136917776755, 'Val Recall': 0.8704061895551257}\n"
     ]
    },
    {
     "name": "stderr",
     "output_type": "stream",
     "text": [
      "Epoch(s):  34%|\u001b[31m███▍      \u001b[0m| 86/250 [9:19:16<17:20:56, 380.83s/it]"
     ]
    },
    {
     "name": "stdout",
     "output_type": "stream",
     "text": [
      "{'Epoch': 86, 'Train Loss': 0.3191905900778457, 'Train Accuracy': 0.8930300096805421, 'Val Loss': 0.41465624689769287, 'Val Accuracy': 0.8558994197292069, 'Val Precision': 0.8764578114995417, 'Val Recall': 0.8558994197292069}\n"
     ]
    },
    {
     "name": "stderr",
     "output_type": "stream",
     "text": [
      "Epoch(s):  35%|\u001b[31m███▍      \u001b[0m| 87/250 [9:25:44<17:20:26, 382.98s/it]"
     ]
    },
    {
     "name": "stdout",
     "output_type": "stream",
     "text": [
      "{'Epoch': 87, 'Train Loss': 0.28748005020888845, 'Train Accuracy': 0.9029525653436592, 'Val Loss': 0.4245670079898376, 'Val Accuracy': 0.8684719535783365, 'Val Precision': 0.8886248242191058, 'Val Recall': 0.8684719535783365}\n"
     ]
    },
    {
     "name": "stderr",
     "output_type": "stream",
     "text": [
      "Epoch(s):  35%|\u001b[31m███▌      \u001b[0m| 88/250 [9:32:04<17:11:24, 382.00s/it]"
     ]
    },
    {
     "name": "stdout",
     "output_type": "stream",
     "text": [
      "{'Epoch': 88, 'Train Loss': 0.28925662341799124, 'Train Accuracy': 0.9017424975798645, 'Val Loss': 0.4355739505961537, 'Val Accuracy': 0.8607350096711799, 'Val Precision': 0.8838032264155976, 'Val Recall': 0.8607350096711799}\n"
     ]
    },
    {
     "name": "stderr",
     "output_type": "stream",
     "text": [
      "Epoch(s):  36%|\u001b[31m███▌      \u001b[0m| 89/250 [9:38:25<17:03:50, 381.56s/it]"
     ]
    },
    {
     "name": "stdout",
     "output_type": "stream",
     "text": [
      "{'Epoch': 89, 'Train Loss': 0.2655238335067586, 'Train Accuracy': 0.9085188770571152, 'Val Loss': 0.404020318059394, 'Val Accuracy': 0.8810444874274661, 'Val Precision': 0.8932246895593124, 'Val Recall': 0.8810444874274661}\n"
     ]
    },
    {
     "name": "stderr",
     "output_type": "stream",
     "text": [
      "Epoch(s):  36%|\u001b[31m███▌      \u001b[0m| 90/250 [9:44:45<16:56:07, 381.05s/it]"
     ]
    },
    {
     "name": "stdout",
     "output_type": "stream",
     "text": [
      "{'Epoch': 90, 'Train Loss': 0.276202396372815, 'Train Accuracy': 0.9060987415295256, 'Val Loss': 0.47884889394044877, 'Val Accuracy': 0.8462282398452611, 'Val Precision': 0.8585984769224196, 'Val Recall': 0.8462282398452611}\n"
     ]
    },
    {
     "name": "stderr",
     "output_type": "stream",
     "text": [
      "c:\\Users\\Sid\\AppData\\Local\\Programs\\Python\\Python39\\lib\\site-packages\\sklearn\\metrics\\_classification.py:1517: UndefinedMetricWarning: Precision is ill-defined and being set to 0.0 in labels with no predicted samples. Use `zero_division` parameter to control this behavior.\n",
      "  _warn_prf(average, modifier, f\"{metric.capitalize()} is\", len(result))\n",
      "Epoch(s):  36%|\u001b[31m███▋      \u001b[0m| 91/250 [9:51:05<16:48:54, 380.72s/it]"
     ]
    },
    {
     "name": "stdout",
     "output_type": "stream",
     "text": [
      "{'Epoch': 91, 'Train Loss': 2.730937308830627, 'Train Accuracy': 0.8717328170377541, 'Val Loss': 0.8412589460611344, 'Val Accuracy': 0.7611218568665378, 'Val Precision': 0.7341884721267368, 'Val Recall': 0.7611218568665378}\n"
     ]
    },
    {
     "name": "stderr",
     "output_type": "stream",
     "text": [
      "c:\\Users\\Sid\\AppData\\Local\\Programs\\Python\\Python39\\lib\\site-packages\\sklearn\\metrics\\_classification.py:1517: UndefinedMetricWarning: Precision is ill-defined and being set to 0.0 in labels with no predicted samples. Use `zero_division` parameter to control this behavior.\n",
      "  _warn_prf(average, modifier, f\"{metric.capitalize()} is\", len(result))\n",
      "Epoch(s):  37%|\u001b[31m███▋      \u001b[0m| 92/250 [9:57:34<16:49:16, 383.27s/it]"
     ]
    },
    {
     "name": "stdout",
     "output_type": "stream",
     "text": [
      "{'Epoch': 92, 'Train Loss': 0.8696095555801391, 'Train Accuracy': 0.7867860600193611, 'Val Loss': 0.5255035172288235, 'Val Accuracy': 0.8172147001934236, 'Val Precision': 0.7919499156765631, 'Val Recall': 0.8172147001934236}\n"
     ]
    },
    {
     "name": "stderr",
     "output_type": "stream",
     "text": [
      "Epoch(s):  37%|\u001b[31m███▋      \u001b[0m| 93/250 [10:03:54<16:40:50, 382.49s/it]"
     ]
    },
    {
     "name": "stdout",
     "output_type": "stream",
     "text": [
      "{'Epoch': 93, 'Train Loss': 0.4484402015166983, 'Train Accuracy': 0.8472894482090997, 'Val Loss': 0.5153511998745112, 'Val Accuracy': 0.8133462282398453, 'Val Precision': 0.8191212054229755, 'Val Recall': 0.8133462282398453}\n"
     ]
    },
    {
     "name": "stderr",
     "output_type": "stream",
     "text": [
      "Epoch(s):  38%|\u001b[31m███▊      \u001b[0m| 94/250 [10:10:14<16:32:15, 381.64s/it]"
     ]
    },
    {
     "name": "stdout",
     "output_type": "stream",
     "text": [
      "{'Epoch': 94, 'Train Loss': 0.3932551480191454, 'Train Accuracy': 0.8659244917715392, 'Val Loss': 0.46108749106239816, 'Val Accuracy': 0.8375241779497099, 'Val Precision': 0.8305782831352272, 'Val Recall': 0.8375241779497099}\n"
     ]
    },
    {
     "name": "stderr",
     "output_type": "stream",
     "text": [
      "Epoch(s):  38%|\u001b[31m███▊      \u001b[0m| 95/250 [10:16:34<16:24:16, 381.01s/it]"
     ]
    },
    {
     "name": "stdout",
     "output_type": "stream",
     "text": [
      "{'Epoch': 95, 'Train Loss': 0.36000786730336404, 'Train Accuracy': 0.8794772507260407, 'Val Loss': 0.4893207618715958, 'Val Accuracy': 0.851063829787234, 'Val Precision': 0.8461345709827364, 'Val Recall': 0.851063829787234}\n"
     ]
    },
    {
     "name": "stderr",
     "output_type": "stream",
     "text": [
      "Epoch(s):  38%|\u001b[31m███▊      \u001b[0m| 96/250 [10:22:53<16:16:59, 380.65s/it]"
     ]
    },
    {
     "name": "stdout",
     "output_type": "stream",
     "text": [
      "{'Epoch': 96, 'Train Loss': 0.3318326066007198, 'Train Accuracy': 0.8874636979670861, 'Val Loss': 0.42048663605864234, 'Val Accuracy': 0.8500967117988395, 'Val Precision': 0.845315035260264, 'Val Recall': 0.8500967117988395}\n"
     ]
    },
    {
     "name": "stderr",
     "output_type": "stream",
     "text": [
      "Epoch(s):  39%|\u001b[31m███▉      \u001b[0m| 97/250 [10:29:24<16:18:22, 383.68s/it]"
     ]
    },
    {
     "name": "stdout",
     "output_type": "stream",
     "text": [
      "{'Epoch': 97, 'Train Loss': 0.29704060015613826, 'Train Accuracy': 0.9017424975798645, 'Val Loss': 0.4491174994609677, 'Val Accuracy': 0.8636363636363636, 'Val Precision': 0.871952995448923, 'Val Recall': 0.8636363636363636}\n"
     ]
    },
    {
     "name": "stderr",
     "output_type": "stream",
     "text": [
      "Epoch(s):  39%|\u001b[31m███▉      \u001b[0m| 98/250 [10:35:45<16:09:32, 382.72s/it]"
     ]
    },
    {
     "name": "stdout",
     "output_type": "stream",
     "text": [
      "{'Epoch': 98, 'Train Loss': 0.27760586265652554, 'Train Accuracy': 0.9048886737657309, 'Val Loss': 0.4272612350491377, 'Val Accuracy': 0.867504835589942, 'Val Precision': 0.8670232625168902, 'Val Recall': 0.867504835589942}\n"
     ]
    },
    {
     "name": "stderr",
     "output_type": "stream",
     "text": [
      "Epoch(s):  40%|\u001b[31m███▉      \u001b[0m| 99/250 [10:42:04<16:00:53, 381.81s/it]"
     ]
    },
    {
     "name": "stdout",
     "output_type": "stream",
     "text": [
      "{'Epoch': 99, 'Train Loss': 0.27883417425500984, 'Train Accuracy': 0.9051306873184899, 'Val Loss': 0.4335544724572593, 'Val Accuracy': 0.8704061895551257, 'Val Precision': 0.868106455017914, 'Val Recall': 0.8704061895551257}\n"
     ]
    },
    {
     "name": "stderr",
     "output_type": "stream",
     "text": [
      "Epoch(s):  40%|\u001b[31m████      \u001b[0m| 100/250 [10:48:24<15:53:04, 381.23s/it]"
     ]
    },
    {
     "name": "stdout",
     "output_type": "stream",
     "text": [
      "{'Epoch': 100, 'Train Loss': 0.24329892783061668, 'Train Accuracy': 0.914811229428848, 'Val Loss': 0.4046173134854493, 'Val Accuracy': 0.8733075435203095, 'Val Precision': 0.8737270101840952, 'Val Recall': 0.8733075435203095}\n"
     ]
    },
    {
     "name": "stderr",
     "output_type": "stream",
     "text": [
      "Epoch(s):  40%|\u001b[31m████      \u001b[0m| 101/250 [10:54:45<15:46:11, 381.02s/it]"
     ]
    },
    {
     "name": "stdout",
     "output_type": "stream",
     "text": [
      "{'Epoch': 101, 'Train Loss': 0.22807495281134882, 'Train Accuracy': 0.9213455953533398, 'Val Loss': 0.3946541131688998, 'Val Accuracy': 0.8752417794970987, 'Val Precision': 0.878246887880259, 'Val Recall': 0.8752417794970987}\n"
     ]
    },
    {
     "name": "stderr",
     "output_type": "stream",
     "text": [
      "Epoch(s):  41%|\u001b[31m████      \u001b[0m| 102/250 [11:01:18<15:48:36, 384.57s/it]"
     ]
    },
    {
     "name": "stdout",
     "output_type": "stream",
     "text": [
      "{'Epoch': 102, 'Train Loss': 0.22091009610111853, 'Train Accuracy': 0.9208615682478218, 'Val Loss': 0.44878422669582785, 'Val Accuracy': 0.8655705996131529, 'Val Precision': 0.8698781757374194, 'Val Recall': 0.8655705996131529}\n"
     ]
    },
    {
     "name": "stderr",
     "output_type": "stream",
     "text": [
      "Epoch(s):  41%|\u001b[31m████      \u001b[0m| 103/250 [11:08:10<16:02:50, 392.99s/it]"
     ]
    },
    {
     "name": "stdout",
     "output_type": "stream",
     "text": [
      "{'Epoch': 103, 'Train Loss': 0.20182704202593466, 'Train Accuracy': 0.930784123910939, 'Val Loss': 0.4213637653218869, 'Val Accuracy': 0.879110251450677, 'Val Precision': 0.881598742274622, 'Val Recall': 0.879110251450677}\n"
     ]
    },
    {
     "name": "stderr",
     "output_type": "stream",
     "text": [
      "Epoch(s):  42%|\u001b[31m████▏     \u001b[0m| 104/250 [11:15:03<16:10:47, 398.96s/it]"
     ]
    },
    {
     "name": "stdout",
     "output_type": "stream",
     "text": [
      "{'Epoch': 104, 'Train Loss': 0.18656441061550744, 'Train Accuracy': 0.9346563407550823, 'Val Loss': 0.4028654318087949, 'Val Accuracy': 0.8771760154738878, 'Val Precision': 0.8822343764867059, 'Val Recall': 0.8771760154738878}\n"
     ]
    },
    {
     "name": "stderr",
     "output_type": "stream",
     "text": [
      "Epoch(s):  42%|\u001b[31m████▏     \u001b[0m| 105/250 [11:21:55<16:13:39, 402.89s/it]"
     ]
    },
    {
     "name": "stdout",
     "output_type": "stream",
     "text": [
      "{'Epoch': 105, 'Train Loss': 0.1644327770352263, 'Train Accuracy': 0.9455469506292352, 'Val Loss': 0.41436523316750445, 'Val Accuracy': 0.8839458413926499, 'Val Precision': 0.892621107794389, 'Val Recall': 0.8839458413926499}\n",
      "{'Epoch': 106, 'Train Loss': 0.15926260485009985, 'Train Accuracy': 0.9433688286544046, 'Val Loss': 0.46078448174521325, 'Val Accuracy': 0.8646034816247582, 'Val Precision': 0.8781363239264341, 'Val Recall': 0.8646034816247582}\n"
     ]
    },
    {
     "name": "stderr",
     "output_type": "stream",
     "text": [
      "Epoch(s):  43%|\u001b[31m████▎     \u001b[0m| 107/250 [11:35:19<15:59:22, 402.54s/it]"
     ]
    },
    {
     "name": "stdout",
     "output_type": "stream",
     "text": [
      "{'Epoch': 107, 'Train Loss': 0.1758958684965073, 'Train Accuracy': 0.9382865440464666, 'Val Loss': 0.39682751530064986, 'Val Accuracy': 0.8858800773694391, 'Val Precision': 0.8844624073006261, 'Val Recall': 0.8858800773694391}\n"
     ]
    },
    {
     "name": "stderr",
     "output_type": "stream",
     "text": [
      "Epoch(s):  43%|\u001b[31m████▎     \u001b[0m| 108/250 [11:41:54<15:47:08, 400.20s/it]"
     ]
    },
    {
     "name": "stdout",
     "output_type": "stream",
     "text": [
      "{'Epoch': 108, 'Train Loss': 0.154566969382253, 'Train Accuracy': 0.9457889641819942, 'Val Loss': 0.4342961918992492, 'Val Accuracy': 0.8771760154738878, 'Val Precision': 0.8864355783535776, 'Val Recall': 0.8771760154738878}\n",
      "{'Epoch': 109, 'Train Loss': 0.14545069770971997, 'Train Accuracy': 0.9479670861568248, 'Val Loss': 0.515572560360082, 'Val Accuracy': 0.8704061895551257, 'Val Precision': 0.8701346641313774, 'Val Recall': 0.8704061895551257}\n"
     ]
    },
    {
     "name": "stderr",
     "output_type": "stream",
     "text": [
      "Epoch(s):  44%|\u001b[31m████▍     \u001b[0m| 110/250 [11:54:52<15:21:45, 395.04s/it]"
     ]
    },
    {
     "name": "stdout",
     "output_type": "stream",
     "text": [
      "{'Epoch': 110, 'Train Loss': 0.13444697613846762, 'Train Accuracy': 0.9532913843175218, 'Val Loss': 0.5363220081481044, 'Val Accuracy': 0.874274661508704, 'Val Precision': 0.8837356520195833, 'Val Recall': 0.874274661508704}\n"
     ]
    },
    {
     "name": "stderr",
     "output_type": "stream",
     "text": [
      "Epoch(s):  44%|\u001b[31m████▍     \u001b[0m| 111/250 [12:01:52<15:32:35, 402.56s/it]"
     ]
    },
    {
     "name": "stdout",
     "output_type": "stream",
     "text": [
      "{'Epoch': 111, 'Train Loss': 0.15220517402539088, 'Train Accuracy': 0.9465150048402711, 'Val Loss': 0.3985873246939333, 'Val Accuracy': 0.8936170212765957, 'Val Precision': 0.8959672105161646, 'Val Recall': 0.8936170212765957}\n"
     ]
    },
    {
     "name": "stderr",
     "output_type": "stream",
     "text": [
      "Epoch(s):  45%|\u001b[31m████▍     \u001b[0m| 112/250 [12:08:31<15:23:15, 401.42s/it]"
     ]
    },
    {
     "name": "stdout",
     "output_type": "stream",
     "text": [
      "{'Epoch': 112, 'Train Loss': 0.11743323723478809, 'Train Accuracy': 0.9595837366892546, 'Val Loss': 0.4784752099362847, 'Val Accuracy': 0.8810444874274661, 'Val Precision': 0.8817222595107734, 'Val Recall': 0.8810444874274661}\n"
     ]
    },
    {
     "name": "stderr",
     "output_type": "stream",
     "text": [
      "Epoch(s):  45%|\u001b[31m████▌     \u001b[0m| 113/250 [12:15:04<15:11:02, 398.99s/it]"
     ]
    },
    {
     "name": "stdout",
     "output_type": "stream",
     "text": [
      "{'Epoch': 113, 'Train Loss': 0.11541099610318642, 'Train Accuracy': 0.9617618586640851, 'Val Loss': 0.47043170567082526, 'Val Accuracy': 0.8839458413926499, 'Val Precision': 0.8835111677251616, 'Val Recall': 0.8839458413926499}\n"
     ]
    },
    {
     "name": "stderr",
     "output_type": "stream",
     "text": [
      "Epoch(s):  46%|\u001b[31m████▌     \u001b[0m| 114/250 [12:21:46<15:06:24, 399.89s/it]"
     ]
    },
    {
     "name": "stdout",
     "output_type": "stream",
     "text": [
      "{'Epoch': 114, 'Train Loss': 0.12616848805660838, 'Train Accuracy': 0.9561955469506292, 'Val Loss': 0.4307619408202859, 'Val Accuracy': 0.9032882011605415, 'Val Precision': 0.9041510248993907, 'Val Recall': 0.9032882011605415}\n"
     ]
    },
    {
     "name": "stderr",
     "output_type": "stream",
     "text": [
      "Epoch(s):  46%|\u001b[31m████▌     \u001b[0m| 115/250 [12:28:19<14:55:12, 397.87s/it]"
     ]
    },
    {
     "name": "stdout",
     "output_type": "stream",
     "text": [
      "{'Epoch': 115, 'Train Loss': 0.09484195089021956, 'Train Accuracy': 0.968054211035818, 'Val Loss': 0.5217110557558604, 'Val Accuracy': 0.8849129593810445, 'Val Precision': 0.8925795398850028, 'Val Recall': 0.8849129593810445}\n"
     ]
    },
    {
     "name": "stderr",
     "output_type": "stream",
     "text": [
      "Epoch(s):  46%|\u001b[31m████▋     \u001b[0m| 116/250 [12:34:44<14:40:09, 394.10s/it]"
     ]
    },
    {
     "name": "stdout",
     "output_type": "stream",
     "text": [
      "{'Epoch': 116, 'Train Loss': 0.1274989384711265, 'Train Accuracy': 0.9552274927395934, 'Val Loss': 0.5768946049513313, 'Val Accuracy': 0.8762088974854932, 'Val Precision': 0.882100318265862, 'Val Recall': 0.8762088974854932}\n",
      "{'Epoch': 117, 'Train Loss': 0.11296411278602779, 'Train Accuracy': 0.9571636011616651, 'Val Loss': 0.48443598450388753, 'Val Accuracy': 0.8955512572533849, 'Val Precision': 0.9040039530535722, 'Val Recall': 0.8955512572533849}\n"
     ]
    },
    {
     "name": "stderr",
     "output_type": "stream",
     "text": [
      "Epoch(s):  47%|\u001b[31m████▋     \u001b[0m| 118/250 [12:47:43<14:21:37, 391.65s/it]"
     ]
    },
    {
     "name": "stdout",
     "output_type": "stream",
     "text": [
      "{'Epoch': 118, 'Train Loss': 0.09914424401009081, 'Train Accuracy': 0.9653920619554696, 'Val Loss': 0.5314435274552894, 'Val Accuracy': 0.8897485493230174, 'Val Precision': 0.8865275846063, 'Val Recall': 0.8897485493230174}\n"
     ]
    },
    {
     "name": "stderr",
     "output_type": "stream",
     "text": [
      "Epoch(s):  48%|\u001b[31m████▊     \u001b[0m| 119/250 [12:54:09<14:11:06, 389.82s/it]"
     ]
    },
    {
     "name": "stdout",
     "output_type": "stream",
     "text": [
      "{'Epoch': 119, 'Train Loss': 0.09546770606690912, 'Train Accuracy': 0.9685382381413359, 'Val Loss': 0.482799920351737, 'Val Accuracy': 0.8965183752417795, 'Val Precision': 0.8995201502518879, 'Val Recall': 0.8965183752417795}\n"
     ]
    },
    {
     "name": "stderr",
     "output_type": "stream",
     "text": [
      "Epoch(s):  48%|\u001b[31m████▊     \u001b[0m| 120/250 [13:00:29<13:58:14, 386.88s/it]"
     ]
    },
    {
     "name": "stdout",
     "output_type": "stream",
     "text": [
      "{'Epoch': 120, 'Train Loss': 0.10540756360502081, 'Train Accuracy': 0.9670861568247822, 'Val Loss': 0.45726860369278044, 'Val Accuracy': 0.8897485493230174, 'Val Precision': 0.8914946540734573, 'Val Recall': 0.8897485493230174}\n"
     ]
    },
    {
     "name": "stderr",
     "output_type": "stream",
     "text": [
      "Epoch(s):  48%|\u001b[31m████▊     \u001b[0m| 121/250 [13:06:48<13:46:57, 384.63s/it]"
     ]
    },
    {
     "name": "stdout",
     "output_type": "stream",
     "text": [
      "{'Epoch': 121, 'Train Loss': 0.10225185388718276, 'Train Accuracy': 0.9661181026137464, 'Val Loss': 0.5316327141221756, 'Val Accuracy': 0.8878143133462283, 'Val Precision': 0.8839033449497086, 'Val Recall': 0.8878143133462283}\n"
     ]
    },
    {
     "name": "stderr",
     "output_type": "stream",
     "text": [
      "Epoch(s):  49%|\u001b[31m████▉     \u001b[0m| 122/250 [13:13:08<13:37:19, 383.12s/it]"
     ]
    },
    {
     "name": "stdout",
     "output_type": "stream",
     "text": [
      "{'Epoch': 122, 'Train Loss': 0.0967666008539895, 'Train Accuracy': 0.967812197483059, 'Val Loss': 0.6779131122157336, 'Val Accuracy': 0.8665377176015474, 'Val Precision': 0.8986028133354004, 'Val Recall': 0.8665377176015474}\n",
      "{'Epoch': 123, 'Train Loss': 0.08998991605775943, 'Train Accuracy': 0.9712003872216844, 'Val Loss': 0.5761554659614306, 'Val Accuracy': 0.8945841392649904, 'Val Precision': 0.893367102133355, 'Val Recall': 0.8945841392649904}\n"
     ]
    },
    {
     "name": "stderr",
     "output_type": "stream",
     "text": [
      "Epoch(s):  50%|\u001b[31m████▉     \u001b[0m| 124/250 [13:25:55<13:26:06, 383.86s/it]"
     ]
    },
    {
     "name": "stdout",
     "output_type": "stream",
     "text": [
      "{'Epoch': 124, 'Train Loss': 0.10372304208634128, 'Train Accuracy': 0.9646660212971926, 'Val Loss': 0.5036865738203722, 'Val Accuracy': 0.8868471953578336, 'Val Precision': 0.8961829250125277, 'Val Recall': 0.8868471953578336}\n",
      "{'Epoch': 125, 'Train Loss': 0.09760901359121077, 'Train Accuracy': 0.9668441432720233, 'Val Loss': 0.5573078313023591, 'Val Accuracy': 0.8839458413926499, 'Val Precision': 0.8973752436718272, 'Val Recall': 0.8839458413926499}\n"
     ]
    },
    {
     "name": "stderr",
     "output_type": "stream",
     "text": [
      "Epoch(s):  50%|\u001b[31m█████     \u001b[0m| 126/250 [13:38:56<13:19:59, 387.09s/it]"
     ]
    },
    {
     "name": "stdout",
     "output_type": "stream",
     "text": [
      "{'Epoch': 126, 'Train Loss': 0.09833347649919409, 'Train Accuracy': 0.9690222652468539, 'Val Loss': 0.5187989040098379, 'Val Accuracy': 0.8897485493230174, 'Val Precision': 0.8871839009460002, 'Val Recall': 0.8897485493230174}\n"
     ]
    },
    {
     "name": "stderr",
     "output_type": "stream",
     "text": [
      "Epoch(s):  51%|\u001b[31m█████     \u001b[0m| 127/250 [13:45:26<13:15:13, 387.91s/it]"
     ]
    },
    {
     "name": "stdout",
     "output_type": "stream",
     "text": [
      "{'Epoch': 127, 'Train Loss': 0.15296197500484177, 'Train Accuracy': 0.9503872216844144, 'Val Loss': 0.5225885520382479, 'Val Accuracy': 0.8820116054158608, 'Val Precision': 0.8809186904626739, 'Val Recall': 0.8820116054158608}\n"
     ]
    },
    {
     "name": "stderr",
     "output_type": "stream",
     "text": [
      "Epoch(s):  51%|\u001b[31m█████     \u001b[0m| 128/250 [13:51:59<13:11:56, 389.48s/it]"
     ]
    },
    {
     "name": "stdout",
     "output_type": "stream",
     "text": [
      "{'Epoch': 128, 'Train Loss': 0.09923630012860019, 'Train Accuracy': 0.967812197483059, 'Val Loss': 0.4931658355044559, 'Val Accuracy': 0.8965183752417795, 'Val Precision': 0.904023610618702, 'Val Recall': 0.8965183752417795}\n"
     ]
    },
    {
     "name": "stderr",
     "output_type": "stream",
     "text": [
      "Epoch(s):  52%|\u001b[31m█████▏    \u001b[0m| 129/250 [13:58:18<12:59:14, 386.40s/it]"
     ]
    },
    {
     "name": "stdout",
     "output_type": "stream",
     "text": [
      "{'Epoch': 129, 'Train Loss': 0.06711031047679694, 'Train Accuracy': 0.9762826718296225, 'Val Loss': 0.49269057579434816, 'Val Accuracy': 0.9003868471953579, 'Val Precision': 0.9035889637189735, 'Val Recall': 0.9003868471953579}\n"
     ]
    },
    {
     "name": "stderr",
     "output_type": "stream",
     "text": [
      "Epoch(s):  52%|\u001b[31m█████▏    \u001b[0m| 130/250 [14:04:37<12:48:29, 384.25s/it]"
     ]
    },
    {
     "name": "stdout",
     "output_type": "stream",
     "text": [
      "{'Epoch': 130, 'Train Loss': 0.09666529385811576, 'Train Accuracy': 0.9687802516940949, 'Val Loss': 0.5712551038891084, 'Val Accuracy': 0.8994197292069632, 'Val Precision': 0.9022491980495705, 'Val Recall': 0.8994197292069632}\n"
     ]
    },
    {
     "name": "stderr",
     "output_type": "stream",
     "text": [
      "Epoch(s):  52%|\u001b[31m█████▏    \u001b[0m| 131/250 [14:10:57<12:39:05, 382.74s/it]"
     ]
    },
    {
     "name": "stdout",
     "output_type": "stream",
     "text": [
      "{'Epoch': 131, 'Train Loss': 0.102653669660014, 'Train Accuracy': 0.9661181026137464, 'Val Loss': 0.5128350204679288, 'Val Accuracy': 0.8965183752417795, 'Val Precision': 0.904915854049569, 'Val Recall': 0.8965183752417795}\n"
     ]
    },
    {
     "name": "stderr",
     "output_type": "stream",
     "text": [
      "Epoch(s):  53%|\u001b[31m█████▎    \u001b[0m| 132/250 [14:17:16<12:30:52, 381.80s/it]"
     ]
    },
    {
     "name": "stdout",
     "output_type": "stream",
     "text": [
      "{'Epoch': 132, 'Train Loss': 0.09169502894410927, 'Train Accuracy': 0.9724104549854792, 'Val Loss': 0.5833455677453178, 'Val Accuracy': 0.8849129593810445, 'Val Precision': 0.890961237076501, 'Val Recall': 0.8849129593810445}\n",
      "{'Epoch': 133, 'Train Loss': 0.08711051395724004, 'Train Accuracy': 0.9719264278799613, 'Val Loss': 0.5039301876417189, 'Val Accuracy': 0.8984526112185687, 'Val Precision': 0.9005303788392083, 'Val Recall': 0.8984526112185687}\n"
     ]
    },
    {
     "name": "stderr",
     "output_type": "stream",
     "text": [
      "Epoch(s):  53%|\u001b[31m█████▎    \u001b[0m| 133/250 [14:23:41<12:26:08, 382.64s/it]c:\\Users\\Sid\\AppData\\Local\\Programs\\Python\\Python39\\lib\\site-packages\\sklearn\\metrics\\_classification.py:1517: UndefinedMetricWarning: Precision is ill-defined and being set to 0.0 in labels with no predicted samples. Use `zero_division` parameter to control this behavior.\n",
      "  _warn_prf(average, modifier, f\"{metric.capitalize()} is\", len(result))\n",
      "Epoch(s):  54%|\u001b[31m█████▎    \u001b[0m| 134/250 [14:30:10<12:23:24, 384.52s/it]"
     ]
    },
    {
     "name": "stdout",
     "output_type": "stream",
     "text": [
      "{'Epoch': 134, 'Train Loss': 0.08532591472865877, 'Train Accuracy': 0.9719264278799613, 'Val Loss': 0.7079756039579829, 'Val Accuracy': 0.874274661508704, 'Val Precision': 0.8813461974432375, 'Val Recall': 0.874274661508704}\n"
     ]
    },
    {
     "name": "stderr",
     "output_type": "stream",
     "text": [
      "Epoch(s):  54%|\u001b[31m█████▍    \u001b[0m| 135/250 [14:36:29<12:13:58, 382.94s/it]"
     ]
    },
    {
     "name": "stdout",
     "output_type": "stream",
     "text": [
      "{'Epoch': 135, 'Train Loss': 0.08395418664462986, 'Train Accuracy': 0.9709583736689255, 'Val Loss': 0.5208119047429556, 'Val Accuracy': 0.8781431334622823, 'Val Precision': 0.9028609838020393, 'Val Recall': 0.8781431334622823}\n"
     ]
    },
    {
     "name": "stderr",
     "output_type": "stream",
     "text": [
      "Epoch(s):  54%|\u001b[31m█████▍    \u001b[0m| 136/250 [14:42:49<12:05:46, 381.98s/it]"
     ]
    },
    {
     "name": "stdout",
     "output_type": "stream",
     "text": [
      "{'Epoch': 136, 'Train Loss': 0.09004510191714654, 'Train Accuracy': 0.9707163601161665, 'Val Loss': 0.4949742325683474, 'Val Accuracy': 0.8994197292069632, 'Val Precision': 0.9159110416194831, 'Val Recall': 0.8994197292069632}\n"
     ]
    },
    {
     "name": "stderr",
     "output_type": "stream",
     "text": [
      "Epoch(s):  55%|\u001b[31m█████▍    \u001b[0m| 137/250 [14:49:08<11:57:46, 381.12s/it]"
     ]
    },
    {
     "name": "stdout",
     "output_type": "stream",
     "text": [
      "{'Epoch': 137, 'Train Loss': 0.07270763342103413, 'Train Accuracy': 0.9760406582768635, 'Val Loss': 0.46208866237609003, 'Val Accuracy': 0.9061895551257253, 'Val Precision': 0.9103046884357294, 'Val Recall': 0.9061895551257253}\n"
     ]
    },
    {
     "name": "stderr",
     "output_type": "stream",
     "text": [
      "Epoch(s):  55%|\u001b[31m█████▌    \u001b[0m| 138/250 [14:55:27<11:50:23, 380.57s/it]"
     ]
    },
    {
     "name": "stdout",
     "output_type": "stream",
     "text": [
      "{'Epoch': 138, 'Train Loss': 0.12245454537125104, 'Train Accuracy': 0.957647628267183, 'Val Loss': 0.4105877422978385, 'Val Accuracy': 0.8858800773694391, 'Val Precision': 0.8953898615890877, 'Val Recall': 0.8858800773694391}\n"
     ]
    },
    {
     "name": "stderr",
     "output_type": "stream",
     "text": [
      "Epoch(s):  56%|\u001b[31m█████▌    \u001b[0m| 139/250 [15:01:57<11:49:26, 383.48s/it]"
     ]
    },
    {
     "name": "stdout",
     "output_type": "stream",
     "text": [
      "{'Epoch': 139, 'Train Loss': 0.09645926448695614, 'Train Accuracy': 0.968054211035818, 'Val Loss': 0.5953855615202673, 'Val Accuracy': 0.8839458413926499, 'Val Precision': 0.882925992476243, 'Val Recall': 0.8839458413926499}\n"
     ]
    },
    {
     "name": "stderr",
     "output_type": "stream",
     "text": [
      "Epoch(s):  56%|\u001b[31m█████▌    \u001b[0m| 140/250 [15:08:22<11:43:35, 383.78s/it]"
     ]
    },
    {
     "name": "stdout",
     "output_type": "stream",
     "text": [
      "{'Epoch': 140, 'Train Loss': 0.09162993178408467, 'Train Accuracy': 0.968296224588577, 'Val Loss': 0.4951033368181225, 'Val Accuracy': 0.9013539651837524, 'Val Precision': 0.902598046782201, 'Val Recall': 0.9013539651837524}\n",
      "{'Epoch': 141, 'Train Loss': 0.07518658722292598, 'Train Accuracy': 0.9794288480154889, 'Val Loss': 0.47084058772262116, 'Val Accuracy': 0.8897485493230174, 'Val Precision': 0.8923033813075482, 'Val Recall': 0.8897485493230174}\n"
     ]
    },
    {
     "name": "stderr",
     "output_type": "stream",
     "text": [
      "Epoch(s):  56%|\u001b[31m█████▋    \u001b[0m| 141/250 [15:14:41<11:34:52, 382.50s/it]"
     ]
    },
    {
     "name": "stdout",
     "output_type": "stream",
     "text": [
      "{'Epoch': 142, 'Train Loss': 0.09175903439207378, 'Train Accuracy': 0.9673281703775412, 'Val Loss': 0.3918370478365642, 'Val Accuracy': 0.9052224371373307, 'Val Precision': 0.9135767654740767, 'Val Recall': 0.9052224371373307}\n"
     ]
    },
    {
     "name": "stderr",
     "output_type": "stream",
     "text": [
      "Epoch(s):  57%|\u001b[31m█████▋    \u001b[0m| 143/250 [15:27:21<11:19:39, 381.12s/it]"
     ]
    },
    {
     "name": "stdout",
     "output_type": "stream",
     "text": [
      "{'Epoch': 143, 'Train Loss': 0.08114942719638885, 'Train Accuracy': 0.9760406582768635, 'Val Loss': 0.40369619574317206, 'Val Accuracy': 0.9032882011605415, 'Val Precision': 0.900457263680844, 'Val Recall': 0.9032882011605415}\n"
     ]
    },
    {
     "name": "stderr",
     "output_type": "stream",
     "text": [
      "Epoch(s):  58%|\u001b[31m█████▊    \u001b[0m| 144/250 [15:33:42<11:13:30, 381.23s/it]"
     ]
    },
    {
     "name": "stdout",
     "output_type": "stream",
     "text": [
      "{'Epoch': 144, 'Train Loss': 0.08883564880364539, 'Train Accuracy': 0.9702323330106486, 'Val Loss': 0.44081783211463166, 'Val Accuracy': 0.9032882011605415, 'Val Precision': 0.9125765994646478, 'Val Recall': 0.9032882011605415}\n"
     ]
    },
    {
     "name": "stderr",
     "output_type": "stream",
     "text": [
      "Epoch(s):  58%|\u001b[31m█████▊    \u001b[0m| 145/250 [15:40:16<11:13:44, 385.00s/it]"
     ]
    },
    {
     "name": "stdout",
     "output_type": "stream",
     "text": [
      "{'Epoch': 145, 'Train Loss': 0.060345787937010995, 'Train Accuracy': 0.9811229428848015, 'Val Loss': 0.4343548612131949, 'Val Accuracy': 0.9148936170212766, 'Val Precision': 0.9170688979536509, 'Val Recall': 0.9148936170212766}\n"
     ]
    },
    {
     "name": "stderr",
     "output_type": "stream",
     "text": [
      "Epoch(s):  58%|\u001b[31m█████▊    \u001b[0m| 146/250 [15:46:35<11:04:18, 383.26s/it]"
     ]
    },
    {
     "name": "stdout",
     "output_type": "stream",
     "text": [
      "{'Epoch': 146, 'Train Loss': 0.055808680011518126, 'Train Accuracy': 0.9801548886737658, 'Val Loss': 0.4181499641616868, 'Val Accuracy': 0.902321083172147, 'Val Precision': 0.9043555301801255, 'Val Recall': 0.902321083172147}\n"
     ]
    },
    {
     "name": "stderr",
     "output_type": "stream",
     "text": [
      "Epoch(s):  59%|\u001b[31m█████▉    \u001b[0m| 147/250 [15:52:56<10:56:23, 382.36s/it]"
     ]
    },
    {
     "name": "stdout",
     "output_type": "stream",
     "text": [
      "{'Epoch': 147, 'Train Loss': 0.09345235497525188, 'Train Accuracy': 0.9699903194578896, 'Val Loss': 0.39791792744788557, 'Val Accuracy': 0.9061895551257253, 'Val Precision': 0.9156828415677861, 'Val Recall': 0.9061895551257253}\n"
     ]
    },
    {
     "name": "stderr",
     "output_type": "stream",
     "text": [
      "Epoch(s):  59%|\u001b[31m█████▉    \u001b[0m| 148/250 [15:59:15<10:48:30, 381.48s/it]"
     ]
    },
    {
     "name": "stdout",
     "output_type": "stream",
     "text": [
      "{'Epoch': 148, 'Train Loss': 0.06327538690821363, 'Train Accuracy': 0.9782187802516941, 'Val Loss': 0.49359218142834344, 'Val Accuracy': 0.8965183752417795, 'Val Precision': 0.8973492006580642, 'Val Recall': 0.8965183752417795}\n",
      "{'Epoch': 149, 'Train Loss': 0.05511302355302894, 'Train Accuracy': 0.9823330106485963, 'Val Loss': 0.5531868360971343, 'Val Accuracy': 0.8878143133462283, 'Val Precision': 0.9073062267811707, 'Val Recall': 0.8878143133462283}\n"
     ]
    },
    {
     "name": "stderr",
     "output_type": "stream",
     "text": [
      "Epoch(s):  60%|\u001b[31m██████    \u001b[0m| 150/250 [16:11:59<10:36:47, 382.08s/it]"
     ]
    },
    {
     "name": "stdout",
     "output_type": "stream",
     "text": [
      "{'Epoch': 150, 'Train Loss': 0.07158781712846524, 'Train Accuracy': 0.9714424007744433, 'Val Loss': 0.4905401592545856, 'Val Accuracy': 0.8994197292069632, 'Val Precision': 0.9071920305671528, 'Val Recall': 0.8994197292069632}\n"
     ]
    },
    {
     "name": "stderr",
     "output_type": "stream",
     "text": [
      "Epoch(s):  60%|\u001b[31m██████    \u001b[0m| 151/250 [16:18:30<10:34:41, 384.66s/it]"
     ]
    },
    {
     "name": "stdout",
     "output_type": "stream",
     "text": [
      "{'Epoch': 151, 'Train Loss': 0.05992544781387776, 'Train Accuracy': 0.978702807357212, 'Val Loss': 0.6611297250152767, 'Val Accuracy': 0.8781431334622823, 'Val Precision': 0.8861650852983712, 'Val Recall': 0.8781431334622823}\n"
     ]
    },
    {
     "name": "stderr",
     "output_type": "stream",
     "text": [
      "Epoch(s):  61%|\u001b[31m██████    \u001b[0m| 152/250 [16:24:49<10:25:32, 382.99s/it]"
     ]
    },
    {
     "name": "stdout",
     "output_type": "stream",
     "text": [
      "{'Epoch': 152, 'Train Loss': 0.05865928245662682, 'Train Accuracy': 0.9811229428848015, 'Val Loss': 0.6133549147789801, 'Val Accuracy': 0.8955512572533849, 'Val Precision': 0.8940830247961725, 'Val Recall': 0.8955512572533849}\n"
     ]
    },
    {
     "name": "stderr",
     "output_type": "stream",
     "text": [
      "Epoch(s):  61%|\u001b[31m██████    \u001b[0m| 153/250 [16:31:08<10:17:15, 381.81s/it]"
     ]
    },
    {
     "name": "stdout",
     "output_type": "stream",
     "text": [
      "{'Epoch': 153, 'Train Loss': 0.048417058015150304, 'Train Accuracy': 0.9828170377541142, 'Val Loss': 0.49568496285008645, 'Val Accuracy': 0.9003868471953579, 'Val Precision': 0.9001683126152289, 'Val Recall': 0.9003868471953579}\n"
     ]
    },
    {
     "name": "stderr",
     "output_type": "stream",
     "text": [
      "Epoch(s):  62%|\u001b[31m██████▏   \u001b[0m| 154/250 [16:37:27<10:09:36, 381.00s/it]"
     ]
    },
    {
     "name": "stdout",
     "output_type": "stream",
     "text": [
      "{'Epoch': 154, 'Train Loss': 0.028912325291900277, 'Train Accuracy': 0.9915295256534365, 'Val Loss': 0.5402755493173292, 'Val Accuracy': 0.8926499032882012, 'Val Precision': 0.8981257008734415, 'Val Recall': 0.8926499032882012}\n"
     ]
    },
    {
     "name": "stderr",
     "output_type": "stream",
     "text": [
      "Epoch(s):  62%|\u001b[31m██████▏   \u001b[0m| 155/250 [16:43:47<10:02:43, 380.67s/it]"
     ]
    },
    {
     "name": "stdout",
     "output_type": "stream",
     "text": [
      "{'Epoch': 155, 'Train Loss': 0.0350619186268725, 'Train Accuracy': 0.9876573088092934, 'Val Loss': 0.4714900333753366, 'Val Accuracy': 0.9090909090909091, 'Val Precision': 0.9100190733904318, 'Val Recall': 0.9090909090909091}\n"
     ]
    },
    {
     "name": "stderr",
     "output_type": "stream",
     "text": [
      "Epoch(s):  62%|\u001b[31m██████▏   \u001b[0m| 156/250 [16:50:17<10:00:46, 383.48s/it]"
     ]
    },
    {
     "name": "stdout",
     "output_type": "stream",
     "text": [
      "{'Epoch': 156, 'Train Loss': 0.17313711995670245, 'Train Accuracy': 0.9586156824782188, 'Val Loss': 0.526975215319544, 'Val Accuracy': 0.8423597678916828, 'Val Precision': 0.8413989511844271, 'Val Recall': 0.8423597678916828}\n"
     ]
    },
    {
     "name": "stderr",
     "output_type": "stream",
     "text": [
      "Epoch(s):  63%|\u001b[31m██████▎   \u001b[0m| 157/250 [16:56:37<9:52:30, 382.26s/it] "
     ]
    },
    {
     "name": "stdout",
     "output_type": "stream",
     "text": [
      "{'Epoch': 157, 'Train Loss': 0.27379151874825963, 'Train Accuracy': 0.9044046466602129, 'Val Loss': 0.3689282286983843, 'Val Accuracy': 0.8887814313346228, 'Val Precision': 0.8884781170992346, 'Val Recall': 0.8887814313346228}\n"
     ]
    },
    {
     "name": "stderr",
     "output_type": "stream",
     "text": [
      "Epoch(s):  63%|\u001b[31m██████▎   \u001b[0m| 158/250 [17:02:56<9:44:46, 381.38s/it]"
     ]
    },
    {
     "name": "stdout",
     "output_type": "stream",
     "text": [
      "{'Epoch': 158, 'Train Loss': 0.15833893454203052, 'Train Accuracy': 0.9479670861568248, 'Val Loss': 0.3711699143741638, 'Val Accuracy': 0.8994197292069632, 'Val Precision': 0.9008244546820304, 'Val Recall': 0.8994197292069632}\n",
      "{'Epoch': 159, 'Train Loss': 0.11583964406057803, 'Train Accuracy': 0.9605517909002904, 'Val Loss': 0.36796809122584256, 'Val Accuracy': 0.8965183752417795, 'Val Precision': 0.8946473840332726, 'Val Recall': 0.8965183752417795}\n"
     ]
    },
    {
     "name": "stderr",
     "output_type": "stream",
     "text": [
      "Epoch(s):  64%|\u001b[31m██████▎   \u001b[0m| 159/250 [17:09:16<9:37:51, 381.00s/it]"
     ]
    },
    {
     "name": "stdout",
     "output_type": "stream",
     "text": [
      "{'Epoch': 160, 'Train Loss': 0.09065402426478128, 'Train Accuracy': 0.9695062923523717, 'Val Loss': 0.40078954208046735, 'Val Accuracy': 0.9042553191489362, 'Val Precision': 0.9042904572161364, 'Val Recall': 0.9042553191489362}\n"
     ]
    },
    {
     "name": "stderr",
     "output_type": "stream",
     "text": [
      "Epoch(s):  64%|\u001b[31m██████▍   \u001b[0m| 161/250 [17:22:04<9:27:55, 382.87s/it]"
     ]
    },
    {
     "name": "stdout",
     "output_type": "stream",
     "text": [
      "{'Epoch': 161, 'Train Loss': 0.06215219923320252, 'Train Accuracy': 0.9760406582768635, 'Val Loss': 0.4451420101459147, 'Val Accuracy': 0.9003868471953579, 'Val Precision': 0.9014080433460798, 'Val Recall': 0.9003868471953579}\n"
     ]
    },
    {
     "name": "stderr",
     "output_type": "stream",
     "text": [
      "Epoch(s):  65%|\u001b[31m██████▍   \u001b[0m| 162/250 [17:28:25<9:21:00, 382.50s/it]"
     ]
    },
    {
     "name": "stdout",
     "output_type": "stream",
     "text": [
      "{'Epoch': 162, 'Train Loss': 0.05057789465245717, 'Train Accuracy': 0.9823330106485963, 'Val Loss': 0.5078126046786146, 'Val Accuracy': 0.9013539651837524, 'Val Precision': 0.9002500770122595, 'Val Recall': 0.9013539651837524}\n"
     ]
    },
    {
     "name": "stderr",
     "output_type": "stream",
     "text": [
      "Epoch(s):  65%|\u001b[31m██████▌   \u001b[0m| 163/250 [17:34:45<9:13:30, 381.73s/it]"
     ]
    },
    {
     "name": "stdout",
     "output_type": "stream",
     "text": [
      "{'Epoch': 163, 'Train Loss': 0.04550693622607901, 'Train Accuracy': 0.9859632139399807, 'Val Loss': 0.5329919058528119, 'Val Accuracy': 0.8965183752417795, 'Val Precision': 0.9001713892427177, 'Val Recall': 0.8965183752417795}\n"
     ]
    },
    {
     "name": "stderr",
     "output_type": "stream",
     "text": [
      "Epoch(s):  66%|\u001b[31m██████▌   \u001b[0m| 164/250 [17:41:05<9:06:03, 380.98s/it]"
     ]
    },
    {
     "name": "stdout",
     "output_type": "stream",
     "text": [
      "{'Epoch': 164, 'Train Loss': 0.031715486017298525, 'Train Accuracy': 0.989593417231365, 'Val Loss': 0.6009257083636594, 'Val Accuracy': 0.9061895551257253, 'Val Precision': 0.9081169307053056, 'Val Recall': 0.9061895551257253}\n",
      "{'Epoch': 165, 'Train Loss': 0.03088258166115625, 'Train Accuracy': 0.989835430784124, 'Val Loss': 0.5529184471045553, 'Val Accuracy': 0.9003868471953579, 'Val Precision': 0.8985304576492266, 'Val Recall': 0.9003868471953579}\n"
     ]
    },
    {
     "name": "stderr",
     "output_type": "stream",
     "text": [
      "Epoch(s):  66%|\u001b[31m██████▋   \u001b[0m| 166/250 [17:53:43<8:52:07, 380.09s/it]"
     ]
    },
    {
     "name": "stdout",
     "output_type": "stream",
     "text": [
      "{'Epoch': 166, 'Train Loss': 0.023003134231438422, 'Train Accuracy': 0.9917715392061955, 'Val Loss': 0.5699537104919168, 'Val Accuracy': 0.9110251450676983, 'Val Precision': 0.9140680724388938, 'Val Recall': 0.9110251450676983}\n"
     ]
    },
    {
     "name": "stderr",
     "output_type": "stream",
     "text": [
      "Epoch(s):  67%|\u001b[31m██████▋   \u001b[0m| 167/250 [18:00:15<8:50:41, 383.63s/it]"
     ]
    },
    {
     "name": "stdout",
     "output_type": "stream",
     "text": [
      "{'Epoch': 167, 'Train Loss': 0.021998222386327836, 'Train Accuracy': 0.9912875121006777, 'Val Loss': 0.7100091083005723, 'Val Accuracy': 0.8994197292069632, 'Val Precision': 0.8979366049414902, 'Val Recall': 0.8994197292069632}\n"
     ]
    },
    {
     "name": "stderr",
     "output_type": "stream",
     "text": [
      "Epoch(s):  67%|\u001b[31m██████▋   \u001b[0m| 168/250 [18:06:46<8:47:32, 386.01s/it]"
     ]
    },
    {
     "name": "stdout",
     "output_type": "stream",
     "text": [
      "{'Epoch': 168, 'Train Loss': 0.03728275105864268, 'Train Accuracy': 0.9859632139399807, 'Val Loss': 0.6109183392123713, 'Val Accuracy': 0.8965183752417795, 'Val Precision': 0.8984019569529618, 'Val Recall': 0.8965183752417795}\n"
     ]
    },
    {
     "name": "stderr",
     "output_type": "stream",
     "text": [
      "Epoch(s):  68%|\u001b[31m██████▊   \u001b[0m| 169/250 [18:13:17<8:42:51, 387.31s/it]"
     ]
    },
    {
     "name": "stdout",
     "output_type": "stream",
     "text": [
      "{'Epoch': 169, 'Train Loss': 0.026674024676489508, 'Train Accuracy': 0.9903194578896418, 'Val Loss': 0.6093667357932225, 'Val Accuracy': 0.8965183752417795, 'Val Precision': 0.9049370210146642, 'Val Recall': 0.8965183752417795}\n"
     ]
    },
    {
     "name": "stderr",
     "output_type": "stream",
     "text": [
      "Epoch(s):  68%|\u001b[31m██████▊   \u001b[0m| 170/250 [18:19:48<8:38:00, 388.50s/it]"
     ]
    },
    {
     "name": "stdout",
     "output_type": "stream",
     "text": [
      "{'Epoch': 170, 'Train Loss': 0.05109146028701205, 'Train Accuracy': 0.9833010648596321, 'Val Loss': 0.5100970038944804, 'Val Accuracy': 0.9052224371373307, 'Val Precision': 0.9040682061936395, 'Val Recall': 0.9052224371373307}\n"
     ]
    },
    {
     "name": "stderr",
     "output_type": "stream",
     "text": [
      "Epoch(s):  68%|\u001b[31m██████▊   \u001b[0m| 171/250 [18:26:19<8:32:29, 389.23s/it]"
     ]
    },
    {
     "name": "stdout",
     "output_type": "stream",
     "text": [
      "{'Epoch': 171, 'Train Loss': 0.025252369412964805, 'Train Accuracy': 0.9920135527589545, 'Val Loss': 0.4979214532650006, 'Val Accuracy': 0.90715667311412, 'Val Precision': 0.9072689874790314, 'Val Recall': 0.90715667311412}\n"
     ]
    },
    {
     "name": "stderr",
     "output_type": "stream",
     "text": [
      "Epoch(s):  69%|\u001b[31m██████▉   \u001b[0m| 172/250 [18:32:39<8:22:19, 386.40s/it]"
     ]
    },
    {
     "name": "stdout",
     "output_type": "stream",
     "text": [
      "{'Epoch': 172, 'Train Loss': 0.023830131020373534, 'Train Accuracy': 0.9915295256534365, 'Val Loss': 0.6821824383979219, 'Val Accuracy': 0.8974854932301741, 'Val Precision': 0.905532645969594, 'Val Recall': 0.8974854932301741}\n",
      "{'Epoch': 173, 'Train Loss': 0.037489367041302575, 'Train Accuracy': 0.9874152952565344, 'Val Loss': 0.530805848152914, 'Val Accuracy': 0.8839458413926499, 'Val Precision': 0.8977224867942417, 'Val Recall': 0.8839458413926499}\n"
     ]
    },
    {
     "name": "stderr",
     "output_type": "stream",
     "text": [
      "Epoch(s):  69%|\u001b[31m██████▉   \u001b[0m| 173/250 [18:39:29<8:24:52, 393.41s/it]"
     ]
    },
    {
     "name": "stdout",
     "output_type": "stream",
     "text": [
      "{'Epoch': 174, 'Train Loss': 0.03807590287435134, 'Train Accuracy': 0.9876573088092934, 'Val Loss': 0.5877128550560043, 'Val Accuracy': 0.8994197292069632, 'Val Precision': 0.9056769356209288, 'Val Recall': 0.8994197292069632}\n"
     ]
    },
    {
     "name": "stderr",
     "output_type": "stream",
     "text": [
      "Epoch(s):  70%|\u001b[31m███████   \u001b[0m| 175/250 [18:53:23<8:26:42, 405.37s/it]"
     ]
    },
    {
     "name": "stdout",
     "output_type": "stream",
     "text": [
      "{'Epoch': 175, 'Train Loss': 0.03049749100027593, 'Train Accuracy': 0.989351403678606, 'Val Loss': 0.5765481488508297, 'Val Accuracy': 0.902321083172147, 'Val Precision': 0.9076729749432253, 'Val Recall': 0.902321083172147}\n"
     ]
    },
    {
     "name": "stderr",
     "output_type": "stream",
     "text": [
      "Epoch(s):  70%|\u001b[31m███████   \u001b[0m| 176/250 [19:00:11<8:20:55, 406.16s/it]"
     ]
    },
    {
     "name": "stdout",
     "output_type": "stream",
     "text": [
      "{'Epoch': 176, 'Train Loss': 0.03535283522218945, 'Train Accuracy': 0.9891093901258471, 'Val Loss': 0.5626723187320731, 'Val Accuracy': 0.902321083172147, 'Val Precision': 0.9026324045210943, 'Val Recall': 0.902321083172147}\n",
      "{'Epoch': 177, 'Train Loss': 0.03050233716782466, 'Train Accuracy': 0.9878993223620522, 'Val Loss': 0.5038017630471586, 'Val Accuracy': 0.90715667311412, 'Val Precision': 0.9054484492862994, 'Val Recall': 0.90715667311412}\n"
     ]
    },
    {
     "name": "stderr",
     "output_type": "stream",
     "text": [
      "Epoch(s):  71%|\u001b[31m███████   \u001b[0m| 178/250 [19:13:13<7:58:09, 398.46s/it]"
     ]
    },
    {
     "name": "stdout",
     "output_type": "stream",
     "text": [
      "{'Epoch': 178, 'Train Loss': 0.035584282846091345, 'Train Accuracy': 0.9886253630203291, 'Val Loss': 0.46235787521761196, 'Val Accuracy': 0.8994197292069632, 'Val Precision': 0.9075278911742107, 'Val Recall': 0.8994197292069632}\n"
     ]
    },
    {
     "name": "stderr",
     "output_type": "stream",
     "text": [
      "Epoch(s):  72%|\u001b[31m███████▏  \u001b[0m| 179/250 [19:19:44<7:48:43, 396.11s/it]"
     ]
    },
    {
     "name": "stdout",
     "output_type": "stream",
     "text": [
      "{'Epoch': 179, 'Train Loss': 0.03675795995818361, 'Train Accuracy': 0.9866892545982575, 'Val Loss': 0.5270625057369985, 'Val Accuracy': 0.90715667311412, 'Val Precision': 0.9073705936421397, 'Val Recall': 0.90715667311412}\n"
     ]
    },
    {
     "name": "stderr",
     "output_type": "stream",
     "text": [
      "Epoch(s):  72%|\u001b[31m███████▏  \u001b[0m| 180/250 [19:26:14<7:40:06, 394.38s/it]"
     ]
    },
    {
     "name": "stdout",
     "output_type": "stream",
     "text": [
      "{'Epoch': 180, 'Train Loss': 0.024202031450950613, 'Train Accuracy': 0.9915295256534365, 'Val Loss': 0.6548878719685324, 'Val Accuracy': 0.902321083172147, 'Val Precision': 0.906997967595628, 'Val Recall': 0.902321083172147}\n",
      "{'Epoch': 181, 'Train Loss': 0.04755496083433473, 'Train Accuracy': 0.9847531461761858, 'Val Loss': 0.5618850557649798, 'Val Accuracy': 0.8955512572533849, 'Val Precision': 0.8956962816339064, 'Val Recall': 0.8955512572533849}\n"
     ]
    },
    {
     "name": "stderr",
     "output_type": "stream",
     "text": [
      "Epoch(s):  73%|\u001b[31m███████▎  \u001b[0m| 182/250 [19:39:23<7:26:49, 394.25s/it]"
     ]
    },
    {
     "name": "stdout",
     "output_type": "stream",
     "text": [
      "{'Epoch': 182, 'Train Loss': 0.02450088253715992, 'Train Accuracy': 0.9917715392061955, 'Val Loss': 0.5927184890757382, 'Val Accuracy': 0.9032882011605415, 'Val Precision': 0.9056246570479268, 'Val Recall': 0.9032882011605415}\n"
     ]
    },
    {
     "name": "stderr",
     "output_type": "stream",
     "text": [
      "Epoch(s):  73%|\u001b[31m███████▎  \u001b[0m| 183/250 [19:45:53<7:18:56, 393.08s/it]"
     ]
    },
    {
     "name": "stdout",
     "output_type": "stream",
     "text": [
      "{'Epoch': 183, 'Train Loss': 0.02620645582814507, 'Train Accuracy': 0.9905614714424008, 'Val Loss': 0.5530700073518031, 'Val Accuracy': 0.9119922630560928, 'Val Precision': 0.9121148767122471, 'Val Recall': 0.9119922630560928}\n",
      "{'Epoch': 184, 'Train Loss': 0.01648481100490079, 'Train Accuracy': 0.9941916747337851, 'Val Loss': 0.5852308468989175, 'Val Accuracy': 0.9187620889748549, 'Val Precision': 0.9207130186737229, 'Val Recall': 0.9187620889748549}\n"
     ]
    },
    {
     "name": "stderr",
     "output_type": "stream",
     "text": [
      "Epoch(s):  74%|\u001b[31m███████▍  \u001b[0m| 185/250 [19:58:54<7:04:19, 391.68s/it]"
     ]
    },
    {
     "name": "stdout",
     "output_type": "stream",
     "text": [
      "{'Epoch': 185, 'Train Loss': 0.0879085407503921, 'Train Accuracy': 0.9697483059051307, 'Val Loss': 0.3999103970638736, 'Val Accuracy': 0.9081237911025145, 'Val Precision': 0.905738882626776, 'Val Recall': 0.9081237911025145}\n"
     ]
    },
    {
     "name": "stderr",
     "output_type": "stream",
     "text": [
      "Epoch(s):  74%|\u001b[31m███████▍  \u001b[0m| 186/250 [20:05:28<6:58:41, 392.52s/it]"
     ]
    },
    {
     "name": "stdout",
     "output_type": "stream",
     "text": [
      "{'Epoch': 186, 'Train Loss': 0.030963797900205682, 'Train Accuracy': 0.9900774443368828, 'Val Loss': 0.48730289087657447, 'Val Accuracy': 0.9148936170212766, 'Val Precision': 0.9147153627752272, 'Val Recall': 0.9148936170212766}\n"
     ]
    },
    {
     "name": "stderr",
     "output_type": "stream",
     "text": [
      "Epoch(s):  75%|\u001b[31m███████▍  \u001b[0m| 187/250 [20:12:09<6:54:41, 394.94s/it]"
     ]
    },
    {
     "name": "stdout",
     "output_type": "stream",
     "text": [
      "{'Epoch': 187, 'Train Loss': 0.037891784873244336, 'Train Accuracy': 0.9878993223620522, 'Val Loss': 0.47161150821215975, 'Val Accuracy': 0.9110251450676983, 'Val Precision': 0.9140325552759369, 'Val Recall': 0.9110251450676983}\n",
      "{'Epoch': 188, 'Train Loss': 0.03138300101228867, 'Train Accuracy': 0.9927395934172314, 'Val Loss': 0.46564744806539515, 'Val Accuracy': 0.9129593810444874, 'Val Precision': 0.9172561867779007, 'Val Recall': 0.9129593810444874}\n"
     ]
    },
    {
     "name": "stderr",
     "output_type": "stream",
     "text": [
      "Epoch(s):  76%|\u001b[31m███████▌  \u001b[0m| 189/250 [20:25:10<6:39:14, 392.70s/it]"
     ]
    },
    {
     "name": "stdout",
     "output_type": "stream",
     "text": [
      "{'Epoch': 189, 'Train Loss': 0.02697110014738642, 'Train Accuracy': 0.989835430784124, 'Val Loss': 0.5970928843882732, 'Val Accuracy': 0.9081237911025145, 'Val Precision': 0.9065971823463677, 'Val Recall': 0.9081237911025145}\n"
     ]
    },
    {
     "name": "stderr",
     "output_type": "stream",
     "text": [
      "Epoch(s):  76%|\u001b[31m███████▌  \u001b[0m| 190/250 [20:31:41<6:32:15, 392.25s/it]"
     ]
    },
    {
     "name": "stdout",
     "output_type": "stream",
     "text": [
      "{'Epoch': 190, 'Train Loss': 0.035730199642801636, 'Train Accuracy': 0.9883833494675702, 'Val Loss': 0.5222400921823517, 'Val Accuracy': 0.9129593810444874, 'Val Precision': 0.9140373864991477, 'Val Recall': 0.9129593810444874}\n"
     ]
    },
    {
     "name": "stderr",
     "output_type": "stream",
     "text": [
      "Epoch(s):  76%|\u001b[31m███████▋  \u001b[0m| 191/250 [20:38:12<6:25:10, 391.70s/it]"
     ]
    },
    {
     "name": "stdout",
     "output_type": "stream",
     "text": [
      "{'Epoch': 191, 'Train Loss': 0.02970769295047725, 'Train Accuracy': 0.989593417231365, 'Val Loss': 0.529590339999651, 'Val Accuracy': 0.9148936170212766, 'Val Precision': 0.9168839595122682, 'Val Recall': 0.9148936170212766}\n"
     ]
    },
    {
     "name": "stderr",
     "output_type": "stream",
     "text": [
      "Epoch(s):  77%|\u001b[31m███████▋  \u001b[0m| 192/250 [20:44:51<6:20:52, 394.00s/it]"
     ]
    },
    {
     "name": "stdout",
     "output_type": "stream",
     "text": [
      "{'Epoch': 192, 'Train Loss': 0.01838821000630659, 'Train Accuracy': 0.9934656340755083, 'Val Loss': 0.6222772776041455, 'Val Accuracy': 0.902321083172147, 'Val Precision': 0.9066075360937359, 'Val Recall': 0.902321083172147}\n"
     ]
    },
    {
     "name": "stderr",
     "output_type": "stream",
     "text": [
      "Epoch(s):  77%|\u001b[31m███████▋  \u001b[0m| 193/250 [20:51:34<6:16:59, 396.83s/it]"
     ]
    },
    {
     "name": "stdout",
     "output_type": "stream",
     "text": [
      "{'Epoch': 193, 'Train Loss': 0.04489029325889754, 'Train Accuracy': 0.9862052274927396, 'Val Loss': 0.5562249216709959, 'Val Accuracy': 0.9110251450676983, 'Val Precision': 0.913377030063642, 'Val Recall': 0.9110251450676983}\n"
     ]
    },
    {
     "name": "stderr",
     "output_type": "stream",
     "text": [
      "Epoch(s):  78%|\u001b[31m███████▊  \u001b[0m| 194/250 [20:58:05<6:08:45, 395.11s/it]"
     ]
    },
    {
     "name": "stdout",
     "output_type": "stream",
     "text": [
      "{'Epoch': 194, 'Train Loss': 0.012505939460775056, 'Train Accuracy': 0.9958857696030978, 'Val Loss': 0.4975103932661673, 'Val Accuracy': 0.9177949709864603, 'Val Precision': 0.9196580967895743, 'Val Recall': 0.9177949709864603}\n"
     ]
    },
    {
     "name": "stderr",
     "output_type": "stream",
     "text": [
      "Epoch(s):  78%|\u001b[31m███████▊  \u001b[0m| 195/250 [21:04:36<6:00:50, 393.65s/it]"
     ]
    },
    {
     "name": "stdout",
     "output_type": "stream",
     "text": [
      "{'Epoch': 195, 'Train Loss': 0.028775796605957013, 'Train Accuracy': 0.9903194578896418, 'Val Loss': 0.6343661559386978, 'Val Accuracy': 0.8994197292069632, 'Val Precision': 0.9055589741136785, 'Val Recall': 0.8994197292069632}\n"
     ]
    },
    {
     "name": "stderr",
     "output_type": "stream",
     "text": [
      "Epoch(s):  78%|\u001b[31m███████▊  \u001b[0m| 196/250 [21:11:06<5:53:22, 392.64s/it]"
     ]
    },
    {
     "name": "stdout",
     "output_type": "stream",
     "text": [
      "{'Epoch': 196, 'Train Loss': 0.03836875664428857, 'Train Accuracy': 0.9864472410454985, 'Val Loss': 0.5292169661020265, 'Val Accuracy': 0.902321083172147, 'Val Precision': 0.9016082209627493, 'Val Recall': 0.902321083172147}\n"
     ]
    },
    {
     "name": "stderr",
     "output_type": "stream",
     "text": [
      "Epoch(s):  79%|\u001b[31m███████▉  \u001b[0m| 197/250 [21:17:37<5:46:31, 392.29s/it]"
     ]
    },
    {
     "name": "stdout",
     "output_type": "stream",
     "text": [
      "{'Epoch': 197, 'Train Loss': 0.02754743895607275, 'Train Accuracy': 0.9900774443368828, 'Val Loss': 0.6579822229879657, 'Val Accuracy': 0.8907156673114119, 'Val Precision': 0.8933725947717583, 'Val Recall': 0.8907156673114119}\n"
     ]
    },
    {
     "name": "stderr",
     "output_type": "stream",
     "text": [
      "Epoch(s):  79%|\u001b[31m███████▉  \u001b[0m| 198/250 [21:24:20<5:42:42, 395.44s/it]"
     ]
    },
    {
     "name": "stdout",
     "output_type": "stream",
     "text": [
      "{'Epoch': 198, 'Train Loss': 0.044228455908159874, 'Train Accuracy': 0.9845111326234269, 'Val Loss': 0.5170892572434416, 'Val Accuracy': 0.9032882011605415, 'Val Precision': 0.9008204033033433, 'Val Recall': 0.9032882011605415}\n",
      "{'Epoch': 199, 'Train Loss': 0.027647537983978097, 'Train Accuracy': 0.9900774443368828, 'Val Loss': 0.5643663520440476, 'Val Accuracy': 0.8974854932301741, 'Val Precision': 0.8975432978692452, 'Val Recall': 0.8974854932301741}\n"
     ]
    },
    {
     "name": "stderr",
     "output_type": "stream",
     "text": [
      "Epoch(s):  80%|\u001b[31m████████  \u001b[0m| 200/250 [21:37:21<5:27:24, 392.90s/it]"
     ]
    },
    {
     "name": "stdout",
     "output_type": "stream",
     "text": [
      "{'Epoch': 200, 'Train Loss': 0.03211857460403359, 'Train Accuracy': 0.9881413359148112, 'Val Loss': 0.5761615870865735, 'Val Accuracy': 0.9100580270793037, 'Val Precision': 0.9129614680881261, 'Val Recall': 0.9100580270793037}\n"
     ]
    },
    {
     "name": "stderr",
     "output_type": "stream",
     "text": [
      "Epoch(s):  80%|\u001b[31m████████  \u001b[0m| 201/250 [21:43:52<5:20:22, 392.30s/it]"
     ]
    },
    {
     "name": "stdout",
     "output_type": "stream",
     "text": [
      "{'Epoch': 201, 'Train Loss': 0.02153716389462447, 'Train Accuracy': 0.9927395934172314, 'Val Loss': 0.5091790998521272, 'Val Accuracy': 0.9129593810444874, 'Val Precision': 0.9123775526321722, 'Val Recall': 0.9129593810444874}\n"
     ]
    },
    {
     "name": "stderr",
     "output_type": "stream",
     "text": [
      "Epoch(s):  81%|\u001b[31m████████  \u001b[0m| 202/250 [21:50:22<5:13:22, 391.71s/it]"
     ]
    },
    {
     "name": "stdout",
     "output_type": "stream",
     "text": [
      "{'Epoch': 202, 'Train Loss': 0.39863894442417597, 'Train Accuracy': 0.9702323330106486, 'Val Loss': 0.4439271043721909, 'Val Accuracy': 0.8762088974854932, 'Val Precision': 0.8784037307500945, 'Val Recall': 0.8762088974854932}\n"
     ]
    },
    {
     "name": "stderr",
     "output_type": "stream",
     "text": [
      "Epoch(s):  81%|\u001b[31m████████  \u001b[0m| 203/250 [21:57:04<5:09:15, 394.81s/it]"
     ]
    },
    {
     "name": "stdout",
     "output_type": "stream",
     "text": [
      "{'Epoch': 203, 'Train Loss': 0.14065224289355627, 'Train Accuracy': 0.9518393030009681, 'Val Loss': 0.41974066592699205, 'Val Accuracy': 0.8955512572533849, 'Val Precision': 0.9037302752264622, 'Val Recall': 0.8955512572533849}\n",
      "{'Epoch': 204, 'Train Loss': 0.07124162088916906, 'Train Accuracy': 0.9782187802516941, 'Val Loss': 0.498994763369578, 'Val Accuracy': 0.8994197292069632, 'Val Precision': 0.8996354845721756, 'Val Recall': 0.8994197292069632}\n"
     ]
    },
    {
     "name": "stderr",
     "output_type": "stream",
     "text": [
      "Epoch(s):  82%|\u001b[31m████████▏ \u001b[0m| 204/250 [22:03:35<5:01:36, 393.40s/it]"
     ]
    },
    {
     "name": "stdout",
     "output_type": "stream",
     "text": [
      "{'Epoch': 205, 'Train Loss': 0.04160726187971167, 'Train Accuracy': 0.9869312681510165, 'Val Loss': 0.5369694365461049, 'Val Accuracy': 0.8926499032882012, 'Val Precision': 0.8966767382822369, 'Val Recall': 0.8926499032882012}\n"
     ]
    },
    {
     "name": "stderr",
     "output_type": "stream",
     "text": [
      "Epoch(s):  82%|\u001b[31m████████▏ \u001b[0m| 206/250 [22:16:36<4:47:31, 392.09s/it]"
     ]
    },
    {
     "name": "stdout",
     "output_type": "stream",
     "text": [
      "{'Epoch': 206, 'Train Loss': 0.029775045267493645, 'Train Accuracy': 0.989351403678606, 'Val Loss': 0.5816435513378635, 'Val Accuracy': 0.8945841392649904, 'Val Precision': 0.8962398572711177, 'Val Recall': 0.8945841392649904}\n"
     ]
    },
    {
     "name": "stderr",
     "output_type": "stream",
     "text": [
      "Epoch(s):  83%|\u001b[31m████████▎ \u001b[0m| 207/250 [22:23:07<4:40:37, 391.57s/it]"
     ]
    },
    {
     "name": "stdout",
     "output_type": "stream",
     "text": [
      "{'Epoch': 207, 'Train Loss': 0.02003880635028154, 'Train Accuracy': 0.995159728944821, 'Val Loss': 0.6226609942872983, 'Val Accuracy': 0.8994197292069632, 'Val Precision': 0.8958779742985363, 'Val Recall': 0.8994197292069632}\n"
     ]
    },
    {
     "name": "stderr",
     "output_type": "stream",
     "text": [
      "Epoch(s):  83%|\u001b[31m████████▎ \u001b[0m| 208/250 [22:29:42<4:34:54, 392.72s/it]"
     ]
    },
    {
     "name": "stdout",
     "output_type": "stream",
     "text": [
      "{'Epoch': 208, 'Train Loss': 0.015383927886014627, 'Train Accuracy': 0.9954017424975798, 'Val Loss': 0.6394449164724829, 'Val Accuracy': 0.8916827852998066, 'Val Precision': 0.888596708706865, 'Val Recall': 0.8916827852998066}\n"
     ]
    },
    {
     "name": "stderr",
     "output_type": "stream",
     "text": [
      "Epoch(s):  84%|\u001b[31m████████▎ \u001b[0m| 209/250 [22:36:20<4:29:29, 394.39s/it]"
     ]
    },
    {
     "name": "stdout",
     "output_type": "stream",
     "text": [
      "{'Epoch': 209, 'Train Loss': 0.010242732536341769, 'Train Accuracy': 0.9961277831558567, 'Val Loss': 0.7213441607033487, 'Val Accuracy': 0.8965183752417795, 'Val Precision': 0.8985058678501053, 'Val Recall': 0.8965183752417795}\n"
     ]
    },
    {
     "name": "stderr",
     "output_type": "stream",
     "text": [
      "Epoch(s):  84%|\u001b[31m████████▍ \u001b[0m| 210/250 [22:42:50<4:22:04, 393.11s/it]"
     ]
    },
    {
     "name": "stdout",
     "output_type": "stream",
     "text": [
      "{'Epoch': 210, 'Train Loss': 0.011432907165768346, 'Train Accuracy': 0.9954017424975798, 'Val Loss': 0.72763485675071, 'Val Accuracy': 0.9032882011605415, 'Val Precision': 0.9032220696379353, 'Val Recall': 0.9032882011605415}\n",
      "{'Epoch': 211, 'Train Loss': 0.013535846388658403, 'Train Accuracy': 0.994675701839303, 'Val Loss': 0.7230629293764519, 'Val Accuracy': 0.902321083172147, 'Val Precision': 0.900443946875276, 'Val Recall': 0.902321083172147}\n"
     ]
    },
    {
     "name": "stderr",
     "output_type": "stream",
     "text": [
      "Epoch(s):  85%|\u001b[31m████████▍ \u001b[0m| 212/250 [22:55:51<4:08:03, 391.68s/it]"
     ]
    },
    {
     "name": "stdout",
     "output_type": "stream",
     "text": [
      "{'Epoch': 212, 'Train Loss': 0.011022819138837923, 'Train Accuracy': 0.9954017424975798, 'Val Loss': 0.7327294577356113, 'Val Accuracy': 0.8878143133462283, 'Val Precision': 0.8859840337142075, 'Val Recall': 0.8878143133462283}\n"
     ]
    },
    {
     "name": "stderr",
     "output_type": "stream",
     "text": [
      "Epoch(s):  85%|\u001b[31m████████▌ \u001b[0m| 213/250 [23:02:22<4:01:25, 391.50s/it]"
     ]
    },
    {
     "name": "stdout",
     "output_type": "stream",
     "text": [
      "{'Epoch': 213, 'Train Loss': 0.018635916511368183, 'Train Accuracy': 0.9937076476282671, 'Val Loss': 0.7301173508831897, 'Val Accuracy': 0.8994197292069632, 'Val Precision': 0.8957741373068543, 'Val Recall': 0.8994197292069632}\n"
     ]
    },
    {
     "name": "stderr",
     "output_type": "stream",
     "text": [
      "Epoch(s):  86%|\u001b[31m████████▌ \u001b[0m| 214/250 [23:09:04<3:56:48, 394.69s/it]"
     ]
    },
    {
     "name": "stdout",
     "output_type": "stream",
     "text": [
      "{'Epoch': 214, 'Train Loss': 0.014704312055774823, 'Train Accuracy': 0.9954017424975798, 'Val Loss': 0.7434877622132735, 'Val Accuracy': 0.8984526112185687, 'Val Precision': 0.8963342013697171, 'Val Recall': 0.8984526112185687}\n"
     ]
    },
    {
     "name": "stderr",
     "output_type": "stream",
     "text": [
      "Epoch(s):  86%|\u001b[31m████████▌ \u001b[0m| 215/250 [23:15:34<3:49:26, 393.34s/it]"
     ]
    },
    {
     "name": "stdout",
     "output_type": "stream",
     "text": [
      "{'Epoch': 215, 'Train Loss': 0.01442551608393661, 'Train Accuracy': 0.994433688286544, 'Val Loss': 0.7721653127365139, 'Val Accuracy': 0.8926499032882012, 'Val Precision': 0.8927476545570839, 'Val Recall': 0.8926499032882012}\n",
      "{'Epoch': 216, 'Train Loss': 0.01139776725385822, 'Train Accuracy': 0.9958857696030978, 'Val Loss': 0.7373646737223768, 'Val Accuracy': 0.9052224371373307, 'Val Precision': 0.9043406548872555, 'Val Recall': 0.9052224371373307}\n"
     ]
    },
    {
     "name": "stderr",
     "output_type": "stream",
     "text": [
      "Epoch(s):  87%|\u001b[31m████████▋ \u001b[0m| 217/250 [23:28:36<3:35:39, 392.11s/it]"
     ]
    },
    {
     "name": "stdout",
     "output_type": "stream",
     "text": [
      "{'Epoch': 217, 'Train Loss': 0.013680594597622152, 'Train Accuracy': 0.994917715392062, 'Val Loss': 0.6950742323015114, 'Val Accuracy': 0.9013539651837524, 'Val Precision': 0.8993212626793372, 'Val Recall': 0.9013539651837524}\n",
      "{'Epoch': 218, 'Train Loss': 0.009849306001588731, 'Train Accuracy': 0.9954017424975798, 'Val Loss': 0.7467451736339241, 'Val Accuracy': 0.9032882011605415, 'Val Precision': 0.9033367701319284, 'Val Recall': 0.9032882011605415}\n"
     ]
    },
    {
     "name": "stderr",
     "output_type": "stream",
     "text": [
      "Epoch(s):  87%|\u001b[31m████████▋ \u001b[0m| 218/250 [23:35:07<3:28:50, 391.58s/it]"
     ]
    },
    {
     "name": "stdout",
     "output_type": "stream",
     "text": [
      "{'Epoch': 219, 'Train Loss': 0.008286503730242338, 'Train Accuracy': 0.9968538238141336, 'Val Loss': 0.7897342074824746, 'Val Accuracy': 0.9003868471953579, 'Val Precision': 0.8979942518189094, 'Val Recall': 0.9003868471953579}\n"
     ]
    },
    {
     "name": "stderr",
     "output_type": "stream",
     "text": [
      "Epoch(s):  88%|\u001b[31m████████▊ \u001b[0m| 220/250 [23:48:23<3:17:34, 395.15s/it]"
     ]
    },
    {
     "name": "stdout",
     "output_type": "stream",
     "text": [
      "{'Epoch': 220, 'Train Loss': 0.008189672170367914, 'Train Accuracy': 0.9956437560503388, 'Val Loss': 0.8051923205651823, 'Val Accuracy': 0.902321083172147, 'Val Precision': 0.9046603218522408, 'Val Recall': 0.902321083172147}\n"
     ]
    },
    {
     "name": "stderr",
     "output_type": "stream",
     "text": [
      "Epoch(s):  88%|\u001b[31m████████▊ \u001b[0m| 221/250 [23:54:54<3:10:21, 393.84s/it]"
     ]
    },
    {
     "name": "stdout",
     "output_type": "stream",
     "text": [
      "{'Epoch': 221, 'Train Loss': 0.009588147754562865, 'Train Accuracy': 0.9954017424975798, 'Val Loss': 0.8170690507832756, 'Val Accuracy': 0.8955512572533849, 'Val Precision': 0.9026659066955992, 'Val Recall': 0.8955512572533849}\n",
      "{'Epoch': 222, 'Train Loss': 0.01054148835211354, 'Train Accuracy': 0.994917715392062, 'Val Loss': 0.7569136394884879, 'Val Accuracy': 0.9052224371373307, 'Val Precision': 0.9029484582090075, 'Val Recall': 0.9052224371373307}\n"
     ]
    },
    {
     "name": "stderr",
     "output_type": "stream",
     "text": [
      "Epoch(s):  89%|\u001b[31m████████▉ \u001b[0m| 222/250 [24:01:25<3:03:22, 392.95s/it]"
     ]
    },
    {
     "name": "stdout",
     "output_type": "stream",
     "text": [
      "{'Epoch': 223, 'Train Loss': 0.008152923664501105, 'Train Accuracy': 0.9966118102613747, 'Val Loss': 0.7408865686280528, 'Val Accuracy': 0.9081237911025145, 'Val Precision': 0.9086250380110502, 'Val Recall': 0.9081237911025145}\n"
     ]
    },
    {
     "name": "stderr",
     "output_type": "stream",
     "text": [
      "Epoch(s):  90%|\u001b[31m████████▉ \u001b[0m| 224/250 [24:14:26<2:49:48, 391.85s/it]"
     ]
    },
    {
     "name": "stdout",
     "output_type": "stream",
     "text": [
      "{'Epoch': 224, 'Train Loss': 0.026102631917137006, 'Train Accuracy': 0.9908034849951597, 'Val Loss': 0.7223902341840742, 'Val Accuracy': 0.8984526112185687, 'Val Precision': 0.8945498010013281, 'Val Recall': 0.8984526112185687}\n",
      "{'Epoch': 225, 'Train Loss': 0.020580868405715387, 'Train Accuracy': 0.9924975798644724, 'Val Loss': 0.6921212273036205, 'Val Accuracy': 0.9052224371373307, 'Val Precision': 0.9043963696123989, 'Val Recall': 0.9052224371373307}\n"
     ]
    },
    {
     "name": "stderr",
     "output_type": "stream",
     "text": [
      "Epoch(s):  90%|\u001b[31m█████████ \u001b[0m| 226/250 [24:27:43<2:37:49, 394.55s/it]"
     ]
    },
    {
     "name": "stdout",
     "output_type": "stream",
     "text": [
      "{'Epoch': 226, 'Train Loss': 0.009564141598532992, 'Train Accuracy': 0.9961277831558567, 'Val Loss': 0.7626359005279657, 'Val Accuracy': 0.902321083172147, 'Val Precision': 0.9005019096260075, 'Val Recall': 0.902321083172147}\n",
      "{'Epoch': 227, 'Train Loss': 0.014862633071333703, 'Train Accuracy': 0.994917715392062, 'Val Loss': 0.6323250249316232, 'Val Accuracy': 0.90715667311412, 'Val Precision': 0.9051804514369294, 'Val Recall': 0.90715667311412}\n"
     ]
    },
    {
     "name": "stderr",
     "output_type": "stream",
     "text": [
      "Epoch(s):  91%|\u001b[31m█████████ \u001b[0m| 228/250 [24:40:46<2:24:09, 393.15s/it]"
     ]
    },
    {
     "name": "stdout",
     "output_type": "stream",
     "text": [
      "{'Epoch': 228, 'Train Loss': 0.0070904069403929714, 'Train Accuracy': 0.9963697967086157, 'Val Loss': 0.6558829856670679, 'Val Accuracy': 0.9110251450676983, 'Val Precision': 0.9090117026791973, 'Val Recall': 0.9110251450676983}\n",
      "{'Epoch': 229, 'Train Loss': 0.0065518421122590645, 'Train Accuracy': 0.9968538238141336, 'Val Loss': 0.7459908766904111, 'Val Accuracy': 0.9081237911025145, 'Val Precision': 0.9069652444292494, 'Val Recall': 0.9081237911025145}\n"
     ]
    },
    {
     "name": "stderr",
     "output_type": "stream",
     "text": [
      "Epoch(s):  92%|\u001b[31m█████████▏\u001b[0m| 230/250 [24:53:51<2:10:58, 392.94s/it]"
     ]
    },
    {
     "name": "stdout",
     "output_type": "stream",
     "text": [
      "{'Epoch': 230, 'Train Loss': 0.006615166353327046, 'Train Accuracy': 0.9966118102613747, 'Val Loss': 0.7968309640949122, 'Val Accuracy': 0.9090909090909091, 'Val Precision': 0.9104768443794865, 'Val Recall': 0.9090909090909091}\n"
     ]
    },
    {
     "name": "stderr",
     "output_type": "stream",
     "text": [
      "Epoch(s):  92%|\u001b[31m█████████▏\u001b[0m| 231/250 [25:00:32<2:05:14, 395.51s/it]"
     ]
    },
    {
     "name": "stdout",
     "output_type": "stream",
     "text": [
      "{'Epoch': 231, 'Train Loss': 0.010999260805715482, 'Train Accuracy': 0.9961277831558567, 'Val Loss': 0.648492847060487, 'Val Accuracy': 0.9110251450676983, 'Val Precision': 0.9089130004508537, 'Val Recall': 0.9110251450676983}\n"
     ]
    },
    {
     "name": "stderr",
     "output_type": "stream",
     "text": [
      "Epoch(s):  93%|\u001b[31m█████████▎\u001b[0m| 232/250 [25:07:04<1:58:16, 394.27s/it]"
     ]
    },
    {
     "name": "stdout",
     "output_type": "stream",
     "text": [
      "{'Epoch': 232, 'Train Loss': 0.02354169755752312, 'Train Accuracy': 0.9924975798644724, 'Val Loss': 0.6171395231763759, 'Val Accuracy': 0.9013539651837524, 'Val Precision': 0.9011504313091274, 'Val Recall': 0.9013539651837524}\n"
     ]
    },
    {
     "name": "stderr",
     "output_type": "stream",
     "text": [
      "Epoch(s):  93%|\u001b[31m█████████▎\u001b[0m| 233/250 [25:13:34<1:51:23, 393.14s/it]"
     ]
    },
    {
     "name": "stdout",
     "output_type": "stream",
     "text": [
      "{'Epoch': 233, 'Train Loss': 0.012260804763932825, 'Train Accuracy': 0.994675701839303, 'Val Loss': 0.6934957017210404, 'Val Accuracy': 0.9168278529980658, 'Val Precision': 0.9188555756808638, 'Val Recall': 0.9168278529980658}\n"
     ]
    },
    {
     "name": "stderr",
     "output_type": "stream",
     "text": [
      "Epoch(s):  94%|\u001b[31m█████████▎\u001b[0m| 234/250 [25:20:05<1:44:37, 392.36s/it]"
     ]
    },
    {
     "name": "stdout",
     "output_type": "stream",
     "text": [
      "{'Epoch': 234, 'Train Loss': 0.01922959096992739, 'Train Accuracy': 0.9927395934172314, 'Val Loss': 0.7101364033814137, 'Val Accuracy': 0.9061895551257253, 'Val Precision': 0.9121357836203977, 'Val Recall': 0.9061895551257253}\n"
     ]
    },
    {
     "name": "stderr",
     "output_type": "stream",
     "text": [
      "Epoch(s):  94%|\u001b[31m█████████▍\u001b[0m| 235/250 [25:26:35<1:37:57, 391.81s/it]"
     ]
    },
    {
     "name": "stdout",
     "output_type": "stream",
     "text": [
      "{'Epoch': 235, 'Train Loss': 0.019780678033259363, 'Train Accuracy': 0.9922555663117134, 'Val Loss': 0.6107920808076379, 'Val Accuracy': 0.9100580270793037, 'Val Precision': 0.9113272662848678, 'Val Recall': 0.9100580270793037}\n"
     ]
    },
    {
     "name": "stderr",
     "output_type": "stream",
     "text": [
      "Epoch(s):  94%|\u001b[31m█████████▍\u001b[0m| 236/250 [25:33:17<1:32:05, 394.67s/it]"
     ]
    },
    {
     "name": "stdout",
     "output_type": "stream",
     "text": [
      "{'Epoch': 236, 'Train Loss': 0.025974728037857654, 'Train Accuracy': 0.9924975798644724, 'Val Loss': 0.5825159484654626, 'Val Accuracy': 0.902321083172147, 'Val Precision': 0.912277802655471, 'Val Recall': 0.902321083172147}\n",
      "{'Epoch': 237, 'Train Loss': 0.024414174975478566, 'Train Accuracy': 0.9912875121006777, 'Val Loss': 0.45755322548808586, 'Val Accuracy': 0.9081237911025145, 'Val Precision': 0.905423917776471, 'Val Recall': 0.9081237911025145}\n"
     ]
    },
    {
     "name": "stderr",
     "output_type": "stream",
     "text": [
      "Epoch(s):  95%|\u001b[31m█████████▌\u001b[0m| 238/250 [25:46:21<1:18:39, 393.25s/it]"
     ]
    },
    {
     "name": "stdout",
     "output_type": "stream",
     "text": [
      "{'Epoch': 238, 'Train Loss': 0.008582693178118593, 'Train Accuracy': 0.9966118102613747, 'Val Loss': 0.5061221014542677, 'Val Accuracy': 0.9168278529980658, 'Val Precision': 0.9165574580320531, 'Val Recall': 0.9168278529980658}\n"
     ]
    },
    {
     "name": "stderr",
     "output_type": "stream",
     "text": [
      "Epoch(s):  96%|\u001b[31m█████████▌\u001b[0m| 239/250 [25:52:51<1:11:56, 392.41s/it]"
     ]
    },
    {
     "name": "stdout",
     "output_type": "stream",
     "text": [
      "{'Epoch': 239, 'Train Loss': 0.007538454329367243, 'Train Accuracy': 0.9966118102613747, 'Val Loss': 0.582242522446021, 'Val Accuracy': 0.9187620889748549, 'Val Precision': 0.9211863610246296, 'Val Recall': 0.9187620889748549}\n"
     ]
    },
    {
     "name": "stderr",
     "output_type": "stream",
     "text": [
      "Epoch(s):  96%|\u001b[31m█████████▌\u001b[0m| 240/250 [25:59:23<1:05:21, 392.12s/it]"
     ]
    },
    {
     "name": "stdout",
     "output_type": "stream",
     "text": [
      "{'Epoch': 240, 'Train Loss': 0.007758347362691647, 'Train Accuracy': 0.9958857696030978, 'Val Loss': 0.5972895513518254, 'Val Accuracy': 0.9148936170212766, 'Val Precision': 0.917774385430542, 'Val Recall': 0.9148936170212766}\n"
     ]
    },
    {
     "name": "stderr",
     "output_type": "stream",
     "text": [
      "Epoch(s):  96%|\u001b[31m█████████▋\u001b[0m| 241/250 [26:06:00<59:02, 393.60s/it]  "
     ]
    },
    {
     "name": "stdout",
     "output_type": "stream",
     "text": [
      "{'Epoch': 241, 'Train Loss': 0.007204341181957174, 'Train Accuracy': 0.9966118102613747, 'Val Loss': 0.664800349829306, 'Val Accuracy': 0.913926499032882, 'Val Precision': 0.9138458811775255, 'Val Recall': 0.913926499032882}\n"
     ]
    },
    {
     "name": "stderr",
     "output_type": "stream",
     "text": [
      "Epoch(s):  97%|\u001b[31m█████████▋\u001b[0m| 242/250 [26:12:36<52:34, 394.32s/it]"
     ]
    },
    {
     "name": "stdout",
     "output_type": "stream",
     "text": [
      "{'Epoch': 242, 'Train Loss': 0.0066214506190338815, 'Train Accuracy': 0.9968538238141336, 'Val Loss': 0.6695486934255934, 'Val Accuracy': 0.9158607350096711, 'Val Precision': 0.91781411163978, 'Val Recall': 0.9158607350096711}\n",
      "{'Epoch': 243, 'Train Loss': 0.008202538706361423, 'Train Accuracy': 0.9966118102613747, 'Val Loss': 0.6566694865446403, 'Val Accuracy': 0.9110251450676983, 'Val Precision': 0.9106302092604677, 'Val Recall': 0.9110251450676983}\n"
     ]
    },
    {
     "name": "stderr",
     "output_type": "stream",
     "text": [
      "Epoch(s):  98%|\u001b[31m█████████▊\u001b[0m| 244/250 [26:25:38<39:15, 392.63s/it]"
     ]
    },
    {
     "name": "stdout",
     "output_type": "stream",
     "text": [
      "{'Epoch': 244, 'Train Loss': 0.06699750340747765, 'Train Accuracy': 0.9808809293320426, 'Val Loss': 0.5222005117206838, 'Val Accuracy': 0.8868471953578336, 'Val Precision': 0.9091305155168877, 'Val Recall': 0.8868471953578336}\n",
      "{'Epoch': 245, 'Train Loss': 0.04387747707040573, 'Train Accuracy': 0.9862052274927396, 'Val Loss': 0.40485882189638267, 'Val Accuracy': 0.9110251450676983, 'Val Precision': 0.912942987578456, 'Val Recall': 0.9110251450676983}\n"
     ]
    },
    {
     "name": "stderr",
     "output_type": "stream",
     "text": [
      "Epoch(s):  98%|\u001b[31m█████████▊\u001b[0m| 246/250 [26:38:44<26:12, 393.20s/it]"
     ]
    },
    {
     "name": "stdout",
     "output_type": "stream",
     "text": [
      "{'Epoch': 246, 'Train Loss': 0.010438543121481444, 'Train Accuracy': 0.9954017424975798, 'Val Loss': 0.5398049701164872, 'Val Accuracy': 0.90715667311412, 'Val Precision': 0.9138356479969698, 'Val Recall': 0.90715667311412}\n"
     ]
    },
    {
     "name": "stderr",
     "output_type": "stream",
     "text": [
      "Epoch(s):  99%|\u001b[31m█████████▉\u001b[0m| 247/250 [26:45:23<19:44, 394.75s/it]"
     ]
    },
    {
     "name": "stdout",
     "output_type": "stream",
     "text": [
      "{'Epoch': 247, 'Train Loss': 0.02511021502775695, 'Train Accuracy': 0.9915295256534365, 'Val Loss': 0.4767818319354914, 'Val Accuracy': 0.9032882011605415, 'Val Precision': 0.9106592752200899, 'Val Recall': 0.9032882011605415}\n"
     ]
    },
    {
     "name": "stderr",
     "output_type": "stream",
     "text": [
      "Epoch(s):  99%|\u001b[31m█████████▉\u001b[0m| 248/250 [26:51:54<13:07, 393.68s/it]"
     ]
    },
    {
     "name": "stdout",
     "output_type": "stream",
     "text": [
      "{'Epoch': 248, 'Train Loss': 0.018298539697210323, 'Train Accuracy': 0.9937076476282671, 'Val Loss': 0.6309157344316303, 'Val Accuracy': 0.9129593810444874, 'Val Precision': 0.9137478937019556, 'Val Recall': 0.9129593810444874}\n"
     ]
    },
    {
     "name": "stderr",
     "output_type": "stream",
     "text": [
      "Epoch(s): 100%|\u001b[31m█████████▉\u001b[0m| 249/250 [26:58:24<06:32, 392.65s/it]"
     ]
    },
    {
     "name": "stdout",
     "output_type": "stream",
     "text": [
      "{'Epoch': 249, 'Train Loss': 0.027299026690572253, 'Train Accuracy': 0.9886253630203291, 'Val Loss': 0.5058187169376849, 'Val Accuracy': 0.9061895551257253, 'Val Precision': 0.9086248233204605, 'Val Recall': 0.9061895551257253}\n"
     ]
    },
    {
     "name": "stderr",
     "output_type": "stream",
     "text": [
      "Epoch(s): 100%|\u001b[31m██████████\u001b[0m| 250/250 [27:04:55<00:00, 389.98s/it]"
     ]
    },
    {
     "name": "stdout",
     "output_type": "stream",
     "text": [
      "{'Epoch': 250, 'Train Loss': 0.01431458005974548, 'Train Accuracy': 0.9956437560503388, 'Val Loss': 0.6065659302950933, 'Val Accuracy': 0.9119922630560928, 'Val Precision': 0.9108098753767224, 'Val Recall': 0.9119922630560928}\n"
     ]
    },
    {
     "name": "stderr",
     "output_type": "stream",
     "text": [
      "\n"
     ]
    }
   ],
   "source": [
    "for epoch in tqdm.trange(epochs, colour = \"red\", desc = \"Epoch(s)\"):\n",
    "  train_loss, train_acc = train(model, optimizer, criterion, trainDataloader)\n",
    "  val_loss, val_acc, val_precision, val_recall = validate(model, criterion, valDataloader)\n",
    "  dataDict = {\n",
    "    \"Epoch\": epoch+1,\n",
    "    \"Train Loss\": train_loss,\n",
    "    \"Train Accuracy\": train_acc,\n",
    "    \"Val Loss\": val_loss,\n",
    "    \"Val Accuracy\": val_acc,\n",
    "    \"Val Precision\": val_precision,\n",
    "    \"Val Recall\": val_recall\n",
    "    }\n",
    "  print(dataDict)\n",
    "  wandb.log(dataDict)\n",
    "  model.save_pretrained(\"tunedModels/trainedMobileBERT - Epoch {}\".format(epoch))"
   ]
  },
  {
   "cell_type": "code",
   "execution_count": 24,
   "metadata": {},
   "outputs": [],
   "source": [
    "model.save_pretrained(\"trainedMobileBERT\")"
   ]
  },
  {
   "cell_type": "code",
   "execution_count": null,
   "metadata": {},
   "outputs": [],
   "source": []
  }
 ],
 "metadata": {
  "kernelspec": {
   "display_name": "Python 3",
   "language": "python",
   "name": "python3"
  },
  "language_info": {
   "codemirror_mode": {
    "name": "ipython",
    "version": 3
   },
   "file_extension": ".py",
   "mimetype": "text/x-python",
   "name": "python",
   "nbconvert_exporter": "python",
   "pygments_lexer": "ipython3",
   "version": "3.9.13"
  }
 },
 "nbformat": 4,
 "nbformat_minor": 2
}
